{
    "metadata": {
        "kernelspec": {
            "name": "SQL",
            "display_name": "SQL",
            "language": "sql"
        },
        "language_info": {
            "name": "sql",
            "version": ""
        }
    },
    "nbformat_minor": 2,
    "nbformat": 4,
    "cells": [
        {
            "cell_type": "markdown",
            "source": [
                "# E-Commerce Logs Analysis"
            ],
            "metadata": {
                "azdata_cell_guid": "cce7de79-78e6-448d-b88a-861d37ad7a44"
            },
            "attachments": {}
        },
        {
            "cell_type": "markdown",
            "source": [
                "## Project Objective\n",
                "\n",
                "The objective of this project is to analyze the website logs from an e-commerce store to obtain useful insight into customer behaviour.\n",
                "\n",
                "## Data Source\n",
                "\n",
                "The dataset was obtained here: https://www.kaggle.com/datasets/kzmontage/e-commerce-website-logs and the data has an Open Database license: https://opendatacommons.org/licenses/odbl/1-0/"
            ],
            "metadata": {
                "azdata_cell_guid": "c2e6f405-dfb4-4d1c-a8fe-7148fd59953a"
            },
            "attachments": {}
        },
        {
            "cell_type": "code",
            "source": [
                "-- Specifying database\n",
                "USE EcommerceLogsDb"
            ],
            "metadata": {
                "azdata_cell_guid": "855c96a7-f115-471a-ad30-69427f6a634f",
                "language": "sql"
            },
            "outputs": [
                {
                    "output_type": "display_data",
                    "data": {
                        "text/html": "Commands completed successfully."
                    },
                    "metadata": {}
                },
                {
                    "output_type": "display_data",
                    "data": {
                        "text/html": "Total execution time: 00:00:00.026"
                    },
                    "metadata": {}
                }
            ],
            "execution_count": 1
        },
        {
            "cell_type": "code",
            "source": [
                "-- preview of table\n",
                "SELECT TOP 3*\n",
                "FROM logs;"
            ],
            "metadata": {
                "language": "sql",
                "azdata_cell_guid": "12533ff2-3c33-48d6-a287-410d9c91a3b9"
            },
            "outputs": [
                {
                    "output_type": "display_data",
                    "data": {
                        "text/html": "(3 rows affected)"
                    },
                    "metadata": {}
                },
                {
                    "output_type": "display_data",
                    "data": {
                        "text/html": "Total execution time: 00:00:00.378"
                    },
                    "metadata": {}
                },
                {
                    "output_type": "execute_result",
                    "metadata": {},
                    "execution_count": 2,
                    "data": {
                        "application/vnd.dataresource+json": {
                            "schema": {
                                "fields": [
                                    {
                                        "name": "access_date"
                                    },
                                    {
                                        "name": "duration_seconds"
                                    },
                                    {
                                        "name": "Proto"
                                    },
                                    {
                                        "name": "IP"
                                    },
                                    {
                                        "name": "Src_IP_type"
                                    },
                                    {
                                        "name": "Src_Pt"
                                    },
                                    {
                                        "name": "Bytes"
                                    },
                                    {
                                        "name": "Accessed_From"
                                    },
                                    {
                                        "name": "country"
                                    },
                                    {
                                        "name": "membership"
                                    },
                                    {
                                        "name": "Languages"
                                    },
                                    {
                                        "name": "Sales"
                                    },
                                    {
                                        "name": "Returned"
                                    },
                                    {
                                        "name": "Returned_Amount"
                                    }
                                ]
                            },
                            "data": [
                                {
                                    "access_date": "2016-11-01 09:58:00.0000000",
                                    "duration_seconds": "2533",
                                    "Proto": "TCP  ",
                                    "IP": "1.10.195.126",
                                    "Src_IP_type": "EXT_SERVER",
                                    "Src_Pt": "8082",
                                    "Bytes": "20100",
                                    "Accessed_From": "Chrome",
                                    "country": "Albania",
                                    "membership": "Normal",
                                    "Languages": "Albanian",
                                    "Sales": "261.96",
                                    "Returned": "No",
                                    "Returned_Amount": "0"
                                },
                                {
                                    "access_date": "2016-11-01 09:59:00.0000000",
                                    "duration_seconds": "4034",
                                    "Proto": "TCP  ",
                                    "IP": "1.1.217.211",
                                    "Src_IP_type": "OPENSTACK_NET",
                                    "Src_Pt": "56978",
                                    "Bytes": "20500",
                                    "Accessed_From": "Mozilla Firefox",
                                    "country": "Albania",
                                    "membership": "Normal",
                                    "Languages": "Albanian",
                                    "Sales": "731.94",
                                    "Returned": "No",
                                    "Returned_Amount": "0"
                                },
                                {
                                    "access_date": "2016-11-01 09:59:00.0000000",
                                    "duration_seconds": "1525",
                                    "Proto": "TCP  ",
                                    "IP": "1.115.198.107",
                                    "Src_IP_type": "EXT_SERVER",
                                    "Src_Pt": "8082",
                                    "Bytes": "90100",
                                    "Accessed_From": "Mozilla Firefox",
                                    "country": "Albania",
                                    "membership": "Normal",
                                    "Languages": "Albanian",
                                    "Sales": "14.62",
                                    "Returned": "No",
                                    "Returned_Amount": "0"
                                }
                            ]
                        },
                        "text/html": [
                            "<table>",
                            "<tr><th>access_date</th><th>duration_seconds</th><th>Proto</th><th>IP</th><th>Src_IP_type</th><th>Src_Pt</th><th>Bytes</th><th>Accessed_From</th><th>country</th><th>membership</th><th>Languages</th><th>Sales</th><th>Returned</th><th>Returned_Amount</th></tr>",
                            "<tr><td>2016-11-01 09:58:00.0000000</td><td>2533</td><td>TCP  </td><td>1.10.195.126</td><td>EXT_SERVER</td><td>8082</td><td>20100</td><td>Chrome</td><td>Albania</td><td>Normal</td><td>Albanian</td><td>261.96</td><td>No</td><td>0</td></tr>",
                            "<tr><td>2016-11-01 09:59:00.0000000</td><td>4034</td><td>TCP  </td><td>1.1.217.211</td><td>OPENSTACK_NET</td><td>56978</td><td>20500</td><td>Mozilla Firefox</td><td>Albania</td><td>Normal</td><td>Albanian</td><td>731.94</td><td>No</td><td>0</td></tr>",
                            "<tr><td>2016-11-01 09:59:00.0000000</td><td>1525</td><td>TCP  </td><td>1.115.198.107</td><td>EXT_SERVER</td><td>8082</td><td>90100</td><td>Mozilla Firefox</td><td>Albania</td><td>Normal</td><td>Albanian</td><td>14.62</td><td>No</td><td>0</td></tr>",
                            "</table>"
                        ]
                    }
                }
            ],
            "execution_count": 2
        },
        {
            "cell_type": "code",
            "source": [
                "-- Which country had the most sales (transactions) and sales ($ amount)?\n",
                "-- showing country rankings for both metrics using window functions\n",
                "SELECT country, \n",
                "    COUNT(*) AS sales_transaction, \n",
                "    DENSE_RANK() OVER(ORDER BY COUNT(*) DESC) AS sales_transaction_rank, \n",
                "    SUM(Sales) AS sales_$, \n",
                "    DENSE_RANK() OVER(ORDER BY SUM(Sales) DESC) AS sales_$_rank\n",
                "FROM logs\n",
                "GROUP BY country\n",
                "ORDER BY sales_$ DESC;"
            ],
            "metadata": {
                "language": "sql",
                "azdata_cell_guid": "619e9d8e-003e-48b9-9125-4614f279352d",
                "tags": []
            },
            "outputs": [
                {
                    "output_type": "display_data",
                    "data": {
                        "text/html": "(102 rows affected)"
                    },
                    "metadata": {}
                },
                {
                    "output_type": "display_data",
                    "data": {
                        "text/html": "Total execution time: 00:00:02.309"
                    },
                    "metadata": {}
                },
                {
                    "output_type": "execute_result",
                    "metadata": {},
                    "execution_count": 3,
                    "data": {
                        "application/vnd.dataresource+json": {
                            "schema": {
                                "fields": [
                                    {
                                        "name": "country"
                                    },
                                    {
                                        "name": "sales_transaction"
                                    },
                                    {
                                        "name": "sales_transaction_rank"
                                    },
                                    {
                                        "name": "sales_$"
                                    },
                                    {
                                        "name": "sales_$_rank"
                                    }
                                ]
                            },
                            "data": [
                                {
                                    "country": "Austria",
                                    "sales_transaction": "2674",
                                    "sales_transaction_rank": "1",
                                    "sales_$": "1296463.3414999906",
                                    "sales_$_rank": "1"
                                },
                                {
                                    "country": "Belgium",
                                    "sales_transaction": "2604",
                                    "sales_transaction_rank": "2",
                                    "sales_$": "1154321.3705999977",
                                    "sales_$_rank": "2"
                                },
                                {
                                    "country": "Argentina",
                                    "sales_transaction": "2603",
                                    "sales_transaction_rank": "3",
                                    "sales_$": "1140238.6927999987",
                                    "sales_$_rank": "3"
                                },
                                {
                                    "country": "Australia",
                                    "sales_transaction": "2520",
                                    "sales_transaction_rank": "4",
                                    "sales_$": "1139576.1649999968",
                                    "sales_$_rank": "4"
                                },
                                {
                                    "country": "United States",
                                    "sales_transaction": "2231",
                                    "sales_transaction_rank": "12",
                                    "sales_$": "1132496.3800000001",
                                    "sales_$_rank": "5"
                                },
                                {
                                    "country": "Brazil",
                                    "sales_transaction": "2604",
                                    "sales_transaction_rank": "2",
                                    "sales_$": "1129919.2000999975",
                                    "sales_$_rank": "6"
                                },
                                {
                                    "country": "Norway",
                                    "sales_transaction": "2160",
                                    "sales_transaction_rank": "13",
                                    "sales_$": "1129793.889999999",
                                    "sales_$_rank": "7"
                                },
                                {
                                    "country": "Netherlands",
                                    "sales_transaction": "2292",
                                    "sales_transaction_rank": "8",
                                    "sales_$": "1106623.810000002",
                                    "sales_$_rank": "8"
                                },
                                {
                                    "country": "Spain",
                                    "sales_transaction": "2232",
                                    "sales_transaction_rank": "11",
                                    "sales_$": "1102578.460000004",
                                    "sales_$_rank": "9"
                                },
                                {
                                    "country": "Puerto Rico",
                                    "sales_transaction": "2232",
                                    "sales_transaction_rank": "11",
                                    "sales_$": "1089656.3800000006",
                                    "sales_$_rank": "10"
                                },
                                {
                                    "country": "Canada",
                                    "sales_transaction": "2436",
                                    "sales_transaction_rank": "6",
                                    "sales_$": "1078310.4730000005",
                                    "sales_$_rank": "11"
                                },
                                {
                                    "country": "United Kingdom",
                                    "sales_transaction": "2232",
                                    "sales_transaction_rank": "11",
                                    "sales_$": "1069649.1000000013",
                                    "sales_$_rank": "12"
                                },
                                {
                                    "country": "Bulgaria",
                                    "sales_transaction": "2520",
                                    "sales_transaction_rank": "4",
                                    "sales_$": "1068255.9588000018",
                                    "sales_$_rank": "13"
                                },
                                {
                                    "country": "Republic of Korea",
                                    "sales_transaction": "2232",
                                    "sales_transaction_rank": "11",
                                    "sales_$": "1063598.8800000008",
                                    "sales_$_rank": "14"
                                },
                                {
                                    "country": "Singapore",
                                    "sales_transaction": "2232",
                                    "sales_transaction_rank": "11",
                                    "sales_$": "1062442.5199999993",
                                    "sales_$_rank": "15"
                                },
                                {
                                    "country": "Suriname",
                                    "sales_transaction": "2016",
                                    "sales_transaction_rank": "18",
                                    "sales_$": "1037655.410000003",
                                    "sales_$_rank": "16"
                                },
                                {
                                    "country": "Mexico",
                                    "sales_transaction": "2232",
                                    "sales_transaction_rank": "11",
                                    "sales_$": "1034845.1700000012",
                                    "sales_$_rank": "17"
                                },
                                {
                                    "country": "Turkmenistan",
                                    "sales_transaction": "2088",
                                    "sales_transaction_rank": "16",
                                    "sales_$": "1032696.5800000039",
                                    "sales_$_rank": "18"
                                },
                                {
                                    "country": "Belize",
                                    "sales_transaction": "2352",
                                    "sales_transaction_rank": "7",
                                    "sales_$": "1009231.1078000019",
                                    "sales_$_rank": "19"
                                },
                                {
                                    "country": "Sweden",
                                    "sales_transaction": "2148",
                                    "sales_transaction_rank": "14",
                                    "sales_$": "1006956.3000000026",
                                    "sales_$_rank": "20"
                                },
                                {
                                    "country": "Chile",
                                    "sales_transaction": "2604",
                                    "sales_transaction_rank": "2",
                                    "sales_$": "998301.8032000033",
                                    "sales_$_rank": "21"
                                },
                                {
                                    "country": "Russian Federation",
                                    "sales_transaction": "1944",
                                    "sales_transaction_rank": "20",
                                    "sales_$": "989007.5500000018",
                                    "sales_$_rank": "22"
                                },
                                {
                                    "country": "Thailand",
                                    "sales_transaction": "2004",
                                    "sales_transaction_rank": "19",
                                    "sales_$": "984841.0600000018",
                                    "sales_$_rank": "23"
                                },
                                {
                                    "country": "Portugal",
                                    "sales_transaction": "1944",
                                    "sales_transaction_rank": "20",
                                    "sales_$": "955279.5800000016",
                                    "sales_$_rank": "24"
                                },
                                {
                                    "country": "Saint Lucia",
                                    "sales_transaction": "2016",
                                    "sales_transaction_rank": "18",
                                    "sales_$": "953605.8500000038",
                                    "sales_$_rank": "25"
                                },
                                {
                                    "country": "Mauritius",
                                    "sales_transaction": "2292",
                                    "sales_transaction_rank": "8",
                                    "sales_$": "951543.6300000029",
                                    "sales_$_rank": "26"
                                },
                                {
                                    "country": "Trinidad and Tobago",
                                    "sales_transaction": "1944",
                                    "sales_transaction_rank": "20",
                                    "sales_$": "940220.2900000017",
                                    "sales_$_rank": "27"
                                },
                                {
                                    "country": "Antigua and Barbuda",
                                    "sales_transaction": "2268",
                                    "sales_transaction_rank": "9",
                                    "sales_$": "937031.6729000005",
                                    "sales_$_rank": "28"
                                },
                                {
                                    "country": "Romania",
                                    "sales_transaction": "2004",
                                    "sales_transaction_rank": "19",
                                    "sales_$": "933676.0400000019",
                                    "sales_$_rank": "29"
                                },
                                {
                                    "country": "Armenia",
                                    "sales_transaction": "2086",
                                    "sales_transaction_rank": "17",
                                    "sales_$": "918236.707500002",
                                    "sales_$_rank": "30"
                                },
                                {
                                    "country": "Barbados",
                                    "sales_transaction": "2099",
                                    "sales_transaction_rank": "15",
                                    "sales_$": "914011.7824000027",
                                    "sales_$_rank": "31"
                                },
                                {
                                    "country": "Uruguay",
                                    "sales_transaction": "2016",
                                    "sales_transaction_rank": "18",
                                    "sales_$": "898636.5600000003",
                                    "sales_$_rank": "32"
                                },
                                {
                                    "country": "New Zealand",
                                    "sales_transaction": "2088",
                                    "sales_transaction_rank": "16",
                                    "sales_$": "897640.3300000007",
                                    "sales_$_rank": "33"
                                },
                                {
                                    "country": "Paraguay",
                                    "sales_transaction": "1944",
                                    "sales_transaction_rank": "20",
                                    "sales_$": "887757.4500000015",
                                    "sales_$_rank": "34"
                                },
                                {
                                    "country": "Luxembourg",
                                    "sales_transaction": "2232",
                                    "sales_transaction_rank": "11",
                                    "sales_$": "869798.3930000014",
                                    "sales_$_rank": "35"
                                },
                                {
                                    "country": "Ukraine",
                                    "sales_transaction": "2016",
                                    "sales_transaction_rank": "18",
                                    "sales_$": "860557.6200000015",
                                    "sales_$_rank": "36"
                                },
                                {
                                    "country": "Bahamas",
                                    "sales_transaction": "1932",
                                    "sales_transaction_rank": "21",
                                    "sales_$": "858137.5198000026",
                                    "sales_$_rank": "37"
                                },
                                {
                                    "country": "Malta",
                                    "sales_transaction": "2232",
                                    "sales_transaction_rank": "11",
                                    "sales_$": "849198.6836000021",
                                    "sales_$_rank": "38"
                                },
                                {
                                    "country": "Panama",
                                    "sales_transaction": "1800",
                                    "sales_transaction_rank": "25",
                                    "sales_$": "827407.4100000006",
                                    "sales_$_rank": "39"
                                },
                                {
                                    "country": "Poland",
                                    "sales_transaction": "1728",
                                    "sales_transaction_rank": "29",
                                    "sales_$": "823874.8300000004",
                                    "sales_$_rank": "40"
                                },
                                {
                                    "country": "Colombia",
                                    "sales_transaction": "2514",
                                    "sales_transaction_rank": "5",
                                    "sales_$": "823458.3767000027",
                                    "sales_$_rank": "41"
                                },
                                {
                                    "country": "Albania",
                                    "sales_transaction": "1848",
                                    "sales_transaction_rank": "24",
                                    "sales_$": "816714.1692000002",
                                    "sales_$_rank": "42"
                                },
                                {
                                    "country": "Guatemala",
                                    "sales_transaction": "2160",
                                    "sales_transaction_rank": "13",
                                    "sales_$": "811037.0116000031",
                                    "sales_$_rank": "43"
                                },
                                {
                                    "country": "Bahrain",
                                    "sales_transaction": "1764",
                                    "sales_transaction_rank": "27",
                                    "sales_$": "800315.182500001",
                                    "sales_$_rank": "44"
                                },
                                {
                                    "country": "Belarus",
                                    "sales_transaction": "1763",
                                    "sales_transaction_rank": "28",
                                    "sales_$": "793122.7560000019",
                                    "sales_$_rank": "45"
                                },
                                {
                                    "country": "Saint Vincent and Grenadines",
                                    "sales_transaction": "1800",
                                    "sales_transaction_rank": "25",
                                    "sales_$": "782619.9400000017",
                                    "sales_$_rank": "46"
                                },
                                {
                                    "country": "Greece",
                                    "sales_transaction": "2232",
                                    "sales_transaction_rank": "11",
                                    "sales_$": "781112.8694000007",
                                    "sales_$_rank": "47"
                                },
                                {
                                    "country": "Slovenia",
                                    "sales_transaction": "1511",
                                    "sales_transaction_rank": "33",
                                    "sales_$": "779910.2300000001",
                                    "sales_$_rank": "48"
                                },
                                {
                                    "country": "Slovakia",
                                    "sales_transaction": "1584",
                                    "sales_transaction_rank": "30",
                                    "sales_$": "774529.1199999993",
                                    "sales_$_rank": "49"
                                },
                                {
                                    "country": "Switzerland",
                                    "sales_transaction": "1512",
                                    "sales_transaction_rank": "32",
                                    "sales_$": "711132.8300000015",
                                    "sales_$_rank": "50"
                                },
                                {
                                    "country": "Ecuador",
                                    "sales_transaction": "2232",
                                    "sales_transaction_rank": "11",
                                    "sales_$": "704434.9145000005",
                                    "sales_$_rank": "51"
                                },
                                {
                                    "country": "Uzbekistan",
                                    "sales_transaction": "1584",
                                    "sales_transaction_rank": "30",
                                    "sales_$": "700289.7400000006",
                                    "sales_$_rank": "52"
                                },
                                {
                                    "country": "South Africa",
                                    "sales_transaction": "1440",
                                    "sales_transaction_rank": "34",
                                    "sales_$": "699497.384000001",
                                    "sales_$_rank": "53"
                                },
                                {
                                    "country": "Japan",
                                    "sales_transaction": "2233",
                                    "sales_transaction_rank": "10",
                                    "sales_$": "692880.2690000008",
                                    "sales_$_rank": "54"
                                },
                                {
                                    "country": "Israel",
                                    "sales_transaction": "2232",
                                    "sales_transaction_rank": "11",
                                    "sales_$": "678394.283000001",
                                    "sales_$_rank": "55"
                                },
                                {
                                    "country": "Grenada",
                                    "sales_transaction": "1860",
                                    "sales_transaction_rank": "23",
                                    "sales_$": "677864.1923000009",
                                    "sales_$_rank": "56"
                                },
                                {
                                    "country": "Iceland",
                                    "sales_transaction": "2292",
                                    "sales_transaction_rank": "8",
                                    "sales_$": "673693.6802000001",
                                    "sales_$_rank": "57"
                                },
                                {
                                    "country": "Guyana",
                                    "sales_transaction": "1799",
                                    "sales_transaction_rank": "26",
                                    "sales_$": "673308.8582000005",
                                    "sales_$_rank": "58"
                                },
                                {
                                    "country": "Kuwait",
                                    "sales_transaction": "1800",
                                    "sales_transaction_rank": "25",
                                    "sales_$": "668267.5795000002",
                                    "sales_$_rank": "59"
                                },
                                {
                                    "country": "Kyrgyzstan",
                                    "sales_transaction": "1872",
                                    "sales_transaction_rank": "22",
                                    "sales_$": "666682.2039000005",
                                    "sales_$_rank": "60"
                                },
                                {
                                    "country": "Ireland",
                                    "sales_transaction": "2160",
                                    "sales_transaction_rank": "13",
                                    "sales_$": "649537.6800000011",
                                    "sales_$_rank": "61"
                                },
                                {
                                    "country": "France",
                                    "sales_transaction": "2160",
                                    "sales_transaction_rank": "13",
                                    "sales_$": "643784.2059999998",
                                    "sales_$_rank": "62"
                                },
                                {
                                    "country": "Kazakhstan",
                                    "sales_transaction": "1872",
                                    "sales_transaction_rank": "22",
                                    "sales_$": "641065.9040000006",
                                    "sales_$_rank": "63"
                                },
                                {
                                    "country": "Hungary",
                                    "sales_transaction": "1860",
                                    "sales_transaction_rank": "23",
                                    "sales_$": "634635.7702",
                                    "sales_$_rank": "64"
                                },
                                {
                                    "country": "Costa Rica",
                                    "sales_transaction": "2160",
                                    "sales_transaction_rank": "13",
                                    "sales_$": "632901.6622000004",
                                    "sales_$_rank": "65"
                                },
                                {
                                    "country": "Finland",
                                    "sales_transaction": "2088",
                                    "sales_transaction_rank": "16",
                                    "sales_$": "630622.2634000012",
                                    "sales_$_rank": "66"
                                },
                                {
                                    "country": "Italy",
                                    "sales_transaction": "2232",
                                    "sales_transaction_rank": "11",
                                    "sales_$": "625664.3300000008",
                                    "sales_$_rank": "67"
                                },
                                {
                                    "country": "Seychelles",
                                    "sales_transaction": "1296",
                                    "sales_transaction_rank": "36",
                                    "sales_$": "620275.4700000003",
                                    "sales_$_rank": "68"
                                },
                                {
                                    "country": "Azerbaijan",
                                    "sales_transaction": "1344",
                                    "sales_transaction_rank": "35",
                                    "sales_$": "610523.8879999998",
                                    "sales_$_rank": "69"
                                },
                                {
                                    "country": "Germany",
                                    "sales_transaction": "1872",
                                    "sales_transaction_rank": "22",
                                    "sales_$": "601330.1426000008",
                                    "sales_$_rank": "70"
                                },
                                {
                                    "country": "El Salvador",
                                    "sales_transaction": "1728",
                                    "sales_transaction_rank": "29",
                                    "sales_$": "593740.2684",
                                    "sales_$_rank": "71"
                                },
                                {
                                    "country": "Lithuania",
                                    "sales_transaction": "1572",
                                    "sales_transaction_rank": "31",
                                    "sales_$": "572731.2999999988",
                                    "sales_$_rank": "72"
                                },
                                {
                                    "country": "Serbia",
                                    "sales_transaction": "1296",
                                    "sales_transaction_rank": "36",
                                    "sales_$": "564452.1499999986",
                                    "sales_$_rank": "73"
                                },
                                {
                                    "country": "Qatar",
                                    "sales_transaction": "1068",
                                    "sales_transaction_rank": "40",
                                    "sales_$": "554514.8799999999",
                                    "sales_$_rank": "74"
                                },
                                {
                                    "country": "Latvia",
                                    "sales_transaction": "1511",
                                    "sales_transaction_rank": "33",
                                    "sales_$": "549710.9939999995",
                                    "sales_$_rank": "75"
                                },
                                {
                                    "country": "Aruba",
                                    "sales_transaction": "1176",
                                    "sales_transaction_rank": "38",
                                    "sales_$": "537197.9709999991",
                                    "sales_$_rank": "76"
                                },
                                {
                                    "country": "Philippines",
                                    "sales_transaction": "1079",
                                    "sales_transaction_rank": "39",
                                    "sales_$": "522248.86000000004",
                                    "sales_$_rank": "77"
                                },
                                {
                                    "country": "Czech Republic",
                                    "sales_transaction": "1932",
                                    "sales_transaction_rank": "21",
                                    "sales_$": "517375.4399999993",
                                    "sales_$_rank": "78"
                                },
                                {
                                    "country": "Cuba",
                                    "sales_transaction": "1728",
                                    "sales_transaction_rank": "29",
                                    "sales_$": "500943.9629999991",
                                    "sales_$_rank": "79"
                                },
                                {
                                    "country": "Georgia",
                                    "sales_transaction": "1584",
                                    "sales_transaction_rank": "30",
                                    "sales_$": "499963.55559999857",
                                    "sales_$_rank": "80"
                                },
                                {
                                    "country": "Denmark",
                                    "sales_transaction": "1584",
                                    "sales_transaction_rank": "30",
                                    "sales_$": "449218.213999999",
                                    "sales_$_rank": "81"
                                },
                                {
                                    "country": "Estonia",
                                    "sales_transaction": "1512",
                                    "sales_transaction_rank": "32",
                                    "sales_$": "424996.7387999989",
                                    "sales_$_rank": "82"
                                },
                                {
                                    "country": "Croatia",
                                    "sales_transaction": "1572",
                                    "sales_transaction_rank": "31",
                                    "sales_$": "416275.25939999963",
                                    "sales_$_rank": "83"
                                },
                                {
                                    "country": "Sri Lanka",
                                    "sales_transaction": "792",
                                    "sales_transaction_rank": "42",
                                    "sales_$": "395918.2999999992",
                                    "sales_$_rank": "84"
                                },
                                {
                                    "country": "Montenegro",
                                    "sales_transaction": "720",
                                    "sales_transaction_rank": "43",
                                    "sales_$": "357511.14999999985",
                                    "sales_$_rank": "85"
                                },
                                {
                                    "country": "Jamaica",
                                    "sales_transaction": "1224",
                                    "sales_transaction_rank": "37",
                                    "sales_$": "347578.4049999999",
                                    "sales_$_rank": "86"
                                },
                                {
                                    "country": "Kiribati",
                                    "sales_transaction": "792",
                                    "sales_transaction_rank": "42",
                                    "sales_$": "323550.16689999966",
                                    "sales_$_rank": "87"
                                },
                                {
                                    "country": "Cyprus",
                                    "sales_transaction": "1067",
                                    "sales_transaction_rank": "41",
                                    "sales_$": "281314.48579999973",
                                    "sales_$_rank": "88"
                                },
                                {
                                    "country": "Turkey",
                                    "sales_transaction": "504",
                                    "sales_transaction_rank": "44",
                                    "sales_$": "280994.1200000001",
                                    "sales_$_rank": "89"
                                },
                                {
                                    "country": "Nicaragua",
                                    "sales_transaction": "432",
                                    "sales_transaction_rank": "45",
                                    "sales_$": "223247.22000000006",
                                    "sales_$_rank": "90"
                                },
                                {
                                    "country": "Maldives",
                                    "sales_transaction": "720",
                                    "sales_transaction_rank": "43",
                                    "sales_$": "217764.10799999998",
                                    "sales_$_rank": "91"
                                },
                                {
                                    "country": "United Arab Emirates",
                                    "sales_transaction": "432",
                                    "sales_transaction_rank": "45",
                                    "sales_$": "186636.71000000022",
                                    "sales_$_rank": "92"
                                },
                                {
                                    "country": "Fiji",
                                    "sales_transaction": "792",
                                    "sales_transaction_rank": "42",
                                    "sales_$": "186410.44499999998",
                                    "sales_$_rank": "93"
                                },
                                {
                                    "country": "Oman",
                                    "sales_transaction": "216",
                                    "sales_transaction_rank": "46",
                                    "sales_$": "105546.17000000007",
                                    "sales_$_rank": "94"
                                },
                                {
                                    "country": "San Marino",
                                    "sales_transaction": "216",
                                    "sales_transaction_rank": "46",
                                    "sales_$": "98001.99000000008",
                                    "sales_$_rank": "95"
                                },
                                {
                                    "country": "Saint Kitts and Nevis",
                                    "sales_transaction": "216",
                                    "sales_transaction_rank": "46",
                                    "sales_$": "87428.36000000006",
                                    "sales_$_rank": "96"
                                },
                                {
                                    "country": "Bosnia and Herzegovina",
                                    "sales_transaction": "168",
                                    "sales_transaction_rank": "47",
                                    "sales_$": "60497.63000000005",
                                    "sales_$_rank": "97"
                                },
                                {
                                    "country": "Cabo Verde",
                                    "sales_transaction": "84",
                                    "sales_transaction_rank": "48",
                                    "sales_$": "36562.07199999999",
                                    "sales_$_rank": "98"
                                },
                                {
                                    "country": "Macau",
                                    "sales_transaction": "72",
                                    "sales_transaction_rank": "49",
                                    "sales_$": "28242.788",
                                    "sales_$_rank": "99"
                                },
                                {
                                    "country": "Mongolia",
                                    "sales_transaction": "60",
                                    "sales_transaction_rank": "50",
                                    "sales_$": "22035.249999999985",
                                    "sales_$_rank": "100"
                                },
                                {
                                    "country": "Dominica",
                                    "sales_transaction": "72",
                                    "sales_transaction_rank": "49",
                                    "sales_$": "18743.108999999993",
                                    "sales_$_rank": "101"
                                },
                                {
                                    "country": "Russia",
                                    "sales_transaction": "8",
                                    "sales_transaction_rank": "51",
                                    "sales_$": "1264.5840000000003",
                                    "sales_$_rank": "102"
                                }
                            ]
                        },
                        "text/html": [
                            "<table>",
                            "<tr><th>country</th><th>sales_transaction</th><th>sales_transaction_rank</th><th>sales_$</th><th>sales_$_rank</th></tr>",
                            "<tr><td>Austria</td><td>2674</td><td>1</td><td>1296463.3414999906</td><td>1</td></tr>",
                            "<tr><td>Belgium</td><td>2604</td><td>2</td><td>1154321.3705999977</td><td>2</td></tr>",
                            "<tr><td>Argentina</td><td>2603</td><td>3</td><td>1140238.6927999987</td><td>3</td></tr>",
                            "<tr><td>Australia</td><td>2520</td><td>4</td><td>1139576.1649999968</td><td>4</td></tr>",
                            "<tr><td>United States</td><td>2231</td><td>12</td><td>1132496.3800000001</td><td>5</td></tr>",
                            "<tr><td>Brazil</td><td>2604</td><td>2</td><td>1129919.2000999975</td><td>6</td></tr>",
                            "<tr><td>Norway</td><td>2160</td><td>13</td><td>1129793.889999999</td><td>7</td></tr>",
                            "<tr><td>Netherlands</td><td>2292</td><td>8</td><td>1106623.810000002</td><td>8</td></tr>",
                            "<tr><td>Spain</td><td>2232</td><td>11</td><td>1102578.460000004</td><td>9</td></tr>",
                            "<tr><td>Puerto Rico</td><td>2232</td><td>11</td><td>1089656.3800000006</td><td>10</td></tr>",
                            "<tr><td>Canada</td><td>2436</td><td>6</td><td>1078310.4730000005</td><td>11</td></tr>",
                            "<tr><td>United Kingdom</td><td>2232</td><td>11</td><td>1069649.1000000013</td><td>12</td></tr>",
                            "<tr><td>Bulgaria</td><td>2520</td><td>4</td><td>1068255.9588000018</td><td>13</td></tr>",
                            "<tr><td>Republic of Korea</td><td>2232</td><td>11</td><td>1063598.8800000008</td><td>14</td></tr>",
                            "<tr><td>Singapore</td><td>2232</td><td>11</td><td>1062442.5199999993</td><td>15</td></tr>",
                            "<tr><td>Suriname</td><td>2016</td><td>18</td><td>1037655.410000003</td><td>16</td></tr>",
                            "<tr><td>Mexico</td><td>2232</td><td>11</td><td>1034845.1700000012</td><td>17</td></tr>",
                            "<tr><td>Turkmenistan</td><td>2088</td><td>16</td><td>1032696.5800000039</td><td>18</td></tr>",
                            "<tr><td>Belize</td><td>2352</td><td>7</td><td>1009231.1078000019</td><td>19</td></tr>",
                            "<tr><td>Sweden</td><td>2148</td><td>14</td><td>1006956.3000000026</td><td>20</td></tr>",
                            "<tr><td>Chile</td><td>2604</td><td>2</td><td>998301.8032000033</td><td>21</td></tr>",
                            "<tr><td>Russian Federation</td><td>1944</td><td>20</td><td>989007.5500000018</td><td>22</td></tr>",
                            "<tr><td>Thailand</td><td>2004</td><td>19</td><td>984841.0600000018</td><td>23</td></tr>",
                            "<tr><td>Portugal</td><td>1944</td><td>20</td><td>955279.5800000016</td><td>24</td></tr>",
                            "<tr><td>Saint Lucia</td><td>2016</td><td>18</td><td>953605.8500000038</td><td>25</td></tr>",
                            "<tr><td>Mauritius</td><td>2292</td><td>8</td><td>951543.6300000029</td><td>26</td></tr>",
                            "<tr><td>Trinidad and Tobago</td><td>1944</td><td>20</td><td>940220.2900000017</td><td>27</td></tr>",
                            "<tr><td>Antigua and Barbuda</td><td>2268</td><td>9</td><td>937031.6729000005</td><td>28</td></tr>",
                            "<tr><td>Romania</td><td>2004</td><td>19</td><td>933676.0400000019</td><td>29</td></tr>",
                            "<tr><td>Armenia</td><td>2086</td><td>17</td><td>918236.707500002</td><td>30</td></tr>",
                            "<tr><td>Barbados</td><td>2099</td><td>15</td><td>914011.7824000027</td><td>31</td></tr>",
                            "<tr><td>Uruguay</td><td>2016</td><td>18</td><td>898636.5600000003</td><td>32</td></tr>",
                            "<tr><td>New Zealand</td><td>2088</td><td>16</td><td>897640.3300000007</td><td>33</td></tr>",
                            "<tr><td>Paraguay</td><td>1944</td><td>20</td><td>887757.4500000015</td><td>34</td></tr>",
                            "<tr><td>Luxembourg</td><td>2232</td><td>11</td><td>869798.3930000014</td><td>35</td></tr>",
                            "<tr><td>Ukraine</td><td>2016</td><td>18</td><td>860557.6200000015</td><td>36</td></tr>",
                            "<tr><td>Bahamas</td><td>1932</td><td>21</td><td>858137.5198000026</td><td>37</td></tr>",
                            "<tr><td>Malta</td><td>2232</td><td>11</td><td>849198.6836000021</td><td>38</td></tr>",
                            "<tr><td>Panama</td><td>1800</td><td>25</td><td>827407.4100000006</td><td>39</td></tr>",
                            "<tr><td>Poland</td><td>1728</td><td>29</td><td>823874.8300000004</td><td>40</td></tr>",
                            "<tr><td>Colombia</td><td>2514</td><td>5</td><td>823458.3767000027</td><td>41</td></tr>",
                            "<tr><td>Albania</td><td>1848</td><td>24</td><td>816714.1692000002</td><td>42</td></tr>",
                            "<tr><td>Guatemala</td><td>2160</td><td>13</td><td>811037.0116000031</td><td>43</td></tr>",
                            "<tr><td>Bahrain</td><td>1764</td><td>27</td><td>800315.182500001</td><td>44</td></tr>",
                            "<tr><td>Belarus</td><td>1763</td><td>28</td><td>793122.7560000019</td><td>45</td></tr>",
                            "<tr><td>Saint Vincent and Grenadines</td><td>1800</td><td>25</td><td>782619.9400000017</td><td>46</td></tr>",
                            "<tr><td>Greece</td><td>2232</td><td>11</td><td>781112.8694000007</td><td>47</td></tr>",
                            "<tr><td>Slovenia</td><td>1511</td><td>33</td><td>779910.2300000001</td><td>48</td></tr>",
                            "<tr><td>Slovakia</td><td>1584</td><td>30</td><td>774529.1199999993</td><td>49</td></tr>",
                            "<tr><td>Switzerland</td><td>1512</td><td>32</td><td>711132.8300000015</td><td>50</td></tr>",
                            "<tr><td>Ecuador</td><td>2232</td><td>11</td><td>704434.9145000005</td><td>51</td></tr>",
                            "<tr><td>Uzbekistan</td><td>1584</td><td>30</td><td>700289.7400000006</td><td>52</td></tr>",
                            "<tr><td>South Africa</td><td>1440</td><td>34</td><td>699497.384000001</td><td>53</td></tr>",
                            "<tr><td>Japan</td><td>2233</td><td>10</td><td>692880.2690000008</td><td>54</td></tr>",
                            "<tr><td>Israel</td><td>2232</td><td>11</td><td>678394.283000001</td><td>55</td></tr>",
                            "<tr><td>Grenada</td><td>1860</td><td>23</td><td>677864.1923000009</td><td>56</td></tr>",
                            "<tr><td>Iceland</td><td>2292</td><td>8</td><td>673693.6802000001</td><td>57</td></tr>",
                            "<tr><td>Guyana</td><td>1799</td><td>26</td><td>673308.8582000005</td><td>58</td></tr>",
                            "<tr><td>Kuwait</td><td>1800</td><td>25</td><td>668267.5795000002</td><td>59</td></tr>",
                            "<tr><td>Kyrgyzstan</td><td>1872</td><td>22</td><td>666682.2039000005</td><td>60</td></tr>",
                            "<tr><td>Ireland</td><td>2160</td><td>13</td><td>649537.6800000011</td><td>61</td></tr>",
                            "<tr><td>France</td><td>2160</td><td>13</td><td>643784.2059999998</td><td>62</td></tr>",
                            "<tr><td>Kazakhstan</td><td>1872</td><td>22</td><td>641065.9040000006</td><td>63</td></tr>",
                            "<tr><td>Hungary</td><td>1860</td><td>23</td><td>634635.7702</td><td>64</td></tr>",
                            "<tr><td>Costa Rica</td><td>2160</td><td>13</td><td>632901.6622000004</td><td>65</td></tr>",
                            "<tr><td>Finland</td><td>2088</td><td>16</td><td>630622.2634000012</td><td>66</td></tr>",
                            "<tr><td>Italy</td><td>2232</td><td>11</td><td>625664.3300000008</td><td>67</td></tr>",
                            "<tr><td>Seychelles</td><td>1296</td><td>36</td><td>620275.4700000003</td><td>68</td></tr>",
                            "<tr><td>Azerbaijan</td><td>1344</td><td>35</td><td>610523.8879999998</td><td>69</td></tr>",
                            "<tr><td>Germany</td><td>1872</td><td>22</td><td>601330.1426000008</td><td>70</td></tr>",
                            "<tr><td>El Salvador</td><td>1728</td><td>29</td><td>593740.2684</td><td>71</td></tr>",
                            "<tr><td>Lithuania</td><td>1572</td><td>31</td><td>572731.2999999988</td><td>72</td></tr>",
                            "<tr><td>Serbia</td><td>1296</td><td>36</td><td>564452.1499999986</td><td>73</td></tr>",
                            "<tr><td>Qatar</td><td>1068</td><td>40</td><td>554514.8799999999</td><td>74</td></tr>",
                            "<tr><td>Latvia</td><td>1511</td><td>33</td><td>549710.9939999995</td><td>75</td></tr>",
                            "<tr><td>Aruba</td><td>1176</td><td>38</td><td>537197.9709999991</td><td>76</td></tr>",
                            "<tr><td>Philippines</td><td>1079</td><td>39</td><td>522248.86000000004</td><td>77</td></tr>",
                            "<tr><td>Czech Republic</td><td>1932</td><td>21</td><td>517375.4399999993</td><td>78</td></tr>",
                            "<tr><td>Cuba</td><td>1728</td><td>29</td><td>500943.9629999991</td><td>79</td></tr>",
                            "<tr><td>Georgia</td><td>1584</td><td>30</td><td>499963.55559999857</td><td>80</td></tr>",
                            "<tr><td>Denmark</td><td>1584</td><td>30</td><td>449218.213999999</td><td>81</td></tr>",
                            "<tr><td>Estonia</td><td>1512</td><td>32</td><td>424996.7387999989</td><td>82</td></tr>",
                            "<tr><td>Croatia</td><td>1572</td><td>31</td><td>416275.25939999963</td><td>83</td></tr>",
                            "<tr><td>Sri Lanka</td><td>792</td><td>42</td><td>395918.2999999992</td><td>84</td></tr>",
                            "<tr><td>Montenegro</td><td>720</td><td>43</td><td>357511.14999999985</td><td>85</td></tr>",
                            "<tr><td>Jamaica</td><td>1224</td><td>37</td><td>347578.4049999999</td><td>86</td></tr>",
                            "<tr><td>Kiribati</td><td>792</td><td>42</td><td>323550.16689999966</td><td>87</td></tr>",
                            "<tr><td>Cyprus</td><td>1067</td><td>41</td><td>281314.48579999973</td><td>88</td></tr>",
                            "<tr><td>Turkey</td><td>504</td><td>44</td><td>280994.1200000001</td><td>89</td></tr>",
                            "<tr><td>Nicaragua</td><td>432</td><td>45</td><td>223247.22000000006</td><td>90</td></tr>",
                            "<tr><td>Maldives</td><td>720</td><td>43</td><td>217764.10799999998</td><td>91</td></tr>",
                            "<tr><td>United Arab Emirates</td><td>432</td><td>45</td><td>186636.71000000022</td><td>92</td></tr>",
                            "<tr><td>Fiji</td><td>792</td><td>42</td><td>186410.44499999998</td><td>93</td></tr>",
                            "<tr><td>Oman</td><td>216</td><td>46</td><td>105546.17000000007</td><td>94</td></tr>",
                            "<tr><td>San Marino</td><td>216</td><td>46</td><td>98001.99000000008</td><td>95</td></tr>",
                            "<tr><td>Saint Kitts and Nevis</td><td>216</td><td>46</td><td>87428.36000000006</td><td>96</td></tr>",
                            "<tr><td>Bosnia and Herzegovina</td><td>168</td><td>47</td><td>60497.63000000005</td><td>97</td></tr>",
                            "<tr><td>Cabo Verde</td><td>84</td><td>48</td><td>36562.07199999999</td><td>98</td></tr>",
                            "<tr><td>Macau</td><td>72</td><td>49</td><td>28242.788</td><td>99</td></tr>",
                            "<tr><td>Mongolia</td><td>60</td><td>50</td><td>22035.249999999985</td><td>100</td></tr>",
                            "<tr><td>Dominica</td><td>72</td><td>49</td><td>18743.108999999993</td><td>101</td></tr>",
                            "<tr><td>Russia</td><td>8</td><td>51</td><td>1264.5840000000003</td><td>102</td></tr>",
                            "</table>"
                        ]
                    }
                }
            ],
            "execution_count": 3
        },
        {
            "cell_type": "markdown",
            "source": [
                "From the table above, the top 4 countries for sales\\_transaction and sales\\_$ are Austria, Belgium, Argentina and Australia. The number of sales transactions seems highly correlated with sales ($) with some exceptions like the United States which is ranked 12th in number of transactions and 5th in sales ($).\n",
                "\n",
                "Let's look at the average sale amount per country and compare to the worldwide average. The difference between the sale amount for each country and the worldwide average will also be computed."
            ],
            "metadata": {
                "language": "sql",
                "azdata_cell_guid": "7c1d0032-8632-4290-bc87-f5a9d2488efe"
            },
            "attachments": {}
        },
        {
            "cell_type": "code",
            "source": [
                "-- average sales ($) per country\n",
                "SELECT  \n",
                "    country, AVG(Sales) AS avg_sales_$,\n",
                "    -- subquery in SELECT to determine worldwide avg sales ($)\n",
                "    (SELECT AVG(Sales) FROM logs) AS world_avg_sales_$,\n",
                "    -- difference bewteen country avg and worldwide avg with another SELECT subquery\n",
                "    (AVG(Sales) - (SELECT AVG(Sales) FROM logs)) AS difference\n",
                "FROM logs\n",
                "GROUP BY country\n",
                "ORDER BY difference DESC;"
            ],
            "metadata": {
                "language": "sql",
                "azdata_cell_guid": "3661bbe8-7b75-4fd3-af97-3b4591798e2d",
                "tags": []
            },
            "outputs": [
                {
                    "output_type": "display_data",
                    "data": {
                        "text/html": "(102 rows affected)"
                    },
                    "metadata": {}
                },
                {
                    "output_type": "display_data",
                    "data": {
                        "text/html": "Total execution time: 00:00:00.371"
                    },
                    "metadata": {}
                },
                {
                    "output_type": "execute_result",
                    "metadata": {},
                    "execution_count": 4,
                    "data": {
                        "application/vnd.dataresource+json": {
                            "schema": {
                                "fields": [
                                    {
                                        "name": "country"
                                    },
                                    {
                                        "name": "avg_sales_$"
                                    },
                                    {
                                        "name": "world_avg_sales_$"
                                    },
                                    {
                                        "name": "difference"
                                    }
                                ]
                            },
                            "data": [
                                {
                                    "country": "Turkey",
                                    "avg_sales_$": "557.5280158730159",
                                    "world_avg_sales_$": "411.3464487919592",
                                    "difference": "146.18156708104272"
                                },
                                {
                                    "country": "Norway",
                                    "avg_sales_$": "523.0527268518517",
                                    "world_avg_sales_$": "411.3464487919592",
                                    "difference": "111.70627805987857"
                                },
                                {
                                    "country": "Qatar",
                                    "avg_sales_$": "519.2086891385768",
                                    "world_avg_sales_$": "411.3464487919592",
                                    "difference": "107.86224034660364"
                                },
                                {
                                    "country": "Nicaragua",
                                    "avg_sales_$": "516.7759722222225",
                                    "world_avg_sales_$": "411.3464487919592",
                                    "difference": "105.42952343024939"
                                },
                                {
                                    "country": "Slovenia",
                                    "avg_sales_$": "516.1550165453345",
                                    "world_avg_sales_$": "411.3464487919592",
                                    "difference": "104.80856775336139"
                                },
                                {
                                    "country": "Suriname",
                                    "avg_sales_$": "514.7100248015873",
                                    "world_avg_sales_$": "411.3464487919592",
                                    "difference": "103.36357600961418"
                                },
                                {
                                    "country": "Russian Federation",
                                    "avg_sales_$": "508.7487397119337",
                                    "world_avg_sales_$": "411.3464487919592",
                                    "difference": "97.40229091996054"
                                },
                                {
                                    "country": "United States",
                                    "avg_sales_$": "507.6182787987448",
                                    "world_avg_sales_$": "411.3464487919592",
                                    "difference": "96.27183000677167"
                                },
                                {
                                    "country": "Sri Lanka",
                                    "avg_sales_$": "499.8968434343435",
                                    "world_avg_sales_$": "411.3464487919592",
                                    "difference": "88.55039464237035"
                                },
                                {
                                    "country": "Montenegro",
                                    "avg_sales_$": "496.54326388888916",
                                    "world_avg_sales_$": "411.3464487919592",
                                    "difference": "85.196815096916"
                                },
                                {
                                    "country": "Turkmenistan",
                                    "avg_sales_$": "494.5864846743296",
                                    "world_avg_sales_$": "411.3464487919592",
                                    "difference": "83.24003588235644"
                                },
                                {
                                    "country": "Spain",
                                    "avg_sales_$": "493.98676523297456",
                                    "world_avg_sales_$": "411.3464487919592",
                                    "difference": "82.6403164410014"
                                },
                                {
                                    "country": "Thailand",
                                    "avg_sales_$": "491.43765469061833",
                                    "world_avg_sales_$": "411.3464487919592",
                                    "difference": "80.09120589864517"
                                },
                                {
                                    "country": "Portugal",
                                    "avg_sales_$": "491.39896090534944",
                                    "world_avg_sales_$": "411.3464487919592",
                                    "difference": "80.05251211337628"
                                },
                                {
                                    "country": "Slovakia",
                                    "avg_sales_$": "488.9704040404043",
                                    "world_avg_sales_$": "411.3464487919592",
                                    "difference": "77.62395524843112"
                                },
                                {
                                    "country": "Oman",
                                    "avg_sales_$": "488.63967592592604",
                                    "world_avg_sales_$": "411.3464487919592",
                                    "difference": "77.29322713395288"
                                },
                                {
                                    "country": "Puerto Rico",
                                    "avg_sales_$": "488.19730286738286",
                                    "world_avg_sales_$": "411.3464487919592",
                                    "difference": "76.8508540754097"
                                },
                                {
                                    "country": "South Africa",
                                    "avg_sales_$": "485.7620722222223",
                                    "world_avg_sales_$": "411.3464487919592",
                                    "difference": "74.41562343024913"
                                },
                                {
                                    "country": "Austria",
                                    "avg_sales_$": "484.8404418474198",
                                    "world_avg_sales_$": "411.3464487919592",
                                    "difference": "73.49399305544665"
                                },
                                {
                                    "country": "Philippines",
                                    "avg_sales_$": "484.01191844300297",
                                    "world_avg_sales_$": "411.3464487919592",
                                    "difference": "72.66546965102981"
                                },
                                {
                                    "country": "Trinidad and Tobago",
                                    "avg_sales_$": "483.6524125514402",
                                    "world_avg_sales_$": "411.3464487919592",
                                    "difference": "72.30596375946703"
                                },
                                {
                                    "country": "Netherlands",
                                    "avg_sales_$": "482.82016143106426",
                                    "world_avg_sales_$": "411.3464487919592",
                                    "difference": "71.4737126390911"
                                },
                                {
                                    "country": "United Kingdom",
                                    "avg_sales_$": "479.2334677419356",
                                    "world_avg_sales_$": "411.3464487919592",
                                    "difference": "67.88701894996245"
                                },
                                {
                                    "country": "Seychelles",
                                    "avg_sales_$": "478.6076157407409",
                                    "world_avg_sales_$": "411.3464487919592",
                                    "difference": "67.26116694876777"
                                },
                                {
                                    "country": "Poland",
                                    "avg_sales_$": "476.77941550925925",
                                    "world_avg_sales_$": "411.3464487919592",
                                    "difference": "65.43296671728609"
                                },
                                {
                                    "country": "Republic of Korea",
                                    "avg_sales_$": "476.52279569892477",
                                    "world_avg_sales_$": "411.3464487919592",
                                    "difference": "65.17634690695161"
                                },
                                {
                                    "country": "Singapore",
                                    "avg_sales_$": "476.0047132616484",
                                    "world_avg_sales_$": "411.3464487919592",
                                    "difference": "64.65826446967526"
                                },
                                {
                                    "country": "Saint Lucia",
                                    "avg_sales_$": "473.01877480158737",
                                    "world_avg_sales_$": "411.3464487919592",
                                    "difference": "61.67232600961421"
                                },
                                {
                                    "country": "Switzerland",
                                    "avg_sales_$": "470.32594576719595",
                                    "world_avg_sales_$": "411.3464487919592",
                                    "difference": "58.97949697522279"
                                },
                                {
                                    "country": "Sweden",
                                    "avg_sales_$": "468.7878491620108",
                                    "world_avg_sales_$": "411.3464487919592",
                                    "difference": "57.44140037003763"
                                },
                                {
                                    "country": "Romania",
                                    "avg_sales_$": "465.90620758483027",
                                    "world_avg_sales_$": "411.3464487919592",
                                    "difference": "54.55975879285711"
                                },
                                {
                                    "country": "Mexico",
                                    "avg_sales_$": "463.64030913978496",
                                    "world_avg_sales_$": "411.3464487919592",
                                    "difference": "52.2938603478118"
                                },
                                {
                                    "country": "Panama",
                                    "avg_sales_$": "459.67078333333296",
                                    "world_avg_sales_$": "411.3464487919592",
                                    "difference": "48.3243345413598"
                                },
                                {
                                    "country": "Aruba",
                                    "avg_sales_$": "456.80099574829933",
                                    "world_avg_sales_$": "411.3464487919592",
                                    "difference": "45.45454695632617"
                                },
                                {
                                    "country": "Paraguay",
                                    "avg_sales_$": "456.6653549382713",
                                    "world_avg_sales_$": "411.3464487919592",
                                    "difference": "45.31890614629816"
                                },
                                {
                                    "country": "Azerbaijan",
                                    "avg_sales_$": "454.25884523809526",
                                    "world_avg_sales_$": "411.3464487919592",
                                    "difference": "42.9123964461221"
                                },
                                {
                                    "country": "San Marino",
                                    "avg_sales_$": "453.71291666666656",
                                    "world_avg_sales_$": "411.3464487919592",
                                    "difference": "42.3664678746934"
                                },
                                {
                                    "country": "Bahrain",
                                    "avg_sales_$": "453.69341411564574",
                                    "world_avg_sales_$": "411.3464487919592",
                                    "difference": "42.34696532367258"
                                },
                                {
                                    "country": "Australia",
                                    "avg_sales_$": "452.21276388888873",
                                    "world_avg_sales_$": "411.3464487919592",
                                    "difference": "40.86631509691557"
                                },
                                {
                                    "country": "Belarus",
                                    "avg_sales_$": "449.87110380033994",
                                    "world_avg_sales_$": "411.3464487919592",
                                    "difference": "38.52465500836678"
                                },
                                {
                                    "country": "Uruguay",
                                    "avg_sales_$": "445.752261904762",
                                    "world_avg_sales_$": "411.3464487919592",
                                    "difference": "34.40581311278885"
                                },
                                {
                                    "country": "Bahamas",
                                    "avg_sales_$": "444.1705589026915",
                                    "world_avg_sales_$": "411.3464487919592",
                                    "difference": "32.82411011071832"
                                },
                                {
                                    "country": "Belgium",
                                    "avg_sales_$": "443.28777672811117",
                                    "world_avg_sales_$": "411.3464487919592",
                                    "difference": "31.94132793613801"
                                },
                                {
                                    "country": "Canada",
                                    "avg_sales_$": "442.65618760262726",
                                    "world_avg_sales_$": "411.3464487919592",
                                    "difference": "31.309738810654096"
                                },
                                {
                                    "country": "Uzbekistan",
                                    "avg_sales_$": "442.10210858585833",
                                    "world_avg_sales_$": "411.3464487919592",
                                    "difference": "30.755659793885172"
                                },
                                {
                                    "country": "Albania",
                                    "avg_sales_$": "441.94489675324695",
                                    "world_avg_sales_$": "411.3464487919592",
                                    "difference": "30.59844796127379"
                                },
                                {
                                    "country": "Armenia",
                                    "avg_sales_$": "440.1901761744969",
                                    "world_avg_sales_$": "411.3464487919592",
                                    "difference": "28.843727382523753"
                                },
                                {
                                    "country": "Argentina",
                                    "avg_sales_$": "438.04790349596607",
                                    "world_avg_sales_$": "411.3464487919592",
                                    "difference": "26.70145470399291"
                                },
                                {
                                    "country": "Serbia",
                                    "avg_sales_$": "435.5340663580248",
                                    "world_avg_sales_$": "411.3464487919592",
                                    "difference": "24.187617566051642"
                                },
                                {
                                    "country": "Barbados",
                                    "avg_sales_$": "435.451063554073",
                                    "world_avg_sales_$": "411.3464487919592",
                                    "difference": "24.104614762099857"
                                },
                                {
                                    "country": "Cabo Verde",
                                    "avg_sales_$": "435.26276190476193",
                                    "world_avg_sales_$": "411.3464487919592",
                                    "difference": "23.91631311278877"
                                },
                                {
                                    "country": "Saint Vincent and Grenadines",
                                    "avg_sales_$": "434.78885555555576",
                                    "world_avg_sales_$": "411.3464487919592",
                                    "difference": "23.442406763582596"
                                },
                                {
                                    "country": "Brazil",
                                    "avg_sales_$": "433.9167435099843",
                                    "world_avg_sales_$": "411.3464487919592",
                                    "difference": "22.570294718011155"
                                },
                                {
                                    "country": "United Arab Emirates",
                                    "avg_sales_$": "432.02942129629633",
                                    "world_avg_sales_$": "411.3464487919592",
                                    "difference": "20.682972504323175"
                                },
                                {
                                    "country": "New Zealand",
                                    "avg_sales_$": "429.9043726053638",
                                    "world_avg_sales_$": "411.3464487919592",
                                    "difference": "18.55792381339063"
                                },
                                {
                                    "country": "Belize",
                                    "avg_sales_$": "429.0948587585029",
                                    "world_avg_sales_$": "411.3464487919592",
                                    "difference": "17.74840996652972"
                                },
                                {
                                    "country": "Ukraine",
                                    "avg_sales_$": "426.86389880952373",
                                    "world_avg_sales_$": "411.3464487919592",
                                    "difference": "15.517450017550573"
                                },
                                {
                                    "country": "Bulgaria",
                                    "avg_sales_$": "423.91109476190434",
                                    "world_avg_sales_$": "411.3464487919592",
                                    "difference": "12.564645969931178"
                                },
                                {
                                    "country": "Mauritius",
                                    "avg_sales_$": "415.15865183246086",
                                    "world_avg_sales_$": "411.3464487919592",
                                    "difference": "3.8122030404877023"
                                },
                                {
                                    "country": "Antigua and Barbuda",
                                    "avg_sales_$": "413.1532949294533",
                                    "world_avg_sales_$": "411.3464487919592",
                                    "difference": "1.806846137480136"
                                },
                                {
                                    "country": "Kiribati",
                                    "avg_sales_$": "408.52293800505066",
                                    "world_avg_sales_$": "411.3464487919592",
                                    "difference": "-2.8235107869224976"
                                },
                                {
                                    "country": "Saint Kitts and Nevis",
                                    "avg_sales_$": "404.76092592592585",
                                    "world_avg_sales_$": "411.3464487919592",
                                    "difference": "-6.585522866047313"
                                },
                                {
                                    "country": "Macau",
                                    "avg_sales_$": "392.2609444444444",
                                    "world_avg_sales_$": "411.3464487919592",
                                    "difference": "-19.08550434752874"
                                },
                                {
                                    "country": "Luxembourg",
                                    "avg_sales_$": "389.69462051971345",
                                    "world_avg_sales_$": "411.3464487919592",
                                    "difference": "-21.651828272259706"
                                },
                                {
                                    "country": "Chile",
                                    "avg_sales_$": "383.3724282642092",
                                    "world_avg_sales_$": "411.3464487919592",
                                    "difference": "-27.97402052776397"
                                },
                                {
                                    "country": "Malta",
                                    "avg_sales_$": "380.4653600358422",
                                    "world_avg_sales_$": "411.3464487919592",
                                    "difference": "-30.881088756130964"
                                },
                                {
                                    "country": "Guatemala",
                                    "avg_sales_$": "375.48009796296276",
                                    "world_avg_sales_$": "411.3464487919592",
                                    "difference": "-35.8663508290104"
                                },
                                {
                                    "country": "Guyana",
                                    "avg_sales_$": "374.26840366870476",
                                    "world_avg_sales_$": "411.3464487919592",
                                    "difference": "-37.078045123268396"
                                },
                                {
                                    "country": "Kuwait",
                                    "avg_sales_$": "371.25976638888903",
                                    "world_avg_sales_$": "411.3464487919592",
                                    "difference": "-40.086682403084126"
                                },
                                {
                                    "country": "Mongolia",
                                    "avg_sales_$": "367.25416666666666",
                                    "world_avg_sales_$": "411.3464487919592",
                                    "difference": "-44.0922821253065"
                                },
                                {
                                    "country": "Grenada",
                                    "avg_sales_$": "364.44311413978494",
                                    "world_avg_sales_$": "411.3464487919592",
                                    "difference": "-46.90333465218822"
                                },
                                {
                                    "country": "Lithuania",
                                    "avg_sales_$": "364.3328880407125",
                                    "world_avg_sales_$": "411.3464487919592",
                                    "difference": "-47.013560751260684"
                                },
                                {
                                    "country": "Latvia",
                                    "avg_sales_$": "363.8060847121114",
                                    "world_avg_sales_$": "411.3464487919592",
                                    "difference": "-47.540364079861774"
                                },
                                {
                                    "country": "Bosnia and Herzegovina",
                                    "avg_sales_$": "360.10494047619056",
                                    "world_avg_sales_$": "411.3464487919592",
                                    "difference": "-51.241508315782596"
                                },
                                {
                                    "country": "Kyrgyzstan",
                                    "avg_sales_$": "356.13365592948725",
                                    "world_avg_sales_$": "411.3464487919592",
                                    "difference": "-55.21279286248591"
                                },
                                {
                                    "country": "Greece",
                                    "avg_sales_$": "349.9609629928315",
                                    "world_avg_sales_$": "411.3464487919592",
                                    "difference": "-61.385485799141634"
                                },
                                {
                                    "country": "El Salvador",
                                    "avg_sales_$": "343.5996923611113",
                                    "world_avg_sales_$": "411.3464487919592",
                                    "difference": "-67.74675643086186"
                                },
                                {
                                    "country": "Kazakhstan",
                                    "avg_sales_$": "342.44973504273514",
                                    "world_avg_sales_$": "411.3464487919592",
                                    "difference": "-68.89671374923802"
                                },
                                {
                                    "country": "Hungary",
                                    "avg_sales_$": "341.20202698924726",
                                    "world_avg_sales_$": "411.3464487919592",
                                    "difference": "-70.1444218027259"
                                },
                                {
                                    "country": "Colombia",
                                    "avg_sales_$": "327.5490758552108",
                                    "world_avg_sales_$": "411.3464487919592",
                                    "difference": "-83.79737293676237"
                                },
                                {
                                    "country": "Germany",
                                    "avg_sales_$": "321.2233667735041",
                                    "world_avg_sales_$": "411.3464487919592",
                                    "difference": "-90.12308201846906"
                                },
                                {
                                    "country": "Georgia",
                                    "avg_sales_$": "315.6335578282829",
                                    "world_avg_sales_$": "411.3464487919592",
                                    "difference": "-95.71289096369026"
                                },
                                {
                                    "country": "Ecuador",
                                    "avg_sales_$": "315.60704054659504",
                                    "world_avg_sales_$": "411.3464487919592",
                                    "difference": "-95.73940824537812"
                                },
                                {
                                    "country": "Japan",
                                    "avg_sales_$": "310.29120868786373",
                                    "world_avg_sales_$": "411.3464487919592",
                                    "difference": "-101.05524010410943"
                                },
                                {
                                    "country": "Israel",
                                    "avg_sales_$": "303.9400909498208",
                                    "world_avg_sales_$": "411.3464487919592",
                                    "difference": "-107.40635784215237"
                                },
                                {
                                    "country": "Maldives",
                                    "avg_sales_$": "302.45014999999995",
                                    "world_avg_sales_$": "411.3464487919592",
                                    "difference": "-108.89629879197321"
                                },
                                {
                                    "country": "Finland",
                                    "avg_sales_$": "302.02215680076614",
                                    "world_avg_sales_$": "411.3464487919592",
                                    "difference": "-109.32429199120702"
                                },
                                {
                                    "country": "Ireland",
                                    "avg_sales_$": "300.71188888888867",
                                    "world_avg_sales_$": "411.3464487919592",
                                    "difference": "-110.6345599030845"
                                },
                                {
                                    "country": "France",
                                    "avg_sales_$": "298.0482435185185",
                                    "world_avg_sales_$": "411.3464487919592",
                                    "difference": "-113.29820527345464"
                                },
                                {
                                    "country": "Iceland",
                                    "avg_sales_$": "293.9326702443281",
                                    "world_avg_sales_$": "411.3464487919592",
                                    "difference": "-117.41377854764505"
                                },
                                {
                                    "country": "Costa Rica",
                                    "avg_sales_$": "293.01002879629624",
                                    "world_avg_sales_$": "411.3464487919592",
                                    "difference": "-118.33641999567692"
                                },
                                {
                                    "country": "Cuba",
                                    "avg_sales_$": "289.89812673611124",
                                    "world_avg_sales_$": "411.3464487919592",
                                    "difference": "-121.44832205586192"
                                },
                                {
                                    "country": "Jamaica",
                                    "avg_sales_$": "283.96928513071913",
                                    "world_avg_sales_$": "411.3464487919592",
                                    "difference": "-127.37716366125403"
                                },
                                {
                                    "country": "Denmark",
                                    "avg_sales_$": "283.59735732323236",
                                    "world_avg_sales_$": "411.3464487919592",
                                    "difference": "-127.7490914687408"
                                },
                                {
                                    "country": "Estonia",
                                    "avg_sales_$": "281.0824992063494",
                                    "world_avg_sales_$": "411.3464487919592",
                                    "difference": "-130.26394958562378"
                                },
                                {
                                    "country": "Italy",
                                    "avg_sales_$": "280.3155600358423",
                                    "world_avg_sales_$": "411.3464487919592",
                                    "difference": "-131.03088875613088"
                                },
                                {
                                    "country": "Czech Republic",
                                    "avg_sales_$": "267.79267080745353",
                                    "world_avg_sales_$": "411.3464487919592",
                                    "difference": "-143.55377798451963"
                                },
                                {
                                    "country": "Croatia",
                                    "avg_sales_$": "264.8061446564886",
                                    "world_avg_sales_$": "411.3464487919592",
                                    "difference": "-146.54030413548458"
                                },
                                {
                                    "country": "Cyprus",
                                    "avg_sales_$": "263.6499398313027",
                                    "world_avg_sales_$": "411.3464487919592",
                                    "difference": "-147.69650896067049"
                                },
                                {
                                    "country": "Dominica",
                                    "avg_sales_$": "260.3209583333334",
                                    "world_avg_sales_$": "411.3464487919592",
                                    "difference": "-151.02549045863975"
                                },
                                {
                                    "country": "Fiji",
                                    "avg_sales_$": "235.36672348484856",
                                    "world_avg_sales_$": "411.3464487919592",
                                    "difference": "-175.9797253071246"
                                },
                                {
                                    "country": "Russia",
                                    "avg_sales_$": "158.073",
                                    "world_avg_sales_$": "411.3464487919592",
                                    "difference": "-253.27344879197315"
                                }
                            ]
                        },
                        "text/html": [
                            "<table>",
                            "<tr><th>country</th><th>avg_sales_$</th><th>world_avg_sales_$</th><th>difference</th></tr>",
                            "<tr><td>Turkey</td><td>557.5280158730159</td><td>411.3464487919592</td><td>146.18156708104272</td></tr>",
                            "<tr><td>Norway</td><td>523.0527268518517</td><td>411.3464487919592</td><td>111.70627805987857</td></tr>",
                            "<tr><td>Qatar</td><td>519.2086891385768</td><td>411.3464487919592</td><td>107.86224034660364</td></tr>",
                            "<tr><td>Nicaragua</td><td>516.7759722222225</td><td>411.3464487919592</td><td>105.42952343024939</td></tr>",
                            "<tr><td>Slovenia</td><td>516.1550165453345</td><td>411.3464487919592</td><td>104.80856775336139</td></tr>",
                            "<tr><td>Suriname</td><td>514.7100248015873</td><td>411.3464487919592</td><td>103.36357600961418</td></tr>",
                            "<tr><td>Russian Federation</td><td>508.7487397119337</td><td>411.3464487919592</td><td>97.40229091996054</td></tr>",
                            "<tr><td>United States</td><td>507.6182787987448</td><td>411.3464487919592</td><td>96.27183000677167</td></tr>",
                            "<tr><td>Sri Lanka</td><td>499.8968434343435</td><td>411.3464487919592</td><td>88.55039464237035</td></tr>",
                            "<tr><td>Montenegro</td><td>496.54326388888916</td><td>411.3464487919592</td><td>85.196815096916</td></tr>",
                            "<tr><td>Turkmenistan</td><td>494.5864846743296</td><td>411.3464487919592</td><td>83.24003588235644</td></tr>",
                            "<tr><td>Spain</td><td>493.98676523297456</td><td>411.3464487919592</td><td>82.6403164410014</td></tr>",
                            "<tr><td>Thailand</td><td>491.43765469061833</td><td>411.3464487919592</td><td>80.09120589864517</td></tr>",
                            "<tr><td>Portugal</td><td>491.39896090534944</td><td>411.3464487919592</td><td>80.05251211337628</td></tr>",
                            "<tr><td>Slovakia</td><td>488.9704040404043</td><td>411.3464487919592</td><td>77.62395524843112</td></tr>",
                            "<tr><td>Oman</td><td>488.63967592592604</td><td>411.3464487919592</td><td>77.29322713395288</td></tr>",
                            "<tr><td>Puerto Rico</td><td>488.19730286738286</td><td>411.3464487919592</td><td>76.8508540754097</td></tr>",
                            "<tr><td>South Africa</td><td>485.7620722222223</td><td>411.3464487919592</td><td>74.41562343024913</td></tr>",
                            "<tr><td>Austria</td><td>484.8404418474198</td><td>411.3464487919592</td><td>73.49399305544665</td></tr>",
                            "<tr><td>Philippines</td><td>484.01191844300297</td><td>411.3464487919592</td><td>72.66546965102981</td></tr>",
                            "<tr><td>Trinidad and Tobago</td><td>483.6524125514402</td><td>411.3464487919592</td><td>72.30596375946703</td></tr>",
                            "<tr><td>Netherlands</td><td>482.82016143106426</td><td>411.3464487919592</td><td>71.4737126390911</td></tr>",
                            "<tr><td>United Kingdom</td><td>479.2334677419356</td><td>411.3464487919592</td><td>67.88701894996245</td></tr>",
                            "<tr><td>Seychelles</td><td>478.6076157407409</td><td>411.3464487919592</td><td>67.26116694876777</td></tr>",
                            "<tr><td>Poland</td><td>476.77941550925925</td><td>411.3464487919592</td><td>65.43296671728609</td></tr>",
                            "<tr><td>Republic of Korea</td><td>476.52279569892477</td><td>411.3464487919592</td><td>65.17634690695161</td></tr>",
                            "<tr><td>Singapore</td><td>476.0047132616484</td><td>411.3464487919592</td><td>64.65826446967526</td></tr>",
                            "<tr><td>Saint Lucia</td><td>473.01877480158737</td><td>411.3464487919592</td><td>61.67232600961421</td></tr>",
                            "<tr><td>Switzerland</td><td>470.32594576719595</td><td>411.3464487919592</td><td>58.97949697522279</td></tr>",
                            "<tr><td>Sweden</td><td>468.7878491620108</td><td>411.3464487919592</td><td>57.44140037003763</td></tr>",
                            "<tr><td>Romania</td><td>465.90620758483027</td><td>411.3464487919592</td><td>54.55975879285711</td></tr>",
                            "<tr><td>Mexico</td><td>463.64030913978496</td><td>411.3464487919592</td><td>52.2938603478118</td></tr>",
                            "<tr><td>Panama</td><td>459.67078333333296</td><td>411.3464487919592</td><td>48.3243345413598</td></tr>",
                            "<tr><td>Aruba</td><td>456.80099574829933</td><td>411.3464487919592</td><td>45.45454695632617</td></tr>",
                            "<tr><td>Paraguay</td><td>456.6653549382713</td><td>411.3464487919592</td><td>45.31890614629816</td></tr>",
                            "<tr><td>Azerbaijan</td><td>454.25884523809526</td><td>411.3464487919592</td><td>42.9123964461221</td></tr>",
                            "<tr><td>San Marino</td><td>453.71291666666656</td><td>411.3464487919592</td><td>42.3664678746934</td></tr>",
                            "<tr><td>Bahrain</td><td>453.69341411564574</td><td>411.3464487919592</td><td>42.34696532367258</td></tr>",
                            "<tr><td>Australia</td><td>452.21276388888873</td><td>411.3464487919592</td><td>40.86631509691557</td></tr>",
                            "<tr><td>Belarus</td><td>449.87110380033994</td><td>411.3464487919592</td><td>38.52465500836678</td></tr>",
                            "<tr><td>Uruguay</td><td>445.752261904762</td><td>411.3464487919592</td><td>34.40581311278885</td></tr>",
                            "<tr><td>Bahamas</td><td>444.1705589026915</td><td>411.3464487919592</td><td>32.82411011071832</td></tr>",
                            "<tr><td>Belgium</td><td>443.28777672811117</td><td>411.3464487919592</td><td>31.94132793613801</td></tr>",
                            "<tr><td>Canada</td><td>442.65618760262726</td><td>411.3464487919592</td><td>31.309738810654096</td></tr>",
                            "<tr><td>Uzbekistan</td><td>442.10210858585833</td><td>411.3464487919592</td><td>30.755659793885172</td></tr>",
                            "<tr><td>Albania</td><td>441.94489675324695</td><td>411.3464487919592</td><td>30.59844796127379</td></tr>",
                            "<tr><td>Armenia</td><td>440.1901761744969</td><td>411.3464487919592</td><td>28.843727382523753</td></tr>",
                            "<tr><td>Argentina</td><td>438.04790349596607</td><td>411.3464487919592</td><td>26.70145470399291</td></tr>",
                            "<tr><td>Serbia</td><td>435.5340663580248</td><td>411.3464487919592</td><td>24.187617566051642</td></tr>",
                            "<tr><td>Barbados</td><td>435.451063554073</td><td>411.3464487919592</td><td>24.104614762099857</td></tr>",
                            "<tr><td>Cabo Verde</td><td>435.26276190476193</td><td>411.3464487919592</td><td>23.91631311278877</td></tr>",
                            "<tr><td>Saint Vincent and Grenadines</td><td>434.78885555555576</td><td>411.3464487919592</td><td>23.442406763582596</td></tr>",
                            "<tr><td>Brazil</td><td>433.9167435099843</td><td>411.3464487919592</td><td>22.570294718011155</td></tr>",
                            "<tr><td>United Arab Emirates</td><td>432.02942129629633</td><td>411.3464487919592</td><td>20.682972504323175</td></tr>",
                            "<tr><td>New Zealand</td><td>429.9043726053638</td><td>411.3464487919592</td><td>18.55792381339063</td></tr>",
                            "<tr><td>Belize</td><td>429.0948587585029</td><td>411.3464487919592</td><td>17.74840996652972</td></tr>",
                            "<tr><td>Ukraine</td><td>426.86389880952373</td><td>411.3464487919592</td><td>15.517450017550573</td></tr>",
                            "<tr><td>Bulgaria</td><td>423.91109476190434</td><td>411.3464487919592</td><td>12.564645969931178</td></tr>",
                            "<tr><td>Mauritius</td><td>415.15865183246086</td><td>411.3464487919592</td><td>3.8122030404877023</td></tr>",
                            "<tr><td>Antigua and Barbuda</td><td>413.1532949294533</td><td>411.3464487919592</td><td>1.806846137480136</td></tr>",
                            "<tr><td>Kiribati</td><td>408.52293800505066</td><td>411.3464487919592</td><td>-2.8235107869224976</td></tr>",
                            "<tr><td>Saint Kitts and Nevis</td><td>404.76092592592585</td><td>411.3464487919592</td><td>-6.585522866047313</td></tr>",
                            "<tr><td>Macau</td><td>392.2609444444444</td><td>411.3464487919592</td><td>-19.08550434752874</td></tr>",
                            "<tr><td>Luxembourg</td><td>389.69462051971345</td><td>411.3464487919592</td><td>-21.651828272259706</td></tr>",
                            "<tr><td>Chile</td><td>383.3724282642092</td><td>411.3464487919592</td><td>-27.97402052776397</td></tr>",
                            "<tr><td>Malta</td><td>380.4653600358422</td><td>411.3464487919592</td><td>-30.881088756130964</td></tr>",
                            "<tr><td>Guatemala</td><td>375.48009796296276</td><td>411.3464487919592</td><td>-35.8663508290104</td></tr>",
                            "<tr><td>Guyana</td><td>374.26840366870476</td><td>411.3464487919592</td><td>-37.078045123268396</td></tr>",
                            "<tr><td>Kuwait</td><td>371.25976638888903</td><td>411.3464487919592</td><td>-40.086682403084126</td></tr>",
                            "<tr><td>Mongolia</td><td>367.25416666666666</td><td>411.3464487919592</td><td>-44.0922821253065</td></tr>",
                            "<tr><td>Grenada</td><td>364.44311413978494</td><td>411.3464487919592</td><td>-46.90333465218822</td></tr>",
                            "<tr><td>Lithuania</td><td>364.3328880407125</td><td>411.3464487919592</td><td>-47.013560751260684</td></tr>",
                            "<tr><td>Latvia</td><td>363.8060847121114</td><td>411.3464487919592</td><td>-47.540364079861774</td></tr>",
                            "<tr><td>Bosnia and Herzegovina</td><td>360.10494047619056</td><td>411.3464487919592</td><td>-51.241508315782596</td></tr>",
                            "<tr><td>Kyrgyzstan</td><td>356.13365592948725</td><td>411.3464487919592</td><td>-55.21279286248591</td></tr>",
                            "<tr><td>Greece</td><td>349.9609629928315</td><td>411.3464487919592</td><td>-61.385485799141634</td></tr>",
                            "<tr><td>El Salvador</td><td>343.5996923611113</td><td>411.3464487919592</td><td>-67.74675643086186</td></tr>",
                            "<tr><td>Kazakhstan</td><td>342.44973504273514</td><td>411.3464487919592</td><td>-68.89671374923802</td></tr>",
                            "<tr><td>Hungary</td><td>341.20202698924726</td><td>411.3464487919592</td><td>-70.1444218027259</td></tr>",
                            "<tr><td>Colombia</td><td>327.5490758552108</td><td>411.3464487919592</td><td>-83.79737293676237</td></tr>",
                            "<tr><td>Germany</td><td>321.2233667735041</td><td>411.3464487919592</td><td>-90.12308201846906</td></tr>",
                            "<tr><td>Georgia</td><td>315.6335578282829</td><td>411.3464487919592</td><td>-95.71289096369026</td></tr>",
                            "<tr><td>Ecuador</td><td>315.60704054659504</td><td>411.3464487919592</td><td>-95.73940824537812</td></tr>",
                            "<tr><td>Japan</td><td>310.29120868786373</td><td>411.3464487919592</td><td>-101.05524010410943</td></tr>",
                            "<tr><td>Israel</td><td>303.9400909498208</td><td>411.3464487919592</td><td>-107.40635784215237</td></tr>",
                            "<tr><td>Maldives</td><td>302.45014999999995</td><td>411.3464487919592</td><td>-108.89629879197321</td></tr>",
                            "<tr><td>Finland</td><td>302.02215680076614</td><td>411.3464487919592</td><td>-109.32429199120702</td></tr>",
                            "<tr><td>Ireland</td><td>300.71188888888867</td><td>411.3464487919592</td><td>-110.6345599030845</td></tr>",
                            "<tr><td>France</td><td>298.0482435185185</td><td>411.3464487919592</td><td>-113.29820527345464</td></tr>",
                            "<tr><td>Iceland</td><td>293.9326702443281</td><td>411.3464487919592</td><td>-117.41377854764505</td></tr>",
                            "<tr><td>Costa Rica</td><td>293.01002879629624</td><td>411.3464487919592</td><td>-118.33641999567692</td></tr>",
                            "<tr><td>Cuba</td><td>289.89812673611124</td><td>411.3464487919592</td><td>-121.44832205586192</td></tr>",
                            "<tr><td>Jamaica</td><td>283.96928513071913</td><td>411.3464487919592</td><td>-127.37716366125403</td></tr>",
                            "<tr><td>Denmark</td><td>283.59735732323236</td><td>411.3464487919592</td><td>-127.7490914687408</td></tr>",
                            "<tr><td>Estonia</td><td>281.0824992063494</td><td>411.3464487919592</td><td>-130.26394958562378</td></tr>",
                            "<tr><td>Italy</td><td>280.3155600358423</td><td>411.3464487919592</td><td>-131.03088875613088</td></tr>",
                            "<tr><td>Czech Republic</td><td>267.79267080745353</td><td>411.3464487919592</td><td>-143.55377798451963</td></tr>",
                            "<tr><td>Croatia</td><td>264.8061446564886</td><td>411.3464487919592</td><td>-146.54030413548458</td></tr>",
                            "<tr><td>Cyprus</td><td>263.6499398313027</td><td>411.3464487919592</td><td>-147.69650896067049</td></tr>",
                            "<tr><td>Dominica</td><td>260.3209583333334</td><td>411.3464487919592</td><td>-151.02549045863975</td></tr>",
                            "<tr><td>Fiji</td><td>235.36672348484856</td><td>411.3464487919592</td><td>-175.9797253071246</td></tr>",
                            "<tr><td>Russia</td><td>158.073</td><td>411.3464487919592</td><td>-253.27344879197315</td></tr>",
                            "</table>"
                        ]
                    }
                }
            ],
            "execution_count": 4
        },
        {
            "cell_type": "markdown",
            "source": [
                "Turkey has the largest positive difference in average $ per sale with $146/sale greater than the worldwide average. In contrast, Russia has the largest negative difference with $253/sale less than the world average.\n",
                "\n",
                "We'll now look at returns of purchased items for each country."
            ],
            "metadata": {
                "language": "sql",
                "azdata_cell_guid": "20484698-456f-43a3-bdf6-ec1993d9be7f"
            },
            "attachments": {}
        },
        {
            "cell_type": "code",
            "source": [
                "-- CTE for value of sales returned\n",
                "WITH returned_$ AS (\n",
                "    SELECT country,\n",
                "        -- Sum of total dollars returned\n",
                "        SUM(Returned_Amount) AS returned_amount_$,\n",
                "        -- Percentage of dollars returned over dollars sold\n",
                "        -- Sales column doesn't include amount for returned items\n",
                "        SUM(Returned_Amount) / (SUM(Sales) + SUM(Returned_Amount)) AS pct_$_returned\n",
                "    From logs\n",
                "    GROUP BY country),\n",
                "\n",
                "-- CTE for number of sales returned\n",
                "returned_orders AS (\n",
                "    SELECT t1.country, \n",
                "        -- counting all rows (number of transactions)\n",
                "        COUNT(*) AS sales_transaction,\n",
                "        -- counting number of order returns \n",
                "        COUNT(t2.Returned) AS orders_returned,\n",
                "        -- calculating percentage of orders that were returned\n",
                "        1.0 * COUNT(t2.Returned) / COUNT(*) AS pct_orders_returned\n",
                "    FROM logs as t1\n",
                "    LEFT JOIN (SELECT duration_seconds, ip, country, Returned\n",
                "    FROM logs \n",
                "    WHERE Returned = 'Yes') AS t2\n",
                "    ON t1.duration_seconds = t2.duration_seconds\n",
                "    AND t1.ip = t2.ip\n",
                "    GROUP BY t1.country)\n",
                "\n",
                "-- final query with percent of orders returned and percent of sales refunded\n",
                "SELECT TOP 5 CTE1.country, pct_orders_returned, pct_$_returned \n",
                "FROM returned_$ AS CTE1\n",
                "    INNER JOIN returned_orders AS CTE2\n",
                "    ON CTE1.country = CTE2.country \n",
                "ORDER BY pct_orders_returned DESC, pct_$_returned DESC;\n",
                "\n",
                ""
            ],
            "metadata": {
                "language": "sql",
                "azdata_cell_guid": "345b24ef-7116-47f8-b846-4d6430801a74",
                "tags": []
            },
            "outputs": [
                {
                    "output_type": "display_data",
                    "data": {
                        "text/html": "Warning: Null value is eliminated by an aggregate or other SET operation."
                    },
                    "metadata": {}
                },
                {
                    "output_type": "display_data",
                    "data": {
                        "text/html": "(5 rows affected)"
                    },
                    "metadata": {}
                },
                {
                    "output_type": "display_data",
                    "data": {
                        "text/html": "Total execution time: 00:00:00.534"
                    },
                    "metadata": {}
                },
                {
                    "output_type": "execute_result",
                    "metadata": {},
                    "execution_count": 5,
                    "data": {
                        "application/vnd.dataresource+json": {
                            "schema": {
                                "fields": [
                                    {
                                        "name": "country"
                                    },
                                    {
                                        "name": "pct_orders_returned"
                                    },
                                    {
                                        "name": "pct_$_returned"
                                    }
                                ]
                            },
                            "data": [
                                {
                                    "country": "Nicaragua",
                                    "pct_orders_returned": "0.212962962962",
                                    "pct_$_returned": "0.2117912818013144"
                                },
                                {
                                    "country": "Oman",
                                    "pct_orders_returned": "0.212962962962",
                                    "pct_$_returned": "0.15195254761361246"
                                },
                                {
                                    "country": "Montenegro",
                                    "pct_orders_returned": "0.190277777777",
                                    "pct_$_returned": "0.21973417846937784"
                                },
                                {
                                    "country": "Puerto Rico",
                                    "pct_orders_returned": "0.184139784946",
                                    "pct_$_returned": "0.15605512400495514"
                                },
                                {
                                    "country": "Poland",
                                    "pct_orders_returned": "0.182870370370",
                                    "pct_$_returned": "0.14169463345436822"
                                }
                            ]
                        },
                        "text/html": [
                            "<table>",
                            "<tr><th>country</th><th>pct_orders_returned</th><th>pct_$_returned</th></tr>",
                            "<tr><td>Nicaragua</td><td>0.212962962962</td><td>0.2117912818013144</td></tr>",
                            "<tr><td>Oman</td><td>0.212962962962</td><td>0.15195254761361246</td></tr>",
                            "<tr><td>Montenegro</td><td>0.190277777777</td><td>0.21973417846937784</td></tr>",
                            "<tr><td>Puerto Rico</td><td>0.184139784946</td><td>0.15605512400495514</td></tr>",
                            "<tr><td>Poland</td><td>0.182870370370</td><td>0.14169463345436822</td></tr>",
                            "</table>"
                        ]
                    }
                }
            ],
            "execution_count": 5
        },
        {
            "cell_type": "markdown",
            "source": [
                "Nicaragua and Oman have the highest percentage of orders returned at 21.3%. This represents a possible opportunity to increase revenue by making the return policy more strict to attempt to lower the number of returned orders. The affect that a stricter return policy would have on customer experience should also be taken into account though.\n",
                "\n",
                "We will next look at the number of returns for each language. This will help inform us of any language/communication issues thay may be causing a higher rate of purchase returns."
            ],
            "metadata": {
                "language": "sql",
                "azdata_cell_guid": "2196e6be-9f8b-4054-b701-d886c76d165f"
            },
            "attachments": {}
        },
        {
            "cell_type": "code",
            "source": [
                "SELECT TOP 5 t1.Languages, \n",
                "        -- calculating percentage of orders that were returned\n",
                "        ROUND((1.0 * COUNT(t2.Returned) / COUNT(*)), 2) AS pct_orders_returned\n",
                "FROM logs as t1\n",
                "LEFT JOIN (SELECT duration_seconds, ip, country, Returned\n",
                "FROM logs \n",
                "WHERE Returned = 'Yes') AS t2\n",
                "ON t1.duration_seconds = t2.duration_seconds\n",
                "AND t1.ip = t2.ip\n",
                "GROUP BY t1.Languages\n",
                "ORDER BY pct_orders_returned DESC;"
            ],
            "metadata": {
                "language": "sql",
                "azdata_cell_guid": "5a4c4188-7f38-49f6-bb67-9bd7f0522c7b",
                "tags": []
            },
            "outputs": [
                {
                    "output_type": "display_data",
                    "data": {
                        "text/html": "Warning: Null value is eliminated by an aggregate or other SET operation."
                    },
                    "metadata": {}
                },
                {
                    "output_type": "display_data",
                    "data": {
                        "text/html": "(5 rows affected)"
                    },
                    "metadata": {}
                },
                {
                    "output_type": "display_data",
                    "data": {
                        "text/html": "Total execution time: 00:00:00.489"
                    },
                    "metadata": {}
                },
                {
                    "output_type": "execute_result",
                    "metadata": {},
                    "execution_count": 6,
                    "data": {
                        "application/vnd.dataresource+json": {
                            "schema": {
                                "fields": [
                                    {
                                        "name": "Languages"
                                    },
                                    {
                                        "name": "pct_orders_returned"
                                    }
                                ]
                            },
                            "data": [
                                {
                                    "Languages": "marathi",
                                    "pct_orders_returned": "0.220000000000"
                                },
                                {
                                    "Languages": "romanian",
                                    "pct_orders_returned": "0.180000000000"
                                },
                                {
                                    "Languages": "kinyarwanda",
                                    "pct_orders_returned": "0.180000000000"
                                },
                                {
                                    "Languages": "Slovak",
                                    "pct_orders_returned": "0.170000000000"
                                },
                                {
                                    "Languages": "polish",
                                    "pct_orders_returned": "0.170000000000"
                                }
                            ]
                        },
                        "text/html": [
                            "<table>",
                            "<tr><th>Languages</th><th>pct_orders_returned</th></tr>",
                            "<tr><td>marathi</td><td>0.220000000000</td></tr>",
                            "<tr><td>romanian</td><td>0.180000000000</td></tr>",
                            "<tr><td>kinyarwanda</td><td>0.180000000000</td></tr>",
                            "<tr><td>Slovak</td><td>0.170000000000</td></tr>",
                            "<tr><td>polish</td><td>0.170000000000</td></tr>",
                            "</table>"
                        ]
                    }
                }
            ],
            "execution_count": 6
        },
        {
            "cell_type": "markdown",
            "source": [
                "Marathi, a language spoken in India, has the highest percentage for orders returned (4% above the second language). A statistical test should be performed to determine if this percentage is statistically significantly greater than the 2nd highest percentage. If it is, this indicates that higher return rates could be linked to translation issues with the language. This means customers could be misinformed about products, resulting in higher return rates. The impact of language on return rates should be further investigated for the website as a whole to idenitfy if that is a frequent issue.\n",
                "\n",
                "The membership types associated with online purchases will now be investigated per country. It is important to note that each count of a membership type represents an online purchase but not a unique individual (no unique identifiers are present in dataset). It is likely that premium members make more frequent purchases than normal and non-members. This category therefore investigates purchases per membership type and not individuals per membership type."
            ],
            "metadata": {
                "language": "sql",
                "azdata_cell_guid": "206e9b51-03e9-4b25-8375-50280b3fbcaa"
            },
            "attachments": {}
        },
        {
            "cell_type": "code",
            "source": [
                "-- first CTE for total website purchase per country\n",
                "WITH totals AS (\n",
                "    SELECT country, COUNT(*) AS total_visits\n",
                "    FROM logs\n",
                "    GROUP BY country),\n",
                "\n",
                "-- second CTE for website visits per membership type per country\n",
                "memberships AS (\n",
                "    SELECT country, membership, COUNT(1) AS website_visits\n",
                "    FROM logs\n",
                "    GROUP BY country, membership)\n",
                "\n",
                "-- joining CTEs and calculating pct membership type for total visits per country\n",
                "SELECT memberships.country, membership, website_visits, 1.0 * website_visits/total_visits AS pct_visits\n",
                "FROM memberships\n",
                "    LEFT JOIN totals\n",
                "    ON memberships.country = totals.country\n",
                "ORDER BY country;"
            ],
            "metadata": {
                "language": "sql",
                "azdata_cell_guid": "dbf2198b-15b9-4dff-b5fd-97f398ce14f1"
            },
            "outputs": [
                {
                    "output_type": "display_data",
                    "data": {
                        "text/html": "(301 rows affected)"
                    },
                    "metadata": {}
                },
                {
                    "output_type": "display_data",
                    "data": {
                        "text/html": "Total execution time: 00:00:00.094"
                    },
                    "metadata": {}
                },
                {
                    "output_type": "execute_result",
                    "metadata": {},
                    "execution_count": 28,
                    "data": {
                        "application/vnd.dataresource+json": {
                            "schema": {
                                "fields": [
                                    {
                                        "name": "country"
                                    },
                                    {
                                        "name": "membership"
                                    },
                                    {
                                        "name": "website_visits"
                                    },
                                    {
                                        "name": "pct_visits"
                                    }
                                ]
                            },
                            "data": [
                                {
                                    "country": "Albania",
                                    "membership": "Normal",
                                    "website_visits": "646",
                                    "pct_visits": "0.349567099567"
                                },
                                {
                                    "country": "Albania",
                                    "membership": "Premium",
                                    "website_visits": "1185",
                                    "pct_visits": "0.641233766233"
                                },
                                {
                                    "country": "Albania",
                                    "membership": "Not Logged In",
                                    "website_visits": "17",
                                    "pct_visits": "0.009199134199"
                                },
                                {
                                    "country": "Antigua and Barbuda",
                                    "membership": "Premium",
                                    "website_visits": "1527",
                                    "pct_visits": "0.673280423280"
                                },
                                {
                                    "country": "Antigua and Barbuda",
                                    "membership": "Not Logged In",
                                    "website_visits": "20",
                                    "pct_visits": "0.008818342151"
                                },
                                {
                                    "country": "Antigua and Barbuda",
                                    "membership": "Normal",
                                    "website_visits": "721",
                                    "pct_visits": "0.317901234567"
                                },
                                {
                                    "country": "Argentina",
                                    "membership": "Not Logged In",
                                    "website_visits": "24",
                                    "pct_visits": "0.009220130618"
                                },
                                {
                                    "country": "Argentina",
                                    "membership": "Premium",
                                    "website_visits": "1612",
                                    "pct_visits": "0.619285439877"
                                },
                                {
                                    "country": "Argentina",
                                    "membership": "Normal",
                                    "website_visits": "967",
                                    "pct_visits": "0.371494429504"
                                },
                                {
                                    "country": "Armenia",
                                    "membership": "Normal",
                                    "website_visits": "678",
                                    "pct_visits": "0.325023969319"
                                },
                                {
                                    "country": "Armenia",
                                    "membership": "Premium",
                                    "website_visits": "1388",
                                    "pct_visits": "0.665388302972"
                                },
                                {
                                    "country": "Armenia",
                                    "membership": "Not Logged In",
                                    "website_visits": "20",
                                    "pct_visits": "0.009587727708"
                                },
                                {
                                    "country": "Aruba",
                                    "membership": "Normal",
                                    "website_visits": "409",
                                    "pct_visits": "0.347789115646"
                                },
                                {
                                    "country": "Aruba",
                                    "membership": "Premium",
                                    "website_visits": "763",
                                    "pct_visits": "0.648809523809"
                                },
                                {
                                    "country": "Aruba",
                                    "membership": "Not Logged In",
                                    "website_visits": "4",
                                    "pct_visits": "0.003401360544"
                                },
                                {
                                    "country": "Australia",
                                    "membership": "Premium",
                                    "website_visits": "1684",
                                    "pct_visits": "0.668253968253"
                                },
                                {
                                    "country": "Australia",
                                    "membership": "Not Logged In",
                                    "website_visits": "41",
                                    "pct_visits": "0.016269841269"
                                },
                                {
                                    "country": "Australia",
                                    "membership": "Normal",
                                    "website_visits": "795",
                                    "pct_visits": "0.315476190476"
                                },
                                {
                                    "country": "Austria",
                                    "membership": "Normal",
                                    "website_visits": "835",
                                    "pct_visits": "0.312266267763"
                                },
                                {
                                    "country": "Austria",
                                    "membership": "Not Logged In",
                                    "website_visits": "12",
                                    "pct_visits": "0.004487658937"
                                },
                                {
                                    "country": "Austria",
                                    "membership": "Premium",
                                    "website_visits": "1827",
                                    "pct_visits": "0.683246073298"
                                },
                                {
                                    "country": "Azerbaijan",
                                    "membership": "Normal",
                                    "website_visits": "424",
                                    "pct_visits": "0.315476190476"
                                },
                                {
                                    "country": "Azerbaijan",
                                    "membership": "Not Logged In",
                                    "website_visits": "6",
                                    "pct_visits": "0.004464285714"
                                },
                                {
                                    "country": "Azerbaijan",
                                    "membership": "Premium",
                                    "website_visits": "914",
                                    "pct_visits": "0.680059523809"
                                },
                                {
                                    "country": "Bahamas",
                                    "membership": "Normal",
                                    "website_visits": "568",
                                    "pct_visits": "0.293995859213"
                                },
                                {
                                    "country": "Bahamas",
                                    "membership": "Not Logged In",
                                    "website_visits": "10",
                                    "pct_visits": "0.005175983436"
                                },
                                {
                                    "country": "Bahamas",
                                    "membership": "Premium",
                                    "website_visits": "1354",
                                    "pct_visits": "0.700828157349"
                                },
                                {
                                    "country": "Bahrain",
                                    "membership": "Not Logged In",
                                    "website_visits": "11",
                                    "pct_visits": "0.006235827664"
                                },
                                {
                                    "country": "Bahrain",
                                    "membership": "Premium",
                                    "website_visits": "1258",
                                    "pct_visits": "0.713151927437"
                                },
                                {
                                    "country": "Bahrain",
                                    "membership": "Normal",
                                    "website_visits": "495",
                                    "pct_visits": "0.280612244897"
                                },
                                {
                                    "country": "Barbados",
                                    "membership": "Premium",
                                    "website_visits": "1402",
                                    "pct_visits": "0.667937112910"
                                },
                                {
                                    "country": "Barbados",
                                    "membership": "Normal",
                                    "website_visits": "687",
                                    "pct_visits": "0.327298713673"
                                },
                                {
                                    "country": "Barbados",
                                    "membership": "Not Logged In",
                                    "website_visits": "10",
                                    "pct_visits": "0.004764173415"
                                },
                                {
                                    "country": "Belarus",
                                    "membership": "Not Logged In",
                                    "website_visits": "14",
                                    "pct_visits": "0.007941009642"
                                },
                                {
                                    "country": "Belarus",
                                    "membership": "Premium",
                                    "website_visits": "1203",
                                    "pct_visits": "0.682359614293"
                                },
                                {
                                    "country": "Belarus",
                                    "membership": "Normal",
                                    "website_visits": "546",
                                    "pct_visits": "0.309699376063"
                                },
                                {
                                    "country": "Belgium",
                                    "membership": "Not Logged In",
                                    "website_visits": "30",
                                    "pct_visits": "0.011520737327"
                                },
                                {
                                    "country": "Belgium",
                                    "membership": "Premium",
                                    "website_visits": "1758",
                                    "pct_visits": "0.675115207373"
                                },
                                {
                                    "country": "Belgium",
                                    "membership": "Normal",
                                    "website_visits": "816",
                                    "pct_visits": "0.313364055299"
                                },
                                {
                                    "country": "Belize",
                                    "membership": "Not Logged In",
                                    "website_visits": "6",
                                    "pct_visits": "0.002551020408"
                                },
                                {
                                    "country": "Belize",
                                    "membership": "Normal",
                                    "website_visits": "814",
                                    "pct_visits": "0.346088435374"
                                },
                                {
                                    "country": "Belize",
                                    "membership": "Premium",
                                    "website_visits": "1532",
                                    "pct_visits": "0.651360544217"
                                },
                                {
                                    "country": "Bosnia and Herzegovina",
                                    "membership": "Not Logged In",
                                    "website_visits": "2",
                                    "pct_visits": "0.011904761904"
                                },
                                {
                                    "country": "Bosnia and Herzegovina",
                                    "membership": "Normal",
                                    "website_visits": "44",
                                    "pct_visits": "0.261904761904"
                                },
                                {
                                    "country": "Bosnia and Herzegovina",
                                    "membership": "Premium",
                                    "website_visits": "122",
                                    "pct_visits": "0.726190476190"
                                },
                                {
                                    "country": "Brazil",
                                    "membership": "Not Logged In",
                                    "website_visits": "16",
                                    "pct_visits": "0.006144393241"
                                },
                                {
                                    "country": "Brazil",
                                    "membership": "Normal",
                                    "website_visits": "931",
                                    "pct_visits": "0.357526881720"
                                },
                                {
                                    "country": "Brazil",
                                    "membership": "Premium",
                                    "website_visits": "1657",
                                    "pct_visits": "0.636328725038"
                                },
                                {
                                    "country": "Bulgaria",
                                    "membership": "Not Logged In",
                                    "website_visits": "34",
                                    "pct_visits": "0.013492063492"
                                },
                                {
                                    "country": "Bulgaria",
                                    "membership": "Premium",
                                    "website_visits": "1572",
                                    "pct_visits": "0.623809523809"
                                },
                                {
                                    "country": "Bulgaria",
                                    "membership": "Normal",
                                    "website_visits": "914",
                                    "pct_visits": "0.362698412698"
                                },
                                {
                                    "country": "Cabo Verde",
                                    "membership": "Premium",
                                    "website_visits": "57",
                                    "pct_visits": "0.678571428571"
                                },
                                {
                                    "country": "Cabo Verde",
                                    "membership": "Normal",
                                    "website_visits": "27",
                                    "pct_visits": "0.321428571428"
                                },
                                {
                                    "country": "Canada",
                                    "membership": "Normal",
                                    "website_visits": "854",
                                    "pct_visits": "0.350574712643"
                                },
                                {
                                    "country": "Canada",
                                    "membership": "Premium",
                                    "website_visits": "1554",
                                    "pct_visits": "0.637931034482"
                                },
                                {
                                    "country": "Canada",
                                    "membership": "Not Logged In",
                                    "website_visits": "28",
                                    "pct_visits": "0.011494252873"
                                },
                                {
                                    "country": "Chile",
                                    "membership": "Normal",
                                    "website_visits": "857",
                                    "pct_visits": "0.329109062980"
                                },
                                {
                                    "country": "Chile",
                                    "membership": "Not Logged In",
                                    "website_visits": "249",
                                    "pct_visits": "0.095622119815"
                                },
                                {
                                    "country": "Chile",
                                    "membership": "Premium",
                                    "website_visits": "1498",
                                    "pct_visits": "0.575268817204"
                                },
                                {
                                    "country": "Colombia",
                                    "membership": "Not Logged In",
                                    "website_visits": "579",
                                    "pct_visits": "0.230310262529"
                                },
                                {
                                    "country": "Colombia",
                                    "membership": "Premium",
                                    "website_visits": "1087",
                                    "pct_visits": "0.432378679395"
                                },
                                {
                                    "country": "Colombia",
                                    "membership": "Normal",
                                    "website_visits": "848",
                                    "pct_visits": "0.337311058074"
                                },
                                {
                                    "country": "Costa Rica",
                                    "membership": "Not Logged In",
                                    "website_visits": "522",
                                    "pct_visits": "0.241666666666"
                                },
                                {
                                    "country": "Costa Rica",
                                    "membership": "Normal",
                                    "website_visits": "691",
                                    "pct_visits": "0.319907407407"
                                },
                                {
                                    "country": "Costa Rica",
                                    "membership": "Premium",
                                    "website_visits": "947",
                                    "pct_visits": "0.438425925925"
                                },
                                {
                                    "country": "Croatia",
                                    "membership": "Normal",
                                    "website_visits": "429",
                                    "pct_visits": "0.272900763358"
                                },
                                {
                                    "country": "Croatia",
                                    "membership": "Premium",
                                    "website_visits": "765",
                                    "pct_visits": "0.486641221374"
                                },
                                {
                                    "country": "Croatia",
                                    "membership": "Not Logged In",
                                    "website_visits": "378",
                                    "pct_visits": "0.240458015267"
                                },
                                {
                                    "country": "Cuba",
                                    "membership": "Premium",
                                    "website_visits": "926",
                                    "pct_visits": "0.535879629629"
                                },
                                {
                                    "country": "Cuba",
                                    "membership": "Normal",
                                    "website_visits": "452",
                                    "pct_visits": "0.261574074074"
                                },
                                {
                                    "country": "Cuba",
                                    "membership": "Not Logged In",
                                    "website_visits": "350",
                                    "pct_visits": "0.202546296296"
                                },
                                {
                                    "country": "Cyprus",
                                    "membership": "Not Logged In",
                                    "website_visits": "258",
                                    "pct_visits": "0.241799437675"
                                },
                                {
                                    "country": "Cyprus",
                                    "membership": "Premium",
                                    "website_visits": "517",
                                    "pct_visits": "0.484536082474"
                                },
                                {
                                    "country": "Cyprus",
                                    "membership": "Normal",
                                    "website_visits": "292",
                                    "pct_visits": "0.273664479850"
                                },
                                {
                                    "country": "Czech Republic",
                                    "membership": "Normal",
                                    "website_visits": "509",
                                    "pct_visits": "0.263457556935"
                                },
                                {
                                    "country": "Czech Republic",
                                    "membership": "Not Logged In",
                                    "website_visits": "513",
                                    "pct_visits": "0.265527950310"
                                },
                                {
                                    "country": "Czech Republic",
                                    "membership": "Premium",
                                    "website_visits": "910",
                                    "pct_visits": "0.471014492753"
                                },
                                {
                                    "country": "Denmark",
                                    "membership": "Premium",
                                    "website_visits": "824",
                                    "pct_visits": "0.520202020202"
                                },
                                {
                                    "country": "Denmark",
                                    "membership": "Normal",
                                    "website_visits": "370",
                                    "pct_visits": "0.233585858585"
                                },
                                {
                                    "country": "Denmark",
                                    "membership": "Not Logged In",
                                    "website_visits": "390",
                                    "pct_visits": "0.246212121212"
                                },
                                {
                                    "country": "Dominica",
                                    "membership": "Normal",
                                    "website_visits": "25",
                                    "pct_visits": "0.347222222222"
                                },
                                {
                                    "country": "Dominica",
                                    "membership": "Not Logged In",
                                    "website_visits": "21",
                                    "pct_visits": "0.291666666666"
                                },
                                {
                                    "country": "Dominica",
                                    "membership": "Premium",
                                    "website_visits": "26",
                                    "pct_visits": "0.361111111111"
                                },
                                {
                                    "country": "Ecuador",
                                    "membership": "Not Logged In",
                                    "website_visits": "390",
                                    "pct_visits": "0.174731182795"
                                },
                                {
                                    "country": "Ecuador",
                                    "membership": "Premium",
                                    "website_visits": "1152",
                                    "pct_visits": "0.516129032258"
                                },
                                {
                                    "country": "Ecuador",
                                    "membership": "Normal",
                                    "website_visits": "690",
                                    "pct_visits": "0.309139784946"
                                },
                                {
                                    "country": "El Salvador",
                                    "membership": "Normal",
                                    "website_visits": "559",
                                    "pct_visits": "0.323495370370"
                                },
                                {
                                    "country": "El Salvador",
                                    "membership": "Not Logged In",
                                    "website_visits": "299",
                                    "pct_visits": "0.173032407407"
                                },
                                {
                                    "country": "El Salvador",
                                    "membership": "Premium",
                                    "website_visits": "870",
                                    "pct_visits": "0.503472222222"
                                },
                                {
                                    "country": "Estonia",
                                    "membership": "Premium",
                                    "website_visits": "683",
                                    "pct_visits": "0.451719576719"
                                },
                                {
                                    "country": "Estonia",
                                    "membership": "Not Logged In",
                                    "website_visits": "471",
                                    "pct_visits": "0.311507936507"
                                },
                                {
                                    "country": "Estonia",
                                    "membership": "Normal",
                                    "website_visits": "358",
                                    "pct_visits": "0.236772486772"
                                },
                                {
                                    "country": "Fiji",
                                    "membership": "Normal",
                                    "website_visits": "212",
                                    "pct_visits": "0.267676767676"
                                },
                                {
                                    "country": "Fiji",
                                    "membership": "Not Logged In",
                                    "website_visits": "264",
                                    "pct_visits": "0.333333333333"
                                },
                                {
                                    "country": "Fiji",
                                    "membership": "Premium",
                                    "website_visits": "316",
                                    "pct_visits": "0.398989898989"
                                },
                                {
                                    "country": "Finland",
                                    "membership": "Not Logged In",
                                    "website_visits": "507",
                                    "pct_visits": "0.242816091954"
                                },
                                {
                                    "country": "Finland",
                                    "membership": "Normal",
                                    "website_visits": "550",
                                    "pct_visits": "0.263409961685"
                                },
                                {
                                    "country": "Finland",
                                    "membership": "Premium",
                                    "website_visits": "1031",
                                    "pct_visits": "0.493773946360"
                                },
                                {
                                    "country": "France",
                                    "membership": "Normal",
                                    "website_visits": "669",
                                    "pct_visits": "0.309722222222"
                                },
                                {
                                    "country": "France",
                                    "membership": "Not Logged In",
                                    "website_visits": "406",
                                    "pct_visits": "0.187962962962"
                                },
                                {
                                    "country": "France",
                                    "membership": "Premium",
                                    "website_visits": "1085",
                                    "pct_visits": "0.502314814814"
                                },
                                {
                                    "country": "Georgia",
                                    "membership": "Premium",
                                    "website_visits": "901",
                                    "pct_visits": "0.568813131313"
                                },
                                {
                                    "country": "Georgia",
                                    "membership": "Not Logged In",
                                    "website_visits": "223",
                                    "pct_visits": "0.140782828282"
                                },
                                {
                                    "country": "Georgia",
                                    "membership": "Normal",
                                    "website_visits": "460",
                                    "pct_visits": "0.290404040404"
                                },
                                {
                                    "country": "Germany",
                                    "membership": "Premium",
                                    "website_visits": "982",
                                    "pct_visits": "0.524572649572"
                                },
                                {
                                    "country": "Germany",
                                    "membership": "Not Logged In",
                                    "website_visits": "265",
                                    "pct_visits": "0.141559829059"
                                },
                                {
                                    "country": "Germany",
                                    "membership": "Normal",
                                    "website_visits": "625",
                                    "pct_visits": "0.333867521367"
                                },
                                {
                                    "country": "Greece",
                                    "membership": "Not Logged In",
                                    "website_visits": "416",
                                    "pct_visits": "0.186379928315"
                                },
                                {
                                    "country": "Greece",
                                    "membership": "Premium",
                                    "website_visits": "1105",
                                    "pct_visits": "0.495071684587"
                                },
                                {
                                    "country": "Greece",
                                    "membership": "Normal",
                                    "website_visits": "711",
                                    "pct_visits": "0.318548387096"
                                },
                                {
                                    "country": "Grenada",
                                    "membership": "Normal",
                                    "website_visits": "602",
                                    "pct_visits": "0.323655913978"
                                },
                                {
                                    "country": "Grenada",
                                    "membership": "Premium",
                                    "website_visits": "969",
                                    "pct_visits": "0.520967741935"
                                },
                                {
                                    "country": "Grenada",
                                    "membership": "Not Logged In",
                                    "website_visits": "289",
                                    "pct_visits": "0.155376344086"
                                },
                                {
                                    "country": "Guatemala",
                                    "membership": "Not Logged In",
                                    "website_visits": "295",
                                    "pct_visits": "0.136574074074"
                                },
                                {
                                    "country": "Guatemala",
                                    "membership": "Premium",
                                    "website_visits": "1198",
                                    "pct_visits": "0.554629629629"
                                },
                                {
                                    "country": "Guatemala",
                                    "membership": "Normal",
                                    "website_visits": "667",
                                    "pct_visits": "0.308796296296"
                                },
                                {
                                    "country": "Guyana",
                                    "membership": "Normal",
                                    "website_visits": "555",
                                    "pct_visits": "0.308504724847"
                                },
                                {
                                    "country": "Guyana",
                                    "membership": "Not Logged In",
                                    "website_visits": "246",
                                    "pct_visits": "0.136742634797"
                                },
                                {
                                    "country": "Guyana",
                                    "membership": "Premium",
                                    "website_visits": "998",
                                    "pct_visits": "0.554752640355"
                                },
                                {
                                    "country": "Hungary",
                                    "membership": "Normal",
                                    "website_visits": "412",
                                    "pct_visits": "0.221505376344"
                                },
                                {
                                    "country": "Hungary",
                                    "membership": "Not Logged In",
                                    "website_visits": "370",
                                    "pct_visits": "0.198924731182"
                                },
                                {
                                    "country": "Hungary",
                                    "membership": "Premium",
                                    "website_visits": "1078",
                                    "pct_visits": "0.579569892473"
                                },
                                {
                                    "country": "Iceland",
                                    "membership": "Not Logged In",
                                    "website_visits": "680",
                                    "pct_visits": "0.296684118673"
                                },
                                {
                                    "country": "Iceland",
                                    "membership": "Normal",
                                    "website_visits": "422",
                                    "pct_visits": "0.184118673647"
                                },
                                {
                                    "country": "Iceland",
                                    "membership": "Premium",
                                    "website_visits": "1190",
                                    "pct_visits": "0.519197207678"
                                },
                                {
                                    "country": "Ireland",
                                    "membership": "Premium",
                                    "website_visits": "1128",
                                    "pct_visits": "0.522222222222"
                                },
                                {
                                    "country": "Ireland",
                                    "membership": "Not Logged In",
                                    "website_visits": "603",
                                    "pct_visits": "0.279166666666"
                                },
                                {
                                    "country": "Ireland",
                                    "membership": "Normal",
                                    "website_visits": "429",
                                    "pct_visits": "0.198611111111"
                                },
                                {
                                    "country": "Israel",
                                    "membership": "Not Logged In",
                                    "website_visits": "587",
                                    "pct_visits": "0.262992831541"
                                },
                                {
                                    "country": "Israel",
                                    "membership": "Normal",
                                    "website_visits": "420",
                                    "pct_visits": "0.188172043010"
                                },
                                {
                                    "country": "Israel",
                                    "membership": "Premium",
                                    "website_visits": "1225",
                                    "pct_visits": "0.548835125448"
                                },
                                {
                                    "country": "Italy",
                                    "membership": "Not Logged In",
                                    "website_visits": "709",
                                    "pct_visits": "0.317652329749"
                                },
                                {
                                    "country": "Italy",
                                    "membership": "Premium",
                                    "website_visits": "1126",
                                    "pct_visits": "0.504480286738"
                                },
                                {
                                    "country": "Italy",
                                    "membership": "Normal",
                                    "website_visits": "397",
                                    "pct_visits": "0.177867383512"
                                },
                                {
                                    "country": "Jamaica",
                                    "membership": "Not Logged In",
                                    "website_visits": "413",
                                    "pct_visits": "0.337418300653"
                                },
                                {
                                    "country": "Jamaica",
                                    "membership": "Premium",
                                    "website_visits": "569",
                                    "pct_visits": "0.464869281045"
                                },
                                {
                                    "country": "Jamaica",
                                    "membership": "Normal",
                                    "website_visits": "242",
                                    "pct_visits": "0.197712418300"
                                },
                                {
                                    "country": "Japan",
                                    "membership": "Normal",
                                    "website_visits": "448",
                                    "pct_visits": "0.200626959247"
                                },
                                {
                                    "country": "Japan",
                                    "membership": "Premium",
                                    "website_visits": "1048",
                                    "pct_visits": "0.469323779668"
                                },
                                {
                                    "country": "Japan",
                                    "membership": "Not Logged In",
                                    "website_visits": "737",
                                    "pct_visits": "0.330049261083"
                                },
                                {
                                    "country": "Kazakhstan",
                                    "membership": "Premium",
                                    "website_visits": "1088",
                                    "pct_visits": "0.581196581196"
                                },
                                {
                                    "country": "Kazakhstan",
                                    "membership": "Normal",
                                    "website_visits": "406",
                                    "pct_visits": "0.216880341880"
                                },
                                {
                                    "country": "Kazakhstan",
                                    "membership": "Not Logged In",
                                    "website_visits": "378",
                                    "pct_visits": "0.201923076923"
                                },
                                {
                                    "country": "Kiribati",
                                    "membership": "Premium",
                                    "website_visits": "461",
                                    "pct_visits": "0.582070707070"
                                },
                                {
                                    "country": "Kiribati",
                                    "membership": "Not Logged In",
                                    "website_visits": "133",
                                    "pct_visits": "0.167929292929"
                                },
                                {
                                    "country": "Kiribati",
                                    "membership": "Normal",
                                    "website_visits": "198",
                                    "pct_visits": "0.250000000000"
                                },
                                {
                                    "country": "Kuwait",
                                    "membership": "Normal",
                                    "website_visits": "460",
                                    "pct_visits": "0.255555555555"
                                },
                                {
                                    "country": "Kuwait",
                                    "membership": "Premium",
                                    "website_visits": "1070",
                                    "pct_visits": "0.594444444444"
                                },
                                {
                                    "country": "Kuwait",
                                    "membership": "Not Logged In",
                                    "website_visits": "270",
                                    "pct_visits": "0.150000000000"
                                },
                                {
                                    "country": "Kyrgyzstan",
                                    "membership": "Normal",
                                    "website_visits": "446",
                                    "pct_visits": "0.238247863247"
                                },
                                {
                                    "country": "Kyrgyzstan",
                                    "membership": "Premium",
                                    "website_visits": "1105",
                                    "pct_visits": "0.590277777777"
                                },
                                {
                                    "country": "Kyrgyzstan",
                                    "membership": "Not Logged In",
                                    "website_visits": "321",
                                    "pct_visits": "0.171474358974"
                                },
                                {
                                    "country": "Latvia",
                                    "membership": "Premium",
                                    "website_visits": "931",
                                    "pct_visits": "0.616148246194"
                                },
                                {
                                    "country": "Latvia",
                                    "membership": "Not Logged In",
                                    "website_visits": "193",
                                    "pct_visits": "0.127729980145"
                                },
                                {
                                    "country": "Latvia",
                                    "membership": "Normal",
                                    "website_visits": "387",
                                    "pct_visits": "0.256121773659"
                                },
                                {
                                    "country": "Lithuania",
                                    "membership": "Not Logged In",
                                    "website_visits": "252",
                                    "pct_visits": "0.160305343511"
                                },
                                {
                                    "country": "Lithuania",
                                    "membership": "Normal",
                                    "website_visits": "386",
                                    "pct_visits": "0.245547073791"
                                },
                                {
                                    "country": "Lithuania",
                                    "membership": "Premium",
                                    "website_visits": "934",
                                    "pct_visits": "0.594147582697"
                                },
                                {
                                    "country": "Luxembourg",
                                    "membership": "Normal",
                                    "website_visits": "565",
                                    "pct_visits": "0.253136200716"
                                },
                                {
                                    "country": "Luxembourg",
                                    "membership": "Premium",
                                    "website_visits": "1359",
                                    "pct_visits": "0.608870967741"
                                },
                                {
                                    "country": "Luxembourg",
                                    "membership": "Not Logged In",
                                    "website_visits": "308",
                                    "pct_visits": "0.137992831541"
                                },
                                {
                                    "country": "Macau",
                                    "membership": "Not Logged In",
                                    "website_visits": "12",
                                    "pct_visits": "0.166666666666"
                                },
                                {
                                    "country": "Macau",
                                    "membership": "Premium",
                                    "website_visits": "48",
                                    "pct_visits": "0.666666666666"
                                },
                                {
                                    "country": "Macau",
                                    "membership": "Normal",
                                    "website_visits": "12",
                                    "pct_visits": "0.166666666666"
                                },
                                {
                                    "country": "Maldives",
                                    "membership": "Not Logged In",
                                    "website_visits": "204",
                                    "pct_visits": "0.283333333333"
                                },
                                {
                                    "country": "Maldives",
                                    "membership": "Premium",
                                    "website_visits": "390",
                                    "pct_visits": "0.541666666666"
                                },
                                {
                                    "country": "Maldives",
                                    "membership": "Normal",
                                    "website_visits": "126",
                                    "pct_visits": "0.175000000000"
                                },
                                {
                                    "country": "Malta",
                                    "membership": "Premium",
                                    "website_visits": "1287",
                                    "pct_visits": "0.576612903225"
                                },
                                {
                                    "country": "Malta",
                                    "membership": "Not Logged In",
                                    "website_visits": "417",
                                    "pct_visits": "0.186827956989"
                                },
                                {
                                    "country": "Malta",
                                    "membership": "Normal",
                                    "website_visits": "528",
                                    "pct_visits": "0.236559139784"
                                },
                                {
                                    "country": "Mauritius",
                                    "membership": "Premium",
                                    "website_visits": "1455",
                                    "pct_visits": "0.634816753926"
                                },
                                {
                                    "country": "Mauritius",
                                    "membership": "Not Logged In",
                                    "website_visits": "216",
                                    "pct_visits": "0.094240837696"
                                },
                                {
                                    "country": "Mauritius",
                                    "membership": "Normal",
                                    "website_visits": "621",
                                    "pct_visits": "0.270942408376"
                                },
                                {
                                    "country": "Mexico",
                                    "membership": "Not Logged In",
                                    "website_visits": "112",
                                    "pct_visits": "0.050179211469"
                                },
                                {
                                    "country": "Mexico",
                                    "membership": "Normal",
                                    "website_visits": "708",
                                    "pct_visits": "0.317204301075"
                                },
                                {
                                    "country": "Mexico",
                                    "membership": "Premium",
                                    "website_visits": "1412",
                                    "pct_visits": "0.632616487455"
                                },
                                {
                                    "country": "Mongolia",
                                    "membership": "Normal",
                                    "website_visits": "10",
                                    "pct_visits": "0.166666666666"
                                },
                                {
                                    "country": "Mongolia",
                                    "membership": "Premium",
                                    "website_visits": "50",
                                    "pct_visits": "0.833333333333"
                                },
                                {
                                    "country": "Montenegro",
                                    "membership": "Normal",
                                    "website_visits": "168",
                                    "pct_visits": "0.233333333333"
                                },
                                {
                                    "country": "Montenegro",
                                    "membership": "Premium",
                                    "website_visits": "552",
                                    "pct_visits": "0.766666666666"
                                },
                                {
                                    "country": "Netherlands",
                                    "membership": "Not Logged In",
                                    "website_visits": "236",
                                    "pct_visits": "0.102966841186"
                                },
                                {
                                    "country": "Netherlands",
                                    "membership": "Premium",
                                    "website_visits": "1456",
                                    "pct_visits": "0.635253054101"
                                },
                                {
                                    "country": "Netherlands",
                                    "membership": "Normal",
                                    "website_visits": "600",
                                    "pct_visits": "0.261780104712"
                                },
                                {
                                    "country": "New Zealand",
                                    "membership": "Premium",
                                    "website_visits": "1304",
                                    "pct_visits": "0.624521072796"
                                },
                                {
                                    "country": "New Zealand",
                                    "membership": "Normal",
                                    "website_visits": "570",
                                    "pct_visits": "0.272988505747"
                                },
                                {
                                    "country": "New Zealand",
                                    "membership": "Not Logged In",
                                    "website_visits": "214",
                                    "pct_visits": "0.102490421455"
                                },
                                {
                                    "country": "Nicaragua",
                                    "membership": "Normal",
                                    "website_visits": "118",
                                    "pct_visits": "0.273148148148"
                                },
                                {
                                    "country": "Nicaragua",
                                    "membership": "Not Logged In",
                                    "website_visits": "6",
                                    "pct_visits": "0.013888888888"
                                },
                                {
                                    "country": "Nicaragua",
                                    "membership": "Premium",
                                    "website_visits": "308",
                                    "pct_visits": "0.712962962962"
                                },
                                {
                                    "country": "Norway",
                                    "membership": "Premium",
                                    "website_visits": "1488",
                                    "pct_visits": "0.688888888888"
                                },
                                {
                                    "country": "Norway",
                                    "membership": "Normal",
                                    "website_visits": "612",
                                    "pct_visits": "0.283333333333"
                                },
                                {
                                    "country": "Norway",
                                    "membership": "Not Logged In",
                                    "website_visits": "60",
                                    "pct_visits": "0.027777777777"
                                },
                                {
                                    "country": "Oman",
                                    "membership": "Premium",
                                    "website_visits": "160",
                                    "pct_visits": "0.740740740740"
                                },
                                {
                                    "country": "Oman",
                                    "membership": "Not Logged In",
                                    "website_visits": "12",
                                    "pct_visits": "0.055555555555"
                                },
                                {
                                    "country": "Oman",
                                    "membership": "Normal",
                                    "website_visits": "44",
                                    "pct_visits": "0.203703703703"
                                },
                                {
                                    "country": "Panama",
                                    "membership": "Not Logged In",
                                    "website_visits": "134",
                                    "pct_visits": "0.074444444444"
                                },
                                {
                                    "country": "Panama",
                                    "membership": "Normal",
                                    "website_visits": "399",
                                    "pct_visits": "0.221666666666"
                                },
                                {
                                    "country": "Panama",
                                    "membership": "Premium",
                                    "website_visits": "1267",
                                    "pct_visits": "0.703888888888"
                                },
                                {
                                    "country": "Paraguay",
                                    "membership": "Normal",
                                    "website_visits": "461",
                                    "pct_visits": "0.237139917695"
                                },
                                {
                                    "country": "Paraguay",
                                    "membership": "Premium",
                                    "website_visits": "1387",
                                    "pct_visits": "0.713477366255"
                                },
                                {
                                    "country": "Paraguay",
                                    "membership": "Not Logged In",
                                    "website_visits": "96",
                                    "pct_visits": "0.049382716049"
                                },
                                {
                                    "country": "Philippines",
                                    "membership": "Normal",
                                    "website_visits": "227",
                                    "pct_visits": "0.210379981464"
                                },
                                {
                                    "country": "Philippines",
                                    "membership": "Not Logged In",
                                    "website_visits": "96",
                                    "pct_visits": "0.088971269694"
                                },
                                {
                                    "country": "Philippines",
                                    "membership": "Premium",
                                    "website_visits": "756",
                                    "pct_visits": "0.700648748841"
                                },
                                {
                                    "country": "Poland",
                                    "membership": "Premium",
                                    "website_visits": "1286",
                                    "pct_visits": "0.744212962962"
                                },
                                {
                                    "country": "Poland",
                                    "membership": "Normal",
                                    "website_visits": "414",
                                    "pct_visits": "0.239583333333"
                                },
                                {
                                    "country": "Poland",
                                    "membership": "Not Logged In",
                                    "website_visits": "28",
                                    "pct_visits": "0.016203703703"
                                },
                                {
                                    "country": "Portugal",
                                    "membership": "Normal",
                                    "website_visits": "543",
                                    "pct_visits": "0.279320987654"
                                },
                                {
                                    "country": "Portugal",
                                    "membership": "Premium",
                                    "website_visits": "1385",
                                    "pct_visits": "0.712448559670"
                                },
                                {
                                    "country": "Portugal",
                                    "membership": "Not Logged In",
                                    "website_visits": "16",
                                    "pct_visits": "0.008230452674"
                                },
                                {
                                    "country": "Puerto Rico",
                                    "membership": "Normal",
                                    "website_visits": "601",
                                    "pct_visits": "0.269265232974"
                                },
                                {
                                    "country": "Puerto Rico",
                                    "membership": "Premium",
                                    "website_visits": "1625",
                                    "pct_visits": "0.728046594982"
                                },
                                {
                                    "country": "Puerto Rico",
                                    "membership": "Not Logged In",
                                    "website_visits": "6",
                                    "pct_visits": "0.002688172043"
                                },
                                {
                                    "country": "Qatar",
                                    "membership": "Premium",
                                    "website_visits": "749",
                                    "pct_visits": "0.701310861423"
                                },
                                {
                                    "country": "Qatar",
                                    "membership": "Normal",
                                    "website_visits": "315",
                                    "pct_visits": "0.294943820224"
                                },
                                {
                                    "country": "Qatar",
                                    "membership": "Not Logged In",
                                    "website_visits": "4",
                                    "pct_visits": "0.003745318352"
                                },
                                {
                                    "country": "Republic of Korea",
                                    "membership": "Normal",
                                    "website_visits": "676",
                                    "pct_visits": "0.302867383512"
                                },
                                {
                                    "country": "Republic of Korea",
                                    "membership": "Premium",
                                    "website_visits": "1530",
                                    "pct_visits": "0.685483870967"
                                },
                                {
                                    "country": "Republic of Korea",
                                    "membership": "Not Logged In",
                                    "website_visits": "26",
                                    "pct_visits": "0.011648745519"
                                },
                                {
                                    "country": "Romania",
                                    "membership": "Normal",
                                    "website_visits": "534",
                                    "pct_visits": "0.266467065868"
                                },
                                {
                                    "country": "Romania",
                                    "membership": "Premium",
                                    "website_visits": "1442",
                                    "pct_visits": "0.719560878243"
                                },
                                {
                                    "country": "Romania",
                                    "membership": "Not Logged In",
                                    "website_visits": "28",
                                    "pct_visits": "0.013972055888"
                                },
                                {
                                    "country": "Russia",
                                    "membership": "Normal",
                                    "website_visits": "2",
                                    "pct_visits": "0.250000000000"
                                },
                                {
                                    "country": "Russia",
                                    "membership": "Premium",
                                    "website_visits": "5",
                                    "pct_visits": "0.625000000000"
                                },
                                {
                                    "country": "Russia",
                                    "membership": "Not Logged In",
                                    "website_visits": "1",
                                    "pct_visits": "0.125000000000"
                                },
                                {
                                    "country": "Russian Federation",
                                    "membership": "Premium",
                                    "website_visits": "1328",
                                    "pct_visits": "0.683127572016"
                                },
                                {
                                    "country": "Russian Federation",
                                    "membership": "Normal",
                                    "website_visits": "606",
                                    "pct_visits": "0.311728395061"
                                },
                                {
                                    "country": "Russian Federation",
                                    "membership": "Not Logged In",
                                    "website_visits": "10",
                                    "pct_visits": "0.005144032921"
                                },
                                {
                                    "country": "Saint Kitts and Nevis",
                                    "membership": "Not Logged In",
                                    "website_visits": "2",
                                    "pct_visits": "0.009259259259"
                                },
                                {
                                    "country": "Saint Kitts and Nevis",
                                    "membership": "Premium",
                                    "website_visits": "156",
                                    "pct_visits": "0.722222222222"
                                },
                                {
                                    "country": "Saint Kitts and Nevis",
                                    "membership": "Normal",
                                    "website_visits": "58",
                                    "pct_visits": "0.268518518518"
                                },
                                {
                                    "country": "Saint Lucia",
                                    "membership": "Not Logged In",
                                    "website_visits": "20",
                                    "pct_visits": "0.009920634920"
                                },
                                {
                                    "country": "Saint Lucia",
                                    "membership": "Normal",
                                    "website_visits": "615",
                                    "pct_visits": "0.305059523809"
                                },
                                {
                                    "country": "Saint Lucia",
                                    "membership": "Premium",
                                    "website_visits": "1381",
                                    "pct_visits": "0.685019841269"
                                },
                                {
                                    "country": "Saint Vincent and Grenadines",
                                    "membership": "Not Logged In",
                                    "website_visits": "32",
                                    "pct_visits": "0.017777777777"
                                },
                                {
                                    "country": "Saint Vincent and Grenadines",
                                    "membership": "Premium",
                                    "website_visits": "1241",
                                    "pct_visits": "0.689444444444"
                                },
                                {
                                    "country": "Saint Vincent and Grenadines",
                                    "membership": "Normal",
                                    "website_visits": "527",
                                    "pct_visits": "0.292777777777"
                                },
                                {
                                    "country": "San Marino",
                                    "membership": "Premium",
                                    "website_visits": "148",
                                    "pct_visits": "0.685185185185"
                                },
                                {
                                    "country": "San Marino",
                                    "membership": "Not Logged In",
                                    "website_visits": "2",
                                    "pct_visits": "0.009259259259"
                                },
                                {
                                    "country": "San Marino",
                                    "membership": "Normal",
                                    "website_visits": "66",
                                    "pct_visits": "0.305555555555"
                                },
                                {
                                    "country": "Serbia",
                                    "membership": "Normal",
                                    "website_visits": "427",
                                    "pct_visits": "0.329475308641"
                                },
                                {
                                    "country": "Serbia",
                                    "membership": "Not Logged In",
                                    "website_visits": "8",
                                    "pct_visits": "0.006172839506"
                                },
                                {
                                    "country": "Serbia",
                                    "membership": "Premium",
                                    "website_visits": "861",
                                    "pct_visits": "0.664351851851"
                                },
                                {
                                    "country": "Seychelles",
                                    "membership": "Not Logged In",
                                    "website_visits": "8",
                                    "pct_visits": "0.006172839506"
                                },
                                {
                                    "country": "Seychelles",
                                    "membership": "Premium",
                                    "website_visits": "808",
                                    "pct_visits": "0.623456790123"
                                },
                                {
                                    "country": "Seychelles",
                                    "membership": "Normal",
                                    "website_visits": "480",
                                    "pct_visits": "0.370370370370"
                                },
                                {
                                    "country": "Singapore",
                                    "membership": "Normal",
                                    "website_visits": "681",
                                    "pct_visits": "0.305107526881"
                                },
                                {
                                    "country": "Singapore",
                                    "membership": "Premium",
                                    "website_visits": "1535",
                                    "pct_visits": "0.687724014336"
                                },
                                {
                                    "country": "Singapore",
                                    "membership": "Not Logged In",
                                    "website_visits": "16",
                                    "pct_visits": "0.007168458781"
                                },
                                {
                                    "country": "Slovakia",
                                    "membership": "Not Logged In",
                                    "website_visits": "12",
                                    "pct_visits": "0.007575757575"
                                },
                                {
                                    "country": "Slovakia",
                                    "membership": "Premium",
                                    "website_visits": "1091",
                                    "pct_visits": "0.688762626262"
                                },
                                {
                                    "country": "Slovakia",
                                    "membership": "Normal",
                                    "website_visits": "481",
                                    "pct_visits": "0.303661616161"
                                },
                                {
                                    "country": "Slovenia",
                                    "membership": "Normal",
                                    "website_visits": "392",
                                    "pct_visits": "0.259430840502"
                                },
                                {
                                    "country": "Slovenia",
                                    "membership": "Not Logged In",
                                    "website_visits": "10",
                                    "pct_visits": "0.006618133686"
                                },
                                {
                                    "country": "Slovenia",
                                    "membership": "Premium",
                                    "website_visits": "1109",
                                    "pct_visits": "0.733951025810"
                                },
                                {
                                    "country": "South Africa",
                                    "membership": "Premium",
                                    "website_visits": "1099",
                                    "pct_visits": "0.763194444444"
                                },
                                {
                                    "country": "South Africa",
                                    "membership": "Normal",
                                    "website_visits": "341",
                                    "pct_visits": "0.236805555555"
                                },
                                {
                                    "country": "Spain",
                                    "membership": "Normal",
                                    "website_visits": "599",
                                    "pct_visits": "0.268369175627"
                                },
                                {
                                    "country": "Spain",
                                    "membership": "Premium",
                                    "website_visits": "1609",
                                    "pct_visits": "0.720878136200"
                                },
                                {
                                    "country": "Spain",
                                    "membership": "Not Logged In",
                                    "website_visits": "24",
                                    "pct_visits": "0.010752688172"
                                },
                                {
                                    "country": "Sri Lanka",
                                    "membership": "Premium",
                                    "website_visits": "613",
                                    "pct_visits": "0.773989898989"
                                },
                                {
                                    "country": "Sri Lanka",
                                    "membership": "Not Logged In",
                                    "website_visits": "10",
                                    "pct_visits": "0.012626262626"
                                },
                                {
                                    "country": "Sri Lanka",
                                    "membership": "Normal",
                                    "website_visits": "169",
                                    "pct_visits": "0.213383838383"
                                },
                                {
                                    "country": "Suriname",
                                    "membership": "Normal",
                                    "website_visits": "552",
                                    "pct_visits": "0.273809523809"
                                },
                                {
                                    "country": "Suriname",
                                    "membership": "Premium",
                                    "website_visits": "1440",
                                    "pct_visits": "0.714285714285"
                                },
                                {
                                    "country": "Suriname",
                                    "membership": "Not Logged In",
                                    "website_visits": "24",
                                    "pct_visits": "0.011904761904"
                                },
                                {
                                    "country": "Sweden",
                                    "membership": "Premium",
                                    "website_visits": "1608",
                                    "pct_visits": "0.748603351955"
                                },
                                {
                                    "country": "Sweden",
                                    "membership": "Normal",
                                    "website_visits": "524",
                                    "pct_visits": "0.243947858472"
                                },
                                {
                                    "country": "Sweden",
                                    "membership": "Not Logged In",
                                    "website_visits": "16",
                                    "pct_visits": "0.007448789571"
                                },
                                {
                                    "country": "Switzerland",
                                    "membership": "Normal",
                                    "website_visits": "370",
                                    "pct_visits": "0.244708994708"
                                },
                                {
                                    "country": "Switzerland",
                                    "membership": "Premium",
                                    "website_visits": "1138",
                                    "pct_visits": "0.752645502645"
                                },
                                {
                                    "country": "Switzerland",
                                    "membership": "Not Logged In",
                                    "website_visits": "4",
                                    "pct_visits": "0.002645502645"
                                },
                                {
                                    "country": "Thailand",
                                    "membership": "Not Logged In",
                                    "website_visits": "16",
                                    "pct_visits": "0.007984031936"
                                },
                                {
                                    "country": "Thailand",
                                    "membership": "Premium",
                                    "website_visits": "1472",
                                    "pct_visits": "0.734530938123"
                                },
                                {
                                    "country": "Thailand",
                                    "membership": "Normal",
                                    "website_visits": "516",
                                    "pct_visits": "0.257485029940"
                                },
                                {
                                    "country": "Trinidad and Tobago",
                                    "membership": "Premium",
                                    "website_visits": "1365",
                                    "pct_visits": "0.702160493827"
                                },
                                {
                                    "country": "Trinidad and Tobago",
                                    "membership": "Not Logged In",
                                    "website_visits": "10",
                                    "pct_visits": "0.005144032921"
                                },
                                {
                                    "country": "Trinidad and Tobago",
                                    "membership": "Normal",
                                    "website_visits": "569",
                                    "pct_visits": "0.292695473251"
                                },
                                {
                                    "country": "Turkey",
                                    "membership": "Not Logged In",
                                    "website_visits": "2",
                                    "pct_visits": "0.003968253968"
                                },
                                {
                                    "country": "Turkey",
                                    "membership": "Premium",
                                    "website_visits": "369",
                                    "pct_visits": "0.732142857142"
                                },
                                {
                                    "country": "Turkey",
                                    "membership": "Normal",
                                    "website_visits": "133",
                                    "pct_visits": "0.263888888888"
                                },
                                {
                                    "country": "Turkmenistan",
                                    "membership": "Premium",
                                    "website_visits": "1415",
                                    "pct_visits": "0.677681992337"
                                },
                                {
                                    "country": "Turkmenistan",
                                    "membership": "Not Logged In",
                                    "website_visits": "20",
                                    "pct_visits": "0.009578544061"
                                },
                                {
                                    "country": "Turkmenistan",
                                    "membership": "Normal",
                                    "website_visits": "653",
                                    "pct_visits": "0.312739463601"
                                },
                                {
                                    "country": "Ukraine",
                                    "membership": "Premium",
                                    "website_visits": "1312",
                                    "pct_visits": "0.650793650793"
                                },
                                {
                                    "country": "Ukraine",
                                    "membership": "Not Logged In",
                                    "website_visits": "18",
                                    "pct_visits": "0.008928571428"
                                },
                                {
                                    "country": "Ukraine",
                                    "membership": "Normal",
                                    "website_visits": "686",
                                    "pct_visits": "0.340277777777"
                                },
                                {
                                    "country": "United Arab Emirates",
                                    "membership": "Premium",
                                    "website_visits": "298",
                                    "pct_visits": "0.689814814814"
                                },
                                {
                                    "country": "United Arab Emirates",
                                    "membership": "Normal",
                                    "website_visits": "134",
                                    "pct_visits": "0.310185185185"
                                },
                                {
                                    "country": "United Kingdom",
                                    "membership": "Not Logged In",
                                    "website_visits": "18",
                                    "pct_visits": "0.008064516129"
                                },
                                {
                                    "country": "United Kingdom",
                                    "membership": "Premium",
                                    "website_visits": "1480",
                                    "pct_visits": "0.663082437275"
                                },
                                {
                                    "country": "United Kingdom",
                                    "membership": "Normal",
                                    "website_visits": "734",
                                    "pct_visits": "0.328853046594"
                                },
                                {
                                    "country": "United States",
                                    "membership": "Not Logged In",
                                    "website_visits": "20",
                                    "pct_visits": "0.008964589870"
                                },
                                {
                                    "country": "United States",
                                    "membership": "Normal",
                                    "website_visits": "789",
                                    "pct_visits": "0.353653070372"
                                },
                                {
                                    "country": "United States",
                                    "membership": "Premium",
                                    "website_visits": "1422",
                                    "pct_visits": "0.637382339757"
                                },
                                {
                                    "country": "Uruguay",
                                    "membership": "Normal",
                                    "website_visits": "736",
                                    "pct_visits": "0.365079365079"
                                },
                                {
                                    "country": "Uruguay",
                                    "membership": "Premium",
                                    "website_visits": "1248",
                                    "pct_visits": "0.619047619047"
                                },
                                {
                                    "country": "Uruguay",
                                    "membership": "Not Logged In",
                                    "website_visits": "32",
                                    "pct_visits": "0.015873015873"
                                },
                                {
                                    "country": "Uzbekistan",
                                    "membership": "Premium",
                                    "website_visits": "986",
                                    "pct_visits": "0.622474747474"
                                },
                                {
                                    "country": "Uzbekistan",
                                    "membership": "Not Logged In",
                                    "website_visits": "38",
                                    "pct_visits": "0.023989898989"
                                },
                                {
                                    "country": "Uzbekistan",
                                    "membership": "Normal",
                                    "website_visits": "560",
                                    "pct_visits": "0.353535353535"
                                }
                            ]
                        },
                        "text/html": [
                            "<table>",
                            "<tr><th>country</th><th>membership</th><th>website_visits</th><th>pct_visits</th></tr>",
                            "<tr><td>Albania</td><td>Normal</td><td>646</td><td>0.349567099567</td></tr>",
                            "<tr><td>Albania</td><td>Premium</td><td>1185</td><td>0.641233766233</td></tr>",
                            "<tr><td>Albania</td><td>Not Logged In</td><td>17</td><td>0.009199134199</td></tr>",
                            "<tr><td>Antigua and Barbuda</td><td>Premium</td><td>1527</td><td>0.673280423280</td></tr>",
                            "<tr><td>Antigua and Barbuda</td><td>Not Logged In</td><td>20</td><td>0.008818342151</td></tr>",
                            "<tr><td>Antigua and Barbuda</td><td>Normal</td><td>721</td><td>0.317901234567</td></tr>",
                            "<tr><td>Argentina</td><td>Not Logged In</td><td>24</td><td>0.009220130618</td></tr>",
                            "<tr><td>Argentina</td><td>Premium</td><td>1612</td><td>0.619285439877</td></tr>",
                            "<tr><td>Argentina</td><td>Normal</td><td>967</td><td>0.371494429504</td></tr>",
                            "<tr><td>Armenia</td><td>Normal</td><td>678</td><td>0.325023969319</td></tr>",
                            "<tr><td>Armenia</td><td>Premium</td><td>1388</td><td>0.665388302972</td></tr>",
                            "<tr><td>Armenia</td><td>Not Logged In</td><td>20</td><td>0.009587727708</td></tr>",
                            "<tr><td>Aruba</td><td>Normal</td><td>409</td><td>0.347789115646</td></tr>",
                            "<tr><td>Aruba</td><td>Premium</td><td>763</td><td>0.648809523809</td></tr>",
                            "<tr><td>Aruba</td><td>Not Logged In</td><td>4</td><td>0.003401360544</td></tr>",
                            "<tr><td>Australia</td><td>Premium</td><td>1684</td><td>0.668253968253</td></tr>",
                            "<tr><td>Australia</td><td>Not Logged In</td><td>41</td><td>0.016269841269</td></tr>",
                            "<tr><td>Australia</td><td>Normal</td><td>795</td><td>0.315476190476</td></tr>",
                            "<tr><td>Austria</td><td>Normal</td><td>835</td><td>0.312266267763</td></tr>",
                            "<tr><td>Austria</td><td>Not Logged In</td><td>12</td><td>0.004487658937</td></tr>",
                            "<tr><td>Austria</td><td>Premium</td><td>1827</td><td>0.683246073298</td></tr>",
                            "<tr><td>Azerbaijan</td><td>Normal</td><td>424</td><td>0.315476190476</td></tr>",
                            "<tr><td>Azerbaijan</td><td>Not Logged In</td><td>6</td><td>0.004464285714</td></tr>",
                            "<tr><td>Azerbaijan</td><td>Premium</td><td>914</td><td>0.680059523809</td></tr>",
                            "<tr><td>Bahamas</td><td>Normal</td><td>568</td><td>0.293995859213</td></tr>",
                            "<tr><td>Bahamas</td><td>Not Logged In</td><td>10</td><td>0.005175983436</td></tr>",
                            "<tr><td>Bahamas</td><td>Premium</td><td>1354</td><td>0.700828157349</td></tr>",
                            "<tr><td>Bahrain</td><td>Not Logged In</td><td>11</td><td>0.006235827664</td></tr>",
                            "<tr><td>Bahrain</td><td>Premium</td><td>1258</td><td>0.713151927437</td></tr>",
                            "<tr><td>Bahrain</td><td>Normal</td><td>495</td><td>0.280612244897</td></tr>",
                            "<tr><td>Barbados</td><td>Premium</td><td>1402</td><td>0.667937112910</td></tr>",
                            "<tr><td>Barbados</td><td>Normal</td><td>687</td><td>0.327298713673</td></tr>",
                            "<tr><td>Barbados</td><td>Not Logged In</td><td>10</td><td>0.004764173415</td></tr>",
                            "<tr><td>Belarus</td><td>Not Logged In</td><td>14</td><td>0.007941009642</td></tr>",
                            "<tr><td>Belarus</td><td>Premium</td><td>1203</td><td>0.682359614293</td></tr>",
                            "<tr><td>Belarus</td><td>Normal</td><td>546</td><td>0.309699376063</td></tr>",
                            "<tr><td>Belgium</td><td>Not Logged In</td><td>30</td><td>0.011520737327</td></tr>",
                            "<tr><td>Belgium</td><td>Premium</td><td>1758</td><td>0.675115207373</td></tr>",
                            "<tr><td>Belgium</td><td>Normal</td><td>816</td><td>0.313364055299</td></tr>",
                            "<tr><td>Belize</td><td>Not Logged In</td><td>6</td><td>0.002551020408</td></tr>",
                            "<tr><td>Belize</td><td>Normal</td><td>814</td><td>0.346088435374</td></tr>",
                            "<tr><td>Belize</td><td>Premium</td><td>1532</td><td>0.651360544217</td></tr>",
                            "<tr><td>Bosnia and Herzegovina</td><td>Not Logged In</td><td>2</td><td>0.011904761904</td></tr>",
                            "<tr><td>Bosnia and Herzegovina</td><td>Normal</td><td>44</td><td>0.261904761904</td></tr>",
                            "<tr><td>Bosnia and Herzegovina</td><td>Premium</td><td>122</td><td>0.726190476190</td></tr>",
                            "<tr><td>Brazil</td><td>Not Logged In</td><td>16</td><td>0.006144393241</td></tr>",
                            "<tr><td>Brazil</td><td>Normal</td><td>931</td><td>0.357526881720</td></tr>",
                            "<tr><td>Brazil</td><td>Premium</td><td>1657</td><td>0.636328725038</td></tr>",
                            "<tr><td>Bulgaria</td><td>Not Logged In</td><td>34</td><td>0.013492063492</td></tr>",
                            "<tr><td>Bulgaria</td><td>Premium</td><td>1572</td><td>0.623809523809</td></tr>",
                            "<tr><td>Bulgaria</td><td>Normal</td><td>914</td><td>0.362698412698</td></tr>",
                            "<tr><td>Cabo Verde</td><td>Premium</td><td>57</td><td>0.678571428571</td></tr>",
                            "<tr><td>Cabo Verde</td><td>Normal</td><td>27</td><td>0.321428571428</td></tr>",
                            "<tr><td>Canada</td><td>Normal</td><td>854</td><td>0.350574712643</td></tr>",
                            "<tr><td>Canada</td><td>Premium</td><td>1554</td><td>0.637931034482</td></tr>",
                            "<tr><td>Canada</td><td>Not Logged In</td><td>28</td><td>0.011494252873</td></tr>",
                            "<tr><td>Chile</td><td>Normal</td><td>857</td><td>0.329109062980</td></tr>",
                            "<tr><td>Chile</td><td>Not Logged In</td><td>249</td><td>0.095622119815</td></tr>",
                            "<tr><td>Chile</td><td>Premium</td><td>1498</td><td>0.575268817204</td></tr>",
                            "<tr><td>Colombia</td><td>Not Logged In</td><td>579</td><td>0.230310262529</td></tr>",
                            "<tr><td>Colombia</td><td>Premium</td><td>1087</td><td>0.432378679395</td></tr>",
                            "<tr><td>Colombia</td><td>Normal</td><td>848</td><td>0.337311058074</td></tr>",
                            "<tr><td>Costa Rica</td><td>Not Logged In</td><td>522</td><td>0.241666666666</td></tr>",
                            "<tr><td>Costa Rica</td><td>Normal</td><td>691</td><td>0.319907407407</td></tr>",
                            "<tr><td>Costa Rica</td><td>Premium</td><td>947</td><td>0.438425925925</td></tr>",
                            "<tr><td>Croatia</td><td>Normal</td><td>429</td><td>0.272900763358</td></tr>",
                            "<tr><td>Croatia</td><td>Premium</td><td>765</td><td>0.486641221374</td></tr>",
                            "<tr><td>Croatia</td><td>Not Logged In</td><td>378</td><td>0.240458015267</td></tr>",
                            "<tr><td>Cuba</td><td>Premium</td><td>926</td><td>0.535879629629</td></tr>",
                            "<tr><td>Cuba</td><td>Normal</td><td>452</td><td>0.261574074074</td></tr>",
                            "<tr><td>Cuba</td><td>Not Logged In</td><td>350</td><td>0.202546296296</td></tr>",
                            "<tr><td>Cyprus</td><td>Not Logged In</td><td>258</td><td>0.241799437675</td></tr>",
                            "<tr><td>Cyprus</td><td>Premium</td><td>517</td><td>0.484536082474</td></tr>",
                            "<tr><td>Cyprus</td><td>Normal</td><td>292</td><td>0.273664479850</td></tr>",
                            "<tr><td>Czech Republic</td><td>Normal</td><td>509</td><td>0.263457556935</td></tr>",
                            "<tr><td>Czech Republic</td><td>Not Logged In</td><td>513</td><td>0.265527950310</td></tr>",
                            "<tr><td>Czech Republic</td><td>Premium</td><td>910</td><td>0.471014492753</td></tr>",
                            "<tr><td>Denmark</td><td>Premium</td><td>824</td><td>0.520202020202</td></tr>",
                            "<tr><td>Denmark</td><td>Normal</td><td>370</td><td>0.233585858585</td></tr>",
                            "<tr><td>Denmark</td><td>Not Logged In</td><td>390</td><td>0.246212121212</td></tr>",
                            "<tr><td>Dominica</td><td>Normal</td><td>25</td><td>0.347222222222</td></tr>",
                            "<tr><td>Dominica</td><td>Not Logged In</td><td>21</td><td>0.291666666666</td></tr>",
                            "<tr><td>Dominica</td><td>Premium</td><td>26</td><td>0.361111111111</td></tr>",
                            "<tr><td>Ecuador</td><td>Not Logged In</td><td>390</td><td>0.174731182795</td></tr>",
                            "<tr><td>Ecuador</td><td>Premium</td><td>1152</td><td>0.516129032258</td></tr>",
                            "<tr><td>Ecuador</td><td>Normal</td><td>690</td><td>0.309139784946</td></tr>",
                            "<tr><td>El Salvador</td><td>Normal</td><td>559</td><td>0.323495370370</td></tr>",
                            "<tr><td>El Salvador</td><td>Not Logged In</td><td>299</td><td>0.173032407407</td></tr>",
                            "<tr><td>El Salvador</td><td>Premium</td><td>870</td><td>0.503472222222</td></tr>",
                            "<tr><td>Estonia</td><td>Premium</td><td>683</td><td>0.451719576719</td></tr>",
                            "<tr><td>Estonia</td><td>Not Logged In</td><td>471</td><td>0.311507936507</td></tr>",
                            "<tr><td>Estonia</td><td>Normal</td><td>358</td><td>0.236772486772</td></tr>",
                            "<tr><td>Fiji</td><td>Normal</td><td>212</td><td>0.267676767676</td></tr>",
                            "<tr><td>Fiji</td><td>Not Logged In</td><td>264</td><td>0.333333333333</td></tr>",
                            "<tr><td>Fiji</td><td>Premium</td><td>316</td><td>0.398989898989</td></tr>",
                            "<tr><td>Finland</td><td>Not Logged In</td><td>507</td><td>0.242816091954</td></tr>",
                            "<tr><td>Finland</td><td>Normal</td><td>550</td><td>0.263409961685</td></tr>",
                            "<tr><td>Finland</td><td>Premium</td><td>1031</td><td>0.493773946360</td></tr>",
                            "<tr><td>France</td><td>Normal</td><td>669</td><td>0.309722222222</td></tr>",
                            "<tr><td>France</td><td>Not Logged In</td><td>406</td><td>0.187962962962</td></tr>",
                            "<tr><td>France</td><td>Premium</td><td>1085</td><td>0.502314814814</td></tr>",
                            "<tr><td>Georgia</td><td>Premium</td><td>901</td><td>0.568813131313</td></tr>",
                            "<tr><td>Georgia</td><td>Not Logged In</td><td>223</td><td>0.140782828282</td></tr>",
                            "<tr><td>Georgia</td><td>Normal</td><td>460</td><td>0.290404040404</td></tr>",
                            "<tr><td>Germany</td><td>Premium</td><td>982</td><td>0.524572649572</td></tr>",
                            "<tr><td>Germany</td><td>Not Logged In</td><td>265</td><td>0.141559829059</td></tr>",
                            "<tr><td>Germany</td><td>Normal</td><td>625</td><td>0.333867521367</td></tr>",
                            "<tr><td>Greece</td><td>Not Logged In</td><td>416</td><td>0.186379928315</td></tr>",
                            "<tr><td>Greece</td><td>Premium</td><td>1105</td><td>0.495071684587</td></tr>",
                            "<tr><td>Greece</td><td>Normal</td><td>711</td><td>0.318548387096</td></tr>",
                            "<tr><td>Grenada</td><td>Normal</td><td>602</td><td>0.323655913978</td></tr>",
                            "<tr><td>Grenada</td><td>Premium</td><td>969</td><td>0.520967741935</td></tr>",
                            "<tr><td>Grenada</td><td>Not Logged In</td><td>289</td><td>0.155376344086</td></tr>",
                            "<tr><td>Guatemala</td><td>Not Logged In</td><td>295</td><td>0.136574074074</td></tr>",
                            "<tr><td>Guatemala</td><td>Premium</td><td>1198</td><td>0.554629629629</td></tr>",
                            "<tr><td>Guatemala</td><td>Normal</td><td>667</td><td>0.308796296296</td></tr>",
                            "<tr><td>Guyana</td><td>Normal</td><td>555</td><td>0.308504724847</td></tr>",
                            "<tr><td>Guyana</td><td>Not Logged In</td><td>246</td><td>0.136742634797</td></tr>",
                            "<tr><td>Guyana</td><td>Premium</td><td>998</td><td>0.554752640355</td></tr>",
                            "<tr><td>Hungary</td><td>Normal</td><td>412</td><td>0.221505376344</td></tr>",
                            "<tr><td>Hungary</td><td>Not Logged In</td><td>370</td><td>0.198924731182</td></tr>",
                            "<tr><td>Hungary</td><td>Premium</td><td>1078</td><td>0.579569892473</td></tr>",
                            "<tr><td>Iceland</td><td>Not Logged In</td><td>680</td><td>0.296684118673</td></tr>",
                            "<tr><td>Iceland</td><td>Normal</td><td>422</td><td>0.184118673647</td></tr>",
                            "<tr><td>Iceland</td><td>Premium</td><td>1190</td><td>0.519197207678</td></tr>",
                            "<tr><td>Ireland</td><td>Premium</td><td>1128</td><td>0.522222222222</td></tr>",
                            "<tr><td>Ireland</td><td>Not Logged In</td><td>603</td><td>0.279166666666</td></tr>",
                            "<tr><td>Ireland</td><td>Normal</td><td>429</td><td>0.198611111111</td></tr>",
                            "<tr><td>Israel</td><td>Not Logged In</td><td>587</td><td>0.262992831541</td></tr>",
                            "<tr><td>Israel</td><td>Normal</td><td>420</td><td>0.188172043010</td></tr>",
                            "<tr><td>Israel</td><td>Premium</td><td>1225</td><td>0.548835125448</td></tr>",
                            "<tr><td>Italy</td><td>Not Logged In</td><td>709</td><td>0.317652329749</td></tr>",
                            "<tr><td>Italy</td><td>Premium</td><td>1126</td><td>0.504480286738</td></tr>",
                            "<tr><td>Italy</td><td>Normal</td><td>397</td><td>0.177867383512</td></tr>",
                            "<tr><td>Jamaica</td><td>Not Logged In</td><td>413</td><td>0.337418300653</td></tr>",
                            "<tr><td>Jamaica</td><td>Premium</td><td>569</td><td>0.464869281045</td></tr>",
                            "<tr><td>Jamaica</td><td>Normal</td><td>242</td><td>0.197712418300</td></tr>",
                            "<tr><td>Japan</td><td>Normal</td><td>448</td><td>0.200626959247</td></tr>",
                            "<tr><td>Japan</td><td>Premium</td><td>1048</td><td>0.469323779668</td></tr>",
                            "<tr><td>Japan</td><td>Not Logged In</td><td>737</td><td>0.330049261083</td></tr>",
                            "<tr><td>Kazakhstan</td><td>Premium</td><td>1088</td><td>0.581196581196</td></tr>",
                            "<tr><td>Kazakhstan</td><td>Normal</td><td>406</td><td>0.216880341880</td></tr>",
                            "<tr><td>Kazakhstan</td><td>Not Logged In</td><td>378</td><td>0.201923076923</td></tr>",
                            "<tr><td>Kiribati</td><td>Premium</td><td>461</td><td>0.582070707070</td></tr>",
                            "<tr><td>Kiribati</td><td>Not Logged In</td><td>133</td><td>0.167929292929</td></tr>",
                            "<tr><td>Kiribati</td><td>Normal</td><td>198</td><td>0.250000000000</td></tr>",
                            "<tr><td>Kuwait</td><td>Normal</td><td>460</td><td>0.255555555555</td></tr>",
                            "<tr><td>Kuwait</td><td>Premium</td><td>1070</td><td>0.594444444444</td></tr>",
                            "<tr><td>Kuwait</td><td>Not Logged In</td><td>270</td><td>0.150000000000</td></tr>",
                            "<tr><td>Kyrgyzstan</td><td>Normal</td><td>446</td><td>0.238247863247</td></tr>",
                            "<tr><td>Kyrgyzstan</td><td>Premium</td><td>1105</td><td>0.590277777777</td></tr>",
                            "<tr><td>Kyrgyzstan</td><td>Not Logged In</td><td>321</td><td>0.171474358974</td></tr>",
                            "<tr><td>Latvia</td><td>Premium</td><td>931</td><td>0.616148246194</td></tr>",
                            "<tr><td>Latvia</td><td>Not Logged In</td><td>193</td><td>0.127729980145</td></tr>",
                            "<tr><td>Latvia</td><td>Normal</td><td>387</td><td>0.256121773659</td></tr>",
                            "<tr><td>Lithuania</td><td>Not Logged In</td><td>252</td><td>0.160305343511</td></tr>",
                            "<tr><td>Lithuania</td><td>Normal</td><td>386</td><td>0.245547073791</td></tr>",
                            "<tr><td>Lithuania</td><td>Premium</td><td>934</td><td>0.594147582697</td></tr>",
                            "<tr><td>Luxembourg</td><td>Normal</td><td>565</td><td>0.253136200716</td></tr>",
                            "<tr><td>Luxembourg</td><td>Premium</td><td>1359</td><td>0.608870967741</td></tr>",
                            "<tr><td>Luxembourg</td><td>Not Logged In</td><td>308</td><td>0.137992831541</td></tr>",
                            "<tr><td>Macau</td><td>Not Logged In</td><td>12</td><td>0.166666666666</td></tr>",
                            "<tr><td>Macau</td><td>Premium</td><td>48</td><td>0.666666666666</td></tr>",
                            "<tr><td>Macau</td><td>Normal</td><td>12</td><td>0.166666666666</td></tr>",
                            "<tr><td>Maldives</td><td>Not Logged In</td><td>204</td><td>0.283333333333</td></tr>",
                            "<tr><td>Maldives</td><td>Premium</td><td>390</td><td>0.541666666666</td></tr>",
                            "<tr><td>Maldives</td><td>Normal</td><td>126</td><td>0.175000000000</td></tr>",
                            "<tr><td>Malta</td><td>Premium</td><td>1287</td><td>0.576612903225</td></tr>",
                            "<tr><td>Malta</td><td>Not Logged In</td><td>417</td><td>0.186827956989</td></tr>",
                            "<tr><td>Malta</td><td>Normal</td><td>528</td><td>0.236559139784</td></tr>",
                            "<tr><td>Mauritius</td><td>Premium</td><td>1455</td><td>0.634816753926</td></tr>",
                            "<tr><td>Mauritius</td><td>Not Logged In</td><td>216</td><td>0.094240837696</td></tr>",
                            "<tr><td>Mauritius</td><td>Normal</td><td>621</td><td>0.270942408376</td></tr>",
                            "<tr><td>Mexico</td><td>Not Logged In</td><td>112</td><td>0.050179211469</td></tr>",
                            "<tr><td>Mexico</td><td>Normal</td><td>708</td><td>0.317204301075</td></tr>",
                            "<tr><td>Mexico</td><td>Premium</td><td>1412</td><td>0.632616487455</td></tr>",
                            "<tr><td>Mongolia</td><td>Normal</td><td>10</td><td>0.166666666666</td></tr>",
                            "<tr><td>Mongolia</td><td>Premium</td><td>50</td><td>0.833333333333</td></tr>",
                            "<tr><td>Montenegro</td><td>Normal</td><td>168</td><td>0.233333333333</td></tr>",
                            "<tr><td>Montenegro</td><td>Premium</td><td>552</td><td>0.766666666666</td></tr>",
                            "<tr><td>Netherlands</td><td>Not Logged In</td><td>236</td><td>0.102966841186</td></tr>",
                            "<tr><td>Netherlands</td><td>Premium</td><td>1456</td><td>0.635253054101</td></tr>",
                            "<tr><td>Netherlands</td><td>Normal</td><td>600</td><td>0.261780104712</td></tr>",
                            "<tr><td>New Zealand</td><td>Premium</td><td>1304</td><td>0.624521072796</td></tr>",
                            "<tr><td>New Zealand</td><td>Normal</td><td>570</td><td>0.272988505747</td></tr>",
                            "<tr><td>New Zealand</td><td>Not Logged In</td><td>214</td><td>0.102490421455</td></tr>",
                            "<tr><td>Nicaragua</td><td>Normal</td><td>118</td><td>0.273148148148</td></tr>",
                            "<tr><td>Nicaragua</td><td>Not Logged In</td><td>6</td><td>0.013888888888</td></tr>",
                            "<tr><td>Nicaragua</td><td>Premium</td><td>308</td><td>0.712962962962</td></tr>",
                            "<tr><td>Norway</td><td>Premium</td><td>1488</td><td>0.688888888888</td></tr>",
                            "<tr><td>Norway</td><td>Normal</td><td>612</td><td>0.283333333333</td></tr>",
                            "<tr><td>Norway</td><td>Not Logged In</td><td>60</td><td>0.027777777777</td></tr>",
                            "<tr><td>Oman</td><td>Premium</td><td>160</td><td>0.740740740740</td></tr>",
                            "<tr><td>Oman</td><td>Not Logged In</td><td>12</td><td>0.055555555555</td></tr>",
                            "<tr><td>Oman</td><td>Normal</td><td>44</td><td>0.203703703703</td></tr>",
                            "<tr><td>Panama</td><td>Not Logged In</td><td>134</td><td>0.074444444444</td></tr>",
                            "<tr><td>Panama</td><td>Normal</td><td>399</td><td>0.221666666666</td></tr>",
                            "<tr><td>Panama</td><td>Premium</td><td>1267</td><td>0.703888888888</td></tr>",
                            "<tr><td>Paraguay</td><td>Normal</td><td>461</td><td>0.237139917695</td></tr>",
                            "<tr><td>Paraguay</td><td>Premium</td><td>1387</td><td>0.713477366255</td></tr>",
                            "<tr><td>Paraguay</td><td>Not Logged In</td><td>96</td><td>0.049382716049</td></tr>",
                            "<tr><td>Philippines</td><td>Normal</td><td>227</td><td>0.210379981464</td></tr>",
                            "<tr><td>Philippines</td><td>Not Logged In</td><td>96</td><td>0.088971269694</td></tr>",
                            "<tr><td>Philippines</td><td>Premium</td><td>756</td><td>0.700648748841</td></tr>",
                            "<tr><td>Poland</td><td>Premium</td><td>1286</td><td>0.744212962962</td></tr>",
                            "<tr><td>Poland</td><td>Normal</td><td>414</td><td>0.239583333333</td></tr>",
                            "<tr><td>Poland</td><td>Not Logged In</td><td>28</td><td>0.016203703703</td></tr>",
                            "<tr><td>Portugal</td><td>Normal</td><td>543</td><td>0.279320987654</td></tr>",
                            "<tr><td>Portugal</td><td>Premium</td><td>1385</td><td>0.712448559670</td></tr>",
                            "<tr><td>Portugal</td><td>Not Logged In</td><td>16</td><td>0.008230452674</td></tr>",
                            "<tr><td>Puerto Rico</td><td>Normal</td><td>601</td><td>0.269265232974</td></tr>",
                            "<tr><td>Puerto Rico</td><td>Premium</td><td>1625</td><td>0.728046594982</td></tr>",
                            "<tr><td>Puerto Rico</td><td>Not Logged In</td><td>6</td><td>0.002688172043</td></tr>",
                            "<tr><td>Qatar</td><td>Premium</td><td>749</td><td>0.701310861423</td></tr>",
                            "<tr><td>Qatar</td><td>Normal</td><td>315</td><td>0.294943820224</td></tr>",
                            "<tr><td>Qatar</td><td>Not Logged In</td><td>4</td><td>0.003745318352</td></tr>",
                            "<tr><td>Republic of Korea</td><td>Normal</td><td>676</td><td>0.302867383512</td></tr>",
                            "<tr><td>Republic of Korea</td><td>Premium</td><td>1530</td><td>0.685483870967</td></tr>",
                            "<tr><td>Republic of Korea</td><td>Not Logged In</td><td>26</td><td>0.011648745519</td></tr>",
                            "<tr><td>Romania</td><td>Normal</td><td>534</td><td>0.266467065868</td></tr>",
                            "<tr><td>Romania</td><td>Premium</td><td>1442</td><td>0.719560878243</td></tr>",
                            "<tr><td>Romania</td><td>Not Logged In</td><td>28</td><td>0.013972055888</td></tr>",
                            "<tr><td>Russia</td><td>Normal</td><td>2</td><td>0.250000000000</td></tr>",
                            "<tr><td>Russia</td><td>Premium</td><td>5</td><td>0.625000000000</td></tr>",
                            "<tr><td>Russia</td><td>Not Logged In</td><td>1</td><td>0.125000000000</td></tr>",
                            "<tr><td>Russian Federation</td><td>Premium</td><td>1328</td><td>0.683127572016</td></tr>",
                            "<tr><td>Russian Federation</td><td>Normal</td><td>606</td><td>0.311728395061</td></tr>",
                            "<tr><td>Russian Federation</td><td>Not Logged In</td><td>10</td><td>0.005144032921</td></tr>",
                            "<tr><td>Saint Kitts and Nevis</td><td>Not Logged In</td><td>2</td><td>0.009259259259</td></tr>",
                            "<tr><td>Saint Kitts and Nevis</td><td>Premium</td><td>156</td><td>0.722222222222</td></tr>",
                            "<tr><td>Saint Kitts and Nevis</td><td>Normal</td><td>58</td><td>0.268518518518</td></tr>",
                            "<tr><td>Saint Lucia</td><td>Not Logged In</td><td>20</td><td>0.009920634920</td></tr>",
                            "<tr><td>Saint Lucia</td><td>Normal</td><td>615</td><td>0.305059523809</td></tr>",
                            "<tr><td>Saint Lucia</td><td>Premium</td><td>1381</td><td>0.685019841269</td></tr>",
                            "<tr><td>Saint Vincent and Grenadines</td><td>Not Logged In</td><td>32</td><td>0.017777777777</td></tr>",
                            "<tr><td>Saint Vincent and Grenadines</td><td>Premium</td><td>1241</td><td>0.689444444444</td></tr>",
                            "<tr><td>Saint Vincent and Grenadines</td><td>Normal</td><td>527</td><td>0.292777777777</td></tr>",
                            "<tr><td>San Marino</td><td>Premium</td><td>148</td><td>0.685185185185</td></tr>",
                            "<tr><td>San Marino</td><td>Not Logged In</td><td>2</td><td>0.009259259259</td></tr>",
                            "<tr><td>San Marino</td><td>Normal</td><td>66</td><td>0.305555555555</td></tr>",
                            "<tr><td>Serbia</td><td>Normal</td><td>427</td><td>0.329475308641</td></tr>",
                            "<tr><td>Serbia</td><td>Not Logged In</td><td>8</td><td>0.006172839506</td></tr>",
                            "<tr><td>Serbia</td><td>Premium</td><td>861</td><td>0.664351851851</td></tr>",
                            "<tr><td>Seychelles</td><td>Not Logged In</td><td>8</td><td>0.006172839506</td></tr>",
                            "<tr><td>Seychelles</td><td>Premium</td><td>808</td><td>0.623456790123</td></tr>",
                            "<tr><td>Seychelles</td><td>Normal</td><td>480</td><td>0.370370370370</td></tr>",
                            "<tr><td>Singapore</td><td>Normal</td><td>681</td><td>0.305107526881</td></tr>",
                            "<tr><td>Singapore</td><td>Premium</td><td>1535</td><td>0.687724014336</td></tr>",
                            "<tr><td>Singapore</td><td>Not Logged In</td><td>16</td><td>0.007168458781</td></tr>",
                            "<tr><td>Slovakia</td><td>Not Logged In</td><td>12</td><td>0.007575757575</td></tr>",
                            "<tr><td>Slovakia</td><td>Premium</td><td>1091</td><td>0.688762626262</td></tr>",
                            "<tr><td>Slovakia</td><td>Normal</td><td>481</td><td>0.303661616161</td></tr>",
                            "<tr><td>Slovenia</td><td>Normal</td><td>392</td><td>0.259430840502</td></tr>",
                            "<tr><td>Slovenia</td><td>Not Logged In</td><td>10</td><td>0.006618133686</td></tr>",
                            "<tr><td>Slovenia</td><td>Premium</td><td>1109</td><td>0.733951025810</td></tr>",
                            "<tr><td>South Africa</td><td>Premium</td><td>1099</td><td>0.763194444444</td></tr>",
                            "<tr><td>South Africa</td><td>Normal</td><td>341</td><td>0.236805555555</td></tr>",
                            "<tr><td>Spain</td><td>Normal</td><td>599</td><td>0.268369175627</td></tr>",
                            "<tr><td>Spain</td><td>Premium</td><td>1609</td><td>0.720878136200</td></tr>",
                            "<tr><td>Spain</td><td>Not Logged In</td><td>24</td><td>0.010752688172</td></tr>",
                            "<tr><td>Sri Lanka</td><td>Premium</td><td>613</td><td>0.773989898989</td></tr>",
                            "<tr><td>Sri Lanka</td><td>Not Logged In</td><td>10</td><td>0.012626262626</td></tr>",
                            "<tr><td>Sri Lanka</td><td>Normal</td><td>169</td><td>0.213383838383</td></tr>",
                            "<tr><td>Suriname</td><td>Normal</td><td>552</td><td>0.273809523809</td></tr>",
                            "<tr><td>Suriname</td><td>Premium</td><td>1440</td><td>0.714285714285</td></tr>",
                            "<tr><td>Suriname</td><td>Not Logged In</td><td>24</td><td>0.011904761904</td></tr>",
                            "<tr><td>Sweden</td><td>Premium</td><td>1608</td><td>0.748603351955</td></tr>",
                            "<tr><td>Sweden</td><td>Normal</td><td>524</td><td>0.243947858472</td></tr>",
                            "<tr><td>Sweden</td><td>Not Logged In</td><td>16</td><td>0.007448789571</td></tr>",
                            "<tr><td>Switzerland</td><td>Normal</td><td>370</td><td>0.244708994708</td></tr>",
                            "<tr><td>Switzerland</td><td>Premium</td><td>1138</td><td>0.752645502645</td></tr>",
                            "<tr><td>Switzerland</td><td>Not Logged In</td><td>4</td><td>0.002645502645</td></tr>",
                            "<tr><td>Thailand</td><td>Not Logged In</td><td>16</td><td>0.007984031936</td></tr>",
                            "<tr><td>Thailand</td><td>Premium</td><td>1472</td><td>0.734530938123</td></tr>",
                            "<tr><td>Thailand</td><td>Normal</td><td>516</td><td>0.257485029940</td></tr>",
                            "<tr><td>Trinidad and Tobago</td><td>Premium</td><td>1365</td><td>0.702160493827</td></tr>",
                            "<tr><td>Trinidad and Tobago</td><td>Not Logged In</td><td>10</td><td>0.005144032921</td></tr>",
                            "<tr><td>Trinidad and Tobago</td><td>Normal</td><td>569</td><td>0.292695473251</td></tr>",
                            "<tr><td>Turkey</td><td>Not Logged In</td><td>2</td><td>0.003968253968</td></tr>",
                            "<tr><td>Turkey</td><td>Premium</td><td>369</td><td>0.732142857142</td></tr>",
                            "<tr><td>Turkey</td><td>Normal</td><td>133</td><td>0.263888888888</td></tr>",
                            "<tr><td>Turkmenistan</td><td>Premium</td><td>1415</td><td>0.677681992337</td></tr>",
                            "<tr><td>Turkmenistan</td><td>Not Logged In</td><td>20</td><td>0.009578544061</td></tr>",
                            "<tr><td>Turkmenistan</td><td>Normal</td><td>653</td><td>0.312739463601</td></tr>",
                            "<tr><td>Ukraine</td><td>Premium</td><td>1312</td><td>0.650793650793</td></tr>",
                            "<tr><td>Ukraine</td><td>Not Logged In</td><td>18</td><td>0.008928571428</td></tr>",
                            "<tr><td>Ukraine</td><td>Normal</td><td>686</td><td>0.340277777777</td></tr>",
                            "<tr><td>United Arab Emirates</td><td>Premium</td><td>298</td><td>0.689814814814</td></tr>",
                            "<tr><td>United Arab Emirates</td><td>Normal</td><td>134</td><td>0.310185185185</td></tr>",
                            "<tr><td>United Kingdom</td><td>Not Logged In</td><td>18</td><td>0.008064516129</td></tr>",
                            "<tr><td>United Kingdom</td><td>Premium</td><td>1480</td><td>0.663082437275</td></tr>",
                            "<tr><td>United Kingdom</td><td>Normal</td><td>734</td><td>0.328853046594</td></tr>",
                            "<tr><td>United States</td><td>Not Logged In</td><td>20</td><td>0.008964589870</td></tr>",
                            "<tr><td>United States</td><td>Normal</td><td>789</td><td>0.353653070372</td></tr>",
                            "<tr><td>United States</td><td>Premium</td><td>1422</td><td>0.637382339757</td></tr>",
                            "<tr><td>Uruguay</td><td>Normal</td><td>736</td><td>0.365079365079</td></tr>",
                            "<tr><td>Uruguay</td><td>Premium</td><td>1248</td><td>0.619047619047</td></tr>",
                            "<tr><td>Uruguay</td><td>Not Logged In</td><td>32</td><td>0.015873015873</td></tr>",
                            "<tr><td>Uzbekistan</td><td>Premium</td><td>986</td><td>0.622474747474</td></tr>",
                            "<tr><td>Uzbekistan</td><td>Not Logged In</td><td>38</td><td>0.023989898989</td></tr>",
                            "<tr><td>Uzbekistan</td><td>Normal</td><td>560</td><td>0.353535353535</td></tr>",
                            "</table>"
                        ]
                    }
                }
            ],
            "execution_count": 28
        },
        {
            "cell_type": "markdown",
            "source": [
                ""
            ],
            "metadata": {
                "language": "sql",
                "azdata_cell_guid": "3cbb9213-f276-4868-9f51-f404e2e086c3"
            }
        },
        {
            "cell_type": "code",
            "source": [
                "SELECT country, Accessed_From, COUNT(1) AS website_visits\n",
                "FROM logs\n",
                "GROUP BY country, Accessed_From\n",
                "ORDER BY country;"
            ],
            "metadata": {
                "language": "sql",
                "azdata_cell_guid": "9d2f9e3e-0987-4dbe-aa7b-d5292dc61bbd"
            },
            "outputs": [
                {
                    "output_type": "display_data",
                    "data": {
                        "text/html": "(700 rows affected)"
                    },
                    "metadata": {}
                },
                {
                    "output_type": "display_data",
                    "data": {
                        "text/html": "Total execution time: 00:00:00.183"
                    },
                    "metadata": {}
                },
                {
                    "output_type": "execute_result",
                    "metadata": {},
                    "execution_count": 32,
                    "data": {
                        "application/vnd.dataresource+json": {
                            "schema": {
                                "fields": [
                                    {
                                        "name": "country"
                                    },
                                    {
                                        "name": "Accessed_From"
                                    },
                                    {
                                        "name": "website_visits"
                                    }
                                ]
                            },
                            "data": [
                                {
                                    "country": "Albania",
                                    "Accessed_From": "Safari",
                                    "website_visits": "180"
                                },
                                {
                                    "country": "Albania",
                                    "Accessed_From": "Android App",
                                    "website_visits": "392"
                                },
                                {
                                    "country": "Albania",
                                    "Accessed_From": "Others",
                                    "website_visits": "281"
                                },
                                {
                                    "country": "Albania",
                                    "Accessed_From": "Mozilla Firefox",
                                    "website_visits": "292"
                                },
                                {
                                    "country": "Albania",
                                    "Accessed_From": "Microsoft Edge",
                                    "website_visits": "171"
                                },
                                {
                                    "country": "Albania",
                                    "Accessed_From": "IOS App",
                                    "website_visits": "233"
                                },
                                {
                                    "country": "Albania",
                                    "Accessed_From": "Chrome",
                                    "website_visits": "299"
                                },
                                {
                                    "country": "Antigua and Barbuda",
                                    "Accessed_From": "IOS App",
                                    "website_visits": "289"
                                },
                                {
                                    "country": "Antigua and Barbuda",
                                    "Accessed_From": "Safari",
                                    "website_visits": "210"
                                },
                                {
                                    "country": "Antigua and Barbuda",
                                    "Accessed_From": "Chrome",
                                    "website_visits": "401"
                                },
                                {
                                    "country": "Antigua and Barbuda",
                                    "Accessed_From": "Others",
                                    "website_visits": "336"
                                },
                                {
                                    "country": "Antigua and Barbuda",
                                    "Accessed_From": "Mozilla Firefox",
                                    "website_visits": "357"
                                },
                                {
                                    "country": "Antigua and Barbuda",
                                    "Accessed_From": "Microsoft Edge",
                                    "website_visits": "189"
                                },
                                {
                                    "country": "Antigua and Barbuda",
                                    "Accessed_From": "Android App",
                                    "website_visits": "486"
                                },
                                {
                                    "country": "Argentina",
                                    "Accessed_From": "Others",
                                    "website_visits": "407"
                                },
                                {
                                    "country": "Argentina",
                                    "Accessed_From": "IOS App",
                                    "website_visits": "336"
                                },
                                {
                                    "country": "Argentina",
                                    "Accessed_From": "Chrome",
                                    "website_visits": "429"
                                },
                                {
                                    "country": "Argentina",
                                    "Accessed_From": "Safari",
                                    "website_visits": "240"
                                },
                                {
                                    "country": "Argentina",
                                    "Accessed_From": "Microsoft Edge",
                                    "website_visits": "216"
                                },
                                {
                                    "country": "Argentina",
                                    "Accessed_From": "Android App",
                                    "website_visits": "575"
                                },
                                {
                                    "country": "Argentina",
                                    "Accessed_From": "Mozilla Firefox",
                                    "website_visits": "400"
                                },
                                {
                                    "country": "Armenia",
                                    "Accessed_From": "IOS App",
                                    "website_visits": "250"
                                },
                                {
                                    "country": "Armenia",
                                    "Accessed_From": "Others",
                                    "website_visits": "314"
                                },
                                {
                                    "country": "Armenia",
                                    "Accessed_From": "Safari",
                                    "website_visits": "210"
                                },
                                {
                                    "country": "Armenia",
                                    "Accessed_From": "Chrome",
                                    "website_visits": "304"
                                },
                                {
                                    "country": "Armenia",
                                    "Accessed_From": "Android App",
                                    "website_visits": "487"
                                },
                                {
                                    "country": "Armenia",
                                    "Accessed_From": "Microsoft Edge",
                                    "website_visits": "189"
                                },
                                {
                                    "country": "Armenia",
                                    "Accessed_From": "Mozilla Firefox",
                                    "website_visits": "332"
                                },
                                {
                                    "country": "Aruba",
                                    "Accessed_From": "Mozilla Firefox",
                                    "website_visits": "164"
                                },
                                {
                                    "country": "Aruba",
                                    "Accessed_From": "Safari",
                                    "website_visits": "110"
                                },
                                {
                                    "country": "Aruba",
                                    "Accessed_From": "Android App",
                                    "website_visits": "234"
                                },
                                {
                                    "country": "Aruba",
                                    "Accessed_From": "Chrome",
                                    "website_visits": "228"
                                },
                                {
                                    "country": "Aruba",
                                    "Accessed_From": "Others",
                                    "website_visits": "186"
                                },
                                {
                                    "country": "Aruba",
                                    "Accessed_From": "IOS App",
                                    "website_visits": "155"
                                },
                                {
                                    "country": "Aruba",
                                    "Accessed_From": "Microsoft Edge",
                                    "website_visits": "99"
                                },
                                {
                                    "country": "Australia",
                                    "Accessed_From": "Chrome",
                                    "website_visits": "415"
                                },
                                {
                                    "country": "Australia",
                                    "Accessed_From": "Android App",
                                    "website_visits": "575"
                                },
                                {
                                    "country": "Australia",
                                    "Accessed_From": "Mozilla Firefox",
                                    "website_visits": "400"
                                },
                                {
                                    "country": "Australia",
                                    "Accessed_From": "Microsoft Edge",
                                    "website_visits": "216"
                                },
                                {
                                    "country": "Australia",
                                    "Accessed_From": "Others",
                                    "website_visits": "374"
                                },
                                {
                                    "country": "Australia",
                                    "Accessed_From": "Safari",
                                    "website_visits": "240"
                                },
                                {
                                    "country": "Australia",
                                    "Accessed_From": "IOS App",
                                    "website_visits": "300"
                                },
                                {
                                    "country": "Austria",
                                    "Accessed_From": "IOS App",
                                    "website_visits": "346"
                                },
                                {
                                    "country": "Austria",
                                    "Accessed_From": "Chrome",
                                    "website_visits": "418"
                                },
                                {
                                    "country": "Austria",
                                    "Accessed_From": "Mozilla Firefox",
                                    "website_visits": "408"
                                },
                                {
                                    "country": "Austria",
                                    "Accessed_From": "Android App",
                                    "website_visits": "576"
                                },
                                {
                                    "country": "Austria",
                                    "Accessed_From": "Others",
                                    "website_visits": "421"
                                },
                                {
                                    "country": "Austria",
                                    "Accessed_From": "Safari",
                                    "website_visits": "262"
                                },
                                {
                                    "country": "Austria",
                                    "Accessed_From": "Microsoft Edge",
                                    "website_visits": "243"
                                },
                                {
                                    "country": "Azerbaijan",
                                    "Accessed_From": "IOS App",
                                    "website_visits": "167"
                                },
                                {
                                    "country": "Azerbaijan",
                                    "Accessed_From": "Safari",
                                    "website_visits": "128"
                                },
                                {
                                    "country": "Azerbaijan",
                                    "Accessed_From": "Mozilla Firefox",
                                    "website_visits": "200"
                                },
                                {
                                    "country": "Azerbaijan",
                                    "Accessed_From": "Microsoft Edge",
                                    "website_visits": "108"
                                },
                                {
                                    "country": "Azerbaijan",
                                    "Accessed_From": "Android App",
                                    "website_visits": "298"
                                },
                                {
                                    "country": "Azerbaijan",
                                    "Accessed_From": "Others",
                                    "website_visits": "205"
                                },
                                {
                                    "country": "Azerbaijan",
                                    "Accessed_From": "Chrome",
                                    "website_visits": "238"
                                },
                                {
                                    "country": "Bahamas",
                                    "Accessed_From": "Android App",
                                    "website_visits": "432"
                                },
                                {
                                    "country": "Bahamas",
                                    "Accessed_From": "Safari",
                                    "website_visits": "186"
                                },
                                {
                                    "country": "Bahamas",
                                    "Accessed_From": "Others",
                                    "website_visits": "292"
                                },
                                {
                                    "country": "Bahamas",
                                    "Accessed_From": "Chrome",
                                    "website_visits": "296"
                                },
                                {
                                    "country": "Bahamas",
                                    "Accessed_From": "IOS App",
                                    "website_visits": "243"
                                },
                                {
                                    "country": "Bahamas",
                                    "Accessed_From": "Microsoft Edge",
                                    "website_visits": "177"
                                },
                                {
                                    "country": "Bahamas",
                                    "Accessed_From": "Mozilla Firefox",
                                    "website_visits": "306"
                                },
                                {
                                    "country": "Bahrain",
                                    "Accessed_From": "IOS App",
                                    "website_visits": "227"
                                },
                                {
                                    "country": "Bahrain",
                                    "Accessed_From": "Chrome",
                                    "website_visits": "299"
                                },
                                {
                                    "country": "Bahrain",
                                    "Accessed_From": "Microsoft Edge",
                                    "website_visits": "147"
                                },
                                {
                                    "country": "Bahrain",
                                    "Accessed_From": "Android App",
                                    "website_visits": "373"
                                },
                                {
                                    "country": "Bahrain",
                                    "Accessed_From": "Safari",
                                    "website_visits": "164"
                                },
                                {
                                    "country": "Bahrain",
                                    "Accessed_From": "Others",
                                    "website_visits": "284"
                                },
                                {
                                    "country": "Bahrain",
                                    "Accessed_From": "Mozilla Firefox",
                                    "website_visits": "270"
                                },
                                {
                                    "country": "Barbados",
                                    "Accessed_From": "Android App",
                                    "website_visits": "482"
                                },
                                {
                                    "country": "Barbados",
                                    "Accessed_From": "Safari",
                                    "website_visits": "211"
                                },
                                {
                                    "country": "Barbados",
                                    "Accessed_From": "Microsoft Edge",
                                    "website_visits": "180"
                                },
                                {
                                    "country": "Barbados",
                                    "Accessed_From": "Others",
                                    "website_visits": "311"
                                },
                                {
                                    "country": "Barbados",
                                    "Accessed_From": "Chrome",
                                    "website_visits": "343"
                                },
                                {
                                    "country": "Barbados",
                                    "Accessed_From": "IOS App",
                                    "website_visits": "252"
                                },
                                {
                                    "country": "Barbados",
                                    "Accessed_From": "Mozilla Firefox",
                                    "website_visits": "320"
                                },
                                {
                                    "country": "Belarus",
                                    "Accessed_From": "Android App",
                                    "website_visits": "410"
                                },
                                {
                                    "country": "Belarus",
                                    "Accessed_From": "Others",
                                    "website_visits": "279"
                                },
                                {
                                    "country": "Belarus",
                                    "Accessed_From": "IOS App",
                                    "website_visits": "220"
                                },
                                {
                                    "country": "Belarus",
                                    "Accessed_From": "Safari",
                                    "website_visits": "170"
                                },
                                {
                                    "country": "Belarus",
                                    "Accessed_From": "Chrome",
                                    "website_visits": "256"
                                },
                                {
                                    "country": "Belarus",
                                    "Accessed_From": "Microsoft Edge",
                                    "website_visits": "153"
                                },
                                {
                                    "country": "Belarus",
                                    "Accessed_From": "Mozilla Firefox",
                                    "website_visits": "275"
                                },
                                {
                                    "country": "Belgium",
                                    "Accessed_From": "Android App",
                                    "website_visits": "556"
                                },
                                {
                                    "country": "Belgium",
                                    "Accessed_From": "Microsoft Edge",
                                    "website_visits": "225"
                                },
                                {
                                    "country": "Belgium",
                                    "Accessed_From": "Chrome",
                                    "website_visits": "458"
                                },
                                {
                                    "country": "Belgium",
                                    "Accessed_From": "Others",
                                    "website_visits": "394"
                                },
                                {
                                    "country": "Belgium",
                                    "Accessed_From": "Mozilla Firefox",
                                    "website_visits": "396"
                                },
                                {
                                    "country": "Belgium",
                                    "Accessed_From": "IOS App",
                                    "website_visits": "325"
                                },
                                {
                                    "country": "Belgium",
                                    "Accessed_From": "Safari",
                                    "website_visits": "250"
                                },
                                {
                                    "country": "Belize",
                                    "Accessed_From": "Safari",
                                    "website_visits": "222"
                                },
                                {
                                    "country": "Belize",
                                    "Accessed_From": "Mozilla Firefox",
                                    "website_visits": "359"
                                },
                                {
                                    "country": "Belize",
                                    "Accessed_From": "Android App",
                                    "website_visits": "523"
                                },
                                {
                                    "country": "Belize",
                                    "Accessed_From": "Chrome",
                                    "website_visits": "371"
                                },
                                {
                                    "country": "Belize",
                                    "Accessed_From": "Microsoft Edge",
                                    "website_visits": "207"
                                },
                                {
                                    "country": "Belize",
                                    "Accessed_From": "Others",
                                    "website_visits": "376"
                                },
                                {
                                    "country": "Belize",
                                    "Accessed_From": "IOS App",
                                    "website_visits": "294"
                                },
                                {
                                    "country": "Bosnia and Herzegovina",
                                    "Accessed_From": "Safari",
                                    "website_visits": "18"
                                },
                                {
                                    "country": "Bosnia and Herzegovina",
                                    "Accessed_From": "IOS App",
                                    "website_visits": "18"
                                },
                                {
                                    "country": "Bosnia and Herzegovina",
                                    "Accessed_From": "Microsoft Edge",
                                    "website_visits": "9"
                                },
                                {
                                    "country": "Bosnia and Herzegovina",
                                    "Accessed_From": "Mozilla Firefox",
                                    "website_visits": "40"
                                },
                                {
                                    "country": "Bosnia and Herzegovina",
                                    "Accessed_From": "Android App",
                                    "website_visits": "52"
                                },
                                {
                                    "country": "Bosnia and Herzegovina",
                                    "Accessed_From": "Others",
                                    "website_visits": "15"
                                },
                                {
                                    "country": "Bosnia and Herzegovina",
                                    "Accessed_From": "Chrome",
                                    "website_visits": "16"
                                },
                                {
                                    "country": "Brazil",
                                    "Accessed_From": "Others",
                                    "website_visits": "403"
                                },
                                {
                                    "country": "Brazil",
                                    "Accessed_From": "Android App",
                                    "website_visits": "551"
                                },
                                {
                                    "country": "Brazil",
                                    "Accessed_From": "IOS App",
                                    "website_visits": "331"
                                },
                                {
                                    "country": "Brazil",
                                    "Accessed_From": "Mozilla Firefox",
                                    "website_visits": "385"
                                },
                                {
                                    "country": "Brazil",
                                    "Accessed_From": "Safari",
                                    "website_visits": "249"
                                },
                                {
                                    "country": "Brazil",
                                    "Accessed_From": "Microsoft Edge",
                                    "website_visits": "225"
                                },
                                {
                                    "country": "Brazil",
                                    "Accessed_From": "Chrome",
                                    "website_visits": "460"
                                },
                                {
                                    "country": "Bulgaria",
                                    "Accessed_From": "Others",
                                    "website_visits": "382"
                                },
                                {
                                    "country": "Bulgaria",
                                    "Accessed_From": "Mozilla Firefox",
                                    "website_visits": "399"
                                },
                                {
                                    "country": "Bulgaria",
                                    "Accessed_From": "IOS App",
                                    "website_visits": "306"
                                },
                                {
                                    "country": "Bulgaria",
                                    "Accessed_From": "Chrome",
                                    "website_visits": "401"
                                },
                                {
                                    "country": "Bulgaria",
                                    "Accessed_From": "Android App",
                                    "website_visits": "576"
                                },
                                {
                                    "country": "Bulgaria",
                                    "Accessed_From": "Safari",
                                    "website_visits": "240"
                                },
                                {
                                    "country": "Bulgaria",
                                    "Accessed_From": "Microsoft Edge",
                                    "website_visits": "216"
                                },
                                {
                                    "country": "Cabo Verde",
                                    "Accessed_From": "Microsoft Edge",
                                    "website_visits": "12"
                                },
                                {
                                    "country": "Cabo Verde",
                                    "Accessed_From": "Chrome",
                                    "website_visits": "14"
                                },
                                {
                                    "country": "Cabo Verde",
                                    "Accessed_From": "IOS App",
                                    "website_visits": "28"
                                },
                                {
                                    "country": "Cabo Verde",
                                    "Accessed_From": "Mozilla Firefox",
                                    "website_visits": "12"
                                },
                                {
                                    "country": "Cabo Verde",
                                    "Accessed_From": "Others",
                                    "website_visits": "18"
                                },
                                {
                                    "country": "Canada",
                                    "Accessed_From": "Others",
                                    "website_visits": "376"
                                },
                                {
                                    "country": "Canada",
                                    "Accessed_From": "Safari",
                                    "website_visits": "250"
                                },
                                {
                                    "country": "Canada",
                                    "Accessed_From": "IOS App",
                                    "website_visits": "296"
                                },
                                {
                                    "country": "Canada",
                                    "Accessed_From": "Chrome",
                                    "website_visits": "377"
                                },
                                {
                                    "country": "Canada",
                                    "Accessed_From": "Android App",
                                    "website_visits": "552"
                                },
                                {
                                    "country": "Canada",
                                    "Accessed_From": "Microsoft Edge",
                                    "website_visits": "213"
                                },
                                {
                                    "country": "Canada",
                                    "Accessed_From": "Mozilla Firefox",
                                    "website_visits": "372"
                                },
                                {
                                    "country": "Chile",
                                    "Accessed_From": "Android App",
                                    "website_visits": "575"
                                },
                                {
                                    "country": "Chile",
                                    "Accessed_From": "Chrome",
                                    "website_visits": "457"
                                },
                                {
                                    "country": "Chile",
                                    "Accessed_From": "Safari",
                                    "website_visits": "240"
                                },
                                {
                                    "country": "Chile",
                                    "Accessed_From": "IOS App",
                                    "website_visits": "320"
                                },
                                {
                                    "country": "Chile",
                                    "Accessed_From": "Microsoft Edge",
                                    "website_visits": "216"
                                },
                                {
                                    "country": "Chile",
                                    "Accessed_From": "Mozilla Firefox",
                                    "website_visits": "400"
                                },
                                {
                                    "country": "Chile",
                                    "Accessed_From": "Others",
                                    "website_visits": "396"
                                },
                                {
                                    "country": "Colombia",
                                    "Accessed_From": "Chrome",
                                    "website_visits": "401"
                                },
                                {
                                    "country": "Colombia",
                                    "Accessed_From": "Android App",
                                    "website_visits": "537"
                                },
                                {
                                    "country": "Colombia",
                                    "Accessed_From": "IOS App",
                                    "website_visits": "326"
                                },
                                {
                                    "country": "Colombia",
                                    "Accessed_From": "Safari",
                                    "website_visits": "240"
                                },
                                {
                                    "country": "Colombia",
                                    "Accessed_From": "Mozilla Firefox",
                                    "website_visits": "386"
                                },
                                {
                                    "country": "Colombia",
                                    "Accessed_From": "Microsoft Edge",
                                    "website_visits": "225"
                                },
                                {
                                    "country": "Colombia",
                                    "Accessed_From": "Others",
                                    "website_visits": "399"
                                },
                                {
                                    "country": "Costa Rica",
                                    "Accessed_From": "Microsoft Edge",
                                    "website_visits": "180"
                                },
                                {
                                    "country": "Costa Rica",
                                    "Accessed_From": "Others",
                                    "website_visits": "336"
                                },
                                {
                                    "country": "Costa Rica",
                                    "Accessed_From": "Android App",
                                    "website_visits": "483"
                                },
                                {
                                    "country": "Costa Rica",
                                    "Accessed_From": "IOS App",
                                    "website_visits": "270"
                                },
                                {
                                    "country": "Costa Rica",
                                    "Accessed_From": "Chrome",
                                    "website_visits": "357"
                                },
                                {
                                    "country": "Costa Rica",
                                    "Accessed_From": "Safari",
                                    "website_visits": "210"
                                },
                                {
                                    "country": "Costa Rica",
                                    "Accessed_From": "Mozilla Firefox",
                                    "website_visits": "324"
                                },
                                {
                                    "country": "Croatia",
                                    "Accessed_From": "Chrome",
                                    "website_visits": "255"
                                },
                                {
                                    "country": "Croatia",
                                    "Accessed_From": "Others",
                                    "website_visits": "240"
                                },
                                {
                                    "country": "Croatia",
                                    "Accessed_From": "Mozilla Firefox",
                                    "website_visits": "246"
                                },
                                {
                                    "country": "Croatia",
                                    "Accessed_From": "Safari",
                                    "website_visits": "150"
                                },
                                {
                                    "country": "Croatia",
                                    "Accessed_From": "Microsoft Edge",
                                    "website_visits": "138"
                                },
                                {
                                    "country": "Croatia",
                                    "Accessed_From": "IOS App",
                                    "website_visits": "198"
                                },
                                {
                                    "country": "Croatia",
                                    "Accessed_From": "Android App",
                                    "website_visits": "345"
                                },
                                {
                                    "country": "Cuba",
                                    "Accessed_From": "Mozilla Firefox",
                                    "website_visits": "255"
                                },
                                {
                                    "country": "Cuba",
                                    "Accessed_From": "Others",
                                    "website_visits": "270"
                                },
                                {
                                    "country": "Cuba",
                                    "Accessed_From": "IOS App",
                                    "website_visits": "198"
                                },
                                {
                                    "country": "Cuba",
                                    "Accessed_From": "Chrome",
                                    "website_visits": "258"
                                },
                                {
                                    "country": "Cuba",
                                    "Accessed_From": "Safari",
                                    "website_visits": "180"
                                },
                                {
                                    "country": "Cuba",
                                    "Accessed_From": "Android App",
                                    "website_visits": "411"
                                },
                                {
                                    "country": "Cuba",
                                    "Accessed_From": "Microsoft Edge",
                                    "website_visits": "156"
                                },
                                {
                                    "country": "Cyprus",
                                    "Accessed_From": "Microsoft Edge",
                                    "website_visits": "84"
                                },
                                {
                                    "country": "Cyprus",
                                    "Accessed_From": "IOS App",
                                    "website_visits": "150"
                                },
                                {
                                    "country": "Cyprus",
                                    "Accessed_From": "Others",
                                    "website_visits": "162"
                                },
                                {
                                    "country": "Cyprus",
                                    "Accessed_From": "Chrome",
                                    "website_visits": "200"
                                },
                                {
                                    "country": "Cyprus",
                                    "Accessed_From": "Safari",
                                    "website_visits": "90"
                                },
                                {
                                    "country": "Cyprus",
                                    "Accessed_From": "Mozilla Firefox",
                                    "website_visits": "171"
                                },
                                {
                                    "country": "Cyprus",
                                    "Accessed_From": "Android App",
                                    "website_visits": "210"
                                },
                                {
                                    "country": "Czech Republic",
                                    "Accessed_From": "Android App",
                                    "website_visits": "426"
                                },
                                {
                                    "country": "Czech Republic",
                                    "Accessed_From": "Chrome",
                                    "website_visits": "306"
                                },
                                {
                                    "country": "Czech Republic",
                                    "Accessed_From": "IOS App",
                                    "website_visits": "237"
                                },
                                {
                                    "country": "Czech Republic",
                                    "Accessed_From": "Microsoft Edge",
                                    "website_visits": "180"
                                },
                                {
                                    "country": "Czech Republic",
                                    "Accessed_From": "Mozilla Firefox",
                                    "website_visits": "306"
                                },
                                {
                                    "country": "Czech Republic",
                                    "Accessed_From": "Safari",
                                    "website_visits": "189"
                                },
                                {
                                    "country": "Czech Republic",
                                    "Accessed_From": "Others",
                                    "website_visits": "288"
                                },
                                {
                                    "country": "Denmark",
                                    "Accessed_From": "Microsoft Edge",
                                    "website_visits": "135"
                                },
                                {
                                    "country": "Denmark",
                                    "Accessed_From": "Others",
                                    "website_visits": "248"
                                },
                                {
                                    "country": "Denmark",
                                    "Accessed_From": "Safari",
                                    "website_visits": "154"
                                },
                                {
                                    "country": "Denmark",
                                    "Accessed_From": "Mozilla Firefox",
                                    "website_visits": "240"
                                },
                                {
                                    "country": "Denmark",
                                    "Accessed_From": "IOS App",
                                    "website_visits": "195"
                                },
                                {
                                    "country": "Denmark",
                                    "Accessed_From": "Chrome",
                                    "website_visits": "255"
                                },
                                {
                                    "country": "Denmark",
                                    "Accessed_From": "Android App",
                                    "website_visits": "357"
                                },
                                {
                                    "country": "Dominica",
                                    "Accessed_From": "Safari",
                                    "website_visits": "15"
                                },
                                {
                                    "country": "Dominica",
                                    "Accessed_From": "Others",
                                    "website_visits": "21"
                                },
                                {
                                    "country": "Dominica",
                                    "Accessed_From": "Android App",
                                    "website_visits": "36"
                                },
                                {
                                    "country": "Ecuador",
                                    "Accessed_From": "Mozilla Firefox",
                                    "website_visits": "351"
                                },
                                {
                                    "country": "Ecuador",
                                    "Accessed_From": "Chrome",
                                    "website_visits": "360"
                                },
                                {
                                    "country": "Ecuador",
                                    "Accessed_From": "Android App",
                                    "website_visits": "489"
                                },
                                {
                                    "country": "Ecuador",
                                    "Accessed_From": "Safari",
                                    "website_visits": "213"
                                },
                                {
                                    "country": "Ecuador",
                                    "Accessed_From": "IOS App",
                                    "website_visits": "285"
                                },
                                {
                                    "country": "Ecuador",
                                    "Accessed_From": "Microsoft Edge",
                                    "website_visits": "198"
                                },
                                {
                                    "country": "Ecuador",
                                    "Accessed_From": "Others",
                                    "website_visits": "336"
                                },
                                {
                                    "country": "El Salvador",
                                    "Accessed_From": "Others",
                                    "website_visits": "257"
                                },
                                {
                                    "country": "El Salvador",
                                    "Accessed_From": "Chrome",
                                    "website_visits": "304"
                                },
                                {
                                    "country": "El Salvador",
                                    "Accessed_From": "Microsoft Edge",
                                    "website_visits": "153"
                                },
                                {
                                    "country": "El Salvador",
                                    "Accessed_From": "Android App",
                                    "website_visits": "360"
                                },
                                {
                                    "country": "El Salvador",
                                    "Accessed_From": "Safari",
                                    "website_visits": "159"
                                },
                                {
                                    "country": "El Salvador",
                                    "Accessed_From": "IOS App",
                                    "website_visits": "222"
                                },
                                {
                                    "country": "El Salvador",
                                    "Accessed_From": "Mozilla Firefox",
                                    "website_visits": "273"
                                },
                                {
                                    "country": "Estonia",
                                    "Accessed_From": "Chrome",
                                    "website_visits": "255"
                                },
                                {
                                    "country": "Estonia",
                                    "Accessed_From": "IOS App",
                                    "website_visits": "195"
                                },
                                {
                                    "country": "Estonia",
                                    "Accessed_From": "Safari",
                                    "website_visits": "141"
                                },
                                {
                                    "country": "Estonia",
                                    "Accessed_From": "Android App",
                                    "website_visits": "333"
                                },
                                {
                                    "country": "Estonia",
                                    "Accessed_From": "Mozilla Firefox",
                                    "website_visits": "228"
                                },
                                {
                                    "country": "Estonia",
                                    "Accessed_From": "Others",
                                    "website_visits": "240"
                                },
                                {
                                    "country": "Estonia",
                                    "Accessed_From": "Microsoft Edge",
                                    "website_visits": "120"
                                },
                                {
                                    "country": "Fiji",
                                    "Accessed_From": "Others",
                                    "website_visits": "126"
                                },
                                {
                                    "country": "Fiji",
                                    "Accessed_From": "IOS App",
                                    "website_visits": "81"
                                },
                                {
                                    "country": "Fiji",
                                    "Accessed_From": "Microsoft Edge",
                                    "website_visits": "75"
                                },
                                {
                                    "country": "Fiji",
                                    "Accessed_From": "Chrome",
                                    "website_visits": "105"
                                },
                                {
                                    "country": "Fiji",
                                    "Accessed_From": "Mozilla Firefox",
                                    "website_visits": "111"
                                },
                                {
                                    "country": "Fiji",
                                    "Accessed_From": "Android App",
                                    "website_visits": "204"
                                },
                                {
                                    "country": "Fiji",
                                    "Accessed_From": "Safari",
                                    "website_visits": "90"
                                },
                                {
                                    "country": "Finland",
                                    "Accessed_From": "Chrome",
                                    "website_visits": "354"
                                },
                                {
                                    "country": "Finland",
                                    "Accessed_From": "Android App",
                                    "website_visits": "441"
                                },
                                {
                                    "country": "Finland",
                                    "Accessed_From": "Others",
                                    "website_visits": "315"
                                },
                                {
                                    "country": "Finland",
                                    "Accessed_From": "Mozilla Firefox",
                                    "website_visits": "333"
                                },
                                {
                                    "country": "Finland",
                                    "Accessed_From": "Safari",
                                    "website_visits": "192"
                                },
                                {
                                    "country": "Finland",
                                    "Accessed_From": "IOS App",
                                    "website_visits": "270"
                                },
                                {
                                    "country": "Finland",
                                    "Accessed_From": "Microsoft Edge",
                                    "website_visits": "183"
                                },
                                {
                                    "country": "France",
                                    "Accessed_From": "Chrome",
                                    "website_visits": "357"
                                },
                                {
                                    "country": "France",
                                    "Accessed_From": "Safari",
                                    "website_visits": "207"
                                },
                                {
                                    "country": "France",
                                    "Accessed_From": "Mozilla Firefox",
                                    "website_visits": "336"
                                },
                                {
                                    "country": "France",
                                    "Accessed_From": "Android App",
                                    "website_visits": "471"
                                },
                                {
                                    "country": "France",
                                    "Accessed_From": "Microsoft Edge",
                                    "website_visits": "189"
                                },
                                {
                                    "country": "France",
                                    "Accessed_From": "Others",
                                    "website_visits": "327"
                                },
                                {
                                    "country": "France",
                                    "Accessed_From": "IOS App",
                                    "website_visits": "273"
                                },
                                {
                                    "country": "Georgia",
                                    "Accessed_From": "Chrome",
                                    "website_visits": "255"
                                },
                                {
                                    "country": "Georgia",
                                    "Accessed_From": "Android App",
                                    "website_visits": "357"
                                },
                                {
                                    "country": "Georgia",
                                    "Accessed_From": "IOS App",
                                    "website_visits": "195"
                                },
                                {
                                    "country": "Georgia",
                                    "Accessed_From": "Others",
                                    "website_visits": "249"
                                },
                                {
                                    "country": "Georgia",
                                    "Accessed_From": "Safari",
                                    "website_visits": "153"
                                },
                                {
                                    "country": "Georgia",
                                    "Accessed_From": "Microsoft Edge",
                                    "website_visits": "135"
                                },
                                {
                                    "country": "Georgia",
                                    "Accessed_From": "Mozilla Firefox",
                                    "website_visits": "240"
                                },
                                {
                                    "country": "Germany",
                                    "Accessed_From": "Mozilla Firefox",
                                    "website_visits": "288"
                                },
                                {
                                    "country": "Germany",
                                    "Accessed_From": "Android App",
                                    "website_visits": "414"
                                },
                                {
                                    "country": "Germany",
                                    "Accessed_From": "Microsoft Edge",
                                    "website_visits": "162"
                                },
                                {
                                    "country": "Germany",
                                    "Accessed_From": "IOS App",
                                    "website_visits": "234"
                                },
                                {
                                    "country": "Germany",
                                    "Accessed_From": "Others",
                                    "website_visits": "287"
                                },
                                {
                                    "country": "Germany",
                                    "Accessed_From": "Chrome",
                                    "website_visits": "306"
                                },
                                {
                                    "country": "Germany",
                                    "Accessed_From": "Safari",
                                    "website_visits": "181"
                                },
                                {
                                    "country": "Greece",
                                    "Accessed_From": "IOS App",
                                    "website_visits": "273"
                                },
                                {
                                    "country": "Greece",
                                    "Accessed_From": "Safari",
                                    "website_visits": "213"
                                },
                                {
                                    "country": "Greece",
                                    "Accessed_From": "Mozilla Firefox",
                                    "website_visits": "336"
                                },
                                {
                                    "country": "Greece",
                                    "Accessed_From": "Microsoft Edge",
                                    "website_visits": "189"
                                },
                                {
                                    "country": "Greece",
                                    "Accessed_From": "Chrome",
                                    "website_visits": "357"
                                },
                                {
                                    "country": "Greece",
                                    "Accessed_From": "Android App",
                                    "website_visits": "507"
                                },
                                {
                                    "country": "Greece",
                                    "Accessed_From": "Others",
                                    "website_visits": "357"
                                },
                                {
                                    "country": "Grenada",
                                    "Accessed_From": "Chrome",
                                    "website_visits": "306"
                                },
                                {
                                    "country": "Grenada",
                                    "Accessed_From": "Others",
                                    "website_visits": "285"
                                },
                                {
                                    "country": "Grenada",
                                    "Accessed_From": "Mozilla Firefox",
                                    "website_visits": "288"
                                },
                                {
                                    "country": "Grenada",
                                    "Accessed_From": "Android App",
                                    "website_visits": "408"
                                },
                                {
                                    "country": "Grenada",
                                    "Accessed_From": "Microsoft Edge",
                                    "website_visits": "162"
                                },
                                {
                                    "country": "Grenada",
                                    "Accessed_From": "IOS App",
                                    "website_visits": "234"
                                },
                                {
                                    "country": "Grenada",
                                    "Accessed_From": "Safari",
                                    "website_visits": "177"
                                },
                                {
                                    "country": "Guatemala",
                                    "Accessed_From": "IOS App",
                                    "website_visits": "273"
                                },
                                {
                                    "country": "Guatemala",
                                    "Accessed_From": "Microsoft Edge",
                                    "website_visits": "189"
                                },
                                {
                                    "country": "Guatemala",
                                    "Accessed_From": "Safari",
                                    "website_visits": "210"
                                },
                                {
                                    "country": "Guatemala",
                                    "Accessed_From": "Mozilla Firefox",
                                    "website_visits": "336"
                                },
                                {
                                    "country": "Guatemala",
                                    "Accessed_From": "Others",
                                    "website_visits": "324"
                                },
                                {
                                    "country": "Guatemala",
                                    "Accessed_From": "Android App",
                                    "website_visits": "471"
                                },
                                {
                                    "country": "Guatemala",
                                    "Accessed_From": "Chrome",
                                    "website_visits": "357"
                                },
                                {
                                    "country": "Guyana",
                                    "Accessed_From": "Safari",
                                    "website_visits": "168"
                                },
                                {
                                    "country": "Guyana",
                                    "Accessed_From": "Others",
                                    "website_visits": "272"
                                },
                                {
                                    "country": "Guyana",
                                    "Accessed_From": "Microsoft Edge",
                                    "website_visits": "153"
                                },
                                {
                                    "country": "Guyana",
                                    "Accessed_From": "Chrome",
                                    "website_visits": "305"
                                },
                                {
                                    "country": "Guyana",
                                    "Accessed_From": "Android App",
                                    "website_visits": "384"
                                },
                                {
                                    "country": "Guyana",
                                    "Accessed_From": "IOS App",
                                    "website_visits": "234"
                                },
                                {
                                    "country": "Guyana",
                                    "Accessed_From": "Mozilla Firefox",
                                    "website_visits": "283"
                                },
                                {
                                    "country": "Hungary",
                                    "Accessed_From": "Others",
                                    "website_visits": "288"
                                },
                                {
                                    "country": "Hungary",
                                    "Accessed_From": "Android App",
                                    "website_visits": "414"
                                },
                                {
                                    "country": "Hungary",
                                    "Accessed_From": "Microsoft Edge",
                                    "website_visits": "156"
                                },
                                {
                                    "country": "Hungary",
                                    "Accessed_From": "Mozilla Firefox",
                                    "website_visits": "282"
                                },
                                {
                                    "country": "Hungary",
                                    "Accessed_From": "Safari",
                                    "website_visits": "180"
                                },
                                {
                                    "country": "Hungary",
                                    "Accessed_From": "IOS App",
                                    "website_visits": "234"
                                },
                                {
                                    "country": "Hungary",
                                    "Accessed_From": "Chrome",
                                    "website_visits": "306"
                                },
                                {
                                    "country": "Iceland",
                                    "Accessed_From": "Mozilla Firefox",
                                    "website_visits": "348"
                                },
                                {
                                    "country": "Iceland",
                                    "Accessed_From": "Microsoft Edge",
                                    "website_visits": "204"
                                },
                                {
                                    "country": "Iceland",
                                    "Accessed_From": "Others",
                                    "website_visits": "363"
                                },
                                {
                                    "country": "Iceland",
                                    "Accessed_From": "Chrome",
                                    "website_visits": "357"
                                },
                                {
                                    "country": "Iceland",
                                    "Accessed_From": "Safari",
                                    "website_visits": "222"
                                },
                                {
                                    "country": "Iceland",
                                    "Accessed_From": "IOS App",
                                    "website_visits": "273"
                                },
                                {
                                    "country": "Iceland",
                                    "Accessed_From": "Android App",
                                    "website_visits": "525"
                                },
                                {
                                    "country": "Ireland",
                                    "Accessed_From": "Safari",
                                    "website_visits": "210"
                                },
                                {
                                    "country": "Ireland",
                                    "Accessed_From": "IOS App",
                                    "website_visits": "273"
                                },
                                {
                                    "country": "Ireland",
                                    "Accessed_From": "Microsoft Edge",
                                    "website_visits": "189"
                                },
                                {
                                    "country": "Ireland",
                                    "Accessed_From": "Android App",
                                    "website_visits": "471"
                                },
                                {
                                    "country": "Ireland",
                                    "Accessed_From": "Chrome",
                                    "website_visits": "357"
                                },
                                {
                                    "country": "Ireland",
                                    "Accessed_From": "Mozilla Firefox",
                                    "website_visits": "336"
                                },
                                {
                                    "country": "Ireland",
                                    "Accessed_From": "Others",
                                    "website_visits": "324"
                                },
                                {
                                    "country": "Israel",
                                    "Accessed_From": "IOS App",
                                    "website_visits": "273"
                                },
                                {
                                    "country": "Israel",
                                    "Accessed_From": "Safari",
                                    "website_visits": "219"
                                },
                                {
                                    "country": "Israel",
                                    "Accessed_From": "Others",
                                    "website_visits": "350"
                                },
                                {
                                    "country": "Israel",
                                    "Accessed_From": "Chrome",
                                    "website_visits": "358"
                                },
                                {
                                    "country": "Israel",
                                    "Accessed_From": "Mozilla Firefox",
                                    "website_visits": "336"
                                },
                                {
                                    "country": "Israel",
                                    "Accessed_From": "Android App",
                                    "website_visits": "506"
                                },
                                {
                                    "country": "Israel",
                                    "Accessed_From": "Microsoft Edge",
                                    "website_visits": "190"
                                },
                                {
                                    "country": "Italy",
                                    "Accessed_From": "Microsoft Edge",
                                    "website_visits": "198"
                                },
                                {
                                    "country": "Italy",
                                    "Accessed_From": "Others",
                                    "website_visits": "336"
                                },
                                {
                                    "country": "Italy",
                                    "Accessed_From": "Android App",
                                    "website_visits": "494"
                                },
                                {
                                    "country": "Italy",
                                    "Accessed_From": "Chrome",
                                    "website_visits": "360"
                                },
                                {
                                    "country": "Italy",
                                    "Accessed_From": "IOS App",
                                    "website_visits": "279"
                                },
                                {
                                    "country": "Italy",
                                    "Accessed_From": "Safari",
                                    "website_visits": "220"
                                },
                                {
                                    "country": "Italy",
                                    "Accessed_From": "Mozilla Firefox",
                                    "website_visits": "345"
                                },
                                {
                                    "country": "Jamaica",
                                    "Accessed_From": "IOS App",
                                    "website_visits": "153"
                                },
                                {
                                    "country": "Jamaica",
                                    "Accessed_From": "Android App",
                                    "website_visits": "276"
                                },
                                {
                                    "country": "Jamaica",
                                    "Accessed_From": "Chrome",
                                    "website_visits": "201"
                                },
                                {
                                    "country": "Jamaica",
                                    "Accessed_From": "Mozilla Firefox",
                                    "website_visits": "183"
                                },
                                {
                                    "country": "Jamaica",
                                    "Accessed_From": "Safari",
                                    "website_visits": "120"
                                },
                                {
                                    "country": "Jamaica",
                                    "Accessed_From": "Microsoft Edge",
                                    "website_visits": "99"
                                },
                                {
                                    "country": "Jamaica",
                                    "Accessed_From": "Others",
                                    "website_visits": "192"
                                },
                                {
                                    "country": "Japan",
                                    "Accessed_From": "Chrome",
                                    "website_visits": "360"
                                },
                                {
                                    "country": "Japan",
                                    "Accessed_From": "Others",
                                    "website_visits": "337"
                                },
                                {
                                    "country": "Japan",
                                    "Accessed_From": "IOS App",
                                    "website_visits": "288"
                                },
                                {
                                    "country": "Japan",
                                    "Accessed_From": "Android App",
                                    "website_visits": "483"
                                },
                                {
                                    "country": "Japan",
                                    "Accessed_From": "Mozilla Firefox",
                                    "website_visits": "357"
                                },
                                {
                                    "country": "Japan",
                                    "Accessed_From": "Microsoft Edge",
                                    "website_visits": "198"
                                },
                                {
                                    "country": "Japan",
                                    "Accessed_From": "Safari",
                                    "website_visits": "210"
                                },
                                {
                                    "country": "Kazakhstan",
                                    "Accessed_From": "Mozilla Firefox",
                                    "website_visits": "288"
                                },
                                {
                                    "country": "Kazakhstan",
                                    "Accessed_From": "Microsoft Edge",
                                    "website_visits": "162"
                                },
                                {
                                    "country": "Kazakhstan",
                                    "Accessed_From": "Android App",
                                    "website_visits": "414"
                                },
                                {
                                    "country": "Kazakhstan",
                                    "Accessed_From": "IOS App",
                                    "website_visits": "234"
                                },
                                {
                                    "country": "Kazakhstan",
                                    "Accessed_From": "Others",
                                    "website_visits": "288"
                                },
                                {
                                    "country": "Kazakhstan",
                                    "Accessed_From": "Chrome",
                                    "website_visits": "305"
                                },
                                {
                                    "country": "Kazakhstan",
                                    "Accessed_From": "Safari",
                                    "website_visits": "181"
                                },
                                {
                                    "country": "Kiribati",
                                    "Accessed_From": "Android App",
                                    "website_visits": "159"
                                },
                                {
                                    "country": "Kiribati",
                                    "Accessed_From": "Others",
                                    "website_visits": "117"
                                },
                                {
                                    "country": "Kiribati",
                                    "Accessed_From": "IOS App",
                                    "website_visits": "99"
                                },
                                {
                                    "country": "Kiribati",
                                    "Accessed_From": "Microsoft Edge",
                                    "website_visits": "72"
                                },
                                {
                                    "country": "Kiribati",
                                    "Accessed_From": "Mozilla Firefox",
                                    "website_visits": "123"
                                },
                                {
                                    "country": "Kiribati",
                                    "Accessed_From": "Chrome",
                                    "website_visits": "150"
                                },
                                {
                                    "country": "Kiribati",
                                    "Accessed_From": "Safari",
                                    "website_visits": "72"
                                },
                                {
                                    "country": "Kuwait",
                                    "Accessed_From": "IOS App",
                                    "website_visits": "231"
                                },
                                {
                                    "country": "Kuwait",
                                    "Accessed_From": "Others",
                                    "website_visits": "285"
                                },
                                {
                                    "country": "Kuwait",
                                    "Accessed_From": "Safari",
                                    "website_visits": "168"
                                },
                                {
                                    "country": "Kuwait",
                                    "Accessed_From": "Chrome",
                                    "website_visits": "306"
                                },
                                {
                                    "country": "Kuwait",
                                    "Accessed_From": "Microsoft Edge",
                                    "website_visits": "144"
                                },
                                {
                                    "country": "Kuwait",
                                    "Accessed_From": "Android App",
                                    "website_visits": "396"
                                },
                                {
                                    "country": "Kuwait",
                                    "Accessed_From": "Mozilla Firefox",
                                    "website_visits": "270"
                                },
                                {
                                    "country": "Kyrgyzstan",
                                    "Accessed_From": "Android App",
                                    "website_visits": "412"
                                },
                                {
                                    "country": "Kyrgyzstan",
                                    "Accessed_From": "Others",
                                    "website_visits": "289"
                                },
                                {
                                    "country": "Kyrgyzstan",
                                    "Accessed_From": "Microsoft Edge",
                                    "website_visits": "162"
                                },
                                {
                                    "country": "Kyrgyzstan",
                                    "Accessed_From": "Chrome",
                                    "website_visits": "305"
                                },
                                {
                                    "country": "Kyrgyzstan",
                                    "Accessed_From": "Safari",
                                    "website_visits": "181"
                                },
                                {
                                    "country": "Kyrgyzstan",
                                    "Accessed_From": "Mozilla Firefox",
                                    "website_visits": "288"
                                },
                                {
                                    "country": "Kyrgyzstan",
                                    "Accessed_From": "IOS App",
                                    "website_visits": "235"
                                },
                                {
                                    "country": "Latvia",
                                    "Accessed_From": "Mozilla Firefox",
                                    "website_visits": "238"
                                },
                                {
                                    "country": "Latvia",
                                    "Accessed_From": "Microsoft Edge",
                                    "website_visits": "135"
                                },
                                {
                                    "country": "Latvia",
                                    "Accessed_From": "IOS App",
                                    "website_visits": "177"
                                },
                                {
                                    "country": "Latvia",
                                    "Accessed_From": "Others",
                                    "website_visits": "223"
                                },
                                {
                                    "country": "Latvia",
                                    "Accessed_From": "Android App",
                                    "website_visits": "345"
                                },
                                {
                                    "country": "Latvia",
                                    "Accessed_From": "Safari",
                                    "website_visits": "150"
                                },
                                {
                                    "country": "Latvia",
                                    "Accessed_From": "Chrome",
                                    "website_visits": "243"
                                },
                                {
                                    "country": "Lithuania",
                                    "Accessed_From": "Chrome",
                                    "website_visits": "267"
                                },
                                {
                                    "country": "Lithuania",
                                    "Accessed_From": "IOS App",
                                    "website_visits": "195"
                                },
                                {
                                    "country": "Lithuania",
                                    "Accessed_From": "Others",
                                    "website_visits": "240"
                                },
                                {
                                    "country": "Lithuania",
                                    "Accessed_From": "Safari",
                                    "website_visits": "150"
                                },
                                {
                                    "country": "Lithuania",
                                    "Accessed_From": "Microsoft Edge",
                                    "website_visits": "135"
                                },
                                {
                                    "country": "Lithuania",
                                    "Accessed_From": "Mozilla Firefox",
                                    "website_visits": "240"
                                },
                                {
                                    "country": "Lithuania",
                                    "Accessed_From": "Android App",
                                    "website_visits": "345"
                                },
                                {
                                    "country": "Luxembourg",
                                    "Accessed_From": "Chrome",
                                    "website_visits": "357"
                                },
                                {
                                    "country": "Luxembourg",
                                    "Accessed_From": "Microsoft Edge",
                                    "website_visits": "192"
                                },
                                {
                                    "country": "Luxembourg",
                                    "Accessed_From": "Mozilla Firefox",
                                    "website_visits": "342"
                                },
                                {
                                    "country": "Luxembourg",
                                    "Accessed_From": "IOS App",
                                    "website_visits": "294"
                                },
                                {
                                    "country": "Luxembourg",
                                    "Accessed_From": "Safari",
                                    "website_visits": "210"
                                },
                                {
                                    "country": "Luxembourg",
                                    "Accessed_From": "Others",
                                    "website_visits": "354"
                                },
                                {
                                    "country": "Luxembourg",
                                    "Accessed_From": "Android App",
                                    "website_visits": "483"
                                },
                                {
                                    "country": "Macau",
                                    "Accessed_From": "Android App",
                                    "website_visits": "24"
                                },
                                {
                                    "country": "Macau",
                                    "Accessed_From": "Others",
                                    "website_visits": "9"
                                },
                                {
                                    "country": "Macau",
                                    "Accessed_From": "Mozilla Firefox",
                                    "website_visits": "12"
                                },
                                {
                                    "country": "Macau",
                                    "Accessed_From": "Microsoft Edge",
                                    "website_visits": "15"
                                },
                                {
                                    "country": "Macau",
                                    "Accessed_From": "Safari",
                                    "website_visits": "12"
                                },
                                {
                                    "country": "Maldives",
                                    "Accessed_From": "Safari",
                                    "website_visits": "78"
                                },
                                {
                                    "country": "Maldives",
                                    "Accessed_From": "Android App",
                                    "website_visits": "180"
                                },
                                {
                                    "country": "Maldives",
                                    "Accessed_From": "Microsoft Edge",
                                    "website_visits": "60"
                                },
                                {
                                    "country": "Maldives",
                                    "Accessed_From": "Others",
                                    "website_visits": "117"
                                },
                                {
                                    "country": "Maldives",
                                    "Accessed_From": "Mozilla Firefox",
                                    "website_visits": "99"
                                },
                                {
                                    "country": "Maldives",
                                    "Accessed_From": "IOS App",
                                    "website_visits": "81"
                                },
                                {
                                    "country": "Maldives",
                                    "Accessed_From": "Chrome",
                                    "website_visits": "105"
                                },
                                {
                                    "country": "Malta",
                                    "Accessed_From": "Chrome",
                                    "website_visits": "362"
                                },
                                {
                                    "country": "Malta",
                                    "Accessed_From": "Others",
                                    "website_visits": "338"
                                },
                                {
                                    "country": "Malta",
                                    "Accessed_From": "Microsoft Edge",
                                    "website_visits": "192"
                                },
                                {
                                    "country": "Malta",
                                    "Accessed_From": "IOS App",
                                    "website_visits": "288"
                                },
                                {
                                    "country": "Malta",
                                    "Accessed_From": "Safari",
                                    "website_visits": "210"
                                },
                                {
                                    "country": "Malta",
                                    "Accessed_From": "Android App",
                                    "website_visits": "481"
                                },
                                {
                                    "country": "Malta",
                                    "Accessed_From": "Mozilla Firefox",
                                    "website_visits": "361"
                                },
                                {
                                    "country": "Mauritius",
                                    "Accessed_From": "Chrome",
                                    "website_visits": "401"
                                },
                                {
                                    "country": "Mauritius",
                                    "Accessed_From": "Others",
                                    "website_visits": "354"
                                },
                                {
                                    "country": "Mauritius",
                                    "Accessed_From": "IOS App",
                                    "website_visits": "294"
                                },
                                {
                                    "country": "Mauritius",
                                    "Accessed_From": "Safari",
                                    "website_visits": "209"
                                },
                                {
                                    "country": "Mauritius",
                                    "Accessed_From": "Android App",
                                    "website_visits": "486"
                                },
                                {
                                    "country": "Mauritius",
                                    "Accessed_From": "Mozilla Firefox",
                                    "website_visits": "351"
                                },
                                {
                                    "country": "Mauritius",
                                    "Accessed_From": "Microsoft Edge",
                                    "website_visits": "197"
                                },
                                {
                                    "country": "Mexico",
                                    "Accessed_From": "Chrome",
                                    "website_visits": "357"
                                },
                                {
                                    "country": "Mexico",
                                    "Accessed_From": "IOS App",
                                    "website_visits": "273"
                                },
                                {
                                    "country": "Mexico",
                                    "Accessed_From": "Microsoft Edge",
                                    "website_visits": "198"
                                },
                                {
                                    "country": "Mexico",
                                    "Accessed_From": "Mozilla Firefox",
                                    "website_visits": "342"
                                },
                                {
                                    "country": "Mexico",
                                    "Accessed_From": "Android App",
                                    "website_visits": "503"
                                },
                                {
                                    "country": "Mexico",
                                    "Accessed_From": "Others",
                                    "website_visits": "337"
                                },
                                {
                                    "country": "Mexico",
                                    "Accessed_From": "Safari",
                                    "website_visits": "222"
                                },
                                {
                                    "country": "Mongolia",
                                    "Accessed_From": "Safari",
                                    "website_visits": "3"
                                },
                                {
                                    "country": "Mongolia",
                                    "Accessed_From": "Android App",
                                    "website_visits": "30"
                                },
                                {
                                    "country": "Mongolia",
                                    "Accessed_From": "Others",
                                    "website_visits": "27"
                                },
                                {
                                    "country": "Montenegro",
                                    "Accessed_From": "Safari",
                                    "website_visits": "75"
                                },
                                {
                                    "country": "Montenegro",
                                    "Accessed_From": "Chrome",
                                    "website_visits": "111"
                                },
                                {
                                    "country": "Montenegro",
                                    "Accessed_From": "IOS App",
                                    "website_visits": "96"
                                },
                                {
                                    "country": "Montenegro",
                                    "Accessed_From": "Microsoft Edge",
                                    "website_visits": "64"
                                },
                                {
                                    "country": "Montenegro",
                                    "Accessed_From": "Others",
                                    "website_visits": "96"
                                },
                                {
                                    "country": "Montenegro",
                                    "Accessed_From": "Android App",
                                    "website_visits": "155"
                                },
                                {
                                    "country": "Montenegro",
                                    "Accessed_From": "Mozilla Firefox",
                                    "website_visits": "123"
                                },
                                {
                                    "country": "Netherlands",
                                    "Accessed_From": "Safari",
                                    "website_visits": "210"
                                },
                                {
                                    "country": "Netherlands",
                                    "Accessed_From": "Microsoft Edge",
                                    "website_visits": "198"
                                },
                                {
                                    "country": "Netherlands",
                                    "Accessed_From": "Android App",
                                    "website_visits": "486"
                                },
                                {
                                    "country": "Netherlands",
                                    "Accessed_From": "Others",
                                    "website_visits": "354"
                                },
                                {
                                    "country": "Netherlands",
                                    "Accessed_From": "IOS App",
                                    "website_visits": "294"
                                },
                                {
                                    "country": "Netherlands",
                                    "Accessed_From": "Chrome",
                                    "website_visits": "399"
                                },
                                {
                                    "country": "Netherlands",
                                    "Accessed_From": "Mozilla Firefox",
                                    "website_visits": "351"
                                },
                                {
                                    "country": "New Zealand",
                                    "Accessed_From": "IOS App",
                                    "website_visits": "252"
                                },
                                {
                                    "country": "New Zealand",
                                    "Accessed_From": "Others",
                                    "website_visits": "318"
                                },
                                {
                                    "country": "New Zealand",
                                    "Accessed_From": "Chrome",
                                    "website_visits": "322"
                                },
                                {
                                    "country": "New Zealand",
                                    "Accessed_From": "Safari",
                                    "website_visits": "210"
                                },
                                {
                                    "country": "New Zealand",
                                    "Accessed_From": "Android App",
                                    "website_visits": "483"
                                },
                                {
                                    "country": "New Zealand",
                                    "Accessed_From": "Mozilla Firefox",
                                    "website_visits": "324"
                                },
                                {
                                    "country": "New Zealand",
                                    "Accessed_From": "Microsoft Edge",
                                    "website_visits": "179"
                                },
                                {
                                    "country": "Nicaragua",
                                    "Accessed_From": "Safari",
                                    "website_visits": "33"
                                },
                                {
                                    "country": "Nicaragua",
                                    "Accessed_From": "Mozilla Firefox",
                                    "website_visits": "66"
                                },
                                {
                                    "country": "Nicaragua",
                                    "Accessed_From": "Microsoft Edge",
                                    "website_visits": "45"
                                },
                                {
                                    "country": "Nicaragua",
                                    "Accessed_From": "IOS App",
                                    "website_visits": "60"
                                },
                                {
                                    "country": "Nicaragua",
                                    "Accessed_From": "Chrome",
                                    "website_visits": "87"
                                },
                                {
                                    "country": "Nicaragua",
                                    "Accessed_From": "Others",
                                    "website_visits": "66"
                                },
                                {
                                    "country": "Nicaragua",
                                    "Accessed_From": "Android App",
                                    "website_visits": "75"
                                },
                                {
                                    "country": "Norway",
                                    "Accessed_From": "Mozilla Firefox",
                                    "website_visits": "330"
                                },
                                {
                                    "country": "Norway",
                                    "Accessed_From": "Microsoft Edge",
                                    "website_visits": "180"
                                },
                                {
                                    "country": "Norway",
                                    "Accessed_From": "IOS App",
                                    "website_visits": "273"
                                },
                                {
                                    "country": "Norway",
                                    "Accessed_From": "Chrome",
                                    "website_visits": "359"
                                },
                                {
                                    "country": "Norway",
                                    "Accessed_From": "Others",
                                    "website_visits": "335"
                                },
                                {
                                    "country": "Norway",
                                    "Accessed_From": "Android App",
                                    "website_visits": "476"
                                },
                                {
                                    "country": "Norway",
                                    "Accessed_From": "Safari",
                                    "website_visits": "207"
                                },
                                {
                                    "country": "Oman",
                                    "Accessed_From": "Others",
                                    "website_visits": "30"
                                },
                                {
                                    "country": "Oman",
                                    "Accessed_From": "IOS App",
                                    "website_visits": "18"
                                },
                                {
                                    "country": "Oman",
                                    "Accessed_From": "Safari",
                                    "website_visits": "30"
                                },
                                {
                                    "country": "Oman",
                                    "Accessed_From": "Android App",
                                    "website_visits": "69"
                                },
                                {
                                    "country": "Oman",
                                    "Accessed_From": "Microsoft Edge",
                                    "website_visits": "18"
                                },
                                {
                                    "country": "Oman",
                                    "Accessed_From": "Chrome",
                                    "website_visits": "15"
                                },
                                {
                                    "country": "Oman",
                                    "Accessed_From": "Mozilla Firefox",
                                    "website_visits": "36"
                                },
                                {
                                    "country": "Panama",
                                    "Accessed_From": "Microsoft Edge",
                                    "website_visits": "153"
                                },
                                {
                                    "country": "Panama",
                                    "Accessed_From": "Mozilla Firefox",
                                    "website_visits": "259"
                                },
                                {
                                    "country": "Panama",
                                    "Accessed_From": "Chrome",
                                    "website_visits": "291"
                                },
                                {
                                    "country": "Panama",
                                    "Accessed_From": "Safari",
                                    "website_visits": "178"
                                },
                                {
                                    "country": "Panama",
                                    "Accessed_From": "Others",
                                    "website_visits": "288"
                                },
                                {
                                    "country": "Panama",
                                    "Accessed_From": "Android App",
                                    "website_visits": "412"
                                },
                                {
                                    "country": "Panama",
                                    "Accessed_From": "IOS App",
                                    "website_visits": "219"
                                },
                                {
                                    "country": "Paraguay",
                                    "Accessed_From": "Safari",
                                    "website_visits": "180"
                                },
                                {
                                    "country": "Paraguay",
                                    "Accessed_From": "Others",
                                    "website_visits": "288"
                                },
                                {
                                    "country": "Paraguay",
                                    "Accessed_From": "Android App",
                                    "website_visits": "417"
                                },
                                {
                                    "country": "Paraguay",
                                    "Accessed_From": "Microsoft Edge",
                                    "website_visits": "171"
                                },
                                {
                                    "country": "Paraguay",
                                    "Accessed_From": "Mozilla Firefox",
                                    "website_visits": "318"
                                },
                                {
                                    "country": "Paraguay",
                                    "Accessed_From": "Chrome",
                                    "website_visits": "321"
                                },
                                {
                                    "country": "Paraguay",
                                    "Accessed_From": "IOS App",
                                    "website_visits": "249"
                                },
                                {
                                    "country": "Philippines",
                                    "Accessed_From": "Chrome",
                                    "website_visits": "189"
                                },
                                {
                                    "country": "Philippines",
                                    "Accessed_From": "IOS App",
                                    "website_visits": "138"
                                },
                                {
                                    "country": "Philippines",
                                    "Accessed_From": "Safari",
                                    "website_visits": "102"
                                },
                                {
                                    "country": "Philippines",
                                    "Accessed_From": "Microsoft Edge",
                                    "website_visits": "99"
                                },
                                {
                                    "country": "Philippines",
                                    "Accessed_From": "Android App",
                                    "website_visits": "224"
                                },
                                {
                                    "country": "Philippines",
                                    "Accessed_From": "Others",
                                    "website_visits": "166"
                                },
                                {
                                    "country": "Philippines",
                                    "Accessed_From": "Mozilla Firefox",
                                    "website_visits": "161"
                                },
                                {
                                    "country": "Poland",
                                    "Accessed_From": "Safari",
                                    "website_visits": "168"
                                },
                                {
                                    "country": "Poland",
                                    "Accessed_From": "Android App",
                                    "website_visits": "396"
                                },
                                {
                                    "country": "Poland",
                                    "Accessed_From": "Chrome",
                                    "website_visits": "270"
                                },
                                {
                                    "country": "Poland",
                                    "Accessed_From": "Others",
                                    "website_visits": "267"
                                },
                                {
                                    "country": "Poland",
                                    "Accessed_From": "Microsoft Edge",
                                    "website_visits": "144"
                                },
                                {
                                    "country": "Poland",
                                    "Accessed_From": "Mozilla Firefox",
                                    "website_visits": "270"
                                },
                                {
                                    "country": "Poland",
                                    "Accessed_From": "IOS App",
                                    "website_visits": "213"
                                },
                                {
                                    "country": "Portugal",
                                    "Accessed_From": "IOS App",
                                    "website_visits": "251"
                                },
                                {
                                    "country": "Portugal",
                                    "Accessed_From": "Mozilla Firefox",
                                    "website_visits": "289"
                                },
                                {
                                    "country": "Portugal",
                                    "Accessed_From": "Chrome",
                                    "website_visits": "342"
                                },
                                {
                                    "country": "Portugal",
                                    "Accessed_From": "Microsoft Edge",
                                    "website_visits": "162"
                                },
                                {
                                    "country": "Portugal",
                                    "Accessed_From": "Others",
                                    "website_visits": "307"
                                },
                                {
                                    "country": "Portugal",
                                    "Accessed_From": "Android App",
                                    "website_visits": "414"
                                },
                                {
                                    "country": "Portugal",
                                    "Accessed_From": "Safari",
                                    "website_visits": "179"
                                },
                                {
                                    "country": "Puerto Rico",
                                    "Accessed_From": "Safari",
                                    "website_visits": "214"
                                },
                                {
                                    "country": "Puerto Rico",
                                    "Accessed_From": "Chrome",
                                    "website_visits": "357"
                                },
                                {
                                    "country": "Puerto Rico",
                                    "Accessed_From": "IOS App",
                                    "website_visits": "276"
                                },
                                {
                                    "country": "Puerto Rico",
                                    "Accessed_From": "Mozilla Firefox",
                                    "website_visits": "354"
                                },
                                {
                                    "country": "Puerto Rico",
                                    "Accessed_From": "Others",
                                    "website_visits": "336"
                                },
                                {
                                    "country": "Puerto Rico",
                                    "Accessed_From": "Microsoft Edge",
                                    "website_visits": "207"
                                },
                                {
                                    "country": "Puerto Rico",
                                    "Accessed_From": "Android App",
                                    "website_visits": "488"
                                },
                                {
                                    "country": "Qatar",
                                    "Accessed_From": "Chrome",
                                    "website_visits": "156"
                                },
                                {
                                    "country": "Qatar",
                                    "Accessed_From": "IOS App",
                                    "website_visits": "120"
                                },
                                {
                                    "country": "Qatar",
                                    "Accessed_From": "Android App",
                                    "website_visits": "267"
                                },
                                {
                                    "country": "Qatar",
                                    "Accessed_From": "Safari",
                                    "website_visits": "117"
                                },
                                {
                                    "country": "Qatar",
                                    "Accessed_From": "Others",
                                    "website_visits": "174"
                                },
                                {
                                    "country": "Qatar",
                                    "Accessed_From": "Microsoft Edge",
                                    "website_visits": "87"
                                },
                                {
                                    "country": "Qatar",
                                    "Accessed_From": "Mozilla Firefox",
                                    "website_visits": "147"
                                },
                                {
                                    "country": "Republic of Korea",
                                    "Accessed_From": "Android App",
                                    "website_visits": "483"
                                },
                                {
                                    "country": "Republic of Korea",
                                    "Accessed_From": "Safari",
                                    "website_visits": "209"
                                },
                                {
                                    "country": "Republic of Korea",
                                    "Accessed_From": "IOS App",
                                    "website_visits": "288"
                                },
                                {
                                    "country": "Republic of Korea",
                                    "Accessed_From": "Microsoft Edge",
                                    "website_visits": "192"
                                },
                                {
                                    "country": "Republic of Korea",
                                    "Accessed_From": "Mozilla Firefox",
                                    "website_visits": "360"
                                },
                                {
                                    "country": "Republic of Korea",
                                    "Accessed_From": "Chrome",
                                    "website_visits": "363"
                                },
                                {
                                    "country": "Republic of Korea",
                                    "Accessed_From": "Others",
                                    "website_visits": "337"
                                },
                                {
                                    "country": "Romania",
                                    "Accessed_From": "Android App",
                                    "website_visits": "422"
                                },
                                {
                                    "country": "Romania",
                                    "Accessed_From": "Chrome",
                                    "website_visits": "349"
                                },
                                {
                                    "country": "Romania",
                                    "Accessed_From": "Others",
                                    "website_visits": "306"
                                },
                                {
                                    "country": "Romania",
                                    "Accessed_From": "Safari",
                                    "website_visits": "183"
                                },
                                {
                                    "country": "Romania",
                                    "Accessed_From": "IOS App",
                                    "website_visits": "255"
                                },
                                {
                                    "country": "Romania",
                                    "Accessed_From": "Microsoft Edge",
                                    "website_visits": "180"
                                },
                                {
                                    "country": "Romania",
                                    "Accessed_From": "Mozilla Firefox",
                                    "website_visits": "309"
                                },
                                {
                                    "country": "Russia",
                                    "Accessed_From": "Mozilla Firefox",
                                    "website_visits": "1"
                                },
                                {
                                    "country": "Russia",
                                    "Accessed_From": "Chrome",
                                    "website_visits": "2"
                                },
                                {
                                    "country": "Russia",
                                    "Accessed_From": "IOS App",
                                    "website_visits": "1"
                                },
                                {
                                    "country": "Russia",
                                    "Accessed_From": "Others",
                                    "website_visits": "1"
                                },
                                {
                                    "country": "Russia",
                                    "Accessed_From": "Android App",
                                    "website_visits": "3"
                                },
                                {
                                    "country": "Russian Federation",
                                    "Accessed_From": "Safari",
                                    "website_visits": "189"
                                },
                                {
                                    "country": "Russian Federation",
                                    "Accessed_From": "Android App",
                                    "website_visits": "449"
                                },
                                {
                                    "country": "Russian Federation",
                                    "Accessed_From": "Chrome",
                                    "website_visits": "306"
                                },
                                {
                                    "country": "Russian Federation",
                                    "Accessed_From": "Others",
                                    "website_visits": "315"
                                },
                                {
                                    "country": "Russian Federation",
                                    "Accessed_From": "Mozilla Firefox",
                                    "website_visits": "289"
                                },
                                {
                                    "country": "Russian Federation",
                                    "Accessed_From": "IOS App",
                                    "website_visits": "234"
                                },
                                {
                                    "country": "Russian Federation",
                                    "Accessed_From": "Microsoft Edge",
                                    "website_visits": "162"
                                },
                                {
                                    "country": "Saint Kitts and Nevis",
                                    "Accessed_From": "Others",
                                    "website_visits": "21"
                                },
                                {
                                    "country": "Saint Kitts and Nevis",
                                    "Accessed_From": "Chrome",
                                    "website_visits": "51"
                                },
                                {
                                    "country": "Saint Kitts and Nevis",
                                    "Accessed_From": "IOS App",
                                    "website_visits": "39"
                                },
                                {
                                    "country": "Saint Kitts and Nevis",
                                    "Accessed_From": "Microsoft Edge",
                                    "website_visits": "18"
                                },
                                {
                                    "country": "Saint Kitts and Nevis",
                                    "Accessed_From": "Safari",
                                    "website_visits": "18"
                                },
                                {
                                    "country": "Saint Kitts and Nevis",
                                    "Accessed_From": "Android App",
                                    "website_visits": "27"
                                },
                                {
                                    "country": "Saint Kitts and Nevis",
                                    "Accessed_From": "Mozilla Firefox",
                                    "website_visits": "42"
                                },
                                {
                                    "country": "Saint Lucia",
                                    "Accessed_From": "Safari",
                                    "website_visits": "210"
                                },
                                {
                                    "country": "Saint Lucia",
                                    "Accessed_From": "Android App",
                                    "website_visits": "480"
                                },
                                {
                                    "country": "Saint Lucia",
                                    "Accessed_From": "Chrome",
                                    "website_visits": "306"
                                },
                                {
                                    "country": "Saint Lucia",
                                    "Accessed_From": "IOS App",
                                    "website_visits": "237"
                                },
                                {
                                    "country": "Saint Lucia",
                                    "Accessed_From": "Others",
                                    "website_visits": "318"
                                },
                                {
                                    "country": "Saint Lucia",
                                    "Accessed_From": "Microsoft Edge",
                                    "website_visits": "171"
                                },
                                {
                                    "country": "Saint Lucia",
                                    "Accessed_From": "Mozilla Firefox",
                                    "website_visits": "294"
                                },
                                {
                                    "country": "Saint Vincent and Grenadines",
                                    "Accessed_From": "Android App",
                                    "website_visits": "378"
                                },
                                {
                                    "country": "Saint Vincent and Grenadines",
                                    "Accessed_From": "Mozilla Firefox",
                                    "website_visits": "288"
                                },
                                {
                                    "country": "Saint Vincent and Grenadines",
                                    "Accessed_From": "IOS App",
                                    "website_visits": "231"
                                },
                                {
                                    "country": "Saint Vincent and Grenadines",
                                    "Accessed_From": "Microsoft Edge",
                                    "website_visits": "162"
                                },
                                {
                                    "country": "Saint Vincent and Grenadines",
                                    "Accessed_From": "Chrome",
                                    "website_visits": "306"
                                },
                                {
                                    "country": "Saint Vincent and Grenadines",
                                    "Accessed_From": "Others",
                                    "website_visits": "273"
                                },
                                {
                                    "country": "Saint Vincent and Grenadines",
                                    "Accessed_From": "Safari",
                                    "website_visits": "162"
                                },
                                {
                                    "country": "San Marino",
                                    "Accessed_From": "Mozilla Firefox",
                                    "website_visits": "30"
                                },
                                {
                                    "country": "San Marino",
                                    "Accessed_From": "Others",
                                    "website_visits": "33"
                                },
                                {
                                    "country": "San Marino",
                                    "Accessed_From": "IOS App",
                                    "website_visits": "36"
                                },
                                {
                                    "country": "San Marino",
                                    "Accessed_From": "Microsoft Edge",
                                    "website_visits": "9"
                                },
                                {
                                    "country": "San Marino",
                                    "Accessed_From": "Safari",
                                    "website_visits": "18"
                                },
                                {
                                    "country": "San Marino",
                                    "Accessed_From": "Android App",
                                    "website_visits": "39"
                                },
                                {
                                    "country": "San Marino",
                                    "Accessed_From": "Chrome",
                                    "website_visits": "51"
                                },
                                {
                                    "country": "Serbia",
                                    "Accessed_From": "Android App",
                                    "website_visits": "281"
                                },
                                {
                                    "country": "Serbia",
                                    "Accessed_From": "Safari",
                                    "website_visits": "123"
                                },
                                {
                                    "country": "Serbia",
                                    "Accessed_From": "Others",
                                    "website_visits": "192"
                                },
                                {
                                    "country": "Serbia",
                                    "Accessed_From": "Mozilla Firefox",
                                    "website_visits": "210"
                                },
                                {
                                    "country": "Serbia",
                                    "Accessed_From": "Microsoft Edge",
                                    "website_visits": "126"
                                },
                                {
                                    "country": "Serbia",
                                    "Accessed_From": "Chrome",
                                    "website_visits": "204"
                                },
                                {
                                    "country": "Serbia",
                                    "Accessed_From": "IOS App",
                                    "website_visits": "160"
                                },
                                {
                                    "country": "Seychelles",
                                    "Accessed_From": "Android App",
                                    "website_visits": "300"
                                },
                                {
                                    "country": "Seychelles",
                                    "Accessed_From": "Safari",
                                    "website_visits": "129"
                                },
                                {
                                    "country": "Seychelles",
                                    "Accessed_From": "Chrome",
                                    "website_visits": "204"
                                },
                                {
                                    "country": "Seychelles",
                                    "Accessed_From": "IOS App",
                                    "website_visits": "156"
                                },
                                {
                                    "country": "Seychelles",
                                    "Accessed_From": "Microsoft Edge",
                                    "website_visits": "108"
                                },
                                {
                                    "country": "Seychelles",
                                    "Accessed_From": "Mozilla Firefox",
                                    "website_visits": "192"
                                },
                                {
                                    "country": "Seychelles",
                                    "Accessed_From": "Others",
                                    "website_visits": "207"
                                },
                                {
                                    "country": "Singapore",
                                    "Accessed_From": "Safari",
                                    "website_visits": "219"
                                },
                                {
                                    "country": "Singapore",
                                    "Accessed_From": "Chrome",
                                    "website_visits": "356"
                                },
                                {
                                    "country": "Singapore",
                                    "Accessed_From": "Mozilla Firefox",
                                    "website_visits": "336"
                                },
                                {
                                    "country": "Singapore",
                                    "Accessed_From": "Microsoft Edge",
                                    "website_visits": "189"
                                },
                                {
                                    "country": "Singapore",
                                    "Accessed_From": "IOS App",
                                    "website_visits": "274"
                                },
                                {
                                    "country": "Singapore",
                                    "Accessed_From": "Android App",
                                    "website_visits": "507"
                                },
                                {
                                    "country": "Singapore",
                                    "Accessed_From": "Others",
                                    "website_visits": "351"
                                },
                                {
                                    "country": "Slovakia",
                                    "Accessed_From": "Chrome",
                                    "website_visits": "254"
                                },
                                {
                                    "country": "Slovakia",
                                    "Accessed_From": "IOS App",
                                    "website_visits": "198"
                                },
                                {
                                    "country": "Slovakia",
                                    "Accessed_From": "Android App",
                                    "website_visits": "358"
                                },
                                {
                                    "country": "Slovakia",
                                    "Accessed_From": "Others",
                                    "website_visits": "240"
                                },
                                {
                                    "country": "Slovakia",
                                    "Accessed_From": "Microsoft Edge",
                                    "website_visits": "135"
                                },
                                {
                                    "country": "Slovakia",
                                    "Accessed_From": "Safari",
                                    "website_visits": "159"
                                },
                                {
                                    "country": "Slovakia",
                                    "Accessed_From": "Mozilla Firefox",
                                    "website_visits": "240"
                                },
                                {
                                    "country": "Slovenia",
                                    "Accessed_From": "Microsoft Edge",
                                    "website_visits": "135"
                                },
                                {
                                    "country": "Slovenia",
                                    "Accessed_From": "Safari",
                                    "website_visits": "132"
                                },
                                {
                                    "country": "Slovenia",
                                    "Accessed_From": "Android App",
                                    "website_visits": "321"
                                },
                                {
                                    "country": "Slovenia",
                                    "Accessed_From": "Others",
                                    "website_visits": "238"
                                },
                                {
                                    "country": "Slovenia",
                                    "Accessed_From": "IOS App",
                                    "website_visits": "191"
                                },
                                {
                                    "country": "Slovenia",
                                    "Accessed_From": "Chrome",
                                    "website_visits": "254"
                                },
                                {
                                    "country": "Slovenia",
                                    "Accessed_From": "Mozilla Firefox",
                                    "website_visits": "240"
                                },
                                {
                                    "country": "South Africa",
                                    "Accessed_From": "Android App",
                                    "website_visits": "303"
                                },
                                {
                                    "country": "South Africa",
                                    "Accessed_From": "Safari",
                                    "website_visits": "138"
                                },
                                {
                                    "country": "South Africa",
                                    "Accessed_From": "Others",
                                    "website_visits": "214"
                                },
                                {
                                    "country": "South Africa",
                                    "Accessed_From": "Mozilla Firefox",
                                    "website_visits": "221"
                                },
                                {
                                    "country": "South Africa",
                                    "Accessed_From": "Chrome",
                                    "website_visits": "255"
                                },
                                {
                                    "country": "South Africa",
                                    "Accessed_From": "Microsoft Edge",
                                    "website_visits": "117"
                                },
                                {
                                    "country": "South Africa",
                                    "Accessed_From": "IOS App",
                                    "website_visits": "192"
                                },
                                {
                                    "country": "Spain",
                                    "Accessed_From": "Safari",
                                    "website_visits": "213"
                                },
                                {
                                    "country": "Spain",
                                    "Accessed_From": "Chrome",
                                    "website_visits": "357"
                                },
                                {
                                    "country": "Spain",
                                    "Accessed_From": "Android App",
                                    "website_visits": "490"
                                },
                                {
                                    "country": "Spain",
                                    "Accessed_From": "Microsoft Edge",
                                    "website_visits": "207"
                                },
                                {
                                    "country": "Spain",
                                    "Accessed_From": "Mozilla Firefox",
                                    "website_visits": "354"
                                },
                                {
                                    "country": "Spain",
                                    "Accessed_From": "Others",
                                    "website_visits": "336"
                                },
                                {
                                    "country": "Spain",
                                    "Accessed_From": "IOS App",
                                    "website_visits": "275"
                                },
                                {
                                    "country": "Sri Lanka",
                                    "Accessed_From": "Android App",
                                    "website_visits": "198"
                                },
                                {
                                    "country": "Sri Lanka",
                                    "Accessed_From": "IOS App",
                                    "website_visits": "96"
                                },
                                {
                                    "country": "Sri Lanka",
                                    "Accessed_From": "Chrome",
                                    "website_visits": "105"
                                },
                                {
                                    "country": "Sri Lanka",
                                    "Accessed_From": "Safari",
                                    "website_visits": "87"
                                },
                                {
                                    "country": "Sri Lanka",
                                    "Accessed_From": "Microsoft Edge",
                                    "website_visits": "63"
                                },
                                {
                                    "country": "Sri Lanka",
                                    "Accessed_From": "Others",
                                    "website_visits": "126"
                                },
                                {
                                    "country": "Sri Lanka",
                                    "Accessed_From": "Mozilla Firefox",
                                    "website_visits": "117"
                                },
                                {
                                    "country": "Suriname",
                                    "Accessed_From": "IOS App",
                                    "website_visits": "255"
                                },
                                {
                                    "country": "Suriname",
                                    "Accessed_From": "Microsoft Edge",
                                    "website_visits": "180"
                                },
                                {
                                    "country": "Suriname",
                                    "Accessed_From": "Safari",
                                    "website_visits": "183"
                                },
                                {
                                    "country": "Suriname",
                                    "Accessed_From": "Mozilla Firefox",
                                    "website_visits": "315"
                                },
                                {
                                    "country": "Suriname",
                                    "Accessed_From": "Android App",
                                    "website_visits": "423"
                                },
                                {
                                    "country": "Suriname",
                                    "Accessed_From": "Others",
                                    "website_visits": "306"
                                },
                                {
                                    "country": "Suriname",
                                    "Accessed_From": "Chrome",
                                    "website_visits": "354"
                                },
                                {
                                    "country": "Sweden",
                                    "Accessed_From": "Others",
                                    "website_visits": "336"
                                },
                                {
                                    "country": "Sweden",
                                    "Accessed_From": "IOS App",
                                    "website_visits": "273"
                                },
                                {
                                    "country": "Sweden",
                                    "Accessed_From": "Chrome",
                                    "website_visits": "357"
                                },
                                {
                                    "country": "Sweden",
                                    "Accessed_From": "Android App",
                                    "website_visits": "478"
                                },
                                {
                                    "country": "Sweden",
                                    "Accessed_From": "Mozilla Firefox",
                                    "website_visits": "324"
                                },
                                {
                                    "country": "Sweden",
                                    "Accessed_From": "Safari",
                                    "website_visits": "206"
                                },
                                {
                                    "country": "Sweden",
                                    "Accessed_From": "Microsoft Edge",
                                    "website_visits": "174"
                                },
                                {
                                    "country": "Switzerland",
                                    "Accessed_From": "IOS App",
                                    "website_visits": "174"
                                },
                                {
                                    "country": "Switzerland",
                                    "Accessed_From": "Android App",
                                    "website_visits": "344"
                                },
                                {
                                    "country": "Switzerland",
                                    "Accessed_From": "Chrome",
                                    "website_visits": "255"
                                },
                                {
                                    "country": "Switzerland",
                                    "Accessed_From": "Others",
                                    "website_visits": "222"
                                },
                                {
                                    "country": "Switzerland",
                                    "Accessed_From": "Microsoft Edge",
                                    "website_visits": "132"
                                },
                                {
                                    "country": "Switzerland",
                                    "Accessed_From": "Safari",
                                    "website_visits": "150"
                                },
                                {
                                    "country": "Switzerland",
                                    "Accessed_From": "Mozilla Firefox",
                                    "website_visits": "235"
                                },
                                {
                                    "country": "Thailand",
                                    "Accessed_From": "Microsoft Edge",
                                    "website_visits": "180"
                                },
                                {
                                    "country": "Thailand",
                                    "Accessed_From": "Chrome",
                                    "website_visits": "307"
                                },
                                {
                                    "country": "Thailand",
                                    "Accessed_From": "Safari",
                                    "website_visits": "192"
                                },
                                {
                                    "country": "Thailand",
                                    "Accessed_From": "IOS App",
                                    "website_visits": "255"
                                },
                                {
                                    "country": "Thailand",
                                    "Accessed_From": "Mozilla Firefox",
                                    "website_visits": "305"
                                },
                                {
                                    "country": "Thailand",
                                    "Accessed_From": "Android App",
                                    "website_visits": "444"
                                },
                                {
                                    "country": "Thailand",
                                    "Accessed_From": "Others",
                                    "website_visits": "321"
                                },
                                {
                                    "country": "Trinidad and Tobago",
                                    "Accessed_From": "IOS App",
                                    "website_visits": "237"
                                },
                                {
                                    "country": "Trinidad and Tobago",
                                    "Accessed_From": "Microsoft Edge",
                                    "website_visits": "162"
                                },
                                {
                                    "country": "Trinidad and Tobago",
                                    "Accessed_From": "Others",
                                    "website_visits": "303"
                                },
                                {
                                    "country": "Trinidad and Tobago",
                                    "Accessed_From": "Mozilla Firefox",
                                    "website_visits": "288"
                                },
                                {
                                    "country": "Trinidad and Tobago",
                                    "Accessed_From": "Android App",
                                    "website_visits": "450"
                                },
                                {
                                    "country": "Trinidad and Tobago",
                                    "Accessed_From": "Safari",
                                    "website_visits": "198"
                                },
                                {
                                    "country": "Trinidad and Tobago",
                                    "Accessed_From": "Chrome",
                                    "website_visits": "306"
                                },
                                {
                                    "country": "Turkey",
                                    "Accessed_From": "Safari",
                                    "website_visits": "33"
                                },
                                {
                                    "country": "Turkey",
                                    "Accessed_From": "Chrome",
                                    "website_visits": "102"
                                },
                                {
                                    "country": "Turkey",
                                    "Accessed_From": "Mozilla Firefox",
                                    "website_visits": "96"
                                },
                                {
                                    "country": "Turkey",
                                    "Accessed_From": "Android App",
                                    "website_visits": "78"
                                },
                                {
                                    "country": "Turkey",
                                    "Accessed_From": "Microsoft Edge",
                                    "website_visits": "54"
                                },
                                {
                                    "country": "Turkey",
                                    "Accessed_From": "Others",
                                    "website_visits": "66"
                                },
                                {
                                    "country": "Turkey",
                                    "Accessed_From": "IOS App",
                                    "website_visits": "75"
                                },
                                {
                                    "country": "Turkmenistan",
                                    "Accessed_From": "Safari",
                                    "website_visits": "207"
                                },
                                {
                                    "country": "Turkmenistan",
                                    "Accessed_From": "Android App",
                                    "website_visits": "479"
                                },
                                {
                                    "country": "Turkmenistan",
                                    "Accessed_From": "IOS App",
                                    "website_visits": "252"
                                },
                                {
                                    "country": "Turkmenistan",
                                    "Accessed_From": "Chrome",
                                    "website_visits": "345"
                                },
                                {
                                    "country": "Turkmenistan",
                                    "Accessed_From": "Others",
                                    "website_visits": "316"
                                },
                                {
                                    "country": "Turkmenistan",
                                    "Accessed_From": "Mozilla Firefox",
                                    "website_visits": "318"
                                },
                                {
                                    "country": "Turkmenistan",
                                    "Accessed_From": "Microsoft Edge",
                                    "website_visits": "171"
                                },
                                {
                                    "country": "Ukraine",
                                    "Accessed_From": "Others",
                                    "website_visits": "321"
                                },
                                {
                                    "country": "Ukraine",
                                    "Accessed_From": "Android App",
                                    "website_visits": "444"
                                },
                                {
                                    "country": "Ukraine",
                                    "Accessed_From": "Chrome",
                                    "website_visits": "319"
                                },
                                {
                                    "country": "Ukraine",
                                    "Accessed_From": "IOS App",
                                    "website_visits": "255"
                                },
                                {
                                    "country": "Ukraine",
                                    "Accessed_From": "Safari",
                                    "website_visits": "192"
                                },
                                {
                                    "country": "Ukraine",
                                    "Accessed_From": "Microsoft Edge",
                                    "website_visits": "180"
                                },
                                {
                                    "country": "Ukraine",
                                    "Accessed_From": "Mozilla Firefox",
                                    "website_visits": "305"
                                },
                                {
                                    "country": "United Arab Emirates",
                                    "Accessed_From": "Mozilla Firefox",
                                    "website_visits": "69"
                                },
                                {
                                    "country": "United Arab Emirates",
                                    "Accessed_From": "Others",
                                    "website_visits": "63"
                                },
                                {
                                    "country": "United Arab Emirates",
                                    "Accessed_From": "Safari",
                                    "website_visits": "48"
                                },
                                {
                                    "country": "United Arab Emirates",
                                    "Accessed_From": "Android App",
                                    "website_visits": "105"
                                },
                                {
                                    "country": "United Arab Emirates",
                                    "Accessed_From": "Microsoft Edge",
                                    "website_visits": "36"
                                },
                                {
                                    "country": "United Arab Emirates",
                                    "Accessed_From": "IOS App",
                                    "website_visits": "57"
                                },
                                {
                                    "country": "United Arab Emirates",
                                    "Accessed_From": "Chrome",
                                    "website_visits": "54"
                                },
                                {
                                    "country": "United Kingdom",
                                    "Accessed_From": "Chrome",
                                    "website_visits": "393"
                                },
                                {
                                    "country": "United Kingdom",
                                    "Accessed_From": "IOS App",
                                    "website_visits": "273"
                                },
                                {
                                    "country": "United Kingdom",
                                    "Accessed_From": "Others",
                                    "website_visits": "336"
                                },
                                {
                                    "country": "United Kingdom",
                                    "Accessed_From": "Safari",
                                    "website_visits": "210"
                                },
                                {
                                    "country": "United Kingdom",
                                    "Accessed_From": "Mozilla Firefox",
                                    "website_visits": "345"
                                },
                                {
                                    "country": "United Kingdom",
                                    "Accessed_From": "Microsoft Edge",
                                    "website_visits": "189"
                                },
                                {
                                    "country": "United Kingdom",
                                    "Accessed_From": "Android App",
                                    "website_visits": "486"
                                },
                                {
                                    "country": "United States",
                                    "Accessed_From": "Mozilla Firefox",
                                    "website_visits": "336"
                                },
                                {
                                    "country": "United States",
                                    "Accessed_From": "Microsoft Edge",
                                    "website_visits": "189"
                                },
                                {
                                    "country": "United States",
                                    "Accessed_From": "Others",
                                    "website_visits": "354"
                                },
                                {
                                    "country": "United States",
                                    "Accessed_From": "Safari",
                                    "website_visits": "210"
                                },
                                {
                                    "country": "United States",
                                    "Accessed_From": "IOS App",
                                    "website_visits": "290"
                                },
                                {
                                    "country": "United States",
                                    "Accessed_From": "Android App",
                                    "website_visits": "483"
                                },
                                {
                                    "country": "United States",
                                    "Accessed_From": "Chrome",
                                    "website_visits": "369"
                                },
                                {
                                    "country": "Uruguay",
                                    "Accessed_From": "Safari",
                                    "website_visits": "201"
                                },
                                {
                                    "country": "Uruguay",
                                    "Accessed_From": "Microsoft Edge",
                                    "website_visits": "180"
                                },
                                {
                                    "country": "Uruguay",
                                    "Accessed_From": "Mozilla Firefox",
                                    "website_visits": "306"
                                },
                                {
                                    "country": "Uruguay",
                                    "Accessed_From": "IOS App",
                                    "website_visits": "237"
                                },
                                {
                                    "country": "Uruguay",
                                    "Accessed_From": "Chrome",
                                    "website_visits": "306"
                                },
                                {
                                    "country": "Uruguay",
                                    "Accessed_From": "Others",
                                    "website_visits": "318"
                                },
                                {
                                    "country": "Uruguay",
                                    "Accessed_From": "Android App",
                                    "website_visits": "468"
                                },
                                {
                                    "country": "Uzbekistan",
                                    "Accessed_From": "Chrome",
                                    "website_visits": "255"
                                },
                                {
                                    "country": "Uzbekistan",
                                    "Accessed_From": "Android App",
                                    "website_visits": "357"
                                },
                                {
                                    "country": "Uzbekistan",
                                    "Accessed_From": "Others",
                                    "website_visits": "240"
                                },
                                {
                                    "country": "Uzbekistan",
                                    "Accessed_From": "Microsoft Edge",
                                    "website_visits": "135"
                                },
                                {
                                    "country": "Uzbekistan",
                                    "Accessed_From": "IOS App",
                                    "website_visits": "198"
                                },
                                {
                                    "country": "Uzbekistan",
                                    "Accessed_From": "Mozilla Firefox",
                                    "website_visits": "240"
                                },
                                {
                                    "country": "Uzbekistan",
                                    "Accessed_From": "Safari",
                                    "website_visits": "159"
                                }
                            ]
                        },
                        "text/html": [
                            "<table>",
                            "<tr><th>country</th><th>Accessed_From</th><th>website_visits</th></tr>",
                            "<tr><td>Albania</td><td>Safari</td><td>180</td></tr>",
                            "<tr><td>Albania</td><td>Android App</td><td>392</td></tr>",
                            "<tr><td>Albania</td><td>Others</td><td>281</td></tr>",
                            "<tr><td>Albania</td><td>Mozilla Firefox</td><td>292</td></tr>",
                            "<tr><td>Albania</td><td>Microsoft Edge</td><td>171</td></tr>",
                            "<tr><td>Albania</td><td>IOS App</td><td>233</td></tr>",
                            "<tr><td>Albania</td><td>Chrome</td><td>299</td></tr>",
                            "<tr><td>Antigua and Barbuda</td><td>IOS App</td><td>289</td></tr>",
                            "<tr><td>Antigua and Barbuda</td><td>Safari</td><td>210</td></tr>",
                            "<tr><td>Antigua and Barbuda</td><td>Chrome</td><td>401</td></tr>",
                            "<tr><td>Antigua and Barbuda</td><td>Others</td><td>336</td></tr>",
                            "<tr><td>Antigua and Barbuda</td><td>Mozilla Firefox</td><td>357</td></tr>",
                            "<tr><td>Antigua and Barbuda</td><td>Microsoft Edge</td><td>189</td></tr>",
                            "<tr><td>Antigua and Barbuda</td><td>Android App</td><td>486</td></tr>",
                            "<tr><td>Argentina</td><td>Others</td><td>407</td></tr>",
                            "<tr><td>Argentina</td><td>IOS App</td><td>336</td></tr>",
                            "<tr><td>Argentina</td><td>Chrome</td><td>429</td></tr>",
                            "<tr><td>Argentina</td><td>Safari</td><td>240</td></tr>",
                            "<tr><td>Argentina</td><td>Microsoft Edge</td><td>216</td></tr>",
                            "<tr><td>Argentina</td><td>Android App</td><td>575</td></tr>",
                            "<tr><td>Argentina</td><td>Mozilla Firefox</td><td>400</td></tr>",
                            "<tr><td>Armenia</td><td>IOS App</td><td>250</td></tr>",
                            "<tr><td>Armenia</td><td>Others</td><td>314</td></tr>",
                            "<tr><td>Armenia</td><td>Safari</td><td>210</td></tr>",
                            "<tr><td>Armenia</td><td>Chrome</td><td>304</td></tr>",
                            "<tr><td>Armenia</td><td>Android App</td><td>487</td></tr>",
                            "<tr><td>Armenia</td><td>Microsoft Edge</td><td>189</td></tr>",
                            "<tr><td>Armenia</td><td>Mozilla Firefox</td><td>332</td></tr>",
                            "<tr><td>Aruba</td><td>Mozilla Firefox</td><td>164</td></tr>",
                            "<tr><td>Aruba</td><td>Safari</td><td>110</td></tr>",
                            "<tr><td>Aruba</td><td>Android App</td><td>234</td></tr>",
                            "<tr><td>Aruba</td><td>Chrome</td><td>228</td></tr>",
                            "<tr><td>Aruba</td><td>Others</td><td>186</td></tr>",
                            "<tr><td>Aruba</td><td>IOS App</td><td>155</td></tr>",
                            "<tr><td>Aruba</td><td>Microsoft Edge</td><td>99</td></tr>",
                            "<tr><td>Australia</td><td>Chrome</td><td>415</td></tr>",
                            "<tr><td>Australia</td><td>Android App</td><td>575</td></tr>",
                            "<tr><td>Australia</td><td>Mozilla Firefox</td><td>400</td></tr>",
                            "<tr><td>Australia</td><td>Microsoft Edge</td><td>216</td></tr>",
                            "<tr><td>Australia</td><td>Others</td><td>374</td></tr>",
                            "<tr><td>Australia</td><td>Safari</td><td>240</td></tr>",
                            "<tr><td>Australia</td><td>IOS App</td><td>300</td></tr>",
                            "<tr><td>Austria</td><td>IOS App</td><td>346</td></tr>",
                            "<tr><td>Austria</td><td>Chrome</td><td>418</td></tr>",
                            "<tr><td>Austria</td><td>Mozilla Firefox</td><td>408</td></tr>",
                            "<tr><td>Austria</td><td>Android App</td><td>576</td></tr>",
                            "<tr><td>Austria</td><td>Others</td><td>421</td></tr>",
                            "<tr><td>Austria</td><td>Safari</td><td>262</td></tr>",
                            "<tr><td>Austria</td><td>Microsoft Edge</td><td>243</td></tr>",
                            "<tr><td>Azerbaijan</td><td>IOS App</td><td>167</td></tr>",
                            "<tr><td>Azerbaijan</td><td>Safari</td><td>128</td></tr>",
                            "<tr><td>Azerbaijan</td><td>Mozilla Firefox</td><td>200</td></tr>",
                            "<tr><td>Azerbaijan</td><td>Microsoft Edge</td><td>108</td></tr>",
                            "<tr><td>Azerbaijan</td><td>Android App</td><td>298</td></tr>",
                            "<tr><td>Azerbaijan</td><td>Others</td><td>205</td></tr>",
                            "<tr><td>Azerbaijan</td><td>Chrome</td><td>238</td></tr>",
                            "<tr><td>Bahamas</td><td>Android App</td><td>432</td></tr>",
                            "<tr><td>Bahamas</td><td>Safari</td><td>186</td></tr>",
                            "<tr><td>Bahamas</td><td>Others</td><td>292</td></tr>",
                            "<tr><td>Bahamas</td><td>Chrome</td><td>296</td></tr>",
                            "<tr><td>Bahamas</td><td>IOS App</td><td>243</td></tr>",
                            "<tr><td>Bahamas</td><td>Microsoft Edge</td><td>177</td></tr>",
                            "<tr><td>Bahamas</td><td>Mozilla Firefox</td><td>306</td></tr>",
                            "<tr><td>Bahrain</td><td>IOS App</td><td>227</td></tr>",
                            "<tr><td>Bahrain</td><td>Chrome</td><td>299</td></tr>",
                            "<tr><td>Bahrain</td><td>Microsoft Edge</td><td>147</td></tr>",
                            "<tr><td>Bahrain</td><td>Android App</td><td>373</td></tr>",
                            "<tr><td>Bahrain</td><td>Safari</td><td>164</td></tr>",
                            "<tr><td>Bahrain</td><td>Others</td><td>284</td></tr>",
                            "<tr><td>Bahrain</td><td>Mozilla Firefox</td><td>270</td></tr>",
                            "<tr><td>Barbados</td><td>Android App</td><td>482</td></tr>",
                            "<tr><td>Barbados</td><td>Safari</td><td>211</td></tr>",
                            "<tr><td>Barbados</td><td>Microsoft Edge</td><td>180</td></tr>",
                            "<tr><td>Barbados</td><td>Others</td><td>311</td></tr>",
                            "<tr><td>Barbados</td><td>Chrome</td><td>343</td></tr>",
                            "<tr><td>Barbados</td><td>IOS App</td><td>252</td></tr>",
                            "<tr><td>Barbados</td><td>Mozilla Firefox</td><td>320</td></tr>",
                            "<tr><td>Belarus</td><td>Android App</td><td>410</td></tr>",
                            "<tr><td>Belarus</td><td>Others</td><td>279</td></tr>",
                            "<tr><td>Belarus</td><td>IOS App</td><td>220</td></tr>",
                            "<tr><td>Belarus</td><td>Safari</td><td>170</td></tr>",
                            "<tr><td>Belarus</td><td>Chrome</td><td>256</td></tr>",
                            "<tr><td>Belarus</td><td>Microsoft Edge</td><td>153</td></tr>",
                            "<tr><td>Belarus</td><td>Mozilla Firefox</td><td>275</td></tr>",
                            "<tr><td>Belgium</td><td>Android App</td><td>556</td></tr>",
                            "<tr><td>Belgium</td><td>Microsoft Edge</td><td>225</td></tr>",
                            "<tr><td>Belgium</td><td>Chrome</td><td>458</td></tr>",
                            "<tr><td>Belgium</td><td>Others</td><td>394</td></tr>",
                            "<tr><td>Belgium</td><td>Mozilla Firefox</td><td>396</td></tr>",
                            "<tr><td>Belgium</td><td>IOS App</td><td>325</td></tr>",
                            "<tr><td>Belgium</td><td>Safari</td><td>250</td></tr>",
                            "<tr><td>Belize</td><td>Safari</td><td>222</td></tr>",
                            "<tr><td>Belize</td><td>Mozilla Firefox</td><td>359</td></tr>",
                            "<tr><td>Belize</td><td>Android App</td><td>523</td></tr>",
                            "<tr><td>Belize</td><td>Chrome</td><td>371</td></tr>",
                            "<tr><td>Belize</td><td>Microsoft Edge</td><td>207</td></tr>",
                            "<tr><td>Belize</td><td>Others</td><td>376</td></tr>",
                            "<tr><td>Belize</td><td>IOS App</td><td>294</td></tr>",
                            "<tr><td>Bosnia and Herzegovina</td><td>Safari</td><td>18</td></tr>",
                            "<tr><td>Bosnia and Herzegovina</td><td>IOS App</td><td>18</td></tr>",
                            "<tr><td>Bosnia and Herzegovina</td><td>Microsoft Edge</td><td>9</td></tr>",
                            "<tr><td>Bosnia and Herzegovina</td><td>Mozilla Firefox</td><td>40</td></tr>",
                            "<tr><td>Bosnia and Herzegovina</td><td>Android App</td><td>52</td></tr>",
                            "<tr><td>Bosnia and Herzegovina</td><td>Others</td><td>15</td></tr>",
                            "<tr><td>Bosnia and Herzegovina</td><td>Chrome</td><td>16</td></tr>",
                            "<tr><td>Brazil</td><td>Others</td><td>403</td></tr>",
                            "<tr><td>Brazil</td><td>Android App</td><td>551</td></tr>",
                            "<tr><td>Brazil</td><td>IOS App</td><td>331</td></tr>",
                            "<tr><td>Brazil</td><td>Mozilla Firefox</td><td>385</td></tr>",
                            "<tr><td>Brazil</td><td>Safari</td><td>249</td></tr>",
                            "<tr><td>Brazil</td><td>Microsoft Edge</td><td>225</td></tr>",
                            "<tr><td>Brazil</td><td>Chrome</td><td>460</td></tr>",
                            "<tr><td>Bulgaria</td><td>Others</td><td>382</td></tr>",
                            "<tr><td>Bulgaria</td><td>Mozilla Firefox</td><td>399</td></tr>",
                            "<tr><td>Bulgaria</td><td>IOS App</td><td>306</td></tr>",
                            "<tr><td>Bulgaria</td><td>Chrome</td><td>401</td></tr>",
                            "<tr><td>Bulgaria</td><td>Android App</td><td>576</td></tr>",
                            "<tr><td>Bulgaria</td><td>Safari</td><td>240</td></tr>",
                            "<tr><td>Bulgaria</td><td>Microsoft Edge</td><td>216</td></tr>",
                            "<tr><td>Cabo Verde</td><td>Microsoft Edge</td><td>12</td></tr>",
                            "<tr><td>Cabo Verde</td><td>Chrome</td><td>14</td></tr>",
                            "<tr><td>Cabo Verde</td><td>IOS App</td><td>28</td></tr>",
                            "<tr><td>Cabo Verde</td><td>Mozilla Firefox</td><td>12</td></tr>",
                            "<tr><td>Cabo Verde</td><td>Others</td><td>18</td></tr>",
                            "<tr><td>Canada</td><td>Others</td><td>376</td></tr>",
                            "<tr><td>Canada</td><td>Safari</td><td>250</td></tr>",
                            "<tr><td>Canada</td><td>IOS App</td><td>296</td></tr>",
                            "<tr><td>Canada</td><td>Chrome</td><td>377</td></tr>",
                            "<tr><td>Canada</td><td>Android App</td><td>552</td></tr>",
                            "<tr><td>Canada</td><td>Microsoft Edge</td><td>213</td></tr>",
                            "<tr><td>Canada</td><td>Mozilla Firefox</td><td>372</td></tr>",
                            "<tr><td>Chile</td><td>Android App</td><td>575</td></tr>",
                            "<tr><td>Chile</td><td>Chrome</td><td>457</td></tr>",
                            "<tr><td>Chile</td><td>Safari</td><td>240</td></tr>",
                            "<tr><td>Chile</td><td>IOS App</td><td>320</td></tr>",
                            "<tr><td>Chile</td><td>Microsoft Edge</td><td>216</td></tr>",
                            "<tr><td>Chile</td><td>Mozilla Firefox</td><td>400</td></tr>",
                            "<tr><td>Chile</td><td>Others</td><td>396</td></tr>",
                            "<tr><td>Colombia</td><td>Chrome</td><td>401</td></tr>",
                            "<tr><td>Colombia</td><td>Android App</td><td>537</td></tr>",
                            "<tr><td>Colombia</td><td>IOS App</td><td>326</td></tr>",
                            "<tr><td>Colombia</td><td>Safari</td><td>240</td></tr>",
                            "<tr><td>Colombia</td><td>Mozilla Firefox</td><td>386</td></tr>",
                            "<tr><td>Colombia</td><td>Microsoft Edge</td><td>225</td></tr>",
                            "<tr><td>Colombia</td><td>Others</td><td>399</td></tr>",
                            "<tr><td>Costa Rica</td><td>Microsoft Edge</td><td>180</td></tr>",
                            "<tr><td>Costa Rica</td><td>Others</td><td>336</td></tr>",
                            "<tr><td>Costa Rica</td><td>Android App</td><td>483</td></tr>",
                            "<tr><td>Costa Rica</td><td>IOS App</td><td>270</td></tr>",
                            "<tr><td>Costa Rica</td><td>Chrome</td><td>357</td></tr>",
                            "<tr><td>Costa Rica</td><td>Safari</td><td>210</td></tr>",
                            "<tr><td>Costa Rica</td><td>Mozilla Firefox</td><td>324</td></tr>",
                            "<tr><td>Croatia</td><td>Chrome</td><td>255</td></tr>",
                            "<tr><td>Croatia</td><td>Others</td><td>240</td></tr>",
                            "<tr><td>Croatia</td><td>Mozilla Firefox</td><td>246</td></tr>",
                            "<tr><td>Croatia</td><td>Safari</td><td>150</td></tr>",
                            "<tr><td>Croatia</td><td>Microsoft Edge</td><td>138</td></tr>",
                            "<tr><td>Croatia</td><td>IOS App</td><td>198</td></tr>",
                            "<tr><td>Croatia</td><td>Android App</td><td>345</td></tr>",
                            "<tr><td>Cuba</td><td>Mozilla Firefox</td><td>255</td></tr>",
                            "<tr><td>Cuba</td><td>Others</td><td>270</td></tr>",
                            "<tr><td>Cuba</td><td>IOS App</td><td>198</td></tr>",
                            "<tr><td>Cuba</td><td>Chrome</td><td>258</td></tr>",
                            "<tr><td>Cuba</td><td>Safari</td><td>180</td></tr>",
                            "<tr><td>Cuba</td><td>Android App</td><td>411</td></tr>",
                            "<tr><td>Cuba</td><td>Microsoft Edge</td><td>156</td></tr>",
                            "<tr><td>Cyprus</td><td>Microsoft Edge</td><td>84</td></tr>",
                            "<tr><td>Cyprus</td><td>IOS App</td><td>150</td></tr>",
                            "<tr><td>Cyprus</td><td>Others</td><td>162</td></tr>",
                            "<tr><td>Cyprus</td><td>Chrome</td><td>200</td></tr>",
                            "<tr><td>Cyprus</td><td>Safari</td><td>90</td></tr>",
                            "<tr><td>Cyprus</td><td>Mozilla Firefox</td><td>171</td></tr>",
                            "<tr><td>Cyprus</td><td>Android App</td><td>210</td></tr>",
                            "<tr><td>Czech Republic</td><td>Android App</td><td>426</td></tr>",
                            "<tr><td>Czech Republic</td><td>Chrome</td><td>306</td></tr>",
                            "<tr><td>Czech Republic</td><td>IOS App</td><td>237</td></tr>",
                            "<tr><td>Czech Republic</td><td>Microsoft Edge</td><td>180</td></tr>",
                            "<tr><td>Czech Republic</td><td>Mozilla Firefox</td><td>306</td></tr>",
                            "<tr><td>Czech Republic</td><td>Safari</td><td>189</td></tr>",
                            "<tr><td>Czech Republic</td><td>Others</td><td>288</td></tr>",
                            "<tr><td>Denmark</td><td>Microsoft Edge</td><td>135</td></tr>",
                            "<tr><td>Denmark</td><td>Others</td><td>248</td></tr>",
                            "<tr><td>Denmark</td><td>Safari</td><td>154</td></tr>",
                            "<tr><td>Denmark</td><td>Mozilla Firefox</td><td>240</td></tr>",
                            "<tr><td>Denmark</td><td>IOS App</td><td>195</td></tr>",
                            "<tr><td>Denmark</td><td>Chrome</td><td>255</td></tr>",
                            "<tr><td>Denmark</td><td>Android App</td><td>357</td></tr>",
                            "<tr><td>Dominica</td><td>Safari</td><td>15</td></tr>",
                            "<tr><td>Dominica</td><td>Others</td><td>21</td></tr>",
                            "<tr><td>Dominica</td><td>Android App</td><td>36</td></tr>",
                            "<tr><td>Ecuador</td><td>Mozilla Firefox</td><td>351</td></tr>",
                            "<tr><td>Ecuador</td><td>Chrome</td><td>360</td></tr>",
                            "<tr><td>Ecuador</td><td>Android App</td><td>489</td></tr>",
                            "<tr><td>Ecuador</td><td>Safari</td><td>213</td></tr>",
                            "<tr><td>Ecuador</td><td>IOS App</td><td>285</td></tr>",
                            "<tr><td>Ecuador</td><td>Microsoft Edge</td><td>198</td></tr>",
                            "<tr><td>Ecuador</td><td>Others</td><td>336</td></tr>",
                            "<tr><td>El Salvador</td><td>Others</td><td>257</td></tr>",
                            "<tr><td>El Salvador</td><td>Chrome</td><td>304</td></tr>",
                            "<tr><td>El Salvador</td><td>Microsoft Edge</td><td>153</td></tr>",
                            "<tr><td>El Salvador</td><td>Android App</td><td>360</td></tr>",
                            "<tr><td>El Salvador</td><td>Safari</td><td>159</td></tr>",
                            "<tr><td>El Salvador</td><td>IOS App</td><td>222</td></tr>",
                            "<tr><td>El Salvador</td><td>Mozilla Firefox</td><td>273</td></tr>",
                            "<tr><td>Estonia</td><td>Chrome</td><td>255</td></tr>",
                            "<tr><td>Estonia</td><td>IOS App</td><td>195</td></tr>",
                            "<tr><td>Estonia</td><td>Safari</td><td>141</td></tr>",
                            "<tr><td>Estonia</td><td>Android App</td><td>333</td></tr>",
                            "<tr><td>Estonia</td><td>Mozilla Firefox</td><td>228</td></tr>",
                            "<tr><td>Estonia</td><td>Others</td><td>240</td></tr>",
                            "<tr><td>Estonia</td><td>Microsoft Edge</td><td>120</td></tr>",
                            "<tr><td>Fiji</td><td>Others</td><td>126</td></tr>",
                            "<tr><td>Fiji</td><td>IOS App</td><td>81</td></tr>",
                            "<tr><td>Fiji</td><td>Microsoft Edge</td><td>75</td></tr>",
                            "<tr><td>Fiji</td><td>Chrome</td><td>105</td></tr>",
                            "<tr><td>Fiji</td><td>Mozilla Firefox</td><td>111</td></tr>",
                            "<tr><td>Fiji</td><td>Android App</td><td>204</td></tr>",
                            "<tr><td>Fiji</td><td>Safari</td><td>90</td></tr>",
                            "<tr><td>Finland</td><td>Chrome</td><td>354</td></tr>",
                            "<tr><td>Finland</td><td>Android App</td><td>441</td></tr>",
                            "<tr><td>Finland</td><td>Others</td><td>315</td></tr>",
                            "<tr><td>Finland</td><td>Mozilla Firefox</td><td>333</td></tr>",
                            "<tr><td>Finland</td><td>Safari</td><td>192</td></tr>",
                            "<tr><td>Finland</td><td>IOS App</td><td>270</td></tr>",
                            "<tr><td>Finland</td><td>Microsoft Edge</td><td>183</td></tr>",
                            "<tr><td>France</td><td>Chrome</td><td>357</td></tr>",
                            "<tr><td>France</td><td>Safari</td><td>207</td></tr>",
                            "<tr><td>France</td><td>Mozilla Firefox</td><td>336</td></tr>",
                            "<tr><td>France</td><td>Android App</td><td>471</td></tr>",
                            "<tr><td>France</td><td>Microsoft Edge</td><td>189</td></tr>",
                            "<tr><td>France</td><td>Others</td><td>327</td></tr>",
                            "<tr><td>France</td><td>IOS App</td><td>273</td></tr>",
                            "<tr><td>Georgia</td><td>Chrome</td><td>255</td></tr>",
                            "<tr><td>Georgia</td><td>Android App</td><td>357</td></tr>",
                            "<tr><td>Georgia</td><td>IOS App</td><td>195</td></tr>",
                            "<tr><td>Georgia</td><td>Others</td><td>249</td></tr>",
                            "<tr><td>Georgia</td><td>Safari</td><td>153</td></tr>",
                            "<tr><td>Georgia</td><td>Microsoft Edge</td><td>135</td></tr>",
                            "<tr><td>Georgia</td><td>Mozilla Firefox</td><td>240</td></tr>",
                            "<tr><td>Germany</td><td>Mozilla Firefox</td><td>288</td></tr>",
                            "<tr><td>Germany</td><td>Android App</td><td>414</td></tr>",
                            "<tr><td>Germany</td><td>Microsoft Edge</td><td>162</td></tr>",
                            "<tr><td>Germany</td><td>IOS App</td><td>234</td></tr>",
                            "<tr><td>Germany</td><td>Others</td><td>287</td></tr>",
                            "<tr><td>Germany</td><td>Chrome</td><td>306</td></tr>",
                            "<tr><td>Germany</td><td>Safari</td><td>181</td></tr>",
                            "<tr><td>Greece</td><td>IOS App</td><td>273</td></tr>",
                            "<tr><td>Greece</td><td>Safari</td><td>213</td></tr>",
                            "<tr><td>Greece</td><td>Mozilla Firefox</td><td>336</td></tr>",
                            "<tr><td>Greece</td><td>Microsoft Edge</td><td>189</td></tr>",
                            "<tr><td>Greece</td><td>Chrome</td><td>357</td></tr>",
                            "<tr><td>Greece</td><td>Android App</td><td>507</td></tr>",
                            "<tr><td>Greece</td><td>Others</td><td>357</td></tr>",
                            "<tr><td>Grenada</td><td>Chrome</td><td>306</td></tr>",
                            "<tr><td>Grenada</td><td>Others</td><td>285</td></tr>",
                            "<tr><td>Grenada</td><td>Mozilla Firefox</td><td>288</td></tr>",
                            "<tr><td>Grenada</td><td>Android App</td><td>408</td></tr>",
                            "<tr><td>Grenada</td><td>Microsoft Edge</td><td>162</td></tr>",
                            "<tr><td>Grenada</td><td>IOS App</td><td>234</td></tr>",
                            "<tr><td>Grenada</td><td>Safari</td><td>177</td></tr>",
                            "<tr><td>Guatemala</td><td>IOS App</td><td>273</td></tr>",
                            "<tr><td>Guatemala</td><td>Microsoft Edge</td><td>189</td></tr>",
                            "<tr><td>Guatemala</td><td>Safari</td><td>210</td></tr>",
                            "<tr><td>Guatemala</td><td>Mozilla Firefox</td><td>336</td></tr>",
                            "<tr><td>Guatemala</td><td>Others</td><td>324</td></tr>",
                            "<tr><td>Guatemala</td><td>Android App</td><td>471</td></tr>",
                            "<tr><td>Guatemala</td><td>Chrome</td><td>357</td></tr>",
                            "<tr><td>Guyana</td><td>Safari</td><td>168</td></tr>",
                            "<tr><td>Guyana</td><td>Others</td><td>272</td></tr>",
                            "<tr><td>Guyana</td><td>Microsoft Edge</td><td>153</td></tr>",
                            "<tr><td>Guyana</td><td>Chrome</td><td>305</td></tr>",
                            "<tr><td>Guyana</td><td>Android App</td><td>384</td></tr>",
                            "<tr><td>Guyana</td><td>IOS App</td><td>234</td></tr>",
                            "<tr><td>Guyana</td><td>Mozilla Firefox</td><td>283</td></tr>",
                            "<tr><td>Hungary</td><td>Others</td><td>288</td></tr>",
                            "<tr><td>Hungary</td><td>Android App</td><td>414</td></tr>",
                            "<tr><td>Hungary</td><td>Microsoft Edge</td><td>156</td></tr>",
                            "<tr><td>Hungary</td><td>Mozilla Firefox</td><td>282</td></tr>",
                            "<tr><td>Hungary</td><td>Safari</td><td>180</td></tr>",
                            "<tr><td>Hungary</td><td>IOS App</td><td>234</td></tr>",
                            "<tr><td>Hungary</td><td>Chrome</td><td>306</td></tr>",
                            "<tr><td>Iceland</td><td>Mozilla Firefox</td><td>348</td></tr>",
                            "<tr><td>Iceland</td><td>Microsoft Edge</td><td>204</td></tr>",
                            "<tr><td>Iceland</td><td>Others</td><td>363</td></tr>",
                            "<tr><td>Iceland</td><td>Chrome</td><td>357</td></tr>",
                            "<tr><td>Iceland</td><td>Safari</td><td>222</td></tr>",
                            "<tr><td>Iceland</td><td>IOS App</td><td>273</td></tr>",
                            "<tr><td>Iceland</td><td>Android App</td><td>525</td></tr>",
                            "<tr><td>Ireland</td><td>Safari</td><td>210</td></tr>",
                            "<tr><td>Ireland</td><td>IOS App</td><td>273</td></tr>",
                            "<tr><td>Ireland</td><td>Microsoft Edge</td><td>189</td></tr>",
                            "<tr><td>Ireland</td><td>Android App</td><td>471</td></tr>",
                            "<tr><td>Ireland</td><td>Chrome</td><td>357</td></tr>",
                            "<tr><td>Ireland</td><td>Mozilla Firefox</td><td>336</td></tr>",
                            "<tr><td>Ireland</td><td>Others</td><td>324</td></tr>",
                            "<tr><td>Israel</td><td>IOS App</td><td>273</td></tr>",
                            "<tr><td>Israel</td><td>Safari</td><td>219</td></tr>",
                            "<tr><td>Israel</td><td>Others</td><td>350</td></tr>",
                            "<tr><td>Israel</td><td>Chrome</td><td>358</td></tr>",
                            "<tr><td>Israel</td><td>Mozilla Firefox</td><td>336</td></tr>",
                            "<tr><td>Israel</td><td>Android App</td><td>506</td></tr>",
                            "<tr><td>Israel</td><td>Microsoft Edge</td><td>190</td></tr>",
                            "<tr><td>Italy</td><td>Microsoft Edge</td><td>198</td></tr>",
                            "<tr><td>Italy</td><td>Others</td><td>336</td></tr>",
                            "<tr><td>Italy</td><td>Android App</td><td>494</td></tr>",
                            "<tr><td>Italy</td><td>Chrome</td><td>360</td></tr>",
                            "<tr><td>Italy</td><td>IOS App</td><td>279</td></tr>",
                            "<tr><td>Italy</td><td>Safari</td><td>220</td></tr>",
                            "<tr><td>Italy</td><td>Mozilla Firefox</td><td>345</td></tr>",
                            "<tr><td>Jamaica</td><td>IOS App</td><td>153</td></tr>",
                            "<tr><td>Jamaica</td><td>Android App</td><td>276</td></tr>",
                            "<tr><td>Jamaica</td><td>Chrome</td><td>201</td></tr>",
                            "<tr><td>Jamaica</td><td>Mozilla Firefox</td><td>183</td></tr>",
                            "<tr><td>Jamaica</td><td>Safari</td><td>120</td></tr>",
                            "<tr><td>Jamaica</td><td>Microsoft Edge</td><td>99</td></tr>",
                            "<tr><td>Jamaica</td><td>Others</td><td>192</td></tr>",
                            "<tr><td>Japan</td><td>Chrome</td><td>360</td></tr>",
                            "<tr><td>Japan</td><td>Others</td><td>337</td></tr>",
                            "<tr><td>Japan</td><td>IOS App</td><td>288</td></tr>",
                            "<tr><td>Japan</td><td>Android App</td><td>483</td></tr>",
                            "<tr><td>Japan</td><td>Mozilla Firefox</td><td>357</td></tr>",
                            "<tr><td>Japan</td><td>Microsoft Edge</td><td>198</td></tr>",
                            "<tr><td>Japan</td><td>Safari</td><td>210</td></tr>",
                            "<tr><td>Kazakhstan</td><td>Mozilla Firefox</td><td>288</td></tr>",
                            "<tr><td>Kazakhstan</td><td>Microsoft Edge</td><td>162</td></tr>",
                            "<tr><td>Kazakhstan</td><td>Android App</td><td>414</td></tr>",
                            "<tr><td>Kazakhstan</td><td>IOS App</td><td>234</td></tr>",
                            "<tr><td>Kazakhstan</td><td>Others</td><td>288</td></tr>",
                            "<tr><td>Kazakhstan</td><td>Chrome</td><td>305</td></tr>",
                            "<tr><td>Kazakhstan</td><td>Safari</td><td>181</td></tr>",
                            "<tr><td>Kiribati</td><td>Android App</td><td>159</td></tr>",
                            "<tr><td>Kiribati</td><td>Others</td><td>117</td></tr>",
                            "<tr><td>Kiribati</td><td>IOS App</td><td>99</td></tr>",
                            "<tr><td>Kiribati</td><td>Microsoft Edge</td><td>72</td></tr>",
                            "<tr><td>Kiribati</td><td>Mozilla Firefox</td><td>123</td></tr>",
                            "<tr><td>Kiribati</td><td>Chrome</td><td>150</td></tr>",
                            "<tr><td>Kiribati</td><td>Safari</td><td>72</td></tr>",
                            "<tr><td>Kuwait</td><td>IOS App</td><td>231</td></tr>",
                            "<tr><td>Kuwait</td><td>Others</td><td>285</td></tr>",
                            "<tr><td>Kuwait</td><td>Safari</td><td>168</td></tr>",
                            "<tr><td>Kuwait</td><td>Chrome</td><td>306</td></tr>",
                            "<tr><td>Kuwait</td><td>Microsoft Edge</td><td>144</td></tr>",
                            "<tr><td>Kuwait</td><td>Android App</td><td>396</td></tr>",
                            "<tr><td>Kuwait</td><td>Mozilla Firefox</td><td>270</td></tr>",
                            "<tr><td>Kyrgyzstan</td><td>Android App</td><td>412</td></tr>",
                            "<tr><td>Kyrgyzstan</td><td>Others</td><td>289</td></tr>",
                            "<tr><td>Kyrgyzstan</td><td>Microsoft Edge</td><td>162</td></tr>",
                            "<tr><td>Kyrgyzstan</td><td>Chrome</td><td>305</td></tr>",
                            "<tr><td>Kyrgyzstan</td><td>Safari</td><td>181</td></tr>",
                            "<tr><td>Kyrgyzstan</td><td>Mozilla Firefox</td><td>288</td></tr>",
                            "<tr><td>Kyrgyzstan</td><td>IOS App</td><td>235</td></tr>",
                            "<tr><td>Latvia</td><td>Mozilla Firefox</td><td>238</td></tr>",
                            "<tr><td>Latvia</td><td>Microsoft Edge</td><td>135</td></tr>",
                            "<tr><td>Latvia</td><td>IOS App</td><td>177</td></tr>",
                            "<tr><td>Latvia</td><td>Others</td><td>223</td></tr>",
                            "<tr><td>Latvia</td><td>Android App</td><td>345</td></tr>",
                            "<tr><td>Latvia</td><td>Safari</td><td>150</td></tr>",
                            "<tr><td>Latvia</td><td>Chrome</td><td>243</td></tr>",
                            "<tr><td>Lithuania</td><td>Chrome</td><td>267</td></tr>",
                            "<tr><td>Lithuania</td><td>IOS App</td><td>195</td></tr>",
                            "<tr><td>Lithuania</td><td>Others</td><td>240</td></tr>",
                            "<tr><td>Lithuania</td><td>Safari</td><td>150</td></tr>",
                            "<tr><td>Lithuania</td><td>Microsoft Edge</td><td>135</td></tr>",
                            "<tr><td>Lithuania</td><td>Mozilla Firefox</td><td>240</td></tr>",
                            "<tr><td>Lithuania</td><td>Android App</td><td>345</td></tr>",
                            "<tr><td>Luxembourg</td><td>Chrome</td><td>357</td></tr>",
                            "<tr><td>Luxembourg</td><td>Microsoft Edge</td><td>192</td></tr>",
                            "<tr><td>Luxembourg</td><td>Mozilla Firefox</td><td>342</td></tr>",
                            "<tr><td>Luxembourg</td><td>IOS App</td><td>294</td></tr>",
                            "<tr><td>Luxembourg</td><td>Safari</td><td>210</td></tr>",
                            "<tr><td>Luxembourg</td><td>Others</td><td>354</td></tr>",
                            "<tr><td>Luxembourg</td><td>Android App</td><td>483</td></tr>",
                            "<tr><td>Macau</td><td>Android App</td><td>24</td></tr>",
                            "<tr><td>Macau</td><td>Others</td><td>9</td></tr>",
                            "<tr><td>Macau</td><td>Mozilla Firefox</td><td>12</td></tr>",
                            "<tr><td>Macau</td><td>Microsoft Edge</td><td>15</td></tr>",
                            "<tr><td>Macau</td><td>Safari</td><td>12</td></tr>",
                            "<tr><td>Maldives</td><td>Safari</td><td>78</td></tr>",
                            "<tr><td>Maldives</td><td>Android App</td><td>180</td></tr>",
                            "<tr><td>Maldives</td><td>Microsoft Edge</td><td>60</td></tr>",
                            "<tr><td>Maldives</td><td>Others</td><td>117</td></tr>",
                            "<tr><td>Maldives</td><td>Mozilla Firefox</td><td>99</td></tr>",
                            "<tr><td>Maldives</td><td>IOS App</td><td>81</td></tr>",
                            "<tr><td>Maldives</td><td>Chrome</td><td>105</td></tr>",
                            "<tr><td>Malta</td><td>Chrome</td><td>362</td></tr>",
                            "<tr><td>Malta</td><td>Others</td><td>338</td></tr>",
                            "<tr><td>Malta</td><td>Microsoft Edge</td><td>192</td></tr>",
                            "<tr><td>Malta</td><td>IOS App</td><td>288</td></tr>",
                            "<tr><td>Malta</td><td>Safari</td><td>210</td></tr>",
                            "<tr><td>Malta</td><td>Android App</td><td>481</td></tr>",
                            "<tr><td>Malta</td><td>Mozilla Firefox</td><td>361</td></tr>",
                            "<tr><td>Mauritius</td><td>Chrome</td><td>401</td></tr>",
                            "<tr><td>Mauritius</td><td>Others</td><td>354</td></tr>",
                            "<tr><td>Mauritius</td><td>IOS App</td><td>294</td></tr>",
                            "<tr><td>Mauritius</td><td>Safari</td><td>209</td></tr>",
                            "<tr><td>Mauritius</td><td>Android App</td><td>486</td></tr>",
                            "<tr><td>Mauritius</td><td>Mozilla Firefox</td><td>351</td></tr>",
                            "<tr><td>Mauritius</td><td>Microsoft Edge</td><td>197</td></tr>",
                            "<tr><td>Mexico</td><td>Chrome</td><td>357</td></tr>",
                            "<tr><td>Mexico</td><td>IOS App</td><td>273</td></tr>",
                            "<tr><td>Mexico</td><td>Microsoft Edge</td><td>198</td></tr>",
                            "<tr><td>Mexico</td><td>Mozilla Firefox</td><td>342</td></tr>",
                            "<tr><td>Mexico</td><td>Android App</td><td>503</td></tr>",
                            "<tr><td>Mexico</td><td>Others</td><td>337</td></tr>",
                            "<tr><td>Mexico</td><td>Safari</td><td>222</td></tr>",
                            "<tr><td>Mongolia</td><td>Safari</td><td>3</td></tr>",
                            "<tr><td>Mongolia</td><td>Android App</td><td>30</td></tr>",
                            "<tr><td>Mongolia</td><td>Others</td><td>27</td></tr>",
                            "<tr><td>Montenegro</td><td>Safari</td><td>75</td></tr>",
                            "<tr><td>Montenegro</td><td>Chrome</td><td>111</td></tr>",
                            "<tr><td>Montenegro</td><td>IOS App</td><td>96</td></tr>",
                            "<tr><td>Montenegro</td><td>Microsoft Edge</td><td>64</td></tr>",
                            "<tr><td>Montenegro</td><td>Others</td><td>96</td></tr>",
                            "<tr><td>Montenegro</td><td>Android App</td><td>155</td></tr>",
                            "<tr><td>Montenegro</td><td>Mozilla Firefox</td><td>123</td></tr>",
                            "<tr><td>Netherlands</td><td>Safari</td><td>210</td></tr>",
                            "<tr><td>Netherlands</td><td>Microsoft Edge</td><td>198</td></tr>",
                            "<tr><td>Netherlands</td><td>Android App</td><td>486</td></tr>",
                            "<tr><td>Netherlands</td><td>Others</td><td>354</td></tr>",
                            "<tr><td>Netherlands</td><td>IOS App</td><td>294</td></tr>",
                            "<tr><td>Netherlands</td><td>Chrome</td><td>399</td></tr>",
                            "<tr><td>Netherlands</td><td>Mozilla Firefox</td><td>351</td></tr>",
                            "<tr><td>New Zealand</td><td>IOS App</td><td>252</td></tr>",
                            "<tr><td>New Zealand</td><td>Others</td><td>318</td></tr>",
                            "<tr><td>New Zealand</td><td>Chrome</td><td>322</td></tr>",
                            "<tr><td>New Zealand</td><td>Safari</td><td>210</td></tr>",
                            "<tr><td>New Zealand</td><td>Android App</td><td>483</td></tr>",
                            "<tr><td>New Zealand</td><td>Mozilla Firefox</td><td>324</td></tr>",
                            "<tr><td>New Zealand</td><td>Microsoft Edge</td><td>179</td></tr>",
                            "<tr><td>Nicaragua</td><td>Safari</td><td>33</td></tr>",
                            "<tr><td>Nicaragua</td><td>Mozilla Firefox</td><td>66</td></tr>",
                            "<tr><td>Nicaragua</td><td>Microsoft Edge</td><td>45</td></tr>",
                            "<tr><td>Nicaragua</td><td>IOS App</td><td>60</td></tr>",
                            "<tr><td>Nicaragua</td><td>Chrome</td><td>87</td></tr>",
                            "<tr><td>Nicaragua</td><td>Others</td><td>66</td></tr>",
                            "<tr><td>Nicaragua</td><td>Android App</td><td>75</td></tr>",
                            "<tr><td>Norway</td><td>Mozilla Firefox</td><td>330</td></tr>",
                            "<tr><td>Norway</td><td>Microsoft Edge</td><td>180</td></tr>",
                            "<tr><td>Norway</td><td>IOS App</td><td>273</td></tr>",
                            "<tr><td>Norway</td><td>Chrome</td><td>359</td></tr>",
                            "<tr><td>Norway</td><td>Others</td><td>335</td></tr>",
                            "<tr><td>Norway</td><td>Android App</td><td>476</td></tr>",
                            "<tr><td>Norway</td><td>Safari</td><td>207</td></tr>",
                            "<tr><td>Oman</td><td>Others</td><td>30</td></tr>",
                            "<tr><td>Oman</td><td>IOS App</td><td>18</td></tr>",
                            "<tr><td>Oman</td><td>Safari</td><td>30</td></tr>",
                            "<tr><td>Oman</td><td>Android App</td><td>69</td></tr>",
                            "<tr><td>Oman</td><td>Microsoft Edge</td><td>18</td></tr>",
                            "<tr><td>Oman</td><td>Chrome</td><td>15</td></tr>",
                            "<tr><td>Oman</td><td>Mozilla Firefox</td><td>36</td></tr>",
                            "<tr><td>Panama</td><td>Microsoft Edge</td><td>153</td></tr>",
                            "<tr><td>Panama</td><td>Mozilla Firefox</td><td>259</td></tr>",
                            "<tr><td>Panama</td><td>Chrome</td><td>291</td></tr>",
                            "<tr><td>Panama</td><td>Safari</td><td>178</td></tr>",
                            "<tr><td>Panama</td><td>Others</td><td>288</td></tr>",
                            "<tr><td>Panama</td><td>Android App</td><td>412</td></tr>",
                            "<tr><td>Panama</td><td>IOS App</td><td>219</td></tr>",
                            "<tr><td>Paraguay</td><td>Safari</td><td>180</td></tr>",
                            "<tr><td>Paraguay</td><td>Others</td><td>288</td></tr>",
                            "<tr><td>Paraguay</td><td>Android App</td><td>417</td></tr>",
                            "<tr><td>Paraguay</td><td>Microsoft Edge</td><td>171</td></tr>",
                            "<tr><td>Paraguay</td><td>Mozilla Firefox</td><td>318</td></tr>",
                            "<tr><td>Paraguay</td><td>Chrome</td><td>321</td></tr>",
                            "<tr><td>Paraguay</td><td>IOS App</td><td>249</td></tr>",
                            "<tr><td>Philippines</td><td>Chrome</td><td>189</td></tr>",
                            "<tr><td>Philippines</td><td>IOS App</td><td>138</td></tr>",
                            "<tr><td>Philippines</td><td>Safari</td><td>102</td></tr>",
                            "<tr><td>Philippines</td><td>Microsoft Edge</td><td>99</td></tr>",
                            "<tr><td>Philippines</td><td>Android App</td><td>224</td></tr>",
                            "<tr><td>Philippines</td><td>Others</td><td>166</td></tr>",
                            "<tr><td>Philippines</td><td>Mozilla Firefox</td><td>161</td></tr>",
                            "<tr><td>Poland</td><td>Safari</td><td>168</td></tr>",
                            "<tr><td>Poland</td><td>Android App</td><td>396</td></tr>",
                            "<tr><td>Poland</td><td>Chrome</td><td>270</td></tr>",
                            "<tr><td>Poland</td><td>Others</td><td>267</td></tr>",
                            "<tr><td>Poland</td><td>Microsoft Edge</td><td>144</td></tr>",
                            "<tr><td>Poland</td><td>Mozilla Firefox</td><td>270</td></tr>",
                            "<tr><td>Poland</td><td>IOS App</td><td>213</td></tr>",
                            "<tr><td>Portugal</td><td>IOS App</td><td>251</td></tr>",
                            "<tr><td>Portugal</td><td>Mozilla Firefox</td><td>289</td></tr>",
                            "<tr><td>Portugal</td><td>Chrome</td><td>342</td></tr>",
                            "<tr><td>Portugal</td><td>Microsoft Edge</td><td>162</td></tr>",
                            "<tr><td>Portugal</td><td>Others</td><td>307</td></tr>",
                            "<tr><td>Portugal</td><td>Android App</td><td>414</td></tr>",
                            "<tr><td>Portugal</td><td>Safari</td><td>179</td></tr>",
                            "<tr><td>Puerto Rico</td><td>Safari</td><td>214</td></tr>",
                            "<tr><td>Puerto Rico</td><td>Chrome</td><td>357</td></tr>",
                            "<tr><td>Puerto Rico</td><td>IOS App</td><td>276</td></tr>",
                            "<tr><td>Puerto Rico</td><td>Mozilla Firefox</td><td>354</td></tr>",
                            "<tr><td>Puerto Rico</td><td>Others</td><td>336</td></tr>",
                            "<tr><td>Puerto Rico</td><td>Microsoft Edge</td><td>207</td></tr>",
                            "<tr><td>Puerto Rico</td><td>Android App</td><td>488</td></tr>",
                            "<tr><td>Qatar</td><td>Chrome</td><td>156</td></tr>",
                            "<tr><td>Qatar</td><td>IOS App</td><td>120</td></tr>",
                            "<tr><td>Qatar</td><td>Android App</td><td>267</td></tr>",
                            "<tr><td>Qatar</td><td>Safari</td><td>117</td></tr>",
                            "<tr><td>Qatar</td><td>Others</td><td>174</td></tr>",
                            "<tr><td>Qatar</td><td>Microsoft Edge</td><td>87</td></tr>",
                            "<tr><td>Qatar</td><td>Mozilla Firefox</td><td>147</td></tr>",
                            "<tr><td>Republic of Korea</td><td>Android App</td><td>483</td></tr>",
                            "<tr><td>Republic of Korea</td><td>Safari</td><td>209</td></tr>",
                            "<tr><td>Republic of Korea</td><td>IOS App</td><td>288</td></tr>",
                            "<tr><td>Republic of Korea</td><td>Microsoft Edge</td><td>192</td></tr>",
                            "<tr><td>Republic of Korea</td><td>Mozilla Firefox</td><td>360</td></tr>",
                            "<tr><td>Republic of Korea</td><td>Chrome</td><td>363</td></tr>",
                            "<tr><td>Republic of Korea</td><td>Others</td><td>337</td></tr>",
                            "<tr><td>Romania</td><td>Android App</td><td>422</td></tr>",
                            "<tr><td>Romania</td><td>Chrome</td><td>349</td></tr>",
                            "<tr><td>Romania</td><td>Others</td><td>306</td></tr>",
                            "<tr><td>Romania</td><td>Safari</td><td>183</td></tr>",
                            "<tr><td>Romania</td><td>IOS App</td><td>255</td></tr>",
                            "<tr><td>Romania</td><td>Microsoft Edge</td><td>180</td></tr>",
                            "<tr><td>Romania</td><td>Mozilla Firefox</td><td>309</td></tr>",
                            "<tr><td>Russia</td><td>Mozilla Firefox</td><td>1</td></tr>",
                            "<tr><td>Russia</td><td>Chrome</td><td>2</td></tr>",
                            "<tr><td>Russia</td><td>IOS App</td><td>1</td></tr>",
                            "<tr><td>Russia</td><td>Others</td><td>1</td></tr>",
                            "<tr><td>Russia</td><td>Android App</td><td>3</td></tr>",
                            "<tr><td>Russian Federation</td><td>Safari</td><td>189</td></tr>",
                            "<tr><td>Russian Federation</td><td>Android App</td><td>449</td></tr>",
                            "<tr><td>Russian Federation</td><td>Chrome</td><td>306</td></tr>",
                            "<tr><td>Russian Federation</td><td>Others</td><td>315</td></tr>",
                            "<tr><td>Russian Federation</td><td>Mozilla Firefox</td><td>289</td></tr>",
                            "<tr><td>Russian Federation</td><td>IOS App</td><td>234</td></tr>",
                            "<tr><td>Russian Federation</td><td>Microsoft Edge</td><td>162</td></tr>",
                            "<tr><td>Saint Kitts and Nevis</td><td>Others</td><td>21</td></tr>",
                            "<tr><td>Saint Kitts and Nevis</td><td>Chrome</td><td>51</td></tr>",
                            "<tr><td>Saint Kitts and Nevis</td><td>IOS App</td><td>39</td></tr>",
                            "<tr><td>Saint Kitts and Nevis</td><td>Microsoft Edge</td><td>18</td></tr>",
                            "<tr><td>Saint Kitts and Nevis</td><td>Safari</td><td>18</td></tr>",
                            "<tr><td>Saint Kitts and Nevis</td><td>Android App</td><td>27</td></tr>",
                            "<tr><td>Saint Kitts and Nevis</td><td>Mozilla Firefox</td><td>42</td></tr>",
                            "<tr><td>Saint Lucia</td><td>Safari</td><td>210</td></tr>",
                            "<tr><td>Saint Lucia</td><td>Android App</td><td>480</td></tr>",
                            "<tr><td>Saint Lucia</td><td>Chrome</td><td>306</td></tr>",
                            "<tr><td>Saint Lucia</td><td>IOS App</td><td>237</td></tr>",
                            "<tr><td>Saint Lucia</td><td>Others</td><td>318</td></tr>",
                            "<tr><td>Saint Lucia</td><td>Microsoft Edge</td><td>171</td></tr>",
                            "<tr><td>Saint Lucia</td><td>Mozilla Firefox</td><td>294</td></tr>",
                            "<tr><td>Saint Vincent and Grenadines</td><td>Android App</td><td>378</td></tr>",
                            "<tr><td>Saint Vincent and Grenadines</td><td>Mozilla Firefox</td><td>288</td></tr>",
                            "<tr><td>Saint Vincent and Grenadines</td><td>IOS App</td><td>231</td></tr>",
                            "<tr><td>Saint Vincent and Grenadines</td><td>Microsoft Edge</td><td>162</td></tr>",
                            "<tr><td>Saint Vincent and Grenadines</td><td>Chrome</td><td>306</td></tr>",
                            "<tr><td>Saint Vincent and Grenadines</td><td>Others</td><td>273</td></tr>",
                            "<tr><td>Saint Vincent and Grenadines</td><td>Safari</td><td>162</td></tr>",
                            "<tr><td>San Marino</td><td>Mozilla Firefox</td><td>30</td></tr>",
                            "<tr><td>San Marino</td><td>Others</td><td>33</td></tr>",
                            "<tr><td>San Marino</td><td>IOS App</td><td>36</td></tr>",
                            "<tr><td>San Marino</td><td>Microsoft Edge</td><td>9</td></tr>",
                            "<tr><td>San Marino</td><td>Safari</td><td>18</td></tr>",
                            "<tr><td>San Marino</td><td>Android App</td><td>39</td></tr>",
                            "<tr><td>San Marino</td><td>Chrome</td><td>51</td></tr>",
                            "<tr><td>Serbia</td><td>Android App</td><td>281</td></tr>",
                            "<tr><td>Serbia</td><td>Safari</td><td>123</td></tr>",
                            "<tr><td>Serbia</td><td>Others</td><td>192</td></tr>",
                            "<tr><td>Serbia</td><td>Mozilla Firefox</td><td>210</td></tr>",
                            "<tr><td>Serbia</td><td>Microsoft Edge</td><td>126</td></tr>",
                            "<tr><td>Serbia</td><td>Chrome</td><td>204</td></tr>",
                            "<tr><td>Serbia</td><td>IOS App</td><td>160</td></tr>",
                            "<tr><td>Seychelles</td><td>Android App</td><td>300</td></tr>",
                            "<tr><td>Seychelles</td><td>Safari</td><td>129</td></tr>",
                            "<tr><td>Seychelles</td><td>Chrome</td><td>204</td></tr>",
                            "<tr><td>Seychelles</td><td>IOS App</td><td>156</td></tr>",
                            "<tr><td>Seychelles</td><td>Microsoft Edge</td><td>108</td></tr>",
                            "<tr><td>Seychelles</td><td>Mozilla Firefox</td><td>192</td></tr>",
                            "<tr><td>Seychelles</td><td>Others</td><td>207</td></tr>",
                            "<tr><td>Singapore</td><td>Safari</td><td>219</td></tr>",
                            "<tr><td>Singapore</td><td>Chrome</td><td>356</td></tr>",
                            "<tr><td>Singapore</td><td>Mozilla Firefox</td><td>336</td></tr>",
                            "<tr><td>Singapore</td><td>Microsoft Edge</td><td>189</td></tr>",
                            "<tr><td>Singapore</td><td>IOS App</td><td>274</td></tr>",
                            "<tr><td>Singapore</td><td>Android App</td><td>507</td></tr>",
                            "<tr><td>Singapore</td><td>Others</td><td>351</td></tr>",
                            "<tr><td>Slovakia</td><td>Chrome</td><td>254</td></tr>",
                            "<tr><td>Slovakia</td><td>IOS App</td><td>198</td></tr>",
                            "<tr><td>Slovakia</td><td>Android App</td><td>358</td></tr>",
                            "<tr><td>Slovakia</td><td>Others</td><td>240</td></tr>",
                            "<tr><td>Slovakia</td><td>Microsoft Edge</td><td>135</td></tr>",
                            "<tr><td>Slovakia</td><td>Safari</td><td>159</td></tr>",
                            "<tr><td>Slovakia</td><td>Mozilla Firefox</td><td>240</td></tr>",
                            "<tr><td>Slovenia</td><td>Microsoft Edge</td><td>135</td></tr>",
                            "<tr><td>Slovenia</td><td>Safari</td><td>132</td></tr>",
                            "<tr><td>Slovenia</td><td>Android App</td><td>321</td></tr>",
                            "<tr><td>Slovenia</td><td>Others</td><td>238</td></tr>",
                            "<tr><td>Slovenia</td><td>IOS App</td><td>191</td></tr>",
                            "<tr><td>Slovenia</td><td>Chrome</td><td>254</td></tr>",
                            "<tr><td>Slovenia</td><td>Mozilla Firefox</td><td>240</td></tr>",
                            "<tr><td>South Africa</td><td>Android App</td><td>303</td></tr>",
                            "<tr><td>South Africa</td><td>Safari</td><td>138</td></tr>",
                            "<tr><td>South Africa</td><td>Others</td><td>214</td></tr>",
                            "<tr><td>South Africa</td><td>Mozilla Firefox</td><td>221</td></tr>",
                            "<tr><td>South Africa</td><td>Chrome</td><td>255</td></tr>",
                            "<tr><td>South Africa</td><td>Microsoft Edge</td><td>117</td></tr>",
                            "<tr><td>South Africa</td><td>IOS App</td><td>192</td></tr>",
                            "<tr><td>Spain</td><td>Safari</td><td>213</td></tr>",
                            "<tr><td>Spain</td><td>Chrome</td><td>357</td></tr>",
                            "<tr><td>Spain</td><td>Android App</td><td>490</td></tr>",
                            "<tr><td>Spain</td><td>Microsoft Edge</td><td>207</td></tr>",
                            "<tr><td>Spain</td><td>Mozilla Firefox</td><td>354</td></tr>",
                            "<tr><td>Spain</td><td>Others</td><td>336</td></tr>",
                            "<tr><td>Spain</td><td>IOS App</td><td>275</td></tr>",
                            "<tr><td>Sri Lanka</td><td>Android App</td><td>198</td></tr>",
                            "<tr><td>Sri Lanka</td><td>IOS App</td><td>96</td></tr>",
                            "<tr><td>Sri Lanka</td><td>Chrome</td><td>105</td></tr>",
                            "<tr><td>Sri Lanka</td><td>Safari</td><td>87</td></tr>",
                            "<tr><td>Sri Lanka</td><td>Microsoft Edge</td><td>63</td></tr>",
                            "<tr><td>Sri Lanka</td><td>Others</td><td>126</td></tr>",
                            "<tr><td>Sri Lanka</td><td>Mozilla Firefox</td><td>117</td></tr>",
                            "<tr><td>Suriname</td><td>IOS App</td><td>255</td></tr>",
                            "<tr><td>Suriname</td><td>Microsoft Edge</td><td>180</td></tr>",
                            "<tr><td>Suriname</td><td>Safari</td><td>183</td></tr>",
                            "<tr><td>Suriname</td><td>Mozilla Firefox</td><td>315</td></tr>",
                            "<tr><td>Suriname</td><td>Android App</td><td>423</td></tr>",
                            "<tr><td>Suriname</td><td>Others</td><td>306</td></tr>",
                            "<tr><td>Suriname</td><td>Chrome</td><td>354</td></tr>",
                            "<tr><td>Sweden</td><td>Others</td><td>336</td></tr>",
                            "<tr><td>Sweden</td><td>IOS App</td><td>273</td></tr>",
                            "<tr><td>Sweden</td><td>Chrome</td><td>357</td></tr>",
                            "<tr><td>Sweden</td><td>Android App</td><td>478</td></tr>",
                            "<tr><td>Sweden</td><td>Mozilla Firefox</td><td>324</td></tr>",
                            "<tr><td>Sweden</td><td>Safari</td><td>206</td></tr>",
                            "<tr><td>Sweden</td><td>Microsoft Edge</td><td>174</td></tr>",
                            "<tr><td>Switzerland</td><td>IOS App</td><td>174</td></tr>",
                            "<tr><td>Switzerland</td><td>Android App</td><td>344</td></tr>",
                            "<tr><td>Switzerland</td><td>Chrome</td><td>255</td></tr>",
                            "<tr><td>Switzerland</td><td>Others</td><td>222</td></tr>",
                            "<tr><td>Switzerland</td><td>Microsoft Edge</td><td>132</td></tr>",
                            "<tr><td>Switzerland</td><td>Safari</td><td>150</td></tr>",
                            "<tr><td>Switzerland</td><td>Mozilla Firefox</td><td>235</td></tr>",
                            "<tr><td>Thailand</td><td>Microsoft Edge</td><td>180</td></tr>",
                            "<tr><td>Thailand</td><td>Chrome</td><td>307</td></tr>",
                            "<tr><td>Thailand</td><td>Safari</td><td>192</td></tr>",
                            "<tr><td>Thailand</td><td>IOS App</td><td>255</td></tr>",
                            "<tr><td>Thailand</td><td>Mozilla Firefox</td><td>305</td></tr>",
                            "<tr><td>Thailand</td><td>Android App</td><td>444</td></tr>",
                            "<tr><td>Thailand</td><td>Others</td><td>321</td></tr>",
                            "<tr><td>Trinidad and Tobago</td><td>IOS App</td><td>237</td></tr>",
                            "<tr><td>Trinidad and Tobago</td><td>Microsoft Edge</td><td>162</td></tr>",
                            "<tr><td>Trinidad and Tobago</td><td>Others</td><td>303</td></tr>",
                            "<tr><td>Trinidad and Tobago</td><td>Mozilla Firefox</td><td>288</td></tr>",
                            "<tr><td>Trinidad and Tobago</td><td>Android App</td><td>450</td></tr>",
                            "<tr><td>Trinidad and Tobago</td><td>Safari</td><td>198</td></tr>",
                            "<tr><td>Trinidad and Tobago</td><td>Chrome</td><td>306</td></tr>",
                            "<tr><td>Turkey</td><td>Safari</td><td>33</td></tr>",
                            "<tr><td>Turkey</td><td>Chrome</td><td>102</td></tr>",
                            "<tr><td>Turkey</td><td>Mozilla Firefox</td><td>96</td></tr>",
                            "<tr><td>Turkey</td><td>Android App</td><td>78</td></tr>",
                            "<tr><td>Turkey</td><td>Microsoft Edge</td><td>54</td></tr>",
                            "<tr><td>Turkey</td><td>Others</td><td>66</td></tr>",
                            "<tr><td>Turkey</td><td>IOS App</td><td>75</td></tr>",
                            "<tr><td>Turkmenistan</td><td>Safari</td><td>207</td></tr>",
                            "<tr><td>Turkmenistan</td><td>Android App</td><td>479</td></tr>",
                            "<tr><td>Turkmenistan</td><td>IOS App</td><td>252</td></tr>",
                            "<tr><td>Turkmenistan</td><td>Chrome</td><td>345</td></tr>",
                            "<tr><td>Turkmenistan</td><td>Others</td><td>316</td></tr>",
                            "<tr><td>Turkmenistan</td><td>Mozilla Firefox</td><td>318</td></tr>",
                            "<tr><td>Turkmenistan</td><td>Microsoft Edge</td><td>171</td></tr>",
                            "<tr><td>Ukraine</td><td>Others</td><td>321</td></tr>",
                            "<tr><td>Ukraine</td><td>Android App</td><td>444</td></tr>",
                            "<tr><td>Ukraine</td><td>Chrome</td><td>319</td></tr>",
                            "<tr><td>Ukraine</td><td>IOS App</td><td>255</td></tr>",
                            "<tr><td>Ukraine</td><td>Safari</td><td>192</td></tr>",
                            "<tr><td>Ukraine</td><td>Microsoft Edge</td><td>180</td></tr>",
                            "<tr><td>Ukraine</td><td>Mozilla Firefox</td><td>305</td></tr>",
                            "<tr><td>United Arab Emirates</td><td>Mozilla Firefox</td><td>69</td></tr>",
                            "<tr><td>United Arab Emirates</td><td>Others</td><td>63</td></tr>",
                            "<tr><td>United Arab Emirates</td><td>Safari</td><td>48</td></tr>",
                            "<tr><td>United Arab Emirates</td><td>Android App</td><td>105</td></tr>",
                            "<tr><td>United Arab Emirates</td><td>Microsoft Edge</td><td>36</td></tr>",
                            "<tr><td>United Arab Emirates</td><td>IOS App</td><td>57</td></tr>",
                            "<tr><td>United Arab Emirates</td><td>Chrome</td><td>54</td></tr>",
                            "<tr><td>United Kingdom</td><td>Chrome</td><td>393</td></tr>",
                            "<tr><td>United Kingdom</td><td>IOS App</td><td>273</td></tr>",
                            "<tr><td>United Kingdom</td><td>Others</td><td>336</td></tr>",
                            "<tr><td>United Kingdom</td><td>Safari</td><td>210</td></tr>",
                            "<tr><td>United Kingdom</td><td>Mozilla Firefox</td><td>345</td></tr>",
                            "<tr><td>United Kingdom</td><td>Microsoft Edge</td><td>189</td></tr>",
                            "<tr><td>United Kingdom</td><td>Android App</td><td>486</td></tr>",
                            "<tr><td>United States</td><td>Mozilla Firefox</td><td>336</td></tr>",
                            "<tr><td>United States</td><td>Microsoft Edge</td><td>189</td></tr>",
                            "<tr><td>United States</td><td>Others</td><td>354</td></tr>",
                            "<tr><td>United States</td><td>Safari</td><td>210</td></tr>",
                            "<tr><td>United States</td><td>IOS App</td><td>290</td></tr>",
                            "<tr><td>United States</td><td>Android App</td><td>483</td></tr>",
                            "<tr><td>United States</td><td>Chrome</td><td>369</td></tr>",
                            "<tr><td>Uruguay</td><td>Safari</td><td>201</td></tr>",
                            "<tr><td>Uruguay</td><td>Microsoft Edge</td><td>180</td></tr>",
                            "<tr><td>Uruguay</td><td>Mozilla Firefox</td><td>306</td></tr>",
                            "<tr><td>Uruguay</td><td>IOS App</td><td>237</td></tr>",
                            "<tr><td>Uruguay</td><td>Chrome</td><td>306</td></tr>",
                            "<tr><td>Uruguay</td><td>Others</td><td>318</td></tr>",
                            "<tr><td>Uruguay</td><td>Android App</td><td>468</td></tr>",
                            "<tr><td>Uzbekistan</td><td>Chrome</td><td>255</td></tr>",
                            "<tr><td>Uzbekistan</td><td>Android App</td><td>357</td></tr>",
                            "<tr><td>Uzbekistan</td><td>Others</td><td>240</td></tr>",
                            "<tr><td>Uzbekistan</td><td>Microsoft Edge</td><td>135</td></tr>",
                            "<tr><td>Uzbekistan</td><td>IOS App</td><td>198</td></tr>",
                            "<tr><td>Uzbekistan</td><td>Mozilla Firefox</td><td>240</td></tr>",
                            "<tr><td>Uzbekistan</td><td>Safari</td><td>159</td></tr>",
                            "</table>"
                        ]
                    }
                }
            ],
            "execution_count": 32
        }
    ]
}