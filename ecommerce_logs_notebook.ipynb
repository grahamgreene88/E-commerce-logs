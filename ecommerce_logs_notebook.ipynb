{
    "metadata": {
        "kernelspec": {
            "name": "SQL",
            "display_name": "SQL",
            "language": "sql"
        },
        "language_info": {
            "name": "sql",
            "version": ""
        }
    },
    "nbformat_minor": 2,
    "nbformat": 4,
    "cells": [
        {
            "cell_type": "markdown",
            "source": [
                "# E-Commerce Logs Analysis"
            ],
            "metadata": {
                "azdata_cell_guid": "cce7de79-78e6-448d-b88a-861d37ad7a44"
            },
            "attachments": {}
        },
        {
            "cell_type": "markdown",
            "source": [
                "## Project Objective\n",
                "\n",
                "The objective of this project is to analyze the website logs from an e-commerce store to obtain useful insight into customer behaviour.\n",
                "\n",
                "## Data Source\n",
                "\n",
                "The dataset was obtained here: https://www.kaggle.com/datasets/kzmontage/e-commerce-website-logs and the data has an Open Database license: https://opendatacommons.org/licenses/odbl/1-0/"
            ],
            "metadata": {
                "azdata_cell_guid": "c2e6f405-dfb4-4d1c-a8fe-7148fd59953a"
            },
            "attachments": {}
        },
        {
            "cell_type": "code",
            "source": [
                "-- Specifying database\n",
                "USE EcommerceLogsDb"
            ],
            "metadata": {
                "azdata_cell_guid": "855c96a7-f115-471a-ad30-69427f6a634f",
                "language": "sql"
            },
            "outputs": [
                {
                    "output_type": "display_data",
                    "data": {
                        "text/html": "Commands completed successfully."
                    },
                    "metadata": {}
                },
                {
                    "output_type": "display_data",
                    "data": {
                        "text/html": "Total execution time: 00:00:00.022"
                    },
                    "metadata": {}
                }
            ],
            "execution_count": 1
        },
        {
            "cell_type": "code",
            "source": [
                "-- preview of table\n",
                "SELECT TOP 3*\n",
                "FROM logs;"
            ],
            "metadata": {
                "language": "sql",
                "azdata_cell_guid": "12533ff2-3c33-48d6-a287-410d9c91a3b9"
            },
            "outputs": [
                {
                    "output_type": "display_data",
                    "data": {
                        "text/html": "(3 rows affected)"
                    },
                    "metadata": {}
                },
                {
                    "output_type": "display_data",
                    "data": {
                        "text/html": "Total execution time: 00:00:00.388"
                    },
                    "metadata": {}
                },
                {
                    "output_type": "execute_result",
                    "metadata": {},
                    "execution_count": 2,
                    "data": {
                        "application/vnd.dataresource+json": {
                            "schema": {
                                "fields": [
                                    {
                                        "name": "access_date"
                                    },
                                    {
                                        "name": "duration_seconds"
                                    },
                                    {
                                        "name": "Proto"
                                    },
                                    {
                                        "name": "IP"
                                    },
                                    {
                                        "name": "Src_IP_type"
                                    },
                                    {
                                        "name": "Src_Pt"
                                    },
                                    {
                                        "name": "Bytes"
                                    },
                                    {
                                        "name": "Accessed_From"
                                    },
                                    {
                                        "name": "country"
                                    },
                                    {
                                        "name": "membership"
                                    },
                                    {
                                        "name": "Languages"
                                    },
                                    {
                                        "name": "Sales"
                                    },
                                    {
                                        "name": "Returned"
                                    },
                                    {
                                        "name": "Returned_Amount"
                                    }
                                ]
                            },
                            "data": [
                                {
                                    "access_date": "2016-11-01 09:58:00.0000000",
                                    "duration_seconds": "2533",
                                    "Proto": "TCP  ",
                                    "IP": "1.10.195.126",
                                    "Src_IP_type": "EXT_SERVER",
                                    "Src_Pt": "8082",
                                    "Bytes": "20100",
                                    "Accessed_From": "Chrome",
                                    "country": "Albania",
                                    "membership": "Normal",
                                    "Languages": "Albanian",
                                    "Sales": "261.96",
                                    "Returned": "No",
                                    "Returned_Amount": "0"
                                },
                                {
                                    "access_date": "2016-11-01 09:59:00.0000000",
                                    "duration_seconds": "4034",
                                    "Proto": "TCP  ",
                                    "IP": "1.1.217.211",
                                    "Src_IP_type": "OPENSTACK_NET",
                                    "Src_Pt": "56978",
                                    "Bytes": "20500",
                                    "Accessed_From": "Mozilla Firefox",
                                    "country": "Albania",
                                    "membership": "Normal",
                                    "Languages": "Albanian",
                                    "Sales": "731.94",
                                    "Returned": "No",
                                    "Returned_Amount": "0"
                                },
                                {
                                    "access_date": "2016-11-01 09:59:00.0000000",
                                    "duration_seconds": "1525",
                                    "Proto": "TCP  ",
                                    "IP": "1.115.198.107",
                                    "Src_IP_type": "EXT_SERVER",
                                    "Src_Pt": "8082",
                                    "Bytes": "90100",
                                    "Accessed_From": "Mozilla Firefox",
                                    "country": "Albania",
                                    "membership": "Normal",
                                    "Languages": "Albanian",
                                    "Sales": "14.62",
                                    "Returned": "No",
                                    "Returned_Amount": "0"
                                }
                            ]
                        },
                        "text/html": [
                            "<table>",
                            "<tr><th>access_date</th><th>duration_seconds</th><th>Proto</th><th>IP</th><th>Src_IP_type</th><th>Src_Pt</th><th>Bytes</th><th>Accessed_From</th><th>country</th><th>membership</th><th>Languages</th><th>Sales</th><th>Returned</th><th>Returned_Amount</th></tr>",
                            "<tr><td>2016-11-01 09:58:00.0000000</td><td>2533</td><td>TCP  </td><td>1.10.195.126</td><td>EXT_SERVER</td><td>8082</td><td>20100</td><td>Chrome</td><td>Albania</td><td>Normal</td><td>Albanian</td><td>261.96</td><td>No</td><td>0</td></tr>",
                            "<tr><td>2016-11-01 09:59:00.0000000</td><td>4034</td><td>TCP  </td><td>1.1.217.211</td><td>OPENSTACK_NET</td><td>56978</td><td>20500</td><td>Mozilla Firefox</td><td>Albania</td><td>Normal</td><td>Albanian</td><td>731.94</td><td>No</td><td>0</td></tr>",
                            "<tr><td>2016-11-01 09:59:00.0000000</td><td>1525</td><td>TCP  </td><td>1.115.198.107</td><td>EXT_SERVER</td><td>8082</td><td>90100</td><td>Mozilla Firefox</td><td>Albania</td><td>Normal</td><td>Albanian</td><td>14.62</td><td>No</td><td>0</td></tr>",
                            "</table>"
                        ]
                    }
                }
            ],
            "execution_count": 2
        },
        {
            "cell_type": "code",
            "source": [
                "-- Which country had the most sales (transactions) and sales ($ amount)?\n",
                "-- showing country rankings for both metrics using window functions\n",
                "SELECT country, \n",
                "    COUNT(*) AS sales_transaction, \n",
                "    DENSE_RANK() OVER(ORDER BY COUNT(*) DESC) AS sales_transaction_rank, \n",
                "    SUM(Sales) AS sales_$, \n",
                "    DENSE_RANK() OVER(ORDER BY SUM(Sales) DESC) AS sales_$_rank\n",
                "FROM logs\n",
                "GROUP BY country\n",
                "ORDER BY sales_$ DESC;"
            ],
            "metadata": {
                "language": "sql",
                "azdata_cell_guid": "619e9d8e-003e-48b9-9125-4614f279352d",
                "tags": []
            },
            "outputs": [
                {
                    "output_type": "display_data",
                    "data": {
                        "text/html": "(102 rows affected)"
                    },
                    "metadata": {}
                },
                {
                    "output_type": "display_data",
                    "data": {
                        "text/html": "Total execution time: 00:00:00.319"
                    },
                    "metadata": {}
                },
                {
                    "output_type": "execute_result",
                    "metadata": {},
                    "execution_count": 3,
                    "data": {
                        "application/vnd.dataresource+json": {
                            "schema": {
                                "fields": [
                                    {
                                        "name": "country"
                                    },
                                    {
                                        "name": "sales_transaction"
                                    },
                                    {
                                        "name": "sales_transaction_rank"
                                    },
                                    {
                                        "name": "sales_$"
                                    },
                                    {
                                        "name": "sales_$_rank"
                                    }
                                ]
                            },
                            "data": [
                                {
                                    "country": "Austria",
                                    "sales_transaction": "2674",
                                    "sales_transaction_rank": "1",
                                    "sales_$": "1296463.3414999906",
                                    "sales_$_rank": "1"
                                },
                                {
                                    "country": "Belgium",
                                    "sales_transaction": "2604",
                                    "sales_transaction_rank": "2",
                                    "sales_$": "1154321.3705999977",
                                    "sales_$_rank": "2"
                                },
                                {
                                    "country": "Argentina",
                                    "sales_transaction": "2603",
                                    "sales_transaction_rank": "3",
                                    "sales_$": "1140238.6927999987",
                                    "sales_$_rank": "3"
                                },
                                {
                                    "country": "Australia",
                                    "sales_transaction": "2520",
                                    "sales_transaction_rank": "4",
                                    "sales_$": "1139576.1649999968",
                                    "sales_$_rank": "4"
                                },
                                {
                                    "country": "United States",
                                    "sales_transaction": "2231",
                                    "sales_transaction_rank": "12",
                                    "sales_$": "1132496.3800000001",
                                    "sales_$_rank": "5"
                                },
                                {
                                    "country": "Brazil",
                                    "sales_transaction": "2604",
                                    "sales_transaction_rank": "2",
                                    "sales_$": "1129919.2000999975",
                                    "sales_$_rank": "6"
                                },
                                {
                                    "country": "Norway",
                                    "sales_transaction": "2160",
                                    "sales_transaction_rank": "13",
                                    "sales_$": "1129793.889999999",
                                    "sales_$_rank": "7"
                                },
                                {
                                    "country": "Netherlands",
                                    "sales_transaction": "2292",
                                    "sales_transaction_rank": "8",
                                    "sales_$": "1106623.810000002",
                                    "sales_$_rank": "8"
                                },
                                {
                                    "country": "Spain",
                                    "sales_transaction": "2232",
                                    "sales_transaction_rank": "11",
                                    "sales_$": "1102578.460000004",
                                    "sales_$_rank": "9"
                                },
                                {
                                    "country": "Puerto Rico",
                                    "sales_transaction": "2232",
                                    "sales_transaction_rank": "11",
                                    "sales_$": "1089656.3800000006",
                                    "sales_$_rank": "10"
                                },
                                {
                                    "country": "Canada",
                                    "sales_transaction": "2436",
                                    "sales_transaction_rank": "6",
                                    "sales_$": "1078310.4730000005",
                                    "sales_$_rank": "11"
                                },
                                {
                                    "country": "United Kingdom",
                                    "sales_transaction": "2232",
                                    "sales_transaction_rank": "11",
                                    "sales_$": "1069649.1000000013",
                                    "sales_$_rank": "12"
                                },
                                {
                                    "country": "Bulgaria",
                                    "sales_transaction": "2520",
                                    "sales_transaction_rank": "4",
                                    "sales_$": "1068255.9588000018",
                                    "sales_$_rank": "13"
                                },
                                {
                                    "country": "Republic of Korea",
                                    "sales_transaction": "2232",
                                    "sales_transaction_rank": "11",
                                    "sales_$": "1063598.8800000008",
                                    "sales_$_rank": "14"
                                },
                                {
                                    "country": "Singapore",
                                    "sales_transaction": "2232",
                                    "sales_transaction_rank": "11",
                                    "sales_$": "1062442.5199999993",
                                    "sales_$_rank": "15"
                                },
                                {
                                    "country": "Suriname",
                                    "sales_transaction": "2016",
                                    "sales_transaction_rank": "18",
                                    "sales_$": "1037655.410000003",
                                    "sales_$_rank": "16"
                                },
                                {
                                    "country": "Mexico",
                                    "sales_transaction": "2232",
                                    "sales_transaction_rank": "11",
                                    "sales_$": "1034845.1700000012",
                                    "sales_$_rank": "17"
                                },
                                {
                                    "country": "Turkmenistan",
                                    "sales_transaction": "2088",
                                    "sales_transaction_rank": "16",
                                    "sales_$": "1032696.5800000039",
                                    "sales_$_rank": "18"
                                },
                                {
                                    "country": "Belize",
                                    "sales_transaction": "2352",
                                    "sales_transaction_rank": "7",
                                    "sales_$": "1009231.1078000019",
                                    "sales_$_rank": "19"
                                },
                                {
                                    "country": "Sweden",
                                    "sales_transaction": "2148",
                                    "sales_transaction_rank": "14",
                                    "sales_$": "1006956.3000000026",
                                    "sales_$_rank": "20"
                                },
                                {
                                    "country": "Chile",
                                    "sales_transaction": "2604",
                                    "sales_transaction_rank": "2",
                                    "sales_$": "998301.8032000033",
                                    "sales_$_rank": "21"
                                },
                                {
                                    "country": "Russian Federation",
                                    "sales_transaction": "1944",
                                    "sales_transaction_rank": "20",
                                    "sales_$": "989007.5500000018",
                                    "sales_$_rank": "22"
                                },
                                {
                                    "country": "Thailand",
                                    "sales_transaction": "2004",
                                    "sales_transaction_rank": "19",
                                    "sales_$": "984841.0600000018",
                                    "sales_$_rank": "23"
                                },
                                {
                                    "country": "Portugal",
                                    "sales_transaction": "1944",
                                    "sales_transaction_rank": "20",
                                    "sales_$": "955279.5800000016",
                                    "sales_$_rank": "24"
                                },
                                {
                                    "country": "Saint Lucia",
                                    "sales_transaction": "2016",
                                    "sales_transaction_rank": "18",
                                    "sales_$": "953605.8500000038",
                                    "sales_$_rank": "25"
                                },
                                {
                                    "country": "Mauritius",
                                    "sales_transaction": "2292",
                                    "sales_transaction_rank": "8",
                                    "sales_$": "951543.6300000029",
                                    "sales_$_rank": "26"
                                },
                                {
                                    "country": "Trinidad and Tobago",
                                    "sales_transaction": "1944",
                                    "sales_transaction_rank": "20",
                                    "sales_$": "940220.2900000017",
                                    "sales_$_rank": "27"
                                },
                                {
                                    "country": "Antigua and Barbuda",
                                    "sales_transaction": "2268",
                                    "sales_transaction_rank": "9",
                                    "sales_$": "937031.6729000005",
                                    "sales_$_rank": "28"
                                },
                                {
                                    "country": "Romania",
                                    "sales_transaction": "2004",
                                    "sales_transaction_rank": "19",
                                    "sales_$": "933676.0400000019",
                                    "sales_$_rank": "29"
                                },
                                {
                                    "country": "Armenia",
                                    "sales_transaction": "2086",
                                    "sales_transaction_rank": "17",
                                    "sales_$": "918236.707500002",
                                    "sales_$_rank": "30"
                                },
                                {
                                    "country": "Barbados",
                                    "sales_transaction": "2099",
                                    "sales_transaction_rank": "15",
                                    "sales_$": "914011.7824000027",
                                    "sales_$_rank": "31"
                                },
                                {
                                    "country": "Uruguay",
                                    "sales_transaction": "2016",
                                    "sales_transaction_rank": "18",
                                    "sales_$": "898636.5600000003",
                                    "sales_$_rank": "32"
                                },
                                {
                                    "country": "New Zealand",
                                    "sales_transaction": "2088",
                                    "sales_transaction_rank": "16",
                                    "sales_$": "897640.3300000007",
                                    "sales_$_rank": "33"
                                },
                                {
                                    "country": "Paraguay",
                                    "sales_transaction": "1944",
                                    "sales_transaction_rank": "20",
                                    "sales_$": "887757.4500000015",
                                    "sales_$_rank": "34"
                                },
                                {
                                    "country": "Luxembourg",
                                    "sales_transaction": "2232",
                                    "sales_transaction_rank": "11",
                                    "sales_$": "869798.3930000014",
                                    "sales_$_rank": "35"
                                },
                                {
                                    "country": "Ukraine",
                                    "sales_transaction": "2016",
                                    "sales_transaction_rank": "18",
                                    "sales_$": "860557.6200000015",
                                    "sales_$_rank": "36"
                                },
                                {
                                    "country": "Bahamas",
                                    "sales_transaction": "1932",
                                    "sales_transaction_rank": "21",
                                    "sales_$": "858137.5198000026",
                                    "sales_$_rank": "37"
                                },
                                {
                                    "country": "Malta",
                                    "sales_transaction": "2232",
                                    "sales_transaction_rank": "11",
                                    "sales_$": "849198.6836000021",
                                    "sales_$_rank": "38"
                                },
                                {
                                    "country": "Panama",
                                    "sales_transaction": "1800",
                                    "sales_transaction_rank": "25",
                                    "sales_$": "827407.4100000006",
                                    "sales_$_rank": "39"
                                },
                                {
                                    "country": "Poland",
                                    "sales_transaction": "1728",
                                    "sales_transaction_rank": "29",
                                    "sales_$": "823874.8300000004",
                                    "sales_$_rank": "40"
                                },
                                {
                                    "country": "Colombia",
                                    "sales_transaction": "2514",
                                    "sales_transaction_rank": "5",
                                    "sales_$": "823458.3767000027",
                                    "sales_$_rank": "41"
                                },
                                {
                                    "country": "Albania",
                                    "sales_transaction": "1848",
                                    "sales_transaction_rank": "24",
                                    "sales_$": "816714.1692000002",
                                    "sales_$_rank": "42"
                                },
                                {
                                    "country": "Guatemala",
                                    "sales_transaction": "2160",
                                    "sales_transaction_rank": "13",
                                    "sales_$": "811037.0116000031",
                                    "sales_$_rank": "43"
                                },
                                {
                                    "country": "Bahrain",
                                    "sales_transaction": "1764",
                                    "sales_transaction_rank": "27",
                                    "sales_$": "800315.182500001",
                                    "sales_$_rank": "44"
                                },
                                {
                                    "country": "Belarus",
                                    "sales_transaction": "1763",
                                    "sales_transaction_rank": "28",
                                    "sales_$": "793122.7560000019",
                                    "sales_$_rank": "45"
                                },
                                {
                                    "country": "Saint Vincent and Grenadines",
                                    "sales_transaction": "1800",
                                    "sales_transaction_rank": "25",
                                    "sales_$": "782619.9400000017",
                                    "sales_$_rank": "46"
                                },
                                {
                                    "country": "Greece",
                                    "sales_transaction": "2232",
                                    "sales_transaction_rank": "11",
                                    "sales_$": "781112.8694000007",
                                    "sales_$_rank": "47"
                                },
                                {
                                    "country": "Slovenia",
                                    "sales_transaction": "1511",
                                    "sales_transaction_rank": "33",
                                    "sales_$": "779910.2300000001",
                                    "sales_$_rank": "48"
                                },
                                {
                                    "country": "Slovakia",
                                    "sales_transaction": "1584",
                                    "sales_transaction_rank": "30",
                                    "sales_$": "774529.1199999993",
                                    "sales_$_rank": "49"
                                },
                                {
                                    "country": "Switzerland",
                                    "sales_transaction": "1512",
                                    "sales_transaction_rank": "32",
                                    "sales_$": "711132.8300000015",
                                    "sales_$_rank": "50"
                                },
                                {
                                    "country": "Ecuador",
                                    "sales_transaction": "2232",
                                    "sales_transaction_rank": "11",
                                    "sales_$": "704434.9145000005",
                                    "sales_$_rank": "51"
                                },
                                {
                                    "country": "Uzbekistan",
                                    "sales_transaction": "1584",
                                    "sales_transaction_rank": "30",
                                    "sales_$": "700289.7400000006",
                                    "sales_$_rank": "52"
                                },
                                {
                                    "country": "South Africa",
                                    "sales_transaction": "1440",
                                    "sales_transaction_rank": "34",
                                    "sales_$": "699497.384000001",
                                    "sales_$_rank": "53"
                                },
                                {
                                    "country": "Japan",
                                    "sales_transaction": "2233",
                                    "sales_transaction_rank": "10",
                                    "sales_$": "692880.2690000008",
                                    "sales_$_rank": "54"
                                },
                                {
                                    "country": "Israel",
                                    "sales_transaction": "2232",
                                    "sales_transaction_rank": "11",
                                    "sales_$": "678394.283000001",
                                    "sales_$_rank": "55"
                                },
                                {
                                    "country": "Grenada",
                                    "sales_transaction": "1860",
                                    "sales_transaction_rank": "23",
                                    "sales_$": "677864.1923000009",
                                    "sales_$_rank": "56"
                                },
                                {
                                    "country": "Iceland",
                                    "sales_transaction": "2292",
                                    "sales_transaction_rank": "8",
                                    "sales_$": "673693.6802000001",
                                    "sales_$_rank": "57"
                                },
                                {
                                    "country": "Guyana",
                                    "sales_transaction": "1799",
                                    "sales_transaction_rank": "26",
                                    "sales_$": "673308.8582000005",
                                    "sales_$_rank": "58"
                                },
                                {
                                    "country": "Kuwait",
                                    "sales_transaction": "1800",
                                    "sales_transaction_rank": "25",
                                    "sales_$": "668267.5795000002",
                                    "sales_$_rank": "59"
                                },
                                {
                                    "country": "Kyrgyzstan",
                                    "sales_transaction": "1872",
                                    "sales_transaction_rank": "22",
                                    "sales_$": "666682.2039000005",
                                    "sales_$_rank": "60"
                                },
                                {
                                    "country": "Ireland",
                                    "sales_transaction": "2160",
                                    "sales_transaction_rank": "13",
                                    "sales_$": "649537.6800000011",
                                    "sales_$_rank": "61"
                                },
                                {
                                    "country": "France",
                                    "sales_transaction": "2160",
                                    "sales_transaction_rank": "13",
                                    "sales_$": "643784.2059999998",
                                    "sales_$_rank": "62"
                                },
                                {
                                    "country": "Kazakhstan",
                                    "sales_transaction": "1872",
                                    "sales_transaction_rank": "22",
                                    "sales_$": "641065.9040000006",
                                    "sales_$_rank": "63"
                                },
                                {
                                    "country": "Hungary",
                                    "sales_transaction": "1860",
                                    "sales_transaction_rank": "23",
                                    "sales_$": "634635.7702",
                                    "sales_$_rank": "64"
                                },
                                {
                                    "country": "Costa Rica",
                                    "sales_transaction": "2160",
                                    "sales_transaction_rank": "13",
                                    "sales_$": "632901.6622000004",
                                    "sales_$_rank": "65"
                                },
                                {
                                    "country": "Finland",
                                    "sales_transaction": "2088",
                                    "sales_transaction_rank": "16",
                                    "sales_$": "630622.2634000012",
                                    "sales_$_rank": "66"
                                },
                                {
                                    "country": "Italy",
                                    "sales_transaction": "2232",
                                    "sales_transaction_rank": "11",
                                    "sales_$": "625664.3300000008",
                                    "sales_$_rank": "67"
                                },
                                {
                                    "country": "Seychelles",
                                    "sales_transaction": "1296",
                                    "sales_transaction_rank": "36",
                                    "sales_$": "620275.4700000003",
                                    "sales_$_rank": "68"
                                },
                                {
                                    "country": "Azerbaijan",
                                    "sales_transaction": "1344",
                                    "sales_transaction_rank": "35",
                                    "sales_$": "610523.8879999998",
                                    "sales_$_rank": "69"
                                },
                                {
                                    "country": "Germany",
                                    "sales_transaction": "1872",
                                    "sales_transaction_rank": "22",
                                    "sales_$": "601330.1426000008",
                                    "sales_$_rank": "70"
                                },
                                {
                                    "country": "El Salvador",
                                    "sales_transaction": "1728",
                                    "sales_transaction_rank": "29",
                                    "sales_$": "593740.2684",
                                    "sales_$_rank": "71"
                                },
                                {
                                    "country": "Lithuania",
                                    "sales_transaction": "1572",
                                    "sales_transaction_rank": "31",
                                    "sales_$": "572731.2999999988",
                                    "sales_$_rank": "72"
                                },
                                {
                                    "country": "Serbia",
                                    "sales_transaction": "1296",
                                    "sales_transaction_rank": "36",
                                    "sales_$": "564452.1499999986",
                                    "sales_$_rank": "73"
                                },
                                {
                                    "country": "Qatar",
                                    "sales_transaction": "1068",
                                    "sales_transaction_rank": "40",
                                    "sales_$": "554514.8799999999",
                                    "sales_$_rank": "74"
                                },
                                {
                                    "country": "Latvia",
                                    "sales_transaction": "1511",
                                    "sales_transaction_rank": "33",
                                    "sales_$": "549710.9939999995",
                                    "sales_$_rank": "75"
                                },
                                {
                                    "country": "Aruba",
                                    "sales_transaction": "1176",
                                    "sales_transaction_rank": "38",
                                    "sales_$": "537197.9709999991",
                                    "sales_$_rank": "76"
                                },
                                {
                                    "country": "Philippines",
                                    "sales_transaction": "1079",
                                    "sales_transaction_rank": "39",
                                    "sales_$": "522248.86000000004",
                                    "sales_$_rank": "77"
                                },
                                {
                                    "country": "Czech Republic",
                                    "sales_transaction": "1932",
                                    "sales_transaction_rank": "21",
                                    "sales_$": "517375.4399999993",
                                    "sales_$_rank": "78"
                                },
                                {
                                    "country": "Cuba",
                                    "sales_transaction": "1728",
                                    "sales_transaction_rank": "29",
                                    "sales_$": "500943.9629999991",
                                    "sales_$_rank": "79"
                                },
                                {
                                    "country": "Georgia",
                                    "sales_transaction": "1584",
                                    "sales_transaction_rank": "30",
                                    "sales_$": "499963.55559999857",
                                    "sales_$_rank": "80"
                                },
                                {
                                    "country": "Denmark",
                                    "sales_transaction": "1584",
                                    "sales_transaction_rank": "30",
                                    "sales_$": "449218.213999999",
                                    "sales_$_rank": "81"
                                },
                                {
                                    "country": "Estonia",
                                    "sales_transaction": "1512",
                                    "sales_transaction_rank": "32",
                                    "sales_$": "424996.7387999989",
                                    "sales_$_rank": "82"
                                },
                                {
                                    "country": "Croatia",
                                    "sales_transaction": "1572",
                                    "sales_transaction_rank": "31",
                                    "sales_$": "416275.25939999963",
                                    "sales_$_rank": "83"
                                },
                                {
                                    "country": "Sri Lanka",
                                    "sales_transaction": "792",
                                    "sales_transaction_rank": "42",
                                    "sales_$": "395918.2999999992",
                                    "sales_$_rank": "84"
                                },
                                {
                                    "country": "Montenegro",
                                    "sales_transaction": "720",
                                    "sales_transaction_rank": "43",
                                    "sales_$": "357511.14999999985",
                                    "sales_$_rank": "85"
                                },
                                {
                                    "country": "Jamaica",
                                    "sales_transaction": "1224",
                                    "sales_transaction_rank": "37",
                                    "sales_$": "347578.4049999999",
                                    "sales_$_rank": "86"
                                },
                                {
                                    "country": "Kiribati",
                                    "sales_transaction": "792",
                                    "sales_transaction_rank": "42",
                                    "sales_$": "323550.16689999966",
                                    "sales_$_rank": "87"
                                },
                                {
                                    "country": "Cyprus",
                                    "sales_transaction": "1067",
                                    "sales_transaction_rank": "41",
                                    "sales_$": "281314.48579999973",
                                    "sales_$_rank": "88"
                                },
                                {
                                    "country": "Turkey",
                                    "sales_transaction": "504",
                                    "sales_transaction_rank": "44",
                                    "sales_$": "280994.1200000001",
                                    "sales_$_rank": "89"
                                },
                                {
                                    "country": "Nicaragua",
                                    "sales_transaction": "432",
                                    "sales_transaction_rank": "45",
                                    "sales_$": "223247.22000000006",
                                    "sales_$_rank": "90"
                                },
                                {
                                    "country": "Maldives",
                                    "sales_transaction": "720",
                                    "sales_transaction_rank": "43",
                                    "sales_$": "217764.10799999998",
                                    "sales_$_rank": "91"
                                },
                                {
                                    "country": "United Arab Emirates",
                                    "sales_transaction": "432",
                                    "sales_transaction_rank": "45",
                                    "sales_$": "186636.71000000022",
                                    "sales_$_rank": "92"
                                },
                                {
                                    "country": "Fiji",
                                    "sales_transaction": "792",
                                    "sales_transaction_rank": "42",
                                    "sales_$": "186410.44499999998",
                                    "sales_$_rank": "93"
                                },
                                {
                                    "country": "Oman",
                                    "sales_transaction": "216",
                                    "sales_transaction_rank": "46",
                                    "sales_$": "105546.17000000007",
                                    "sales_$_rank": "94"
                                },
                                {
                                    "country": "San Marino",
                                    "sales_transaction": "216",
                                    "sales_transaction_rank": "46",
                                    "sales_$": "98001.99000000008",
                                    "sales_$_rank": "95"
                                },
                                {
                                    "country": "Saint Kitts and Nevis",
                                    "sales_transaction": "216",
                                    "sales_transaction_rank": "46",
                                    "sales_$": "87428.36000000006",
                                    "sales_$_rank": "96"
                                },
                                {
                                    "country": "Bosnia and Herzegovina",
                                    "sales_transaction": "168",
                                    "sales_transaction_rank": "47",
                                    "sales_$": "60497.63000000005",
                                    "sales_$_rank": "97"
                                },
                                {
                                    "country": "Cabo Verde",
                                    "sales_transaction": "84",
                                    "sales_transaction_rank": "48",
                                    "sales_$": "36562.07199999999",
                                    "sales_$_rank": "98"
                                },
                                {
                                    "country": "Macau",
                                    "sales_transaction": "72",
                                    "sales_transaction_rank": "49",
                                    "sales_$": "28242.788",
                                    "sales_$_rank": "99"
                                },
                                {
                                    "country": "Mongolia",
                                    "sales_transaction": "60",
                                    "sales_transaction_rank": "50",
                                    "sales_$": "22035.249999999985",
                                    "sales_$_rank": "100"
                                },
                                {
                                    "country": "Dominica",
                                    "sales_transaction": "72",
                                    "sales_transaction_rank": "49",
                                    "sales_$": "18743.108999999993",
                                    "sales_$_rank": "101"
                                },
                                {
                                    "country": "Russia",
                                    "sales_transaction": "8",
                                    "sales_transaction_rank": "51",
                                    "sales_$": "1264.5840000000003",
                                    "sales_$_rank": "102"
                                }
                            ]
                        },
                        "text/html": [
                            "<table>",
                            "<tr><th>country</th><th>sales_transaction</th><th>sales_transaction_rank</th><th>sales_$</th><th>sales_$_rank</th></tr>",
                            "<tr><td>Austria</td><td>2674</td><td>1</td><td>1296463.3414999906</td><td>1</td></tr>",
                            "<tr><td>Belgium</td><td>2604</td><td>2</td><td>1154321.3705999977</td><td>2</td></tr>",
                            "<tr><td>Argentina</td><td>2603</td><td>3</td><td>1140238.6927999987</td><td>3</td></tr>",
                            "<tr><td>Australia</td><td>2520</td><td>4</td><td>1139576.1649999968</td><td>4</td></tr>",
                            "<tr><td>United States</td><td>2231</td><td>12</td><td>1132496.3800000001</td><td>5</td></tr>",
                            "<tr><td>Brazil</td><td>2604</td><td>2</td><td>1129919.2000999975</td><td>6</td></tr>",
                            "<tr><td>Norway</td><td>2160</td><td>13</td><td>1129793.889999999</td><td>7</td></tr>",
                            "<tr><td>Netherlands</td><td>2292</td><td>8</td><td>1106623.810000002</td><td>8</td></tr>",
                            "<tr><td>Spain</td><td>2232</td><td>11</td><td>1102578.460000004</td><td>9</td></tr>",
                            "<tr><td>Puerto Rico</td><td>2232</td><td>11</td><td>1089656.3800000006</td><td>10</td></tr>",
                            "<tr><td>Canada</td><td>2436</td><td>6</td><td>1078310.4730000005</td><td>11</td></tr>",
                            "<tr><td>United Kingdom</td><td>2232</td><td>11</td><td>1069649.1000000013</td><td>12</td></tr>",
                            "<tr><td>Bulgaria</td><td>2520</td><td>4</td><td>1068255.9588000018</td><td>13</td></tr>",
                            "<tr><td>Republic of Korea</td><td>2232</td><td>11</td><td>1063598.8800000008</td><td>14</td></tr>",
                            "<tr><td>Singapore</td><td>2232</td><td>11</td><td>1062442.5199999993</td><td>15</td></tr>",
                            "<tr><td>Suriname</td><td>2016</td><td>18</td><td>1037655.410000003</td><td>16</td></tr>",
                            "<tr><td>Mexico</td><td>2232</td><td>11</td><td>1034845.1700000012</td><td>17</td></tr>",
                            "<tr><td>Turkmenistan</td><td>2088</td><td>16</td><td>1032696.5800000039</td><td>18</td></tr>",
                            "<tr><td>Belize</td><td>2352</td><td>7</td><td>1009231.1078000019</td><td>19</td></tr>",
                            "<tr><td>Sweden</td><td>2148</td><td>14</td><td>1006956.3000000026</td><td>20</td></tr>",
                            "<tr><td>Chile</td><td>2604</td><td>2</td><td>998301.8032000033</td><td>21</td></tr>",
                            "<tr><td>Russian Federation</td><td>1944</td><td>20</td><td>989007.5500000018</td><td>22</td></tr>",
                            "<tr><td>Thailand</td><td>2004</td><td>19</td><td>984841.0600000018</td><td>23</td></tr>",
                            "<tr><td>Portugal</td><td>1944</td><td>20</td><td>955279.5800000016</td><td>24</td></tr>",
                            "<tr><td>Saint Lucia</td><td>2016</td><td>18</td><td>953605.8500000038</td><td>25</td></tr>",
                            "<tr><td>Mauritius</td><td>2292</td><td>8</td><td>951543.6300000029</td><td>26</td></tr>",
                            "<tr><td>Trinidad and Tobago</td><td>1944</td><td>20</td><td>940220.2900000017</td><td>27</td></tr>",
                            "<tr><td>Antigua and Barbuda</td><td>2268</td><td>9</td><td>937031.6729000005</td><td>28</td></tr>",
                            "<tr><td>Romania</td><td>2004</td><td>19</td><td>933676.0400000019</td><td>29</td></tr>",
                            "<tr><td>Armenia</td><td>2086</td><td>17</td><td>918236.707500002</td><td>30</td></tr>",
                            "<tr><td>Barbados</td><td>2099</td><td>15</td><td>914011.7824000027</td><td>31</td></tr>",
                            "<tr><td>Uruguay</td><td>2016</td><td>18</td><td>898636.5600000003</td><td>32</td></tr>",
                            "<tr><td>New Zealand</td><td>2088</td><td>16</td><td>897640.3300000007</td><td>33</td></tr>",
                            "<tr><td>Paraguay</td><td>1944</td><td>20</td><td>887757.4500000015</td><td>34</td></tr>",
                            "<tr><td>Luxembourg</td><td>2232</td><td>11</td><td>869798.3930000014</td><td>35</td></tr>",
                            "<tr><td>Ukraine</td><td>2016</td><td>18</td><td>860557.6200000015</td><td>36</td></tr>",
                            "<tr><td>Bahamas</td><td>1932</td><td>21</td><td>858137.5198000026</td><td>37</td></tr>",
                            "<tr><td>Malta</td><td>2232</td><td>11</td><td>849198.6836000021</td><td>38</td></tr>",
                            "<tr><td>Panama</td><td>1800</td><td>25</td><td>827407.4100000006</td><td>39</td></tr>",
                            "<tr><td>Poland</td><td>1728</td><td>29</td><td>823874.8300000004</td><td>40</td></tr>",
                            "<tr><td>Colombia</td><td>2514</td><td>5</td><td>823458.3767000027</td><td>41</td></tr>",
                            "<tr><td>Albania</td><td>1848</td><td>24</td><td>816714.1692000002</td><td>42</td></tr>",
                            "<tr><td>Guatemala</td><td>2160</td><td>13</td><td>811037.0116000031</td><td>43</td></tr>",
                            "<tr><td>Bahrain</td><td>1764</td><td>27</td><td>800315.182500001</td><td>44</td></tr>",
                            "<tr><td>Belarus</td><td>1763</td><td>28</td><td>793122.7560000019</td><td>45</td></tr>",
                            "<tr><td>Saint Vincent and Grenadines</td><td>1800</td><td>25</td><td>782619.9400000017</td><td>46</td></tr>",
                            "<tr><td>Greece</td><td>2232</td><td>11</td><td>781112.8694000007</td><td>47</td></tr>",
                            "<tr><td>Slovenia</td><td>1511</td><td>33</td><td>779910.2300000001</td><td>48</td></tr>",
                            "<tr><td>Slovakia</td><td>1584</td><td>30</td><td>774529.1199999993</td><td>49</td></tr>",
                            "<tr><td>Switzerland</td><td>1512</td><td>32</td><td>711132.8300000015</td><td>50</td></tr>",
                            "<tr><td>Ecuador</td><td>2232</td><td>11</td><td>704434.9145000005</td><td>51</td></tr>",
                            "<tr><td>Uzbekistan</td><td>1584</td><td>30</td><td>700289.7400000006</td><td>52</td></tr>",
                            "<tr><td>South Africa</td><td>1440</td><td>34</td><td>699497.384000001</td><td>53</td></tr>",
                            "<tr><td>Japan</td><td>2233</td><td>10</td><td>692880.2690000008</td><td>54</td></tr>",
                            "<tr><td>Israel</td><td>2232</td><td>11</td><td>678394.283000001</td><td>55</td></tr>",
                            "<tr><td>Grenada</td><td>1860</td><td>23</td><td>677864.1923000009</td><td>56</td></tr>",
                            "<tr><td>Iceland</td><td>2292</td><td>8</td><td>673693.6802000001</td><td>57</td></tr>",
                            "<tr><td>Guyana</td><td>1799</td><td>26</td><td>673308.8582000005</td><td>58</td></tr>",
                            "<tr><td>Kuwait</td><td>1800</td><td>25</td><td>668267.5795000002</td><td>59</td></tr>",
                            "<tr><td>Kyrgyzstan</td><td>1872</td><td>22</td><td>666682.2039000005</td><td>60</td></tr>",
                            "<tr><td>Ireland</td><td>2160</td><td>13</td><td>649537.6800000011</td><td>61</td></tr>",
                            "<tr><td>France</td><td>2160</td><td>13</td><td>643784.2059999998</td><td>62</td></tr>",
                            "<tr><td>Kazakhstan</td><td>1872</td><td>22</td><td>641065.9040000006</td><td>63</td></tr>",
                            "<tr><td>Hungary</td><td>1860</td><td>23</td><td>634635.7702</td><td>64</td></tr>",
                            "<tr><td>Costa Rica</td><td>2160</td><td>13</td><td>632901.6622000004</td><td>65</td></tr>",
                            "<tr><td>Finland</td><td>2088</td><td>16</td><td>630622.2634000012</td><td>66</td></tr>",
                            "<tr><td>Italy</td><td>2232</td><td>11</td><td>625664.3300000008</td><td>67</td></tr>",
                            "<tr><td>Seychelles</td><td>1296</td><td>36</td><td>620275.4700000003</td><td>68</td></tr>",
                            "<tr><td>Azerbaijan</td><td>1344</td><td>35</td><td>610523.8879999998</td><td>69</td></tr>",
                            "<tr><td>Germany</td><td>1872</td><td>22</td><td>601330.1426000008</td><td>70</td></tr>",
                            "<tr><td>El Salvador</td><td>1728</td><td>29</td><td>593740.2684</td><td>71</td></tr>",
                            "<tr><td>Lithuania</td><td>1572</td><td>31</td><td>572731.2999999988</td><td>72</td></tr>",
                            "<tr><td>Serbia</td><td>1296</td><td>36</td><td>564452.1499999986</td><td>73</td></tr>",
                            "<tr><td>Qatar</td><td>1068</td><td>40</td><td>554514.8799999999</td><td>74</td></tr>",
                            "<tr><td>Latvia</td><td>1511</td><td>33</td><td>549710.9939999995</td><td>75</td></tr>",
                            "<tr><td>Aruba</td><td>1176</td><td>38</td><td>537197.9709999991</td><td>76</td></tr>",
                            "<tr><td>Philippines</td><td>1079</td><td>39</td><td>522248.86000000004</td><td>77</td></tr>",
                            "<tr><td>Czech Republic</td><td>1932</td><td>21</td><td>517375.4399999993</td><td>78</td></tr>",
                            "<tr><td>Cuba</td><td>1728</td><td>29</td><td>500943.9629999991</td><td>79</td></tr>",
                            "<tr><td>Georgia</td><td>1584</td><td>30</td><td>499963.55559999857</td><td>80</td></tr>",
                            "<tr><td>Denmark</td><td>1584</td><td>30</td><td>449218.213999999</td><td>81</td></tr>",
                            "<tr><td>Estonia</td><td>1512</td><td>32</td><td>424996.7387999989</td><td>82</td></tr>",
                            "<tr><td>Croatia</td><td>1572</td><td>31</td><td>416275.25939999963</td><td>83</td></tr>",
                            "<tr><td>Sri Lanka</td><td>792</td><td>42</td><td>395918.2999999992</td><td>84</td></tr>",
                            "<tr><td>Montenegro</td><td>720</td><td>43</td><td>357511.14999999985</td><td>85</td></tr>",
                            "<tr><td>Jamaica</td><td>1224</td><td>37</td><td>347578.4049999999</td><td>86</td></tr>",
                            "<tr><td>Kiribati</td><td>792</td><td>42</td><td>323550.16689999966</td><td>87</td></tr>",
                            "<tr><td>Cyprus</td><td>1067</td><td>41</td><td>281314.48579999973</td><td>88</td></tr>",
                            "<tr><td>Turkey</td><td>504</td><td>44</td><td>280994.1200000001</td><td>89</td></tr>",
                            "<tr><td>Nicaragua</td><td>432</td><td>45</td><td>223247.22000000006</td><td>90</td></tr>",
                            "<tr><td>Maldives</td><td>720</td><td>43</td><td>217764.10799999998</td><td>91</td></tr>",
                            "<tr><td>United Arab Emirates</td><td>432</td><td>45</td><td>186636.71000000022</td><td>92</td></tr>",
                            "<tr><td>Fiji</td><td>792</td><td>42</td><td>186410.44499999998</td><td>93</td></tr>",
                            "<tr><td>Oman</td><td>216</td><td>46</td><td>105546.17000000007</td><td>94</td></tr>",
                            "<tr><td>San Marino</td><td>216</td><td>46</td><td>98001.99000000008</td><td>95</td></tr>",
                            "<tr><td>Saint Kitts and Nevis</td><td>216</td><td>46</td><td>87428.36000000006</td><td>96</td></tr>",
                            "<tr><td>Bosnia and Herzegovina</td><td>168</td><td>47</td><td>60497.63000000005</td><td>97</td></tr>",
                            "<tr><td>Cabo Verde</td><td>84</td><td>48</td><td>36562.07199999999</td><td>98</td></tr>",
                            "<tr><td>Macau</td><td>72</td><td>49</td><td>28242.788</td><td>99</td></tr>",
                            "<tr><td>Mongolia</td><td>60</td><td>50</td><td>22035.249999999985</td><td>100</td></tr>",
                            "<tr><td>Dominica</td><td>72</td><td>49</td><td>18743.108999999993</td><td>101</td></tr>",
                            "<tr><td>Russia</td><td>8</td><td>51</td><td>1264.5840000000003</td><td>102</td></tr>",
                            "</table>"
                        ]
                    }
                }
            ],
            "execution_count": 3
        },
        {
            "cell_type": "markdown",
            "source": [
                "From the table above, the top 4 countries for sales\\_transaction and sales\\_$ are Austria, Belgium, Argentina and Australia. The number of sales transactions seems highly correlated with sales ($) with some exceptions like the United States which is ranked 12th in number of transactions and 5th in sales ($).\n",
                "\n",
                "Let's look at the average sale amount per country and compare to the worldwide average. The difference between the sale amount for each country and the worldwide average will also be computed."
            ],
            "metadata": {
                "language": "sql",
                "azdata_cell_guid": "7c1d0032-8632-4290-bc87-f5a9d2488efe"
            },
            "attachments": {}
        },
        {
            "cell_type": "code",
            "source": [
                "-- average sales ($) per country\n",
                "SELECT  \n",
                "    country, AVG(Sales) AS avg_sales_$,\n",
                "    -- subquery in SELECT to determine worldwide avg sales ($)\n",
                "    (SELECT AVG(Sales) FROM logs) AS world_avg_sales_$,\n",
                "    -- difference bewteen country avg and worldwide avg with another SELECT subquery\n",
                "    (AVG(Sales) - (SELECT AVG(Sales) FROM logs)) AS difference\n",
                "FROM logs\n",
                "GROUP BY country\n",
                "ORDER BY difference DESC;"
            ],
            "metadata": {
                "language": "sql",
                "azdata_cell_guid": "3661bbe8-7b75-4fd3-af97-3b4591798e2d",
                "tags": []
            },
            "outputs": [
                {
                    "output_type": "display_data",
                    "data": {
                        "text/html": "(102 rows affected)"
                    },
                    "metadata": {}
                },
                {
                    "output_type": "display_data",
                    "data": {
                        "text/html": "Total execution time: 00:00:00.380"
                    },
                    "metadata": {}
                },
                {
                    "output_type": "execute_result",
                    "metadata": {},
                    "execution_count": 4,
                    "data": {
                        "application/vnd.dataresource+json": {
                            "schema": {
                                "fields": [
                                    {
                                        "name": "country"
                                    },
                                    {
                                        "name": "avg_sales_$"
                                    },
                                    {
                                        "name": "world_avg_sales_$"
                                    },
                                    {
                                        "name": "difference"
                                    }
                                ]
                            },
                            "data": [
                                {
                                    "country": "Turkey",
                                    "avg_sales_$": "557.5280158730159",
                                    "world_avg_sales_$": "411.3464487919273",
                                    "difference": "146.18156708103123"
                                },
                                {
                                    "country": "Norway",
                                    "avg_sales_$": "523.052726851852",
                                    "world_avg_sales_$": "411.3464487919273",
                                    "difference": "111.70627805986732"
                                },
                                {
                                    "country": "Qatar",
                                    "avg_sales_$": "519.2086891385765",
                                    "world_avg_sales_$": "411.3464487919273",
                                    "difference": "107.86224034659182"
                                },
                                {
                                    "country": "Nicaragua",
                                    "avg_sales_$": "516.7759722222224",
                                    "world_avg_sales_$": "411.3464487919273",
                                    "difference": "105.4295234302378"
                                },
                                {
                                    "country": "Slovenia",
                                    "avg_sales_$": "516.1550165453342",
                                    "world_avg_sales_$": "411.3464487919273",
                                    "difference": "104.80856775334956"
                                },
                                {
                                    "country": "Suriname",
                                    "avg_sales_$": "514.7100248015875",
                                    "world_avg_sales_$": "411.3464487919273",
                                    "difference": "103.36357600960281"
                                },
                                {
                                    "country": "Russian Federation",
                                    "avg_sales_$": "508.74873971193404",
                                    "world_avg_sales_$": "411.3464487919273",
                                    "difference": "97.4022909199494"
                                },
                                {
                                    "country": "United States",
                                    "avg_sales_$": "507.6182787987449",
                                    "world_avg_sales_$": "411.3464487919273",
                                    "difference": "96.27183000676024"
                                },
                                {
                                    "country": "Sri Lanka",
                                    "avg_sales_$": "499.89684343434374",
                                    "world_avg_sales_$": "411.3464487919273",
                                    "difference": "88.5503946423591"
                                },
                                {
                                    "country": "Montenegro",
                                    "avg_sales_$": "496.5432638888891",
                                    "world_avg_sales_$": "411.3464487919273",
                                    "difference": "85.19681509690446"
                                },
                                {
                                    "country": "Turkmenistan",
                                    "avg_sales_$": "494.5864846743292",
                                    "world_avg_sales_$": "411.3464487919273",
                                    "difference": "83.24003588234456"
                                },
                                {
                                    "country": "Spain",
                                    "avg_sales_$": "493.9867652329743",
                                    "world_avg_sales_$": "411.3464487919273",
                                    "difference": "82.64031644098964"
                                },
                                {
                                    "country": "Thailand",
                                    "avg_sales_$": "491.4376546906189",
                                    "world_avg_sales_$": "411.3464487919273",
                                    "difference": "80.09120589863426"
                                },
                                {
                                    "country": "Portugal",
                                    "avg_sales_$": "491.3989609053497",
                                    "world_avg_sales_$": "411.3464487919273",
                                    "difference": "80.05251211336508"
                                },
                                {
                                    "country": "Slovakia",
                                    "avg_sales_$": "488.97040404040354",
                                    "world_avg_sales_$": "411.3464487919273",
                                    "difference": "77.6239552484189"
                                },
                                {
                                    "country": "Oman",
                                    "avg_sales_$": "488.639675925926",
                                    "world_avg_sales_$": "411.3464487919273",
                                    "difference": "77.29322713394134"
                                },
                                {
                                    "country": "Puerto Rico",
                                    "avg_sales_$": "488.19730286738354",
                                    "world_avg_sales_$": "411.3464487919273",
                                    "difference": "76.8508540753989"
                                },
                                {
                                    "country": "South Africa",
                                    "avg_sales_$": "485.7620722222221",
                                    "world_avg_sales_$": "411.3464487919273",
                                    "difference": "74.41562343023747"
                                },
                                {
                                    "country": "Austria",
                                    "avg_sales_$": "484.8404418474198",
                                    "world_avg_sales_$": "411.3464487919273",
                                    "difference": "73.49399305543517"
                                },
                                {
                                    "country": "Philippines",
                                    "avg_sales_$": "484.0119184430032",
                                    "world_avg_sales_$": "411.3464487919273",
                                    "difference": "72.66546965101855"
                                },
                                {
                                    "country": "Trinidad and Tobago",
                                    "avg_sales_$": "483.65241255144014",
                                    "world_avg_sales_$": "411.3464487919273",
                                    "difference": "72.3059637594555"
                                },
                                {
                                    "country": "Netherlands",
                                    "avg_sales_$": "482.8201614310642",
                                    "world_avg_sales_$": "411.3464487919273",
                                    "difference": "71.47371263907957"
                                },
                                {
                                    "country": "United Kingdom",
                                    "avg_sales_$": "479.2334677419351",
                                    "world_avg_sales_$": "411.3464487919273",
                                    "difference": "67.88701894995046"
                                },
                                {
                                    "country": "Seychelles",
                                    "avg_sales_$": "478.6076157407402",
                                    "world_avg_sales_$": "411.3464487919273",
                                    "difference": "67.26116694875554"
                                },
                                {
                                    "country": "Poland",
                                    "avg_sales_$": "476.7794155092592",
                                    "world_avg_sales_$": "411.3464487919273",
                                    "difference": "65.43296671727455"
                                },
                                {
                                    "country": "Republic of Korea",
                                    "avg_sales_$": "476.52279569892477",
                                    "world_avg_sales_$": "411.3464487919273",
                                    "difference": "65.17634690694013"
                                },
                                {
                                    "country": "Singapore",
                                    "avg_sales_$": "476.00471326164876",
                                    "world_avg_sales_$": "411.3464487919273",
                                    "difference": "64.65826446966412"
                                },
                                {
                                    "country": "Saint Lucia",
                                    "avg_sales_$": "473.01877480158794",
                                    "world_avg_sales_$": "411.3464487919273",
                                    "difference": "61.672326009603296"
                                },
                                {
                                    "country": "Switzerland",
                                    "avg_sales_$": "470.32594576719566",
                                    "world_avg_sales_$": "411.3464487919273",
                                    "difference": "58.97949697521102"
                                },
                                {
                                    "country": "Sweden",
                                    "avg_sales_$": "468.7878491620112",
                                    "world_avg_sales_$": "411.3464487919273",
                                    "difference": "57.44140037002654"
                                },
                                {
                                    "country": "Romania",
                                    "avg_sales_$": "465.90620758482976",
                                    "world_avg_sales_$": "411.3464487919273",
                                    "difference": "54.559758792845116"
                                },
                                {
                                    "country": "Mexico",
                                    "avg_sales_$": "463.6403091397844",
                                    "world_avg_sales_$": "411.3464487919273",
                                    "difference": "52.29386034779975"
                                },
                                {
                                    "country": "Panama",
                                    "avg_sales_$": "459.670783333333",
                                    "world_avg_sales_$": "411.3464487919273",
                                    "difference": "48.32433454134838"
                                },
                                {
                                    "country": "Aruba",
                                    "avg_sales_$": "456.80099574829944",
                                    "world_avg_sales_$": "411.3464487919273",
                                    "difference": "45.4545469563148"
                                },
                                {
                                    "country": "Paraguay",
                                    "avg_sales_$": "456.6653549382711",
                                    "world_avg_sales_$": "411.3464487919273",
                                    "difference": "45.31890614628645"
                                },
                                {
                                    "country": "Azerbaijan",
                                    "avg_sales_$": "454.25884523809526",
                                    "world_avg_sales_$": "411.3464487919273",
                                    "difference": "42.91239644611062"
                                },
                                {
                                    "country": "San Marino",
                                    "avg_sales_$": "453.7129166666667",
                                    "world_avg_sales_$": "411.3464487919273",
                                    "difference": "42.36646787468203"
                                },
                                {
                                    "country": "Bahrain",
                                    "avg_sales_$": "453.6934141156462",
                                    "world_avg_sales_$": "411.3464487919273",
                                    "difference": "42.34696532366155"
                                },
                                {
                                    "country": "Australia",
                                    "avg_sales_$": "452.21276388888873",
                                    "world_avg_sales_$": "411.3464487919273",
                                    "difference": "40.86631509690409"
                                },
                                {
                                    "country": "Belarus",
                                    "avg_sales_$": "449.87110380034017",
                                    "world_avg_sales_$": "411.3464487919273",
                                    "difference": "38.52465500835552"
                                },
                                {
                                    "country": "Uruguay",
                                    "avg_sales_$": "445.75226190476235",
                                    "world_avg_sales_$": "411.3464487919273",
                                    "difference": "34.40581311277771"
                                },
                                {
                                    "country": "Bahamas",
                                    "avg_sales_$": "444.17055890269114",
                                    "world_avg_sales_$": "411.3464487919273",
                                    "difference": "32.8241101107065"
                                },
                                {
                                    "country": "Belgium",
                                    "avg_sales_$": "443.28777672811026",
                                    "world_avg_sales_$": "411.3464487919273",
                                    "difference": "31.941327936125617"
                                },
                                {
                                    "country": "Canada",
                                    "avg_sales_$": "442.65618760262726",
                                    "world_avg_sales_$": "411.3464487919273",
                                    "difference": "31.309738810642614"
                                },
                                {
                                    "country": "Uzbekistan",
                                    "avg_sales_$": "442.10210858585873",
                                    "world_avg_sales_$": "411.3464487919273",
                                    "difference": "30.755659793874088"
                                },
                                {
                                    "country": "Albania",
                                    "avg_sales_$": "441.9448967532468",
                                    "world_avg_sales_$": "411.3464487919273",
                                    "difference": "30.59844796126214"
                                },
                                {
                                    "country": "Armenia",
                                    "avg_sales_$": "440.19017617449674",
                                    "world_avg_sales_$": "411.3464487919273",
                                    "difference": "28.8437273825121"
                                },
                                {
                                    "country": "Argentina",
                                    "avg_sales_$": "438.04790349596567",
                                    "world_avg_sales_$": "411.3464487919273",
                                    "difference": "26.701454703981028"
                                },
                                {
                                    "country": "Serbia",
                                    "avg_sales_$": "435.5340663580239",
                                    "world_avg_sales_$": "411.3464487919273",
                                    "difference": "24.18761756603925"
                                },
                                {
                                    "country": "Barbados",
                                    "avg_sales_$": "435.4510635540732",
                                    "world_avg_sales_$": "411.3464487919273",
                                    "difference": "24.104614762088545"
                                },
                                {
                                    "country": "Cabo Verde",
                                    "avg_sales_$": "435.2627619047618",
                                    "world_avg_sales_$": "411.3464487919273",
                                    "difference": "23.916313112777175"
                                },
                                {
                                    "country": "Saint Vincent and Grenadines",
                                    "avg_sales_$": "434.78885555555553",
                                    "world_avg_sales_$": "411.3464487919273",
                                    "difference": "23.442406763570887"
                                },
                                {
                                    "country": "Brazil",
                                    "avg_sales_$": "433.91674350998466",
                                    "world_avg_sales_$": "411.3464487919273",
                                    "difference": "22.570294718000014"
                                },
                                {
                                    "country": "United Arab Emirates",
                                    "avg_sales_$": "432.02942129629633",
                                    "world_avg_sales_$": "411.3464487919273",
                                    "difference": "20.682972504311692"
                                },
                                {
                                    "country": "New Zealand",
                                    "avg_sales_$": "429.9043726053637",
                                    "world_avg_sales_$": "411.3464487919273",
                                    "difference": "18.557923813379034"
                                },
                                {
                                    "country": "Belize",
                                    "avg_sales_$": "429.09485875850316",
                                    "world_avg_sales_$": "411.3464487919273",
                                    "difference": "17.748409966518523"
                                },
                                {
                                    "country": "Ukraine",
                                    "avg_sales_$": "426.86389880952385",
                                    "world_avg_sales_$": "411.3464487919273",
                                    "difference": "15.517450017539204"
                                },
                                {
                                    "country": "Bulgaria",
                                    "avg_sales_$": "423.9110947619049",
                                    "world_avg_sales_$": "411.3464487919273",
                                    "difference": "12.564645969920264"
                                },
                                {
                                    "country": "Mauritius",
                                    "avg_sales_$": "415.15865183246063",
                                    "world_avg_sales_$": "411.3464487919273",
                                    "difference": "3.8122030404759926"
                                },
                                {
                                    "country": "Antigua and Barbuda",
                                    "avg_sales_$": "413.1532949294536",
                                    "world_avg_sales_$": "411.3464487919273",
                                    "difference": "1.8068461374689377"
                                },
                                {
                                    "country": "Kiribati",
                                    "avg_sales_$": "408.5229380050506",
                                    "world_avg_sales_$": "411.3464487919273",
                                    "difference": "-2.823510786934037"
                                },
                                {
                                    "country": "Saint Kitts and Nevis",
                                    "avg_sales_$": "404.76092592592613",
                                    "world_avg_sales_$": "411.3464487919273",
                                    "difference": "-6.585522866058511"
                                },
                                {
                                    "country": "Macau",
                                    "avg_sales_$": "392.2609444444445",
                                    "world_avg_sales_$": "411.3464487919273",
                                    "difference": "-19.085504347540166"
                                },
                                {
                                    "country": "Luxembourg",
                                    "avg_sales_$": "389.69462051971334",
                                    "world_avg_sales_$": "411.3464487919273",
                                    "difference": "-21.651828272271302"
                                },
                                {
                                    "country": "Chile",
                                    "avg_sales_$": "383.37242826420896",
                                    "world_avg_sales_$": "411.3464487919273",
                                    "difference": "-27.97402052777568"
                                },
                                {
                                    "country": "Malta",
                                    "avg_sales_$": "380.46536003584214",
                                    "world_avg_sales_$": "411.3464487919273",
                                    "difference": "-30.881088756142503"
                                },
                                {
                                    "country": "Guatemala",
                                    "avg_sales_$": "375.480097962963",
                                    "world_avg_sales_$": "411.3464487919273",
                                    "difference": "-35.866350829021655"
                                },
                                {
                                    "country": "Guyana",
                                    "avg_sales_$": "374.2684036687043",
                                    "world_avg_sales_$": "411.3464487919273",
                                    "difference": "-37.07804512328033"
                                },
                                {
                                    "country": "Kuwait",
                                    "avg_sales_$": "371.2597663888891",
                                    "world_avg_sales_$": "411.3464487919273",
                                    "difference": "-40.08668240309555"
                                },
                                {
                                    "country": "Mongolia",
                                    "avg_sales_$": "367.25416666666666",
                                    "world_avg_sales_$": "411.3464487919273",
                                    "difference": "-44.09228212531798"
                                },
                                {
                                    "country": "Grenada",
                                    "avg_sales_$": "364.44311413978465",
                                    "world_avg_sales_$": "411.3464487919273",
                                    "difference": "-46.90333465219999"
                                },
                                {
                                    "country": "Lithuania",
                                    "avg_sales_$": "364.33288804071265",
                                    "world_avg_sales_$": "411.3464487919273",
                                    "difference": "-47.013560751271996"
                                },
                                {
                                    "country": "Latvia",
                                    "avg_sales_$": "363.8060847121113",
                                    "world_avg_sales_$": "411.3464487919273",
                                    "difference": "-47.540364079873314"
                                },
                                {
                                    "country": "Bosnia and Herzegovina",
                                    "avg_sales_$": "360.10494047619056",
                                    "world_avg_sales_$": "411.3464487919273",
                                    "difference": "-51.24150831579408"
                                },
                                {
                                    "country": "Kyrgyzstan",
                                    "avg_sales_$": "356.13365592948725",
                                    "world_avg_sales_$": "411.3464487919273",
                                    "difference": "-55.212792862497395"
                                },
                                {
                                    "country": "Greece",
                                    "avg_sales_$": "349.9609629928313",
                                    "world_avg_sales_$": "411.3464487919273",
                                    "difference": "-61.385485799153344"
                                },
                                {
                                    "country": "El Salvador",
                                    "avg_sales_$": "343.59969236111124",
                                    "world_avg_sales_$": "411.3464487919273",
                                    "difference": "-67.7467564308734"
                                },
                                {
                                    "country": "Kazakhstan",
                                    "avg_sales_$": "342.44973504273514",
                                    "world_avg_sales_$": "411.3464487919273",
                                    "difference": "-68.8967137492495"
                                },
                                {
                                    "country": "Hungary",
                                    "avg_sales_$": "341.2020269892473",
                                    "world_avg_sales_$": "411.3464487919273",
                                    "difference": "-70.14442180273733"
                                },
                                {
                                    "country": "Colombia",
                                    "avg_sales_$": "327.5490758552109",
                                    "world_avg_sales_$": "411.3464487919273",
                                    "difference": "-83.79737293677374"
                                },
                                {
                                    "country": "Germany",
                                    "avg_sales_$": "321.2233667735043",
                                    "world_avg_sales_$": "411.3464487919273",
                                    "difference": "-90.12308201848032"
                                },
                                {
                                    "country": "Georgia",
                                    "avg_sales_$": "315.6335578282829",
                                    "world_avg_sales_$": "411.3464487919273",
                                    "difference": "-95.71289096370174"
                                },
                                {
                                    "country": "Ecuador",
                                    "avg_sales_$": "315.6070405465951",
                                    "world_avg_sales_$": "411.3464487919273",
                                    "difference": "-95.73940824538954"
                                },
                                {
                                    "country": "Japan",
                                    "avg_sales_$": "310.29120868786356",
                                    "world_avg_sales_$": "411.3464487919273",
                                    "difference": "-101.05524010412108"
                                },
                                {
                                    "country": "Israel",
                                    "avg_sales_$": "303.9400909498209",
                                    "world_avg_sales_$": "411.3464487919273",
                                    "difference": "-107.40635784216374"
                                },
                                {
                                    "country": "Maldives",
                                    "avg_sales_$": "302.45014999999995",
                                    "world_avg_sales_$": "411.3464487919273",
                                    "difference": "-108.89629879198469"
                                },
                                {
                                    "country": "Finland",
                                    "avg_sales_$": "302.0221568007663",
                                    "world_avg_sales_$": "411.3464487919273",
                                    "difference": "-109.32429199121833"
                                },
                                {
                                    "country": "Ireland",
                                    "avg_sales_$": "300.71188888888884",
                                    "world_avg_sales_$": "411.3464487919273",
                                    "difference": "-110.6345599030958"
                                },
                                {
                                    "country": "France",
                                    "avg_sales_$": "298.0482435185188",
                                    "world_avg_sales_$": "411.3464487919273",
                                    "difference": "-113.29820527346584"
                                },
                                {
                                    "country": "Iceland",
                                    "avg_sales_$": "293.93267024432754",
                                    "world_avg_sales_$": "411.3464487919273",
                                    "difference": "-117.4137785476571"
                                },
                                {
                                    "country": "Costa Rica",
                                    "avg_sales_$": "293.0100287962963",
                                    "world_avg_sales_$": "411.3464487919273",
                                    "difference": "-118.33641999568835"
                                },
                                {
                                    "country": "Cuba",
                                    "avg_sales_$": "289.8981267361113",
                                    "world_avg_sales_$": "411.3464487919273",
                                    "difference": "-121.44832205587335"
                                },
                                {
                                    "country": "Jamaica",
                                    "avg_sales_$": "283.969285130719",
                                    "world_avg_sales_$": "411.3464487919273",
                                    "difference": "-127.37716366126563"
                                },
                                {
                                    "country": "Denmark",
                                    "avg_sales_$": "283.59735732323253",
                                    "world_avg_sales_$": "411.3464487919273",
                                    "difference": "-127.74909146875211"
                                },
                                {
                                    "country": "Estonia",
                                    "avg_sales_$": "281.0824992063494",
                                    "world_avg_sales_$": "411.3464487919273",
                                    "difference": "-130.26394958563526"
                                },
                                {
                                    "country": "Italy",
                                    "avg_sales_$": "280.3155600358424",
                                    "world_avg_sales_$": "411.3464487919273",
                                    "difference": "-131.03088875614225"
                                },
                                {
                                    "country": "Czech Republic",
                                    "avg_sales_$": "267.7926708074536",
                                    "world_avg_sales_$": "411.3464487919273",
                                    "difference": "-143.55377798453105"
                                },
                                {
                                    "country": "Croatia",
                                    "avg_sales_$": "264.8061446564887",
                                    "world_avg_sales_$": "411.3464487919273",
                                    "difference": "-146.54030413549594"
                                },
                                {
                                    "country": "Cyprus",
                                    "avg_sales_$": "263.6499398313026",
                                    "world_avg_sales_$": "411.3464487919273",
                                    "difference": "-147.69650896068202"
                                },
                                {
                                    "country": "Dominica",
                                    "avg_sales_$": "260.3209583333333",
                                    "world_avg_sales_$": "411.3464487919273",
                                    "difference": "-151.02549045865135"
                                },
                                {
                                    "country": "Fiji",
                                    "avg_sales_$": "235.3667234848486",
                                    "world_avg_sales_$": "411.3464487919273",
                                    "difference": "-175.97972530713605"
                                },
                                {
                                    "country": "Russia",
                                    "avg_sales_$": "158.07299999999998",
                                    "world_avg_sales_$": "411.3464487919273",
                                    "difference": "-253.27344879198466"
                                }
                            ]
                        },
                        "text/html": [
                            "<table>",
                            "<tr><th>country</th><th>avg_sales_$</th><th>world_avg_sales_$</th><th>difference</th></tr>",
                            "<tr><td>Turkey</td><td>557.5280158730159</td><td>411.3464487919273</td><td>146.18156708103123</td></tr>",
                            "<tr><td>Norway</td><td>523.052726851852</td><td>411.3464487919273</td><td>111.70627805986732</td></tr>",
                            "<tr><td>Qatar</td><td>519.2086891385765</td><td>411.3464487919273</td><td>107.86224034659182</td></tr>",
                            "<tr><td>Nicaragua</td><td>516.7759722222224</td><td>411.3464487919273</td><td>105.4295234302378</td></tr>",
                            "<tr><td>Slovenia</td><td>516.1550165453342</td><td>411.3464487919273</td><td>104.80856775334956</td></tr>",
                            "<tr><td>Suriname</td><td>514.7100248015875</td><td>411.3464487919273</td><td>103.36357600960281</td></tr>",
                            "<tr><td>Russian Federation</td><td>508.74873971193404</td><td>411.3464487919273</td><td>97.4022909199494</td></tr>",
                            "<tr><td>United States</td><td>507.6182787987449</td><td>411.3464487919273</td><td>96.27183000676024</td></tr>",
                            "<tr><td>Sri Lanka</td><td>499.89684343434374</td><td>411.3464487919273</td><td>88.5503946423591</td></tr>",
                            "<tr><td>Montenegro</td><td>496.5432638888891</td><td>411.3464487919273</td><td>85.19681509690446</td></tr>",
                            "<tr><td>Turkmenistan</td><td>494.5864846743292</td><td>411.3464487919273</td><td>83.24003588234456</td></tr>",
                            "<tr><td>Spain</td><td>493.9867652329743</td><td>411.3464487919273</td><td>82.64031644098964</td></tr>",
                            "<tr><td>Thailand</td><td>491.4376546906189</td><td>411.3464487919273</td><td>80.09120589863426</td></tr>",
                            "<tr><td>Portugal</td><td>491.3989609053497</td><td>411.3464487919273</td><td>80.05251211336508</td></tr>",
                            "<tr><td>Slovakia</td><td>488.97040404040354</td><td>411.3464487919273</td><td>77.6239552484189</td></tr>",
                            "<tr><td>Oman</td><td>488.639675925926</td><td>411.3464487919273</td><td>77.29322713394134</td></tr>",
                            "<tr><td>Puerto Rico</td><td>488.19730286738354</td><td>411.3464487919273</td><td>76.8508540753989</td></tr>",
                            "<tr><td>South Africa</td><td>485.7620722222221</td><td>411.3464487919273</td><td>74.41562343023747</td></tr>",
                            "<tr><td>Austria</td><td>484.8404418474198</td><td>411.3464487919273</td><td>73.49399305543517</td></tr>",
                            "<tr><td>Philippines</td><td>484.0119184430032</td><td>411.3464487919273</td><td>72.66546965101855</td></tr>",
                            "<tr><td>Trinidad and Tobago</td><td>483.65241255144014</td><td>411.3464487919273</td><td>72.3059637594555</td></tr>",
                            "<tr><td>Netherlands</td><td>482.8201614310642</td><td>411.3464487919273</td><td>71.47371263907957</td></tr>",
                            "<tr><td>United Kingdom</td><td>479.2334677419351</td><td>411.3464487919273</td><td>67.88701894995046</td></tr>",
                            "<tr><td>Seychelles</td><td>478.6076157407402</td><td>411.3464487919273</td><td>67.26116694875554</td></tr>",
                            "<tr><td>Poland</td><td>476.7794155092592</td><td>411.3464487919273</td><td>65.43296671727455</td></tr>",
                            "<tr><td>Republic of Korea</td><td>476.52279569892477</td><td>411.3464487919273</td><td>65.17634690694013</td></tr>",
                            "<tr><td>Singapore</td><td>476.00471326164876</td><td>411.3464487919273</td><td>64.65826446966412</td></tr>",
                            "<tr><td>Saint Lucia</td><td>473.01877480158794</td><td>411.3464487919273</td><td>61.672326009603296</td></tr>",
                            "<tr><td>Switzerland</td><td>470.32594576719566</td><td>411.3464487919273</td><td>58.97949697521102</td></tr>",
                            "<tr><td>Sweden</td><td>468.7878491620112</td><td>411.3464487919273</td><td>57.44140037002654</td></tr>",
                            "<tr><td>Romania</td><td>465.90620758482976</td><td>411.3464487919273</td><td>54.559758792845116</td></tr>",
                            "<tr><td>Mexico</td><td>463.6403091397844</td><td>411.3464487919273</td><td>52.29386034779975</td></tr>",
                            "<tr><td>Panama</td><td>459.670783333333</td><td>411.3464487919273</td><td>48.32433454134838</td></tr>",
                            "<tr><td>Aruba</td><td>456.80099574829944</td><td>411.3464487919273</td><td>45.4545469563148</td></tr>",
                            "<tr><td>Paraguay</td><td>456.6653549382711</td><td>411.3464487919273</td><td>45.31890614628645</td></tr>",
                            "<tr><td>Azerbaijan</td><td>454.25884523809526</td><td>411.3464487919273</td><td>42.91239644611062</td></tr>",
                            "<tr><td>San Marino</td><td>453.7129166666667</td><td>411.3464487919273</td><td>42.36646787468203</td></tr>",
                            "<tr><td>Bahrain</td><td>453.6934141156462</td><td>411.3464487919273</td><td>42.34696532366155</td></tr>",
                            "<tr><td>Australia</td><td>452.21276388888873</td><td>411.3464487919273</td><td>40.86631509690409</td></tr>",
                            "<tr><td>Belarus</td><td>449.87110380034017</td><td>411.3464487919273</td><td>38.52465500835552</td></tr>",
                            "<tr><td>Uruguay</td><td>445.75226190476235</td><td>411.3464487919273</td><td>34.40581311277771</td></tr>",
                            "<tr><td>Bahamas</td><td>444.17055890269114</td><td>411.3464487919273</td><td>32.8241101107065</td></tr>",
                            "<tr><td>Belgium</td><td>443.28777672811026</td><td>411.3464487919273</td><td>31.941327936125617</td></tr>",
                            "<tr><td>Canada</td><td>442.65618760262726</td><td>411.3464487919273</td><td>31.309738810642614</td></tr>",
                            "<tr><td>Uzbekistan</td><td>442.10210858585873</td><td>411.3464487919273</td><td>30.755659793874088</td></tr>",
                            "<tr><td>Albania</td><td>441.9448967532468</td><td>411.3464487919273</td><td>30.59844796126214</td></tr>",
                            "<tr><td>Armenia</td><td>440.19017617449674</td><td>411.3464487919273</td><td>28.8437273825121</td></tr>",
                            "<tr><td>Argentina</td><td>438.04790349596567</td><td>411.3464487919273</td><td>26.701454703981028</td></tr>",
                            "<tr><td>Serbia</td><td>435.5340663580239</td><td>411.3464487919273</td><td>24.18761756603925</td></tr>",
                            "<tr><td>Barbados</td><td>435.4510635540732</td><td>411.3464487919273</td><td>24.104614762088545</td></tr>",
                            "<tr><td>Cabo Verde</td><td>435.2627619047618</td><td>411.3464487919273</td><td>23.916313112777175</td></tr>",
                            "<tr><td>Saint Vincent and Grenadines</td><td>434.78885555555553</td><td>411.3464487919273</td><td>23.442406763570887</td></tr>",
                            "<tr><td>Brazil</td><td>433.91674350998466</td><td>411.3464487919273</td><td>22.570294718000014</td></tr>",
                            "<tr><td>United Arab Emirates</td><td>432.02942129629633</td><td>411.3464487919273</td><td>20.682972504311692</td></tr>",
                            "<tr><td>New Zealand</td><td>429.9043726053637</td><td>411.3464487919273</td><td>18.557923813379034</td></tr>",
                            "<tr><td>Belize</td><td>429.09485875850316</td><td>411.3464487919273</td><td>17.748409966518523</td></tr>",
                            "<tr><td>Ukraine</td><td>426.86389880952385</td><td>411.3464487919273</td><td>15.517450017539204</td></tr>",
                            "<tr><td>Bulgaria</td><td>423.9110947619049</td><td>411.3464487919273</td><td>12.564645969920264</td></tr>",
                            "<tr><td>Mauritius</td><td>415.15865183246063</td><td>411.3464487919273</td><td>3.8122030404759926</td></tr>",
                            "<tr><td>Antigua and Barbuda</td><td>413.1532949294536</td><td>411.3464487919273</td><td>1.8068461374689377</td></tr>",
                            "<tr><td>Kiribati</td><td>408.5229380050506</td><td>411.3464487919273</td><td>-2.823510786934037</td></tr>",
                            "<tr><td>Saint Kitts and Nevis</td><td>404.76092592592613</td><td>411.3464487919273</td><td>-6.585522866058511</td></tr>",
                            "<tr><td>Macau</td><td>392.2609444444445</td><td>411.3464487919273</td><td>-19.085504347540166</td></tr>",
                            "<tr><td>Luxembourg</td><td>389.69462051971334</td><td>411.3464487919273</td><td>-21.651828272271302</td></tr>",
                            "<tr><td>Chile</td><td>383.37242826420896</td><td>411.3464487919273</td><td>-27.97402052777568</td></tr>",
                            "<tr><td>Malta</td><td>380.46536003584214</td><td>411.3464487919273</td><td>-30.881088756142503</td></tr>",
                            "<tr><td>Guatemala</td><td>375.480097962963</td><td>411.3464487919273</td><td>-35.866350829021655</td></tr>",
                            "<tr><td>Guyana</td><td>374.2684036687043</td><td>411.3464487919273</td><td>-37.07804512328033</td></tr>",
                            "<tr><td>Kuwait</td><td>371.2597663888891</td><td>411.3464487919273</td><td>-40.08668240309555</td></tr>",
                            "<tr><td>Mongolia</td><td>367.25416666666666</td><td>411.3464487919273</td><td>-44.09228212531798</td></tr>",
                            "<tr><td>Grenada</td><td>364.44311413978465</td><td>411.3464487919273</td><td>-46.90333465219999</td></tr>",
                            "<tr><td>Lithuania</td><td>364.33288804071265</td><td>411.3464487919273</td><td>-47.013560751271996</td></tr>",
                            "<tr><td>Latvia</td><td>363.8060847121113</td><td>411.3464487919273</td><td>-47.540364079873314</td></tr>",
                            "<tr><td>Bosnia and Herzegovina</td><td>360.10494047619056</td><td>411.3464487919273</td><td>-51.24150831579408</td></tr>",
                            "<tr><td>Kyrgyzstan</td><td>356.13365592948725</td><td>411.3464487919273</td><td>-55.212792862497395</td></tr>",
                            "<tr><td>Greece</td><td>349.9609629928313</td><td>411.3464487919273</td><td>-61.385485799153344</td></tr>",
                            "<tr><td>El Salvador</td><td>343.59969236111124</td><td>411.3464487919273</td><td>-67.7467564308734</td></tr>",
                            "<tr><td>Kazakhstan</td><td>342.44973504273514</td><td>411.3464487919273</td><td>-68.8967137492495</td></tr>",
                            "<tr><td>Hungary</td><td>341.2020269892473</td><td>411.3464487919273</td><td>-70.14442180273733</td></tr>",
                            "<tr><td>Colombia</td><td>327.5490758552109</td><td>411.3464487919273</td><td>-83.79737293677374</td></tr>",
                            "<tr><td>Germany</td><td>321.2233667735043</td><td>411.3464487919273</td><td>-90.12308201848032</td></tr>",
                            "<tr><td>Georgia</td><td>315.6335578282829</td><td>411.3464487919273</td><td>-95.71289096370174</td></tr>",
                            "<tr><td>Ecuador</td><td>315.6070405465951</td><td>411.3464487919273</td><td>-95.73940824538954</td></tr>",
                            "<tr><td>Japan</td><td>310.29120868786356</td><td>411.3464487919273</td><td>-101.05524010412108</td></tr>",
                            "<tr><td>Israel</td><td>303.9400909498209</td><td>411.3464487919273</td><td>-107.40635784216374</td></tr>",
                            "<tr><td>Maldives</td><td>302.45014999999995</td><td>411.3464487919273</td><td>-108.89629879198469</td></tr>",
                            "<tr><td>Finland</td><td>302.0221568007663</td><td>411.3464487919273</td><td>-109.32429199121833</td></tr>",
                            "<tr><td>Ireland</td><td>300.71188888888884</td><td>411.3464487919273</td><td>-110.6345599030958</td></tr>",
                            "<tr><td>France</td><td>298.0482435185188</td><td>411.3464487919273</td><td>-113.29820527346584</td></tr>",
                            "<tr><td>Iceland</td><td>293.93267024432754</td><td>411.3464487919273</td><td>-117.4137785476571</td></tr>",
                            "<tr><td>Costa Rica</td><td>293.0100287962963</td><td>411.3464487919273</td><td>-118.33641999568835</td></tr>",
                            "<tr><td>Cuba</td><td>289.8981267361113</td><td>411.3464487919273</td><td>-121.44832205587335</td></tr>",
                            "<tr><td>Jamaica</td><td>283.969285130719</td><td>411.3464487919273</td><td>-127.37716366126563</td></tr>",
                            "<tr><td>Denmark</td><td>283.59735732323253</td><td>411.3464487919273</td><td>-127.74909146875211</td></tr>",
                            "<tr><td>Estonia</td><td>281.0824992063494</td><td>411.3464487919273</td><td>-130.26394958563526</td></tr>",
                            "<tr><td>Italy</td><td>280.3155600358424</td><td>411.3464487919273</td><td>-131.03088875614225</td></tr>",
                            "<tr><td>Czech Republic</td><td>267.7926708074536</td><td>411.3464487919273</td><td>-143.55377798453105</td></tr>",
                            "<tr><td>Croatia</td><td>264.8061446564887</td><td>411.3464487919273</td><td>-146.54030413549594</td></tr>",
                            "<tr><td>Cyprus</td><td>263.6499398313026</td><td>411.3464487919273</td><td>-147.69650896068202</td></tr>",
                            "<tr><td>Dominica</td><td>260.3209583333333</td><td>411.3464487919273</td><td>-151.02549045865135</td></tr>",
                            "<tr><td>Fiji</td><td>235.3667234848486</td><td>411.3464487919273</td><td>-175.97972530713605</td></tr>",
                            "<tr><td>Russia</td><td>158.07299999999998</td><td>411.3464487919273</td><td>-253.27344879198466</td></tr>",
                            "</table>"
                        ]
                    }
                }
            ],
            "execution_count": 4
        },
        {
            "cell_type": "markdown",
            "source": [
                "Turkey has the largest positive difference in average $ per sale with $146/sale greater than the worldwide average. In contrast, Russia has the largest negative difference with $253/sale less than the world average.\n",
                "\n",
                "We'll now look at returns of purchased items for each country."
            ],
            "metadata": {
                "language": "sql",
                "azdata_cell_guid": "20484698-456f-43a3-bdf6-ec1993d9be7f"
            },
            "attachments": {}
        },
        {
            "cell_type": "code",
            "source": [
                "-- CTE for value of sales returned\n",
                "WITH returned_$ AS (\n",
                "    SELECT country,\n",
                "        -- Sum of total dollars returned\n",
                "        SUM(Returned_Amount) AS returned_amount_$,\n",
                "        -- Percentage of dollars returned over dollars sold\n",
                "        -- Sales column doesn't include amount for returned items\n",
                "        SUM(Returned_Amount) / (SUM(Sales) + SUM(Returned_Amount)) AS pct_$_returned\n",
                "    From logs\n",
                "    GROUP BY country),\n",
                "\n",
                "-- CTE for number of sales returned\n",
                "returned_orders AS (\n",
                "    SELECT t1.country, \n",
                "        -- counting all rows (number of transactions)\n",
                "        COUNT(*) AS sales_transaction,\n",
                "        -- counting number of order returns \n",
                "        COUNT(t2.Returned) AS orders_returned,\n",
                "        -- calculating percentage of orders that were returned\n",
                "        1.0 * COUNT(t2.Returned) / COUNT(*) AS pct_orders_returned\n",
                "    FROM logs as t1\n",
                "    LEFT JOIN (SELECT duration_seconds, ip, country, Returned\n",
                "    FROM logs \n",
                "    WHERE Returned = 'Yes') AS t2\n",
                "    ON t1.duration_seconds = t2.duration_seconds\n",
                "    AND t1.ip = t2.ip\n",
                "    GROUP BY t1.country)\n",
                "\n",
                "-- final query with percent of orders returned and percent of sales refunded\n",
                "SELECT TOP 5 CTE1.country, pct_orders_returned, pct_$_returned \n",
                "FROM returned_$ AS CTE1\n",
                "    INNER JOIN returned_orders AS CTE2\n",
                "    ON CTE1.country = CTE2.country \n",
                "ORDER BY pct_orders_returned DESC, pct_$_returned DESC;\n",
                "\n",
                ""
            ],
            "metadata": {
                "language": "sql",
                "azdata_cell_guid": "345b24ef-7116-47f8-b846-4d6430801a74",
                "tags": []
            },
            "outputs": [
                {
                    "output_type": "display_data",
                    "data": {
                        "text/html": "Warning: Null value is eliminated by an aggregate or other SET operation."
                    },
                    "metadata": {}
                },
                {
                    "output_type": "display_data",
                    "data": {
                        "text/html": "(5 rows affected)"
                    },
                    "metadata": {}
                },
                {
                    "output_type": "display_data",
                    "data": {
                        "text/html": "Total execution time: 00:00:00.507"
                    },
                    "metadata": {}
                },
                {
                    "output_type": "execute_result",
                    "metadata": {},
                    "execution_count": 14,
                    "data": {
                        "application/vnd.dataresource+json": {
                            "schema": {
                                "fields": [
                                    {
                                        "name": "country"
                                    },
                                    {
                                        "name": "pct_orders_returned"
                                    },
                                    {
                                        "name": "pct_$_returned"
                                    }
                                ]
                            },
                            "data": [
                                {
                                    "country": "Nicaragua",
                                    "pct_orders_returned": "0.212962962962",
                                    "pct_$_returned": "0.21179128180131437"
                                },
                                {
                                    "country": "Oman",
                                    "pct_orders_returned": "0.212962962962",
                                    "pct_$_returned": "0.15195254761361243"
                                },
                                {
                                    "country": "Montenegro",
                                    "pct_orders_returned": "0.190277777777",
                                    "pct_$_returned": "0.2197341784693777"
                                },
                                {
                                    "country": "Puerto Rico",
                                    "pct_orders_returned": "0.184139784946",
                                    "pct_$_returned": "0.15605512400495508"
                                },
                                {
                                    "country": "Poland",
                                    "pct_orders_returned": "0.182870370370",
                                    "pct_$_returned": "0.14169463345436817"
                                }
                            ]
                        },
                        "text/html": [
                            "<table>",
                            "<tr><th>country</th><th>pct_orders_returned</th><th>pct_$_returned</th></tr>",
                            "<tr><td>Nicaragua</td><td>0.212962962962</td><td>0.21179128180131437</td></tr>",
                            "<tr><td>Oman</td><td>0.212962962962</td><td>0.15195254761361243</td></tr>",
                            "<tr><td>Montenegro</td><td>0.190277777777</td><td>0.2197341784693777</td></tr>",
                            "<tr><td>Puerto Rico</td><td>0.184139784946</td><td>0.15605512400495508</td></tr>",
                            "<tr><td>Poland</td><td>0.182870370370</td><td>0.14169463345436817</td></tr>",
                            "</table>"
                        ]
                    }
                }
            ],
            "execution_count": 14
        },
        {
            "cell_type": "markdown",
            "source": [
                "Nicaragua and Oman have the highest percentage of orders returned at 21.3%. This represents a possible opportunity to increase revenue by making the return policy more strict to attempt to lower the number of returned orders. The affect that a stricter return policy would have on customer experience should also be taken into account though.\n",
                "\n",
                "We will next look at the number of returns for each language. This will help inform us of any language/communication issues thay may be causing a higher rate of purchase returns."
            ],
            "metadata": {
                "language": "sql",
                "azdata_cell_guid": "2196e6be-9f8b-4054-b701-d886c76d165f"
            },
            "attachments": {}
        },
        {
            "cell_type": "code",
            "source": [
                "SELECT TOP 5 t1.Languages, \n",
                "        -- calculating percentage of orders that were returned\n",
                "        ROUND((1.0 * COUNT(t2.Returned) / COUNT(*)), 2) AS pct_orders_returned\n",
                "FROM logs as t1\n",
                "LEFT JOIN (SELECT duration_seconds, ip, country, Returned\n",
                "FROM logs \n",
                "WHERE Returned = 'Yes') AS t2\n",
                "ON t1.duration_seconds = t2.duration_seconds\n",
                "AND t1.ip = t2.ip\n",
                "GROUP BY t1.Languages\n",
                "ORDER BY pct_orders_returned DESC;"
            ],
            "metadata": {
                "language": "sql",
                "azdata_cell_guid": "5a4c4188-7f38-49f6-bb67-9bd7f0522c7b",
                "tags": []
            },
            "outputs": [
                {
                    "output_type": "display_data",
                    "data": {
                        "text/html": "Warning: Null value is eliminated by an aggregate or other SET operation."
                    },
                    "metadata": {}
                },
                {
                    "output_type": "display_data",
                    "data": {
                        "text/html": "(5 rows affected)"
                    },
                    "metadata": {}
                },
                {
                    "output_type": "display_data",
                    "data": {
                        "text/html": "Total execution time: 00:00:00.122"
                    },
                    "metadata": {}
                },
                {
                    "output_type": "execute_result",
                    "metadata": {},
                    "execution_count": 28,
                    "data": {
                        "application/vnd.dataresource+json": {
                            "schema": {
                                "fields": [
                                    {
                                        "name": "Languages"
                                    },
                                    {
                                        "name": "pct_orders_returned"
                                    }
                                ]
                            },
                            "data": [
                                {
                                    "Languages": "marathi",
                                    "pct_orders_returned": "0.220000000000"
                                },
                                {
                                    "Languages": "kinyarwanda",
                                    "pct_orders_returned": "0.180000000000"
                                },
                                {
                                    "Languages": "romanian",
                                    "pct_orders_returned": "0.180000000000"
                                },
                                {
                                    "Languages": "Slovak",
                                    "pct_orders_returned": "0.170000000000"
                                },
                                {
                                    "Languages": "polish",
                                    "pct_orders_returned": "0.170000000000"
                                }
                            ]
                        },
                        "text/html": [
                            "<table>",
                            "<tr><th>Languages</th><th>pct_orders_returned</th></tr>",
                            "<tr><td>marathi</td><td>0.220000000000</td></tr>",
                            "<tr><td>kinyarwanda</td><td>0.180000000000</td></tr>",
                            "<tr><td>romanian</td><td>0.180000000000</td></tr>",
                            "<tr><td>Slovak</td><td>0.170000000000</td></tr>",
                            "<tr><td>polish</td><td>0.170000000000</td></tr>",
                            "</table>"
                        ]
                    }
                }
            ],
            "execution_count": 28
        },
        {
            "cell_type": "markdown",
            "source": [
                "Marathi, a language spoken in India, has the highest percentage for orders returned (4% above the second language). A statistical test should be performed to determine if this percentage is statistically significantly greater than the 2nd highest percentage. If it is, this indicates that resources should be spend on improving the website for that language to lower rate of sale returns."
            ],
            "metadata": {
                "language": "sql",
                "azdata_cell_guid": "206e9b51-03e9-4b25-8375-50280b3fbcaa"
            },
            "attachments": {}
        }
    ]
}