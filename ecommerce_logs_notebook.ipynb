{
    "metadata": {
        "kernelspec": {
            "name": "SQL",
            "display_name": "SQL",
            "language": "sql"
        },
        "language_info": {
            "name": "sql",
            "version": ""
        }
    },
    "nbformat_minor": 2,
    "nbformat": 4,
    "cells": [
        {
            "cell_type": "markdown",
            "source": [
                "# E-Commerce Logs Analysis"
            ],
            "metadata": {
                "azdata_cell_guid": "cce7de79-78e6-448d-b88a-861d37ad7a44"
            },
            "attachments": {}
        },
        {
            "cell_type": "markdown",
            "source": [
                "## Project Objective\n",
                "\n",
                "The objective of this project is to analyze the website logs from an e-commerce store to obtain useful insight into customer behaviour.\n",
                "\n",
                "## Data Source\n",
                "\n",
                "The dataset was obtained here: https://www.kaggle.com/datasets/kzmontage/e-commerce-website-logs and the data has an Open Database license: https://opendatacommons.org/licenses/odbl/1-0/"
            ],
            "metadata": {
                "azdata_cell_guid": "c2e6f405-dfb4-4d1c-a8fe-7148fd59953a"
            },
            "attachments": {}
        },
        {
            "cell_type": "code",
            "source": [
                "-- Specifying database\n",
                "USE EcommerceLogsDb"
            ],
            "metadata": {
                "azdata_cell_guid": "855c96a7-f115-471a-ad30-69427f6a634f",
                "language": "sql",
                "tags": []
            },
            "outputs": [
                {
                    "output_type": "display_data",
                    "data": {
                        "text/html": "Commands completed successfully."
                    },
                    "metadata": {}
                },
                {
                    "output_type": "display_data",
                    "data": {
                        "text/html": "Total execution time: 00:00:00.003"
                    },
                    "metadata": {}
                }
            ],
            "execution_count": 26
        },
        {
            "cell_type": "code",
            "source": [
                "-- preview of purchase logs table\n",
                "SELECT TOP 3*\n",
                "FROM logs;"
            ],
            "metadata": {
                "language": "sql",
                "azdata_cell_guid": "12533ff2-3c33-48d6-a287-410d9c91a3b9"
            },
            "outputs": [
                {
                    "output_type": "display_data",
                    "data": {
                        "text/html": "(3 rows affected)"
                    },
                    "metadata": {}
                },
                {
                    "output_type": "display_data",
                    "data": {
                        "text/html": "Total execution time: 00:00:00.008"
                    },
                    "metadata": {}
                },
                {
                    "output_type": "execute_result",
                    "metadata": {},
                    "execution_count": 27,
                    "data": {
                        "application/vnd.dataresource+json": {
                            "schema": {
                                "fields": [
                                    {
                                        "name": "access_date"
                                    },
                                    {
                                        "name": "duration_seconds"
                                    },
                                    {
                                        "name": "Proto"
                                    },
                                    {
                                        "name": "IP"
                                    },
                                    {
                                        "name": "Src_IP_type"
                                    },
                                    {
                                        "name": "Src_Pt"
                                    },
                                    {
                                        "name": "Bytes"
                                    },
                                    {
                                        "name": "Accessed_From"
                                    },
                                    {
                                        "name": "country"
                                    },
                                    {
                                        "name": "membership"
                                    },
                                    {
                                        "name": "Languages"
                                    },
                                    {
                                        "name": "Sales"
                                    },
                                    {
                                        "name": "Returned"
                                    },
                                    {
                                        "name": "Returned_Amount"
                                    }
                                ]
                            },
                            "data": [
                                {
                                    "access_date": "2016-11-01 09:58:00.0000000",
                                    "duration_seconds": "2533",
                                    "Proto": "TCP  ",
                                    "IP": "1.10.195.126",
                                    "Src_IP_type": "EXT_SERVER",
                                    "Src_Pt": "8082",
                                    "Bytes": "20100",
                                    "Accessed_From": "Chrome",
                                    "country": "Albania",
                                    "membership": "Normal",
                                    "Languages": "Albanian",
                                    "Sales": "261.96",
                                    "Returned": "No",
                                    "Returned_Amount": "0"
                                },
                                {
                                    "access_date": "2016-11-01 09:59:00.0000000",
                                    "duration_seconds": "4034",
                                    "Proto": "TCP  ",
                                    "IP": "1.1.217.211",
                                    "Src_IP_type": "OPENSTACK_NET",
                                    "Src_Pt": "56978",
                                    "Bytes": "20500",
                                    "Accessed_From": "Mozilla Firefox",
                                    "country": "Albania",
                                    "membership": "Normal",
                                    "Languages": "Albanian",
                                    "Sales": "731.94",
                                    "Returned": "No",
                                    "Returned_Amount": "0"
                                },
                                {
                                    "access_date": "2016-11-01 09:59:00.0000000",
                                    "duration_seconds": "1525",
                                    "Proto": "TCP  ",
                                    "IP": "1.115.198.107",
                                    "Src_IP_type": "EXT_SERVER",
                                    "Src_Pt": "8082",
                                    "Bytes": "90100",
                                    "Accessed_From": "Mozilla Firefox",
                                    "country": "Albania",
                                    "membership": "Normal",
                                    "Languages": "Albanian",
                                    "Sales": "14.62",
                                    "Returned": "No",
                                    "Returned_Amount": "0"
                                }
                            ]
                        },
                        "text/html": [
                            "<table>",
                            "<tr><th>access_date</th><th>duration_seconds</th><th>Proto</th><th>IP</th><th>Src_IP_type</th><th>Src_Pt</th><th>Bytes</th><th>Accessed_From</th><th>country</th><th>membership</th><th>Languages</th><th>Sales</th><th>Returned</th><th>Returned_Amount</th></tr>",
                            "<tr><td>2016-11-01 09:58:00.0000000</td><td>2533</td><td>TCP  </td><td>1.10.195.126</td><td>EXT_SERVER</td><td>8082</td><td>20100</td><td>Chrome</td><td>Albania</td><td>Normal</td><td>Albanian</td><td>261.96</td><td>No</td><td>0</td></tr>",
                            "<tr><td>2016-11-01 09:59:00.0000000</td><td>4034</td><td>TCP  </td><td>1.1.217.211</td><td>OPENSTACK_NET</td><td>56978</td><td>20500</td><td>Mozilla Firefox</td><td>Albania</td><td>Normal</td><td>Albanian</td><td>731.94</td><td>No</td><td>0</td></tr>",
                            "<tr><td>2016-11-01 09:59:00.0000000</td><td>1525</td><td>TCP  </td><td>1.115.198.107</td><td>EXT_SERVER</td><td>8082</td><td>90100</td><td>Mozilla Firefox</td><td>Albania</td><td>Normal</td><td>Albanian</td><td>14.62</td><td>No</td><td>0</td></tr>",
                            "</table>"
                        ]
                    }
                }
            ],
            "execution_count": 27
        },
        {
            "cell_type": "code",
            "source": [
                "-- Which country had the highest number of sales and highest value of sales (in $)?\n",
                "-- showing country percentiles for both metrics using window functions\n",
                "SELECT country, \n",
                "    COUNT(*) AS num_sales, \n",
                "    PERCENT_RANK() OVER(ORDER BY COUNT(*)) AS num_sales_percentile, \n",
                "    SUM(Sales) AS value_sales, \n",
                "    PERCENT_RANK() OVER(ORDER BY SUM(Sales)) AS value_sales_percentile\n",
                "FROM logs\n",
                "GROUP BY country\n",
                "ORDER BY value_sales DESC;"
            ],
            "metadata": {
                "language": "sql",
                "azdata_cell_guid": "619e9d8e-003e-48b9-9125-4614f279352d",
                "tags": []
            },
            "outputs": [
                {
                    "output_type": "display_data",
                    "data": {
                        "text/html": "(101 rows affected)"
                    },
                    "metadata": {}
                },
                {
                    "output_type": "display_data",
                    "data": {
                        "text/html": "Total execution time: 00:00:00.139"
                    },
                    "metadata": {}
                },
                {
                    "output_type": "execute_result",
                    "metadata": {},
                    "execution_count": 28,
                    "data": {
                        "application/vnd.dataresource+json": {
                            "schema": {
                                "fields": [
                                    {
                                        "name": "country"
                                    },
                                    {
                                        "name": "num_sales"
                                    },
                                    {
                                        "name": "num_sales_percentile"
                                    },
                                    {
                                        "name": "value_sales"
                                    },
                                    {
                                        "name": "value_sales_percentile"
                                    }
                                ]
                            },
                            "data": [
                                {
                                    "country": "Austria",
                                    "num_sales": "2674",
                                    "num_sales_percentile": "1",
                                    "value_sales": "1296463.3414999906",
                                    "value_sales_percentile": "1"
                                },
                                {
                                    "country": "Belgium",
                                    "num_sales": "2604",
                                    "num_sales_percentile": "0.97",
                                    "value_sales": "1154321.3705999977",
                                    "value_sales_percentile": "0.99"
                                },
                                {
                                    "country": "Argentina",
                                    "num_sales": "2603",
                                    "num_sales_percentile": "0.96",
                                    "value_sales": "1140238.6927999987",
                                    "value_sales_percentile": "0.98"
                                },
                                {
                                    "country": "Australia",
                                    "num_sales": "2520",
                                    "num_sales_percentile": "0.94",
                                    "value_sales": "1139576.1649999968",
                                    "value_sales_percentile": "0.97"
                                },
                                {
                                    "country": "United States",
                                    "num_sales": "2231",
                                    "num_sales_percentile": "0.73",
                                    "value_sales": "1132496.3800000001",
                                    "value_sales_percentile": "0.96"
                                },
                                {
                                    "country": "Brazil",
                                    "num_sales": "2604",
                                    "num_sales_percentile": "0.97",
                                    "value_sales": "1129919.2000999975",
                                    "value_sales_percentile": "0.95"
                                },
                                {
                                    "country": "Norway",
                                    "num_sales": "2160",
                                    "num_sales_percentile": "0.68",
                                    "value_sales": "1129793.889999999",
                                    "value_sales_percentile": "0.94"
                                },
                                {
                                    "country": "Netherlands",
                                    "num_sales": "2292",
                                    "num_sales_percentile": "0.88",
                                    "value_sales": "1106623.810000002",
                                    "value_sales_percentile": "0.93"
                                },
                                {
                                    "country": "Spain",
                                    "num_sales": "2232",
                                    "num_sales_percentile": "0.74",
                                    "value_sales": "1102578.460000004",
                                    "value_sales_percentile": "0.92"
                                },
                                {
                                    "country": "Puerto Rico",
                                    "num_sales": "2232",
                                    "num_sales_percentile": "0.74",
                                    "value_sales": "1089656.3800000006",
                                    "value_sales_percentile": "0.91"
                                },
                                {
                                    "country": "Canada",
                                    "num_sales": "2436",
                                    "num_sales_percentile": "0.92",
                                    "value_sales": "1078310.4730000005",
                                    "value_sales_percentile": "0.9"
                                },
                                {
                                    "country": "United Kingdom",
                                    "num_sales": "2232",
                                    "num_sales_percentile": "0.74",
                                    "value_sales": "1069649.1000000013",
                                    "value_sales_percentile": "0.89"
                                },
                                {
                                    "country": "Bulgaria",
                                    "num_sales": "2520",
                                    "num_sales_percentile": "0.94",
                                    "value_sales": "1068255.9588000018",
                                    "value_sales_percentile": "0.88"
                                },
                                {
                                    "country": "Republic of Korea",
                                    "num_sales": "2232",
                                    "num_sales_percentile": "0.74",
                                    "value_sales": "1063598.8800000008",
                                    "value_sales_percentile": "0.87"
                                },
                                {
                                    "country": "Singapore",
                                    "num_sales": "2232",
                                    "num_sales_percentile": "0.74",
                                    "value_sales": "1062442.5199999993",
                                    "value_sales_percentile": "0.86"
                                },
                                {
                                    "country": "Suriname",
                                    "num_sales": "2016",
                                    "num_sales_percentile": "0.58",
                                    "value_sales": "1037655.410000003",
                                    "value_sales_percentile": "0.85"
                                },
                                {
                                    "country": "Mexico",
                                    "num_sales": "2232",
                                    "num_sales_percentile": "0.74",
                                    "value_sales": "1034845.1700000012",
                                    "value_sales_percentile": "0.84"
                                },
                                {
                                    "country": "Turkmenistan",
                                    "num_sales": "2088",
                                    "num_sales_percentile": "0.63",
                                    "value_sales": "1032696.5800000039",
                                    "value_sales_percentile": "0.83"
                                },
                                {
                                    "country": "Belize",
                                    "num_sales": "2352",
                                    "num_sales_percentile": "0.91",
                                    "value_sales": "1009231.1078000019",
                                    "value_sales_percentile": "0.82"
                                },
                                {
                                    "country": "Sweden",
                                    "num_sales": "2148",
                                    "num_sales_percentile": "0.67",
                                    "value_sales": "1006956.3000000026",
                                    "value_sales_percentile": "0.81"
                                },
                                {
                                    "country": "Chile",
                                    "num_sales": "2604",
                                    "num_sales_percentile": "0.97",
                                    "value_sales": "998301.8032000033",
                                    "value_sales_percentile": "0.8"
                                },
                                {
                                    "country": "Russia",
                                    "num_sales": "1952",
                                    "num_sales_percentile": "0.55",
                                    "value_sales": "990272.1340000018",
                                    "value_sales_percentile": "0.79"
                                },
                                {
                                    "country": "Thailand",
                                    "num_sales": "2004",
                                    "num_sales_percentile": "0.56",
                                    "value_sales": "984841.0600000018",
                                    "value_sales_percentile": "0.78"
                                },
                                {
                                    "country": "Portugal",
                                    "num_sales": "1944",
                                    "num_sales_percentile": "0.52",
                                    "value_sales": "955279.5800000016",
                                    "value_sales_percentile": "0.77"
                                },
                                {
                                    "country": "Saint Lucia",
                                    "num_sales": "2016",
                                    "num_sales_percentile": "0.58",
                                    "value_sales": "953605.8500000038",
                                    "value_sales_percentile": "0.76"
                                },
                                {
                                    "country": "Mauritius",
                                    "num_sales": "2292",
                                    "num_sales_percentile": "0.88",
                                    "value_sales": "951543.6300000029",
                                    "value_sales_percentile": "0.75"
                                },
                                {
                                    "country": "Trinidad and Tobago",
                                    "num_sales": "1944",
                                    "num_sales_percentile": "0.52",
                                    "value_sales": "940220.2900000017",
                                    "value_sales_percentile": "0.74"
                                },
                                {
                                    "country": "Antigua and Barbuda",
                                    "num_sales": "2268",
                                    "num_sales_percentile": "0.87",
                                    "value_sales": "937031.6729000005",
                                    "value_sales_percentile": "0.73"
                                },
                                {
                                    "country": "Romania",
                                    "num_sales": "2004",
                                    "num_sales_percentile": "0.56",
                                    "value_sales": "933676.0400000019",
                                    "value_sales_percentile": "0.72"
                                },
                                {
                                    "country": "Armenia",
                                    "num_sales": "2086",
                                    "num_sales_percentile": "0.62",
                                    "value_sales": "918236.707500002",
                                    "value_sales_percentile": "0.71"
                                },
                                {
                                    "country": "Barbados",
                                    "num_sales": "2099",
                                    "num_sales_percentile": "0.66",
                                    "value_sales": "914011.7824000027",
                                    "value_sales_percentile": "0.7"
                                },
                                {
                                    "country": "Uruguay",
                                    "num_sales": "2016",
                                    "num_sales_percentile": "0.58",
                                    "value_sales": "898636.5600000003",
                                    "value_sales_percentile": "0.69"
                                },
                                {
                                    "country": "New Zealand",
                                    "num_sales": "2088",
                                    "num_sales_percentile": "0.63",
                                    "value_sales": "897640.3300000007",
                                    "value_sales_percentile": "0.68"
                                },
                                {
                                    "country": "Paraguay",
                                    "num_sales": "1944",
                                    "num_sales_percentile": "0.52",
                                    "value_sales": "887757.4500000015",
                                    "value_sales_percentile": "0.67"
                                },
                                {
                                    "country": "Luxembourg",
                                    "num_sales": "2232",
                                    "num_sales_percentile": "0.74",
                                    "value_sales": "869798.3930000014",
                                    "value_sales_percentile": "0.66"
                                },
                                {
                                    "country": "Ukraine",
                                    "num_sales": "2016",
                                    "num_sales_percentile": "0.58",
                                    "value_sales": "860557.6200000015",
                                    "value_sales_percentile": "0.65"
                                },
                                {
                                    "country": "Bahamas",
                                    "num_sales": "1932",
                                    "num_sales_percentile": "0.5",
                                    "value_sales": "858137.5198000026",
                                    "value_sales_percentile": "0.64"
                                },
                                {
                                    "country": "Malta",
                                    "num_sales": "2232",
                                    "num_sales_percentile": "0.74",
                                    "value_sales": "849198.6836000021",
                                    "value_sales_percentile": "0.63"
                                },
                                {
                                    "country": "Panama",
                                    "num_sales": "1800",
                                    "num_sales_percentile": "0.41",
                                    "value_sales": "827407.4100000006",
                                    "value_sales_percentile": "0.62"
                                },
                                {
                                    "country": "Poland",
                                    "num_sales": "1728",
                                    "num_sales_percentile": "0.35",
                                    "value_sales": "823874.8300000004",
                                    "value_sales_percentile": "0.61"
                                },
                                {
                                    "country": "Colombia",
                                    "num_sales": "2514",
                                    "num_sales_percentile": "0.93",
                                    "value_sales": "823458.3767000027",
                                    "value_sales_percentile": "0.6"
                                },
                                {
                                    "country": "Albania",
                                    "num_sales": "1848",
                                    "num_sales_percentile": "0.44",
                                    "value_sales": "816714.1692000002",
                                    "value_sales_percentile": "0.59"
                                },
                                {
                                    "country": "Guatemala",
                                    "num_sales": "2160",
                                    "num_sales_percentile": "0.68",
                                    "value_sales": "811037.0116000031",
                                    "value_sales_percentile": "0.58"
                                },
                                {
                                    "country": "Bahrain",
                                    "num_sales": "1764",
                                    "num_sales_percentile": "0.39",
                                    "value_sales": "800315.182500001",
                                    "value_sales_percentile": "0.57"
                                },
                                {
                                    "country": "Belarus",
                                    "num_sales": "1763",
                                    "num_sales_percentile": "0.38",
                                    "value_sales": "793122.7560000019",
                                    "value_sales_percentile": "0.56"
                                },
                                {
                                    "country": "Saint Vincent and Grenadines",
                                    "num_sales": "1800",
                                    "num_sales_percentile": "0.41",
                                    "value_sales": "782619.9400000017",
                                    "value_sales_percentile": "0.55"
                                },
                                {
                                    "country": "Greece",
                                    "num_sales": "2232",
                                    "num_sales_percentile": "0.74",
                                    "value_sales": "781112.8694000007",
                                    "value_sales_percentile": "0.54"
                                },
                                {
                                    "country": "Slovenia",
                                    "num_sales": "1511",
                                    "num_sales_percentile": "0.25",
                                    "value_sales": "779910.2300000001",
                                    "value_sales_percentile": "0.53"
                                },
                                {
                                    "country": "Slovakia",
                                    "num_sales": "1584",
                                    "num_sales_percentile": "0.31",
                                    "value_sales": "774529.1199999993",
                                    "value_sales_percentile": "0.52"
                                },
                                {
                                    "country": "Switzerland",
                                    "num_sales": "1512",
                                    "num_sales_percentile": "0.27",
                                    "value_sales": "711132.8300000015",
                                    "value_sales_percentile": "0.51"
                                },
                                {
                                    "country": "Ecuador",
                                    "num_sales": "2232",
                                    "num_sales_percentile": "0.74",
                                    "value_sales": "704434.9145000005",
                                    "value_sales_percentile": "0.5"
                                },
                                {
                                    "country": "Uzbekistan",
                                    "num_sales": "1584",
                                    "num_sales_percentile": "0.31",
                                    "value_sales": "700289.7400000006",
                                    "value_sales_percentile": "0.49"
                                },
                                {
                                    "country": "South Africa",
                                    "num_sales": "1440",
                                    "num_sales_percentile": "0.24",
                                    "value_sales": "699497.384000001",
                                    "value_sales_percentile": "0.48"
                                },
                                {
                                    "country": "Japan",
                                    "num_sales": "2233",
                                    "num_sales_percentile": "0.86",
                                    "value_sales": "692880.2690000008",
                                    "value_sales_percentile": "0.47"
                                },
                                {
                                    "country": "Israel",
                                    "num_sales": "2232",
                                    "num_sales_percentile": "0.74",
                                    "value_sales": "678394.283000001",
                                    "value_sales_percentile": "0.46"
                                },
                                {
                                    "country": "Grenada",
                                    "num_sales": "1860",
                                    "num_sales_percentile": "0.45",
                                    "value_sales": "677864.1923000009",
                                    "value_sales_percentile": "0.45"
                                },
                                {
                                    "country": "Iceland",
                                    "num_sales": "2292",
                                    "num_sales_percentile": "0.88",
                                    "value_sales": "673693.6802000001",
                                    "value_sales_percentile": "0.44"
                                },
                                {
                                    "country": "Guyana",
                                    "num_sales": "1799",
                                    "num_sales_percentile": "0.4",
                                    "value_sales": "673308.8582000005",
                                    "value_sales_percentile": "0.43"
                                },
                                {
                                    "country": "Kuwait",
                                    "num_sales": "1800",
                                    "num_sales_percentile": "0.41",
                                    "value_sales": "668267.5795000002",
                                    "value_sales_percentile": "0.42"
                                },
                                {
                                    "country": "Kyrgyzstan",
                                    "num_sales": "1872",
                                    "num_sales_percentile": "0.47",
                                    "value_sales": "666682.2039000005",
                                    "value_sales_percentile": "0.41"
                                },
                                {
                                    "country": "Ireland",
                                    "num_sales": "2160",
                                    "num_sales_percentile": "0.68",
                                    "value_sales": "649537.6800000011",
                                    "value_sales_percentile": "0.4"
                                },
                                {
                                    "country": "France",
                                    "num_sales": "2160",
                                    "num_sales_percentile": "0.68",
                                    "value_sales": "643784.2059999998",
                                    "value_sales_percentile": "0.39"
                                },
                                {
                                    "country": "Kazakhstan",
                                    "num_sales": "1872",
                                    "num_sales_percentile": "0.47",
                                    "value_sales": "641065.9040000006",
                                    "value_sales_percentile": "0.38"
                                },
                                {
                                    "country": "Hungary",
                                    "num_sales": "1860",
                                    "num_sales_percentile": "0.45",
                                    "value_sales": "634635.7702",
                                    "value_sales_percentile": "0.37"
                                },
                                {
                                    "country": "Costa Rica",
                                    "num_sales": "2160",
                                    "num_sales_percentile": "0.68",
                                    "value_sales": "632901.6622000004",
                                    "value_sales_percentile": "0.36"
                                },
                                {
                                    "country": "Finland",
                                    "num_sales": "2088",
                                    "num_sales_percentile": "0.63",
                                    "value_sales": "630622.2634000012",
                                    "value_sales_percentile": "0.35"
                                },
                                {
                                    "country": "Italy",
                                    "num_sales": "2232",
                                    "num_sales_percentile": "0.74",
                                    "value_sales": "625664.3300000008",
                                    "value_sales_percentile": "0.34"
                                },
                                {
                                    "country": "Seychelles",
                                    "num_sales": "1296",
                                    "num_sales_percentile": "0.21",
                                    "value_sales": "620275.4700000003",
                                    "value_sales_percentile": "0.33"
                                },
                                {
                                    "country": "Azerbaijan",
                                    "num_sales": "1344",
                                    "num_sales_percentile": "0.23",
                                    "value_sales": "610523.8879999998",
                                    "value_sales_percentile": "0.32"
                                },
                                {
                                    "country": "Germany",
                                    "num_sales": "1872",
                                    "num_sales_percentile": "0.47",
                                    "value_sales": "601330.1426000008",
                                    "value_sales_percentile": "0.31"
                                },
                                {
                                    "country": "El Salvador",
                                    "num_sales": "1728",
                                    "num_sales_percentile": "0.35",
                                    "value_sales": "593740.2684",
                                    "value_sales_percentile": "0.3"
                                },
                                {
                                    "country": "Lithuania",
                                    "num_sales": "1572",
                                    "num_sales_percentile": "0.29",
                                    "value_sales": "572731.2999999988",
                                    "value_sales_percentile": "0.29"
                                },
                                {
                                    "country": "Serbia",
                                    "num_sales": "1296",
                                    "num_sales_percentile": "0.21",
                                    "value_sales": "564452.1499999986",
                                    "value_sales_percentile": "0.28"
                                },
                                {
                                    "country": "Qatar",
                                    "num_sales": "1068",
                                    "num_sales_percentile": "0.17",
                                    "value_sales": "554514.8799999999",
                                    "value_sales_percentile": "0.27"
                                },
                                {
                                    "country": "Latvia",
                                    "num_sales": "1511",
                                    "num_sales_percentile": "0.25",
                                    "value_sales": "549710.9939999995",
                                    "value_sales_percentile": "0.26"
                                },
                                {
                                    "country": "Aruba",
                                    "num_sales": "1176",
                                    "num_sales_percentile": "0.19",
                                    "value_sales": "537197.9709999991",
                                    "value_sales_percentile": "0.25"
                                },
                                {
                                    "country": "Philippines",
                                    "num_sales": "1079",
                                    "num_sales_percentile": "0.18",
                                    "value_sales": "522248.86000000004",
                                    "value_sales_percentile": "0.24"
                                },
                                {
                                    "country": "Czech Republic",
                                    "num_sales": "1932",
                                    "num_sales_percentile": "0.5",
                                    "value_sales": "517375.4399999993",
                                    "value_sales_percentile": "0.23"
                                },
                                {
                                    "country": "Cuba",
                                    "num_sales": "1728",
                                    "num_sales_percentile": "0.35",
                                    "value_sales": "500943.9629999991",
                                    "value_sales_percentile": "0.22"
                                },
                                {
                                    "country": "Georgia",
                                    "num_sales": "1584",
                                    "num_sales_percentile": "0.31",
                                    "value_sales": "499963.55559999857",
                                    "value_sales_percentile": "0.21"
                                },
                                {
                                    "country": "Denmark",
                                    "num_sales": "1584",
                                    "num_sales_percentile": "0.31",
                                    "value_sales": "449218.213999999",
                                    "value_sales_percentile": "0.2"
                                },
                                {
                                    "country": "Estonia",
                                    "num_sales": "1512",
                                    "num_sales_percentile": "0.27",
                                    "value_sales": "424996.7387999989",
                                    "value_sales_percentile": "0.19"
                                },
                                {
                                    "country": "Croatia",
                                    "num_sales": "1572",
                                    "num_sales_percentile": "0.29",
                                    "value_sales": "416275.25939999963",
                                    "value_sales_percentile": "0.18"
                                },
                                {
                                    "country": "Sri Lanka",
                                    "num_sales": "792",
                                    "num_sales_percentile": "0.13",
                                    "value_sales": "395918.2999999992",
                                    "value_sales_percentile": "0.17"
                                },
                                {
                                    "country": "Montenegro",
                                    "num_sales": "720",
                                    "num_sales_percentile": "0.11",
                                    "value_sales": "357511.14999999985",
                                    "value_sales_percentile": "0.16"
                                },
                                {
                                    "country": "Jamaica",
                                    "num_sales": "1224",
                                    "num_sales_percentile": "0.2",
                                    "value_sales": "347578.4049999999",
                                    "value_sales_percentile": "0.15"
                                },
                                {
                                    "country": "Kiribati",
                                    "num_sales": "792",
                                    "num_sales_percentile": "0.13",
                                    "value_sales": "323550.16689999966",
                                    "value_sales_percentile": "0.14"
                                },
                                {
                                    "country": "Cyprus",
                                    "num_sales": "1067",
                                    "num_sales_percentile": "0.16",
                                    "value_sales": "281314.48579999973",
                                    "value_sales_percentile": "0.13"
                                },
                                {
                                    "country": "Turkey",
                                    "num_sales": "504",
                                    "num_sales_percentile": "0.1",
                                    "value_sales": "280994.1200000001",
                                    "value_sales_percentile": "0.12"
                                },
                                {
                                    "country": "Nicaragua",
                                    "num_sales": "432",
                                    "num_sales_percentile": "0.08",
                                    "value_sales": "223247.22000000006",
                                    "value_sales_percentile": "0.11"
                                },
                                {
                                    "country": "Maldives",
                                    "num_sales": "720",
                                    "num_sales_percentile": "0.11",
                                    "value_sales": "217764.10799999998",
                                    "value_sales_percentile": "0.1"
                                },
                                {
                                    "country": "United Arab Emirates",
                                    "num_sales": "432",
                                    "num_sales_percentile": "0.08",
                                    "value_sales": "186636.71000000022",
                                    "value_sales_percentile": "0.09"
                                },
                                {
                                    "country": "Fiji",
                                    "num_sales": "792",
                                    "num_sales_percentile": "0.13",
                                    "value_sales": "186410.44499999998",
                                    "value_sales_percentile": "0.08"
                                },
                                {
                                    "country": "Oman",
                                    "num_sales": "216",
                                    "num_sales_percentile": "0.05",
                                    "value_sales": "105546.17000000007",
                                    "value_sales_percentile": "0.07"
                                },
                                {
                                    "country": "San Marino",
                                    "num_sales": "216",
                                    "num_sales_percentile": "0.05",
                                    "value_sales": "98001.99000000008",
                                    "value_sales_percentile": "0.06"
                                },
                                {
                                    "country": "Saint Kitts and Nevis",
                                    "num_sales": "216",
                                    "num_sales_percentile": "0.05",
                                    "value_sales": "87428.36000000006",
                                    "value_sales_percentile": "0.05"
                                },
                                {
                                    "country": "Bosnia and Herzegovina",
                                    "num_sales": "168",
                                    "num_sales_percentile": "0.04",
                                    "value_sales": "60497.63000000005",
                                    "value_sales_percentile": "0.04"
                                },
                                {
                                    "country": "Cabo Verde",
                                    "num_sales": "84",
                                    "num_sales_percentile": "0.03",
                                    "value_sales": "36562.07199999999",
                                    "value_sales_percentile": "0.03"
                                },
                                {
                                    "country": "Macau",
                                    "num_sales": "72",
                                    "num_sales_percentile": "0.01",
                                    "value_sales": "28242.788",
                                    "value_sales_percentile": "0.02"
                                },
                                {
                                    "country": "Mongolia",
                                    "num_sales": "60",
                                    "num_sales_percentile": "0",
                                    "value_sales": "22035.249999999985",
                                    "value_sales_percentile": "0.01"
                                },
                                {
                                    "country": "Dominica",
                                    "num_sales": "72",
                                    "num_sales_percentile": "0.01",
                                    "value_sales": "18743.108999999993",
                                    "value_sales_percentile": "0"
                                }
                            ]
                        },
                        "text/html": [
                            "<table>",
                            "<tr><th>country</th><th>num_sales</th><th>num_sales_percentile</th><th>value_sales</th><th>value_sales_percentile</th></tr>",
                            "<tr><td>Austria</td><td>2674</td><td>1</td><td>1296463.3414999906</td><td>1</td></tr>",
                            "<tr><td>Belgium</td><td>2604</td><td>0.97</td><td>1154321.3705999977</td><td>0.99</td></tr>",
                            "<tr><td>Argentina</td><td>2603</td><td>0.96</td><td>1140238.6927999987</td><td>0.98</td></tr>",
                            "<tr><td>Australia</td><td>2520</td><td>0.94</td><td>1139576.1649999968</td><td>0.97</td></tr>",
                            "<tr><td>United States</td><td>2231</td><td>0.73</td><td>1132496.3800000001</td><td>0.96</td></tr>",
                            "<tr><td>Brazil</td><td>2604</td><td>0.97</td><td>1129919.2000999975</td><td>0.95</td></tr>",
                            "<tr><td>Norway</td><td>2160</td><td>0.68</td><td>1129793.889999999</td><td>0.94</td></tr>",
                            "<tr><td>Netherlands</td><td>2292</td><td>0.88</td><td>1106623.810000002</td><td>0.93</td></tr>",
                            "<tr><td>Spain</td><td>2232</td><td>0.74</td><td>1102578.460000004</td><td>0.92</td></tr>",
                            "<tr><td>Puerto Rico</td><td>2232</td><td>0.74</td><td>1089656.3800000006</td><td>0.91</td></tr>",
                            "<tr><td>Canada</td><td>2436</td><td>0.92</td><td>1078310.4730000005</td><td>0.9</td></tr>",
                            "<tr><td>United Kingdom</td><td>2232</td><td>0.74</td><td>1069649.1000000013</td><td>0.89</td></tr>",
                            "<tr><td>Bulgaria</td><td>2520</td><td>0.94</td><td>1068255.9588000018</td><td>0.88</td></tr>",
                            "<tr><td>Republic of Korea</td><td>2232</td><td>0.74</td><td>1063598.8800000008</td><td>0.87</td></tr>",
                            "<tr><td>Singapore</td><td>2232</td><td>0.74</td><td>1062442.5199999993</td><td>0.86</td></tr>",
                            "<tr><td>Suriname</td><td>2016</td><td>0.58</td><td>1037655.410000003</td><td>0.85</td></tr>",
                            "<tr><td>Mexico</td><td>2232</td><td>0.74</td><td>1034845.1700000012</td><td>0.84</td></tr>",
                            "<tr><td>Turkmenistan</td><td>2088</td><td>0.63</td><td>1032696.5800000039</td><td>0.83</td></tr>",
                            "<tr><td>Belize</td><td>2352</td><td>0.91</td><td>1009231.1078000019</td><td>0.82</td></tr>",
                            "<tr><td>Sweden</td><td>2148</td><td>0.67</td><td>1006956.3000000026</td><td>0.81</td></tr>",
                            "<tr><td>Chile</td><td>2604</td><td>0.97</td><td>998301.8032000033</td><td>0.8</td></tr>",
                            "<tr><td>Russia</td><td>1952</td><td>0.55</td><td>990272.1340000018</td><td>0.79</td></tr>",
                            "<tr><td>Thailand</td><td>2004</td><td>0.56</td><td>984841.0600000018</td><td>0.78</td></tr>",
                            "<tr><td>Portugal</td><td>1944</td><td>0.52</td><td>955279.5800000016</td><td>0.77</td></tr>",
                            "<tr><td>Saint Lucia</td><td>2016</td><td>0.58</td><td>953605.8500000038</td><td>0.76</td></tr>",
                            "<tr><td>Mauritius</td><td>2292</td><td>0.88</td><td>951543.6300000029</td><td>0.75</td></tr>",
                            "<tr><td>Trinidad and Tobago</td><td>1944</td><td>0.52</td><td>940220.2900000017</td><td>0.74</td></tr>",
                            "<tr><td>Antigua and Barbuda</td><td>2268</td><td>0.87</td><td>937031.6729000005</td><td>0.73</td></tr>",
                            "<tr><td>Romania</td><td>2004</td><td>0.56</td><td>933676.0400000019</td><td>0.72</td></tr>",
                            "<tr><td>Armenia</td><td>2086</td><td>0.62</td><td>918236.707500002</td><td>0.71</td></tr>",
                            "<tr><td>Barbados</td><td>2099</td><td>0.66</td><td>914011.7824000027</td><td>0.7</td></tr>",
                            "<tr><td>Uruguay</td><td>2016</td><td>0.58</td><td>898636.5600000003</td><td>0.69</td></tr>",
                            "<tr><td>New Zealand</td><td>2088</td><td>0.63</td><td>897640.3300000007</td><td>0.68</td></tr>",
                            "<tr><td>Paraguay</td><td>1944</td><td>0.52</td><td>887757.4500000015</td><td>0.67</td></tr>",
                            "<tr><td>Luxembourg</td><td>2232</td><td>0.74</td><td>869798.3930000014</td><td>0.66</td></tr>",
                            "<tr><td>Ukraine</td><td>2016</td><td>0.58</td><td>860557.6200000015</td><td>0.65</td></tr>",
                            "<tr><td>Bahamas</td><td>1932</td><td>0.5</td><td>858137.5198000026</td><td>0.64</td></tr>",
                            "<tr><td>Malta</td><td>2232</td><td>0.74</td><td>849198.6836000021</td><td>0.63</td></tr>",
                            "<tr><td>Panama</td><td>1800</td><td>0.41</td><td>827407.4100000006</td><td>0.62</td></tr>",
                            "<tr><td>Poland</td><td>1728</td><td>0.35</td><td>823874.8300000004</td><td>0.61</td></tr>",
                            "<tr><td>Colombia</td><td>2514</td><td>0.93</td><td>823458.3767000027</td><td>0.6</td></tr>",
                            "<tr><td>Albania</td><td>1848</td><td>0.44</td><td>816714.1692000002</td><td>0.59</td></tr>",
                            "<tr><td>Guatemala</td><td>2160</td><td>0.68</td><td>811037.0116000031</td><td>0.58</td></tr>",
                            "<tr><td>Bahrain</td><td>1764</td><td>0.39</td><td>800315.182500001</td><td>0.57</td></tr>",
                            "<tr><td>Belarus</td><td>1763</td><td>0.38</td><td>793122.7560000019</td><td>0.56</td></tr>",
                            "<tr><td>Saint Vincent and Grenadines</td><td>1800</td><td>0.41</td><td>782619.9400000017</td><td>0.55</td></tr>",
                            "<tr><td>Greece</td><td>2232</td><td>0.74</td><td>781112.8694000007</td><td>0.54</td></tr>",
                            "<tr><td>Slovenia</td><td>1511</td><td>0.25</td><td>779910.2300000001</td><td>0.53</td></tr>",
                            "<tr><td>Slovakia</td><td>1584</td><td>0.31</td><td>774529.1199999993</td><td>0.52</td></tr>",
                            "<tr><td>Switzerland</td><td>1512</td><td>0.27</td><td>711132.8300000015</td><td>0.51</td></tr>",
                            "<tr><td>Ecuador</td><td>2232</td><td>0.74</td><td>704434.9145000005</td><td>0.5</td></tr>",
                            "<tr><td>Uzbekistan</td><td>1584</td><td>0.31</td><td>700289.7400000006</td><td>0.49</td></tr>",
                            "<tr><td>South Africa</td><td>1440</td><td>0.24</td><td>699497.384000001</td><td>0.48</td></tr>",
                            "<tr><td>Japan</td><td>2233</td><td>0.86</td><td>692880.2690000008</td><td>0.47</td></tr>",
                            "<tr><td>Israel</td><td>2232</td><td>0.74</td><td>678394.283000001</td><td>0.46</td></tr>",
                            "<tr><td>Grenada</td><td>1860</td><td>0.45</td><td>677864.1923000009</td><td>0.45</td></tr>",
                            "<tr><td>Iceland</td><td>2292</td><td>0.88</td><td>673693.6802000001</td><td>0.44</td></tr>",
                            "<tr><td>Guyana</td><td>1799</td><td>0.4</td><td>673308.8582000005</td><td>0.43</td></tr>",
                            "<tr><td>Kuwait</td><td>1800</td><td>0.41</td><td>668267.5795000002</td><td>0.42</td></tr>",
                            "<tr><td>Kyrgyzstan</td><td>1872</td><td>0.47</td><td>666682.2039000005</td><td>0.41</td></tr>",
                            "<tr><td>Ireland</td><td>2160</td><td>0.68</td><td>649537.6800000011</td><td>0.4</td></tr>",
                            "<tr><td>France</td><td>2160</td><td>0.68</td><td>643784.2059999998</td><td>0.39</td></tr>",
                            "<tr><td>Kazakhstan</td><td>1872</td><td>0.47</td><td>641065.9040000006</td><td>0.38</td></tr>",
                            "<tr><td>Hungary</td><td>1860</td><td>0.45</td><td>634635.7702</td><td>0.37</td></tr>",
                            "<tr><td>Costa Rica</td><td>2160</td><td>0.68</td><td>632901.6622000004</td><td>0.36</td></tr>",
                            "<tr><td>Finland</td><td>2088</td><td>0.63</td><td>630622.2634000012</td><td>0.35</td></tr>",
                            "<tr><td>Italy</td><td>2232</td><td>0.74</td><td>625664.3300000008</td><td>0.34</td></tr>",
                            "<tr><td>Seychelles</td><td>1296</td><td>0.21</td><td>620275.4700000003</td><td>0.33</td></tr>",
                            "<tr><td>Azerbaijan</td><td>1344</td><td>0.23</td><td>610523.8879999998</td><td>0.32</td></tr>",
                            "<tr><td>Germany</td><td>1872</td><td>0.47</td><td>601330.1426000008</td><td>0.31</td></tr>",
                            "<tr><td>El Salvador</td><td>1728</td><td>0.35</td><td>593740.2684</td><td>0.3</td></tr>",
                            "<tr><td>Lithuania</td><td>1572</td><td>0.29</td><td>572731.2999999988</td><td>0.29</td></tr>",
                            "<tr><td>Serbia</td><td>1296</td><td>0.21</td><td>564452.1499999986</td><td>0.28</td></tr>",
                            "<tr><td>Qatar</td><td>1068</td><td>0.17</td><td>554514.8799999999</td><td>0.27</td></tr>",
                            "<tr><td>Latvia</td><td>1511</td><td>0.25</td><td>549710.9939999995</td><td>0.26</td></tr>",
                            "<tr><td>Aruba</td><td>1176</td><td>0.19</td><td>537197.9709999991</td><td>0.25</td></tr>",
                            "<tr><td>Philippines</td><td>1079</td><td>0.18</td><td>522248.86000000004</td><td>0.24</td></tr>",
                            "<tr><td>Czech Republic</td><td>1932</td><td>0.5</td><td>517375.4399999993</td><td>0.23</td></tr>",
                            "<tr><td>Cuba</td><td>1728</td><td>0.35</td><td>500943.9629999991</td><td>0.22</td></tr>",
                            "<tr><td>Georgia</td><td>1584</td><td>0.31</td><td>499963.55559999857</td><td>0.21</td></tr>",
                            "<tr><td>Denmark</td><td>1584</td><td>0.31</td><td>449218.213999999</td><td>0.2</td></tr>",
                            "<tr><td>Estonia</td><td>1512</td><td>0.27</td><td>424996.7387999989</td><td>0.19</td></tr>",
                            "<tr><td>Croatia</td><td>1572</td><td>0.29</td><td>416275.25939999963</td><td>0.18</td></tr>",
                            "<tr><td>Sri Lanka</td><td>792</td><td>0.13</td><td>395918.2999999992</td><td>0.17</td></tr>",
                            "<tr><td>Montenegro</td><td>720</td><td>0.11</td><td>357511.14999999985</td><td>0.16</td></tr>",
                            "<tr><td>Jamaica</td><td>1224</td><td>0.2</td><td>347578.4049999999</td><td>0.15</td></tr>",
                            "<tr><td>Kiribati</td><td>792</td><td>0.13</td><td>323550.16689999966</td><td>0.14</td></tr>",
                            "<tr><td>Cyprus</td><td>1067</td><td>0.16</td><td>281314.48579999973</td><td>0.13</td></tr>",
                            "<tr><td>Turkey</td><td>504</td><td>0.1</td><td>280994.1200000001</td><td>0.12</td></tr>",
                            "<tr><td>Nicaragua</td><td>432</td><td>0.08</td><td>223247.22000000006</td><td>0.11</td></tr>",
                            "<tr><td>Maldives</td><td>720</td><td>0.11</td><td>217764.10799999998</td><td>0.1</td></tr>",
                            "<tr><td>United Arab Emirates</td><td>432</td><td>0.08</td><td>186636.71000000022</td><td>0.09</td></tr>",
                            "<tr><td>Fiji</td><td>792</td><td>0.13</td><td>186410.44499999998</td><td>0.08</td></tr>",
                            "<tr><td>Oman</td><td>216</td><td>0.05</td><td>105546.17000000007</td><td>0.07</td></tr>",
                            "<tr><td>San Marino</td><td>216</td><td>0.05</td><td>98001.99000000008</td><td>0.06</td></tr>",
                            "<tr><td>Saint Kitts and Nevis</td><td>216</td><td>0.05</td><td>87428.36000000006</td><td>0.05</td></tr>",
                            "<tr><td>Bosnia and Herzegovina</td><td>168</td><td>0.04</td><td>60497.63000000005</td><td>0.04</td></tr>",
                            "<tr><td>Cabo Verde</td><td>84</td><td>0.03</td><td>36562.07199999999</td><td>0.03</td></tr>",
                            "<tr><td>Macau</td><td>72</td><td>0.01</td><td>28242.788</td><td>0.02</td></tr>",
                            "<tr><td>Mongolia</td><td>60</td><td>0</td><td>22035.249999999985</td><td>0.01</td></tr>",
                            "<tr><td>Dominica</td><td>72</td><td>0.01</td><td>18743.108999999993</td><td>0</td></tr>",
                            "</table>"
                        ]
                    }
                }
            ],
            "execution_count": 28
        },
        {
            "cell_type": "markdown",
            "source": [
                "From the table above, the top 4 countries for num\\_sales and value\\_sales are Austria, Belgium, Argentina and Australia. The number of sales seems highly correlated with value of sales with some exceptions like the United States which ranks in the 73rd percentile for number of sales and in the 96th percentile for value of sales.\n",
                "\n",
                "Next let's look at the average order value (AOV) per country and compare to the worldwide average. The AOV is a popular e-commerce metric that indicates the average amount customers are spending in one purchase. Both the tradditional AOV (using the mean) and the median AOV will be calculated adnc compared."
            ],
            "metadata": {
                "language": "sql",
                "azdata_cell_guid": "7c1d0032-8632-4290-bc87-f5a9d2488efe"
            },
            "attachments": {}
        },
        {
            "cell_type": "code",
            "source": [
                "-- average order value ($) per country\n",
                "SELECT  \n",
                "    country, AVG(Sales) AS avg_order_value,\n",
                "    -- subquery in SELECT to determine worldwide avg order value ($)\n",
                "    (SELECT AVG(Sales) FROM logs) AS world_avg_order_value,\n",
                "    -- difference bewteen country avg and worldwide avg with another SELECT subquery\n",
                "    (AVG(Sales) - (SELECT AVG(Sales) FROM logs)) AS difference\n",
                "FROM logs\n",
                "GROUP BY country\n",
                "ORDER BY difference DESC;"
            ],
            "metadata": {
                "language": "sql",
                "azdata_cell_guid": "3661bbe8-7b75-4fd3-af97-3b4591798e2d",
                "tags": []
            },
            "outputs": [
                {
                    "output_type": "display_data",
                    "data": {
                        "text/html": "(101 rows affected)"
                    },
                    "metadata": {}
                },
                {
                    "output_type": "display_data",
                    "data": {
                        "text/html": "Total execution time: 00:00:00.108"
                    },
                    "metadata": {}
                },
                {
                    "output_type": "execute_result",
                    "metadata": {},
                    "execution_count": 29,
                    "data": {
                        "application/vnd.dataresource+json": {
                            "schema": {
                                "fields": [
                                    {
                                        "name": "country"
                                    },
                                    {
                                        "name": "avg_order_value"
                                    },
                                    {
                                        "name": "world_avg_order_value"
                                    },
                                    {
                                        "name": "difference"
                                    }
                                ]
                            },
                            "data": [
                                {
                                    "country": "Turkey",
                                    "avg_order_value": "557.5280158730159",
                                    "world_avg_order_value": "411.3464487919873",
                                    "difference": "146.1815670810314"
                                },
                                {
                                    "country": "Norway",
                                    "avg_order_value": "523.0527268518516",
                                    "world_avg_order_value": "411.3464487919873",
                                    "difference": "111.70627805986715"
                                },
                                {
                                    "country": "Qatar",
                                    "avg_order_value": "519.2086891385769",
                                    "world_avg_order_value": "411.3464487919873",
                                    "difference": "107.86224034659244"
                                },
                                {
                                    "country": "Nicaragua",
                                    "avg_order_value": "516.7759722222223",
                                    "world_avg_order_value": "411.3464487919873",
                                    "difference": "105.42952343023785"
                                },
                                {
                                    "country": "Slovenia",
                                    "avg_order_value": "516.1550165453345",
                                    "world_avg_order_value": "411.3464487919873",
                                    "difference": "104.80856775335008"
                                },
                                {
                                    "country": "Suriname",
                                    "avg_order_value": "514.710024801587",
                                    "world_avg_order_value": "411.3464487919873",
                                    "difference": "103.36357600960253"
                                },
                                {
                                    "country": "United States",
                                    "avg_order_value": "507.6182787987447",
                                    "world_avg_order_value": "411.3464487919873",
                                    "difference": "96.27183000676024"
                                },
                                {
                                    "country": "Russia",
                                    "avg_order_value": "507.31154405737686",
                                    "world_avg_order_value": "411.3464487919873",
                                    "difference": "95.96509526539239"
                                },
                                {
                                    "country": "Sri Lanka",
                                    "avg_order_value": "499.89684343434334",
                                    "world_avg_order_value": "411.3464487919873",
                                    "difference": "88.55039464235887"
                                },
                                {
                                    "country": "Montenegro",
                                    "avg_order_value": "496.54326388888893",
                                    "world_avg_order_value": "411.3464487919873",
                                    "difference": "85.19681509690446"
                                },
                                {
                                    "country": "Turkmenistan",
                                    "avg_order_value": "494.5864846743293",
                                    "world_avg_order_value": "411.3464487919873",
                                    "difference": "83.24003588234484"
                                },
                                {
                                    "country": "Spain",
                                    "avg_order_value": "493.9867652329749",
                                    "world_avg_order_value": "411.3464487919873",
                                    "difference": "82.64031644099043"
                                },
                                {
                                    "country": "Thailand",
                                    "avg_order_value": "491.4376546906187",
                                    "world_avg_order_value": "411.3464487919873",
                                    "difference": "80.0912058986342"
                                },
                                {
                                    "country": "Portugal",
                                    "avg_order_value": "491.3989609053496",
                                    "world_avg_order_value": "411.3464487919873",
                                    "difference": "80.05251211336514"
                                },
                                {
                                    "country": "Slovakia",
                                    "avg_order_value": "488.9704040404043",
                                    "world_avg_order_value": "411.3464487919873",
                                    "difference": "77.6239552484198"
                                },
                                {
                                    "country": "Oman",
                                    "avg_order_value": "488.639675925926",
                                    "world_avg_order_value": "411.3464487919873",
                                    "difference": "77.29322713394151"
                                },
                                {
                                    "country": "Puerto Rico",
                                    "avg_order_value": "488.1973028673829",
                                    "world_avg_order_value": "411.3464487919873",
                                    "difference": "76.85085407539844"
                                },
                                {
                                    "country": "South Africa",
                                    "avg_order_value": "485.76207222222246",
                                    "world_avg_order_value": "411.3464487919873",
                                    "difference": "74.41562343023799"
                                },
                                {
                                    "country": "Austria",
                                    "avg_order_value": "484.84044184741964",
                                    "world_avg_order_value": "411.3464487919873",
                                    "difference": "73.49399305543517"
                                },
                                {
                                    "country": "Philippines",
                                    "avg_order_value": "484.011918443003",
                                    "world_avg_order_value": "411.3464487919873",
                                    "difference": "72.66546965101855"
                                },
                                {
                                    "country": "Trinidad and Tobago",
                                    "avg_order_value": "483.6524125514405",
                                    "world_avg_order_value": "411.3464487919873",
                                    "difference": "72.305963759456"
                                },
                                {
                                    "country": "Netherlands",
                                    "avg_order_value": "482.8201614310641",
                                    "world_avg_order_value": "411.3464487919873",
                                    "difference": "71.47371263907962"
                                },
                                {
                                    "country": "United Kingdom",
                                    "avg_order_value": "479.23346774193544",
                                    "world_avg_order_value": "411.3464487919873",
                                    "difference": "67.88701894995097"
                                },
                                {
                                    "country": "Seychelles",
                                    "avg_order_value": "478.6076157407405",
                                    "world_avg_order_value": "411.3464487919873",
                                    "difference": "67.26116694875606"
                                },
                                {
                                    "country": "Poland",
                                    "avg_order_value": "476.77941550925937",
                                    "world_avg_order_value": "411.3464487919873",
                                    "difference": "65.4329667172749"
                                },
                                {
                                    "country": "Republic of Korea",
                                    "avg_order_value": "476.52279569892426",
                                    "world_avg_order_value": "411.3464487919873",
                                    "difference": "65.17634690693978"
                                },
                                {
                                    "country": "Singapore",
                                    "avg_order_value": "476.00471326164853",
                                    "world_avg_order_value": "411.3464487919873",
                                    "difference": "64.65826446966406"
                                },
                                {
                                    "country": "Saint Lucia",
                                    "avg_order_value": "473.01877480158737",
                                    "world_avg_order_value": "411.3464487919873",
                                    "difference": "61.6723260096029"
                                },
                                {
                                    "country": "Switzerland",
                                    "avg_order_value": "470.32594576719595",
                                    "world_avg_order_value": "411.3464487919873",
                                    "difference": "58.979496975211475"
                                },
                                {
                                    "country": "Sweden",
                                    "avg_order_value": "468.78784916201096",
                                    "world_avg_order_value": "411.3464487919873",
                                    "difference": "57.441400370026486"
                                },
                                {
                                    "country": "Romania",
                                    "avg_order_value": "465.9062075848299",
                                    "world_avg_order_value": "411.3464487919873",
                                    "difference": "54.5597587928454"
                                },
                                {
                                    "country": "Mexico",
                                    "avg_order_value": "463.6403091397846",
                                    "world_avg_order_value": "411.3464487919873",
                                    "difference": "52.29386034780015"
                                },
                                {
                                    "country": "Panama",
                                    "avg_order_value": "459.6707833333333",
                                    "world_avg_order_value": "411.3464487919873",
                                    "difference": "48.32433454134883"
                                },
                                {
                                    "country": "Aruba",
                                    "avg_order_value": "456.80099574829944",
                                    "world_avg_order_value": "411.3464487919873",
                                    "difference": "45.45454695631497"
                                },
                                {
                                    "country": "Paraguay",
                                    "avg_order_value": "456.6653549382713",
                                    "world_avg_order_value": "411.3464487919873",
                                    "difference": "45.31890614628685"
                                },
                                {
                                    "country": "Azerbaijan",
                                    "avg_order_value": "454.2588452380952",
                                    "world_avg_order_value": "411.3464487919873",
                                    "difference": "42.91239644611073"
                                },
                                {
                                    "country": "San Marino",
                                    "avg_order_value": "453.7129166666668",
                                    "world_avg_order_value": "411.3464487919873",
                                    "difference": "42.366467874682314"
                                },
                                {
                                    "country": "Bahrain",
                                    "avg_order_value": "453.69341411564625",
                                    "world_avg_order_value": "411.3464487919873",
                                    "difference": "42.34696532366178"
                                },
                                {
                                    "country": "Australia",
                                    "avg_order_value": "452.2127638888888",
                                    "world_avg_order_value": "411.3464487919873",
                                    "difference": "40.866315096904316"
                                },
                                {
                                    "country": "Belarus",
                                    "avg_order_value": "449.87110380034005",
                                    "world_avg_order_value": "411.3464487919873",
                                    "difference": "38.52465500835558"
                                },
                                {
                                    "country": "Uruguay",
                                    "avg_order_value": "445.7522619047622",
                                    "world_avg_order_value": "411.3464487919873",
                                    "difference": "34.40581311277771"
                                },
                                {
                                    "country": "Bahamas",
                                    "avg_order_value": "444.1705589026916",
                                    "world_avg_order_value": "411.3464487919873",
                                    "difference": "32.824110110707124"
                                },
                                {
                                    "country": "Belgium",
                                    "avg_order_value": "443.28777672811043",
                                    "world_avg_order_value": "411.3464487919873",
                                    "difference": "31.94132793612596"
                                },
                                {
                                    "country": "Canada",
                                    "avg_order_value": "442.65618760262726",
                                    "world_avg_order_value": "411.3464487919873",
                                    "difference": "31.309738810642784"
                                },
                                {
                                    "country": "Uzbekistan",
                                    "avg_order_value": "442.10210858585845",
                                    "world_avg_order_value": "411.3464487919873",
                                    "difference": "30.755659793873974"
                                },
                                {
                                    "country": "Albania",
                                    "avg_order_value": "441.94489675324706",
                                    "world_avg_order_value": "411.3464487919873",
                                    "difference": "30.598447961262593"
                                },
                                {
                                    "country": "Armenia",
                                    "avg_order_value": "440.1901761744965",
                                    "world_avg_order_value": "411.3464487919873",
                                    "difference": "28.843727382512043"
                                },
                                {
                                    "country": "Argentina",
                                    "avg_order_value": "438.04790349596607",
                                    "world_avg_order_value": "411.3464487919873",
                                    "difference": "26.701454703981597"
                                },
                                {
                                    "country": "Serbia",
                                    "avg_order_value": "435.53406635802514",
                                    "world_avg_order_value": "411.3464487919873",
                                    "difference": "24.18761756604067"
                                },
                                {
                                    "country": "Barbados",
                                    "avg_order_value": "435.45106355407324",
                                    "world_avg_order_value": "411.3464487919873",
                                    "difference": "24.104614762088772"
                                },
                                {
                                    "country": "Cabo Verde",
                                    "avg_order_value": "435.26276190476193",
                                    "world_avg_order_value": "411.3464487919873",
                                    "difference": "23.91631311277746"
                                },
                                {
                                    "country": "Saint Vincent and Grenadines",
                                    "avg_order_value": "434.78885555555576",
                                    "world_avg_order_value": "411.3464487919873",
                                    "difference": "23.442406763571285"
                                },
                                {
                                    "country": "Brazil",
                                    "avg_order_value": "433.91674350998454",
                                    "world_avg_order_value": "411.3464487919873",
                                    "difference": "22.57029471800007"
                                },
                                {
                                    "country": "United Arab Emirates",
                                    "avg_order_value": "432.02942129629633",
                                    "world_avg_order_value": "411.3464487919873",
                                    "difference": "20.682972504311863"
                                },
                                {
                                    "country": "New Zealand",
                                    "avg_order_value": "429.90437260536385",
                                    "world_avg_order_value": "411.3464487919873",
                                    "difference": "18.557923813379375"
                                },
                                {
                                    "country": "Belize",
                                    "avg_order_value": "429.09485875850305",
                                    "world_avg_order_value": "411.3464487919873",
                                    "difference": "17.74840996651858"
                                },
                                {
                                    "country": "Ukraine",
                                    "avg_order_value": "426.8638988095237",
                                    "world_avg_order_value": "411.3464487919873",
                                    "difference": "15.517450017539204"
                                },
                                {
                                    "country": "Bulgaria",
                                    "avg_order_value": "423.9110947619046",
                                    "world_avg_order_value": "411.3464487919873",
                                    "difference": "12.56464596992015"
                                },
                                {
                                    "country": "Mauritius",
                                    "avg_order_value": "415.1586518324604",
                                    "world_avg_order_value": "411.3464487919873",
                                    "difference": "3.8122030404759357"
                                },
                                {
                                    "country": "Antigua and Barbuda",
                                    "avg_order_value": "413.15329492945375",
                                    "world_avg_order_value": "411.3464487919873",
                                    "difference": "1.8068461374692788"
                                },
                                {
                                    "country": "Kiribati",
                                    "avg_order_value": "408.52293800505043",
                                    "world_avg_order_value": "411.3464487919873",
                                    "difference": "-2.823510786934037"
                                },
                                {
                                    "country": "Saint Kitts and Nevis",
                                    "avg_order_value": "404.760925925926",
                                    "world_avg_order_value": "411.3464487919873",
                                    "difference": "-6.585522866058454"
                                },
                                {
                                    "country": "Macau",
                                    "avg_order_value": "392.2609444444444",
                                    "world_avg_order_value": "411.3464487919873",
                                    "difference": "-19.085504347540052"
                                },
                                {
                                    "country": "Luxembourg",
                                    "avg_order_value": "389.69462051971317",
                                    "world_avg_order_value": "411.3464487919873",
                                    "difference": "-21.651828272271302"
                                },
                                {
                                    "country": "Chile",
                                    "avg_order_value": "383.37242826420874",
                                    "world_avg_order_value": "411.3464487919873",
                                    "difference": "-27.974020527775735"
                                },
                                {
                                    "country": "Malta",
                                    "avg_order_value": "380.4653600358423",
                                    "world_avg_order_value": "411.3464487919873",
                                    "difference": "-30.881088756142162"
                                },
                                {
                                    "country": "Guatemala",
                                    "avg_order_value": "375.4800979629629",
                                    "world_avg_order_value": "411.3464487919873",
                                    "difference": "-35.8663508290216"
                                },
                                {
                                    "country": "Guyana",
                                    "avg_order_value": "374.26840366870465",
                                    "world_avg_order_value": "411.3464487919873",
                                    "difference": "-37.07804512327982"
                                },
                                {
                                    "country": "Kuwait",
                                    "avg_order_value": "371.25976638888915",
                                    "world_avg_order_value": "411.3464487919873",
                                    "difference": "-40.086682403095324"
                                },
                                {
                                    "country": "Mongolia",
                                    "avg_order_value": "367.25416666666666",
                                    "world_avg_order_value": "411.3464487919873",
                                    "difference": "-44.09228212531781"
                                },
                                {
                                    "country": "Grenada",
                                    "avg_order_value": "364.44311413978494",
                                    "world_avg_order_value": "411.3464487919873",
                                    "difference": "-46.90333465219953"
                                },
                                {
                                    "country": "Lithuania",
                                    "avg_order_value": "364.3328880407125",
                                    "world_avg_order_value": "411.3464487919873",
                                    "difference": "-47.013560751271996"
                                },
                                {
                                    "country": "Latvia",
                                    "avg_order_value": "363.806084712111",
                                    "world_avg_order_value": "411.3464487919873",
                                    "difference": "-47.540364079873484"
                                },
                                {
                                    "country": "Bosnia and Herzegovina",
                                    "avg_order_value": "360.1049404761904",
                                    "world_avg_order_value": "411.3464487919873",
                                    "difference": "-51.24150831579408"
                                },
                                {
                                    "country": "Kyrgyzstan",
                                    "avg_order_value": "356.1336559294873",
                                    "world_avg_order_value": "411.3464487919873",
                                    "difference": "-55.21279286249717"
                                },
                                {
                                    "country": "Greece",
                                    "avg_order_value": "349.9609629928315",
                                    "world_avg_order_value": "411.3464487919873",
                                    "difference": "-61.385485799152946"
                                },
                                {
                                    "country": "El Salvador",
                                    "avg_order_value": "343.5996923611111",
                                    "world_avg_order_value": "411.3464487919873",
                                    "difference": "-67.74675643087335"
                                },
                                {
                                    "country": "Kazakhstan",
                                    "avg_order_value": "342.44973504273514",
                                    "world_avg_order_value": "411.3464487919873",
                                    "difference": "-68.89671374924933"
                                },
                                {
                                    "country": "Hungary",
                                    "avg_order_value": "341.20202698924714",
                                    "world_avg_order_value": "411.3464487919873",
                                    "difference": "-70.14442180273733"
                                },
                                {
                                    "country": "Colombia",
                                    "avg_order_value": "327.54907585521073",
                                    "world_avg_order_value": "411.3464487919873",
                                    "difference": "-83.79737293677374"
                                },
                                {
                                    "country": "Germany",
                                    "avg_order_value": "321.22336677350415",
                                    "world_avg_order_value": "411.3464487919873",
                                    "difference": "-90.12308201848032"
                                },
                                {
                                    "country": "Georgia",
                                    "avg_order_value": "315.633557828283",
                                    "world_avg_order_value": "411.3464487919873",
                                    "difference": "-95.71289096370145"
                                },
                                {
                                    "country": "Ecuador",
                                    "avg_order_value": "315.6070405465951",
                                    "world_avg_order_value": "411.3464487919873",
                                    "difference": "-95.73940824538937"
                                },
                                {
                                    "country": "Japan",
                                    "avg_order_value": "310.291208687864",
                                    "world_avg_order_value": "411.3464487919873",
                                    "difference": "-101.05524010412046"
                                },
                                {
                                    "country": "Israel",
                                    "avg_order_value": "303.9400909498207",
                                    "world_avg_order_value": "411.3464487919873",
                                    "difference": "-107.40635784216374"
                                },
                                {
                                    "country": "Maldives",
                                    "avg_order_value": "302.45015",
                                    "world_avg_order_value": "411.3464487919873",
                                    "difference": "-108.89629879198446"
                                },
                                {
                                    "country": "Finland",
                                    "avg_order_value": "302.022156800766",
                                    "world_avg_order_value": "411.3464487919873",
                                    "difference": "-109.32429199121844"
                                },
                                {
                                    "country": "Ireland",
                                    "avg_order_value": "300.7118888888886",
                                    "world_avg_order_value": "411.3464487919873",
                                    "difference": "-110.63455990309586"
                                },
                                {
                                    "country": "France",
                                    "avg_order_value": "298.04824351851863",
                                    "world_avg_order_value": "411.3464487919873",
                                    "difference": "-113.29820527346584"
                                },
                                {
                                    "country": "Iceland",
                                    "avg_order_value": "293.932670244328",
                                    "world_avg_order_value": "411.3464487919873",
                                    "difference": "-117.41377854765648"
                                },
                                {
                                    "country": "Costa Rica",
                                    "avg_order_value": "293.01002879629635",
                                    "world_avg_order_value": "411.3464487919873",
                                    "difference": "-118.33641999568812"
                                },
                                {
                                    "country": "Cuba",
                                    "avg_order_value": "289.8981267361112",
                                    "world_avg_order_value": "411.3464487919873",
                                    "difference": "-121.44832205587329"
                                },
                                {
                                    "country": "Jamaica",
                                    "avg_order_value": "283.96928513071924",
                                    "world_avg_order_value": "411.3464487919873",
                                    "difference": "-127.37716366126523"
                                },
                                {
                                    "country": "Denmark",
                                    "avg_order_value": "283.5973573232326",
                                    "world_avg_order_value": "411.3464487919873",
                                    "difference": "-127.74909146875189"
                                },
                                {
                                    "country": "Estonia",
                                    "avg_order_value": "281.0824992063493",
                                    "world_avg_order_value": "411.3464487919873",
                                    "difference": "-130.26394958563515"
                                },
                                {
                                    "country": "Italy",
                                    "avg_order_value": "280.3155600358421",
                                    "world_avg_order_value": "411.3464487919873",
                                    "difference": "-131.03088875614236"
                                },
                                {
                                    "country": "Czech Republic",
                                    "avg_order_value": "267.7926708074535",
                                    "world_avg_order_value": "411.3464487919873",
                                    "difference": "-143.553777984531"
                                },
                                {
                                    "country": "Croatia",
                                    "avg_order_value": "264.8061446564886",
                                    "world_avg_order_value": "411.3464487919873",
                                    "difference": "-146.5403041354959"
                                },
                                {
                                    "country": "Cyprus",
                                    "avg_order_value": "263.6499398313026",
                                    "world_avg_order_value": "411.3464487919873",
                                    "difference": "-147.69650896068185"
                                },
                                {
                                    "country": "Dominica",
                                    "avg_order_value": "260.3209583333333",
                                    "world_avg_order_value": "411.3464487919873",
                                    "difference": "-151.02549045865118"
                                },
                                {
                                    "country": "Fiji",
                                    "avg_order_value": "235.36672348484865",
                                    "world_avg_order_value": "411.3464487919873",
                                    "difference": "-175.97972530713582"
                                }
                            ]
                        },
                        "text/html": [
                            "<table>",
                            "<tr><th>country</th><th>avg_order_value</th><th>world_avg_order_value</th><th>difference</th></tr>",
                            "<tr><td>Turkey</td><td>557.5280158730159</td><td>411.3464487919873</td><td>146.1815670810314</td></tr>",
                            "<tr><td>Norway</td><td>523.0527268518516</td><td>411.3464487919873</td><td>111.70627805986715</td></tr>",
                            "<tr><td>Qatar</td><td>519.2086891385769</td><td>411.3464487919873</td><td>107.86224034659244</td></tr>",
                            "<tr><td>Nicaragua</td><td>516.7759722222223</td><td>411.3464487919873</td><td>105.42952343023785</td></tr>",
                            "<tr><td>Slovenia</td><td>516.1550165453345</td><td>411.3464487919873</td><td>104.80856775335008</td></tr>",
                            "<tr><td>Suriname</td><td>514.710024801587</td><td>411.3464487919873</td><td>103.36357600960253</td></tr>",
                            "<tr><td>United States</td><td>507.6182787987447</td><td>411.3464487919873</td><td>96.27183000676024</td></tr>",
                            "<tr><td>Russia</td><td>507.31154405737686</td><td>411.3464487919873</td><td>95.96509526539239</td></tr>",
                            "<tr><td>Sri Lanka</td><td>499.89684343434334</td><td>411.3464487919873</td><td>88.55039464235887</td></tr>",
                            "<tr><td>Montenegro</td><td>496.54326388888893</td><td>411.3464487919873</td><td>85.19681509690446</td></tr>",
                            "<tr><td>Turkmenistan</td><td>494.5864846743293</td><td>411.3464487919873</td><td>83.24003588234484</td></tr>",
                            "<tr><td>Spain</td><td>493.9867652329749</td><td>411.3464487919873</td><td>82.64031644099043</td></tr>",
                            "<tr><td>Thailand</td><td>491.4376546906187</td><td>411.3464487919873</td><td>80.0912058986342</td></tr>",
                            "<tr><td>Portugal</td><td>491.3989609053496</td><td>411.3464487919873</td><td>80.05251211336514</td></tr>",
                            "<tr><td>Slovakia</td><td>488.9704040404043</td><td>411.3464487919873</td><td>77.6239552484198</td></tr>",
                            "<tr><td>Oman</td><td>488.639675925926</td><td>411.3464487919873</td><td>77.29322713394151</td></tr>",
                            "<tr><td>Puerto Rico</td><td>488.1973028673829</td><td>411.3464487919873</td><td>76.85085407539844</td></tr>",
                            "<tr><td>South Africa</td><td>485.76207222222246</td><td>411.3464487919873</td><td>74.41562343023799</td></tr>",
                            "<tr><td>Austria</td><td>484.84044184741964</td><td>411.3464487919873</td><td>73.49399305543517</td></tr>",
                            "<tr><td>Philippines</td><td>484.011918443003</td><td>411.3464487919873</td><td>72.66546965101855</td></tr>",
                            "<tr><td>Trinidad and Tobago</td><td>483.6524125514405</td><td>411.3464487919873</td><td>72.305963759456</td></tr>",
                            "<tr><td>Netherlands</td><td>482.8201614310641</td><td>411.3464487919873</td><td>71.47371263907962</td></tr>",
                            "<tr><td>United Kingdom</td><td>479.23346774193544</td><td>411.3464487919873</td><td>67.88701894995097</td></tr>",
                            "<tr><td>Seychelles</td><td>478.6076157407405</td><td>411.3464487919873</td><td>67.26116694875606</td></tr>",
                            "<tr><td>Poland</td><td>476.77941550925937</td><td>411.3464487919873</td><td>65.4329667172749</td></tr>",
                            "<tr><td>Republic of Korea</td><td>476.52279569892426</td><td>411.3464487919873</td><td>65.17634690693978</td></tr>",
                            "<tr><td>Singapore</td><td>476.00471326164853</td><td>411.3464487919873</td><td>64.65826446966406</td></tr>",
                            "<tr><td>Saint Lucia</td><td>473.01877480158737</td><td>411.3464487919873</td><td>61.6723260096029</td></tr>",
                            "<tr><td>Switzerland</td><td>470.32594576719595</td><td>411.3464487919873</td><td>58.979496975211475</td></tr>",
                            "<tr><td>Sweden</td><td>468.78784916201096</td><td>411.3464487919873</td><td>57.441400370026486</td></tr>",
                            "<tr><td>Romania</td><td>465.9062075848299</td><td>411.3464487919873</td><td>54.5597587928454</td></tr>",
                            "<tr><td>Mexico</td><td>463.6403091397846</td><td>411.3464487919873</td><td>52.29386034780015</td></tr>",
                            "<tr><td>Panama</td><td>459.6707833333333</td><td>411.3464487919873</td><td>48.32433454134883</td></tr>",
                            "<tr><td>Aruba</td><td>456.80099574829944</td><td>411.3464487919873</td><td>45.45454695631497</td></tr>",
                            "<tr><td>Paraguay</td><td>456.6653549382713</td><td>411.3464487919873</td><td>45.31890614628685</td></tr>",
                            "<tr><td>Azerbaijan</td><td>454.2588452380952</td><td>411.3464487919873</td><td>42.91239644611073</td></tr>",
                            "<tr><td>San Marino</td><td>453.7129166666668</td><td>411.3464487919873</td><td>42.366467874682314</td></tr>",
                            "<tr><td>Bahrain</td><td>453.69341411564625</td><td>411.3464487919873</td><td>42.34696532366178</td></tr>",
                            "<tr><td>Australia</td><td>452.2127638888888</td><td>411.3464487919873</td><td>40.866315096904316</td></tr>",
                            "<tr><td>Belarus</td><td>449.87110380034005</td><td>411.3464487919873</td><td>38.52465500835558</td></tr>",
                            "<tr><td>Uruguay</td><td>445.7522619047622</td><td>411.3464487919873</td><td>34.40581311277771</td></tr>",
                            "<tr><td>Bahamas</td><td>444.1705589026916</td><td>411.3464487919873</td><td>32.824110110707124</td></tr>",
                            "<tr><td>Belgium</td><td>443.28777672811043</td><td>411.3464487919873</td><td>31.94132793612596</td></tr>",
                            "<tr><td>Canada</td><td>442.65618760262726</td><td>411.3464487919873</td><td>31.309738810642784</td></tr>",
                            "<tr><td>Uzbekistan</td><td>442.10210858585845</td><td>411.3464487919873</td><td>30.755659793873974</td></tr>",
                            "<tr><td>Albania</td><td>441.94489675324706</td><td>411.3464487919873</td><td>30.598447961262593</td></tr>",
                            "<tr><td>Armenia</td><td>440.1901761744965</td><td>411.3464487919873</td><td>28.843727382512043</td></tr>",
                            "<tr><td>Argentina</td><td>438.04790349596607</td><td>411.3464487919873</td><td>26.701454703981597</td></tr>",
                            "<tr><td>Serbia</td><td>435.53406635802514</td><td>411.3464487919873</td><td>24.18761756604067</td></tr>",
                            "<tr><td>Barbados</td><td>435.45106355407324</td><td>411.3464487919873</td><td>24.104614762088772</td></tr>",
                            "<tr><td>Cabo Verde</td><td>435.26276190476193</td><td>411.3464487919873</td><td>23.91631311277746</td></tr>",
                            "<tr><td>Saint Vincent and Grenadines</td><td>434.78885555555576</td><td>411.3464487919873</td><td>23.442406763571285</td></tr>",
                            "<tr><td>Brazil</td><td>433.91674350998454</td><td>411.3464487919873</td><td>22.57029471800007</td></tr>",
                            "<tr><td>United Arab Emirates</td><td>432.02942129629633</td><td>411.3464487919873</td><td>20.682972504311863</td></tr>",
                            "<tr><td>New Zealand</td><td>429.90437260536385</td><td>411.3464487919873</td><td>18.557923813379375</td></tr>",
                            "<tr><td>Belize</td><td>429.09485875850305</td><td>411.3464487919873</td><td>17.74840996651858</td></tr>",
                            "<tr><td>Ukraine</td><td>426.8638988095237</td><td>411.3464487919873</td><td>15.517450017539204</td></tr>",
                            "<tr><td>Bulgaria</td><td>423.9110947619046</td><td>411.3464487919873</td><td>12.56464596992015</td></tr>",
                            "<tr><td>Mauritius</td><td>415.1586518324604</td><td>411.3464487919873</td><td>3.8122030404759357</td></tr>",
                            "<tr><td>Antigua and Barbuda</td><td>413.15329492945375</td><td>411.3464487919873</td><td>1.8068461374692788</td></tr>",
                            "<tr><td>Kiribati</td><td>408.52293800505043</td><td>411.3464487919873</td><td>-2.823510786934037</td></tr>",
                            "<tr><td>Saint Kitts and Nevis</td><td>404.760925925926</td><td>411.3464487919873</td><td>-6.585522866058454</td></tr>",
                            "<tr><td>Macau</td><td>392.2609444444444</td><td>411.3464487919873</td><td>-19.085504347540052</td></tr>",
                            "<tr><td>Luxembourg</td><td>389.69462051971317</td><td>411.3464487919873</td><td>-21.651828272271302</td></tr>",
                            "<tr><td>Chile</td><td>383.37242826420874</td><td>411.3464487919873</td><td>-27.974020527775735</td></tr>",
                            "<tr><td>Malta</td><td>380.4653600358423</td><td>411.3464487919873</td><td>-30.881088756142162</td></tr>",
                            "<tr><td>Guatemala</td><td>375.4800979629629</td><td>411.3464487919873</td><td>-35.8663508290216</td></tr>",
                            "<tr><td>Guyana</td><td>374.26840366870465</td><td>411.3464487919873</td><td>-37.07804512327982</td></tr>",
                            "<tr><td>Kuwait</td><td>371.25976638888915</td><td>411.3464487919873</td><td>-40.086682403095324</td></tr>",
                            "<tr><td>Mongolia</td><td>367.25416666666666</td><td>411.3464487919873</td><td>-44.09228212531781</td></tr>",
                            "<tr><td>Grenada</td><td>364.44311413978494</td><td>411.3464487919873</td><td>-46.90333465219953</td></tr>",
                            "<tr><td>Lithuania</td><td>364.3328880407125</td><td>411.3464487919873</td><td>-47.013560751271996</td></tr>",
                            "<tr><td>Latvia</td><td>363.806084712111</td><td>411.3464487919873</td><td>-47.540364079873484</td></tr>",
                            "<tr><td>Bosnia and Herzegovina</td><td>360.1049404761904</td><td>411.3464487919873</td><td>-51.24150831579408</td></tr>",
                            "<tr><td>Kyrgyzstan</td><td>356.1336559294873</td><td>411.3464487919873</td><td>-55.21279286249717</td></tr>",
                            "<tr><td>Greece</td><td>349.9609629928315</td><td>411.3464487919873</td><td>-61.385485799152946</td></tr>",
                            "<tr><td>El Salvador</td><td>343.5996923611111</td><td>411.3464487919873</td><td>-67.74675643087335</td></tr>",
                            "<tr><td>Kazakhstan</td><td>342.44973504273514</td><td>411.3464487919873</td><td>-68.89671374924933</td></tr>",
                            "<tr><td>Hungary</td><td>341.20202698924714</td><td>411.3464487919873</td><td>-70.14442180273733</td></tr>",
                            "<tr><td>Colombia</td><td>327.54907585521073</td><td>411.3464487919873</td><td>-83.79737293677374</td></tr>",
                            "<tr><td>Germany</td><td>321.22336677350415</td><td>411.3464487919873</td><td>-90.12308201848032</td></tr>",
                            "<tr><td>Georgia</td><td>315.633557828283</td><td>411.3464487919873</td><td>-95.71289096370145</td></tr>",
                            "<tr><td>Ecuador</td><td>315.6070405465951</td><td>411.3464487919873</td><td>-95.73940824538937</td></tr>",
                            "<tr><td>Japan</td><td>310.291208687864</td><td>411.3464487919873</td><td>-101.05524010412046</td></tr>",
                            "<tr><td>Israel</td><td>303.9400909498207</td><td>411.3464487919873</td><td>-107.40635784216374</td></tr>",
                            "<tr><td>Maldives</td><td>302.45015</td><td>411.3464487919873</td><td>-108.89629879198446</td></tr>",
                            "<tr><td>Finland</td><td>302.022156800766</td><td>411.3464487919873</td><td>-109.32429199121844</td></tr>",
                            "<tr><td>Ireland</td><td>300.7118888888886</td><td>411.3464487919873</td><td>-110.63455990309586</td></tr>",
                            "<tr><td>France</td><td>298.04824351851863</td><td>411.3464487919873</td><td>-113.29820527346584</td></tr>",
                            "<tr><td>Iceland</td><td>293.932670244328</td><td>411.3464487919873</td><td>-117.41377854765648</td></tr>",
                            "<tr><td>Costa Rica</td><td>293.01002879629635</td><td>411.3464487919873</td><td>-118.33641999568812</td></tr>",
                            "<tr><td>Cuba</td><td>289.8981267361112</td><td>411.3464487919873</td><td>-121.44832205587329</td></tr>",
                            "<tr><td>Jamaica</td><td>283.96928513071924</td><td>411.3464487919873</td><td>-127.37716366126523</td></tr>",
                            "<tr><td>Denmark</td><td>283.5973573232326</td><td>411.3464487919873</td><td>-127.74909146875189</td></tr>",
                            "<tr><td>Estonia</td><td>281.0824992063493</td><td>411.3464487919873</td><td>-130.26394958563515</td></tr>",
                            "<tr><td>Italy</td><td>280.3155600358421</td><td>411.3464487919873</td><td>-131.03088875614236</td></tr>",
                            "<tr><td>Czech Republic</td><td>267.7926708074535</td><td>411.3464487919873</td><td>-143.553777984531</td></tr>",
                            "<tr><td>Croatia</td><td>264.8061446564886</td><td>411.3464487919873</td><td>-146.5403041354959</td></tr>",
                            "<tr><td>Cyprus</td><td>263.6499398313026</td><td>411.3464487919873</td><td>-147.69650896068185</td></tr>",
                            "<tr><td>Dominica</td><td>260.3209583333333</td><td>411.3464487919873</td><td>-151.02549045865118</td></tr>",
                            "<tr><td>Fiji</td><td>235.36672348484865</td><td>411.3464487919873</td><td>-175.97972530713582</td></tr>",
                            "</table>"
                        ]
                    }
                }
            ],
            "execution_count": 29
        },
        {
            "cell_type": "code",
            "source": [
                "-- median order value ($) per country\n",
                "WITH CTE_AOV AS (\n",
                "    SELECT  \n",
                "        DISTINCT country,\n",
                "        PERCENTILE_CONT(0.5) WITHIN GROUP (ORDER BY Sales) OVER(PARTITION BY country) AS median_AOV,\n",
                "        PERCENTILE_CONT(0.5) WITHIN GROUP (ORDER BY Sales) OVER() AS world_median_AOV\n",
                "    FROM logs)\n",
                "    --ORDER BY median_AOV DESC)\n",
                "\n",
                "SELECT DISTINCT logs.country, median_AOV, AVG(median_AOV) OVER () AS avg_world_aov\n",
                "FROM logs\n",
                "    INNER JOIN CTE_AOV\n",
                "    ON logs.country = CTE_AOV.country;"
            ],
            "metadata": {
                "language": "sql",
                "azdata_cell_guid": "c4e64e59-8854-4c12-89ec-19fa9eb4b7ef"
            },
            "outputs": [
                {
                    "output_type": "display_data",
                    "data": {
                        "text/html": "(101 rows affected)"
                    },
                    "metadata": {}
                },
                {
                    "output_type": "display_data",
                    "data": {
                        "text/html": "Total execution time: 00:00:01.842"
                    },
                    "metadata": {}
                },
                {
                    "output_type": "execute_result",
                    "metadata": {},
                    "execution_count": 45,
                    "data": {
                        "application/vnd.dataresource+json": {
                            "schema": {
                                "fields": [
                                    {
                                        "name": "country"
                                    },
                                    {
                                        "name": "median_AOV"
                                    },
                                    {
                                        "name": "avg_world_aov"
                                    }
                                ]
                            },
                            "data": [
                                {
                                    "country": "Sweden",
                                    "median_AOV": "75.75",
                                    "avg_world_aov": "57.02802231569449"
                                },
                                {
                                    "country": "Puerto Rico",
                                    "median_AOV": "75.75",
                                    "avg_world_aov": "57.02802231569449"
                                },
                                {
                                    "country": "Finland",
                                    "median_AOV": "26.15",
                                    "avg_world_aov": "57.02802231569449"
                                },
                                {
                                    "country": "Japan",
                                    "median_AOV": "15.552",
                                    "avg_world_aov": "57.02802231569449"
                                },
                                {
                                    "country": "Brazil",
                                    "median_AOV": "71.68",
                                    "avg_world_aov": "57.02802231569449"
                                },
                                {
                                    "country": "Guyana",
                                    "median_AOV": "40.66",
                                    "avg_world_aov": "57.02802231569449"
                                },
                                {
                                    "country": "Switzerland",
                                    "median_AOV": "75.75",
                                    "avg_world_aov": "57.02802231569449"
                                },
                                {
                                    "country": "San Marino",
                                    "median_AOV": "121.98",
                                    "avg_world_aov": "57.02802231569449"
                                },
                                {
                                    "country": "Austria",
                                    "median_AOV": "81.32",
                                    "avg_world_aov": "57.02802231569449"
                                },
                                {
                                    "country": "Maldives",
                                    "median_AOV": "17.808",
                                    "avg_world_aov": "57.02802231569449"
                                },
                                {
                                    "country": "Thailand",
                                    "median_AOV": "71.68",
                                    "avg_world_aov": "57.02802231569449"
                                },
                                {
                                    "country": "Mexico",
                                    "median_AOV": "75.75",
                                    "avg_world_aov": "57.02802231569449"
                                },
                                {
                                    "country": "South Africa",
                                    "median_AOV": "81.32",
                                    "avg_world_aov": "57.02802231569449"
                                },
                                {
                                    "country": "Saint Kitts and Nevis",
                                    "median_AOV": "71.68",
                                    "avg_world_aov": "57.02802231569449"
                                },
                                {
                                    "country": "Italy",
                                    "median_AOV": "15.69",
                                    "avg_world_aov": "57.02802231569449"
                                },
                                {
                                    "country": "Lithuania",
                                    "median_AOV": "35.84",
                                    "avg_world_aov": "57.02802231569449"
                                },
                                {
                                    "country": "Bulgaria",
                                    "median_AOV": "71.68",
                                    "avg_world_aov": "57.02802231569449"
                                },
                                {
                                    "country": "Serbia",
                                    "median_AOV": "81.32",
                                    "avg_world_aov": "57.02802231569449"
                                },
                                {
                                    "country": "Belize",
                                    "median_AOV": "71.68",
                                    "avg_world_aov": "57.02802231569449"
                                },
                                {
                                    "country": "Fiji",
                                    "median_AOV": "14.075",
                                    "avg_world_aov": "57.02802231569449"
                                },
                                {
                                    "country": "Kyrgyzstan",
                                    "median_AOV": "35.599999999999994",
                                    "avg_world_aov": "57.02802231569449"
                                },
                                {
                                    "country": "Australia",
                                    "median_AOV": "71.68",
                                    "avg_world_aov": "57.02802231569449"
                                },
                                {
                                    "country": "Cabo Verde",
                                    "median_AOV": "60.6",
                                    "avg_world_aov": "57.02802231569449"
                                },
                                {
                                    "country": "Oman",
                                    "median_AOV": "58.65",
                                    "avg_world_aov": "57.02802231569449"
                                },
                                {
                                    "country": "Netherlands",
                                    "median_AOV": "71.68",
                                    "avg_world_aov": "57.02802231569449"
                                },
                                {
                                    "country": "Luxembourg",
                                    "median_AOV": "40.66",
                                    "avg_world_aov": "57.02802231569449"
                                },
                                {
                                    "country": "Trinidad and Tobago",
                                    "median_AOV": "81.32",
                                    "avg_world_aov": "57.02802231569449"
                                },
                                {
                                    "country": "Spain",
                                    "median_AOV": "81.32",
                                    "avg_world_aov": "57.02802231569449"
                                },
                                {
                                    "country": "Latvia",
                                    "median_AOV": "40.66",
                                    "avg_world_aov": "57.02802231569449"
                                },
                                {
                                    "country": "Dominica",
                                    "median_AOV": "10.46",
                                    "avg_world_aov": "57.02802231569449"
                                },
                                {
                                    "country": "Bahrain",
                                    "median_AOV": "75.75",
                                    "avg_world_aov": "57.02802231569449"
                                },
                                {
                                    "country": "Ukraine",
                                    "median_AOV": "71.68",
                                    "avg_world_aov": "57.02802231569449"
                                },
                                {
                                    "country": "Armenia",
                                    "median_AOV": "71.68",
                                    "avg_world_aov": "57.02802231569449"
                                },
                                {
                                    "country": "Norway",
                                    "median_AOV": "81.32",
                                    "avg_world_aov": "57.02802231569449"
                                },
                                {
                                    "country": "Paraguay",
                                    "median_AOV": "60.6",
                                    "avg_world_aov": "57.02802231569449"
                                },
                                {
                                    "country": "Belgium",
                                    "median_AOV": "73.875",
                                    "avg_world_aov": "57.02802231569449"
                                },
                                {
                                    "country": "Saint Vincent and Grenadines",
                                    "median_AOV": "66.14",
                                    "avg_world_aov": "57.02802231569449"
                                },
                                {
                                    "country": "Aruba",
                                    "median_AOV": "81.32",
                                    "avg_world_aov": "57.02802231569449"
                                },
                                {
                                    "country": "Philippines",
                                    "median_AOV": "58.65",
                                    "avg_world_aov": "57.02802231569449"
                                },
                                {
                                    "country": "Mauritius",
                                    "median_AOV": "58.65",
                                    "avg_world_aov": "57.02802231569449"
                                },
                                {
                                    "country": "Croatia",
                                    "median_AOV": "23.46",
                                    "avg_world_aov": "57.02802231569449"
                                },
                                {
                                    "country": "Qatar",
                                    "median_AOV": "81.32",
                                    "avg_world_aov": "57.02802231569449"
                                },
                                {
                                    "country": "Azerbaijan",
                                    "median_AOV": "75.75",
                                    "avg_world_aov": "57.02802231569449"
                                },
                                {
                                    "country": "Costa Rica",
                                    "median_AOV": "25.875",
                                    "avg_world_aov": "57.02802231569449"
                                },
                                {
                                    "country": "Antigua and Barbuda",
                                    "median_AOV": "60.6",
                                    "avg_world_aov": "57.02802231569449"
                                },
                                {
                                    "country": "Cuba",
                                    "median_AOV": "29.04",
                                    "avg_world_aov": "57.02802231569449"
                                },
                                {
                                    "country": "Republic of Korea",
                                    "median_AOV": "75.75",
                                    "avg_world_aov": "57.02802231569449"
                                },
                                {
                                    "country": "Poland",
                                    "median_AOV": "60.6",
                                    "avg_world_aov": "57.02802231569449"
                                },
                                {
                                    "country": "Suriname",
                                    "median_AOV": "81.32",
                                    "avg_world_aov": "57.02802231569449"
                                },
                                {
                                    "country": "Israel",
                                    "median_AOV": "23.39",
                                    "avg_world_aov": "57.02802231569449"
                                },
                                {
                                    "country": "Slovenia",
                                    "median_AOV": "81.32",
                                    "avg_world_aov": "57.02802231569449"
                                },
                                {
                                    "country": "Slovakia",
                                    "median_AOV": "81.32",
                                    "avg_world_aov": "57.02802231569449"
                                },
                                {
                                    "country": "Singapore",
                                    "median_AOV": "75.75",
                                    "avg_world_aov": "57.02802231569449"
                                },
                                {
                                    "country": "Ecuador",
                                    "median_AOV": "35.19",
                                    "avg_world_aov": "57.02802231569449"
                                },
                                {
                                    "country": "Georgia",
                                    "median_AOV": "40.56",
                                    "avg_world_aov": "57.02802231569449"
                                },
                                {
                                    "country": "Russia",
                                    "median_AOV": "75.75",
                                    "avg_world_aov": "57.02802231569449"
                                },
                                {
                                    "country": "Denmark",
                                    "median_AOV": "21.784",
                                    "avg_world_aov": "57.02802231569449"
                                },
                                {
                                    "country": "Kiribati",
                                    "median_AOV": "46.92",
                                    "avg_world_aov": "57.02802231569449"
                                },
                                {
                                    "country": "Hungary",
                                    "median_AOV": "26.15",
                                    "avg_world_aov": "57.02802231569449"
                                },
                                {
                                    "country": "New Zealand",
                                    "median_AOV": "58.65",
                                    "avg_world_aov": "57.02802231569449"
                                },
                                {
                                    "country": "Romania",
                                    "median_AOV": "81.32",
                                    "avg_world_aov": "57.02802231569449"
                                },
                                {
                                    "country": "United States",
                                    "median_AOV": "81.32",
                                    "avg_world_aov": "57.02802231569449"
                                },
                                {
                                    "country": "Panama",
                                    "median_AOV": "60.6",
                                    "avg_world_aov": "57.02802231569449"
                                },
                                {
                                    "country": "Portugal",
                                    "median_AOV": "81.32",
                                    "avg_world_aov": "57.02802231569449"
                                },
                                {
                                    "country": "Turkey",
                                    "median_AOV": "75.75",
                                    "avg_world_aov": "57.02802231569449"
                                },
                                {
                                    "country": "Argentina",
                                    "median_AOV": "71.68",
                                    "avg_world_aov": "57.02802231569449"
                                },
                                {
                                    "country": "Canada",
                                    "median_AOV": "71.68",
                                    "avg_world_aov": "57.02802231569449"
                                },
                                {
                                    "country": "Nicaragua",
                                    "median_AOV": "81.32",
                                    "avg_world_aov": "57.02802231569449"
                                },
                                {
                                    "country": "Guatemala",
                                    "median_AOV": "40.66",
                                    "avg_world_aov": "57.02802231569449"
                                },
                                {
                                    "country": "Macau",
                                    "median_AOV": "35.515",
                                    "avg_world_aov": "57.02802231569449"
                                },
                                {
                                    "country": "Cyprus",
                                    "median_AOV": "21.93",
                                    "avg_world_aov": "57.02802231569449"
                                },
                                {
                                    "country": "Colombia",
                                    "median_AOV": "29.3115",
                                    "avg_world_aov": "57.02802231569449"
                                },
                                {
                                    "country": "Seychelles",
                                    "median_AOV": "75.75",
                                    "avg_world_aov": "57.02802231569449"
                                },
                                {
                                    "country": "Montenegro",
                                    "median_AOV": "81.32",
                                    "avg_world_aov": "57.02802231569449"
                                },
                                {
                                    "country": "Uzbekistan",
                                    "median_AOV": "71.68",
                                    "avg_world_aov": "57.02802231569449"
                                },
                                {
                                    "country": "Belarus",
                                    "median_AOV": "71.68",
                                    "avg_world_aov": "57.02802231569449"
                                },
                                {
                                    "country": "Barbados",
                                    "median_AOV": "75.75",
                                    "avg_world_aov": "57.02802231569449"
                                },
                                {
                                    "country": "Uruguay",
                                    "median_AOV": "71.68",
                                    "avg_world_aov": "57.02802231569449"
                                },
                                {
                                    "country": "France",
                                    "median_AOV": "28.831",
                                    "avg_world_aov": "57.02802231569449"
                                },
                                {
                                    "country": "Albania",
                                    "median_AOV": "71.68",
                                    "avg_world_aov": "57.02802231569449"
                                },
                                {
                                    "country": "Greece",
                                    "median_AOV": "30.3",
                                    "avg_world_aov": "57.02802231569449"
                                },
                                {
                                    "country": "United Arab Emirates",
                                    "median_AOV": "66.14",
                                    "avg_world_aov": "57.02802231569449"
                                },
                                {
                                    "country": "Germany",
                                    "median_AOV": "41.352000000000004",
                                    "avg_world_aov": "57.02802231569449"
                                },
                                {
                                    "country": "Grenada",
                                    "median_AOV": "36.343999999999994",
                                    "avg_world_aov": "57.02802231569449"
                                },
                                {
                                    "country": "Malta",
                                    "median_AOV": "40.66",
                                    "avg_world_aov": "57.02802231569449"
                                },
                                {
                                    "country": "Iceland",
                                    "median_AOV": "17.019",
                                    "avg_world_aov": "57.02802231569449"
                                },
                                {
                                    "country": "Kuwait",
                                    "median_AOV": "40.66",
                                    "avg_world_aov": "57.02802231569449"
                                },
                                {
                                    "country": "El Salvador",
                                    "median_AOV": "40.66",
                                    "avg_world_aov": "57.02802231569449"
                                },
                                {
                                    "country": "Jamaica",
                                    "median_AOV": "13.194",
                                    "avg_world_aov": "57.02802231569449"
                                },
                                {
                                    "country": "Estonia",
                                    "median_AOV": "17.92",
                                    "avg_world_aov": "57.02802231569449"
                                },
                                {
                                    "country": "Bosnia and Herzegovina",
                                    "median_AOV": "78.535",
                                    "avg_world_aov": "57.02802231569449"
                                },
                                {
                                    "country": "Czech Republic",
                                    "median_AOV": "24.064999999999998",
                                    "avg_world_aov": "57.02802231569449"
                                },
                                {
                                    "country": "United Kingdom",
                                    "median_AOV": "71.68",
                                    "avg_world_aov": "57.02802231569449"
                                },
                                {
                                    "country": "Saint Lucia",
                                    "median_AOV": "71.68",
                                    "avg_world_aov": "57.02802231569449"
                                },
                                {
                                    "country": "Mongolia",
                                    "median_AOV": "94.41999999999999",
                                    "avg_world_aov": "57.02802231569449"
                                },
                                {
                                    "country": "Chile",
                                    "median_AOV": "41.91",
                                    "avg_world_aov": "57.02802231569449"
                                },
                                {
                                    "country": "Bahamas",
                                    "median_AOV": "75.75",
                                    "avg_world_aov": "57.02802231569449"
                                },
                                {
                                    "country": "Ireland",
                                    "median_AOV": "24.695",
                                    "avg_world_aov": "57.02802231569449"
                                },
                                {
                                    "country": "Sri Lanka",
                                    "median_AOV": "75.75",
                                    "avg_world_aov": "57.02802231569449"
                                },
                                {
                                    "country": "Turkmenistan",
                                    "median_AOV": "75.75",
                                    "avg_world_aov": "57.02802231569449"
                                },
                                {
                                    "country": "Kazakhstan",
                                    "median_AOV": "31.14",
                                    "avg_world_aov": "57.02802231569449"
                                }
                            ]
                        },
                        "text/html": [
                            "<table>",
                            "<tr><th>country</th><th>median_AOV</th><th>avg_world_aov</th></tr>",
                            "<tr><td>Sweden</td><td>75.75</td><td>57.02802231569449</td></tr>",
                            "<tr><td>Puerto Rico</td><td>75.75</td><td>57.02802231569449</td></tr>",
                            "<tr><td>Finland</td><td>26.15</td><td>57.02802231569449</td></tr>",
                            "<tr><td>Japan</td><td>15.552</td><td>57.02802231569449</td></tr>",
                            "<tr><td>Brazil</td><td>71.68</td><td>57.02802231569449</td></tr>",
                            "<tr><td>Guyana</td><td>40.66</td><td>57.02802231569449</td></tr>",
                            "<tr><td>Switzerland</td><td>75.75</td><td>57.02802231569449</td></tr>",
                            "<tr><td>San Marino</td><td>121.98</td><td>57.02802231569449</td></tr>",
                            "<tr><td>Austria</td><td>81.32</td><td>57.02802231569449</td></tr>",
                            "<tr><td>Maldives</td><td>17.808</td><td>57.02802231569449</td></tr>",
                            "<tr><td>Thailand</td><td>71.68</td><td>57.02802231569449</td></tr>",
                            "<tr><td>Mexico</td><td>75.75</td><td>57.02802231569449</td></tr>",
                            "<tr><td>South Africa</td><td>81.32</td><td>57.02802231569449</td></tr>",
                            "<tr><td>Saint Kitts and Nevis</td><td>71.68</td><td>57.02802231569449</td></tr>",
                            "<tr><td>Italy</td><td>15.69</td><td>57.02802231569449</td></tr>",
                            "<tr><td>Lithuania</td><td>35.84</td><td>57.02802231569449</td></tr>",
                            "<tr><td>Bulgaria</td><td>71.68</td><td>57.02802231569449</td></tr>",
                            "<tr><td>Serbia</td><td>81.32</td><td>57.02802231569449</td></tr>",
                            "<tr><td>Belize</td><td>71.68</td><td>57.02802231569449</td></tr>",
                            "<tr><td>Fiji</td><td>14.075</td><td>57.02802231569449</td></tr>",
                            "<tr><td>Kyrgyzstan</td><td>35.599999999999994</td><td>57.02802231569449</td></tr>",
                            "<tr><td>Australia</td><td>71.68</td><td>57.02802231569449</td></tr>",
                            "<tr><td>Cabo Verde</td><td>60.6</td><td>57.02802231569449</td></tr>",
                            "<tr><td>Oman</td><td>58.65</td><td>57.02802231569449</td></tr>",
                            "<tr><td>Netherlands</td><td>71.68</td><td>57.02802231569449</td></tr>",
                            "<tr><td>Luxembourg</td><td>40.66</td><td>57.02802231569449</td></tr>",
                            "<tr><td>Trinidad and Tobago</td><td>81.32</td><td>57.02802231569449</td></tr>",
                            "<tr><td>Spain</td><td>81.32</td><td>57.02802231569449</td></tr>",
                            "<tr><td>Latvia</td><td>40.66</td><td>57.02802231569449</td></tr>",
                            "<tr><td>Dominica</td><td>10.46</td><td>57.02802231569449</td></tr>",
                            "<tr><td>Bahrain</td><td>75.75</td><td>57.02802231569449</td></tr>",
                            "<tr><td>Ukraine</td><td>71.68</td><td>57.02802231569449</td></tr>",
                            "<tr><td>Armenia</td><td>71.68</td><td>57.02802231569449</td></tr>",
                            "<tr><td>Norway</td><td>81.32</td><td>57.02802231569449</td></tr>",
                            "<tr><td>Paraguay</td><td>60.6</td><td>57.02802231569449</td></tr>",
                            "<tr><td>Belgium</td><td>73.875</td><td>57.02802231569449</td></tr>",
                            "<tr><td>Saint Vincent and Grenadines</td><td>66.14</td><td>57.02802231569449</td></tr>",
                            "<tr><td>Aruba</td><td>81.32</td><td>57.02802231569449</td></tr>",
                            "<tr><td>Philippines</td><td>58.65</td><td>57.02802231569449</td></tr>",
                            "<tr><td>Mauritius</td><td>58.65</td><td>57.02802231569449</td></tr>",
                            "<tr><td>Croatia</td><td>23.46</td><td>57.02802231569449</td></tr>",
                            "<tr><td>Qatar</td><td>81.32</td><td>57.02802231569449</td></tr>",
                            "<tr><td>Azerbaijan</td><td>75.75</td><td>57.02802231569449</td></tr>",
                            "<tr><td>Costa Rica</td><td>25.875</td><td>57.02802231569449</td></tr>",
                            "<tr><td>Antigua and Barbuda</td><td>60.6</td><td>57.02802231569449</td></tr>",
                            "<tr><td>Cuba</td><td>29.04</td><td>57.02802231569449</td></tr>",
                            "<tr><td>Republic of Korea</td><td>75.75</td><td>57.02802231569449</td></tr>",
                            "<tr><td>Poland</td><td>60.6</td><td>57.02802231569449</td></tr>",
                            "<tr><td>Suriname</td><td>81.32</td><td>57.02802231569449</td></tr>",
                            "<tr><td>Israel</td><td>23.39</td><td>57.02802231569449</td></tr>",
                            "<tr><td>Slovenia</td><td>81.32</td><td>57.02802231569449</td></tr>",
                            "<tr><td>Slovakia</td><td>81.32</td><td>57.02802231569449</td></tr>",
                            "<tr><td>Singapore</td><td>75.75</td><td>57.02802231569449</td></tr>",
                            "<tr><td>Ecuador</td><td>35.19</td><td>57.02802231569449</td></tr>",
                            "<tr><td>Georgia</td><td>40.56</td><td>57.02802231569449</td></tr>",
                            "<tr><td>Russia</td><td>75.75</td><td>57.02802231569449</td></tr>",
                            "<tr><td>Denmark</td><td>21.784</td><td>57.02802231569449</td></tr>",
                            "<tr><td>Kiribati</td><td>46.92</td><td>57.02802231569449</td></tr>",
                            "<tr><td>Hungary</td><td>26.15</td><td>57.02802231569449</td></tr>",
                            "<tr><td>New Zealand</td><td>58.65</td><td>57.02802231569449</td></tr>",
                            "<tr><td>Romania</td><td>81.32</td><td>57.02802231569449</td></tr>",
                            "<tr><td>United States</td><td>81.32</td><td>57.02802231569449</td></tr>",
                            "<tr><td>Panama</td><td>60.6</td><td>57.02802231569449</td></tr>",
                            "<tr><td>Portugal</td><td>81.32</td><td>57.02802231569449</td></tr>",
                            "<tr><td>Turkey</td><td>75.75</td><td>57.02802231569449</td></tr>",
                            "<tr><td>Argentina</td><td>71.68</td><td>57.02802231569449</td></tr>",
                            "<tr><td>Canada</td><td>71.68</td><td>57.02802231569449</td></tr>",
                            "<tr><td>Nicaragua</td><td>81.32</td><td>57.02802231569449</td></tr>",
                            "<tr><td>Guatemala</td><td>40.66</td><td>57.02802231569449</td></tr>",
                            "<tr><td>Macau</td><td>35.515</td><td>57.02802231569449</td></tr>",
                            "<tr><td>Cyprus</td><td>21.93</td><td>57.02802231569449</td></tr>",
                            "<tr><td>Colombia</td><td>29.3115</td><td>57.02802231569449</td></tr>",
                            "<tr><td>Seychelles</td><td>75.75</td><td>57.02802231569449</td></tr>",
                            "<tr><td>Montenegro</td><td>81.32</td><td>57.02802231569449</td></tr>",
                            "<tr><td>Uzbekistan</td><td>71.68</td><td>57.02802231569449</td></tr>",
                            "<tr><td>Belarus</td><td>71.68</td><td>57.02802231569449</td></tr>",
                            "<tr><td>Barbados</td><td>75.75</td><td>57.02802231569449</td></tr>",
                            "<tr><td>Uruguay</td><td>71.68</td><td>57.02802231569449</td></tr>",
                            "<tr><td>France</td><td>28.831</td><td>57.02802231569449</td></tr>",
                            "<tr><td>Albania</td><td>71.68</td><td>57.02802231569449</td></tr>",
                            "<tr><td>Greece</td><td>30.3</td><td>57.02802231569449</td></tr>",
                            "<tr><td>United Arab Emirates</td><td>66.14</td><td>57.02802231569449</td></tr>",
                            "<tr><td>Germany</td><td>41.352000000000004</td><td>57.02802231569449</td></tr>",
                            "<tr><td>Grenada</td><td>36.343999999999994</td><td>57.02802231569449</td></tr>",
                            "<tr><td>Malta</td><td>40.66</td><td>57.02802231569449</td></tr>",
                            "<tr><td>Iceland</td><td>17.019</td><td>57.02802231569449</td></tr>",
                            "<tr><td>Kuwait</td><td>40.66</td><td>57.02802231569449</td></tr>",
                            "<tr><td>El Salvador</td><td>40.66</td><td>57.02802231569449</td></tr>",
                            "<tr><td>Jamaica</td><td>13.194</td><td>57.02802231569449</td></tr>",
                            "<tr><td>Estonia</td><td>17.92</td><td>57.02802231569449</td></tr>",
                            "<tr><td>Bosnia and Herzegovina</td><td>78.535</td><td>57.02802231569449</td></tr>",
                            "<tr><td>Czech Republic</td><td>24.064999999999998</td><td>57.02802231569449</td></tr>",
                            "<tr><td>United Kingdom</td><td>71.68</td><td>57.02802231569449</td></tr>",
                            "<tr><td>Saint Lucia</td><td>71.68</td><td>57.02802231569449</td></tr>",
                            "<tr><td>Mongolia</td><td>94.41999999999999</td><td>57.02802231569449</td></tr>",
                            "<tr><td>Chile</td><td>41.91</td><td>57.02802231569449</td></tr>",
                            "<tr><td>Bahamas</td><td>75.75</td><td>57.02802231569449</td></tr>",
                            "<tr><td>Ireland</td><td>24.695</td><td>57.02802231569449</td></tr>",
                            "<tr><td>Sri Lanka</td><td>75.75</td><td>57.02802231569449</td></tr>",
                            "<tr><td>Turkmenistan</td><td>75.75</td><td>57.02802231569449</td></tr>",
                            "<tr><td>Kazakhstan</td><td>31.14</td><td>57.02802231569449</td></tr>",
                            "</table>"
                        ]
                    }
                }
            ],
            "execution_count": 45
        },
        {
            "cell_type": "markdown",
            "source": [
                "The average order values (mean) range from $235-$557 and are much higher than the median AOV's which range from $10-$122. This indicates that there are several large outliers for each dataset that pull the mean much higher than the median. As a result, we will use the median AOV because it is more robust to outliers and is a better representation for central tendency in this case.\n",
                "\n",
                "We'll now look at returns of purchased items for each country."
            ],
            "metadata": {
                "language": "sql",
                "azdata_cell_guid": "20484698-456f-43a3-bdf6-ec1993d9be7f"
            },
            "attachments": {}
        },
        {
            "cell_type": "code",
            "source": [
                "-- CTE for value of sales returned\n",
                "WITH returned_value AS (\n",
                "    SELECT country,\n",
                "        -- Sum of total dollars returned\n",
                "        SUM(Returned_Amount) AS returned_amount,\n",
                "        -- Percentage of dollars returned over dollars sold\n",
                "        -- Sales column doesn't include amount for returned items\n",
                "        SUM(Returned_Amount) / (SUM(Sales) + SUM(Returned_Amount)) AS pct_value_returned\n",
                "    From logs\n",
                "    GROUP BY country),\n",
                "\n",
                "-- CTE for number of sales returned\n",
                "returned_sales AS (\n",
                "    SELECT t1.country, \n",
                "        -- counting all rows (number of transactions)\n",
                "        COUNT(*) AS num_sales,\n",
                "        -- counting number of order returns \n",
                "        COUNT(t2.Returned) AS sales_returned,\n",
                "        -- calculating percentage of orders that were returned\n",
                "        1.0 * COUNT(t2.Returned) / COUNT(*) AS pct_sales_returned\n",
                "    FROM logs as t1\n",
                "    LEFT JOIN (SELECT duration_seconds, ip, country, Returned\n",
                "    FROM logs \n",
                "    WHERE Returned = 'Yes') AS t2\n",
                "    ON t1.duration_seconds = t2.duration_seconds\n",
                "    AND t1.ip = t2.ip\n",
                "    GROUP BY t1.country)\n",
                "\n",
                "-- final query with percent of orders returned and percent of sales refunded\n",
                "SELECT CTE1.country, pct_sales_returned, pct_value_returned \n",
                "FROM returned_value AS CTE1\n",
                "    INNER JOIN returned_sales AS CTE2\n",
                "    ON CTE1.country = CTE2.country \n",
                "ORDER BY pct_sales_returned DESC, pct_value_returned DESC;\n",
                "\n",
                ""
            ],
            "metadata": {
                "language": "sql",
                "azdata_cell_guid": "345b24ef-7116-47f8-b846-4d6430801a74",
                "tags": []
            },
            "outputs": [
                {
                    "output_type": "display_data",
                    "data": {
                        "text/html": "Warning: Null value is eliminated by an aggregate or other SET operation."
                    },
                    "metadata": {}
                },
                {
                    "output_type": "display_data",
                    "data": {
                        "text/html": "(101 rows affected)"
                    },
                    "metadata": {}
                },
                {
                    "output_type": "display_data",
                    "data": {
                        "text/html": "Total execution time: 00:00:00.764"
                    },
                    "metadata": {}
                },
                {
                    "output_type": "execute_result",
                    "metadata": {},
                    "execution_count": 35,
                    "data": {
                        "application/vnd.dataresource+json": {
                            "schema": {
                                "fields": [
                                    {
                                        "name": "country"
                                    },
                                    {
                                        "name": "pct_sales_returned"
                                    },
                                    {
                                        "name": "pct_value_returned"
                                    }
                                ]
                            },
                            "data": [
                                {
                                    "country": "Nicaragua",
                                    "pct_sales_returned": "0.212962962962",
                                    "pct_value_returned": "0.21179128180131432"
                                },
                                {
                                    "country": "Oman",
                                    "pct_sales_returned": "0.212962962962",
                                    "pct_value_returned": "0.15195254761361243"
                                },
                                {
                                    "country": "Montenegro",
                                    "pct_sales_returned": "0.190277777777",
                                    "pct_value_returned": "0.21973417846937762"
                                },
                                {
                                    "country": "Puerto Rico",
                                    "pct_sales_returned": "0.184139784946",
                                    "pct_value_returned": "0.15605512400495494"
                                },
                                {
                                    "country": "Poland",
                                    "pct_sales_returned": "0.182870370370",
                                    "pct_value_returned": "0.1416946334543681"
                                },
                                {
                                    "country": "Paraguay",
                                    "pct_sales_returned": "0.178497942386",
                                    "pct_value_returned": "0.17183279571242158"
                                },
                                {
                                    "country": "Philippines",
                                    "pct_sales_returned": "0.177015755329",
                                    "pct_value_returned": "0.15597966717691733"
                                },
                                {
                                    "country": "New Zealand",
                                    "pct_sales_returned": "0.171455938697",
                                    "pct_value_returned": "0.16719107551492732"
                                },
                                {
                                    "country": "Qatar",
                                    "pct_sales_returned": "0.171348314606",
                                    "pct_value_returned": "0.13725544107967674"
                                },
                                {
                                    "country": "Portugal",
                                    "pct_sales_returned": "0.170781893004",
                                    "pct_value_returned": "0.15266371014340657"
                                },
                                {
                                    "country": "Republic of Korea",
                                    "pct_sales_returned": "0.170698924731",
                                    "pct_value_returned": "0.1386451845251341"
                                },
                                {
                                    "country": "Turkmenistan",
                                    "pct_sales_returned": "0.170498084291",
                                    "pct_value_returned": "0.1755562065563355"
                                },
                                {
                                    "country": "Norway",
                                    "pct_sales_returned": "0.168055555555",
                                    "pct_value_returned": "0.14648826008177862"
                                },
                                {
                                    "country": "Ukraine",
                                    "pct_sales_returned": "0.161706349206",
                                    "pct_value_returned": "0.15800120178596974"
                                },
                                {
                                    "country": "Slovakia",
                                    "pct_sales_returned": "0.157828282828",
                                    "pct_value_returned": "0.13235868024179404"
                                },
                                {
                                    "country": "Panama",
                                    "pct_sales_returned": "0.157777777777",
                                    "pct_value_returned": "0.161759685174265"
                                },
                                {
                                    "country": "Saint Kitts and Nevis",
                                    "pct_sales_returned": "0.157407407407",
                                    "pct_value_returned": "0.11034302063778338"
                                },
                                {
                                    "country": "Switzerland",
                                    "pct_sales_returned": "0.156746031746",
                                    "pct_value_returned": "0.1838030632666294"
                                },
                                {
                                    "country": "Serbia",
                                    "pct_sales_returned": "0.156635802469",
                                    "pct_value_returned": "0.18601890985154315"
                                },
                                {
                                    "country": "Dominica",
                                    "pct_sales_returned": "0.152777777777",
                                    "pct_value_returned": "0.41682638534275407"
                                },
                                {
                                    "country": "South Africa",
                                    "pct_sales_returned": "0.152777777777",
                                    "pct_value_returned": "0.11065572592410283"
                                },
                                {
                                    "country": "Saint Lucia",
                                    "pct_sales_returned": "0.152281746031",
                                    "pct_value_returned": "0.15103533388885867"
                                },
                                {
                                    "country": "Netherlands",
                                    "pct_sales_returned": "0.152268760907",
                                    "pct_value_returned": "0.15423967382326148"
                                },
                                {
                                    "country": "Mexico",
                                    "pct_sales_returned": "0.151881720430",
                                    "pct_value_returned": "0.1585345599836336"
                                },
                                {
                                    "country": "Mauritius",
                                    "pct_sales_returned": "0.150959860383",
                                    "pct_value_returned": "0.16927232672302803"
                                },
                                {
                                    "country": "United Arab Emirates",
                                    "pct_sales_returned": "0.150462962962",
                                    "pct_value_returned": "0.2207978693272318"
                                },
                                {
                                    "country": "Mongolia",
                                    "pct_sales_returned": "0.150000000000",
                                    "pct_value_returned": "0.21720911162519385"
                                },
                                {
                                    "country": "Thailand",
                                    "pct_sales_returned": "0.149700598802",
                                    "pct_value_returned": "0.14140295636411362"
                                },
                                {
                                    "country": "Trinidad and Tobago",
                                    "pct_sales_returned": "0.149691358024",
                                    "pct_value_returned": "0.166058966984402"
                                },
                                {
                                    "country": "Uruguay",
                                    "pct_sales_returned": "0.149305555555",
                                    "pct_value_returned": "0.15546877980131008"
                                },
                                {
                                    "country": "Seychelles",
                                    "pct_sales_returned": "0.148919753086",
                                    "pct_value_returned": "0.15288077020941138"
                                },
                                {
                                    "country": "Saint Vincent and Grenadines",
                                    "pct_sales_returned": "0.147222222222",
                                    "pct_value_returned": "0.1578306134398837"
                                },
                                {
                                    "country": "United Kingdom",
                                    "pct_sales_returned": "0.146887595163",
                                    "pct_value_returned": "0.16909418208500715"
                                },
                                {
                                    "country": "Sweden",
                                    "pct_sales_returned": "0.146648044692",
                                    "pct_value_returned": "0.159694984331105"
                                },
                                {
                                    "country": "Albania",
                                    "pct_sales_returned": "0.144480519480",
                                    "pct_value_returned": "0.17508950794223882"
                                },
                                {
                                    "country": "San Marino",
                                    "pct_sales_returned": "0.143518518518",
                                    "pct_value_returned": "0.08445700058144673"
                                },
                                {
                                    "country": "Singapore",
                                    "pct_sales_returned": "0.143369175627",
                                    "pct_value_returned": "0.14644639878451488"
                                },
                                {
                                    "country": "Latvia",
                                    "pct_sales_returned": "0.142951687624",
                                    "pct_value_returned": "0.17880813190249115"
                                },
                                {
                                    "country": "Suriname",
                                    "pct_sales_returned": "0.142857142857",
                                    "pct_value_returned": "0.12274140160575248"
                                },
                                {
                                    "country": "United States",
                                    "pct_sales_returned": "0.141640519946",
                                    "pct_value_returned": "0.13763357599841128"
                                },
                                {
                                    "country": "Guyana",
                                    "pct_sales_returned": "0.140633685380",
                                    "pct_value_returned": "0.20442932048887963"
                                },
                                {
                                    "country": "Armenia",
                                    "pct_sales_returned": "0.139980824544",
                                    "pct_value_returned": "0.16414319749023445"
                                },
                                {
                                    "country": "Spain",
                                    "pct_sales_returned": "0.138440860215",
                                    "pct_value_returned": "0.11356458673045527"
                                },
                                {
                                    "country": "Romania",
                                    "pct_sales_returned": "0.138223552894",
                                    "pct_value_returned": "0.13853069420367586"
                                },
                                {
                                    "country": "Belize",
                                    "pct_sales_returned": "0.136479591836",
                                    "pct_value_returned": "0.16056040871036592"
                                },
                                {
                                    "country": "Bahrain",
                                    "pct_sales_returned": "0.136054421768",
                                    "pct_value_returned": "0.13987344599350557"
                                },
                                {
                                    "country": "Kuwait",
                                    "pct_sales_returned": "0.136035535813",
                                    "pct_value_returned": "0.1525867712832713"
                                },
                                {
                                    "country": "Belarus",
                                    "pct_sales_returned": "0.135564378899",
                                    "pct_value_returned": "0.14206112724429593"
                                },
                                {
                                    "country": "Slovenia",
                                    "pct_sales_returned": "0.135009927200",
                                    "pct_value_returned": "0.09834957001717466"
                                },
                                {
                                    "country": "Barbados",
                                    "pct_sales_returned": "0.134826107670",
                                    "pct_value_returned": "0.13714564874899382"
                                },
                                {
                                    "country": "Brazil",
                                    "pct_sales_returned": "0.134792626728",
                                    "pct_value_returned": "0.16863282966199297"
                                },
                                {
                                    "country": "Bahamas",
                                    "pct_sales_returned": "0.134505949301",
                                    "pct_value_returned": "0.1442156490858075"
                                },
                                {
                                    "country": "Argentina",
                                    "pct_sales_returned": "0.133307721859",
                                    "pct_value_returned": "0.1619016520445564"
                                },
                                {
                                    "country": "Uzbekistan",
                                    "pct_sales_returned": "0.132575757575",
                                    "pct_value_returned": "0.16599578790261404"
                                },
                                {
                                    "country": "Guatemala",
                                    "pct_sales_returned": "0.131944444444",
                                    "pct_value_returned": "0.17122064074310195"
                                },
                                {
                                    "country": "Russia",
                                    "pct_sales_returned": "0.131147540983",
                                    "pct_value_returned": "0.1410352114251003"
                                },
                                {
                                    "country": "Turkey",
                                    "pct_sales_returned": "0.130952380952",
                                    "pct_value_returned": "0.10766988675118998"
                                },
                                {
                                    "country": "Luxembourg",
                                    "pct_sales_returned": "0.130824372759",
                                    "pct_value_returned": "0.15466121778979863"
                                },
                                {
                                    "country": "Antigua and Barbuda",
                                    "pct_sales_returned": "0.130511463844",
                                    "pct_value_returned": "0.1671689258731355"
                                },
                                {
                                    "country": "Aruba",
                                    "pct_sales_returned": "0.129251700680",
                                    "pct_value_returned": "0.14296296034653322"
                                },
                                {
                                    "country": "Australia",
                                    "pct_sales_returned": "0.127777777777",
                                    "pct_value_returned": "0.1342574598171063"
                                },
                                {
                                    "country": "Sri Lanka",
                                    "pct_sales_returned": "0.127525252525",
                                    "pct_value_returned": "0.09093712300080514"
                                },
                                {
                                    "country": "Hungary",
                                    "pct_sales_returned": "0.126881720430",
                                    "pct_value_returned": "0.20215967647807814"
                                },
                                {
                                    "country": "Azerbaijan",
                                    "pct_sales_returned": "0.126488095238",
                                    "pct_value_returned": "0.1253355526735021"
                                },
                                {
                                    "country": "Maldives",
                                    "pct_sales_returned": "0.126388888888",
                                    "pct_value_returned": "0.2182148399008438"
                                },
                                {
                                    "country": "Belgium",
                                    "pct_sales_returned": "0.124807987711",
                                    "pct_value_returned": "0.15217351915917593"
                                },
                                {
                                    "country": "Greece",
                                    "pct_sales_returned": "0.124551971326",
                                    "pct_value_returned": "0.1855260940375158"
                                },
                                {
                                    "country": "Austria",
                                    "pct_sales_returned": "0.124158563949",
                                    "pct_value_returned": "0.13609233836509788"
                                },
                                {
                                    "country": "Kyrgyzstan",
                                    "pct_sales_returned": "0.119123931623",
                                    "pct_value_returned": "0.14385089069668963"
                                },
                                {
                                    "country": "Grenada",
                                    "pct_sales_returned": "0.117741935483",
                                    "pct_value_returned": "0.1613112295238262"
                                },
                                {
                                    "country": "Lithuania",
                                    "pct_sales_returned": "0.117684478371",
                                    "pct_value_returned": "0.12114375200106973"
                                },
                                {
                                    "country": "Malta",
                                    "pct_sales_returned": "0.116039426523",
                                    "pct_value_returned": "0.14876467468035276"
                                },
                                {
                                    "country": "Kazakhstan",
                                    "pct_sales_returned": "0.113247863247",
                                    "pct_value_returned": "0.15420071849191674"
                                },
                                {
                                    "country": "France",
                                    "pct_sales_returned": "0.112500000000",
                                    "pct_value_returned": "0.17091972743941955"
                                },
                                {
                                    "country": "Bulgaria",
                                    "pct_sales_returned": "0.111507936507",
                                    "pct_value_returned": "0.11576664685882165"
                                },
                                {
                                    "country": "Kiribati",
                                    "pct_sales_returned": "0.111111111111",
                                    "pct_value_returned": "0.11578842082363633"
                                },
                                {
                                    "country": "Italy",
                                    "pct_sales_returned": "0.107974910394",
                                    "pct_value_returned": "0.1778600216336717"
                                },
                                {
                                    "country": "Chile",
                                    "pct_sales_returned": "0.107910906298",
                                    "pct_value_returned": "0.15475739181808754"
                                },
                                {
                                    "country": "Iceland",
                                    "pct_sales_returned": "0.106893542757",
                                    "pct_value_returned": "0.1806826406781312"
                                },
                                {
                                    "country": "Ireland",
                                    "pct_sales_returned": "0.104629629629",
                                    "pct_value_returned": "0.18280738764487423"
                                },
                                {
                                    "country": "Canada",
                                    "pct_sales_returned": "0.104269293924",
                                    "pct_value_returned": "0.1387213302940069"
                                },
                                {
                                    "country": "Israel",
                                    "pct_sales_returned": "0.102598566308",
                                    "pct_value_returned": "0.16731406262902562"
                                },
                                {
                                    "country": "Japan",
                                    "pct_sales_returned": "0.102552619793",
                                    "pct_value_returned": "0.13061369704727427"
                                },
                                {
                                    "country": "Jamaica",
                                    "pct_sales_returned": "0.102124183006",
                                    "pct_value_returned": "0.12022248900311977"
                                },
                                {
                                    "country": "Ecuador",
                                    "pct_sales_returned": "0.101702508960",
                                    "pct_value_returned": "0.16961774067380567"
                                },
                                {
                                    "country": "Fiji",
                                    "pct_sales_returned": "0.101010101010",
                                    "pct_value_returned": "0.2251059913195575"
                                },
                                {
                                    "country": "Germany",
                                    "pct_sales_returned": "0.100961538461",
                                    "pct_value_returned": "0.17240300683900145"
                                },
                                {
                                    "country": "Georgia",
                                    "pct_sales_returned": "0.099116161616",
                                    "pct_value_returned": "0.16199832378698306"
                                },
                                {
                                    "country": "El Salvador",
                                    "pct_sales_returned": "0.097800925925",
                                    "pct_value_returned": "0.14052520722058312"
                                },
                                {
                                    "country": "Finland",
                                    "pct_sales_returned": "0.092432950191",
                                    "pct_value_returned": "0.1324679650215768"
                                },
                                {
                                    "country": "Denmark",
                                    "pct_sales_returned": "0.090277777777",
                                    "pct_value_returned": "0.15125981369188934"
                                },
                                {
                                    "country": "Cyprus",
                                    "pct_sales_returned": "0.087160262417",
                                    "pct_value_returned": "0.21447017097491272"
                                },
                                {
                                    "country": "Cabo Verde",
                                    "pct_sales_returned": "0.083333333333",
                                    "pct_value_returned": "0.05222501547110911"
                                },
                                {
                                    "country": "Macau",
                                    "pct_sales_returned": "0.083333333333",
                                    "pct_value_returned": "0.006688836585370617"
                                },
                                {
                                    "country": "Czech Republic",
                                    "pct_sales_returned": "0.079710144927",
                                    "pct_value_returned": "0.14147895987458847"
                                },
                                {
                                    "country": "Estonia",
                                    "pct_sales_returned": "0.079365079365",
                                    "pct_value_returned": "0.14613527529276482"
                                },
                                {
                                    "country": "Colombia",
                                    "pct_sales_returned": "0.076372315035",
                                    "pct_value_returned": "0.10003799685188139"
                                },
                                {
                                    "country": "Bosnia and Herzegovina",
                                    "pct_sales_returned": "0.071428571428",
                                    "pct_value_returned": "0.1408350620740452"
                                },
                                {
                                    "country": "Cuba",
                                    "pct_sales_returned": "0.068287037037",
                                    "pct_value_returned": "0.12362082615583489"
                                },
                                {
                                    "country": "Croatia",
                                    "pct_sales_returned": "0.064885496183",
                                    "pct_value_returned": "0.11295491091368834"
                                },
                                {
                                    "country": "Costa Rica",
                                    "pct_sales_returned": "0.063859324386",
                                    "pct_value_returned": "0.12113145636301079"
                                }
                            ]
                        },
                        "text/html": [
                            "<table>",
                            "<tr><th>country</th><th>pct_sales_returned</th><th>pct_value_returned</th></tr>",
                            "<tr><td>Nicaragua</td><td>0.212962962962</td><td>0.21179128180131432</td></tr>",
                            "<tr><td>Oman</td><td>0.212962962962</td><td>0.15195254761361243</td></tr>",
                            "<tr><td>Montenegro</td><td>0.190277777777</td><td>0.21973417846937762</td></tr>",
                            "<tr><td>Puerto Rico</td><td>0.184139784946</td><td>0.15605512400495494</td></tr>",
                            "<tr><td>Poland</td><td>0.182870370370</td><td>0.1416946334543681</td></tr>",
                            "<tr><td>Paraguay</td><td>0.178497942386</td><td>0.17183279571242158</td></tr>",
                            "<tr><td>Philippines</td><td>0.177015755329</td><td>0.15597966717691733</td></tr>",
                            "<tr><td>New Zealand</td><td>0.171455938697</td><td>0.16719107551492732</td></tr>",
                            "<tr><td>Qatar</td><td>0.171348314606</td><td>0.13725544107967674</td></tr>",
                            "<tr><td>Portugal</td><td>0.170781893004</td><td>0.15266371014340657</td></tr>",
                            "<tr><td>Republic of Korea</td><td>0.170698924731</td><td>0.1386451845251341</td></tr>",
                            "<tr><td>Turkmenistan</td><td>0.170498084291</td><td>0.1755562065563355</td></tr>",
                            "<tr><td>Norway</td><td>0.168055555555</td><td>0.14648826008177862</td></tr>",
                            "<tr><td>Ukraine</td><td>0.161706349206</td><td>0.15800120178596974</td></tr>",
                            "<tr><td>Slovakia</td><td>0.157828282828</td><td>0.13235868024179404</td></tr>",
                            "<tr><td>Panama</td><td>0.157777777777</td><td>0.161759685174265</td></tr>",
                            "<tr><td>Saint Kitts and Nevis</td><td>0.157407407407</td><td>0.11034302063778338</td></tr>",
                            "<tr><td>Switzerland</td><td>0.156746031746</td><td>0.1838030632666294</td></tr>",
                            "<tr><td>Serbia</td><td>0.156635802469</td><td>0.18601890985154315</td></tr>",
                            "<tr><td>Dominica</td><td>0.152777777777</td><td>0.41682638534275407</td></tr>",
                            "<tr><td>South Africa</td><td>0.152777777777</td><td>0.11065572592410283</td></tr>",
                            "<tr><td>Saint Lucia</td><td>0.152281746031</td><td>0.15103533388885867</td></tr>",
                            "<tr><td>Netherlands</td><td>0.152268760907</td><td>0.15423967382326148</td></tr>",
                            "<tr><td>Mexico</td><td>0.151881720430</td><td>0.1585345599836336</td></tr>",
                            "<tr><td>Mauritius</td><td>0.150959860383</td><td>0.16927232672302803</td></tr>",
                            "<tr><td>United Arab Emirates</td><td>0.150462962962</td><td>0.2207978693272318</td></tr>",
                            "<tr><td>Mongolia</td><td>0.150000000000</td><td>0.21720911162519385</td></tr>",
                            "<tr><td>Thailand</td><td>0.149700598802</td><td>0.14140295636411362</td></tr>",
                            "<tr><td>Trinidad and Tobago</td><td>0.149691358024</td><td>0.166058966984402</td></tr>",
                            "<tr><td>Uruguay</td><td>0.149305555555</td><td>0.15546877980131008</td></tr>",
                            "<tr><td>Seychelles</td><td>0.148919753086</td><td>0.15288077020941138</td></tr>",
                            "<tr><td>Saint Vincent and Grenadines</td><td>0.147222222222</td><td>0.1578306134398837</td></tr>",
                            "<tr><td>United Kingdom</td><td>0.146887595163</td><td>0.16909418208500715</td></tr>",
                            "<tr><td>Sweden</td><td>0.146648044692</td><td>0.159694984331105</td></tr>",
                            "<tr><td>Albania</td><td>0.144480519480</td><td>0.17508950794223882</td></tr>",
                            "<tr><td>San Marino</td><td>0.143518518518</td><td>0.08445700058144673</td></tr>",
                            "<tr><td>Singapore</td><td>0.143369175627</td><td>0.14644639878451488</td></tr>",
                            "<tr><td>Latvia</td><td>0.142951687624</td><td>0.17880813190249115</td></tr>",
                            "<tr><td>Suriname</td><td>0.142857142857</td><td>0.12274140160575248</td></tr>",
                            "<tr><td>United States</td><td>0.141640519946</td><td>0.13763357599841128</td></tr>",
                            "<tr><td>Guyana</td><td>0.140633685380</td><td>0.20442932048887963</td></tr>",
                            "<tr><td>Armenia</td><td>0.139980824544</td><td>0.16414319749023445</td></tr>",
                            "<tr><td>Spain</td><td>0.138440860215</td><td>0.11356458673045527</td></tr>",
                            "<tr><td>Romania</td><td>0.138223552894</td><td>0.13853069420367586</td></tr>",
                            "<tr><td>Belize</td><td>0.136479591836</td><td>0.16056040871036592</td></tr>",
                            "<tr><td>Bahrain</td><td>0.136054421768</td><td>0.13987344599350557</td></tr>",
                            "<tr><td>Kuwait</td><td>0.136035535813</td><td>0.1525867712832713</td></tr>",
                            "<tr><td>Belarus</td><td>0.135564378899</td><td>0.14206112724429593</td></tr>",
                            "<tr><td>Slovenia</td><td>0.135009927200</td><td>0.09834957001717466</td></tr>",
                            "<tr><td>Barbados</td><td>0.134826107670</td><td>0.13714564874899382</td></tr>",
                            "<tr><td>Brazil</td><td>0.134792626728</td><td>0.16863282966199297</td></tr>",
                            "<tr><td>Bahamas</td><td>0.134505949301</td><td>0.1442156490858075</td></tr>",
                            "<tr><td>Argentina</td><td>0.133307721859</td><td>0.1619016520445564</td></tr>",
                            "<tr><td>Uzbekistan</td><td>0.132575757575</td><td>0.16599578790261404</td></tr>",
                            "<tr><td>Guatemala</td><td>0.131944444444</td><td>0.17122064074310195</td></tr>",
                            "<tr><td>Russia</td><td>0.131147540983</td><td>0.1410352114251003</td></tr>",
                            "<tr><td>Turkey</td><td>0.130952380952</td><td>0.10766988675118998</td></tr>",
                            "<tr><td>Luxembourg</td><td>0.130824372759</td><td>0.15466121778979863</td></tr>",
                            "<tr><td>Antigua and Barbuda</td><td>0.130511463844</td><td>0.1671689258731355</td></tr>",
                            "<tr><td>Aruba</td><td>0.129251700680</td><td>0.14296296034653322</td></tr>",
                            "<tr><td>Australia</td><td>0.127777777777</td><td>0.1342574598171063</td></tr>",
                            "<tr><td>Sri Lanka</td><td>0.127525252525</td><td>0.09093712300080514</td></tr>",
                            "<tr><td>Hungary</td><td>0.126881720430</td><td>0.20215967647807814</td></tr>",
                            "<tr><td>Azerbaijan</td><td>0.126488095238</td><td>0.1253355526735021</td></tr>",
                            "<tr><td>Maldives</td><td>0.126388888888</td><td>0.2182148399008438</td></tr>",
                            "<tr><td>Belgium</td><td>0.124807987711</td><td>0.15217351915917593</td></tr>",
                            "<tr><td>Greece</td><td>0.124551971326</td><td>0.1855260940375158</td></tr>",
                            "<tr><td>Austria</td><td>0.124158563949</td><td>0.13609233836509788</td></tr>",
                            "<tr><td>Kyrgyzstan</td><td>0.119123931623</td><td>0.14385089069668963</td></tr>",
                            "<tr><td>Grenada</td><td>0.117741935483</td><td>0.1613112295238262</td></tr>",
                            "<tr><td>Lithuania</td><td>0.117684478371</td><td>0.12114375200106973</td></tr>",
                            "<tr><td>Malta</td><td>0.116039426523</td><td>0.14876467468035276</td></tr>",
                            "<tr><td>Kazakhstan</td><td>0.113247863247</td><td>0.15420071849191674</td></tr>",
                            "<tr><td>France</td><td>0.112500000000</td><td>0.17091972743941955</td></tr>",
                            "<tr><td>Bulgaria</td><td>0.111507936507</td><td>0.11576664685882165</td></tr>",
                            "<tr><td>Kiribati</td><td>0.111111111111</td><td>0.11578842082363633</td></tr>",
                            "<tr><td>Italy</td><td>0.107974910394</td><td>0.1778600216336717</td></tr>",
                            "<tr><td>Chile</td><td>0.107910906298</td><td>0.15475739181808754</td></tr>",
                            "<tr><td>Iceland</td><td>0.106893542757</td><td>0.1806826406781312</td></tr>",
                            "<tr><td>Ireland</td><td>0.104629629629</td><td>0.18280738764487423</td></tr>",
                            "<tr><td>Canada</td><td>0.104269293924</td><td>0.1387213302940069</td></tr>",
                            "<tr><td>Israel</td><td>0.102598566308</td><td>0.16731406262902562</td></tr>",
                            "<tr><td>Japan</td><td>0.102552619793</td><td>0.13061369704727427</td></tr>",
                            "<tr><td>Jamaica</td><td>0.102124183006</td><td>0.12022248900311977</td></tr>",
                            "<tr><td>Ecuador</td><td>0.101702508960</td><td>0.16961774067380567</td></tr>",
                            "<tr><td>Fiji</td><td>0.101010101010</td><td>0.2251059913195575</td></tr>",
                            "<tr><td>Germany</td><td>0.100961538461</td><td>0.17240300683900145</td></tr>",
                            "<tr><td>Georgia</td><td>0.099116161616</td><td>0.16199832378698306</td></tr>",
                            "<tr><td>El Salvador</td><td>0.097800925925</td><td>0.14052520722058312</td></tr>",
                            "<tr><td>Finland</td><td>0.092432950191</td><td>0.1324679650215768</td></tr>",
                            "<tr><td>Denmark</td><td>0.090277777777</td><td>0.15125981369188934</td></tr>",
                            "<tr><td>Cyprus</td><td>0.087160262417</td><td>0.21447017097491272</td></tr>",
                            "<tr><td>Cabo Verde</td><td>0.083333333333</td><td>0.05222501547110911</td></tr>",
                            "<tr><td>Macau</td><td>0.083333333333</td><td>0.006688836585370617</td></tr>",
                            "<tr><td>Czech Republic</td><td>0.079710144927</td><td>0.14147895987458847</td></tr>",
                            "<tr><td>Estonia</td><td>0.079365079365</td><td>0.14613527529276482</td></tr>",
                            "<tr><td>Colombia</td><td>0.076372315035</td><td>0.10003799685188139</td></tr>",
                            "<tr><td>Bosnia and Herzegovina</td><td>0.071428571428</td><td>0.1408350620740452</td></tr>",
                            "<tr><td>Cuba</td><td>0.068287037037</td><td>0.12362082615583489</td></tr>",
                            "<tr><td>Croatia</td><td>0.064885496183</td><td>0.11295491091368834</td></tr>",
                            "<tr><td>Costa Rica</td><td>0.063859324386</td><td>0.12113145636301079</td></tr>",
                            "</table>"
                        ]
                    }
                }
            ],
            "execution_count": 35
        },
        {
            "cell_type": "markdown",
            "source": [
                "Nicaragua and Oman have the highest percentage of orders returned at 21.3%. This represents a possible opportunity to increase revenue by making the return policy more strict to attempt to lower the number of returned orders. The affect that a stricter return policy would have on customer experience should also be taken into account though.\n",
                "\n",
                "We will next look at the number of returns for each language. This will help inform us of any language/communication issues thay may be causing a higher rate of purchase returns."
            ],
            "metadata": {
                "language": "sql",
                "azdata_cell_guid": "2196e6be-9f8b-4054-b701-d886c76d165f"
            },
            "attachments": {}
        },
        {
            "cell_type": "code",
            "source": [
                "SELECT TOP 5 t1.Languages, \n",
                "        -- calculating percentage of orders that were returned\n",
                "        ROUND((1.0 * COUNT(t2.Returned) / COUNT(*)), 2) AS pct_orders_returned\n",
                "FROM logs as t1\n",
                "        LEFT JOIN (SELECT duration_seconds, ip, country, Returned\n",
                "        FROM logs \n",
                "        WHERE Returned = 'Yes') AS t2\n",
                "        ON t1.duration_seconds = t2.duration_seconds\n",
                "        AND t1.ip = t2.ip\n",
                "GROUP BY t1.Languages\n",
                "ORDER BY pct_orders_returned DESC;"
            ],
            "metadata": {
                "language": "sql",
                "azdata_cell_guid": "5a4c4188-7f38-49f6-bb67-9bd7f0522c7b",
                "tags": []
            },
            "outputs": [
                {
                    "output_type": "display_data",
                    "data": {
                        "text/html": "Warning: Null value is eliminated by an aggregate or other SET operation."
                    },
                    "metadata": {}
                },
                {
                    "output_type": "display_data",
                    "data": {
                        "text/html": "(5 rows affected)"
                    },
                    "metadata": {}
                },
                {
                    "output_type": "display_data",
                    "data": {
                        "text/html": "Total execution time: 00:00:00.102"
                    },
                    "metadata": {}
                },
                {
                    "output_type": "execute_result",
                    "metadata": {},
                    "execution_count": 32,
                    "data": {
                        "application/vnd.dataresource+json": {
                            "schema": {
                                "fields": [
                                    {
                                        "name": "Languages"
                                    },
                                    {
                                        "name": "pct_orders_returned"
                                    }
                                ]
                            },
                            "data": [
                                {
                                    "Languages": "marathi",
                                    "pct_orders_returned": "0.220000000000"
                                },
                                {
                                    "Languages": "romanian",
                                    "pct_orders_returned": "0.180000000000"
                                },
                                {
                                    "Languages": "kinyarwanda",
                                    "pct_orders_returned": "0.180000000000"
                                },
                                {
                                    "Languages": "polish",
                                    "pct_orders_returned": "0.170000000000"
                                },
                                {
                                    "Languages": "Slovak",
                                    "pct_orders_returned": "0.170000000000"
                                }
                            ]
                        },
                        "text/html": [
                            "<table>",
                            "<tr><th>Languages</th><th>pct_orders_returned</th></tr>",
                            "<tr><td>marathi</td><td>0.220000000000</td></tr>",
                            "<tr><td>romanian</td><td>0.180000000000</td></tr>",
                            "<tr><td>kinyarwanda</td><td>0.180000000000</td></tr>",
                            "<tr><td>polish</td><td>0.170000000000</td></tr>",
                            "<tr><td>Slovak</td><td>0.170000000000</td></tr>",
                            "</table>"
                        ]
                    }
                }
            ],
            "execution_count": 32
        },
        {
            "cell_type": "markdown",
            "source": [
                "Marathi, a language spoken in India, has the highest percentage for orders returned (4% above the second language). A statistical test should be performed to determine if this percentage is statistically significantly greater than the 2nd highest percentage. If it is, this indicates that higher return rates could be linked to translation issues with the language. This means customers could be misinformed about products, resulting in higher return rates. The impact of language on return rates should be further investigated for the website as a whole to idenitfy if that is a frequent issue.\n",
                "\n",
                "The membership types associated with online purchases will now be investigated per country. It is important to note that each count of a membership type represents an online purchase but not a unique individual (no unique identifiers are present in dataset). It is likely that premium members make more frequent purchases than normal and non-members. This category therefore investigates purchases per membership type and not individuals per membership type."
            ],
            "metadata": {
                "language": "sql",
                "azdata_cell_guid": "206e9b51-03e9-4b25-8375-50280b3fbcaa"
            },
            "attachments": {}
        },
        {
            "cell_type": "code",
            "source": [
                "-- first CTE for total website purchases per country\n",
                "WITH totals AS (\n",
                "    SELECT country, COUNT(*) AS total_purchases\n",
                "    FROM logs\n",
                "    GROUP BY country),\n",
                "\n",
                "-- second CTE for website purchases per membership type per country\n",
                "memberships AS (\n",
                "    SELECT country, membership, COUNT(1) AS website_purchase\n",
                "    FROM logs\n",
                "    GROUP BY country, membership)\n",
                "\n",
                "-- joining CTEs and calculating pct membership type for total purchases per country\n",
                "SELECT memberships.country, membership, website_purchase, 1.0 * website_purchase/total_purchases AS pct_visits\n",
                "FROM memberships\n",
                "    LEFT JOIN totals\n",
                "    ON memberships.country = totals.country\n",
                "ORDER BY country;"
            ],
            "metadata": {
                "language": "sql",
                "azdata_cell_guid": "dbf2198b-15b9-4dff-b5fd-97f398ce14f1"
            },
            "outputs": [
                {
                    "output_type": "display_data",
                    "data": {
                        "text/html": "(298 rows affected)"
                    },
                    "metadata": {}
                },
                {
                    "output_type": "display_data",
                    "data": {
                        "text/html": "Total execution time: 00:00:00.084"
                    },
                    "metadata": {}
                },
                {
                    "output_type": "execute_result",
                    "metadata": {},
                    "execution_count": 33,
                    "data": {
                        "application/vnd.dataresource+json": {
                            "schema": {
                                "fields": [
                                    {
                                        "name": "country"
                                    },
                                    {
                                        "name": "membership"
                                    },
                                    {
                                        "name": "website_purchase"
                                    },
                                    {
                                        "name": "pct_visits"
                                    }
                                ]
                            },
                            "data": [
                                {
                                    "country": "Albania",
                                    "membership": "Not Logged In",
                                    "website_purchase": "17",
                                    "pct_visits": "0.009199134199"
                                },
                                {
                                    "country": "Albania",
                                    "membership": "Premium",
                                    "website_purchase": "1185",
                                    "pct_visits": "0.641233766233"
                                },
                                {
                                    "country": "Albania",
                                    "membership": "Normal",
                                    "website_purchase": "646",
                                    "pct_visits": "0.349567099567"
                                },
                                {
                                    "country": "Antigua and Barbuda",
                                    "membership": "Normal",
                                    "website_purchase": "721",
                                    "pct_visits": "0.317901234567"
                                },
                                {
                                    "country": "Antigua and Barbuda",
                                    "membership": "Premium",
                                    "website_purchase": "1527",
                                    "pct_visits": "0.673280423280"
                                },
                                {
                                    "country": "Antigua and Barbuda",
                                    "membership": "Not Logged In",
                                    "website_purchase": "20",
                                    "pct_visits": "0.008818342151"
                                },
                                {
                                    "country": "Argentina",
                                    "membership": "Normal",
                                    "website_purchase": "967",
                                    "pct_visits": "0.371494429504"
                                },
                                {
                                    "country": "Argentina",
                                    "membership": "Premium",
                                    "website_purchase": "1612",
                                    "pct_visits": "0.619285439877"
                                },
                                {
                                    "country": "Argentina",
                                    "membership": "Not Logged In",
                                    "website_purchase": "24",
                                    "pct_visits": "0.009220130618"
                                },
                                {
                                    "country": "Armenia",
                                    "membership": "Not Logged In",
                                    "website_purchase": "20",
                                    "pct_visits": "0.009587727708"
                                },
                                {
                                    "country": "Armenia",
                                    "membership": "Normal",
                                    "website_purchase": "678",
                                    "pct_visits": "0.325023969319"
                                },
                                {
                                    "country": "Armenia",
                                    "membership": "Premium",
                                    "website_purchase": "1388",
                                    "pct_visits": "0.665388302972"
                                },
                                {
                                    "country": "Aruba",
                                    "membership": "Premium",
                                    "website_purchase": "763",
                                    "pct_visits": "0.648809523809"
                                },
                                {
                                    "country": "Aruba",
                                    "membership": "Not Logged In",
                                    "website_purchase": "4",
                                    "pct_visits": "0.003401360544"
                                },
                                {
                                    "country": "Aruba",
                                    "membership": "Normal",
                                    "website_purchase": "409",
                                    "pct_visits": "0.347789115646"
                                },
                                {
                                    "country": "Australia",
                                    "membership": "Normal",
                                    "website_purchase": "795",
                                    "pct_visits": "0.315476190476"
                                },
                                {
                                    "country": "Australia",
                                    "membership": "Premium",
                                    "website_purchase": "1684",
                                    "pct_visits": "0.668253968253"
                                },
                                {
                                    "country": "Australia",
                                    "membership": "Not Logged In",
                                    "website_purchase": "41",
                                    "pct_visits": "0.016269841269"
                                },
                                {
                                    "country": "Austria",
                                    "membership": "Premium",
                                    "website_purchase": "1827",
                                    "pct_visits": "0.683246073298"
                                },
                                {
                                    "country": "Austria",
                                    "membership": "Not Logged In",
                                    "website_purchase": "12",
                                    "pct_visits": "0.004487658937"
                                },
                                {
                                    "country": "Austria",
                                    "membership": "Normal",
                                    "website_purchase": "835",
                                    "pct_visits": "0.312266267763"
                                },
                                {
                                    "country": "Azerbaijan",
                                    "membership": "Not Logged In",
                                    "website_purchase": "6",
                                    "pct_visits": "0.004464285714"
                                },
                                {
                                    "country": "Azerbaijan",
                                    "membership": "Premium",
                                    "website_purchase": "914",
                                    "pct_visits": "0.680059523809"
                                },
                                {
                                    "country": "Azerbaijan",
                                    "membership": "Normal",
                                    "website_purchase": "424",
                                    "pct_visits": "0.315476190476"
                                },
                                {
                                    "country": "Bahamas",
                                    "membership": "Not Logged In",
                                    "website_purchase": "10",
                                    "pct_visits": "0.005175983436"
                                },
                                {
                                    "country": "Bahamas",
                                    "membership": "Normal",
                                    "website_purchase": "568",
                                    "pct_visits": "0.293995859213"
                                },
                                {
                                    "country": "Bahamas",
                                    "membership": "Premium",
                                    "website_purchase": "1354",
                                    "pct_visits": "0.700828157349"
                                },
                                {
                                    "country": "Bahrain",
                                    "membership": "Premium",
                                    "website_purchase": "1258",
                                    "pct_visits": "0.713151927437"
                                },
                                {
                                    "country": "Bahrain",
                                    "membership": "Not Logged In",
                                    "website_purchase": "11",
                                    "pct_visits": "0.006235827664"
                                },
                                {
                                    "country": "Bahrain",
                                    "membership": "Normal",
                                    "website_purchase": "495",
                                    "pct_visits": "0.280612244897"
                                },
                                {
                                    "country": "Barbados",
                                    "membership": "Premium",
                                    "website_purchase": "1402",
                                    "pct_visits": "0.667937112910"
                                },
                                {
                                    "country": "Barbados",
                                    "membership": "Normal",
                                    "website_purchase": "687",
                                    "pct_visits": "0.327298713673"
                                },
                                {
                                    "country": "Barbados",
                                    "membership": "Not Logged In",
                                    "website_purchase": "10",
                                    "pct_visits": "0.004764173415"
                                },
                                {
                                    "country": "Belarus",
                                    "membership": "Not Logged In",
                                    "website_purchase": "14",
                                    "pct_visits": "0.007941009642"
                                },
                                {
                                    "country": "Belarus",
                                    "membership": "Normal",
                                    "website_purchase": "546",
                                    "pct_visits": "0.309699376063"
                                },
                                {
                                    "country": "Belarus",
                                    "membership": "Premium",
                                    "website_purchase": "1203",
                                    "pct_visits": "0.682359614293"
                                },
                                {
                                    "country": "Belgium",
                                    "membership": "Normal",
                                    "website_purchase": "816",
                                    "pct_visits": "0.313364055299"
                                },
                                {
                                    "country": "Belgium",
                                    "membership": "Premium",
                                    "website_purchase": "1758",
                                    "pct_visits": "0.675115207373"
                                },
                                {
                                    "country": "Belgium",
                                    "membership": "Not Logged In",
                                    "website_purchase": "30",
                                    "pct_visits": "0.011520737327"
                                },
                                {
                                    "country": "Belize",
                                    "membership": "Normal",
                                    "website_purchase": "814",
                                    "pct_visits": "0.346088435374"
                                },
                                {
                                    "country": "Belize",
                                    "membership": "Not Logged In",
                                    "website_purchase": "6",
                                    "pct_visits": "0.002551020408"
                                },
                                {
                                    "country": "Belize",
                                    "membership": "Premium",
                                    "website_purchase": "1532",
                                    "pct_visits": "0.651360544217"
                                },
                                {
                                    "country": "Bosnia and Herzegovina",
                                    "membership": "Not Logged In",
                                    "website_purchase": "2",
                                    "pct_visits": "0.011904761904"
                                },
                                {
                                    "country": "Bosnia and Herzegovina",
                                    "membership": "Premium",
                                    "website_purchase": "122",
                                    "pct_visits": "0.726190476190"
                                },
                                {
                                    "country": "Bosnia and Herzegovina",
                                    "membership": "Normal",
                                    "website_purchase": "44",
                                    "pct_visits": "0.261904761904"
                                },
                                {
                                    "country": "Brazil",
                                    "membership": "Normal",
                                    "website_purchase": "931",
                                    "pct_visits": "0.357526881720"
                                },
                                {
                                    "country": "Brazil",
                                    "membership": "Not Logged In",
                                    "website_purchase": "16",
                                    "pct_visits": "0.006144393241"
                                },
                                {
                                    "country": "Brazil",
                                    "membership": "Premium",
                                    "website_purchase": "1657",
                                    "pct_visits": "0.636328725038"
                                },
                                {
                                    "country": "Bulgaria",
                                    "membership": "Not Logged In",
                                    "website_purchase": "34",
                                    "pct_visits": "0.013492063492"
                                },
                                {
                                    "country": "Bulgaria",
                                    "membership": "Normal",
                                    "website_purchase": "914",
                                    "pct_visits": "0.362698412698"
                                },
                                {
                                    "country": "Bulgaria",
                                    "membership": "Premium",
                                    "website_purchase": "1572",
                                    "pct_visits": "0.623809523809"
                                },
                                {
                                    "country": "Cabo Verde",
                                    "membership": "Normal",
                                    "website_purchase": "27",
                                    "pct_visits": "0.321428571428"
                                },
                                {
                                    "country": "Cabo Verde",
                                    "membership": "Premium",
                                    "website_purchase": "57",
                                    "pct_visits": "0.678571428571"
                                },
                                {
                                    "country": "Canada",
                                    "membership": "Normal",
                                    "website_purchase": "854",
                                    "pct_visits": "0.350574712643"
                                },
                                {
                                    "country": "Canada",
                                    "membership": "Not Logged In",
                                    "website_purchase": "28",
                                    "pct_visits": "0.011494252873"
                                },
                                {
                                    "country": "Canada",
                                    "membership": "Premium",
                                    "website_purchase": "1554",
                                    "pct_visits": "0.637931034482"
                                },
                                {
                                    "country": "Chile",
                                    "membership": "Normal",
                                    "website_purchase": "857",
                                    "pct_visits": "0.329109062980"
                                },
                                {
                                    "country": "Chile",
                                    "membership": "Not Logged In",
                                    "website_purchase": "249",
                                    "pct_visits": "0.095622119815"
                                },
                                {
                                    "country": "Chile",
                                    "membership": "Premium",
                                    "website_purchase": "1498",
                                    "pct_visits": "0.575268817204"
                                },
                                {
                                    "country": "Colombia",
                                    "membership": "Not Logged In",
                                    "website_purchase": "579",
                                    "pct_visits": "0.230310262529"
                                },
                                {
                                    "country": "Colombia",
                                    "membership": "Normal",
                                    "website_purchase": "848",
                                    "pct_visits": "0.337311058074"
                                },
                                {
                                    "country": "Colombia",
                                    "membership": "Premium",
                                    "website_purchase": "1087",
                                    "pct_visits": "0.432378679395"
                                },
                                {
                                    "country": "Costa Rica",
                                    "membership": "Not Logged In",
                                    "website_purchase": "522",
                                    "pct_visits": "0.241666666666"
                                },
                                {
                                    "country": "Costa Rica",
                                    "membership": "Premium",
                                    "website_purchase": "947",
                                    "pct_visits": "0.438425925925"
                                },
                                {
                                    "country": "Costa Rica",
                                    "membership": "Normal",
                                    "website_purchase": "691",
                                    "pct_visits": "0.319907407407"
                                },
                                {
                                    "country": "Croatia",
                                    "membership": "Normal",
                                    "website_purchase": "429",
                                    "pct_visits": "0.272900763358"
                                },
                                {
                                    "country": "Croatia",
                                    "membership": "Premium",
                                    "website_purchase": "765",
                                    "pct_visits": "0.486641221374"
                                },
                                {
                                    "country": "Croatia",
                                    "membership": "Not Logged In",
                                    "website_purchase": "378",
                                    "pct_visits": "0.240458015267"
                                },
                                {
                                    "country": "Cuba",
                                    "membership": "Not Logged In",
                                    "website_purchase": "350",
                                    "pct_visits": "0.202546296296"
                                },
                                {
                                    "country": "Cuba",
                                    "membership": "Premium",
                                    "website_purchase": "926",
                                    "pct_visits": "0.535879629629"
                                },
                                {
                                    "country": "Cuba",
                                    "membership": "Normal",
                                    "website_purchase": "452",
                                    "pct_visits": "0.261574074074"
                                },
                                {
                                    "country": "Cyprus",
                                    "membership": "Premium",
                                    "website_purchase": "517",
                                    "pct_visits": "0.484536082474"
                                },
                                {
                                    "country": "Cyprus",
                                    "membership": "Normal",
                                    "website_purchase": "292",
                                    "pct_visits": "0.273664479850"
                                },
                                {
                                    "country": "Cyprus",
                                    "membership": "Not Logged In",
                                    "website_purchase": "258",
                                    "pct_visits": "0.241799437675"
                                },
                                {
                                    "country": "Czech Republic",
                                    "membership": "Normal",
                                    "website_purchase": "509",
                                    "pct_visits": "0.263457556935"
                                },
                                {
                                    "country": "Czech Republic",
                                    "membership": "Not Logged In",
                                    "website_purchase": "513",
                                    "pct_visits": "0.265527950310"
                                },
                                {
                                    "country": "Czech Republic",
                                    "membership": "Premium",
                                    "website_purchase": "910",
                                    "pct_visits": "0.471014492753"
                                },
                                {
                                    "country": "Denmark",
                                    "membership": "Normal",
                                    "website_purchase": "370",
                                    "pct_visits": "0.233585858585"
                                },
                                {
                                    "country": "Denmark",
                                    "membership": "Not Logged In",
                                    "website_purchase": "390",
                                    "pct_visits": "0.246212121212"
                                },
                                {
                                    "country": "Denmark",
                                    "membership": "Premium",
                                    "website_purchase": "824",
                                    "pct_visits": "0.520202020202"
                                },
                                {
                                    "country": "Dominica",
                                    "membership": "Premium",
                                    "website_purchase": "26",
                                    "pct_visits": "0.361111111111"
                                },
                                {
                                    "country": "Dominica",
                                    "membership": "Not Logged In",
                                    "website_purchase": "21",
                                    "pct_visits": "0.291666666666"
                                },
                                {
                                    "country": "Dominica",
                                    "membership": "Normal",
                                    "website_purchase": "25",
                                    "pct_visits": "0.347222222222"
                                },
                                {
                                    "country": "Ecuador",
                                    "membership": "Premium",
                                    "website_purchase": "1152",
                                    "pct_visits": "0.516129032258"
                                },
                                {
                                    "country": "Ecuador",
                                    "membership": "Not Logged In",
                                    "website_purchase": "390",
                                    "pct_visits": "0.174731182795"
                                },
                                {
                                    "country": "Ecuador",
                                    "membership": "Normal",
                                    "website_purchase": "690",
                                    "pct_visits": "0.309139784946"
                                },
                                {
                                    "country": "El Salvador",
                                    "membership": "Not Logged In",
                                    "website_purchase": "299",
                                    "pct_visits": "0.173032407407"
                                },
                                {
                                    "country": "El Salvador",
                                    "membership": "Premium",
                                    "website_purchase": "870",
                                    "pct_visits": "0.503472222222"
                                },
                                {
                                    "country": "El Salvador",
                                    "membership": "Normal",
                                    "website_purchase": "559",
                                    "pct_visits": "0.323495370370"
                                },
                                {
                                    "country": "Estonia",
                                    "membership": "Normal",
                                    "website_purchase": "358",
                                    "pct_visits": "0.236772486772"
                                },
                                {
                                    "country": "Estonia",
                                    "membership": "Premium",
                                    "website_purchase": "683",
                                    "pct_visits": "0.451719576719"
                                },
                                {
                                    "country": "Estonia",
                                    "membership": "Not Logged In",
                                    "website_purchase": "471",
                                    "pct_visits": "0.311507936507"
                                },
                                {
                                    "country": "Fiji",
                                    "membership": "Normal",
                                    "website_purchase": "212",
                                    "pct_visits": "0.267676767676"
                                },
                                {
                                    "country": "Fiji",
                                    "membership": "Premium",
                                    "website_purchase": "316",
                                    "pct_visits": "0.398989898989"
                                },
                                {
                                    "country": "Fiji",
                                    "membership": "Not Logged In",
                                    "website_purchase": "264",
                                    "pct_visits": "0.333333333333"
                                },
                                {
                                    "country": "Finland",
                                    "membership": "Not Logged In",
                                    "website_purchase": "507",
                                    "pct_visits": "0.242816091954"
                                },
                                {
                                    "country": "Finland",
                                    "membership": "Normal",
                                    "website_purchase": "550",
                                    "pct_visits": "0.263409961685"
                                },
                                {
                                    "country": "Finland",
                                    "membership": "Premium",
                                    "website_purchase": "1031",
                                    "pct_visits": "0.493773946360"
                                },
                                {
                                    "country": "France",
                                    "membership": "Not Logged In",
                                    "website_purchase": "406",
                                    "pct_visits": "0.187962962962"
                                },
                                {
                                    "country": "France",
                                    "membership": "Normal",
                                    "website_purchase": "669",
                                    "pct_visits": "0.309722222222"
                                },
                                {
                                    "country": "France",
                                    "membership": "Premium",
                                    "website_purchase": "1085",
                                    "pct_visits": "0.502314814814"
                                },
                                {
                                    "country": "Georgia",
                                    "membership": "Not Logged In",
                                    "website_purchase": "223",
                                    "pct_visits": "0.140782828282"
                                },
                                {
                                    "country": "Georgia",
                                    "membership": "Premium",
                                    "website_purchase": "901",
                                    "pct_visits": "0.568813131313"
                                },
                                {
                                    "country": "Georgia",
                                    "membership": "Normal",
                                    "website_purchase": "460",
                                    "pct_visits": "0.290404040404"
                                },
                                {
                                    "country": "Germany",
                                    "membership": "Premium",
                                    "website_purchase": "982",
                                    "pct_visits": "0.524572649572"
                                },
                                {
                                    "country": "Germany",
                                    "membership": "Normal",
                                    "website_purchase": "625",
                                    "pct_visits": "0.333867521367"
                                },
                                {
                                    "country": "Germany",
                                    "membership": "Not Logged In",
                                    "website_purchase": "265",
                                    "pct_visits": "0.141559829059"
                                },
                                {
                                    "country": "Greece",
                                    "membership": "Not Logged In",
                                    "website_purchase": "416",
                                    "pct_visits": "0.186379928315"
                                },
                                {
                                    "country": "Greece",
                                    "membership": "Premium",
                                    "website_purchase": "1105",
                                    "pct_visits": "0.495071684587"
                                },
                                {
                                    "country": "Greece",
                                    "membership": "Normal",
                                    "website_purchase": "711",
                                    "pct_visits": "0.318548387096"
                                },
                                {
                                    "country": "Grenada",
                                    "membership": "Normal",
                                    "website_purchase": "602",
                                    "pct_visits": "0.323655913978"
                                },
                                {
                                    "country": "Grenada",
                                    "membership": "Not Logged In",
                                    "website_purchase": "289",
                                    "pct_visits": "0.155376344086"
                                },
                                {
                                    "country": "Grenada",
                                    "membership": "Premium",
                                    "website_purchase": "969",
                                    "pct_visits": "0.520967741935"
                                },
                                {
                                    "country": "Guatemala",
                                    "membership": "Premium",
                                    "website_purchase": "1198",
                                    "pct_visits": "0.554629629629"
                                },
                                {
                                    "country": "Guatemala",
                                    "membership": "Not Logged In",
                                    "website_purchase": "295",
                                    "pct_visits": "0.136574074074"
                                },
                                {
                                    "country": "Guatemala",
                                    "membership": "Normal",
                                    "website_purchase": "667",
                                    "pct_visits": "0.308796296296"
                                },
                                {
                                    "country": "Guyana",
                                    "membership": "Normal",
                                    "website_purchase": "555",
                                    "pct_visits": "0.308504724847"
                                },
                                {
                                    "country": "Guyana",
                                    "membership": "Not Logged In",
                                    "website_purchase": "246",
                                    "pct_visits": "0.136742634797"
                                },
                                {
                                    "country": "Guyana",
                                    "membership": "Premium",
                                    "website_purchase": "998",
                                    "pct_visits": "0.554752640355"
                                },
                                {
                                    "country": "Hungary",
                                    "membership": "Premium",
                                    "website_purchase": "1078",
                                    "pct_visits": "0.579569892473"
                                },
                                {
                                    "country": "Hungary",
                                    "membership": "Not Logged In",
                                    "website_purchase": "370",
                                    "pct_visits": "0.198924731182"
                                },
                                {
                                    "country": "Hungary",
                                    "membership": "Normal",
                                    "website_purchase": "412",
                                    "pct_visits": "0.221505376344"
                                },
                                {
                                    "country": "Iceland",
                                    "membership": "Not Logged In",
                                    "website_purchase": "680",
                                    "pct_visits": "0.296684118673"
                                },
                                {
                                    "country": "Iceland",
                                    "membership": "Normal",
                                    "website_purchase": "422",
                                    "pct_visits": "0.184118673647"
                                },
                                {
                                    "country": "Iceland",
                                    "membership": "Premium",
                                    "website_purchase": "1190",
                                    "pct_visits": "0.519197207678"
                                },
                                {
                                    "country": "Ireland",
                                    "membership": "Normal",
                                    "website_purchase": "429",
                                    "pct_visits": "0.198611111111"
                                },
                                {
                                    "country": "Ireland",
                                    "membership": "Premium",
                                    "website_purchase": "1128",
                                    "pct_visits": "0.522222222222"
                                },
                                {
                                    "country": "Ireland",
                                    "membership": "Not Logged In",
                                    "website_purchase": "603",
                                    "pct_visits": "0.279166666666"
                                },
                                {
                                    "country": "Israel",
                                    "membership": "Premium",
                                    "website_purchase": "1225",
                                    "pct_visits": "0.548835125448"
                                },
                                {
                                    "country": "Israel",
                                    "membership": "Not Logged In",
                                    "website_purchase": "587",
                                    "pct_visits": "0.262992831541"
                                },
                                {
                                    "country": "Israel",
                                    "membership": "Normal",
                                    "website_purchase": "420",
                                    "pct_visits": "0.188172043010"
                                },
                                {
                                    "country": "Italy",
                                    "membership": "Not Logged In",
                                    "website_purchase": "709",
                                    "pct_visits": "0.317652329749"
                                },
                                {
                                    "country": "Italy",
                                    "membership": "Premium",
                                    "website_purchase": "1126",
                                    "pct_visits": "0.504480286738"
                                },
                                {
                                    "country": "Italy",
                                    "membership": "Normal",
                                    "website_purchase": "397",
                                    "pct_visits": "0.177867383512"
                                },
                                {
                                    "country": "Jamaica",
                                    "membership": "Not Logged In",
                                    "website_purchase": "413",
                                    "pct_visits": "0.337418300653"
                                },
                                {
                                    "country": "Jamaica",
                                    "membership": "Normal",
                                    "website_purchase": "242",
                                    "pct_visits": "0.197712418300"
                                },
                                {
                                    "country": "Jamaica",
                                    "membership": "Premium",
                                    "website_purchase": "569",
                                    "pct_visits": "0.464869281045"
                                },
                                {
                                    "country": "Japan",
                                    "membership": "Not Logged In",
                                    "website_purchase": "737",
                                    "pct_visits": "0.330049261083"
                                },
                                {
                                    "country": "Japan",
                                    "membership": "Normal",
                                    "website_purchase": "448",
                                    "pct_visits": "0.200626959247"
                                },
                                {
                                    "country": "Japan",
                                    "membership": "Premium",
                                    "website_purchase": "1048",
                                    "pct_visits": "0.469323779668"
                                },
                                {
                                    "country": "Kazakhstan",
                                    "membership": "Normal",
                                    "website_purchase": "406",
                                    "pct_visits": "0.216880341880"
                                },
                                {
                                    "country": "Kazakhstan",
                                    "membership": "Not Logged In",
                                    "website_purchase": "378",
                                    "pct_visits": "0.201923076923"
                                },
                                {
                                    "country": "Kazakhstan",
                                    "membership": "Premium",
                                    "website_purchase": "1088",
                                    "pct_visits": "0.581196581196"
                                },
                                {
                                    "country": "Kiribati",
                                    "membership": "Premium",
                                    "website_purchase": "461",
                                    "pct_visits": "0.582070707070"
                                },
                                {
                                    "country": "Kiribati",
                                    "membership": "Normal",
                                    "website_purchase": "198",
                                    "pct_visits": "0.250000000000"
                                },
                                {
                                    "country": "Kiribati",
                                    "membership": "Not Logged In",
                                    "website_purchase": "133",
                                    "pct_visits": "0.167929292929"
                                },
                                {
                                    "country": "Kuwait",
                                    "membership": "Not Logged In",
                                    "website_purchase": "270",
                                    "pct_visits": "0.150000000000"
                                },
                                {
                                    "country": "Kuwait",
                                    "membership": "Normal",
                                    "website_purchase": "460",
                                    "pct_visits": "0.255555555555"
                                },
                                {
                                    "country": "Kuwait",
                                    "membership": "Premium",
                                    "website_purchase": "1070",
                                    "pct_visits": "0.594444444444"
                                },
                                {
                                    "country": "Kyrgyzstan",
                                    "membership": "Not Logged In",
                                    "website_purchase": "321",
                                    "pct_visits": "0.171474358974"
                                },
                                {
                                    "country": "Kyrgyzstan",
                                    "membership": "Normal",
                                    "website_purchase": "446",
                                    "pct_visits": "0.238247863247"
                                },
                                {
                                    "country": "Kyrgyzstan",
                                    "membership": "Premium",
                                    "website_purchase": "1105",
                                    "pct_visits": "0.590277777777"
                                },
                                {
                                    "country": "Latvia",
                                    "membership": "Normal",
                                    "website_purchase": "387",
                                    "pct_visits": "0.256121773659"
                                },
                                {
                                    "country": "Latvia",
                                    "membership": "Premium",
                                    "website_purchase": "931",
                                    "pct_visits": "0.616148246194"
                                },
                                {
                                    "country": "Latvia",
                                    "membership": "Not Logged In",
                                    "website_purchase": "193",
                                    "pct_visits": "0.127729980145"
                                },
                                {
                                    "country": "Lithuania",
                                    "membership": "Premium",
                                    "website_purchase": "934",
                                    "pct_visits": "0.594147582697"
                                },
                                {
                                    "country": "Lithuania",
                                    "membership": "Not Logged In",
                                    "website_purchase": "252",
                                    "pct_visits": "0.160305343511"
                                },
                                {
                                    "country": "Lithuania",
                                    "membership": "Normal",
                                    "website_purchase": "386",
                                    "pct_visits": "0.245547073791"
                                },
                                {
                                    "country": "Luxembourg",
                                    "membership": "Not Logged In",
                                    "website_purchase": "308",
                                    "pct_visits": "0.137992831541"
                                },
                                {
                                    "country": "Luxembourg",
                                    "membership": "Normal",
                                    "website_purchase": "565",
                                    "pct_visits": "0.253136200716"
                                },
                                {
                                    "country": "Luxembourg",
                                    "membership": "Premium",
                                    "website_purchase": "1359",
                                    "pct_visits": "0.608870967741"
                                },
                                {
                                    "country": "Macau",
                                    "membership": "Premium",
                                    "website_purchase": "48",
                                    "pct_visits": "0.666666666666"
                                },
                                {
                                    "country": "Macau",
                                    "membership": "Not Logged In",
                                    "website_purchase": "12",
                                    "pct_visits": "0.166666666666"
                                },
                                {
                                    "country": "Macau",
                                    "membership": "Normal",
                                    "website_purchase": "12",
                                    "pct_visits": "0.166666666666"
                                },
                                {
                                    "country": "Maldives",
                                    "membership": "Normal",
                                    "website_purchase": "126",
                                    "pct_visits": "0.175000000000"
                                },
                                {
                                    "country": "Maldives",
                                    "membership": "Premium",
                                    "website_purchase": "390",
                                    "pct_visits": "0.541666666666"
                                },
                                {
                                    "country": "Maldives",
                                    "membership": "Not Logged In",
                                    "website_purchase": "204",
                                    "pct_visits": "0.283333333333"
                                },
                                {
                                    "country": "Malta",
                                    "membership": "Not Logged In",
                                    "website_purchase": "417",
                                    "pct_visits": "0.186827956989"
                                },
                                {
                                    "country": "Malta",
                                    "membership": "Normal",
                                    "website_purchase": "528",
                                    "pct_visits": "0.236559139784"
                                },
                                {
                                    "country": "Malta",
                                    "membership": "Premium",
                                    "website_purchase": "1287",
                                    "pct_visits": "0.576612903225"
                                },
                                {
                                    "country": "Mauritius",
                                    "membership": "Premium",
                                    "website_purchase": "1455",
                                    "pct_visits": "0.634816753926"
                                },
                                {
                                    "country": "Mauritius",
                                    "membership": "Not Logged In",
                                    "website_purchase": "216",
                                    "pct_visits": "0.094240837696"
                                },
                                {
                                    "country": "Mauritius",
                                    "membership": "Normal",
                                    "website_purchase": "621",
                                    "pct_visits": "0.270942408376"
                                },
                                {
                                    "country": "Mexico",
                                    "membership": "Not Logged In",
                                    "website_purchase": "112",
                                    "pct_visits": "0.050179211469"
                                },
                                {
                                    "country": "Mexico",
                                    "membership": "Normal",
                                    "website_purchase": "708",
                                    "pct_visits": "0.317204301075"
                                },
                                {
                                    "country": "Mexico",
                                    "membership": "Premium",
                                    "website_purchase": "1412",
                                    "pct_visits": "0.632616487455"
                                },
                                {
                                    "country": "Mongolia",
                                    "membership": "Normal",
                                    "website_purchase": "10",
                                    "pct_visits": "0.166666666666"
                                },
                                {
                                    "country": "Mongolia",
                                    "membership": "Premium",
                                    "website_purchase": "50",
                                    "pct_visits": "0.833333333333"
                                },
                                {
                                    "country": "Montenegro",
                                    "membership": "Premium",
                                    "website_purchase": "552",
                                    "pct_visits": "0.766666666666"
                                },
                                {
                                    "country": "Montenegro",
                                    "membership": "Normal",
                                    "website_purchase": "168",
                                    "pct_visits": "0.233333333333"
                                },
                                {
                                    "country": "Netherlands",
                                    "membership": "Normal",
                                    "website_purchase": "600",
                                    "pct_visits": "0.261780104712"
                                },
                                {
                                    "country": "Netherlands",
                                    "membership": "Not Logged In",
                                    "website_purchase": "236",
                                    "pct_visits": "0.102966841186"
                                },
                                {
                                    "country": "Netherlands",
                                    "membership": "Premium",
                                    "website_purchase": "1456",
                                    "pct_visits": "0.635253054101"
                                },
                                {
                                    "country": "New Zealand",
                                    "membership": "Normal",
                                    "website_purchase": "570",
                                    "pct_visits": "0.272988505747"
                                },
                                {
                                    "country": "New Zealand",
                                    "membership": "Not Logged In",
                                    "website_purchase": "214",
                                    "pct_visits": "0.102490421455"
                                },
                                {
                                    "country": "New Zealand",
                                    "membership": "Premium",
                                    "website_purchase": "1304",
                                    "pct_visits": "0.624521072796"
                                },
                                {
                                    "country": "Nicaragua",
                                    "membership": "Not Logged In",
                                    "website_purchase": "6",
                                    "pct_visits": "0.013888888888"
                                },
                                {
                                    "country": "Nicaragua",
                                    "membership": "Normal",
                                    "website_purchase": "118",
                                    "pct_visits": "0.273148148148"
                                },
                                {
                                    "country": "Nicaragua",
                                    "membership": "Premium",
                                    "website_purchase": "308",
                                    "pct_visits": "0.712962962962"
                                },
                                {
                                    "country": "Norway",
                                    "membership": "Not Logged In",
                                    "website_purchase": "60",
                                    "pct_visits": "0.027777777777"
                                },
                                {
                                    "country": "Norway",
                                    "membership": "Premium",
                                    "website_purchase": "1488",
                                    "pct_visits": "0.688888888888"
                                },
                                {
                                    "country": "Norway",
                                    "membership": "Normal",
                                    "website_purchase": "612",
                                    "pct_visits": "0.283333333333"
                                },
                                {
                                    "country": "Oman",
                                    "membership": "Normal",
                                    "website_purchase": "44",
                                    "pct_visits": "0.203703703703"
                                },
                                {
                                    "country": "Oman",
                                    "membership": "Premium",
                                    "website_purchase": "160",
                                    "pct_visits": "0.740740740740"
                                },
                                {
                                    "country": "Oman",
                                    "membership": "Not Logged In",
                                    "website_purchase": "12",
                                    "pct_visits": "0.055555555555"
                                },
                                {
                                    "country": "Panama",
                                    "membership": "Not Logged In",
                                    "website_purchase": "134",
                                    "pct_visits": "0.074444444444"
                                },
                                {
                                    "country": "Panama",
                                    "membership": "Premium",
                                    "website_purchase": "1267",
                                    "pct_visits": "0.703888888888"
                                },
                                {
                                    "country": "Panama",
                                    "membership": "Normal",
                                    "website_purchase": "399",
                                    "pct_visits": "0.221666666666"
                                },
                                {
                                    "country": "Paraguay",
                                    "membership": "Not Logged In",
                                    "website_purchase": "96",
                                    "pct_visits": "0.049382716049"
                                },
                                {
                                    "country": "Paraguay",
                                    "membership": "Normal",
                                    "website_purchase": "461",
                                    "pct_visits": "0.237139917695"
                                },
                                {
                                    "country": "Paraguay",
                                    "membership": "Premium",
                                    "website_purchase": "1387",
                                    "pct_visits": "0.713477366255"
                                },
                                {
                                    "country": "Philippines",
                                    "membership": "Not Logged In",
                                    "website_purchase": "96",
                                    "pct_visits": "0.088971269694"
                                },
                                {
                                    "country": "Philippines",
                                    "membership": "Premium",
                                    "website_purchase": "756",
                                    "pct_visits": "0.700648748841"
                                },
                                {
                                    "country": "Philippines",
                                    "membership": "Normal",
                                    "website_purchase": "227",
                                    "pct_visits": "0.210379981464"
                                },
                                {
                                    "country": "Poland",
                                    "membership": "Premium",
                                    "website_purchase": "1286",
                                    "pct_visits": "0.744212962962"
                                },
                                {
                                    "country": "Poland",
                                    "membership": "Normal",
                                    "website_purchase": "414",
                                    "pct_visits": "0.239583333333"
                                },
                                {
                                    "country": "Poland",
                                    "membership": "Not Logged In",
                                    "website_purchase": "28",
                                    "pct_visits": "0.016203703703"
                                },
                                {
                                    "country": "Portugal",
                                    "membership": "Not Logged In",
                                    "website_purchase": "16",
                                    "pct_visits": "0.008230452674"
                                },
                                {
                                    "country": "Portugal",
                                    "membership": "Premium",
                                    "website_purchase": "1385",
                                    "pct_visits": "0.712448559670"
                                },
                                {
                                    "country": "Portugal",
                                    "membership": "Normal",
                                    "website_purchase": "543",
                                    "pct_visits": "0.279320987654"
                                },
                                {
                                    "country": "Puerto Rico",
                                    "membership": "Not Logged In",
                                    "website_purchase": "6",
                                    "pct_visits": "0.002688172043"
                                },
                                {
                                    "country": "Puerto Rico",
                                    "membership": "Premium",
                                    "website_purchase": "1625",
                                    "pct_visits": "0.728046594982"
                                },
                                {
                                    "country": "Puerto Rico",
                                    "membership": "Normal",
                                    "website_purchase": "601",
                                    "pct_visits": "0.269265232974"
                                },
                                {
                                    "country": "Qatar",
                                    "membership": "Premium",
                                    "website_purchase": "749",
                                    "pct_visits": "0.701310861423"
                                },
                                {
                                    "country": "Qatar",
                                    "membership": "Normal",
                                    "website_purchase": "315",
                                    "pct_visits": "0.294943820224"
                                },
                                {
                                    "country": "Qatar",
                                    "membership": "Not Logged In",
                                    "website_purchase": "4",
                                    "pct_visits": "0.003745318352"
                                },
                                {
                                    "country": "Republic of Korea",
                                    "membership": "Premium",
                                    "website_purchase": "1530",
                                    "pct_visits": "0.685483870967"
                                },
                                {
                                    "country": "Republic of Korea",
                                    "membership": "Normal",
                                    "website_purchase": "676",
                                    "pct_visits": "0.302867383512"
                                },
                                {
                                    "country": "Republic of Korea",
                                    "membership": "Not Logged In",
                                    "website_purchase": "26",
                                    "pct_visits": "0.011648745519"
                                },
                                {
                                    "country": "Romania",
                                    "membership": "Premium",
                                    "website_purchase": "1442",
                                    "pct_visits": "0.719560878243"
                                },
                                {
                                    "country": "Romania",
                                    "membership": "Normal",
                                    "website_purchase": "534",
                                    "pct_visits": "0.266467065868"
                                },
                                {
                                    "country": "Romania",
                                    "membership": "Not Logged In",
                                    "website_purchase": "28",
                                    "pct_visits": "0.013972055888"
                                },
                                {
                                    "country": "Russia",
                                    "membership": "Premium",
                                    "website_purchase": "1333",
                                    "pct_visits": "0.682889344262"
                                },
                                {
                                    "country": "Russia",
                                    "membership": "Not Logged In",
                                    "website_purchase": "11",
                                    "pct_visits": "0.005635245901"
                                },
                                {
                                    "country": "Russia",
                                    "membership": "Normal",
                                    "website_purchase": "608",
                                    "pct_visits": "0.311475409836"
                                },
                                {
                                    "country": "Saint Kitts and Nevis",
                                    "membership": "Normal",
                                    "website_purchase": "58",
                                    "pct_visits": "0.268518518518"
                                },
                                {
                                    "country": "Saint Kitts and Nevis",
                                    "membership": "Premium",
                                    "website_purchase": "156",
                                    "pct_visits": "0.722222222222"
                                },
                                {
                                    "country": "Saint Kitts and Nevis",
                                    "membership": "Not Logged In",
                                    "website_purchase": "2",
                                    "pct_visits": "0.009259259259"
                                },
                                {
                                    "country": "Saint Lucia",
                                    "membership": "Premium",
                                    "website_purchase": "1381",
                                    "pct_visits": "0.685019841269"
                                },
                                {
                                    "country": "Saint Lucia",
                                    "membership": "Not Logged In",
                                    "website_purchase": "20",
                                    "pct_visits": "0.009920634920"
                                },
                                {
                                    "country": "Saint Lucia",
                                    "membership": "Normal",
                                    "website_purchase": "615",
                                    "pct_visits": "0.305059523809"
                                },
                                {
                                    "country": "Saint Vincent and Grenadines",
                                    "membership": "Not Logged In",
                                    "website_purchase": "32",
                                    "pct_visits": "0.017777777777"
                                },
                                {
                                    "country": "Saint Vincent and Grenadines",
                                    "membership": "Normal",
                                    "website_purchase": "527",
                                    "pct_visits": "0.292777777777"
                                },
                                {
                                    "country": "Saint Vincent and Grenadines",
                                    "membership": "Premium",
                                    "website_purchase": "1241",
                                    "pct_visits": "0.689444444444"
                                },
                                {
                                    "country": "San Marino",
                                    "membership": "Premium",
                                    "website_purchase": "148",
                                    "pct_visits": "0.685185185185"
                                },
                                {
                                    "country": "San Marino",
                                    "membership": "Normal",
                                    "website_purchase": "66",
                                    "pct_visits": "0.305555555555"
                                },
                                {
                                    "country": "San Marino",
                                    "membership": "Not Logged In",
                                    "website_purchase": "2",
                                    "pct_visits": "0.009259259259"
                                },
                                {
                                    "country": "Serbia",
                                    "membership": "Not Logged In",
                                    "website_purchase": "8",
                                    "pct_visits": "0.006172839506"
                                },
                                {
                                    "country": "Serbia",
                                    "membership": "Normal",
                                    "website_purchase": "427",
                                    "pct_visits": "0.329475308641"
                                },
                                {
                                    "country": "Serbia",
                                    "membership": "Premium",
                                    "website_purchase": "861",
                                    "pct_visits": "0.664351851851"
                                },
                                {
                                    "country": "Seychelles",
                                    "membership": "Premium",
                                    "website_purchase": "808",
                                    "pct_visits": "0.623456790123"
                                },
                                {
                                    "country": "Seychelles",
                                    "membership": "Not Logged In",
                                    "website_purchase": "8",
                                    "pct_visits": "0.006172839506"
                                },
                                {
                                    "country": "Seychelles",
                                    "membership": "Normal",
                                    "website_purchase": "480",
                                    "pct_visits": "0.370370370370"
                                },
                                {
                                    "country": "Singapore",
                                    "membership": "Not Logged In",
                                    "website_purchase": "16",
                                    "pct_visits": "0.007168458781"
                                },
                                {
                                    "country": "Singapore",
                                    "membership": "Premium",
                                    "website_purchase": "1535",
                                    "pct_visits": "0.687724014336"
                                },
                                {
                                    "country": "Singapore",
                                    "membership": "Normal",
                                    "website_purchase": "681",
                                    "pct_visits": "0.305107526881"
                                },
                                {
                                    "country": "Slovakia",
                                    "membership": "Not Logged In",
                                    "website_purchase": "12",
                                    "pct_visits": "0.007575757575"
                                },
                                {
                                    "country": "Slovakia",
                                    "membership": "Normal",
                                    "website_purchase": "481",
                                    "pct_visits": "0.303661616161"
                                },
                                {
                                    "country": "Slovakia",
                                    "membership": "Premium",
                                    "website_purchase": "1091",
                                    "pct_visits": "0.688762626262"
                                },
                                {
                                    "country": "Slovenia",
                                    "membership": "Not Logged In",
                                    "website_purchase": "10",
                                    "pct_visits": "0.006618133686"
                                },
                                {
                                    "country": "Slovenia",
                                    "membership": "Premium",
                                    "website_purchase": "1109",
                                    "pct_visits": "0.733951025810"
                                },
                                {
                                    "country": "Slovenia",
                                    "membership": "Normal",
                                    "website_purchase": "392",
                                    "pct_visits": "0.259430840502"
                                },
                                {
                                    "country": "South Africa",
                                    "membership": "Normal",
                                    "website_purchase": "341",
                                    "pct_visits": "0.236805555555"
                                },
                                {
                                    "country": "South Africa",
                                    "membership": "Premium",
                                    "website_purchase": "1099",
                                    "pct_visits": "0.763194444444"
                                },
                                {
                                    "country": "Spain",
                                    "membership": "Normal",
                                    "website_purchase": "599",
                                    "pct_visits": "0.268369175627"
                                },
                                {
                                    "country": "Spain",
                                    "membership": "Premium",
                                    "website_purchase": "1609",
                                    "pct_visits": "0.720878136200"
                                },
                                {
                                    "country": "Spain",
                                    "membership": "Not Logged In",
                                    "website_purchase": "24",
                                    "pct_visits": "0.010752688172"
                                },
                                {
                                    "country": "Sri Lanka",
                                    "membership": "Normal",
                                    "website_purchase": "169",
                                    "pct_visits": "0.213383838383"
                                },
                                {
                                    "country": "Sri Lanka",
                                    "membership": "Premium",
                                    "website_purchase": "613",
                                    "pct_visits": "0.773989898989"
                                },
                                {
                                    "country": "Sri Lanka",
                                    "membership": "Not Logged In",
                                    "website_purchase": "10",
                                    "pct_visits": "0.012626262626"
                                },
                                {
                                    "country": "Suriname",
                                    "membership": "Premium",
                                    "website_purchase": "1440",
                                    "pct_visits": "0.714285714285"
                                },
                                {
                                    "country": "Suriname",
                                    "membership": "Normal",
                                    "website_purchase": "552",
                                    "pct_visits": "0.273809523809"
                                },
                                {
                                    "country": "Suriname",
                                    "membership": "Not Logged In",
                                    "website_purchase": "24",
                                    "pct_visits": "0.011904761904"
                                },
                                {
                                    "country": "Sweden",
                                    "membership": "Not Logged In",
                                    "website_purchase": "16",
                                    "pct_visits": "0.007448789571"
                                },
                                {
                                    "country": "Sweden",
                                    "membership": "Premium",
                                    "website_purchase": "1608",
                                    "pct_visits": "0.748603351955"
                                },
                                {
                                    "country": "Sweden",
                                    "membership": "Normal",
                                    "website_purchase": "524",
                                    "pct_visits": "0.243947858472"
                                },
                                {
                                    "country": "Switzerland",
                                    "membership": "Premium",
                                    "website_purchase": "1138",
                                    "pct_visits": "0.752645502645"
                                },
                                {
                                    "country": "Switzerland",
                                    "membership": "Normal",
                                    "website_purchase": "370",
                                    "pct_visits": "0.244708994708"
                                },
                                {
                                    "country": "Switzerland",
                                    "membership": "Not Logged In",
                                    "website_purchase": "4",
                                    "pct_visits": "0.002645502645"
                                },
                                {
                                    "country": "Thailand",
                                    "membership": "Normal",
                                    "website_purchase": "516",
                                    "pct_visits": "0.257485029940"
                                },
                                {
                                    "country": "Thailand",
                                    "membership": "Premium",
                                    "website_purchase": "1472",
                                    "pct_visits": "0.734530938123"
                                },
                                {
                                    "country": "Thailand",
                                    "membership": "Not Logged In",
                                    "website_purchase": "16",
                                    "pct_visits": "0.007984031936"
                                },
                                {
                                    "country": "Trinidad and Tobago",
                                    "membership": "Premium",
                                    "website_purchase": "1365",
                                    "pct_visits": "0.702160493827"
                                },
                                {
                                    "country": "Trinidad and Tobago",
                                    "membership": "Not Logged In",
                                    "website_purchase": "10",
                                    "pct_visits": "0.005144032921"
                                },
                                {
                                    "country": "Trinidad and Tobago",
                                    "membership": "Normal",
                                    "website_purchase": "569",
                                    "pct_visits": "0.292695473251"
                                },
                                {
                                    "country": "Turkey",
                                    "membership": "Normal",
                                    "website_purchase": "133",
                                    "pct_visits": "0.263888888888"
                                },
                                {
                                    "country": "Turkey",
                                    "membership": "Premium",
                                    "website_purchase": "369",
                                    "pct_visits": "0.732142857142"
                                },
                                {
                                    "country": "Turkey",
                                    "membership": "Not Logged In",
                                    "website_purchase": "2",
                                    "pct_visits": "0.003968253968"
                                },
                                {
                                    "country": "Turkmenistan",
                                    "membership": "Premium",
                                    "website_purchase": "1415",
                                    "pct_visits": "0.677681992337"
                                },
                                {
                                    "country": "Turkmenistan",
                                    "membership": "Not Logged In",
                                    "website_purchase": "20",
                                    "pct_visits": "0.009578544061"
                                },
                                {
                                    "country": "Turkmenistan",
                                    "membership": "Normal",
                                    "website_purchase": "653",
                                    "pct_visits": "0.312739463601"
                                },
                                {
                                    "country": "Ukraine",
                                    "membership": "Normal",
                                    "website_purchase": "686",
                                    "pct_visits": "0.340277777777"
                                },
                                {
                                    "country": "Ukraine",
                                    "membership": "Premium",
                                    "website_purchase": "1312",
                                    "pct_visits": "0.650793650793"
                                },
                                {
                                    "country": "Ukraine",
                                    "membership": "Not Logged In",
                                    "website_purchase": "18",
                                    "pct_visits": "0.008928571428"
                                },
                                {
                                    "country": "United Arab Emirates",
                                    "membership": "Normal",
                                    "website_purchase": "134",
                                    "pct_visits": "0.310185185185"
                                },
                                {
                                    "country": "United Arab Emirates",
                                    "membership": "Premium",
                                    "website_purchase": "298",
                                    "pct_visits": "0.689814814814"
                                },
                                {
                                    "country": "United Kingdom",
                                    "membership": "Premium",
                                    "website_purchase": "1480",
                                    "pct_visits": "0.663082437275"
                                },
                                {
                                    "country": "United Kingdom",
                                    "membership": "Not Logged In",
                                    "website_purchase": "18",
                                    "pct_visits": "0.008064516129"
                                },
                                {
                                    "country": "United Kingdom",
                                    "membership": "Normal",
                                    "website_purchase": "734",
                                    "pct_visits": "0.328853046594"
                                },
                                {
                                    "country": "United States",
                                    "membership": "Normal",
                                    "website_purchase": "789",
                                    "pct_visits": "0.353653070372"
                                },
                                {
                                    "country": "United States",
                                    "membership": "Premium",
                                    "website_purchase": "1422",
                                    "pct_visits": "0.637382339757"
                                },
                                {
                                    "country": "United States",
                                    "membership": "Not Logged In",
                                    "website_purchase": "20",
                                    "pct_visits": "0.008964589870"
                                },
                                {
                                    "country": "Uruguay",
                                    "membership": "Not Logged In",
                                    "website_purchase": "32",
                                    "pct_visits": "0.015873015873"
                                },
                                {
                                    "country": "Uruguay",
                                    "membership": "Premium",
                                    "website_purchase": "1248",
                                    "pct_visits": "0.619047619047"
                                },
                                {
                                    "country": "Uruguay",
                                    "membership": "Normal",
                                    "website_purchase": "736",
                                    "pct_visits": "0.365079365079"
                                },
                                {
                                    "country": "Uzbekistan",
                                    "membership": "Premium",
                                    "website_purchase": "986",
                                    "pct_visits": "0.622474747474"
                                },
                                {
                                    "country": "Uzbekistan",
                                    "membership": "Not Logged In",
                                    "website_purchase": "38",
                                    "pct_visits": "0.023989898989"
                                },
                                {
                                    "country": "Uzbekistan",
                                    "membership": "Normal",
                                    "website_purchase": "560",
                                    "pct_visits": "0.353535353535"
                                }
                            ]
                        },
                        "text/html": [
                            "<table>",
                            "<tr><th>country</th><th>membership</th><th>website_purchase</th><th>pct_visits</th></tr>",
                            "<tr><td>Albania</td><td>Not Logged In</td><td>17</td><td>0.009199134199</td></tr>",
                            "<tr><td>Albania</td><td>Premium</td><td>1185</td><td>0.641233766233</td></tr>",
                            "<tr><td>Albania</td><td>Normal</td><td>646</td><td>0.349567099567</td></tr>",
                            "<tr><td>Antigua and Barbuda</td><td>Normal</td><td>721</td><td>0.317901234567</td></tr>",
                            "<tr><td>Antigua and Barbuda</td><td>Premium</td><td>1527</td><td>0.673280423280</td></tr>",
                            "<tr><td>Antigua and Barbuda</td><td>Not Logged In</td><td>20</td><td>0.008818342151</td></tr>",
                            "<tr><td>Argentina</td><td>Normal</td><td>967</td><td>0.371494429504</td></tr>",
                            "<tr><td>Argentina</td><td>Premium</td><td>1612</td><td>0.619285439877</td></tr>",
                            "<tr><td>Argentina</td><td>Not Logged In</td><td>24</td><td>0.009220130618</td></tr>",
                            "<tr><td>Armenia</td><td>Not Logged In</td><td>20</td><td>0.009587727708</td></tr>",
                            "<tr><td>Armenia</td><td>Normal</td><td>678</td><td>0.325023969319</td></tr>",
                            "<tr><td>Armenia</td><td>Premium</td><td>1388</td><td>0.665388302972</td></tr>",
                            "<tr><td>Aruba</td><td>Premium</td><td>763</td><td>0.648809523809</td></tr>",
                            "<tr><td>Aruba</td><td>Not Logged In</td><td>4</td><td>0.003401360544</td></tr>",
                            "<tr><td>Aruba</td><td>Normal</td><td>409</td><td>0.347789115646</td></tr>",
                            "<tr><td>Australia</td><td>Normal</td><td>795</td><td>0.315476190476</td></tr>",
                            "<tr><td>Australia</td><td>Premium</td><td>1684</td><td>0.668253968253</td></tr>",
                            "<tr><td>Australia</td><td>Not Logged In</td><td>41</td><td>0.016269841269</td></tr>",
                            "<tr><td>Austria</td><td>Premium</td><td>1827</td><td>0.683246073298</td></tr>",
                            "<tr><td>Austria</td><td>Not Logged In</td><td>12</td><td>0.004487658937</td></tr>",
                            "<tr><td>Austria</td><td>Normal</td><td>835</td><td>0.312266267763</td></tr>",
                            "<tr><td>Azerbaijan</td><td>Not Logged In</td><td>6</td><td>0.004464285714</td></tr>",
                            "<tr><td>Azerbaijan</td><td>Premium</td><td>914</td><td>0.680059523809</td></tr>",
                            "<tr><td>Azerbaijan</td><td>Normal</td><td>424</td><td>0.315476190476</td></tr>",
                            "<tr><td>Bahamas</td><td>Not Logged In</td><td>10</td><td>0.005175983436</td></tr>",
                            "<tr><td>Bahamas</td><td>Normal</td><td>568</td><td>0.293995859213</td></tr>",
                            "<tr><td>Bahamas</td><td>Premium</td><td>1354</td><td>0.700828157349</td></tr>",
                            "<tr><td>Bahrain</td><td>Premium</td><td>1258</td><td>0.713151927437</td></tr>",
                            "<tr><td>Bahrain</td><td>Not Logged In</td><td>11</td><td>0.006235827664</td></tr>",
                            "<tr><td>Bahrain</td><td>Normal</td><td>495</td><td>0.280612244897</td></tr>",
                            "<tr><td>Barbados</td><td>Premium</td><td>1402</td><td>0.667937112910</td></tr>",
                            "<tr><td>Barbados</td><td>Normal</td><td>687</td><td>0.327298713673</td></tr>",
                            "<tr><td>Barbados</td><td>Not Logged In</td><td>10</td><td>0.004764173415</td></tr>",
                            "<tr><td>Belarus</td><td>Not Logged In</td><td>14</td><td>0.007941009642</td></tr>",
                            "<tr><td>Belarus</td><td>Normal</td><td>546</td><td>0.309699376063</td></tr>",
                            "<tr><td>Belarus</td><td>Premium</td><td>1203</td><td>0.682359614293</td></tr>",
                            "<tr><td>Belgium</td><td>Normal</td><td>816</td><td>0.313364055299</td></tr>",
                            "<tr><td>Belgium</td><td>Premium</td><td>1758</td><td>0.675115207373</td></tr>",
                            "<tr><td>Belgium</td><td>Not Logged In</td><td>30</td><td>0.011520737327</td></tr>",
                            "<tr><td>Belize</td><td>Normal</td><td>814</td><td>0.346088435374</td></tr>",
                            "<tr><td>Belize</td><td>Not Logged In</td><td>6</td><td>0.002551020408</td></tr>",
                            "<tr><td>Belize</td><td>Premium</td><td>1532</td><td>0.651360544217</td></tr>",
                            "<tr><td>Bosnia and Herzegovina</td><td>Not Logged In</td><td>2</td><td>0.011904761904</td></tr>",
                            "<tr><td>Bosnia and Herzegovina</td><td>Premium</td><td>122</td><td>0.726190476190</td></tr>",
                            "<tr><td>Bosnia and Herzegovina</td><td>Normal</td><td>44</td><td>0.261904761904</td></tr>",
                            "<tr><td>Brazil</td><td>Normal</td><td>931</td><td>0.357526881720</td></tr>",
                            "<tr><td>Brazil</td><td>Not Logged In</td><td>16</td><td>0.006144393241</td></tr>",
                            "<tr><td>Brazil</td><td>Premium</td><td>1657</td><td>0.636328725038</td></tr>",
                            "<tr><td>Bulgaria</td><td>Not Logged In</td><td>34</td><td>0.013492063492</td></tr>",
                            "<tr><td>Bulgaria</td><td>Normal</td><td>914</td><td>0.362698412698</td></tr>",
                            "<tr><td>Bulgaria</td><td>Premium</td><td>1572</td><td>0.623809523809</td></tr>",
                            "<tr><td>Cabo Verde</td><td>Normal</td><td>27</td><td>0.321428571428</td></tr>",
                            "<tr><td>Cabo Verde</td><td>Premium</td><td>57</td><td>0.678571428571</td></tr>",
                            "<tr><td>Canada</td><td>Normal</td><td>854</td><td>0.350574712643</td></tr>",
                            "<tr><td>Canada</td><td>Not Logged In</td><td>28</td><td>0.011494252873</td></tr>",
                            "<tr><td>Canada</td><td>Premium</td><td>1554</td><td>0.637931034482</td></tr>",
                            "<tr><td>Chile</td><td>Normal</td><td>857</td><td>0.329109062980</td></tr>",
                            "<tr><td>Chile</td><td>Not Logged In</td><td>249</td><td>0.095622119815</td></tr>",
                            "<tr><td>Chile</td><td>Premium</td><td>1498</td><td>0.575268817204</td></tr>",
                            "<tr><td>Colombia</td><td>Not Logged In</td><td>579</td><td>0.230310262529</td></tr>",
                            "<tr><td>Colombia</td><td>Normal</td><td>848</td><td>0.337311058074</td></tr>",
                            "<tr><td>Colombia</td><td>Premium</td><td>1087</td><td>0.432378679395</td></tr>",
                            "<tr><td>Costa Rica</td><td>Not Logged In</td><td>522</td><td>0.241666666666</td></tr>",
                            "<tr><td>Costa Rica</td><td>Premium</td><td>947</td><td>0.438425925925</td></tr>",
                            "<tr><td>Costa Rica</td><td>Normal</td><td>691</td><td>0.319907407407</td></tr>",
                            "<tr><td>Croatia</td><td>Normal</td><td>429</td><td>0.272900763358</td></tr>",
                            "<tr><td>Croatia</td><td>Premium</td><td>765</td><td>0.486641221374</td></tr>",
                            "<tr><td>Croatia</td><td>Not Logged In</td><td>378</td><td>0.240458015267</td></tr>",
                            "<tr><td>Cuba</td><td>Not Logged In</td><td>350</td><td>0.202546296296</td></tr>",
                            "<tr><td>Cuba</td><td>Premium</td><td>926</td><td>0.535879629629</td></tr>",
                            "<tr><td>Cuba</td><td>Normal</td><td>452</td><td>0.261574074074</td></tr>",
                            "<tr><td>Cyprus</td><td>Premium</td><td>517</td><td>0.484536082474</td></tr>",
                            "<tr><td>Cyprus</td><td>Normal</td><td>292</td><td>0.273664479850</td></tr>",
                            "<tr><td>Cyprus</td><td>Not Logged In</td><td>258</td><td>0.241799437675</td></tr>",
                            "<tr><td>Czech Republic</td><td>Normal</td><td>509</td><td>0.263457556935</td></tr>",
                            "<tr><td>Czech Republic</td><td>Not Logged In</td><td>513</td><td>0.265527950310</td></tr>",
                            "<tr><td>Czech Republic</td><td>Premium</td><td>910</td><td>0.471014492753</td></tr>",
                            "<tr><td>Denmark</td><td>Normal</td><td>370</td><td>0.233585858585</td></tr>",
                            "<tr><td>Denmark</td><td>Not Logged In</td><td>390</td><td>0.246212121212</td></tr>",
                            "<tr><td>Denmark</td><td>Premium</td><td>824</td><td>0.520202020202</td></tr>",
                            "<tr><td>Dominica</td><td>Premium</td><td>26</td><td>0.361111111111</td></tr>",
                            "<tr><td>Dominica</td><td>Not Logged In</td><td>21</td><td>0.291666666666</td></tr>",
                            "<tr><td>Dominica</td><td>Normal</td><td>25</td><td>0.347222222222</td></tr>",
                            "<tr><td>Ecuador</td><td>Premium</td><td>1152</td><td>0.516129032258</td></tr>",
                            "<tr><td>Ecuador</td><td>Not Logged In</td><td>390</td><td>0.174731182795</td></tr>",
                            "<tr><td>Ecuador</td><td>Normal</td><td>690</td><td>0.309139784946</td></tr>",
                            "<tr><td>El Salvador</td><td>Not Logged In</td><td>299</td><td>0.173032407407</td></tr>",
                            "<tr><td>El Salvador</td><td>Premium</td><td>870</td><td>0.503472222222</td></tr>",
                            "<tr><td>El Salvador</td><td>Normal</td><td>559</td><td>0.323495370370</td></tr>",
                            "<tr><td>Estonia</td><td>Normal</td><td>358</td><td>0.236772486772</td></tr>",
                            "<tr><td>Estonia</td><td>Premium</td><td>683</td><td>0.451719576719</td></tr>",
                            "<tr><td>Estonia</td><td>Not Logged In</td><td>471</td><td>0.311507936507</td></tr>",
                            "<tr><td>Fiji</td><td>Normal</td><td>212</td><td>0.267676767676</td></tr>",
                            "<tr><td>Fiji</td><td>Premium</td><td>316</td><td>0.398989898989</td></tr>",
                            "<tr><td>Fiji</td><td>Not Logged In</td><td>264</td><td>0.333333333333</td></tr>",
                            "<tr><td>Finland</td><td>Not Logged In</td><td>507</td><td>0.242816091954</td></tr>",
                            "<tr><td>Finland</td><td>Normal</td><td>550</td><td>0.263409961685</td></tr>",
                            "<tr><td>Finland</td><td>Premium</td><td>1031</td><td>0.493773946360</td></tr>",
                            "<tr><td>France</td><td>Not Logged In</td><td>406</td><td>0.187962962962</td></tr>",
                            "<tr><td>France</td><td>Normal</td><td>669</td><td>0.309722222222</td></tr>",
                            "<tr><td>France</td><td>Premium</td><td>1085</td><td>0.502314814814</td></tr>",
                            "<tr><td>Georgia</td><td>Not Logged In</td><td>223</td><td>0.140782828282</td></tr>",
                            "<tr><td>Georgia</td><td>Premium</td><td>901</td><td>0.568813131313</td></tr>",
                            "<tr><td>Georgia</td><td>Normal</td><td>460</td><td>0.290404040404</td></tr>",
                            "<tr><td>Germany</td><td>Premium</td><td>982</td><td>0.524572649572</td></tr>",
                            "<tr><td>Germany</td><td>Normal</td><td>625</td><td>0.333867521367</td></tr>",
                            "<tr><td>Germany</td><td>Not Logged In</td><td>265</td><td>0.141559829059</td></tr>",
                            "<tr><td>Greece</td><td>Not Logged In</td><td>416</td><td>0.186379928315</td></tr>",
                            "<tr><td>Greece</td><td>Premium</td><td>1105</td><td>0.495071684587</td></tr>",
                            "<tr><td>Greece</td><td>Normal</td><td>711</td><td>0.318548387096</td></tr>",
                            "<tr><td>Grenada</td><td>Normal</td><td>602</td><td>0.323655913978</td></tr>",
                            "<tr><td>Grenada</td><td>Not Logged In</td><td>289</td><td>0.155376344086</td></tr>",
                            "<tr><td>Grenada</td><td>Premium</td><td>969</td><td>0.520967741935</td></tr>",
                            "<tr><td>Guatemala</td><td>Premium</td><td>1198</td><td>0.554629629629</td></tr>",
                            "<tr><td>Guatemala</td><td>Not Logged In</td><td>295</td><td>0.136574074074</td></tr>",
                            "<tr><td>Guatemala</td><td>Normal</td><td>667</td><td>0.308796296296</td></tr>",
                            "<tr><td>Guyana</td><td>Normal</td><td>555</td><td>0.308504724847</td></tr>",
                            "<tr><td>Guyana</td><td>Not Logged In</td><td>246</td><td>0.136742634797</td></tr>",
                            "<tr><td>Guyana</td><td>Premium</td><td>998</td><td>0.554752640355</td></tr>",
                            "<tr><td>Hungary</td><td>Premium</td><td>1078</td><td>0.579569892473</td></tr>",
                            "<tr><td>Hungary</td><td>Not Logged In</td><td>370</td><td>0.198924731182</td></tr>",
                            "<tr><td>Hungary</td><td>Normal</td><td>412</td><td>0.221505376344</td></tr>",
                            "<tr><td>Iceland</td><td>Not Logged In</td><td>680</td><td>0.296684118673</td></tr>",
                            "<tr><td>Iceland</td><td>Normal</td><td>422</td><td>0.184118673647</td></tr>",
                            "<tr><td>Iceland</td><td>Premium</td><td>1190</td><td>0.519197207678</td></tr>",
                            "<tr><td>Ireland</td><td>Normal</td><td>429</td><td>0.198611111111</td></tr>",
                            "<tr><td>Ireland</td><td>Premium</td><td>1128</td><td>0.522222222222</td></tr>",
                            "<tr><td>Ireland</td><td>Not Logged In</td><td>603</td><td>0.279166666666</td></tr>",
                            "<tr><td>Israel</td><td>Premium</td><td>1225</td><td>0.548835125448</td></tr>",
                            "<tr><td>Israel</td><td>Not Logged In</td><td>587</td><td>0.262992831541</td></tr>",
                            "<tr><td>Israel</td><td>Normal</td><td>420</td><td>0.188172043010</td></tr>",
                            "<tr><td>Italy</td><td>Not Logged In</td><td>709</td><td>0.317652329749</td></tr>",
                            "<tr><td>Italy</td><td>Premium</td><td>1126</td><td>0.504480286738</td></tr>",
                            "<tr><td>Italy</td><td>Normal</td><td>397</td><td>0.177867383512</td></tr>",
                            "<tr><td>Jamaica</td><td>Not Logged In</td><td>413</td><td>0.337418300653</td></tr>",
                            "<tr><td>Jamaica</td><td>Normal</td><td>242</td><td>0.197712418300</td></tr>",
                            "<tr><td>Jamaica</td><td>Premium</td><td>569</td><td>0.464869281045</td></tr>",
                            "<tr><td>Japan</td><td>Not Logged In</td><td>737</td><td>0.330049261083</td></tr>",
                            "<tr><td>Japan</td><td>Normal</td><td>448</td><td>0.200626959247</td></tr>",
                            "<tr><td>Japan</td><td>Premium</td><td>1048</td><td>0.469323779668</td></tr>",
                            "<tr><td>Kazakhstan</td><td>Normal</td><td>406</td><td>0.216880341880</td></tr>",
                            "<tr><td>Kazakhstan</td><td>Not Logged In</td><td>378</td><td>0.201923076923</td></tr>",
                            "<tr><td>Kazakhstan</td><td>Premium</td><td>1088</td><td>0.581196581196</td></tr>",
                            "<tr><td>Kiribati</td><td>Premium</td><td>461</td><td>0.582070707070</td></tr>",
                            "<tr><td>Kiribati</td><td>Normal</td><td>198</td><td>0.250000000000</td></tr>",
                            "<tr><td>Kiribati</td><td>Not Logged In</td><td>133</td><td>0.167929292929</td></tr>",
                            "<tr><td>Kuwait</td><td>Not Logged In</td><td>270</td><td>0.150000000000</td></tr>",
                            "<tr><td>Kuwait</td><td>Normal</td><td>460</td><td>0.255555555555</td></tr>",
                            "<tr><td>Kuwait</td><td>Premium</td><td>1070</td><td>0.594444444444</td></tr>",
                            "<tr><td>Kyrgyzstan</td><td>Not Logged In</td><td>321</td><td>0.171474358974</td></tr>",
                            "<tr><td>Kyrgyzstan</td><td>Normal</td><td>446</td><td>0.238247863247</td></tr>",
                            "<tr><td>Kyrgyzstan</td><td>Premium</td><td>1105</td><td>0.590277777777</td></tr>",
                            "<tr><td>Latvia</td><td>Normal</td><td>387</td><td>0.256121773659</td></tr>",
                            "<tr><td>Latvia</td><td>Premium</td><td>931</td><td>0.616148246194</td></tr>",
                            "<tr><td>Latvia</td><td>Not Logged In</td><td>193</td><td>0.127729980145</td></tr>",
                            "<tr><td>Lithuania</td><td>Premium</td><td>934</td><td>0.594147582697</td></tr>",
                            "<tr><td>Lithuania</td><td>Not Logged In</td><td>252</td><td>0.160305343511</td></tr>",
                            "<tr><td>Lithuania</td><td>Normal</td><td>386</td><td>0.245547073791</td></tr>",
                            "<tr><td>Luxembourg</td><td>Not Logged In</td><td>308</td><td>0.137992831541</td></tr>",
                            "<tr><td>Luxembourg</td><td>Normal</td><td>565</td><td>0.253136200716</td></tr>",
                            "<tr><td>Luxembourg</td><td>Premium</td><td>1359</td><td>0.608870967741</td></tr>",
                            "<tr><td>Macau</td><td>Premium</td><td>48</td><td>0.666666666666</td></tr>",
                            "<tr><td>Macau</td><td>Not Logged In</td><td>12</td><td>0.166666666666</td></tr>",
                            "<tr><td>Macau</td><td>Normal</td><td>12</td><td>0.166666666666</td></tr>",
                            "<tr><td>Maldives</td><td>Normal</td><td>126</td><td>0.175000000000</td></tr>",
                            "<tr><td>Maldives</td><td>Premium</td><td>390</td><td>0.541666666666</td></tr>",
                            "<tr><td>Maldives</td><td>Not Logged In</td><td>204</td><td>0.283333333333</td></tr>",
                            "<tr><td>Malta</td><td>Not Logged In</td><td>417</td><td>0.186827956989</td></tr>",
                            "<tr><td>Malta</td><td>Normal</td><td>528</td><td>0.236559139784</td></tr>",
                            "<tr><td>Malta</td><td>Premium</td><td>1287</td><td>0.576612903225</td></tr>",
                            "<tr><td>Mauritius</td><td>Premium</td><td>1455</td><td>0.634816753926</td></tr>",
                            "<tr><td>Mauritius</td><td>Not Logged In</td><td>216</td><td>0.094240837696</td></tr>",
                            "<tr><td>Mauritius</td><td>Normal</td><td>621</td><td>0.270942408376</td></tr>",
                            "<tr><td>Mexico</td><td>Not Logged In</td><td>112</td><td>0.050179211469</td></tr>",
                            "<tr><td>Mexico</td><td>Normal</td><td>708</td><td>0.317204301075</td></tr>",
                            "<tr><td>Mexico</td><td>Premium</td><td>1412</td><td>0.632616487455</td></tr>",
                            "<tr><td>Mongolia</td><td>Normal</td><td>10</td><td>0.166666666666</td></tr>",
                            "<tr><td>Mongolia</td><td>Premium</td><td>50</td><td>0.833333333333</td></tr>",
                            "<tr><td>Montenegro</td><td>Premium</td><td>552</td><td>0.766666666666</td></tr>",
                            "<tr><td>Montenegro</td><td>Normal</td><td>168</td><td>0.233333333333</td></tr>",
                            "<tr><td>Netherlands</td><td>Normal</td><td>600</td><td>0.261780104712</td></tr>",
                            "<tr><td>Netherlands</td><td>Not Logged In</td><td>236</td><td>0.102966841186</td></tr>",
                            "<tr><td>Netherlands</td><td>Premium</td><td>1456</td><td>0.635253054101</td></tr>",
                            "<tr><td>New Zealand</td><td>Normal</td><td>570</td><td>0.272988505747</td></tr>",
                            "<tr><td>New Zealand</td><td>Not Logged In</td><td>214</td><td>0.102490421455</td></tr>",
                            "<tr><td>New Zealand</td><td>Premium</td><td>1304</td><td>0.624521072796</td></tr>",
                            "<tr><td>Nicaragua</td><td>Not Logged In</td><td>6</td><td>0.013888888888</td></tr>",
                            "<tr><td>Nicaragua</td><td>Normal</td><td>118</td><td>0.273148148148</td></tr>",
                            "<tr><td>Nicaragua</td><td>Premium</td><td>308</td><td>0.712962962962</td></tr>",
                            "<tr><td>Norway</td><td>Not Logged In</td><td>60</td><td>0.027777777777</td></tr>",
                            "<tr><td>Norway</td><td>Premium</td><td>1488</td><td>0.688888888888</td></tr>",
                            "<tr><td>Norway</td><td>Normal</td><td>612</td><td>0.283333333333</td></tr>",
                            "<tr><td>Oman</td><td>Normal</td><td>44</td><td>0.203703703703</td></tr>",
                            "<tr><td>Oman</td><td>Premium</td><td>160</td><td>0.740740740740</td></tr>",
                            "<tr><td>Oman</td><td>Not Logged In</td><td>12</td><td>0.055555555555</td></tr>",
                            "<tr><td>Panama</td><td>Not Logged In</td><td>134</td><td>0.074444444444</td></tr>",
                            "<tr><td>Panama</td><td>Premium</td><td>1267</td><td>0.703888888888</td></tr>",
                            "<tr><td>Panama</td><td>Normal</td><td>399</td><td>0.221666666666</td></tr>",
                            "<tr><td>Paraguay</td><td>Not Logged In</td><td>96</td><td>0.049382716049</td></tr>",
                            "<tr><td>Paraguay</td><td>Normal</td><td>461</td><td>0.237139917695</td></tr>",
                            "<tr><td>Paraguay</td><td>Premium</td><td>1387</td><td>0.713477366255</td></tr>",
                            "<tr><td>Philippines</td><td>Not Logged In</td><td>96</td><td>0.088971269694</td></tr>",
                            "<tr><td>Philippines</td><td>Premium</td><td>756</td><td>0.700648748841</td></tr>",
                            "<tr><td>Philippines</td><td>Normal</td><td>227</td><td>0.210379981464</td></tr>",
                            "<tr><td>Poland</td><td>Premium</td><td>1286</td><td>0.744212962962</td></tr>",
                            "<tr><td>Poland</td><td>Normal</td><td>414</td><td>0.239583333333</td></tr>",
                            "<tr><td>Poland</td><td>Not Logged In</td><td>28</td><td>0.016203703703</td></tr>",
                            "<tr><td>Portugal</td><td>Not Logged In</td><td>16</td><td>0.008230452674</td></tr>",
                            "<tr><td>Portugal</td><td>Premium</td><td>1385</td><td>0.712448559670</td></tr>",
                            "<tr><td>Portugal</td><td>Normal</td><td>543</td><td>0.279320987654</td></tr>",
                            "<tr><td>Puerto Rico</td><td>Not Logged In</td><td>6</td><td>0.002688172043</td></tr>",
                            "<tr><td>Puerto Rico</td><td>Premium</td><td>1625</td><td>0.728046594982</td></tr>",
                            "<tr><td>Puerto Rico</td><td>Normal</td><td>601</td><td>0.269265232974</td></tr>",
                            "<tr><td>Qatar</td><td>Premium</td><td>749</td><td>0.701310861423</td></tr>",
                            "<tr><td>Qatar</td><td>Normal</td><td>315</td><td>0.294943820224</td></tr>",
                            "<tr><td>Qatar</td><td>Not Logged In</td><td>4</td><td>0.003745318352</td></tr>",
                            "<tr><td>Republic of Korea</td><td>Premium</td><td>1530</td><td>0.685483870967</td></tr>",
                            "<tr><td>Republic of Korea</td><td>Normal</td><td>676</td><td>0.302867383512</td></tr>",
                            "<tr><td>Republic of Korea</td><td>Not Logged In</td><td>26</td><td>0.011648745519</td></tr>",
                            "<tr><td>Romania</td><td>Premium</td><td>1442</td><td>0.719560878243</td></tr>",
                            "<tr><td>Romania</td><td>Normal</td><td>534</td><td>0.266467065868</td></tr>",
                            "<tr><td>Romania</td><td>Not Logged In</td><td>28</td><td>0.013972055888</td></tr>",
                            "<tr><td>Russia</td><td>Premium</td><td>1333</td><td>0.682889344262</td></tr>",
                            "<tr><td>Russia</td><td>Not Logged In</td><td>11</td><td>0.005635245901</td></tr>",
                            "<tr><td>Russia</td><td>Normal</td><td>608</td><td>0.311475409836</td></tr>",
                            "<tr><td>Saint Kitts and Nevis</td><td>Normal</td><td>58</td><td>0.268518518518</td></tr>",
                            "<tr><td>Saint Kitts and Nevis</td><td>Premium</td><td>156</td><td>0.722222222222</td></tr>",
                            "<tr><td>Saint Kitts and Nevis</td><td>Not Logged In</td><td>2</td><td>0.009259259259</td></tr>",
                            "<tr><td>Saint Lucia</td><td>Premium</td><td>1381</td><td>0.685019841269</td></tr>",
                            "<tr><td>Saint Lucia</td><td>Not Logged In</td><td>20</td><td>0.009920634920</td></tr>",
                            "<tr><td>Saint Lucia</td><td>Normal</td><td>615</td><td>0.305059523809</td></tr>",
                            "<tr><td>Saint Vincent and Grenadines</td><td>Not Logged In</td><td>32</td><td>0.017777777777</td></tr>",
                            "<tr><td>Saint Vincent and Grenadines</td><td>Normal</td><td>527</td><td>0.292777777777</td></tr>",
                            "<tr><td>Saint Vincent and Grenadines</td><td>Premium</td><td>1241</td><td>0.689444444444</td></tr>",
                            "<tr><td>San Marino</td><td>Premium</td><td>148</td><td>0.685185185185</td></tr>",
                            "<tr><td>San Marino</td><td>Normal</td><td>66</td><td>0.305555555555</td></tr>",
                            "<tr><td>San Marino</td><td>Not Logged In</td><td>2</td><td>0.009259259259</td></tr>",
                            "<tr><td>Serbia</td><td>Not Logged In</td><td>8</td><td>0.006172839506</td></tr>",
                            "<tr><td>Serbia</td><td>Normal</td><td>427</td><td>0.329475308641</td></tr>",
                            "<tr><td>Serbia</td><td>Premium</td><td>861</td><td>0.664351851851</td></tr>",
                            "<tr><td>Seychelles</td><td>Premium</td><td>808</td><td>0.623456790123</td></tr>",
                            "<tr><td>Seychelles</td><td>Not Logged In</td><td>8</td><td>0.006172839506</td></tr>",
                            "<tr><td>Seychelles</td><td>Normal</td><td>480</td><td>0.370370370370</td></tr>",
                            "<tr><td>Singapore</td><td>Not Logged In</td><td>16</td><td>0.007168458781</td></tr>",
                            "<tr><td>Singapore</td><td>Premium</td><td>1535</td><td>0.687724014336</td></tr>",
                            "<tr><td>Singapore</td><td>Normal</td><td>681</td><td>0.305107526881</td></tr>",
                            "<tr><td>Slovakia</td><td>Not Logged In</td><td>12</td><td>0.007575757575</td></tr>",
                            "<tr><td>Slovakia</td><td>Normal</td><td>481</td><td>0.303661616161</td></tr>",
                            "<tr><td>Slovakia</td><td>Premium</td><td>1091</td><td>0.688762626262</td></tr>",
                            "<tr><td>Slovenia</td><td>Not Logged In</td><td>10</td><td>0.006618133686</td></tr>",
                            "<tr><td>Slovenia</td><td>Premium</td><td>1109</td><td>0.733951025810</td></tr>",
                            "<tr><td>Slovenia</td><td>Normal</td><td>392</td><td>0.259430840502</td></tr>",
                            "<tr><td>South Africa</td><td>Normal</td><td>341</td><td>0.236805555555</td></tr>",
                            "<tr><td>South Africa</td><td>Premium</td><td>1099</td><td>0.763194444444</td></tr>",
                            "<tr><td>Spain</td><td>Normal</td><td>599</td><td>0.268369175627</td></tr>",
                            "<tr><td>Spain</td><td>Premium</td><td>1609</td><td>0.720878136200</td></tr>",
                            "<tr><td>Spain</td><td>Not Logged In</td><td>24</td><td>0.010752688172</td></tr>",
                            "<tr><td>Sri Lanka</td><td>Normal</td><td>169</td><td>0.213383838383</td></tr>",
                            "<tr><td>Sri Lanka</td><td>Premium</td><td>613</td><td>0.773989898989</td></tr>",
                            "<tr><td>Sri Lanka</td><td>Not Logged In</td><td>10</td><td>0.012626262626</td></tr>",
                            "<tr><td>Suriname</td><td>Premium</td><td>1440</td><td>0.714285714285</td></tr>",
                            "<tr><td>Suriname</td><td>Normal</td><td>552</td><td>0.273809523809</td></tr>",
                            "<tr><td>Suriname</td><td>Not Logged In</td><td>24</td><td>0.011904761904</td></tr>",
                            "<tr><td>Sweden</td><td>Not Logged In</td><td>16</td><td>0.007448789571</td></tr>",
                            "<tr><td>Sweden</td><td>Premium</td><td>1608</td><td>0.748603351955</td></tr>",
                            "<tr><td>Sweden</td><td>Normal</td><td>524</td><td>0.243947858472</td></tr>",
                            "<tr><td>Switzerland</td><td>Premium</td><td>1138</td><td>0.752645502645</td></tr>",
                            "<tr><td>Switzerland</td><td>Normal</td><td>370</td><td>0.244708994708</td></tr>",
                            "<tr><td>Switzerland</td><td>Not Logged In</td><td>4</td><td>0.002645502645</td></tr>",
                            "<tr><td>Thailand</td><td>Normal</td><td>516</td><td>0.257485029940</td></tr>",
                            "<tr><td>Thailand</td><td>Premium</td><td>1472</td><td>0.734530938123</td></tr>",
                            "<tr><td>Thailand</td><td>Not Logged In</td><td>16</td><td>0.007984031936</td></tr>",
                            "<tr><td>Trinidad and Tobago</td><td>Premium</td><td>1365</td><td>0.702160493827</td></tr>",
                            "<tr><td>Trinidad and Tobago</td><td>Not Logged In</td><td>10</td><td>0.005144032921</td></tr>",
                            "<tr><td>Trinidad and Tobago</td><td>Normal</td><td>569</td><td>0.292695473251</td></tr>",
                            "<tr><td>Turkey</td><td>Normal</td><td>133</td><td>0.263888888888</td></tr>",
                            "<tr><td>Turkey</td><td>Premium</td><td>369</td><td>0.732142857142</td></tr>",
                            "<tr><td>Turkey</td><td>Not Logged In</td><td>2</td><td>0.003968253968</td></tr>",
                            "<tr><td>Turkmenistan</td><td>Premium</td><td>1415</td><td>0.677681992337</td></tr>",
                            "<tr><td>Turkmenistan</td><td>Not Logged In</td><td>20</td><td>0.009578544061</td></tr>",
                            "<tr><td>Turkmenistan</td><td>Normal</td><td>653</td><td>0.312739463601</td></tr>",
                            "<tr><td>Ukraine</td><td>Normal</td><td>686</td><td>0.340277777777</td></tr>",
                            "<tr><td>Ukraine</td><td>Premium</td><td>1312</td><td>0.650793650793</td></tr>",
                            "<tr><td>Ukraine</td><td>Not Logged In</td><td>18</td><td>0.008928571428</td></tr>",
                            "<tr><td>United Arab Emirates</td><td>Normal</td><td>134</td><td>0.310185185185</td></tr>",
                            "<tr><td>United Arab Emirates</td><td>Premium</td><td>298</td><td>0.689814814814</td></tr>",
                            "<tr><td>United Kingdom</td><td>Premium</td><td>1480</td><td>0.663082437275</td></tr>",
                            "<tr><td>United Kingdom</td><td>Not Logged In</td><td>18</td><td>0.008064516129</td></tr>",
                            "<tr><td>United Kingdom</td><td>Normal</td><td>734</td><td>0.328853046594</td></tr>",
                            "<tr><td>United States</td><td>Normal</td><td>789</td><td>0.353653070372</td></tr>",
                            "<tr><td>United States</td><td>Premium</td><td>1422</td><td>0.637382339757</td></tr>",
                            "<tr><td>United States</td><td>Not Logged In</td><td>20</td><td>0.008964589870</td></tr>",
                            "<tr><td>Uruguay</td><td>Not Logged In</td><td>32</td><td>0.015873015873</td></tr>",
                            "<tr><td>Uruguay</td><td>Premium</td><td>1248</td><td>0.619047619047</td></tr>",
                            "<tr><td>Uruguay</td><td>Normal</td><td>736</td><td>0.365079365079</td></tr>",
                            "<tr><td>Uzbekistan</td><td>Premium</td><td>986</td><td>0.622474747474</td></tr>",
                            "<tr><td>Uzbekistan</td><td>Not Logged In</td><td>38</td><td>0.023989898989</td></tr>",
                            "<tr><td>Uzbekistan</td><td>Normal</td><td>560</td><td>0.353535353535</td></tr>",
                            "</table>"
                        ]
                    }
                }
            ],
            "execution_count": 33
        },
        {
            "cell_type": "markdown",
            "source": [
                ""
            ],
            "metadata": {
                "language": "sql",
                "azdata_cell_guid": "3cbb9213-f276-4868-9f51-f404e2e086c3"
            }
        },
        {
            "cell_type": "code",
            "source": [
                "-- purchases per browser per country\n",
                "SELECT country, Accessed_From, COUNT(1) AS purchases\n",
                "FROM logs\n",
                "GROUP BY country, Accessed_From\n",
                "ORDER BY country;"
            ],
            "metadata": {
                "language": "sql",
                "azdata_cell_guid": "9d2f9e3e-0987-4dbe-aa7b-d5292dc61bbd"
            },
            "outputs": [
                {
                    "output_type": "display_data",
                    "data": {
                        "text/html": "(695 rows affected)"
                    },
                    "metadata": {}
                },
                {
                    "output_type": "display_data",
                    "data": {
                        "text/html": "Total execution time: 00:00:00.123"
                    },
                    "metadata": {}
                },
                {
                    "output_type": "execute_result",
                    "metadata": {},
                    "execution_count": 34,
                    "data": {
                        "application/vnd.dataresource+json": {
                            "schema": {
                                "fields": [
                                    {
                                        "name": "country"
                                    },
                                    {
                                        "name": "Accessed_From"
                                    },
                                    {
                                        "name": "purchases"
                                    }
                                ]
                            },
                            "data": [
                                {
                                    "country": "Albania",
                                    "Accessed_From": "Microsoft Edge",
                                    "purchases": "171"
                                },
                                {
                                    "country": "Albania",
                                    "Accessed_From": "Android App",
                                    "purchases": "392"
                                },
                                {
                                    "country": "Albania",
                                    "Accessed_From": "Chrome",
                                    "purchases": "299"
                                },
                                {
                                    "country": "Albania",
                                    "Accessed_From": "Safari",
                                    "purchases": "180"
                                },
                                {
                                    "country": "Albania",
                                    "Accessed_From": "IOS App",
                                    "purchases": "233"
                                },
                                {
                                    "country": "Albania",
                                    "Accessed_From": "Others",
                                    "purchases": "281"
                                },
                                {
                                    "country": "Albania",
                                    "Accessed_From": "Mozilla Firefox",
                                    "purchases": "292"
                                },
                                {
                                    "country": "Antigua and Barbuda",
                                    "Accessed_From": "IOS App",
                                    "purchases": "289"
                                },
                                {
                                    "country": "Antigua and Barbuda",
                                    "Accessed_From": "Microsoft Edge",
                                    "purchases": "189"
                                },
                                {
                                    "country": "Antigua and Barbuda",
                                    "Accessed_From": "Others",
                                    "purchases": "336"
                                },
                                {
                                    "country": "Antigua and Barbuda",
                                    "Accessed_From": "Chrome",
                                    "purchases": "401"
                                },
                                {
                                    "country": "Antigua and Barbuda",
                                    "Accessed_From": "Safari",
                                    "purchases": "210"
                                },
                                {
                                    "country": "Antigua and Barbuda",
                                    "Accessed_From": "Android App",
                                    "purchases": "486"
                                },
                                {
                                    "country": "Antigua and Barbuda",
                                    "Accessed_From": "Mozilla Firefox",
                                    "purchases": "357"
                                },
                                {
                                    "country": "Argentina",
                                    "Accessed_From": "Android App",
                                    "purchases": "575"
                                },
                                {
                                    "country": "Argentina",
                                    "Accessed_From": "IOS App",
                                    "purchases": "336"
                                },
                                {
                                    "country": "Argentina",
                                    "Accessed_From": "Chrome",
                                    "purchases": "429"
                                },
                                {
                                    "country": "Argentina",
                                    "Accessed_From": "Others",
                                    "purchases": "407"
                                },
                                {
                                    "country": "Argentina",
                                    "Accessed_From": "Safari",
                                    "purchases": "240"
                                },
                                {
                                    "country": "Argentina",
                                    "Accessed_From": "Microsoft Edge",
                                    "purchases": "216"
                                },
                                {
                                    "country": "Argentina",
                                    "Accessed_From": "Mozilla Firefox",
                                    "purchases": "400"
                                },
                                {
                                    "country": "Armenia",
                                    "Accessed_From": "Others",
                                    "purchases": "314"
                                },
                                {
                                    "country": "Armenia",
                                    "Accessed_From": "Safari",
                                    "purchases": "210"
                                },
                                {
                                    "country": "Armenia",
                                    "Accessed_From": "Microsoft Edge",
                                    "purchases": "189"
                                },
                                {
                                    "country": "Armenia",
                                    "Accessed_From": "Mozilla Firefox",
                                    "purchases": "332"
                                },
                                {
                                    "country": "Armenia",
                                    "Accessed_From": "IOS App",
                                    "purchases": "250"
                                },
                                {
                                    "country": "Armenia",
                                    "Accessed_From": "Chrome",
                                    "purchases": "304"
                                },
                                {
                                    "country": "Armenia",
                                    "Accessed_From": "Android App",
                                    "purchases": "487"
                                },
                                {
                                    "country": "Aruba",
                                    "Accessed_From": "Chrome",
                                    "purchases": "228"
                                },
                                {
                                    "country": "Aruba",
                                    "Accessed_From": "IOS App",
                                    "purchases": "155"
                                },
                                {
                                    "country": "Aruba",
                                    "Accessed_From": "Microsoft Edge",
                                    "purchases": "99"
                                },
                                {
                                    "country": "Aruba",
                                    "Accessed_From": "Android App",
                                    "purchases": "234"
                                },
                                {
                                    "country": "Aruba",
                                    "Accessed_From": "Safari",
                                    "purchases": "110"
                                },
                                {
                                    "country": "Aruba",
                                    "Accessed_From": "Mozilla Firefox",
                                    "purchases": "164"
                                },
                                {
                                    "country": "Aruba",
                                    "Accessed_From": "Others",
                                    "purchases": "186"
                                },
                                {
                                    "country": "Australia",
                                    "Accessed_From": "IOS App",
                                    "purchases": "300"
                                },
                                {
                                    "country": "Australia",
                                    "Accessed_From": "Safari",
                                    "purchases": "240"
                                },
                                {
                                    "country": "Australia",
                                    "Accessed_From": "Android App",
                                    "purchases": "575"
                                },
                                {
                                    "country": "Australia",
                                    "Accessed_From": "Mozilla Firefox",
                                    "purchases": "400"
                                },
                                {
                                    "country": "Australia",
                                    "Accessed_From": "Chrome",
                                    "purchases": "415"
                                },
                                {
                                    "country": "Australia",
                                    "Accessed_From": "Microsoft Edge",
                                    "purchases": "216"
                                },
                                {
                                    "country": "Australia",
                                    "Accessed_From": "Others",
                                    "purchases": "374"
                                },
                                {
                                    "country": "Austria",
                                    "Accessed_From": "Chrome",
                                    "purchases": "418"
                                },
                                {
                                    "country": "Austria",
                                    "Accessed_From": "Mozilla Firefox",
                                    "purchases": "408"
                                },
                                {
                                    "country": "Austria",
                                    "Accessed_From": "Android App",
                                    "purchases": "576"
                                },
                                {
                                    "country": "Austria",
                                    "Accessed_From": "IOS App",
                                    "purchases": "346"
                                },
                                {
                                    "country": "Austria",
                                    "Accessed_From": "Safari",
                                    "purchases": "262"
                                },
                                {
                                    "country": "Austria",
                                    "Accessed_From": "Microsoft Edge",
                                    "purchases": "243"
                                },
                                {
                                    "country": "Austria",
                                    "Accessed_From": "Others",
                                    "purchases": "421"
                                },
                                {
                                    "country": "Azerbaijan",
                                    "Accessed_From": "Chrome",
                                    "purchases": "238"
                                },
                                {
                                    "country": "Azerbaijan",
                                    "Accessed_From": "Safari",
                                    "purchases": "128"
                                },
                                {
                                    "country": "Azerbaijan",
                                    "Accessed_From": "IOS App",
                                    "purchases": "167"
                                },
                                {
                                    "country": "Azerbaijan",
                                    "Accessed_From": "Others",
                                    "purchases": "205"
                                },
                                {
                                    "country": "Azerbaijan",
                                    "Accessed_From": "Microsoft Edge",
                                    "purchases": "108"
                                },
                                {
                                    "country": "Azerbaijan",
                                    "Accessed_From": "Android App",
                                    "purchases": "298"
                                },
                                {
                                    "country": "Azerbaijan",
                                    "Accessed_From": "Mozilla Firefox",
                                    "purchases": "200"
                                },
                                {
                                    "country": "Bahamas",
                                    "Accessed_From": "Microsoft Edge",
                                    "purchases": "177"
                                },
                                {
                                    "country": "Bahamas",
                                    "Accessed_From": "Android App",
                                    "purchases": "432"
                                },
                                {
                                    "country": "Bahamas",
                                    "Accessed_From": "Mozilla Firefox",
                                    "purchases": "306"
                                },
                                {
                                    "country": "Bahamas",
                                    "Accessed_From": "Chrome",
                                    "purchases": "296"
                                },
                                {
                                    "country": "Bahamas",
                                    "Accessed_From": "IOS App",
                                    "purchases": "243"
                                },
                                {
                                    "country": "Bahamas",
                                    "Accessed_From": "Others",
                                    "purchases": "292"
                                },
                                {
                                    "country": "Bahamas",
                                    "Accessed_From": "Safari",
                                    "purchases": "186"
                                },
                                {
                                    "country": "Bahrain",
                                    "Accessed_From": "Android App",
                                    "purchases": "373"
                                },
                                {
                                    "country": "Bahrain",
                                    "Accessed_From": "Mozilla Firefox",
                                    "purchases": "270"
                                },
                                {
                                    "country": "Bahrain",
                                    "Accessed_From": "Others",
                                    "purchases": "284"
                                },
                                {
                                    "country": "Bahrain",
                                    "Accessed_From": "Microsoft Edge",
                                    "purchases": "147"
                                },
                                {
                                    "country": "Bahrain",
                                    "Accessed_From": "Safari",
                                    "purchases": "164"
                                },
                                {
                                    "country": "Bahrain",
                                    "Accessed_From": "IOS App",
                                    "purchases": "227"
                                },
                                {
                                    "country": "Bahrain",
                                    "Accessed_From": "Chrome",
                                    "purchases": "299"
                                },
                                {
                                    "country": "Barbados",
                                    "Accessed_From": "Microsoft Edge",
                                    "purchases": "180"
                                },
                                {
                                    "country": "Barbados",
                                    "Accessed_From": "Others",
                                    "purchases": "311"
                                },
                                {
                                    "country": "Barbados",
                                    "Accessed_From": "Safari",
                                    "purchases": "211"
                                },
                                {
                                    "country": "Barbados",
                                    "Accessed_From": "Android App",
                                    "purchases": "482"
                                },
                                {
                                    "country": "Barbados",
                                    "Accessed_From": "Mozilla Firefox",
                                    "purchases": "320"
                                },
                                {
                                    "country": "Barbados",
                                    "Accessed_From": "Chrome",
                                    "purchases": "343"
                                },
                                {
                                    "country": "Barbados",
                                    "Accessed_From": "IOS App",
                                    "purchases": "252"
                                },
                                {
                                    "country": "Belarus",
                                    "Accessed_From": "Android App",
                                    "purchases": "410"
                                },
                                {
                                    "country": "Belarus",
                                    "Accessed_From": "IOS App",
                                    "purchases": "220"
                                },
                                {
                                    "country": "Belarus",
                                    "Accessed_From": "Microsoft Edge",
                                    "purchases": "153"
                                },
                                {
                                    "country": "Belarus",
                                    "Accessed_From": "Mozilla Firefox",
                                    "purchases": "275"
                                },
                                {
                                    "country": "Belarus",
                                    "Accessed_From": "Chrome",
                                    "purchases": "256"
                                },
                                {
                                    "country": "Belarus",
                                    "Accessed_From": "Others",
                                    "purchases": "279"
                                },
                                {
                                    "country": "Belarus",
                                    "Accessed_From": "Safari",
                                    "purchases": "170"
                                },
                                {
                                    "country": "Belgium",
                                    "Accessed_From": "Others",
                                    "purchases": "394"
                                },
                                {
                                    "country": "Belgium",
                                    "Accessed_From": "Android App",
                                    "purchases": "556"
                                },
                                {
                                    "country": "Belgium",
                                    "Accessed_From": "Mozilla Firefox",
                                    "purchases": "396"
                                },
                                {
                                    "country": "Belgium",
                                    "Accessed_From": "Safari",
                                    "purchases": "250"
                                },
                                {
                                    "country": "Belgium",
                                    "Accessed_From": "IOS App",
                                    "purchases": "325"
                                },
                                {
                                    "country": "Belgium",
                                    "Accessed_From": "Microsoft Edge",
                                    "purchases": "225"
                                },
                                {
                                    "country": "Belgium",
                                    "Accessed_From": "Chrome",
                                    "purchases": "458"
                                },
                                {
                                    "country": "Belize",
                                    "Accessed_From": "Others",
                                    "purchases": "376"
                                },
                                {
                                    "country": "Belize",
                                    "Accessed_From": "Android App",
                                    "purchases": "523"
                                },
                                {
                                    "country": "Belize",
                                    "Accessed_From": "Microsoft Edge",
                                    "purchases": "207"
                                },
                                {
                                    "country": "Belize",
                                    "Accessed_From": "Mozilla Firefox",
                                    "purchases": "359"
                                },
                                {
                                    "country": "Belize",
                                    "Accessed_From": "IOS App",
                                    "purchases": "294"
                                },
                                {
                                    "country": "Belize",
                                    "Accessed_From": "Chrome",
                                    "purchases": "371"
                                },
                                {
                                    "country": "Belize",
                                    "Accessed_From": "Safari",
                                    "purchases": "222"
                                },
                                {
                                    "country": "Bosnia and Herzegovina",
                                    "Accessed_From": "Android App",
                                    "purchases": "52"
                                },
                                {
                                    "country": "Bosnia and Herzegovina",
                                    "Accessed_From": "Safari",
                                    "purchases": "18"
                                },
                                {
                                    "country": "Bosnia and Herzegovina",
                                    "Accessed_From": "Mozilla Firefox",
                                    "purchases": "40"
                                },
                                {
                                    "country": "Bosnia and Herzegovina",
                                    "Accessed_From": "Others",
                                    "purchases": "15"
                                },
                                {
                                    "country": "Bosnia and Herzegovina",
                                    "Accessed_From": "IOS App",
                                    "purchases": "18"
                                },
                                {
                                    "country": "Bosnia and Herzegovina",
                                    "Accessed_From": "Microsoft Edge",
                                    "purchases": "9"
                                },
                                {
                                    "country": "Bosnia and Herzegovina",
                                    "Accessed_From": "Chrome",
                                    "purchases": "16"
                                },
                                {
                                    "country": "Brazil",
                                    "Accessed_From": "IOS App",
                                    "purchases": "331"
                                },
                                {
                                    "country": "Brazil",
                                    "Accessed_From": "Android App",
                                    "purchases": "551"
                                },
                                {
                                    "country": "Brazil",
                                    "Accessed_From": "Safari",
                                    "purchases": "249"
                                },
                                {
                                    "country": "Brazil",
                                    "Accessed_From": "Mozilla Firefox",
                                    "purchases": "385"
                                },
                                {
                                    "country": "Brazil",
                                    "Accessed_From": "Chrome",
                                    "purchases": "460"
                                },
                                {
                                    "country": "Brazil",
                                    "Accessed_From": "Microsoft Edge",
                                    "purchases": "225"
                                },
                                {
                                    "country": "Brazil",
                                    "Accessed_From": "Others",
                                    "purchases": "403"
                                },
                                {
                                    "country": "Bulgaria",
                                    "Accessed_From": "Android App",
                                    "purchases": "576"
                                },
                                {
                                    "country": "Bulgaria",
                                    "Accessed_From": "Safari",
                                    "purchases": "240"
                                },
                                {
                                    "country": "Bulgaria",
                                    "Accessed_From": "Microsoft Edge",
                                    "purchases": "216"
                                },
                                {
                                    "country": "Bulgaria",
                                    "Accessed_From": "Others",
                                    "purchases": "382"
                                },
                                {
                                    "country": "Bulgaria",
                                    "Accessed_From": "Mozilla Firefox",
                                    "purchases": "399"
                                },
                                {
                                    "country": "Bulgaria",
                                    "Accessed_From": "Chrome",
                                    "purchases": "401"
                                },
                                {
                                    "country": "Bulgaria",
                                    "Accessed_From": "IOS App",
                                    "purchases": "306"
                                },
                                {
                                    "country": "Cabo Verde",
                                    "Accessed_From": "Mozilla Firefox",
                                    "purchases": "12"
                                },
                                {
                                    "country": "Cabo Verde",
                                    "Accessed_From": "Others",
                                    "purchases": "18"
                                },
                                {
                                    "country": "Cabo Verde",
                                    "Accessed_From": "IOS App",
                                    "purchases": "28"
                                },
                                {
                                    "country": "Cabo Verde",
                                    "Accessed_From": "Chrome",
                                    "purchases": "14"
                                },
                                {
                                    "country": "Cabo Verde",
                                    "Accessed_From": "Microsoft Edge",
                                    "purchases": "12"
                                },
                                {
                                    "country": "Canada",
                                    "Accessed_From": "Safari",
                                    "purchases": "250"
                                },
                                {
                                    "country": "Canada",
                                    "Accessed_From": "Chrome",
                                    "purchases": "377"
                                },
                                {
                                    "country": "Canada",
                                    "Accessed_From": "Mozilla Firefox",
                                    "purchases": "372"
                                },
                                {
                                    "country": "Canada",
                                    "Accessed_From": "IOS App",
                                    "purchases": "296"
                                },
                                {
                                    "country": "Canada",
                                    "Accessed_From": "Microsoft Edge",
                                    "purchases": "213"
                                },
                                {
                                    "country": "Canada",
                                    "Accessed_From": "Android App",
                                    "purchases": "552"
                                },
                                {
                                    "country": "Canada",
                                    "Accessed_From": "Others",
                                    "purchases": "376"
                                },
                                {
                                    "country": "Chile",
                                    "Accessed_From": "Android App",
                                    "purchases": "575"
                                },
                                {
                                    "country": "Chile",
                                    "Accessed_From": "Microsoft Edge",
                                    "purchases": "216"
                                },
                                {
                                    "country": "Chile",
                                    "Accessed_From": "Chrome",
                                    "purchases": "457"
                                },
                                {
                                    "country": "Chile",
                                    "Accessed_From": "Others",
                                    "purchases": "396"
                                },
                                {
                                    "country": "Chile",
                                    "Accessed_From": "Mozilla Firefox",
                                    "purchases": "400"
                                },
                                {
                                    "country": "Chile",
                                    "Accessed_From": "Safari",
                                    "purchases": "240"
                                },
                                {
                                    "country": "Chile",
                                    "Accessed_From": "IOS App",
                                    "purchases": "320"
                                },
                                {
                                    "country": "Colombia",
                                    "Accessed_From": "Mozilla Firefox",
                                    "purchases": "386"
                                },
                                {
                                    "country": "Colombia",
                                    "Accessed_From": "IOS App",
                                    "purchases": "326"
                                },
                                {
                                    "country": "Colombia",
                                    "Accessed_From": "Safari",
                                    "purchases": "240"
                                },
                                {
                                    "country": "Colombia",
                                    "Accessed_From": "Microsoft Edge",
                                    "purchases": "225"
                                },
                                {
                                    "country": "Colombia",
                                    "Accessed_From": "Others",
                                    "purchases": "399"
                                },
                                {
                                    "country": "Colombia",
                                    "Accessed_From": "Android App",
                                    "purchases": "537"
                                },
                                {
                                    "country": "Colombia",
                                    "Accessed_From": "Chrome",
                                    "purchases": "401"
                                },
                                {
                                    "country": "Costa Rica",
                                    "Accessed_From": "Microsoft Edge",
                                    "purchases": "180"
                                },
                                {
                                    "country": "Costa Rica",
                                    "Accessed_From": "Chrome",
                                    "purchases": "357"
                                },
                                {
                                    "country": "Costa Rica",
                                    "Accessed_From": "Safari",
                                    "purchases": "210"
                                },
                                {
                                    "country": "Costa Rica",
                                    "Accessed_From": "Mozilla Firefox",
                                    "purchases": "324"
                                },
                                {
                                    "country": "Costa Rica",
                                    "Accessed_From": "Android App",
                                    "purchases": "483"
                                },
                                {
                                    "country": "Costa Rica",
                                    "Accessed_From": "Others",
                                    "purchases": "336"
                                },
                                {
                                    "country": "Costa Rica",
                                    "Accessed_From": "IOS App",
                                    "purchases": "270"
                                },
                                {
                                    "country": "Croatia",
                                    "Accessed_From": "Mozilla Firefox",
                                    "purchases": "246"
                                },
                                {
                                    "country": "Croatia",
                                    "Accessed_From": "Safari",
                                    "purchases": "150"
                                },
                                {
                                    "country": "Croatia",
                                    "Accessed_From": "IOS App",
                                    "purchases": "198"
                                },
                                {
                                    "country": "Croatia",
                                    "Accessed_From": "Chrome",
                                    "purchases": "255"
                                },
                                {
                                    "country": "Croatia",
                                    "Accessed_From": "Microsoft Edge",
                                    "purchases": "138"
                                },
                                {
                                    "country": "Croatia",
                                    "Accessed_From": "Android App",
                                    "purchases": "345"
                                },
                                {
                                    "country": "Croatia",
                                    "Accessed_From": "Others",
                                    "purchases": "240"
                                },
                                {
                                    "country": "Cuba",
                                    "Accessed_From": "IOS App",
                                    "purchases": "198"
                                },
                                {
                                    "country": "Cuba",
                                    "Accessed_From": "Chrome",
                                    "purchases": "258"
                                },
                                {
                                    "country": "Cuba",
                                    "Accessed_From": "Safari",
                                    "purchases": "180"
                                },
                                {
                                    "country": "Cuba",
                                    "Accessed_From": "Mozilla Firefox",
                                    "purchases": "255"
                                },
                                {
                                    "country": "Cuba",
                                    "Accessed_From": "Microsoft Edge",
                                    "purchases": "156"
                                },
                                {
                                    "country": "Cuba",
                                    "Accessed_From": "Others",
                                    "purchases": "270"
                                },
                                {
                                    "country": "Cuba",
                                    "Accessed_From": "Android App",
                                    "purchases": "411"
                                },
                                {
                                    "country": "Cyprus",
                                    "Accessed_From": "Mozilla Firefox",
                                    "purchases": "171"
                                },
                                {
                                    "country": "Cyprus",
                                    "Accessed_From": "Microsoft Edge",
                                    "purchases": "84"
                                },
                                {
                                    "country": "Cyprus",
                                    "Accessed_From": "IOS App",
                                    "purchases": "150"
                                },
                                {
                                    "country": "Cyprus",
                                    "Accessed_From": "Safari",
                                    "purchases": "90"
                                },
                                {
                                    "country": "Cyprus",
                                    "Accessed_From": "Android App",
                                    "purchases": "210"
                                },
                                {
                                    "country": "Cyprus",
                                    "Accessed_From": "Chrome",
                                    "purchases": "200"
                                },
                                {
                                    "country": "Cyprus",
                                    "Accessed_From": "Others",
                                    "purchases": "162"
                                },
                                {
                                    "country": "Czech Republic",
                                    "Accessed_From": "Chrome",
                                    "purchases": "306"
                                },
                                {
                                    "country": "Czech Republic",
                                    "Accessed_From": "IOS App",
                                    "purchases": "237"
                                },
                                {
                                    "country": "Czech Republic",
                                    "Accessed_From": "Microsoft Edge",
                                    "purchases": "180"
                                },
                                {
                                    "country": "Czech Republic",
                                    "Accessed_From": "Android App",
                                    "purchases": "426"
                                },
                                {
                                    "country": "Czech Republic",
                                    "Accessed_From": "Mozilla Firefox",
                                    "purchases": "306"
                                },
                                {
                                    "country": "Czech Republic",
                                    "Accessed_From": "Safari",
                                    "purchases": "189"
                                },
                                {
                                    "country": "Czech Republic",
                                    "Accessed_From": "Others",
                                    "purchases": "288"
                                },
                                {
                                    "country": "Denmark",
                                    "Accessed_From": "Others",
                                    "purchases": "248"
                                },
                                {
                                    "country": "Denmark",
                                    "Accessed_From": "Microsoft Edge",
                                    "purchases": "135"
                                },
                                {
                                    "country": "Denmark",
                                    "Accessed_From": "Mozilla Firefox",
                                    "purchases": "240"
                                },
                                {
                                    "country": "Denmark",
                                    "Accessed_From": "Safari",
                                    "purchases": "154"
                                },
                                {
                                    "country": "Denmark",
                                    "Accessed_From": "Android App",
                                    "purchases": "357"
                                },
                                {
                                    "country": "Denmark",
                                    "Accessed_From": "IOS App",
                                    "purchases": "195"
                                },
                                {
                                    "country": "Denmark",
                                    "Accessed_From": "Chrome",
                                    "purchases": "255"
                                },
                                {
                                    "country": "Dominica",
                                    "Accessed_From": "Safari",
                                    "purchases": "15"
                                },
                                {
                                    "country": "Dominica",
                                    "Accessed_From": "Others",
                                    "purchases": "21"
                                },
                                {
                                    "country": "Dominica",
                                    "Accessed_From": "Android App",
                                    "purchases": "36"
                                },
                                {
                                    "country": "Ecuador",
                                    "Accessed_From": "Microsoft Edge",
                                    "purchases": "198"
                                },
                                {
                                    "country": "Ecuador",
                                    "Accessed_From": "Others",
                                    "purchases": "336"
                                },
                                {
                                    "country": "Ecuador",
                                    "Accessed_From": "IOS App",
                                    "purchases": "285"
                                },
                                {
                                    "country": "Ecuador",
                                    "Accessed_From": "Mozilla Firefox",
                                    "purchases": "351"
                                },
                                {
                                    "country": "Ecuador",
                                    "Accessed_From": "Chrome",
                                    "purchases": "360"
                                },
                                {
                                    "country": "Ecuador",
                                    "Accessed_From": "Android App",
                                    "purchases": "489"
                                },
                                {
                                    "country": "Ecuador",
                                    "Accessed_From": "Safari",
                                    "purchases": "213"
                                },
                                {
                                    "country": "El Salvador",
                                    "Accessed_From": "Others",
                                    "purchases": "257"
                                },
                                {
                                    "country": "El Salvador",
                                    "Accessed_From": "Chrome",
                                    "purchases": "304"
                                },
                                {
                                    "country": "El Salvador",
                                    "Accessed_From": "IOS App",
                                    "purchases": "222"
                                },
                                {
                                    "country": "El Salvador",
                                    "Accessed_From": "Safari",
                                    "purchases": "159"
                                },
                                {
                                    "country": "El Salvador",
                                    "Accessed_From": "Microsoft Edge",
                                    "purchases": "153"
                                },
                                {
                                    "country": "El Salvador",
                                    "Accessed_From": "Mozilla Firefox",
                                    "purchases": "273"
                                },
                                {
                                    "country": "El Salvador",
                                    "Accessed_From": "Android App",
                                    "purchases": "360"
                                },
                                {
                                    "country": "Estonia",
                                    "Accessed_From": "Android App",
                                    "purchases": "333"
                                },
                                {
                                    "country": "Estonia",
                                    "Accessed_From": "Others",
                                    "purchases": "240"
                                },
                                {
                                    "country": "Estonia",
                                    "Accessed_From": "Safari",
                                    "purchases": "141"
                                },
                                {
                                    "country": "Estonia",
                                    "Accessed_From": "Microsoft Edge",
                                    "purchases": "120"
                                },
                                {
                                    "country": "Estonia",
                                    "Accessed_From": "Chrome",
                                    "purchases": "255"
                                },
                                {
                                    "country": "Estonia",
                                    "Accessed_From": "IOS App",
                                    "purchases": "195"
                                },
                                {
                                    "country": "Estonia",
                                    "Accessed_From": "Mozilla Firefox",
                                    "purchases": "228"
                                },
                                {
                                    "country": "Fiji",
                                    "Accessed_From": "Others",
                                    "purchases": "126"
                                },
                                {
                                    "country": "Fiji",
                                    "Accessed_From": "Microsoft Edge",
                                    "purchases": "75"
                                },
                                {
                                    "country": "Fiji",
                                    "Accessed_From": "IOS App",
                                    "purchases": "81"
                                },
                                {
                                    "country": "Fiji",
                                    "Accessed_From": "Chrome",
                                    "purchases": "105"
                                },
                                {
                                    "country": "Fiji",
                                    "Accessed_From": "Android App",
                                    "purchases": "204"
                                },
                                {
                                    "country": "Fiji",
                                    "Accessed_From": "Safari",
                                    "purchases": "90"
                                },
                                {
                                    "country": "Fiji",
                                    "Accessed_From": "Mozilla Firefox",
                                    "purchases": "111"
                                },
                                {
                                    "country": "Finland",
                                    "Accessed_From": "Android App",
                                    "purchases": "441"
                                },
                                {
                                    "country": "Finland",
                                    "Accessed_From": "Chrome",
                                    "purchases": "354"
                                },
                                {
                                    "country": "Finland",
                                    "Accessed_From": "Others",
                                    "purchases": "315"
                                },
                                {
                                    "country": "Finland",
                                    "Accessed_From": "Mozilla Firefox",
                                    "purchases": "333"
                                },
                                {
                                    "country": "Finland",
                                    "Accessed_From": "Safari",
                                    "purchases": "192"
                                },
                                {
                                    "country": "Finland",
                                    "Accessed_From": "Microsoft Edge",
                                    "purchases": "183"
                                },
                                {
                                    "country": "Finland",
                                    "Accessed_From": "IOS App",
                                    "purchases": "270"
                                },
                                {
                                    "country": "France",
                                    "Accessed_From": "Microsoft Edge",
                                    "purchases": "189"
                                },
                                {
                                    "country": "France",
                                    "Accessed_From": "Chrome",
                                    "purchases": "357"
                                },
                                {
                                    "country": "France",
                                    "Accessed_From": "Mozilla Firefox",
                                    "purchases": "336"
                                },
                                {
                                    "country": "France",
                                    "Accessed_From": "IOS App",
                                    "purchases": "273"
                                },
                                {
                                    "country": "France",
                                    "Accessed_From": "Others",
                                    "purchases": "327"
                                },
                                {
                                    "country": "France",
                                    "Accessed_From": "Safari",
                                    "purchases": "207"
                                },
                                {
                                    "country": "France",
                                    "Accessed_From": "Android App",
                                    "purchases": "471"
                                },
                                {
                                    "country": "Georgia",
                                    "Accessed_From": "Others",
                                    "purchases": "249"
                                },
                                {
                                    "country": "Georgia",
                                    "Accessed_From": "Chrome",
                                    "purchases": "255"
                                },
                                {
                                    "country": "Georgia",
                                    "Accessed_From": "IOS App",
                                    "purchases": "195"
                                },
                                {
                                    "country": "Georgia",
                                    "Accessed_From": "Mozilla Firefox",
                                    "purchases": "240"
                                },
                                {
                                    "country": "Georgia",
                                    "Accessed_From": "Microsoft Edge",
                                    "purchases": "135"
                                },
                                {
                                    "country": "Georgia",
                                    "Accessed_From": "Safari",
                                    "purchases": "153"
                                },
                                {
                                    "country": "Georgia",
                                    "Accessed_From": "Android App",
                                    "purchases": "357"
                                },
                                {
                                    "country": "Germany",
                                    "Accessed_From": "IOS App",
                                    "purchases": "234"
                                },
                                {
                                    "country": "Germany",
                                    "Accessed_From": "Chrome",
                                    "purchases": "306"
                                },
                                {
                                    "country": "Germany",
                                    "Accessed_From": "Android App",
                                    "purchases": "414"
                                },
                                {
                                    "country": "Germany",
                                    "Accessed_From": "Others",
                                    "purchases": "287"
                                },
                                {
                                    "country": "Germany",
                                    "Accessed_From": "Mozilla Firefox",
                                    "purchases": "288"
                                },
                                {
                                    "country": "Germany",
                                    "Accessed_From": "Microsoft Edge",
                                    "purchases": "162"
                                },
                                {
                                    "country": "Germany",
                                    "Accessed_From": "Safari",
                                    "purchases": "181"
                                },
                                {
                                    "country": "Greece",
                                    "Accessed_From": "Android App",
                                    "purchases": "507"
                                },
                                {
                                    "country": "Greece",
                                    "Accessed_From": "Others",
                                    "purchases": "357"
                                },
                                {
                                    "country": "Greece",
                                    "Accessed_From": "Microsoft Edge",
                                    "purchases": "189"
                                },
                                {
                                    "country": "Greece",
                                    "Accessed_From": "Chrome",
                                    "purchases": "357"
                                },
                                {
                                    "country": "Greece",
                                    "Accessed_From": "IOS App",
                                    "purchases": "273"
                                },
                                {
                                    "country": "Greece",
                                    "Accessed_From": "Safari",
                                    "purchases": "213"
                                },
                                {
                                    "country": "Greece",
                                    "Accessed_From": "Mozilla Firefox",
                                    "purchases": "336"
                                },
                                {
                                    "country": "Grenada",
                                    "Accessed_From": "Chrome",
                                    "purchases": "306"
                                },
                                {
                                    "country": "Grenada",
                                    "Accessed_From": "Android App",
                                    "purchases": "408"
                                },
                                {
                                    "country": "Grenada",
                                    "Accessed_From": "Mozilla Firefox",
                                    "purchases": "288"
                                },
                                {
                                    "country": "Grenada",
                                    "Accessed_From": "Others",
                                    "purchases": "285"
                                },
                                {
                                    "country": "Grenada",
                                    "Accessed_From": "Microsoft Edge",
                                    "purchases": "162"
                                },
                                {
                                    "country": "Grenada",
                                    "Accessed_From": "IOS App",
                                    "purchases": "234"
                                },
                                {
                                    "country": "Grenada",
                                    "Accessed_From": "Safari",
                                    "purchases": "177"
                                },
                                {
                                    "country": "Guatemala",
                                    "Accessed_From": "IOS App",
                                    "purchases": "273"
                                },
                                {
                                    "country": "Guatemala",
                                    "Accessed_From": "Android App",
                                    "purchases": "471"
                                },
                                {
                                    "country": "Guatemala",
                                    "Accessed_From": "Chrome",
                                    "purchases": "357"
                                },
                                {
                                    "country": "Guatemala",
                                    "Accessed_From": "Others",
                                    "purchases": "324"
                                },
                                {
                                    "country": "Guatemala",
                                    "Accessed_From": "Safari",
                                    "purchases": "210"
                                },
                                {
                                    "country": "Guatemala",
                                    "Accessed_From": "Mozilla Firefox",
                                    "purchases": "336"
                                },
                                {
                                    "country": "Guatemala",
                                    "Accessed_From": "Microsoft Edge",
                                    "purchases": "189"
                                },
                                {
                                    "country": "Guyana",
                                    "Accessed_From": "Android App",
                                    "purchases": "384"
                                },
                                {
                                    "country": "Guyana",
                                    "Accessed_From": "Microsoft Edge",
                                    "purchases": "153"
                                },
                                {
                                    "country": "Guyana",
                                    "Accessed_From": "Safari",
                                    "purchases": "168"
                                },
                                {
                                    "country": "Guyana",
                                    "Accessed_From": "IOS App",
                                    "purchases": "234"
                                },
                                {
                                    "country": "Guyana",
                                    "Accessed_From": "Chrome",
                                    "purchases": "305"
                                },
                                {
                                    "country": "Guyana",
                                    "Accessed_From": "Mozilla Firefox",
                                    "purchases": "283"
                                },
                                {
                                    "country": "Guyana",
                                    "Accessed_From": "Others",
                                    "purchases": "272"
                                },
                                {
                                    "country": "Hungary",
                                    "Accessed_From": "Microsoft Edge",
                                    "purchases": "156"
                                },
                                {
                                    "country": "Hungary",
                                    "Accessed_From": "Safari",
                                    "purchases": "180"
                                },
                                {
                                    "country": "Hungary",
                                    "Accessed_From": "Others",
                                    "purchases": "288"
                                },
                                {
                                    "country": "Hungary",
                                    "Accessed_From": "Android App",
                                    "purchases": "414"
                                },
                                {
                                    "country": "Hungary",
                                    "Accessed_From": "Mozilla Firefox",
                                    "purchases": "282"
                                },
                                {
                                    "country": "Hungary",
                                    "Accessed_From": "Chrome",
                                    "purchases": "306"
                                },
                                {
                                    "country": "Hungary",
                                    "Accessed_From": "IOS App",
                                    "purchases": "234"
                                },
                                {
                                    "country": "Iceland",
                                    "Accessed_From": "Safari",
                                    "purchases": "222"
                                },
                                {
                                    "country": "Iceland",
                                    "Accessed_From": "Microsoft Edge",
                                    "purchases": "204"
                                },
                                {
                                    "country": "Iceland",
                                    "Accessed_From": "Android App",
                                    "purchases": "525"
                                },
                                {
                                    "country": "Iceland",
                                    "Accessed_From": "Chrome",
                                    "purchases": "357"
                                },
                                {
                                    "country": "Iceland",
                                    "Accessed_From": "Mozilla Firefox",
                                    "purchases": "348"
                                },
                                {
                                    "country": "Iceland",
                                    "Accessed_From": "Others",
                                    "purchases": "363"
                                },
                                {
                                    "country": "Iceland",
                                    "Accessed_From": "IOS App",
                                    "purchases": "273"
                                },
                                {
                                    "country": "Ireland",
                                    "Accessed_From": "Others",
                                    "purchases": "324"
                                },
                                {
                                    "country": "Ireland",
                                    "Accessed_From": "Microsoft Edge",
                                    "purchases": "189"
                                },
                                {
                                    "country": "Ireland",
                                    "Accessed_From": "Safari",
                                    "purchases": "210"
                                },
                                {
                                    "country": "Ireland",
                                    "Accessed_From": "Mozilla Firefox",
                                    "purchases": "336"
                                },
                                {
                                    "country": "Ireland",
                                    "Accessed_From": "Android App",
                                    "purchases": "471"
                                },
                                {
                                    "country": "Ireland",
                                    "Accessed_From": "Chrome",
                                    "purchases": "357"
                                },
                                {
                                    "country": "Ireland",
                                    "Accessed_From": "IOS App",
                                    "purchases": "273"
                                },
                                {
                                    "country": "Israel",
                                    "Accessed_From": "Safari",
                                    "purchases": "219"
                                },
                                {
                                    "country": "Israel",
                                    "Accessed_From": "Android App",
                                    "purchases": "506"
                                },
                                {
                                    "country": "Israel",
                                    "Accessed_From": "Microsoft Edge",
                                    "purchases": "190"
                                },
                                {
                                    "country": "Israel",
                                    "Accessed_From": "Mozilla Firefox",
                                    "purchases": "336"
                                },
                                {
                                    "country": "Israel",
                                    "Accessed_From": "Chrome",
                                    "purchases": "358"
                                },
                                {
                                    "country": "Israel",
                                    "Accessed_From": "IOS App",
                                    "purchases": "273"
                                },
                                {
                                    "country": "Israel",
                                    "Accessed_From": "Others",
                                    "purchases": "350"
                                },
                                {
                                    "country": "Italy",
                                    "Accessed_From": "Others",
                                    "purchases": "336"
                                },
                                {
                                    "country": "Italy",
                                    "Accessed_From": "Microsoft Edge",
                                    "purchases": "198"
                                },
                                {
                                    "country": "Italy",
                                    "Accessed_From": "Safari",
                                    "purchases": "220"
                                },
                                {
                                    "country": "Italy",
                                    "Accessed_From": "Android App",
                                    "purchases": "494"
                                },
                                {
                                    "country": "Italy",
                                    "Accessed_From": "IOS App",
                                    "purchases": "279"
                                },
                                {
                                    "country": "Italy",
                                    "Accessed_From": "Chrome",
                                    "purchases": "360"
                                },
                                {
                                    "country": "Italy",
                                    "Accessed_From": "Mozilla Firefox",
                                    "purchases": "345"
                                },
                                {
                                    "country": "Jamaica",
                                    "Accessed_From": "Others",
                                    "purchases": "192"
                                },
                                {
                                    "country": "Jamaica",
                                    "Accessed_From": "Mozilla Firefox",
                                    "purchases": "183"
                                },
                                {
                                    "country": "Jamaica",
                                    "Accessed_From": "Microsoft Edge",
                                    "purchases": "99"
                                },
                                {
                                    "country": "Jamaica",
                                    "Accessed_From": "Chrome",
                                    "purchases": "201"
                                },
                                {
                                    "country": "Jamaica",
                                    "Accessed_From": "IOS App",
                                    "purchases": "153"
                                },
                                {
                                    "country": "Jamaica",
                                    "Accessed_From": "Safari",
                                    "purchases": "120"
                                },
                                {
                                    "country": "Jamaica",
                                    "Accessed_From": "Android App",
                                    "purchases": "276"
                                },
                                {
                                    "country": "Japan",
                                    "Accessed_From": "Chrome",
                                    "purchases": "360"
                                },
                                {
                                    "country": "Japan",
                                    "Accessed_From": "IOS App",
                                    "purchases": "288"
                                },
                                {
                                    "country": "Japan",
                                    "Accessed_From": "Android App",
                                    "purchases": "483"
                                },
                                {
                                    "country": "Japan",
                                    "Accessed_From": "Safari",
                                    "purchases": "210"
                                },
                                {
                                    "country": "Japan",
                                    "Accessed_From": "Mozilla Firefox",
                                    "purchases": "357"
                                },
                                {
                                    "country": "Japan",
                                    "Accessed_From": "Microsoft Edge",
                                    "purchases": "198"
                                },
                                {
                                    "country": "Japan",
                                    "Accessed_From": "Others",
                                    "purchases": "337"
                                },
                                {
                                    "country": "Kazakhstan",
                                    "Accessed_From": "Safari",
                                    "purchases": "181"
                                },
                                {
                                    "country": "Kazakhstan",
                                    "Accessed_From": "Mozilla Firefox",
                                    "purchases": "288"
                                },
                                {
                                    "country": "Kazakhstan",
                                    "Accessed_From": "Chrome",
                                    "purchases": "305"
                                },
                                {
                                    "country": "Kazakhstan",
                                    "Accessed_From": "Others",
                                    "purchases": "288"
                                },
                                {
                                    "country": "Kazakhstan",
                                    "Accessed_From": "Microsoft Edge",
                                    "purchases": "162"
                                },
                                {
                                    "country": "Kazakhstan",
                                    "Accessed_From": "Android App",
                                    "purchases": "414"
                                },
                                {
                                    "country": "Kazakhstan",
                                    "Accessed_From": "IOS App",
                                    "purchases": "234"
                                },
                                {
                                    "country": "Kiribati",
                                    "Accessed_From": "Chrome",
                                    "purchases": "150"
                                },
                                {
                                    "country": "Kiribati",
                                    "Accessed_From": "Mozilla Firefox",
                                    "purchases": "123"
                                },
                                {
                                    "country": "Kiribati",
                                    "Accessed_From": "Others",
                                    "purchases": "117"
                                },
                                {
                                    "country": "Kiribati",
                                    "Accessed_From": "IOS App",
                                    "purchases": "99"
                                },
                                {
                                    "country": "Kiribati",
                                    "Accessed_From": "Safari",
                                    "purchases": "72"
                                },
                                {
                                    "country": "Kiribati",
                                    "Accessed_From": "Microsoft Edge",
                                    "purchases": "72"
                                },
                                {
                                    "country": "Kiribati",
                                    "Accessed_From": "Android App",
                                    "purchases": "159"
                                },
                                {
                                    "country": "Kuwait",
                                    "Accessed_From": "Others",
                                    "purchases": "285"
                                },
                                {
                                    "country": "Kuwait",
                                    "Accessed_From": "Safari",
                                    "purchases": "168"
                                },
                                {
                                    "country": "Kuwait",
                                    "Accessed_From": "Microsoft Edge",
                                    "purchases": "144"
                                },
                                {
                                    "country": "Kuwait",
                                    "Accessed_From": "Mozilla Firefox",
                                    "purchases": "270"
                                },
                                {
                                    "country": "Kuwait",
                                    "Accessed_From": "IOS App",
                                    "purchases": "231"
                                },
                                {
                                    "country": "Kuwait",
                                    "Accessed_From": "Android App",
                                    "purchases": "396"
                                },
                                {
                                    "country": "Kuwait",
                                    "Accessed_From": "Chrome",
                                    "purchases": "306"
                                },
                                {
                                    "country": "Kyrgyzstan",
                                    "Accessed_From": "Mozilla Firefox",
                                    "purchases": "288"
                                },
                                {
                                    "country": "Kyrgyzstan",
                                    "Accessed_From": "Chrome",
                                    "purchases": "305"
                                },
                                {
                                    "country": "Kyrgyzstan",
                                    "Accessed_From": "Others",
                                    "purchases": "289"
                                },
                                {
                                    "country": "Kyrgyzstan",
                                    "Accessed_From": "Android App",
                                    "purchases": "412"
                                },
                                {
                                    "country": "Kyrgyzstan",
                                    "Accessed_From": "Safari",
                                    "purchases": "181"
                                },
                                {
                                    "country": "Kyrgyzstan",
                                    "Accessed_From": "IOS App",
                                    "purchases": "235"
                                },
                                {
                                    "country": "Kyrgyzstan",
                                    "Accessed_From": "Microsoft Edge",
                                    "purchases": "162"
                                },
                                {
                                    "country": "Latvia",
                                    "Accessed_From": "IOS App",
                                    "purchases": "177"
                                },
                                {
                                    "country": "Latvia",
                                    "Accessed_From": "Mozilla Firefox",
                                    "purchases": "238"
                                },
                                {
                                    "country": "Latvia",
                                    "Accessed_From": "Chrome",
                                    "purchases": "243"
                                },
                                {
                                    "country": "Latvia",
                                    "Accessed_From": "Safari",
                                    "purchases": "150"
                                },
                                {
                                    "country": "Latvia",
                                    "Accessed_From": "Android App",
                                    "purchases": "345"
                                },
                                {
                                    "country": "Latvia",
                                    "Accessed_From": "Others",
                                    "purchases": "223"
                                },
                                {
                                    "country": "Latvia",
                                    "Accessed_From": "Microsoft Edge",
                                    "purchases": "135"
                                },
                                {
                                    "country": "Lithuania",
                                    "Accessed_From": "Others",
                                    "purchases": "240"
                                },
                                {
                                    "country": "Lithuania",
                                    "Accessed_From": "Android App",
                                    "purchases": "345"
                                },
                                {
                                    "country": "Lithuania",
                                    "Accessed_From": "Microsoft Edge",
                                    "purchases": "135"
                                },
                                {
                                    "country": "Lithuania",
                                    "Accessed_From": "Mozilla Firefox",
                                    "purchases": "240"
                                },
                                {
                                    "country": "Lithuania",
                                    "Accessed_From": "Safari",
                                    "purchases": "150"
                                },
                                {
                                    "country": "Lithuania",
                                    "Accessed_From": "IOS App",
                                    "purchases": "195"
                                },
                                {
                                    "country": "Lithuania",
                                    "Accessed_From": "Chrome",
                                    "purchases": "267"
                                },
                                {
                                    "country": "Luxembourg",
                                    "Accessed_From": "Chrome",
                                    "purchases": "357"
                                },
                                {
                                    "country": "Luxembourg",
                                    "Accessed_From": "Android App",
                                    "purchases": "483"
                                },
                                {
                                    "country": "Luxembourg",
                                    "Accessed_From": "Mozilla Firefox",
                                    "purchases": "342"
                                },
                                {
                                    "country": "Luxembourg",
                                    "Accessed_From": "IOS App",
                                    "purchases": "294"
                                },
                                {
                                    "country": "Luxembourg",
                                    "Accessed_From": "Microsoft Edge",
                                    "purchases": "192"
                                },
                                {
                                    "country": "Luxembourg",
                                    "Accessed_From": "Safari",
                                    "purchases": "210"
                                },
                                {
                                    "country": "Luxembourg",
                                    "Accessed_From": "Others",
                                    "purchases": "354"
                                },
                                {
                                    "country": "Macau",
                                    "Accessed_From": "Android App",
                                    "purchases": "24"
                                },
                                {
                                    "country": "Macau",
                                    "Accessed_From": "Mozilla Firefox",
                                    "purchases": "12"
                                },
                                {
                                    "country": "Macau",
                                    "Accessed_From": "Microsoft Edge",
                                    "purchases": "15"
                                },
                                {
                                    "country": "Macau",
                                    "Accessed_From": "Others",
                                    "purchases": "9"
                                },
                                {
                                    "country": "Macau",
                                    "Accessed_From": "Safari",
                                    "purchases": "12"
                                },
                                {
                                    "country": "Maldives",
                                    "Accessed_From": "Microsoft Edge",
                                    "purchases": "60"
                                },
                                {
                                    "country": "Maldives",
                                    "Accessed_From": "IOS App",
                                    "purchases": "81"
                                },
                                {
                                    "country": "Maldives",
                                    "Accessed_From": "Mozilla Firefox",
                                    "purchases": "99"
                                },
                                {
                                    "country": "Maldives",
                                    "Accessed_From": "Chrome",
                                    "purchases": "105"
                                },
                                {
                                    "country": "Maldives",
                                    "Accessed_From": "Android App",
                                    "purchases": "180"
                                },
                                {
                                    "country": "Maldives",
                                    "Accessed_From": "Others",
                                    "purchases": "117"
                                },
                                {
                                    "country": "Maldives",
                                    "Accessed_From": "Safari",
                                    "purchases": "78"
                                },
                                {
                                    "country": "Malta",
                                    "Accessed_From": "Chrome",
                                    "purchases": "362"
                                },
                                {
                                    "country": "Malta",
                                    "Accessed_From": "Others",
                                    "purchases": "338"
                                },
                                {
                                    "country": "Malta",
                                    "Accessed_From": "IOS App",
                                    "purchases": "288"
                                },
                                {
                                    "country": "Malta",
                                    "Accessed_From": "Microsoft Edge",
                                    "purchases": "192"
                                },
                                {
                                    "country": "Malta",
                                    "Accessed_From": "Mozilla Firefox",
                                    "purchases": "361"
                                },
                                {
                                    "country": "Malta",
                                    "Accessed_From": "Android App",
                                    "purchases": "481"
                                },
                                {
                                    "country": "Malta",
                                    "Accessed_From": "Safari",
                                    "purchases": "210"
                                },
                                {
                                    "country": "Mauritius",
                                    "Accessed_From": "Mozilla Firefox",
                                    "purchases": "351"
                                },
                                {
                                    "country": "Mauritius",
                                    "Accessed_From": "Chrome",
                                    "purchases": "401"
                                },
                                {
                                    "country": "Mauritius",
                                    "Accessed_From": "Android App",
                                    "purchases": "486"
                                },
                                {
                                    "country": "Mauritius",
                                    "Accessed_From": "Safari",
                                    "purchases": "209"
                                },
                                {
                                    "country": "Mauritius",
                                    "Accessed_From": "Microsoft Edge",
                                    "purchases": "197"
                                },
                                {
                                    "country": "Mauritius",
                                    "Accessed_From": "Others",
                                    "purchases": "354"
                                },
                                {
                                    "country": "Mauritius",
                                    "Accessed_From": "IOS App",
                                    "purchases": "294"
                                },
                                {
                                    "country": "Mexico",
                                    "Accessed_From": "Chrome",
                                    "purchases": "357"
                                },
                                {
                                    "country": "Mexico",
                                    "Accessed_From": "Safari",
                                    "purchases": "222"
                                },
                                {
                                    "country": "Mexico",
                                    "Accessed_From": "IOS App",
                                    "purchases": "273"
                                },
                                {
                                    "country": "Mexico",
                                    "Accessed_From": "Microsoft Edge",
                                    "purchases": "198"
                                },
                                {
                                    "country": "Mexico",
                                    "Accessed_From": "Android App",
                                    "purchases": "503"
                                },
                                {
                                    "country": "Mexico",
                                    "Accessed_From": "Mozilla Firefox",
                                    "purchases": "342"
                                },
                                {
                                    "country": "Mexico",
                                    "Accessed_From": "Others",
                                    "purchases": "337"
                                },
                                {
                                    "country": "Mongolia",
                                    "Accessed_From": "Safari",
                                    "purchases": "3"
                                },
                                {
                                    "country": "Mongolia",
                                    "Accessed_From": "Others",
                                    "purchases": "27"
                                },
                                {
                                    "country": "Mongolia",
                                    "Accessed_From": "Android App",
                                    "purchases": "30"
                                },
                                {
                                    "country": "Montenegro",
                                    "Accessed_From": "Mozilla Firefox",
                                    "purchases": "123"
                                },
                                {
                                    "country": "Montenegro",
                                    "Accessed_From": "Safari",
                                    "purchases": "75"
                                },
                                {
                                    "country": "Montenegro",
                                    "Accessed_From": "Chrome",
                                    "purchases": "111"
                                },
                                {
                                    "country": "Montenegro",
                                    "Accessed_From": "IOS App",
                                    "purchases": "96"
                                },
                                {
                                    "country": "Montenegro",
                                    "Accessed_From": "Android App",
                                    "purchases": "155"
                                },
                                {
                                    "country": "Montenegro",
                                    "Accessed_From": "Others",
                                    "purchases": "96"
                                },
                                {
                                    "country": "Montenegro",
                                    "Accessed_From": "Microsoft Edge",
                                    "purchases": "64"
                                },
                                {
                                    "country": "Netherlands",
                                    "Accessed_From": "Chrome",
                                    "purchases": "399"
                                },
                                {
                                    "country": "Netherlands",
                                    "Accessed_From": "IOS App",
                                    "purchases": "294"
                                },
                                {
                                    "country": "Netherlands",
                                    "Accessed_From": "Microsoft Edge",
                                    "purchases": "198"
                                },
                                {
                                    "country": "Netherlands",
                                    "Accessed_From": "Safari",
                                    "purchases": "210"
                                },
                                {
                                    "country": "Netherlands",
                                    "Accessed_From": "Android App",
                                    "purchases": "486"
                                },
                                {
                                    "country": "Netherlands",
                                    "Accessed_From": "Others",
                                    "purchases": "354"
                                },
                                {
                                    "country": "Netherlands",
                                    "Accessed_From": "Mozilla Firefox",
                                    "purchases": "351"
                                },
                                {
                                    "country": "New Zealand",
                                    "Accessed_From": "Chrome",
                                    "purchases": "322"
                                },
                                {
                                    "country": "New Zealand",
                                    "Accessed_From": "Microsoft Edge",
                                    "purchases": "179"
                                },
                                {
                                    "country": "New Zealand",
                                    "Accessed_From": "Android App",
                                    "purchases": "483"
                                },
                                {
                                    "country": "New Zealand",
                                    "Accessed_From": "Others",
                                    "purchases": "318"
                                },
                                {
                                    "country": "New Zealand",
                                    "Accessed_From": "Mozilla Firefox",
                                    "purchases": "324"
                                },
                                {
                                    "country": "New Zealand",
                                    "Accessed_From": "Safari",
                                    "purchases": "210"
                                },
                                {
                                    "country": "New Zealand",
                                    "Accessed_From": "IOS App",
                                    "purchases": "252"
                                },
                                {
                                    "country": "Nicaragua",
                                    "Accessed_From": "Others",
                                    "purchases": "66"
                                },
                                {
                                    "country": "Nicaragua",
                                    "Accessed_From": "Chrome",
                                    "purchases": "87"
                                },
                                {
                                    "country": "Nicaragua",
                                    "Accessed_From": "IOS App",
                                    "purchases": "60"
                                },
                                {
                                    "country": "Nicaragua",
                                    "Accessed_From": "Mozilla Firefox",
                                    "purchases": "66"
                                },
                                {
                                    "country": "Nicaragua",
                                    "Accessed_From": "Microsoft Edge",
                                    "purchases": "45"
                                },
                                {
                                    "country": "Nicaragua",
                                    "Accessed_From": "Safari",
                                    "purchases": "33"
                                },
                                {
                                    "country": "Nicaragua",
                                    "Accessed_From": "Android App",
                                    "purchases": "75"
                                },
                                {
                                    "country": "Norway",
                                    "Accessed_From": "Chrome",
                                    "purchases": "359"
                                },
                                {
                                    "country": "Norway",
                                    "Accessed_From": "Safari",
                                    "purchases": "207"
                                },
                                {
                                    "country": "Norway",
                                    "Accessed_From": "Android App",
                                    "purchases": "476"
                                },
                                {
                                    "country": "Norway",
                                    "Accessed_From": "Microsoft Edge",
                                    "purchases": "180"
                                },
                                {
                                    "country": "Norway",
                                    "Accessed_From": "Others",
                                    "purchases": "335"
                                },
                                {
                                    "country": "Norway",
                                    "Accessed_From": "Mozilla Firefox",
                                    "purchases": "330"
                                },
                                {
                                    "country": "Norway",
                                    "Accessed_From": "IOS App",
                                    "purchases": "273"
                                },
                                {
                                    "country": "Oman",
                                    "Accessed_From": "Others",
                                    "purchases": "30"
                                },
                                {
                                    "country": "Oman",
                                    "Accessed_From": "Android App",
                                    "purchases": "69"
                                },
                                {
                                    "country": "Oman",
                                    "Accessed_From": "Safari",
                                    "purchases": "30"
                                },
                                {
                                    "country": "Oman",
                                    "Accessed_From": "IOS App",
                                    "purchases": "18"
                                },
                                {
                                    "country": "Oman",
                                    "Accessed_From": "Chrome",
                                    "purchases": "15"
                                },
                                {
                                    "country": "Oman",
                                    "Accessed_From": "Mozilla Firefox",
                                    "purchases": "36"
                                },
                                {
                                    "country": "Oman",
                                    "Accessed_From": "Microsoft Edge",
                                    "purchases": "18"
                                },
                                {
                                    "country": "Panama",
                                    "Accessed_From": "Safari",
                                    "purchases": "178"
                                },
                                {
                                    "country": "Panama",
                                    "Accessed_From": "Others",
                                    "purchases": "288"
                                },
                                {
                                    "country": "Panama",
                                    "Accessed_From": "Android App",
                                    "purchases": "412"
                                },
                                {
                                    "country": "Panama",
                                    "Accessed_From": "Mozilla Firefox",
                                    "purchases": "259"
                                },
                                {
                                    "country": "Panama",
                                    "Accessed_From": "Chrome",
                                    "purchases": "291"
                                },
                                {
                                    "country": "Panama",
                                    "Accessed_From": "IOS App",
                                    "purchases": "219"
                                },
                                {
                                    "country": "Panama",
                                    "Accessed_From": "Microsoft Edge",
                                    "purchases": "153"
                                },
                                {
                                    "country": "Paraguay",
                                    "Accessed_From": "Mozilla Firefox",
                                    "purchases": "318"
                                },
                                {
                                    "country": "Paraguay",
                                    "Accessed_From": "Microsoft Edge",
                                    "purchases": "171"
                                },
                                {
                                    "country": "Paraguay",
                                    "Accessed_From": "Android App",
                                    "purchases": "417"
                                },
                                {
                                    "country": "Paraguay",
                                    "Accessed_From": "Chrome",
                                    "purchases": "321"
                                },
                                {
                                    "country": "Paraguay",
                                    "Accessed_From": "Safari",
                                    "purchases": "180"
                                },
                                {
                                    "country": "Paraguay",
                                    "Accessed_From": "Others",
                                    "purchases": "288"
                                },
                                {
                                    "country": "Paraguay",
                                    "Accessed_From": "IOS App",
                                    "purchases": "249"
                                },
                                {
                                    "country": "Philippines",
                                    "Accessed_From": "Chrome",
                                    "purchases": "189"
                                },
                                {
                                    "country": "Philippines",
                                    "Accessed_From": "Others",
                                    "purchases": "166"
                                },
                                {
                                    "country": "Philippines",
                                    "Accessed_From": "Microsoft Edge",
                                    "purchases": "99"
                                },
                                {
                                    "country": "Philippines",
                                    "Accessed_From": "IOS App",
                                    "purchases": "138"
                                },
                                {
                                    "country": "Philippines",
                                    "Accessed_From": "Mozilla Firefox",
                                    "purchases": "161"
                                },
                                {
                                    "country": "Philippines",
                                    "Accessed_From": "Safari",
                                    "purchases": "102"
                                },
                                {
                                    "country": "Philippines",
                                    "Accessed_From": "Android App",
                                    "purchases": "224"
                                },
                                {
                                    "country": "Poland",
                                    "Accessed_From": "Others",
                                    "purchases": "267"
                                },
                                {
                                    "country": "Poland",
                                    "Accessed_From": "Microsoft Edge",
                                    "purchases": "144"
                                },
                                {
                                    "country": "Poland",
                                    "Accessed_From": "Android App",
                                    "purchases": "396"
                                },
                                {
                                    "country": "Poland",
                                    "Accessed_From": "Chrome",
                                    "purchases": "270"
                                },
                                {
                                    "country": "Poland",
                                    "Accessed_From": "Mozilla Firefox",
                                    "purchases": "270"
                                },
                                {
                                    "country": "Poland",
                                    "Accessed_From": "Safari",
                                    "purchases": "168"
                                },
                                {
                                    "country": "Poland",
                                    "Accessed_From": "IOS App",
                                    "purchases": "213"
                                },
                                {
                                    "country": "Portugal",
                                    "Accessed_From": "Safari",
                                    "purchases": "179"
                                },
                                {
                                    "country": "Portugal",
                                    "Accessed_From": "Microsoft Edge",
                                    "purchases": "162"
                                },
                                {
                                    "country": "Portugal",
                                    "Accessed_From": "Android App",
                                    "purchases": "414"
                                },
                                {
                                    "country": "Portugal",
                                    "Accessed_From": "IOS App",
                                    "purchases": "251"
                                },
                                {
                                    "country": "Portugal",
                                    "Accessed_From": "Chrome",
                                    "purchases": "342"
                                },
                                {
                                    "country": "Portugal",
                                    "Accessed_From": "Mozilla Firefox",
                                    "purchases": "289"
                                },
                                {
                                    "country": "Portugal",
                                    "Accessed_From": "Others",
                                    "purchases": "307"
                                },
                                {
                                    "country": "Puerto Rico",
                                    "Accessed_From": "Others",
                                    "purchases": "336"
                                },
                                {
                                    "country": "Puerto Rico",
                                    "Accessed_From": "Safari",
                                    "purchases": "214"
                                },
                                {
                                    "country": "Puerto Rico",
                                    "Accessed_From": "IOS App",
                                    "purchases": "276"
                                },
                                {
                                    "country": "Puerto Rico",
                                    "Accessed_From": "Chrome",
                                    "purchases": "357"
                                },
                                {
                                    "country": "Puerto Rico",
                                    "Accessed_From": "Mozilla Firefox",
                                    "purchases": "354"
                                },
                                {
                                    "country": "Puerto Rico",
                                    "Accessed_From": "Android App",
                                    "purchases": "488"
                                },
                                {
                                    "country": "Puerto Rico",
                                    "Accessed_From": "Microsoft Edge",
                                    "purchases": "207"
                                },
                                {
                                    "country": "Qatar",
                                    "Accessed_From": "Others",
                                    "purchases": "174"
                                },
                                {
                                    "country": "Qatar",
                                    "Accessed_From": "Android App",
                                    "purchases": "267"
                                },
                                {
                                    "country": "Qatar",
                                    "Accessed_From": "Safari",
                                    "purchases": "117"
                                },
                                {
                                    "country": "Qatar",
                                    "Accessed_From": "Mozilla Firefox",
                                    "purchases": "147"
                                },
                                {
                                    "country": "Qatar",
                                    "Accessed_From": "Microsoft Edge",
                                    "purchases": "87"
                                },
                                {
                                    "country": "Qatar",
                                    "Accessed_From": "Chrome",
                                    "purchases": "156"
                                },
                                {
                                    "country": "Qatar",
                                    "Accessed_From": "IOS App",
                                    "purchases": "120"
                                },
                                {
                                    "country": "Republic of Korea",
                                    "Accessed_From": "Android App",
                                    "purchases": "483"
                                },
                                {
                                    "country": "Republic of Korea",
                                    "Accessed_From": "Chrome",
                                    "purchases": "363"
                                },
                                {
                                    "country": "Republic of Korea",
                                    "Accessed_From": "Others",
                                    "purchases": "337"
                                },
                                {
                                    "country": "Republic of Korea",
                                    "Accessed_From": "Safari",
                                    "purchases": "209"
                                },
                                {
                                    "country": "Republic of Korea",
                                    "Accessed_From": "Microsoft Edge",
                                    "purchases": "192"
                                },
                                {
                                    "country": "Republic of Korea",
                                    "Accessed_From": "Mozilla Firefox",
                                    "purchases": "360"
                                },
                                {
                                    "country": "Republic of Korea",
                                    "Accessed_From": "IOS App",
                                    "purchases": "288"
                                },
                                {
                                    "country": "Romania",
                                    "Accessed_From": "Safari",
                                    "purchases": "183"
                                },
                                {
                                    "country": "Romania",
                                    "Accessed_From": "Microsoft Edge",
                                    "purchases": "180"
                                },
                                {
                                    "country": "Romania",
                                    "Accessed_From": "Chrome",
                                    "purchases": "349"
                                },
                                {
                                    "country": "Romania",
                                    "Accessed_From": "Android App",
                                    "purchases": "422"
                                },
                                {
                                    "country": "Romania",
                                    "Accessed_From": "Others",
                                    "purchases": "306"
                                },
                                {
                                    "country": "Romania",
                                    "Accessed_From": "Mozilla Firefox",
                                    "purchases": "309"
                                },
                                {
                                    "country": "Romania",
                                    "Accessed_From": "IOS App",
                                    "purchases": "255"
                                },
                                {
                                    "country": "Russia",
                                    "Accessed_From": "Chrome",
                                    "purchases": "308"
                                },
                                {
                                    "country": "Russia",
                                    "Accessed_From": "Microsoft Edge",
                                    "purchases": "162"
                                },
                                {
                                    "country": "Russia",
                                    "Accessed_From": "Safari",
                                    "purchases": "189"
                                },
                                {
                                    "country": "Russia",
                                    "Accessed_From": "Mozilla Firefox",
                                    "purchases": "290"
                                },
                                {
                                    "country": "Russia",
                                    "Accessed_From": "Others",
                                    "purchases": "316"
                                },
                                {
                                    "country": "Russia",
                                    "Accessed_From": "IOS App",
                                    "purchases": "235"
                                },
                                {
                                    "country": "Russia",
                                    "Accessed_From": "Android App",
                                    "purchases": "452"
                                },
                                {
                                    "country": "Saint Kitts and Nevis",
                                    "Accessed_From": "Others",
                                    "purchases": "21"
                                },
                                {
                                    "country": "Saint Kitts and Nevis",
                                    "Accessed_From": "Microsoft Edge",
                                    "purchases": "18"
                                },
                                {
                                    "country": "Saint Kitts and Nevis",
                                    "Accessed_From": "Safari",
                                    "purchases": "18"
                                },
                                {
                                    "country": "Saint Kitts and Nevis",
                                    "Accessed_From": "Android App",
                                    "purchases": "27"
                                },
                                {
                                    "country": "Saint Kitts and Nevis",
                                    "Accessed_From": "Mozilla Firefox",
                                    "purchases": "42"
                                },
                                {
                                    "country": "Saint Kitts and Nevis",
                                    "Accessed_From": "Chrome",
                                    "purchases": "51"
                                },
                                {
                                    "country": "Saint Kitts and Nevis",
                                    "Accessed_From": "IOS App",
                                    "purchases": "39"
                                },
                                {
                                    "country": "Saint Lucia",
                                    "Accessed_From": "Microsoft Edge",
                                    "purchases": "171"
                                },
                                {
                                    "country": "Saint Lucia",
                                    "Accessed_From": "Mozilla Firefox",
                                    "purchases": "294"
                                },
                                {
                                    "country": "Saint Lucia",
                                    "Accessed_From": "Others",
                                    "purchases": "318"
                                },
                                {
                                    "country": "Saint Lucia",
                                    "Accessed_From": "Chrome",
                                    "purchases": "306"
                                },
                                {
                                    "country": "Saint Lucia",
                                    "Accessed_From": "Android App",
                                    "purchases": "480"
                                },
                                {
                                    "country": "Saint Lucia",
                                    "Accessed_From": "IOS App",
                                    "purchases": "237"
                                },
                                {
                                    "country": "Saint Lucia",
                                    "Accessed_From": "Safari",
                                    "purchases": "210"
                                },
                                {
                                    "country": "Saint Vincent and Grenadines",
                                    "Accessed_From": "Safari",
                                    "purchases": "162"
                                },
                                {
                                    "country": "Saint Vincent and Grenadines",
                                    "Accessed_From": "Chrome",
                                    "purchases": "306"
                                },
                                {
                                    "country": "Saint Vincent and Grenadines",
                                    "Accessed_From": "Android App",
                                    "purchases": "378"
                                },
                                {
                                    "country": "Saint Vincent and Grenadines",
                                    "Accessed_From": "Mozilla Firefox",
                                    "purchases": "288"
                                },
                                {
                                    "country": "Saint Vincent and Grenadines",
                                    "Accessed_From": "IOS App",
                                    "purchases": "231"
                                },
                                {
                                    "country": "Saint Vincent and Grenadines",
                                    "Accessed_From": "Microsoft Edge",
                                    "purchases": "162"
                                },
                                {
                                    "country": "Saint Vincent and Grenadines",
                                    "Accessed_From": "Others",
                                    "purchases": "273"
                                },
                                {
                                    "country": "San Marino",
                                    "Accessed_From": "Chrome",
                                    "purchases": "51"
                                },
                                {
                                    "country": "San Marino",
                                    "Accessed_From": "IOS App",
                                    "purchases": "36"
                                },
                                {
                                    "country": "San Marino",
                                    "Accessed_From": "Mozilla Firefox",
                                    "purchases": "30"
                                },
                                {
                                    "country": "San Marino",
                                    "Accessed_From": "Microsoft Edge",
                                    "purchases": "9"
                                },
                                {
                                    "country": "San Marino",
                                    "Accessed_From": "Safari",
                                    "purchases": "18"
                                },
                                {
                                    "country": "San Marino",
                                    "Accessed_From": "Others",
                                    "purchases": "33"
                                },
                                {
                                    "country": "San Marino",
                                    "Accessed_From": "Android App",
                                    "purchases": "39"
                                },
                                {
                                    "country": "Serbia",
                                    "Accessed_From": "IOS App",
                                    "purchases": "160"
                                },
                                {
                                    "country": "Serbia",
                                    "Accessed_From": "Chrome",
                                    "purchases": "204"
                                },
                                {
                                    "country": "Serbia",
                                    "Accessed_From": "Android App",
                                    "purchases": "281"
                                },
                                {
                                    "country": "Serbia",
                                    "Accessed_From": "Microsoft Edge",
                                    "purchases": "126"
                                },
                                {
                                    "country": "Serbia",
                                    "Accessed_From": "Others",
                                    "purchases": "192"
                                },
                                {
                                    "country": "Serbia",
                                    "Accessed_From": "Mozilla Firefox",
                                    "purchases": "210"
                                },
                                {
                                    "country": "Serbia",
                                    "Accessed_From": "Safari",
                                    "purchases": "123"
                                },
                                {
                                    "country": "Seychelles",
                                    "Accessed_From": "Android App",
                                    "purchases": "300"
                                },
                                {
                                    "country": "Seychelles",
                                    "Accessed_From": "Others",
                                    "purchases": "207"
                                },
                                {
                                    "country": "Seychelles",
                                    "Accessed_From": "Mozilla Firefox",
                                    "purchases": "192"
                                },
                                {
                                    "country": "Seychelles",
                                    "Accessed_From": "Safari",
                                    "purchases": "129"
                                },
                                {
                                    "country": "Seychelles",
                                    "Accessed_From": "Microsoft Edge",
                                    "purchases": "108"
                                },
                                {
                                    "country": "Seychelles",
                                    "Accessed_From": "IOS App",
                                    "purchases": "156"
                                },
                                {
                                    "country": "Seychelles",
                                    "Accessed_From": "Chrome",
                                    "purchases": "204"
                                },
                                {
                                    "country": "Singapore",
                                    "Accessed_From": "Android App",
                                    "purchases": "507"
                                },
                                {
                                    "country": "Singapore",
                                    "Accessed_From": "IOS App",
                                    "purchases": "274"
                                },
                                {
                                    "country": "Singapore",
                                    "Accessed_From": "Mozilla Firefox",
                                    "purchases": "336"
                                },
                                {
                                    "country": "Singapore",
                                    "Accessed_From": "Chrome",
                                    "purchases": "356"
                                },
                                {
                                    "country": "Singapore",
                                    "Accessed_From": "Microsoft Edge",
                                    "purchases": "189"
                                },
                                {
                                    "country": "Singapore",
                                    "Accessed_From": "Safari",
                                    "purchases": "219"
                                },
                                {
                                    "country": "Singapore",
                                    "Accessed_From": "Others",
                                    "purchases": "351"
                                },
                                {
                                    "country": "Slovakia",
                                    "Accessed_From": "Android App",
                                    "purchases": "358"
                                },
                                {
                                    "country": "Slovakia",
                                    "Accessed_From": "Mozilla Firefox",
                                    "purchases": "240"
                                },
                                {
                                    "country": "Slovakia",
                                    "Accessed_From": "Microsoft Edge",
                                    "purchases": "135"
                                },
                                {
                                    "country": "Slovakia",
                                    "Accessed_From": "Chrome",
                                    "purchases": "254"
                                },
                                {
                                    "country": "Slovakia",
                                    "Accessed_From": "IOS App",
                                    "purchases": "198"
                                },
                                {
                                    "country": "Slovakia",
                                    "Accessed_From": "Others",
                                    "purchases": "240"
                                },
                                {
                                    "country": "Slovakia",
                                    "Accessed_From": "Safari",
                                    "purchases": "159"
                                },
                                {
                                    "country": "Slovenia",
                                    "Accessed_From": "Mozilla Firefox",
                                    "purchases": "240"
                                },
                                {
                                    "country": "Slovenia",
                                    "Accessed_From": "Others",
                                    "purchases": "238"
                                },
                                {
                                    "country": "Slovenia",
                                    "Accessed_From": "Microsoft Edge",
                                    "purchases": "135"
                                },
                                {
                                    "country": "Slovenia",
                                    "Accessed_From": "Chrome",
                                    "purchases": "254"
                                },
                                {
                                    "country": "Slovenia",
                                    "Accessed_From": "IOS App",
                                    "purchases": "191"
                                },
                                {
                                    "country": "Slovenia",
                                    "Accessed_From": "Safari",
                                    "purchases": "132"
                                },
                                {
                                    "country": "Slovenia",
                                    "Accessed_From": "Android App",
                                    "purchases": "321"
                                },
                                {
                                    "country": "South Africa",
                                    "Accessed_From": "Others",
                                    "purchases": "214"
                                },
                                {
                                    "country": "South Africa",
                                    "Accessed_From": "Microsoft Edge",
                                    "purchases": "117"
                                },
                                {
                                    "country": "South Africa",
                                    "Accessed_From": "Safari",
                                    "purchases": "138"
                                },
                                {
                                    "country": "South Africa",
                                    "Accessed_From": "Mozilla Firefox",
                                    "purchases": "221"
                                },
                                {
                                    "country": "South Africa",
                                    "Accessed_From": "Chrome",
                                    "purchases": "255"
                                },
                                {
                                    "country": "South Africa",
                                    "Accessed_From": "Android App",
                                    "purchases": "303"
                                },
                                {
                                    "country": "South Africa",
                                    "Accessed_From": "IOS App",
                                    "purchases": "192"
                                },
                                {
                                    "country": "Spain",
                                    "Accessed_From": "Chrome",
                                    "purchases": "357"
                                },
                                {
                                    "country": "Spain",
                                    "Accessed_From": "Mozilla Firefox",
                                    "purchases": "354"
                                },
                                {
                                    "country": "Spain",
                                    "Accessed_From": "Others",
                                    "purchases": "336"
                                },
                                {
                                    "country": "Spain",
                                    "Accessed_From": "Safari",
                                    "purchases": "213"
                                },
                                {
                                    "country": "Spain",
                                    "Accessed_From": "IOS App",
                                    "purchases": "275"
                                },
                                {
                                    "country": "Spain",
                                    "Accessed_From": "Android App",
                                    "purchases": "490"
                                },
                                {
                                    "country": "Spain",
                                    "Accessed_From": "Microsoft Edge",
                                    "purchases": "207"
                                },
                                {
                                    "country": "Sri Lanka",
                                    "Accessed_From": "Android App",
                                    "purchases": "198"
                                },
                                {
                                    "country": "Sri Lanka",
                                    "Accessed_From": "Chrome",
                                    "purchases": "105"
                                },
                                {
                                    "country": "Sri Lanka",
                                    "Accessed_From": "IOS App",
                                    "purchases": "96"
                                },
                                {
                                    "country": "Sri Lanka",
                                    "Accessed_From": "Mozilla Firefox",
                                    "purchases": "117"
                                },
                                {
                                    "country": "Sri Lanka",
                                    "Accessed_From": "Safari",
                                    "purchases": "87"
                                },
                                {
                                    "country": "Sri Lanka",
                                    "Accessed_From": "Microsoft Edge",
                                    "purchases": "63"
                                },
                                {
                                    "country": "Sri Lanka",
                                    "Accessed_From": "Others",
                                    "purchases": "126"
                                },
                                {
                                    "country": "Suriname",
                                    "Accessed_From": "Safari",
                                    "purchases": "183"
                                },
                                {
                                    "country": "Suriname",
                                    "Accessed_From": "Mozilla Firefox",
                                    "purchases": "315"
                                },
                                {
                                    "country": "Suriname",
                                    "Accessed_From": "Chrome",
                                    "purchases": "354"
                                },
                                {
                                    "country": "Suriname",
                                    "Accessed_From": "Android App",
                                    "purchases": "423"
                                },
                                {
                                    "country": "Suriname",
                                    "Accessed_From": "IOS App",
                                    "purchases": "255"
                                },
                                {
                                    "country": "Suriname",
                                    "Accessed_From": "Others",
                                    "purchases": "306"
                                },
                                {
                                    "country": "Suriname",
                                    "Accessed_From": "Microsoft Edge",
                                    "purchases": "180"
                                },
                                {
                                    "country": "Sweden",
                                    "Accessed_From": "Safari",
                                    "purchases": "206"
                                },
                                {
                                    "country": "Sweden",
                                    "Accessed_From": "Chrome",
                                    "purchases": "357"
                                },
                                {
                                    "country": "Sweden",
                                    "Accessed_From": "Others",
                                    "purchases": "336"
                                },
                                {
                                    "country": "Sweden",
                                    "Accessed_From": "Mozilla Firefox",
                                    "purchases": "324"
                                },
                                {
                                    "country": "Sweden",
                                    "Accessed_From": "IOS App",
                                    "purchases": "273"
                                },
                                {
                                    "country": "Sweden",
                                    "Accessed_From": "Android App",
                                    "purchases": "478"
                                },
                                {
                                    "country": "Sweden",
                                    "Accessed_From": "Microsoft Edge",
                                    "purchases": "174"
                                },
                                {
                                    "country": "Switzerland",
                                    "Accessed_From": "Android App",
                                    "purchases": "344"
                                },
                                {
                                    "country": "Switzerland",
                                    "Accessed_From": "IOS App",
                                    "purchases": "174"
                                },
                                {
                                    "country": "Switzerland",
                                    "Accessed_From": "Chrome",
                                    "purchases": "255"
                                },
                                {
                                    "country": "Switzerland",
                                    "Accessed_From": "Safari",
                                    "purchases": "150"
                                },
                                {
                                    "country": "Switzerland",
                                    "Accessed_From": "Microsoft Edge",
                                    "purchases": "132"
                                },
                                {
                                    "country": "Switzerland",
                                    "Accessed_From": "Mozilla Firefox",
                                    "purchases": "235"
                                },
                                {
                                    "country": "Switzerland",
                                    "Accessed_From": "Others",
                                    "purchases": "222"
                                },
                                {
                                    "country": "Thailand",
                                    "Accessed_From": "Safari",
                                    "purchases": "192"
                                },
                                {
                                    "country": "Thailand",
                                    "Accessed_From": "Chrome",
                                    "purchases": "307"
                                },
                                {
                                    "country": "Thailand",
                                    "Accessed_From": "Mozilla Firefox",
                                    "purchases": "305"
                                },
                                {
                                    "country": "Thailand",
                                    "Accessed_From": "Android App",
                                    "purchases": "444"
                                },
                                {
                                    "country": "Thailand",
                                    "Accessed_From": "IOS App",
                                    "purchases": "255"
                                },
                                {
                                    "country": "Thailand",
                                    "Accessed_From": "Microsoft Edge",
                                    "purchases": "180"
                                },
                                {
                                    "country": "Thailand",
                                    "Accessed_From": "Others",
                                    "purchases": "321"
                                },
                                {
                                    "country": "Trinidad and Tobago",
                                    "Accessed_From": "Android App",
                                    "purchases": "450"
                                },
                                {
                                    "country": "Trinidad and Tobago",
                                    "Accessed_From": "Others",
                                    "purchases": "303"
                                },
                                {
                                    "country": "Trinidad and Tobago",
                                    "Accessed_From": "Chrome",
                                    "purchases": "306"
                                },
                                {
                                    "country": "Trinidad and Tobago",
                                    "Accessed_From": "Mozilla Firefox",
                                    "purchases": "288"
                                },
                                {
                                    "country": "Trinidad and Tobago",
                                    "Accessed_From": "IOS App",
                                    "purchases": "237"
                                },
                                {
                                    "country": "Trinidad and Tobago",
                                    "Accessed_From": "Microsoft Edge",
                                    "purchases": "162"
                                },
                                {
                                    "country": "Trinidad and Tobago",
                                    "Accessed_From": "Safari",
                                    "purchases": "198"
                                },
                                {
                                    "country": "Turkey",
                                    "Accessed_From": "Chrome",
                                    "purchases": "102"
                                },
                                {
                                    "country": "Turkey",
                                    "Accessed_From": "Android App",
                                    "purchases": "78"
                                },
                                {
                                    "country": "Turkey",
                                    "Accessed_From": "IOS App",
                                    "purchases": "75"
                                },
                                {
                                    "country": "Turkey",
                                    "Accessed_From": "Others",
                                    "purchases": "66"
                                },
                                {
                                    "country": "Turkey",
                                    "Accessed_From": "Mozilla Firefox",
                                    "purchases": "96"
                                },
                                {
                                    "country": "Turkey",
                                    "Accessed_From": "Microsoft Edge",
                                    "purchases": "54"
                                },
                                {
                                    "country": "Turkey",
                                    "Accessed_From": "Safari",
                                    "purchases": "33"
                                },
                                {
                                    "country": "Turkmenistan",
                                    "Accessed_From": "Microsoft Edge",
                                    "purchases": "171"
                                },
                                {
                                    "country": "Turkmenistan",
                                    "Accessed_From": "Android App",
                                    "purchases": "479"
                                },
                                {
                                    "country": "Turkmenistan",
                                    "Accessed_From": "Safari",
                                    "purchases": "207"
                                },
                                {
                                    "country": "Turkmenistan",
                                    "Accessed_From": "IOS App",
                                    "purchases": "252"
                                },
                                {
                                    "country": "Turkmenistan",
                                    "Accessed_From": "Others",
                                    "purchases": "316"
                                },
                                {
                                    "country": "Turkmenistan",
                                    "Accessed_From": "Chrome",
                                    "purchases": "345"
                                },
                                {
                                    "country": "Turkmenistan",
                                    "Accessed_From": "Mozilla Firefox",
                                    "purchases": "318"
                                },
                                {
                                    "country": "Ukraine",
                                    "Accessed_From": "Mozilla Firefox",
                                    "purchases": "305"
                                },
                                {
                                    "country": "Ukraine",
                                    "Accessed_From": "Microsoft Edge",
                                    "purchases": "180"
                                },
                                {
                                    "country": "Ukraine",
                                    "Accessed_From": "Others",
                                    "purchases": "321"
                                },
                                {
                                    "country": "Ukraine",
                                    "Accessed_From": "Android App",
                                    "purchases": "444"
                                },
                                {
                                    "country": "Ukraine",
                                    "Accessed_From": "Safari",
                                    "purchases": "192"
                                },
                                {
                                    "country": "Ukraine",
                                    "Accessed_From": "IOS App",
                                    "purchases": "255"
                                },
                                {
                                    "country": "Ukraine",
                                    "Accessed_From": "Chrome",
                                    "purchases": "319"
                                },
                                {
                                    "country": "United Arab Emirates",
                                    "Accessed_From": "Others",
                                    "purchases": "63"
                                },
                                {
                                    "country": "United Arab Emirates",
                                    "Accessed_From": "Mozilla Firefox",
                                    "purchases": "69"
                                },
                                {
                                    "country": "United Arab Emirates",
                                    "Accessed_From": "IOS App",
                                    "purchases": "57"
                                },
                                {
                                    "country": "United Arab Emirates",
                                    "Accessed_From": "Microsoft Edge",
                                    "purchases": "36"
                                },
                                {
                                    "country": "United Arab Emirates",
                                    "Accessed_From": "Chrome",
                                    "purchases": "54"
                                },
                                {
                                    "country": "United Arab Emirates",
                                    "Accessed_From": "Safari",
                                    "purchases": "48"
                                },
                                {
                                    "country": "United Arab Emirates",
                                    "Accessed_From": "Android App",
                                    "purchases": "105"
                                },
                                {
                                    "country": "United Kingdom",
                                    "Accessed_From": "Others",
                                    "purchases": "336"
                                },
                                {
                                    "country": "United Kingdom",
                                    "Accessed_From": "IOS App",
                                    "purchases": "273"
                                },
                                {
                                    "country": "United Kingdom",
                                    "Accessed_From": "Chrome",
                                    "purchases": "393"
                                },
                                {
                                    "country": "United Kingdom",
                                    "Accessed_From": "Microsoft Edge",
                                    "purchases": "189"
                                },
                                {
                                    "country": "United Kingdom",
                                    "Accessed_From": "Android App",
                                    "purchases": "486"
                                },
                                {
                                    "country": "United Kingdom",
                                    "Accessed_From": "Mozilla Firefox",
                                    "purchases": "345"
                                },
                                {
                                    "country": "United Kingdom",
                                    "Accessed_From": "Safari",
                                    "purchases": "210"
                                },
                                {
                                    "country": "United States",
                                    "Accessed_From": "Chrome",
                                    "purchases": "369"
                                },
                                {
                                    "country": "United States",
                                    "Accessed_From": "Mozilla Firefox",
                                    "purchases": "336"
                                },
                                {
                                    "country": "United States",
                                    "Accessed_From": "Safari",
                                    "purchases": "210"
                                },
                                {
                                    "country": "United States",
                                    "Accessed_From": "Android App",
                                    "purchases": "483"
                                },
                                {
                                    "country": "United States",
                                    "Accessed_From": "Others",
                                    "purchases": "354"
                                },
                                {
                                    "country": "United States",
                                    "Accessed_From": "Microsoft Edge",
                                    "purchases": "189"
                                },
                                {
                                    "country": "United States",
                                    "Accessed_From": "IOS App",
                                    "purchases": "290"
                                },
                                {
                                    "country": "Uruguay",
                                    "Accessed_From": "Microsoft Edge",
                                    "purchases": "180"
                                },
                                {
                                    "country": "Uruguay",
                                    "Accessed_From": "Others",
                                    "purchases": "318"
                                },
                                {
                                    "country": "Uruguay",
                                    "Accessed_From": "Mozilla Firefox",
                                    "purchases": "306"
                                },
                                {
                                    "country": "Uruguay",
                                    "Accessed_From": "Safari",
                                    "purchases": "201"
                                },
                                {
                                    "country": "Uruguay",
                                    "Accessed_From": "IOS App",
                                    "purchases": "237"
                                },
                                {
                                    "country": "Uruguay",
                                    "Accessed_From": "Chrome",
                                    "purchases": "306"
                                },
                                {
                                    "country": "Uruguay",
                                    "Accessed_From": "Android App",
                                    "purchases": "468"
                                },
                                {
                                    "country": "Uzbekistan",
                                    "Accessed_From": "Safari",
                                    "purchases": "159"
                                },
                                {
                                    "country": "Uzbekistan",
                                    "Accessed_From": "Mozilla Firefox",
                                    "purchases": "240"
                                },
                                {
                                    "country": "Uzbekistan",
                                    "Accessed_From": "Android App",
                                    "purchases": "357"
                                },
                                {
                                    "country": "Uzbekistan",
                                    "Accessed_From": "Chrome",
                                    "purchases": "255"
                                },
                                {
                                    "country": "Uzbekistan",
                                    "Accessed_From": "Others",
                                    "purchases": "240"
                                },
                                {
                                    "country": "Uzbekistan",
                                    "Accessed_From": "Microsoft Edge",
                                    "purchases": "135"
                                },
                                {
                                    "country": "Uzbekistan",
                                    "Accessed_From": "IOS App",
                                    "purchases": "198"
                                }
                            ]
                        },
                        "text/html": [
                            "<table>",
                            "<tr><th>country</th><th>Accessed_From</th><th>purchases</th></tr>",
                            "<tr><td>Albania</td><td>Microsoft Edge</td><td>171</td></tr>",
                            "<tr><td>Albania</td><td>Android App</td><td>392</td></tr>",
                            "<tr><td>Albania</td><td>Chrome</td><td>299</td></tr>",
                            "<tr><td>Albania</td><td>Safari</td><td>180</td></tr>",
                            "<tr><td>Albania</td><td>IOS App</td><td>233</td></tr>",
                            "<tr><td>Albania</td><td>Others</td><td>281</td></tr>",
                            "<tr><td>Albania</td><td>Mozilla Firefox</td><td>292</td></tr>",
                            "<tr><td>Antigua and Barbuda</td><td>IOS App</td><td>289</td></tr>",
                            "<tr><td>Antigua and Barbuda</td><td>Microsoft Edge</td><td>189</td></tr>",
                            "<tr><td>Antigua and Barbuda</td><td>Others</td><td>336</td></tr>",
                            "<tr><td>Antigua and Barbuda</td><td>Chrome</td><td>401</td></tr>",
                            "<tr><td>Antigua and Barbuda</td><td>Safari</td><td>210</td></tr>",
                            "<tr><td>Antigua and Barbuda</td><td>Android App</td><td>486</td></tr>",
                            "<tr><td>Antigua and Barbuda</td><td>Mozilla Firefox</td><td>357</td></tr>",
                            "<tr><td>Argentina</td><td>Android App</td><td>575</td></tr>",
                            "<tr><td>Argentina</td><td>IOS App</td><td>336</td></tr>",
                            "<tr><td>Argentina</td><td>Chrome</td><td>429</td></tr>",
                            "<tr><td>Argentina</td><td>Others</td><td>407</td></tr>",
                            "<tr><td>Argentina</td><td>Safari</td><td>240</td></tr>",
                            "<tr><td>Argentina</td><td>Microsoft Edge</td><td>216</td></tr>",
                            "<tr><td>Argentina</td><td>Mozilla Firefox</td><td>400</td></tr>",
                            "<tr><td>Armenia</td><td>Others</td><td>314</td></tr>",
                            "<tr><td>Armenia</td><td>Safari</td><td>210</td></tr>",
                            "<tr><td>Armenia</td><td>Microsoft Edge</td><td>189</td></tr>",
                            "<tr><td>Armenia</td><td>Mozilla Firefox</td><td>332</td></tr>",
                            "<tr><td>Armenia</td><td>IOS App</td><td>250</td></tr>",
                            "<tr><td>Armenia</td><td>Chrome</td><td>304</td></tr>",
                            "<tr><td>Armenia</td><td>Android App</td><td>487</td></tr>",
                            "<tr><td>Aruba</td><td>Chrome</td><td>228</td></tr>",
                            "<tr><td>Aruba</td><td>IOS App</td><td>155</td></tr>",
                            "<tr><td>Aruba</td><td>Microsoft Edge</td><td>99</td></tr>",
                            "<tr><td>Aruba</td><td>Android App</td><td>234</td></tr>",
                            "<tr><td>Aruba</td><td>Safari</td><td>110</td></tr>",
                            "<tr><td>Aruba</td><td>Mozilla Firefox</td><td>164</td></tr>",
                            "<tr><td>Aruba</td><td>Others</td><td>186</td></tr>",
                            "<tr><td>Australia</td><td>IOS App</td><td>300</td></tr>",
                            "<tr><td>Australia</td><td>Safari</td><td>240</td></tr>",
                            "<tr><td>Australia</td><td>Android App</td><td>575</td></tr>",
                            "<tr><td>Australia</td><td>Mozilla Firefox</td><td>400</td></tr>",
                            "<tr><td>Australia</td><td>Chrome</td><td>415</td></tr>",
                            "<tr><td>Australia</td><td>Microsoft Edge</td><td>216</td></tr>",
                            "<tr><td>Australia</td><td>Others</td><td>374</td></tr>",
                            "<tr><td>Austria</td><td>Chrome</td><td>418</td></tr>",
                            "<tr><td>Austria</td><td>Mozilla Firefox</td><td>408</td></tr>",
                            "<tr><td>Austria</td><td>Android App</td><td>576</td></tr>",
                            "<tr><td>Austria</td><td>IOS App</td><td>346</td></tr>",
                            "<tr><td>Austria</td><td>Safari</td><td>262</td></tr>",
                            "<tr><td>Austria</td><td>Microsoft Edge</td><td>243</td></tr>",
                            "<tr><td>Austria</td><td>Others</td><td>421</td></tr>",
                            "<tr><td>Azerbaijan</td><td>Chrome</td><td>238</td></tr>",
                            "<tr><td>Azerbaijan</td><td>Safari</td><td>128</td></tr>",
                            "<tr><td>Azerbaijan</td><td>IOS App</td><td>167</td></tr>",
                            "<tr><td>Azerbaijan</td><td>Others</td><td>205</td></tr>",
                            "<tr><td>Azerbaijan</td><td>Microsoft Edge</td><td>108</td></tr>",
                            "<tr><td>Azerbaijan</td><td>Android App</td><td>298</td></tr>",
                            "<tr><td>Azerbaijan</td><td>Mozilla Firefox</td><td>200</td></tr>",
                            "<tr><td>Bahamas</td><td>Microsoft Edge</td><td>177</td></tr>",
                            "<tr><td>Bahamas</td><td>Android App</td><td>432</td></tr>",
                            "<tr><td>Bahamas</td><td>Mozilla Firefox</td><td>306</td></tr>",
                            "<tr><td>Bahamas</td><td>Chrome</td><td>296</td></tr>",
                            "<tr><td>Bahamas</td><td>IOS App</td><td>243</td></tr>",
                            "<tr><td>Bahamas</td><td>Others</td><td>292</td></tr>",
                            "<tr><td>Bahamas</td><td>Safari</td><td>186</td></tr>",
                            "<tr><td>Bahrain</td><td>Android App</td><td>373</td></tr>",
                            "<tr><td>Bahrain</td><td>Mozilla Firefox</td><td>270</td></tr>",
                            "<tr><td>Bahrain</td><td>Others</td><td>284</td></tr>",
                            "<tr><td>Bahrain</td><td>Microsoft Edge</td><td>147</td></tr>",
                            "<tr><td>Bahrain</td><td>Safari</td><td>164</td></tr>",
                            "<tr><td>Bahrain</td><td>IOS App</td><td>227</td></tr>",
                            "<tr><td>Bahrain</td><td>Chrome</td><td>299</td></tr>",
                            "<tr><td>Barbados</td><td>Microsoft Edge</td><td>180</td></tr>",
                            "<tr><td>Barbados</td><td>Others</td><td>311</td></tr>",
                            "<tr><td>Barbados</td><td>Safari</td><td>211</td></tr>",
                            "<tr><td>Barbados</td><td>Android App</td><td>482</td></tr>",
                            "<tr><td>Barbados</td><td>Mozilla Firefox</td><td>320</td></tr>",
                            "<tr><td>Barbados</td><td>Chrome</td><td>343</td></tr>",
                            "<tr><td>Barbados</td><td>IOS App</td><td>252</td></tr>",
                            "<tr><td>Belarus</td><td>Android App</td><td>410</td></tr>",
                            "<tr><td>Belarus</td><td>IOS App</td><td>220</td></tr>",
                            "<tr><td>Belarus</td><td>Microsoft Edge</td><td>153</td></tr>",
                            "<tr><td>Belarus</td><td>Mozilla Firefox</td><td>275</td></tr>",
                            "<tr><td>Belarus</td><td>Chrome</td><td>256</td></tr>",
                            "<tr><td>Belarus</td><td>Others</td><td>279</td></tr>",
                            "<tr><td>Belarus</td><td>Safari</td><td>170</td></tr>",
                            "<tr><td>Belgium</td><td>Others</td><td>394</td></tr>",
                            "<tr><td>Belgium</td><td>Android App</td><td>556</td></tr>",
                            "<tr><td>Belgium</td><td>Mozilla Firefox</td><td>396</td></tr>",
                            "<tr><td>Belgium</td><td>Safari</td><td>250</td></tr>",
                            "<tr><td>Belgium</td><td>IOS App</td><td>325</td></tr>",
                            "<tr><td>Belgium</td><td>Microsoft Edge</td><td>225</td></tr>",
                            "<tr><td>Belgium</td><td>Chrome</td><td>458</td></tr>",
                            "<tr><td>Belize</td><td>Others</td><td>376</td></tr>",
                            "<tr><td>Belize</td><td>Android App</td><td>523</td></tr>",
                            "<tr><td>Belize</td><td>Microsoft Edge</td><td>207</td></tr>",
                            "<tr><td>Belize</td><td>Mozilla Firefox</td><td>359</td></tr>",
                            "<tr><td>Belize</td><td>IOS App</td><td>294</td></tr>",
                            "<tr><td>Belize</td><td>Chrome</td><td>371</td></tr>",
                            "<tr><td>Belize</td><td>Safari</td><td>222</td></tr>",
                            "<tr><td>Bosnia and Herzegovina</td><td>Android App</td><td>52</td></tr>",
                            "<tr><td>Bosnia and Herzegovina</td><td>Safari</td><td>18</td></tr>",
                            "<tr><td>Bosnia and Herzegovina</td><td>Mozilla Firefox</td><td>40</td></tr>",
                            "<tr><td>Bosnia and Herzegovina</td><td>Others</td><td>15</td></tr>",
                            "<tr><td>Bosnia and Herzegovina</td><td>IOS App</td><td>18</td></tr>",
                            "<tr><td>Bosnia and Herzegovina</td><td>Microsoft Edge</td><td>9</td></tr>",
                            "<tr><td>Bosnia and Herzegovina</td><td>Chrome</td><td>16</td></tr>",
                            "<tr><td>Brazil</td><td>IOS App</td><td>331</td></tr>",
                            "<tr><td>Brazil</td><td>Android App</td><td>551</td></tr>",
                            "<tr><td>Brazil</td><td>Safari</td><td>249</td></tr>",
                            "<tr><td>Brazil</td><td>Mozilla Firefox</td><td>385</td></tr>",
                            "<tr><td>Brazil</td><td>Chrome</td><td>460</td></tr>",
                            "<tr><td>Brazil</td><td>Microsoft Edge</td><td>225</td></tr>",
                            "<tr><td>Brazil</td><td>Others</td><td>403</td></tr>",
                            "<tr><td>Bulgaria</td><td>Android App</td><td>576</td></tr>",
                            "<tr><td>Bulgaria</td><td>Safari</td><td>240</td></tr>",
                            "<tr><td>Bulgaria</td><td>Microsoft Edge</td><td>216</td></tr>",
                            "<tr><td>Bulgaria</td><td>Others</td><td>382</td></tr>",
                            "<tr><td>Bulgaria</td><td>Mozilla Firefox</td><td>399</td></tr>",
                            "<tr><td>Bulgaria</td><td>Chrome</td><td>401</td></tr>",
                            "<tr><td>Bulgaria</td><td>IOS App</td><td>306</td></tr>",
                            "<tr><td>Cabo Verde</td><td>Mozilla Firefox</td><td>12</td></tr>",
                            "<tr><td>Cabo Verde</td><td>Others</td><td>18</td></tr>",
                            "<tr><td>Cabo Verde</td><td>IOS App</td><td>28</td></tr>",
                            "<tr><td>Cabo Verde</td><td>Chrome</td><td>14</td></tr>",
                            "<tr><td>Cabo Verde</td><td>Microsoft Edge</td><td>12</td></tr>",
                            "<tr><td>Canada</td><td>Safari</td><td>250</td></tr>",
                            "<tr><td>Canada</td><td>Chrome</td><td>377</td></tr>",
                            "<tr><td>Canada</td><td>Mozilla Firefox</td><td>372</td></tr>",
                            "<tr><td>Canada</td><td>IOS App</td><td>296</td></tr>",
                            "<tr><td>Canada</td><td>Microsoft Edge</td><td>213</td></tr>",
                            "<tr><td>Canada</td><td>Android App</td><td>552</td></tr>",
                            "<tr><td>Canada</td><td>Others</td><td>376</td></tr>",
                            "<tr><td>Chile</td><td>Android App</td><td>575</td></tr>",
                            "<tr><td>Chile</td><td>Microsoft Edge</td><td>216</td></tr>",
                            "<tr><td>Chile</td><td>Chrome</td><td>457</td></tr>",
                            "<tr><td>Chile</td><td>Others</td><td>396</td></tr>",
                            "<tr><td>Chile</td><td>Mozilla Firefox</td><td>400</td></tr>",
                            "<tr><td>Chile</td><td>Safari</td><td>240</td></tr>",
                            "<tr><td>Chile</td><td>IOS App</td><td>320</td></tr>",
                            "<tr><td>Colombia</td><td>Mozilla Firefox</td><td>386</td></tr>",
                            "<tr><td>Colombia</td><td>IOS App</td><td>326</td></tr>",
                            "<tr><td>Colombia</td><td>Safari</td><td>240</td></tr>",
                            "<tr><td>Colombia</td><td>Microsoft Edge</td><td>225</td></tr>",
                            "<tr><td>Colombia</td><td>Others</td><td>399</td></tr>",
                            "<tr><td>Colombia</td><td>Android App</td><td>537</td></tr>",
                            "<tr><td>Colombia</td><td>Chrome</td><td>401</td></tr>",
                            "<tr><td>Costa Rica</td><td>Microsoft Edge</td><td>180</td></tr>",
                            "<tr><td>Costa Rica</td><td>Chrome</td><td>357</td></tr>",
                            "<tr><td>Costa Rica</td><td>Safari</td><td>210</td></tr>",
                            "<tr><td>Costa Rica</td><td>Mozilla Firefox</td><td>324</td></tr>",
                            "<tr><td>Costa Rica</td><td>Android App</td><td>483</td></tr>",
                            "<tr><td>Costa Rica</td><td>Others</td><td>336</td></tr>",
                            "<tr><td>Costa Rica</td><td>IOS App</td><td>270</td></tr>",
                            "<tr><td>Croatia</td><td>Mozilla Firefox</td><td>246</td></tr>",
                            "<tr><td>Croatia</td><td>Safari</td><td>150</td></tr>",
                            "<tr><td>Croatia</td><td>IOS App</td><td>198</td></tr>",
                            "<tr><td>Croatia</td><td>Chrome</td><td>255</td></tr>",
                            "<tr><td>Croatia</td><td>Microsoft Edge</td><td>138</td></tr>",
                            "<tr><td>Croatia</td><td>Android App</td><td>345</td></tr>",
                            "<tr><td>Croatia</td><td>Others</td><td>240</td></tr>",
                            "<tr><td>Cuba</td><td>IOS App</td><td>198</td></tr>",
                            "<tr><td>Cuba</td><td>Chrome</td><td>258</td></tr>",
                            "<tr><td>Cuba</td><td>Safari</td><td>180</td></tr>",
                            "<tr><td>Cuba</td><td>Mozilla Firefox</td><td>255</td></tr>",
                            "<tr><td>Cuba</td><td>Microsoft Edge</td><td>156</td></tr>",
                            "<tr><td>Cuba</td><td>Others</td><td>270</td></tr>",
                            "<tr><td>Cuba</td><td>Android App</td><td>411</td></tr>",
                            "<tr><td>Cyprus</td><td>Mozilla Firefox</td><td>171</td></tr>",
                            "<tr><td>Cyprus</td><td>Microsoft Edge</td><td>84</td></tr>",
                            "<tr><td>Cyprus</td><td>IOS App</td><td>150</td></tr>",
                            "<tr><td>Cyprus</td><td>Safari</td><td>90</td></tr>",
                            "<tr><td>Cyprus</td><td>Android App</td><td>210</td></tr>",
                            "<tr><td>Cyprus</td><td>Chrome</td><td>200</td></tr>",
                            "<tr><td>Cyprus</td><td>Others</td><td>162</td></tr>",
                            "<tr><td>Czech Republic</td><td>Chrome</td><td>306</td></tr>",
                            "<tr><td>Czech Republic</td><td>IOS App</td><td>237</td></tr>",
                            "<tr><td>Czech Republic</td><td>Microsoft Edge</td><td>180</td></tr>",
                            "<tr><td>Czech Republic</td><td>Android App</td><td>426</td></tr>",
                            "<tr><td>Czech Republic</td><td>Mozilla Firefox</td><td>306</td></tr>",
                            "<tr><td>Czech Republic</td><td>Safari</td><td>189</td></tr>",
                            "<tr><td>Czech Republic</td><td>Others</td><td>288</td></tr>",
                            "<tr><td>Denmark</td><td>Others</td><td>248</td></tr>",
                            "<tr><td>Denmark</td><td>Microsoft Edge</td><td>135</td></tr>",
                            "<tr><td>Denmark</td><td>Mozilla Firefox</td><td>240</td></tr>",
                            "<tr><td>Denmark</td><td>Safari</td><td>154</td></tr>",
                            "<tr><td>Denmark</td><td>Android App</td><td>357</td></tr>",
                            "<tr><td>Denmark</td><td>IOS App</td><td>195</td></tr>",
                            "<tr><td>Denmark</td><td>Chrome</td><td>255</td></tr>",
                            "<tr><td>Dominica</td><td>Safari</td><td>15</td></tr>",
                            "<tr><td>Dominica</td><td>Others</td><td>21</td></tr>",
                            "<tr><td>Dominica</td><td>Android App</td><td>36</td></tr>",
                            "<tr><td>Ecuador</td><td>Microsoft Edge</td><td>198</td></tr>",
                            "<tr><td>Ecuador</td><td>Others</td><td>336</td></tr>",
                            "<tr><td>Ecuador</td><td>IOS App</td><td>285</td></tr>",
                            "<tr><td>Ecuador</td><td>Mozilla Firefox</td><td>351</td></tr>",
                            "<tr><td>Ecuador</td><td>Chrome</td><td>360</td></tr>",
                            "<tr><td>Ecuador</td><td>Android App</td><td>489</td></tr>",
                            "<tr><td>Ecuador</td><td>Safari</td><td>213</td></tr>",
                            "<tr><td>El Salvador</td><td>Others</td><td>257</td></tr>",
                            "<tr><td>El Salvador</td><td>Chrome</td><td>304</td></tr>",
                            "<tr><td>El Salvador</td><td>IOS App</td><td>222</td></tr>",
                            "<tr><td>El Salvador</td><td>Safari</td><td>159</td></tr>",
                            "<tr><td>El Salvador</td><td>Microsoft Edge</td><td>153</td></tr>",
                            "<tr><td>El Salvador</td><td>Mozilla Firefox</td><td>273</td></tr>",
                            "<tr><td>El Salvador</td><td>Android App</td><td>360</td></tr>",
                            "<tr><td>Estonia</td><td>Android App</td><td>333</td></tr>",
                            "<tr><td>Estonia</td><td>Others</td><td>240</td></tr>",
                            "<tr><td>Estonia</td><td>Safari</td><td>141</td></tr>",
                            "<tr><td>Estonia</td><td>Microsoft Edge</td><td>120</td></tr>",
                            "<tr><td>Estonia</td><td>Chrome</td><td>255</td></tr>",
                            "<tr><td>Estonia</td><td>IOS App</td><td>195</td></tr>",
                            "<tr><td>Estonia</td><td>Mozilla Firefox</td><td>228</td></tr>",
                            "<tr><td>Fiji</td><td>Others</td><td>126</td></tr>",
                            "<tr><td>Fiji</td><td>Microsoft Edge</td><td>75</td></tr>",
                            "<tr><td>Fiji</td><td>IOS App</td><td>81</td></tr>",
                            "<tr><td>Fiji</td><td>Chrome</td><td>105</td></tr>",
                            "<tr><td>Fiji</td><td>Android App</td><td>204</td></tr>",
                            "<tr><td>Fiji</td><td>Safari</td><td>90</td></tr>",
                            "<tr><td>Fiji</td><td>Mozilla Firefox</td><td>111</td></tr>",
                            "<tr><td>Finland</td><td>Android App</td><td>441</td></tr>",
                            "<tr><td>Finland</td><td>Chrome</td><td>354</td></tr>",
                            "<tr><td>Finland</td><td>Others</td><td>315</td></tr>",
                            "<tr><td>Finland</td><td>Mozilla Firefox</td><td>333</td></tr>",
                            "<tr><td>Finland</td><td>Safari</td><td>192</td></tr>",
                            "<tr><td>Finland</td><td>Microsoft Edge</td><td>183</td></tr>",
                            "<tr><td>Finland</td><td>IOS App</td><td>270</td></tr>",
                            "<tr><td>France</td><td>Microsoft Edge</td><td>189</td></tr>",
                            "<tr><td>France</td><td>Chrome</td><td>357</td></tr>",
                            "<tr><td>France</td><td>Mozilla Firefox</td><td>336</td></tr>",
                            "<tr><td>France</td><td>IOS App</td><td>273</td></tr>",
                            "<tr><td>France</td><td>Others</td><td>327</td></tr>",
                            "<tr><td>France</td><td>Safari</td><td>207</td></tr>",
                            "<tr><td>France</td><td>Android App</td><td>471</td></tr>",
                            "<tr><td>Georgia</td><td>Others</td><td>249</td></tr>",
                            "<tr><td>Georgia</td><td>Chrome</td><td>255</td></tr>",
                            "<tr><td>Georgia</td><td>IOS App</td><td>195</td></tr>",
                            "<tr><td>Georgia</td><td>Mozilla Firefox</td><td>240</td></tr>",
                            "<tr><td>Georgia</td><td>Microsoft Edge</td><td>135</td></tr>",
                            "<tr><td>Georgia</td><td>Safari</td><td>153</td></tr>",
                            "<tr><td>Georgia</td><td>Android App</td><td>357</td></tr>",
                            "<tr><td>Germany</td><td>IOS App</td><td>234</td></tr>",
                            "<tr><td>Germany</td><td>Chrome</td><td>306</td></tr>",
                            "<tr><td>Germany</td><td>Android App</td><td>414</td></tr>",
                            "<tr><td>Germany</td><td>Others</td><td>287</td></tr>",
                            "<tr><td>Germany</td><td>Mozilla Firefox</td><td>288</td></tr>",
                            "<tr><td>Germany</td><td>Microsoft Edge</td><td>162</td></tr>",
                            "<tr><td>Germany</td><td>Safari</td><td>181</td></tr>",
                            "<tr><td>Greece</td><td>Android App</td><td>507</td></tr>",
                            "<tr><td>Greece</td><td>Others</td><td>357</td></tr>",
                            "<tr><td>Greece</td><td>Microsoft Edge</td><td>189</td></tr>",
                            "<tr><td>Greece</td><td>Chrome</td><td>357</td></tr>",
                            "<tr><td>Greece</td><td>IOS App</td><td>273</td></tr>",
                            "<tr><td>Greece</td><td>Safari</td><td>213</td></tr>",
                            "<tr><td>Greece</td><td>Mozilla Firefox</td><td>336</td></tr>",
                            "<tr><td>Grenada</td><td>Chrome</td><td>306</td></tr>",
                            "<tr><td>Grenada</td><td>Android App</td><td>408</td></tr>",
                            "<tr><td>Grenada</td><td>Mozilla Firefox</td><td>288</td></tr>",
                            "<tr><td>Grenada</td><td>Others</td><td>285</td></tr>",
                            "<tr><td>Grenada</td><td>Microsoft Edge</td><td>162</td></tr>",
                            "<tr><td>Grenada</td><td>IOS App</td><td>234</td></tr>",
                            "<tr><td>Grenada</td><td>Safari</td><td>177</td></tr>",
                            "<tr><td>Guatemala</td><td>IOS App</td><td>273</td></tr>",
                            "<tr><td>Guatemala</td><td>Android App</td><td>471</td></tr>",
                            "<tr><td>Guatemala</td><td>Chrome</td><td>357</td></tr>",
                            "<tr><td>Guatemala</td><td>Others</td><td>324</td></tr>",
                            "<tr><td>Guatemala</td><td>Safari</td><td>210</td></tr>",
                            "<tr><td>Guatemala</td><td>Mozilla Firefox</td><td>336</td></tr>",
                            "<tr><td>Guatemala</td><td>Microsoft Edge</td><td>189</td></tr>",
                            "<tr><td>Guyana</td><td>Android App</td><td>384</td></tr>",
                            "<tr><td>Guyana</td><td>Microsoft Edge</td><td>153</td></tr>",
                            "<tr><td>Guyana</td><td>Safari</td><td>168</td></tr>",
                            "<tr><td>Guyana</td><td>IOS App</td><td>234</td></tr>",
                            "<tr><td>Guyana</td><td>Chrome</td><td>305</td></tr>",
                            "<tr><td>Guyana</td><td>Mozilla Firefox</td><td>283</td></tr>",
                            "<tr><td>Guyana</td><td>Others</td><td>272</td></tr>",
                            "<tr><td>Hungary</td><td>Microsoft Edge</td><td>156</td></tr>",
                            "<tr><td>Hungary</td><td>Safari</td><td>180</td></tr>",
                            "<tr><td>Hungary</td><td>Others</td><td>288</td></tr>",
                            "<tr><td>Hungary</td><td>Android App</td><td>414</td></tr>",
                            "<tr><td>Hungary</td><td>Mozilla Firefox</td><td>282</td></tr>",
                            "<tr><td>Hungary</td><td>Chrome</td><td>306</td></tr>",
                            "<tr><td>Hungary</td><td>IOS App</td><td>234</td></tr>",
                            "<tr><td>Iceland</td><td>Safari</td><td>222</td></tr>",
                            "<tr><td>Iceland</td><td>Microsoft Edge</td><td>204</td></tr>",
                            "<tr><td>Iceland</td><td>Android App</td><td>525</td></tr>",
                            "<tr><td>Iceland</td><td>Chrome</td><td>357</td></tr>",
                            "<tr><td>Iceland</td><td>Mozilla Firefox</td><td>348</td></tr>",
                            "<tr><td>Iceland</td><td>Others</td><td>363</td></tr>",
                            "<tr><td>Iceland</td><td>IOS App</td><td>273</td></tr>",
                            "<tr><td>Ireland</td><td>Others</td><td>324</td></tr>",
                            "<tr><td>Ireland</td><td>Microsoft Edge</td><td>189</td></tr>",
                            "<tr><td>Ireland</td><td>Safari</td><td>210</td></tr>",
                            "<tr><td>Ireland</td><td>Mozilla Firefox</td><td>336</td></tr>",
                            "<tr><td>Ireland</td><td>Android App</td><td>471</td></tr>",
                            "<tr><td>Ireland</td><td>Chrome</td><td>357</td></tr>",
                            "<tr><td>Ireland</td><td>IOS App</td><td>273</td></tr>",
                            "<tr><td>Israel</td><td>Safari</td><td>219</td></tr>",
                            "<tr><td>Israel</td><td>Android App</td><td>506</td></tr>",
                            "<tr><td>Israel</td><td>Microsoft Edge</td><td>190</td></tr>",
                            "<tr><td>Israel</td><td>Mozilla Firefox</td><td>336</td></tr>",
                            "<tr><td>Israel</td><td>Chrome</td><td>358</td></tr>",
                            "<tr><td>Israel</td><td>IOS App</td><td>273</td></tr>",
                            "<tr><td>Israel</td><td>Others</td><td>350</td></tr>",
                            "<tr><td>Italy</td><td>Others</td><td>336</td></tr>",
                            "<tr><td>Italy</td><td>Microsoft Edge</td><td>198</td></tr>",
                            "<tr><td>Italy</td><td>Safari</td><td>220</td></tr>",
                            "<tr><td>Italy</td><td>Android App</td><td>494</td></tr>",
                            "<tr><td>Italy</td><td>IOS App</td><td>279</td></tr>",
                            "<tr><td>Italy</td><td>Chrome</td><td>360</td></tr>",
                            "<tr><td>Italy</td><td>Mozilla Firefox</td><td>345</td></tr>",
                            "<tr><td>Jamaica</td><td>Others</td><td>192</td></tr>",
                            "<tr><td>Jamaica</td><td>Mozilla Firefox</td><td>183</td></tr>",
                            "<tr><td>Jamaica</td><td>Microsoft Edge</td><td>99</td></tr>",
                            "<tr><td>Jamaica</td><td>Chrome</td><td>201</td></tr>",
                            "<tr><td>Jamaica</td><td>IOS App</td><td>153</td></tr>",
                            "<tr><td>Jamaica</td><td>Safari</td><td>120</td></tr>",
                            "<tr><td>Jamaica</td><td>Android App</td><td>276</td></tr>",
                            "<tr><td>Japan</td><td>Chrome</td><td>360</td></tr>",
                            "<tr><td>Japan</td><td>IOS App</td><td>288</td></tr>",
                            "<tr><td>Japan</td><td>Android App</td><td>483</td></tr>",
                            "<tr><td>Japan</td><td>Safari</td><td>210</td></tr>",
                            "<tr><td>Japan</td><td>Mozilla Firefox</td><td>357</td></tr>",
                            "<tr><td>Japan</td><td>Microsoft Edge</td><td>198</td></tr>",
                            "<tr><td>Japan</td><td>Others</td><td>337</td></tr>",
                            "<tr><td>Kazakhstan</td><td>Safari</td><td>181</td></tr>",
                            "<tr><td>Kazakhstan</td><td>Mozilla Firefox</td><td>288</td></tr>",
                            "<tr><td>Kazakhstan</td><td>Chrome</td><td>305</td></tr>",
                            "<tr><td>Kazakhstan</td><td>Others</td><td>288</td></tr>",
                            "<tr><td>Kazakhstan</td><td>Microsoft Edge</td><td>162</td></tr>",
                            "<tr><td>Kazakhstan</td><td>Android App</td><td>414</td></tr>",
                            "<tr><td>Kazakhstan</td><td>IOS App</td><td>234</td></tr>",
                            "<tr><td>Kiribati</td><td>Chrome</td><td>150</td></tr>",
                            "<tr><td>Kiribati</td><td>Mozilla Firefox</td><td>123</td></tr>",
                            "<tr><td>Kiribati</td><td>Others</td><td>117</td></tr>",
                            "<tr><td>Kiribati</td><td>IOS App</td><td>99</td></tr>",
                            "<tr><td>Kiribati</td><td>Safari</td><td>72</td></tr>",
                            "<tr><td>Kiribati</td><td>Microsoft Edge</td><td>72</td></tr>",
                            "<tr><td>Kiribati</td><td>Android App</td><td>159</td></tr>",
                            "<tr><td>Kuwait</td><td>Others</td><td>285</td></tr>",
                            "<tr><td>Kuwait</td><td>Safari</td><td>168</td></tr>",
                            "<tr><td>Kuwait</td><td>Microsoft Edge</td><td>144</td></tr>",
                            "<tr><td>Kuwait</td><td>Mozilla Firefox</td><td>270</td></tr>",
                            "<tr><td>Kuwait</td><td>IOS App</td><td>231</td></tr>",
                            "<tr><td>Kuwait</td><td>Android App</td><td>396</td></tr>",
                            "<tr><td>Kuwait</td><td>Chrome</td><td>306</td></tr>",
                            "<tr><td>Kyrgyzstan</td><td>Mozilla Firefox</td><td>288</td></tr>",
                            "<tr><td>Kyrgyzstan</td><td>Chrome</td><td>305</td></tr>",
                            "<tr><td>Kyrgyzstan</td><td>Others</td><td>289</td></tr>",
                            "<tr><td>Kyrgyzstan</td><td>Android App</td><td>412</td></tr>",
                            "<tr><td>Kyrgyzstan</td><td>Safari</td><td>181</td></tr>",
                            "<tr><td>Kyrgyzstan</td><td>IOS App</td><td>235</td></tr>",
                            "<tr><td>Kyrgyzstan</td><td>Microsoft Edge</td><td>162</td></tr>",
                            "<tr><td>Latvia</td><td>IOS App</td><td>177</td></tr>",
                            "<tr><td>Latvia</td><td>Mozilla Firefox</td><td>238</td></tr>",
                            "<tr><td>Latvia</td><td>Chrome</td><td>243</td></tr>",
                            "<tr><td>Latvia</td><td>Safari</td><td>150</td></tr>",
                            "<tr><td>Latvia</td><td>Android App</td><td>345</td></tr>",
                            "<tr><td>Latvia</td><td>Others</td><td>223</td></tr>",
                            "<tr><td>Latvia</td><td>Microsoft Edge</td><td>135</td></tr>",
                            "<tr><td>Lithuania</td><td>Others</td><td>240</td></tr>",
                            "<tr><td>Lithuania</td><td>Android App</td><td>345</td></tr>",
                            "<tr><td>Lithuania</td><td>Microsoft Edge</td><td>135</td></tr>",
                            "<tr><td>Lithuania</td><td>Mozilla Firefox</td><td>240</td></tr>",
                            "<tr><td>Lithuania</td><td>Safari</td><td>150</td></tr>",
                            "<tr><td>Lithuania</td><td>IOS App</td><td>195</td></tr>",
                            "<tr><td>Lithuania</td><td>Chrome</td><td>267</td></tr>",
                            "<tr><td>Luxembourg</td><td>Chrome</td><td>357</td></tr>",
                            "<tr><td>Luxembourg</td><td>Android App</td><td>483</td></tr>",
                            "<tr><td>Luxembourg</td><td>Mozilla Firefox</td><td>342</td></tr>",
                            "<tr><td>Luxembourg</td><td>IOS App</td><td>294</td></tr>",
                            "<tr><td>Luxembourg</td><td>Microsoft Edge</td><td>192</td></tr>",
                            "<tr><td>Luxembourg</td><td>Safari</td><td>210</td></tr>",
                            "<tr><td>Luxembourg</td><td>Others</td><td>354</td></tr>",
                            "<tr><td>Macau</td><td>Android App</td><td>24</td></tr>",
                            "<tr><td>Macau</td><td>Mozilla Firefox</td><td>12</td></tr>",
                            "<tr><td>Macau</td><td>Microsoft Edge</td><td>15</td></tr>",
                            "<tr><td>Macau</td><td>Others</td><td>9</td></tr>",
                            "<tr><td>Macau</td><td>Safari</td><td>12</td></tr>",
                            "<tr><td>Maldives</td><td>Microsoft Edge</td><td>60</td></tr>",
                            "<tr><td>Maldives</td><td>IOS App</td><td>81</td></tr>",
                            "<tr><td>Maldives</td><td>Mozilla Firefox</td><td>99</td></tr>",
                            "<tr><td>Maldives</td><td>Chrome</td><td>105</td></tr>",
                            "<tr><td>Maldives</td><td>Android App</td><td>180</td></tr>",
                            "<tr><td>Maldives</td><td>Others</td><td>117</td></tr>",
                            "<tr><td>Maldives</td><td>Safari</td><td>78</td></tr>",
                            "<tr><td>Malta</td><td>Chrome</td><td>362</td></tr>",
                            "<tr><td>Malta</td><td>Others</td><td>338</td></tr>",
                            "<tr><td>Malta</td><td>IOS App</td><td>288</td></tr>",
                            "<tr><td>Malta</td><td>Microsoft Edge</td><td>192</td></tr>",
                            "<tr><td>Malta</td><td>Mozilla Firefox</td><td>361</td></tr>",
                            "<tr><td>Malta</td><td>Android App</td><td>481</td></tr>",
                            "<tr><td>Malta</td><td>Safari</td><td>210</td></tr>",
                            "<tr><td>Mauritius</td><td>Mozilla Firefox</td><td>351</td></tr>",
                            "<tr><td>Mauritius</td><td>Chrome</td><td>401</td></tr>",
                            "<tr><td>Mauritius</td><td>Android App</td><td>486</td></tr>",
                            "<tr><td>Mauritius</td><td>Safari</td><td>209</td></tr>",
                            "<tr><td>Mauritius</td><td>Microsoft Edge</td><td>197</td></tr>",
                            "<tr><td>Mauritius</td><td>Others</td><td>354</td></tr>",
                            "<tr><td>Mauritius</td><td>IOS App</td><td>294</td></tr>",
                            "<tr><td>Mexico</td><td>Chrome</td><td>357</td></tr>",
                            "<tr><td>Mexico</td><td>Safari</td><td>222</td></tr>",
                            "<tr><td>Mexico</td><td>IOS App</td><td>273</td></tr>",
                            "<tr><td>Mexico</td><td>Microsoft Edge</td><td>198</td></tr>",
                            "<tr><td>Mexico</td><td>Android App</td><td>503</td></tr>",
                            "<tr><td>Mexico</td><td>Mozilla Firefox</td><td>342</td></tr>",
                            "<tr><td>Mexico</td><td>Others</td><td>337</td></tr>",
                            "<tr><td>Mongolia</td><td>Safari</td><td>3</td></tr>",
                            "<tr><td>Mongolia</td><td>Others</td><td>27</td></tr>",
                            "<tr><td>Mongolia</td><td>Android App</td><td>30</td></tr>",
                            "<tr><td>Montenegro</td><td>Mozilla Firefox</td><td>123</td></tr>",
                            "<tr><td>Montenegro</td><td>Safari</td><td>75</td></tr>",
                            "<tr><td>Montenegro</td><td>Chrome</td><td>111</td></tr>",
                            "<tr><td>Montenegro</td><td>IOS App</td><td>96</td></tr>",
                            "<tr><td>Montenegro</td><td>Android App</td><td>155</td></tr>",
                            "<tr><td>Montenegro</td><td>Others</td><td>96</td></tr>",
                            "<tr><td>Montenegro</td><td>Microsoft Edge</td><td>64</td></tr>",
                            "<tr><td>Netherlands</td><td>Chrome</td><td>399</td></tr>",
                            "<tr><td>Netherlands</td><td>IOS App</td><td>294</td></tr>",
                            "<tr><td>Netherlands</td><td>Microsoft Edge</td><td>198</td></tr>",
                            "<tr><td>Netherlands</td><td>Safari</td><td>210</td></tr>",
                            "<tr><td>Netherlands</td><td>Android App</td><td>486</td></tr>",
                            "<tr><td>Netherlands</td><td>Others</td><td>354</td></tr>",
                            "<tr><td>Netherlands</td><td>Mozilla Firefox</td><td>351</td></tr>",
                            "<tr><td>New Zealand</td><td>Chrome</td><td>322</td></tr>",
                            "<tr><td>New Zealand</td><td>Microsoft Edge</td><td>179</td></tr>",
                            "<tr><td>New Zealand</td><td>Android App</td><td>483</td></tr>",
                            "<tr><td>New Zealand</td><td>Others</td><td>318</td></tr>",
                            "<tr><td>New Zealand</td><td>Mozilla Firefox</td><td>324</td></tr>",
                            "<tr><td>New Zealand</td><td>Safari</td><td>210</td></tr>",
                            "<tr><td>New Zealand</td><td>IOS App</td><td>252</td></tr>",
                            "<tr><td>Nicaragua</td><td>Others</td><td>66</td></tr>",
                            "<tr><td>Nicaragua</td><td>Chrome</td><td>87</td></tr>",
                            "<tr><td>Nicaragua</td><td>IOS App</td><td>60</td></tr>",
                            "<tr><td>Nicaragua</td><td>Mozilla Firefox</td><td>66</td></tr>",
                            "<tr><td>Nicaragua</td><td>Microsoft Edge</td><td>45</td></tr>",
                            "<tr><td>Nicaragua</td><td>Safari</td><td>33</td></tr>",
                            "<tr><td>Nicaragua</td><td>Android App</td><td>75</td></tr>",
                            "<tr><td>Norway</td><td>Chrome</td><td>359</td></tr>",
                            "<tr><td>Norway</td><td>Safari</td><td>207</td></tr>",
                            "<tr><td>Norway</td><td>Android App</td><td>476</td></tr>",
                            "<tr><td>Norway</td><td>Microsoft Edge</td><td>180</td></tr>",
                            "<tr><td>Norway</td><td>Others</td><td>335</td></tr>",
                            "<tr><td>Norway</td><td>Mozilla Firefox</td><td>330</td></tr>",
                            "<tr><td>Norway</td><td>IOS App</td><td>273</td></tr>",
                            "<tr><td>Oman</td><td>Others</td><td>30</td></tr>",
                            "<tr><td>Oman</td><td>Android App</td><td>69</td></tr>",
                            "<tr><td>Oman</td><td>Safari</td><td>30</td></tr>",
                            "<tr><td>Oman</td><td>IOS App</td><td>18</td></tr>",
                            "<tr><td>Oman</td><td>Chrome</td><td>15</td></tr>",
                            "<tr><td>Oman</td><td>Mozilla Firefox</td><td>36</td></tr>",
                            "<tr><td>Oman</td><td>Microsoft Edge</td><td>18</td></tr>",
                            "<tr><td>Panama</td><td>Safari</td><td>178</td></tr>",
                            "<tr><td>Panama</td><td>Others</td><td>288</td></tr>",
                            "<tr><td>Panama</td><td>Android App</td><td>412</td></tr>",
                            "<tr><td>Panama</td><td>Mozilla Firefox</td><td>259</td></tr>",
                            "<tr><td>Panama</td><td>Chrome</td><td>291</td></tr>",
                            "<tr><td>Panama</td><td>IOS App</td><td>219</td></tr>",
                            "<tr><td>Panama</td><td>Microsoft Edge</td><td>153</td></tr>",
                            "<tr><td>Paraguay</td><td>Mozilla Firefox</td><td>318</td></tr>",
                            "<tr><td>Paraguay</td><td>Microsoft Edge</td><td>171</td></tr>",
                            "<tr><td>Paraguay</td><td>Android App</td><td>417</td></tr>",
                            "<tr><td>Paraguay</td><td>Chrome</td><td>321</td></tr>",
                            "<tr><td>Paraguay</td><td>Safari</td><td>180</td></tr>",
                            "<tr><td>Paraguay</td><td>Others</td><td>288</td></tr>",
                            "<tr><td>Paraguay</td><td>IOS App</td><td>249</td></tr>",
                            "<tr><td>Philippines</td><td>Chrome</td><td>189</td></tr>",
                            "<tr><td>Philippines</td><td>Others</td><td>166</td></tr>",
                            "<tr><td>Philippines</td><td>Microsoft Edge</td><td>99</td></tr>",
                            "<tr><td>Philippines</td><td>IOS App</td><td>138</td></tr>",
                            "<tr><td>Philippines</td><td>Mozilla Firefox</td><td>161</td></tr>",
                            "<tr><td>Philippines</td><td>Safari</td><td>102</td></tr>",
                            "<tr><td>Philippines</td><td>Android App</td><td>224</td></tr>",
                            "<tr><td>Poland</td><td>Others</td><td>267</td></tr>",
                            "<tr><td>Poland</td><td>Microsoft Edge</td><td>144</td></tr>",
                            "<tr><td>Poland</td><td>Android App</td><td>396</td></tr>",
                            "<tr><td>Poland</td><td>Chrome</td><td>270</td></tr>",
                            "<tr><td>Poland</td><td>Mozilla Firefox</td><td>270</td></tr>",
                            "<tr><td>Poland</td><td>Safari</td><td>168</td></tr>",
                            "<tr><td>Poland</td><td>IOS App</td><td>213</td></tr>",
                            "<tr><td>Portugal</td><td>Safari</td><td>179</td></tr>",
                            "<tr><td>Portugal</td><td>Microsoft Edge</td><td>162</td></tr>",
                            "<tr><td>Portugal</td><td>Android App</td><td>414</td></tr>",
                            "<tr><td>Portugal</td><td>IOS App</td><td>251</td></tr>",
                            "<tr><td>Portugal</td><td>Chrome</td><td>342</td></tr>",
                            "<tr><td>Portugal</td><td>Mozilla Firefox</td><td>289</td></tr>",
                            "<tr><td>Portugal</td><td>Others</td><td>307</td></tr>",
                            "<tr><td>Puerto Rico</td><td>Others</td><td>336</td></tr>",
                            "<tr><td>Puerto Rico</td><td>Safari</td><td>214</td></tr>",
                            "<tr><td>Puerto Rico</td><td>IOS App</td><td>276</td></tr>",
                            "<tr><td>Puerto Rico</td><td>Chrome</td><td>357</td></tr>",
                            "<tr><td>Puerto Rico</td><td>Mozilla Firefox</td><td>354</td></tr>",
                            "<tr><td>Puerto Rico</td><td>Android App</td><td>488</td></tr>",
                            "<tr><td>Puerto Rico</td><td>Microsoft Edge</td><td>207</td></tr>",
                            "<tr><td>Qatar</td><td>Others</td><td>174</td></tr>",
                            "<tr><td>Qatar</td><td>Android App</td><td>267</td></tr>",
                            "<tr><td>Qatar</td><td>Safari</td><td>117</td></tr>",
                            "<tr><td>Qatar</td><td>Mozilla Firefox</td><td>147</td></tr>",
                            "<tr><td>Qatar</td><td>Microsoft Edge</td><td>87</td></tr>",
                            "<tr><td>Qatar</td><td>Chrome</td><td>156</td></tr>",
                            "<tr><td>Qatar</td><td>IOS App</td><td>120</td></tr>",
                            "<tr><td>Republic of Korea</td><td>Android App</td><td>483</td></tr>",
                            "<tr><td>Republic of Korea</td><td>Chrome</td><td>363</td></tr>",
                            "<tr><td>Republic of Korea</td><td>Others</td><td>337</td></tr>",
                            "<tr><td>Republic of Korea</td><td>Safari</td><td>209</td></tr>",
                            "<tr><td>Republic of Korea</td><td>Microsoft Edge</td><td>192</td></tr>",
                            "<tr><td>Republic of Korea</td><td>Mozilla Firefox</td><td>360</td></tr>",
                            "<tr><td>Republic of Korea</td><td>IOS App</td><td>288</td></tr>",
                            "<tr><td>Romania</td><td>Safari</td><td>183</td></tr>",
                            "<tr><td>Romania</td><td>Microsoft Edge</td><td>180</td></tr>",
                            "<tr><td>Romania</td><td>Chrome</td><td>349</td></tr>",
                            "<tr><td>Romania</td><td>Android App</td><td>422</td></tr>",
                            "<tr><td>Romania</td><td>Others</td><td>306</td></tr>",
                            "<tr><td>Romania</td><td>Mozilla Firefox</td><td>309</td></tr>",
                            "<tr><td>Romania</td><td>IOS App</td><td>255</td></tr>",
                            "<tr><td>Russia</td><td>Chrome</td><td>308</td></tr>",
                            "<tr><td>Russia</td><td>Microsoft Edge</td><td>162</td></tr>",
                            "<tr><td>Russia</td><td>Safari</td><td>189</td></tr>",
                            "<tr><td>Russia</td><td>Mozilla Firefox</td><td>290</td></tr>",
                            "<tr><td>Russia</td><td>Others</td><td>316</td></tr>",
                            "<tr><td>Russia</td><td>IOS App</td><td>235</td></tr>",
                            "<tr><td>Russia</td><td>Android App</td><td>452</td></tr>",
                            "<tr><td>Saint Kitts and Nevis</td><td>Others</td><td>21</td></tr>",
                            "<tr><td>Saint Kitts and Nevis</td><td>Microsoft Edge</td><td>18</td></tr>",
                            "<tr><td>Saint Kitts and Nevis</td><td>Safari</td><td>18</td></tr>",
                            "<tr><td>Saint Kitts and Nevis</td><td>Android App</td><td>27</td></tr>",
                            "<tr><td>Saint Kitts and Nevis</td><td>Mozilla Firefox</td><td>42</td></tr>",
                            "<tr><td>Saint Kitts and Nevis</td><td>Chrome</td><td>51</td></tr>",
                            "<tr><td>Saint Kitts and Nevis</td><td>IOS App</td><td>39</td></tr>",
                            "<tr><td>Saint Lucia</td><td>Microsoft Edge</td><td>171</td></tr>",
                            "<tr><td>Saint Lucia</td><td>Mozilla Firefox</td><td>294</td></tr>",
                            "<tr><td>Saint Lucia</td><td>Others</td><td>318</td></tr>",
                            "<tr><td>Saint Lucia</td><td>Chrome</td><td>306</td></tr>",
                            "<tr><td>Saint Lucia</td><td>Android App</td><td>480</td></tr>",
                            "<tr><td>Saint Lucia</td><td>IOS App</td><td>237</td></tr>",
                            "<tr><td>Saint Lucia</td><td>Safari</td><td>210</td></tr>",
                            "<tr><td>Saint Vincent and Grenadines</td><td>Safari</td><td>162</td></tr>",
                            "<tr><td>Saint Vincent and Grenadines</td><td>Chrome</td><td>306</td></tr>",
                            "<tr><td>Saint Vincent and Grenadines</td><td>Android App</td><td>378</td></tr>",
                            "<tr><td>Saint Vincent and Grenadines</td><td>Mozilla Firefox</td><td>288</td></tr>",
                            "<tr><td>Saint Vincent and Grenadines</td><td>IOS App</td><td>231</td></tr>",
                            "<tr><td>Saint Vincent and Grenadines</td><td>Microsoft Edge</td><td>162</td></tr>",
                            "<tr><td>Saint Vincent and Grenadines</td><td>Others</td><td>273</td></tr>",
                            "<tr><td>San Marino</td><td>Chrome</td><td>51</td></tr>",
                            "<tr><td>San Marino</td><td>IOS App</td><td>36</td></tr>",
                            "<tr><td>San Marino</td><td>Mozilla Firefox</td><td>30</td></tr>",
                            "<tr><td>San Marino</td><td>Microsoft Edge</td><td>9</td></tr>",
                            "<tr><td>San Marino</td><td>Safari</td><td>18</td></tr>",
                            "<tr><td>San Marino</td><td>Others</td><td>33</td></tr>",
                            "<tr><td>San Marino</td><td>Android App</td><td>39</td></tr>",
                            "<tr><td>Serbia</td><td>IOS App</td><td>160</td></tr>",
                            "<tr><td>Serbia</td><td>Chrome</td><td>204</td></tr>",
                            "<tr><td>Serbia</td><td>Android App</td><td>281</td></tr>",
                            "<tr><td>Serbia</td><td>Microsoft Edge</td><td>126</td></tr>",
                            "<tr><td>Serbia</td><td>Others</td><td>192</td></tr>",
                            "<tr><td>Serbia</td><td>Mozilla Firefox</td><td>210</td></tr>",
                            "<tr><td>Serbia</td><td>Safari</td><td>123</td></tr>",
                            "<tr><td>Seychelles</td><td>Android App</td><td>300</td></tr>",
                            "<tr><td>Seychelles</td><td>Others</td><td>207</td></tr>",
                            "<tr><td>Seychelles</td><td>Mozilla Firefox</td><td>192</td></tr>",
                            "<tr><td>Seychelles</td><td>Safari</td><td>129</td></tr>",
                            "<tr><td>Seychelles</td><td>Microsoft Edge</td><td>108</td></tr>",
                            "<tr><td>Seychelles</td><td>IOS App</td><td>156</td></tr>",
                            "<tr><td>Seychelles</td><td>Chrome</td><td>204</td></tr>",
                            "<tr><td>Singapore</td><td>Android App</td><td>507</td></tr>",
                            "<tr><td>Singapore</td><td>IOS App</td><td>274</td></tr>",
                            "<tr><td>Singapore</td><td>Mozilla Firefox</td><td>336</td></tr>",
                            "<tr><td>Singapore</td><td>Chrome</td><td>356</td></tr>",
                            "<tr><td>Singapore</td><td>Microsoft Edge</td><td>189</td></tr>",
                            "<tr><td>Singapore</td><td>Safari</td><td>219</td></tr>",
                            "<tr><td>Singapore</td><td>Others</td><td>351</td></tr>",
                            "<tr><td>Slovakia</td><td>Android App</td><td>358</td></tr>",
                            "<tr><td>Slovakia</td><td>Mozilla Firefox</td><td>240</td></tr>",
                            "<tr><td>Slovakia</td><td>Microsoft Edge</td><td>135</td></tr>",
                            "<tr><td>Slovakia</td><td>Chrome</td><td>254</td></tr>",
                            "<tr><td>Slovakia</td><td>IOS App</td><td>198</td></tr>",
                            "<tr><td>Slovakia</td><td>Others</td><td>240</td></tr>",
                            "<tr><td>Slovakia</td><td>Safari</td><td>159</td></tr>",
                            "<tr><td>Slovenia</td><td>Mozilla Firefox</td><td>240</td></tr>",
                            "<tr><td>Slovenia</td><td>Others</td><td>238</td></tr>",
                            "<tr><td>Slovenia</td><td>Microsoft Edge</td><td>135</td></tr>",
                            "<tr><td>Slovenia</td><td>Chrome</td><td>254</td></tr>",
                            "<tr><td>Slovenia</td><td>IOS App</td><td>191</td></tr>",
                            "<tr><td>Slovenia</td><td>Safari</td><td>132</td></tr>",
                            "<tr><td>Slovenia</td><td>Android App</td><td>321</td></tr>",
                            "<tr><td>South Africa</td><td>Others</td><td>214</td></tr>",
                            "<tr><td>South Africa</td><td>Microsoft Edge</td><td>117</td></tr>",
                            "<tr><td>South Africa</td><td>Safari</td><td>138</td></tr>",
                            "<tr><td>South Africa</td><td>Mozilla Firefox</td><td>221</td></tr>",
                            "<tr><td>South Africa</td><td>Chrome</td><td>255</td></tr>",
                            "<tr><td>South Africa</td><td>Android App</td><td>303</td></tr>",
                            "<tr><td>South Africa</td><td>IOS App</td><td>192</td></tr>",
                            "<tr><td>Spain</td><td>Chrome</td><td>357</td></tr>",
                            "<tr><td>Spain</td><td>Mozilla Firefox</td><td>354</td></tr>",
                            "<tr><td>Spain</td><td>Others</td><td>336</td></tr>",
                            "<tr><td>Spain</td><td>Safari</td><td>213</td></tr>",
                            "<tr><td>Spain</td><td>IOS App</td><td>275</td></tr>",
                            "<tr><td>Spain</td><td>Android App</td><td>490</td></tr>",
                            "<tr><td>Spain</td><td>Microsoft Edge</td><td>207</td></tr>",
                            "<tr><td>Sri Lanka</td><td>Android App</td><td>198</td></tr>",
                            "<tr><td>Sri Lanka</td><td>Chrome</td><td>105</td></tr>",
                            "<tr><td>Sri Lanka</td><td>IOS App</td><td>96</td></tr>",
                            "<tr><td>Sri Lanka</td><td>Mozilla Firefox</td><td>117</td></tr>",
                            "<tr><td>Sri Lanka</td><td>Safari</td><td>87</td></tr>",
                            "<tr><td>Sri Lanka</td><td>Microsoft Edge</td><td>63</td></tr>",
                            "<tr><td>Sri Lanka</td><td>Others</td><td>126</td></tr>",
                            "<tr><td>Suriname</td><td>Safari</td><td>183</td></tr>",
                            "<tr><td>Suriname</td><td>Mozilla Firefox</td><td>315</td></tr>",
                            "<tr><td>Suriname</td><td>Chrome</td><td>354</td></tr>",
                            "<tr><td>Suriname</td><td>Android App</td><td>423</td></tr>",
                            "<tr><td>Suriname</td><td>IOS App</td><td>255</td></tr>",
                            "<tr><td>Suriname</td><td>Others</td><td>306</td></tr>",
                            "<tr><td>Suriname</td><td>Microsoft Edge</td><td>180</td></tr>",
                            "<tr><td>Sweden</td><td>Safari</td><td>206</td></tr>",
                            "<tr><td>Sweden</td><td>Chrome</td><td>357</td></tr>",
                            "<tr><td>Sweden</td><td>Others</td><td>336</td></tr>",
                            "<tr><td>Sweden</td><td>Mozilla Firefox</td><td>324</td></tr>",
                            "<tr><td>Sweden</td><td>IOS App</td><td>273</td></tr>",
                            "<tr><td>Sweden</td><td>Android App</td><td>478</td></tr>",
                            "<tr><td>Sweden</td><td>Microsoft Edge</td><td>174</td></tr>",
                            "<tr><td>Switzerland</td><td>Android App</td><td>344</td></tr>",
                            "<tr><td>Switzerland</td><td>IOS App</td><td>174</td></tr>",
                            "<tr><td>Switzerland</td><td>Chrome</td><td>255</td></tr>",
                            "<tr><td>Switzerland</td><td>Safari</td><td>150</td></tr>",
                            "<tr><td>Switzerland</td><td>Microsoft Edge</td><td>132</td></tr>",
                            "<tr><td>Switzerland</td><td>Mozilla Firefox</td><td>235</td></tr>",
                            "<tr><td>Switzerland</td><td>Others</td><td>222</td></tr>",
                            "<tr><td>Thailand</td><td>Safari</td><td>192</td></tr>",
                            "<tr><td>Thailand</td><td>Chrome</td><td>307</td></tr>",
                            "<tr><td>Thailand</td><td>Mozilla Firefox</td><td>305</td></tr>",
                            "<tr><td>Thailand</td><td>Android App</td><td>444</td></tr>",
                            "<tr><td>Thailand</td><td>IOS App</td><td>255</td></tr>",
                            "<tr><td>Thailand</td><td>Microsoft Edge</td><td>180</td></tr>",
                            "<tr><td>Thailand</td><td>Others</td><td>321</td></tr>",
                            "<tr><td>Trinidad and Tobago</td><td>Android App</td><td>450</td></tr>",
                            "<tr><td>Trinidad and Tobago</td><td>Others</td><td>303</td></tr>",
                            "<tr><td>Trinidad and Tobago</td><td>Chrome</td><td>306</td></tr>",
                            "<tr><td>Trinidad and Tobago</td><td>Mozilla Firefox</td><td>288</td></tr>",
                            "<tr><td>Trinidad and Tobago</td><td>IOS App</td><td>237</td></tr>",
                            "<tr><td>Trinidad and Tobago</td><td>Microsoft Edge</td><td>162</td></tr>",
                            "<tr><td>Trinidad and Tobago</td><td>Safari</td><td>198</td></tr>",
                            "<tr><td>Turkey</td><td>Chrome</td><td>102</td></tr>",
                            "<tr><td>Turkey</td><td>Android App</td><td>78</td></tr>",
                            "<tr><td>Turkey</td><td>IOS App</td><td>75</td></tr>",
                            "<tr><td>Turkey</td><td>Others</td><td>66</td></tr>",
                            "<tr><td>Turkey</td><td>Mozilla Firefox</td><td>96</td></tr>",
                            "<tr><td>Turkey</td><td>Microsoft Edge</td><td>54</td></tr>",
                            "<tr><td>Turkey</td><td>Safari</td><td>33</td></tr>",
                            "<tr><td>Turkmenistan</td><td>Microsoft Edge</td><td>171</td></tr>",
                            "<tr><td>Turkmenistan</td><td>Android App</td><td>479</td></tr>",
                            "<tr><td>Turkmenistan</td><td>Safari</td><td>207</td></tr>",
                            "<tr><td>Turkmenistan</td><td>IOS App</td><td>252</td></tr>",
                            "<tr><td>Turkmenistan</td><td>Others</td><td>316</td></tr>",
                            "<tr><td>Turkmenistan</td><td>Chrome</td><td>345</td></tr>",
                            "<tr><td>Turkmenistan</td><td>Mozilla Firefox</td><td>318</td></tr>",
                            "<tr><td>Ukraine</td><td>Mozilla Firefox</td><td>305</td></tr>",
                            "<tr><td>Ukraine</td><td>Microsoft Edge</td><td>180</td></tr>",
                            "<tr><td>Ukraine</td><td>Others</td><td>321</td></tr>",
                            "<tr><td>Ukraine</td><td>Android App</td><td>444</td></tr>",
                            "<tr><td>Ukraine</td><td>Safari</td><td>192</td></tr>",
                            "<tr><td>Ukraine</td><td>IOS App</td><td>255</td></tr>",
                            "<tr><td>Ukraine</td><td>Chrome</td><td>319</td></tr>",
                            "<tr><td>United Arab Emirates</td><td>Others</td><td>63</td></tr>",
                            "<tr><td>United Arab Emirates</td><td>Mozilla Firefox</td><td>69</td></tr>",
                            "<tr><td>United Arab Emirates</td><td>IOS App</td><td>57</td></tr>",
                            "<tr><td>United Arab Emirates</td><td>Microsoft Edge</td><td>36</td></tr>",
                            "<tr><td>United Arab Emirates</td><td>Chrome</td><td>54</td></tr>",
                            "<tr><td>United Arab Emirates</td><td>Safari</td><td>48</td></tr>",
                            "<tr><td>United Arab Emirates</td><td>Android App</td><td>105</td></tr>",
                            "<tr><td>United Kingdom</td><td>Others</td><td>336</td></tr>",
                            "<tr><td>United Kingdom</td><td>IOS App</td><td>273</td></tr>",
                            "<tr><td>United Kingdom</td><td>Chrome</td><td>393</td></tr>",
                            "<tr><td>United Kingdom</td><td>Microsoft Edge</td><td>189</td></tr>",
                            "<tr><td>United Kingdom</td><td>Android App</td><td>486</td></tr>",
                            "<tr><td>United Kingdom</td><td>Mozilla Firefox</td><td>345</td></tr>",
                            "<tr><td>United Kingdom</td><td>Safari</td><td>210</td></tr>",
                            "<tr><td>United States</td><td>Chrome</td><td>369</td></tr>",
                            "<tr><td>United States</td><td>Mozilla Firefox</td><td>336</td></tr>",
                            "<tr><td>United States</td><td>Safari</td><td>210</td></tr>",
                            "<tr><td>United States</td><td>Android App</td><td>483</td></tr>",
                            "<tr><td>United States</td><td>Others</td><td>354</td></tr>",
                            "<tr><td>United States</td><td>Microsoft Edge</td><td>189</td></tr>",
                            "<tr><td>United States</td><td>IOS App</td><td>290</td></tr>",
                            "<tr><td>Uruguay</td><td>Microsoft Edge</td><td>180</td></tr>",
                            "<tr><td>Uruguay</td><td>Others</td><td>318</td></tr>",
                            "<tr><td>Uruguay</td><td>Mozilla Firefox</td><td>306</td></tr>",
                            "<tr><td>Uruguay</td><td>Safari</td><td>201</td></tr>",
                            "<tr><td>Uruguay</td><td>IOS App</td><td>237</td></tr>",
                            "<tr><td>Uruguay</td><td>Chrome</td><td>306</td></tr>",
                            "<tr><td>Uruguay</td><td>Android App</td><td>468</td></tr>",
                            "<tr><td>Uzbekistan</td><td>Safari</td><td>159</td></tr>",
                            "<tr><td>Uzbekistan</td><td>Mozilla Firefox</td><td>240</td></tr>",
                            "<tr><td>Uzbekistan</td><td>Android App</td><td>357</td></tr>",
                            "<tr><td>Uzbekistan</td><td>Chrome</td><td>255</td></tr>",
                            "<tr><td>Uzbekistan</td><td>Others</td><td>240</td></tr>",
                            "<tr><td>Uzbekistan</td><td>Microsoft Edge</td><td>135</td></tr>",
                            "<tr><td>Uzbekistan</td><td>IOS App</td><td>198</td></tr>",
                            "</table>"
                        ]
                    }
                }
            ],
            "execution_count": 34
        }
    ]
}