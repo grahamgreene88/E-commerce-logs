{
    "metadata": {
        "kernelspec": {
            "name": "SQL",
            "display_name": "SQL",
            "language": "sql"
        },
        "language_info": {
            "name": "sql",
            "version": ""
        }
    },
    "nbformat_minor": 2,
    "nbformat": 4,
    "cells": [
        {
            "cell_type": "markdown",
            "source": [
                "# E-Commerce Logs Analysis"
            ],
            "metadata": {
                "azdata_cell_guid": "cce7de79-78e6-448d-b88a-861d37ad7a44"
            },
            "attachments": {}
        },
        {
            "cell_type": "markdown",
            "source": [
                "## Project Objective\n",
                "\n",
                "The objective of this project is to analyze the website logs from an e-commerce store to obtain useful insight into customer behaviour.\n",
                "\n",
                "## Data Source\n",
                "\n",
                "The dataset was obtained here: https://www.kaggle.com/datasets/kzmontage/e-commerce-website-logs and the data has an Open Database license: https://opendatacommons.org/licenses/odbl/1-0/"
            ],
            "metadata": {
                "azdata_cell_guid": "c2e6f405-dfb4-4d1c-a8fe-7148fd59953a"
            },
            "attachments": {}
        },
        {
            "cell_type": "code",
            "source": [
                "-- Specifying database\n",
                "USE EcommerceLogsDb"
            ],
            "metadata": {
                "azdata_cell_guid": "855c96a7-f115-471a-ad30-69427f6a634f",
                "language": "sql",
                "tags": []
            },
            "outputs": [
                {
                    "output_type": "display_data",
                    "data": {
                        "text/html": "Commands completed successfully."
                    },
                    "metadata": {}
                },
                {
                    "output_type": "display_data",
                    "data": {
                        "text/html": "Total execution time: 00:00:00.026"
                    },
                    "metadata": {}
                }
            ],
            "execution_count": 1
        },
        {
            "cell_type": "code",
            "source": [
                "-- preview of purchase logs table\n",
                "SELECT TOP 3*\n",
                "FROM logs;"
            ],
            "metadata": {
                "language": "sql",
                "azdata_cell_guid": "12533ff2-3c33-48d6-a287-410d9c91a3b9"
            },
            "outputs": [
                {
                    "output_type": "display_data",
                    "data": {
                        "text/html": "(3 rows affected)"
                    },
                    "metadata": {}
                },
                {
                    "output_type": "display_data",
                    "data": {
                        "text/html": "Total execution time: 00:00:00.502"
                    },
                    "metadata": {}
                },
                {
                    "output_type": "execute_result",
                    "metadata": {},
                    "execution_count": 2,
                    "data": {
                        "application/vnd.dataresource+json": {
                            "schema": {
                                "fields": [
                                    {
                                        "name": "access_date"
                                    },
                                    {
                                        "name": "duration_seconds"
                                    },
                                    {
                                        "name": "Proto"
                                    },
                                    {
                                        "name": "IP"
                                    },
                                    {
                                        "name": "Src_IP_type"
                                    },
                                    {
                                        "name": "Src_Pt"
                                    },
                                    {
                                        "name": "Bytes"
                                    },
                                    {
                                        "name": "Accessed_From"
                                    },
                                    {
                                        "name": "country"
                                    },
                                    {
                                        "name": "membership"
                                    },
                                    {
                                        "name": "Languages"
                                    },
                                    {
                                        "name": "Sales"
                                    },
                                    {
                                        "name": "Returned"
                                    },
                                    {
                                        "name": "Returned_Amount"
                                    }
                                ]
                            },
                            "data": [
                                {
                                    "access_date": "2016-11-01 09:58:00.0000000",
                                    "duration_seconds": "2533",
                                    "Proto": "TCP  ",
                                    "IP": "1.10.195.126",
                                    "Src_IP_type": "EXT_SERVER",
                                    "Src_Pt": "8082",
                                    "Bytes": "20100",
                                    "Accessed_From": "Chrome",
                                    "country": "Albania",
                                    "membership": "Normal",
                                    "Languages": "Albanian",
                                    "Sales": "261.96",
                                    "Returned": "No",
                                    "Returned_Amount": "0"
                                },
                                {
                                    "access_date": "2016-11-01 09:59:00.0000000",
                                    "duration_seconds": "4034",
                                    "Proto": "TCP  ",
                                    "IP": "1.1.217.211",
                                    "Src_IP_type": "OPENSTACK_NET",
                                    "Src_Pt": "56978",
                                    "Bytes": "20500",
                                    "Accessed_From": "Mozilla Firefox",
                                    "country": "Albania",
                                    "membership": "Normal",
                                    "Languages": "Albanian",
                                    "Sales": "731.94",
                                    "Returned": "No",
                                    "Returned_Amount": "0"
                                },
                                {
                                    "access_date": "2016-11-01 09:59:00.0000000",
                                    "duration_seconds": "1525",
                                    "Proto": "TCP  ",
                                    "IP": "1.115.198.107",
                                    "Src_IP_type": "EXT_SERVER",
                                    "Src_Pt": "8082",
                                    "Bytes": "90100",
                                    "Accessed_From": "Mozilla Firefox",
                                    "country": "Albania",
                                    "membership": "Normal",
                                    "Languages": "Albanian",
                                    "Sales": "14.62",
                                    "Returned": "No",
                                    "Returned_Amount": "0"
                                }
                            ]
                        },
                        "text/html": [
                            "<table>",
                            "<tr><th>access_date</th><th>duration_seconds</th><th>Proto</th><th>IP</th><th>Src_IP_type</th><th>Src_Pt</th><th>Bytes</th><th>Accessed_From</th><th>country</th><th>membership</th><th>Languages</th><th>Sales</th><th>Returned</th><th>Returned_Amount</th></tr>",
                            "<tr><td>2016-11-01 09:58:00.0000000</td><td>2533</td><td>TCP  </td><td>1.10.195.126</td><td>EXT_SERVER</td><td>8082</td><td>20100</td><td>Chrome</td><td>Albania</td><td>Normal</td><td>Albanian</td><td>261.96</td><td>No</td><td>0</td></tr>",
                            "<tr><td>2016-11-01 09:59:00.0000000</td><td>4034</td><td>TCP  </td><td>1.1.217.211</td><td>OPENSTACK_NET</td><td>56978</td><td>20500</td><td>Mozilla Firefox</td><td>Albania</td><td>Normal</td><td>Albanian</td><td>731.94</td><td>No</td><td>0</td></tr>",
                            "<tr><td>2016-11-01 09:59:00.0000000</td><td>1525</td><td>TCP  </td><td>1.115.198.107</td><td>EXT_SERVER</td><td>8082</td><td>90100</td><td>Mozilla Firefox</td><td>Albania</td><td>Normal</td><td>Albanian</td><td>14.62</td><td>No</td><td>0</td></tr>",
                            "</table>"
                        ]
                    }
                }
            ],
            "execution_count": 2
        },
        {
            "cell_type": "code",
            "source": [
                "-- Which country had the highest number of sales and highest value of sales (in $)?\n",
                "-- showing country percentiles for both metrics using window functions\n",
                "SELECT TOP 5 country, \n",
                "    COUNT(*) AS num_sales, \n",
                "    PERCENT_RANK() OVER(ORDER BY COUNT(*)) AS num_sales_percentile, \n",
                "    SUM(Sales) AS value_sales, \n",
                "    PERCENT_RANK() OVER(ORDER BY SUM(Sales)) AS value_sales_percentile\n",
                "FROM logs\n",
                "GROUP BY country\n",
                "ORDER BY value_sales DESC;"
            ],
            "metadata": {
                "language": "sql",
                "azdata_cell_guid": "619e9d8e-003e-48b9-9125-4614f279352d",
                "tags": []
            },
            "outputs": [
                {
                    "output_type": "display_data",
                    "data": {
                        "text/html": "(5 rows affected)"
                    },
                    "metadata": {}
                },
                {
                    "output_type": "display_data",
                    "data": {
                        "text/html": "Total execution time: 00:00:00.187"
                    },
                    "metadata": {}
                },
                {
                    "output_type": "execute_result",
                    "metadata": {},
                    "execution_count": 10,
                    "data": {
                        "application/vnd.dataresource+json": {
                            "schema": {
                                "fields": [
                                    {
                                        "name": "country"
                                    },
                                    {
                                        "name": "num_sales"
                                    },
                                    {
                                        "name": "num_sales_percentile"
                                    },
                                    {
                                        "name": "value_sales"
                                    },
                                    {
                                        "name": "value_sales_percentile"
                                    }
                                ]
                            },
                            "data": [
                                {
                                    "country": "Austria",
                                    "num_sales": "2674",
                                    "num_sales_percentile": "1",
                                    "value_sales": "1296463.3414999906",
                                    "value_sales_percentile": "1"
                                },
                                {
                                    "country": "Belgium",
                                    "num_sales": "2604",
                                    "num_sales_percentile": "0.97",
                                    "value_sales": "1154321.3705999977",
                                    "value_sales_percentile": "0.99"
                                },
                                {
                                    "country": "Argentina",
                                    "num_sales": "2603",
                                    "num_sales_percentile": "0.96",
                                    "value_sales": "1140238.6927999987",
                                    "value_sales_percentile": "0.98"
                                },
                                {
                                    "country": "Australia",
                                    "num_sales": "2520",
                                    "num_sales_percentile": "0.94",
                                    "value_sales": "1139576.1649999968",
                                    "value_sales_percentile": "0.97"
                                },
                                {
                                    "country": "United States",
                                    "num_sales": "2231",
                                    "num_sales_percentile": "0.73",
                                    "value_sales": "1132496.3800000001",
                                    "value_sales_percentile": "0.96"
                                }
                            ]
                        },
                        "text/html": [
                            "<table>",
                            "<tr><th>country</th><th>num_sales</th><th>num_sales_percentile</th><th>value_sales</th><th>value_sales_percentile</th></tr>",
                            "<tr><td>Austria</td><td>2674</td><td>1</td><td>1296463.3414999906</td><td>1</td></tr>",
                            "<tr><td>Belgium</td><td>2604</td><td>0.97</td><td>1154321.3705999977</td><td>0.99</td></tr>",
                            "<tr><td>Argentina</td><td>2603</td><td>0.96</td><td>1140238.6927999987</td><td>0.98</td></tr>",
                            "<tr><td>Australia</td><td>2520</td><td>0.94</td><td>1139576.1649999968</td><td>0.97</td></tr>",
                            "<tr><td>United States</td><td>2231</td><td>0.73</td><td>1132496.3800000001</td><td>0.96</td></tr>",
                            "</table>"
                        ]
                    }
                }
            ],
            "execution_count": 10
        },
        {
            "cell_type": "markdown",
            "source": [
                "From the table above, the top 4 countries for num\\_sales and value\\_sales are Austria, Belgium, Argentina and Australia. The number of sales seems highly correlated with value of sales with some exceptions like the United States which ranks in the 73rd percentile for number of sales and in the 96th percentile for value of sales.\n",
                "\n",
                "Next let's look at the average order value (AOV) per country and compare to the worldwide average. The AOV is a popular e-commerce metric that indicates the average amount customers are spending in one purchase. Both the tradditional AOV (using the mean) and the median AOV will be calculated adnc compared."
            ],
            "metadata": {
                "language": "sql",
                "azdata_cell_guid": "7c1d0032-8632-4290-bc87-f5a9d2488efe"
            },
            "attachments": {}
        },
        {
            "cell_type": "code",
            "source": [
                "-- average order value ($) per country\n",
                "SELECT TOP 5 \n",
                "    country, AVG(Sales) AS avg_order_value,\n",
                "    -- subquery in SELECT to determine worldwide avg order value ($)\n",
                "    (SELECT AVG(Sales) FROM logs) AS world_avg_order_value,\n",
                "    -- difference bewteen country avg and worldwide avg with another SELECT subquery\n",
                "    (AVG(Sales) - (SELECT AVG(Sales) FROM logs)) AS difference\n",
                "FROM logs\n",
                "GROUP BY country\n",
                "ORDER BY difference DESC;"
            ],
            "metadata": {
                "language": "sql",
                "azdata_cell_guid": "3661bbe8-7b75-4fd3-af97-3b4591798e2d",
                "tags": []
            },
            "outputs": [
                {
                    "output_type": "display_data",
                    "data": {
                        "text/html": "(5 rows affected)"
                    },
                    "metadata": {}
                },
                {
                    "output_type": "display_data",
                    "data": {
                        "text/html": "Total execution time: 00:00:00.141"
                    },
                    "metadata": {}
                },
                {
                    "output_type": "execute_result",
                    "metadata": {},
                    "execution_count": 11,
                    "data": {
                        "application/vnd.dataresource+json": {
                            "schema": {
                                "fields": [
                                    {
                                        "name": "country"
                                    },
                                    {
                                        "name": "avg_order_value"
                                    },
                                    {
                                        "name": "world_avg_order_value"
                                    },
                                    {
                                        "name": "difference"
                                    }
                                ]
                            },
                            "data": [
                                {
                                    "country": "Turkey",
                                    "avg_order_value": "557.528015873016",
                                    "world_avg_order_value": "411.346448791977",
                                    "difference": "146.18156708102913"
                                },
                                {
                                    "country": "Norway",
                                    "avg_order_value": "523.0527268518518",
                                    "world_avg_order_value": "411.346448791977",
                                    "difference": "111.70627805986499"
                                },
                                {
                                    "country": "Qatar",
                                    "avg_order_value": "519.2086891385769",
                                    "world_avg_order_value": "411.346448791977",
                                    "difference": "107.86224034659006"
                                },
                                {
                                    "country": "Nicaragua",
                                    "avg_order_value": "516.7759722222223",
                                    "world_avg_order_value": "411.346448791977",
                                    "difference": "105.42952343023546"
                                },
                                {
                                    "country": "Slovenia",
                                    "avg_order_value": "516.1550165453344",
                                    "world_avg_order_value": "411.346448791977",
                                    "difference": "104.80856775334757"
                                }
                            ]
                        },
                        "text/html": [
                            "<table>",
                            "<tr><th>country</th><th>avg_order_value</th><th>world_avg_order_value</th><th>difference</th></tr>",
                            "<tr><td>Turkey</td><td>557.528015873016</td><td>411.346448791977</td><td>146.18156708102913</td></tr>",
                            "<tr><td>Norway</td><td>523.0527268518518</td><td>411.346448791977</td><td>111.70627805986499</td></tr>",
                            "<tr><td>Qatar</td><td>519.2086891385769</td><td>411.346448791977</td><td>107.86224034659006</td></tr>",
                            "<tr><td>Nicaragua</td><td>516.7759722222223</td><td>411.346448791977</td><td>105.42952343023546</td></tr>",
                            "<tr><td>Slovenia</td><td>516.1550165453344</td><td>411.346448791977</td><td>104.80856775334757</td></tr>",
                            "</table>"
                        ]
                    }
                }
            ],
            "execution_count": 11
        },
        {
            "cell_type": "code",
            "source": [
                "-- median order value ($) per country\n",
                "WITH CTE_AOV AS (\n",
                "    SELECT  \n",
                "        DISTINCT country,\n",
                "        PERCENTILE_CONT(0.5) WITHIN GROUP (ORDER BY Sales) OVER(PARTITION BY country) AS median_AOV,\n",
                "        PERCENTILE_CONT(0.5) WITHIN GROUP (ORDER BY Sales) OVER() AS world_median_AOV\n",
                "    FROM logs)\n",
                "    --ORDER BY median_AOV DESC)\n",
                "\n",
                "SELECT DISTINCT TOP 5 logs.country, median_AOV, AVG(median_AOV) OVER () AS avg_world_aov\n",
                "FROM logs\n",
                "    INNER JOIN CTE_AOV\n",
                "    ON logs.country = CTE_AOV.country;"
            ],
            "metadata": {
                "language": "sql",
                "azdata_cell_guid": "c4e64e59-8854-4c12-89ec-19fa9eb4b7ef"
            },
            "outputs": [
                {
                    "output_type": "display_data",
                    "data": {
                        "text/html": "(5 rows affected)"
                    },
                    "metadata": {}
                },
                {
                    "output_type": "display_data",
                    "data": {
                        "text/html": "Total execution time: 00:00:04.658"
                    },
                    "metadata": {}
                },
                {
                    "output_type": "execute_result",
                    "metadata": {},
                    "execution_count": 20,
                    "data": {
                        "application/vnd.dataresource+json": {
                            "schema": {
                                "fields": [
                                    {
                                        "name": "country"
                                    },
                                    {
                                        "name": "median_AOV"
                                    },
                                    {
                                        "name": "avg_world_aov"
                                    }
                                ]
                            },
                            "data": [
                                {
                                    "country": "Kiribati",
                                    "median_AOV": "46.92",
                                    "avg_world_aov": "57.028022315694535"
                                },
                                {
                                    "country": "Netherlands",
                                    "median_AOV": "71.68",
                                    "avg_world_aov": "57.028022315694535"
                                },
                                {
                                    "country": "New Zealand",
                                    "median_AOV": "58.65",
                                    "avg_world_aov": "57.028022315694535"
                                },
                                {
                                    "country": "Greece",
                                    "median_AOV": "30.3",
                                    "avg_world_aov": "57.028022315694535"
                                },
                                {
                                    "country": "Nicaragua",
                                    "median_AOV": "81.32",
                                    "avg_world_aov": "57.028022315694535"
                                }
                            ]
                        },
                        "text/html": [
                            "<table>",
                            "<tr><th>country</th><th>median_AOV</th><th>avg_world_aov</th></tr>",
                            "<tr><td>Kiribati</td><td>46.92</td><td>57.028022315694535</td></tr>",
                            "<tr><td>Netherlands</td><td>71.68</td><td>57.028022315694535</td></tr>",
                            "<tr><td>New Zealand</td><td>58.65</td><td>57.028022315694535</td></tr>",
                            "<tr><td>Greece</td><td>30.3</td><td>57.028022315694535</td></tr>",
                            "<tr><td>Nicaragua</td><td>81.32</td><td>57.028022315694535</td></tr>",
                            "</table>"
                        ]
                    }
                }
            ],
            "execution_count": 20
        },
        {
            "cell_type": "markdown",
            "source": [
                "The average order values (mean) range from $235-$557 and are much higher than the median AOV's which range from $10-$122. This indicates that there are several large outliers for each dataset that pull the mean much higher than the median. As a result, we will use the median AOV because it is more robust to outliers and is a better representation for central tendency in this case.\n",
                "\n",
                "We'll now look at returns of purchased items for each country."
            ],
            "metadata": {
                "language": "sql",
                "azdata_cell_guid": "20484698-456f-43a3-bdf6-ec1993d9be7f"
            },
            "attachments": {}
        },
        {
            "cell_type": "code",
            "source": [
                "-- CTE for value of sales returned\n",
                "WITH returned_value AS (\n",
                "    SELECT country,\n",
                "        -- Sum of total dollars returned\n",
                "        SUM(Returned_Amount) AS returned_amount,\n",
                "        -- Percentage of dollars returned over dollars sold\n",
                "        -- Sales column doesn't include amount for returned items\n",
                "        SUM(Returned_Amount) / (SUM(Sales) + SUM(Returned_Amount)) AS pct_value_returned\n",
                "    From logs\n",
                "    GROUP BY country),\n",
                "\n",
                "-- CTE for number of sales returned\n",
                "returned_sales AS (\n",
                "    SELECT t1.country, \n",
                "        -- counting all rows (number of transactions)\n",
                "        COUNT(*) AS num_sales,\n",
                "        -- counting number of order returns \n",
                "        COUNT(t2.Returned) AS sales_returned,\n",
                "        -- calculating percentage of orders that were returned\n",
                "        1.0 * COUNT(t2.Returned) / COUNT(*) AS pct_sales_returned\n",
                "    FROM logs as t1\n",
                "    LEFT JOIN (SELECT duration_seconds, ip, country, Returned\n",
                "    FROM logs \n",
                "    WHERE Returned = 'Yes') AS t2\n",
                "    ON t1.duration_seconds = t2.duration_seconds\n",
                "    AND t1.ip = t2.ip\n",
                "    GROUP BY t1.country)\n",
                "\n",
                "-- final query with percent of orders returned and percent of sales refunded\n",
                "SELECT TOP 5 CTE1.country, pct_sales_returned, pct_value_returned \n",
                "FROM returned_value AS CTE1\n",
                "    INNER JOIN returned_sales AS CTE2\n",
                "    ON CTE1.country = CTE2.country \n",
                "ORDER BY pct_sales_returned DESC, pct_value_returned DESC;\n",
                "\n",
                ""
            ],
            "metadata": {
                "language": "sql",
                "azdata_cell_guid": "345b24ef-7116-47f8-b846-4d6430801a74",
                "tags": []
            },
            "outputs": [
                {
                    "output_type": "display_data",
                    "data": {
                        "text/html": "Warning: Null value is eliminated by an aggregate or other SET operation."
                    },
                    "metadata": {}
                },
                {
                    "output_type": "display_data",
                    "data": {
                        "text/html": "(5 rows affected)"
                    },
                    "metadata": {}
                },
                {
                    "output_type": "display_data",
                    "data": {
                        "text/html": "Total execution time: 00:00:00.196"
                    },
                    "metadata": {}
                },
                {
                    "output_type": "execute_result",
                    "metadata": {},
                    "execution_count": 21,
                    "data": {
                        "application/vnd.dataresource+json": {
                            "schema": {
                                "fields": [
                                    {
                                        "name": "country"
                                    },
                                    {
                                        "name": "pct_sales_returned"
                                    },
                                    {
                                        "name": "pct_value_returned"
                                    }
                                ]
                            },
                            "data": [
                                {
                                    "country": "Nicaragua",
                                    "pct_sales_returned": "0.212962962962",
                                    "pct_value_returned": "0.21179128180131443"
                                },
                                {
                                    "country": "Oman",
                                    "pct_sales_returned": "0.212962962962",
                                    "pct_value_returned": "0.15195254761361243"
                                },
                                {
                                    "country": "Montenegro",
                                    "pct_sales_returned": "0.190277777777",
                                    "pct_value_returned": "0.2197341784693778"
                                },
                                {
                                    "country": "Puerto Rico",
                                    "pct_sales_returned": "0.184139784946",
                                    "pct_value_returned": "0.15605512400495514"
                                },
                                {
                                    "country": "Poland",
                                    "pct_sales_returned": "0.182870370370",
                                    "pct_value_returned": "0.14169463345436825"
                                }
                            ]
                        },
                        "text/html": [
                            "<table>",
                            "<tr><th>country</th><th>pct_sales_returned</th><th>pct_value_returned</th></tr>",
                            "<tr><td>Nicaragua</td><td>0.212962962962</td><td>0.21179128180131443</td></tr>",
                            "<tr><td>Oman</td><td>0.212962962962</td><td>0.15195254761361243</td></tr>",
                            "<tr><td>Montenegro</td><td>0.190277777777</td><td>0.2197341784693778</td></tr>",
                            "<tr><td>Puerto Rico</td><td>0.184139784946</td><td>0.15605512400495514</td></tr>",
                            "<tr><td>Poland</td><td>0.182870370370</td><td>0.14169463345436825</td></tr>",
                            "</table>"
                        ]
                    }
                }
            ],
            "execution_count": 21
        },
        {
            "cell_type": "markdown",
            "source": [
                "Nicaragua and Oman have the highest percentage of orders returned at 21.3%. This represents a possible opportunity to increase revenue by making the return policy more strict to attempt to lower the number of returned orders. The affect that a stricter return policy would have on customer experience should also be taken into account though.\n",
                "\n",
                "We will next look at the number of returns for each language. This will help inform us of any language/communication issues thay may be causing a higher rate of purchase returns."
            ],
            "metadata": {
                "language": "sql",
                "azdata_cell_guid": "2196e6be-9f8b-4054-b701-d886c76d165f"
            },
            "attachments": {}
        },
        {
            "cell_type": "code",
            "source": [
                "SELECT TOP 5 t1.Languages, \n",
                "        -- calculating percentage of orders that were returned\n",
                "        ROUND((1.0 * COUNT(t2.Returned) / COUNT(*)), 2) AS pct_orders_returned\n",
                "FROM logs as t1\n",
                "        LEFT JOIN (SELECT duration_seconds, ip, country, Returned\n",
                "        FROM logs \n",
                "        WHERE Returned = 'Yes') AS t2\n",
                "        ON t1.duration_seconds = t2.duration_seconds\n",
                "        AND t1.ip = t2.ip\n",
                "GROUP BY t1.Languages\n",
                "ORDER BY pct_orders_returned DESC;"
            ],
            "metadata": {
                "language": "sql",
                "azdata_cell_guid": "5a4c4188-7f38-49f6-bb67-9bd7f0522c7b",
                "tags": []
            },
            "outputs": [
                {
                    "output_type": "display_data",
                    "data": {
                        "text/html": "Warning: Null value is eliminated by an aggregate or other SET operation."
                    },
                    "metadata": {}
                },
                {
                    "output_type": "display_data",
                    "data": {
                        "text/html": "(5 rows affected)"
                    },
                    "metadata": {}
                },
                {
                    "output_type": "display_data",
                    "data": {
                        "text/html": "Total execution time: 00:00:00.144"
                    },
                    "metadata": {}
                },
                {
                    "output_type": "execute_result",
                    "metadata": {},
                    "execution_count": 7,
                    "data": {
                        "application/vnd.dataresource+json": {
                            "schema": {
                                "fields": [
                                    {
                                        "name": "Languages"
                                    },
                                    {
                                        "name": "pct_orders_returned"
                                    }
                                ]
                            },
                            "data": [
                                {
                                    "Languages": "marathi",
                                    "pct_orders_returned": "0.220000000000"
                                },
                                {
                                    "Languages": "romanian",
                                    "pct_orders_returned": "0.180000000000"
                                },
                                {
                                    "Languages": "kinyarwanda",
                                    "pct_orders_returned": "0.180000000000"
                                },
                                {
                                    "Languages": "polish",
                                    "pct_orders_returned": "0.170000000000"
                                },
                                {
                                    "Languages": "Slovak",
                                    "pct_orders_returned": "0.170000000000"
                                }
                            ]
                        },
                        "text/html": [
                            "<table>",
                            "<tr><th>Languages</th><th>pct_orders_returned</th></tr>",
                            "<tr><td>marathi</td><td>0.220000000000</td></tr>",
                            "<tr><td>romanian</td><td>0.180000000000</td></tr>",
                            "<tr><td>kinyarwanda</td><td>0.180000000000</td></tr>",
                            "<tr><td>polish</td><td>0.170000000000</td></tr>",
                            "<tr><td>Slovak</td><td>0.170000000000</td></tr>",
                            "</table>"
                        ]
                    }
                }
            ],
            "execution_count": 7
        },
        {
            "cell_type": "markdown",
            "source": [
                "Marathi, a language spoken in India, has the highest percentage for orders returned (4% above the second language). A statistical test should be performed to determine if this percentage is statistically significantly greater than the 2nd highest percentage. If it is, this indicates that higher return rates could be linked to translation issues with the language. This means customers could be misinformed about products, resulting in higher return rates. The impact of language on return rates should be further investigated for the website as a whole to idenitfy if that is a frequent issue.\n",
                "\n",
                "The membership types associated with online purchases will now be investigated per country. It is important to note that each count of a membership type represents an online purchase but not a unique individual (no unique identifiers are present in dataset). It is likely that premium members make more frequent purchases than normal and non-members. This category therefore investigates purchases per membership type and not individuals per membership type."
            ],
            "metadata": {
                "language": "sql",
                "azdata_cell_guid": "206e9b51-03e9-4b25-8375-50280b3fbcaa"
            },
            "attachments": {}
        },
        {
            "cell_type": "code",
            "source": [
                "-- first CTE for total website purchases per country\n",
                "WITH totals AS (\n",
                "    SELECT country, COUNT(*) AS total_purchases\n",
                "    FROM logs\n",
                "    GROUP BY country),\n",
                "\n",
                "-- second CTE for website purchases per membership type per country\n",
                "memberships AS (\n",
                "    SELECT country, membership, COUNT(1) AS website_purchase\n",
                "    FROM logs\n",
                "    GROUP BY country, membership)\n",
                "\n",
                "-- joining CTEs and calculating pct membership type for total purchases per country\n",
                "SELECT TOP 5 memberships.country, membership, website_purchase, 1.0 * website_purchase/total_purchases AS pct_visits\n",
                "FROM memberships\n",
                "    LEFT JOIN totals\n",
                "    ON memberships.country = totals.country\n",
                "ORDER BY country;"
            ],
            "metadata": {
                "language": "sql",
                "azdata_cell_guid": "dbf2198b-15b9-4dff-b5fd-97f398ce14f1"
            },
            "outputs": [
                {
                    "output_type": "display_data",
                    "data": {
                        "text/html": "(5 rows affected)"
                    },
                    "metadata": {}
                },
                {
                    "output_type": "display_data",
                    "data": {
                        "text/html": "Total execution time: 00:00:00.095"
                    },
                    "metadata": {}
                },
                {
                    "output_type": "execute_result",
                    "metadata": {},
                    "execution_count": 22,
                    "data": {
                        "application/vnd.dataresource+json": {
                            "schema": {
                                "fields": [
                                    {
                                        "name": "country"
                                    },
                                    {
                                        "name": "membership"
                                    },
                                    {
                                        "name": "website_purchase"
                                    },
                                    {
                                        "name": "pct_visits"
                                    }
                                ]
                            },
                            "data": [
                                {
                                    "country": "Albania",
                                    "membership": "Normal",
                                    "website_purchase": "646",
                                    "pct_visits": "0.349567099567"
                                },
                                {
                                    "country": "Albania",
                                    "membership": "Premium",
                                    "website_purchase": "1185",
                                    "pct_visits": "0.641233766233"
                                },
                                {
                                    "country": "Albania",
                                    "membership": "Not Logged In",
                                    "website_purchase": "17",
                                    "pct_visits": "0.009199134199"
                                },
                                {
                                    "country": "Antigua and Barbuda",
                                    "membership": "Not Logged In",
                                    "website_purchase": "20",
                                    "pct_visits": "0.008818342151"
                                },
                                {
                                    "country": "Antigua and Barbuda",
                                    "membership": "Normal",
                                    "website_purchase": "721",
                                    "pct_visits": "0.317901234567"
                                }
                            ]
                        },
                        "text/html": [
                            "<table>",
                            "<tr><th>country</th><th>membership</th><th>website_purchase</th><th>pct_visits</th></tr>",
                            "<tr><td>Albania</td><td>Normal</td><td>646</td><td>0.349567099567</td></tr>",
                            "<tr><td>Albania</td><td>Premium</td><td>1185</td><td>0.641233766233</td></tr>",
                            "<tr><td>Albania</td><td>Not Logged In</td><td>17</td><td>0.009199134199</td></tr>",
                            "<tr><td>Antigua and Barbuda</td><td>Not Logged In</td><td>20</td><td>0.008818342151</td></tr>",
                            "<tr><td>Antigua and Barbuda</td><td>Normal</td><td>721</td><td>0.317901234567</td></tr>",
                            "</table>"
                        ]
                    }
                }
            ],
            "execution_count": 22
        },
        {
            "cell_type": "markdown",
            "source": [
                "The browsers the e-commerce site is accessed from will now be investigated. It is important to look at which browsers are being used by customers to ensure proper functionailty across all popular options. It is also important that the website meets all country-specific regulations and requirements that may vary by browser."
            ],
            "metadata": {
                "language": "sql",
                "azdata_cell_guid": "efcc6745-3941-409b-aeeb-e2726f8a94c2"
            },
            "attachments": {}
        },
        {
            "cell_type": "code",
            "source": [
                "-- purchases per browser per country\n",
                "SELECT TOP 10 country, Accessed_From, COUNT(1) AS purchases\n",
                "FROM logs\n",
                "GROUP BY country, Accessed_From\n",
                "ORDER BY country;"
            ],
            "metadata": {
                "language": "sql",
                "azdata_cell_guid": "9d2f9e3e-0987-4dbe-aa7b-d5292dc61bbd"
            },
            "outputs": [
                {
                    "output_type": "display_data",
                    "data": {
                        "text/html": "(10 rows affected)"
                    },
                    "metadata": {}
                },
                {
                    "output_type": "display_data",
                    "data": {
                        "text/html": "Total execution time: 00:00:00.061"
                    },
                    "metadata": {}
                },
                {
                    "output_type": "execute_result",
                    "metadata": {},
                    "execution_count": 23,
                    "data": {
                        "application/vnd.dataresource+json": {
                            "schema": {
                                "fields": [
                                    {
                                        "name": "country"
                                    },
                                    {
                                        "name": "Accessed_From"
                                    },
                                    {
                                        "name": "purchases"
                                    }
                                ]
                            },
                            "data": [
                                {
                                    "country": "Albania",
                                    "Accessed_From": "Mozilla Firefox",
                                    "purchases": "292"
                                },
                                {
                                    "country": "Albania",
                                    "Accessed_From": "Chrome",
                                    "purchases": "299"
                                },
                                {
                                    "country": "Albania",
                                    "Accessed_From": "Others",
                                    "purchases": "281"
                                },
                                {
                                    "country": "Albania",
                                    "Accessed_From": "Android App",
                                    "purchases": "392"
                                },
                                {
                                    "country": "Albania",
                                    "Accessed_From": "Microsoft Edge",
                                    "purchases": "171"
                                },
                                {
                                    "country": "Albania",
                                    "Accessed_From": "Safari",
                                    "purchases": "180"
                                },
                                {
                                    "country": "Albania",
                                    "Accessed_From": "IOS App",
                                    "purchases": "233"
                                },
                                {
                                    "country": "Antigua and Barbuda",
                                    "Accessed_From": "Safari",
                                    "purchases": "210"
                                },
                                {
                                    "country": "Antigua and Barbuda",
                                    "Accessed_From": "Chrome",
                                    "purchases": "401"
                                },
                                {
                                    "country": "Antigua and Barbuda",
                                    "Accessed_From": "Microsoft Edge",
                                    "purchases": "189"
                                }
                            ]
                        },
                        "text/html": [
                            "<table>",
                            "<tr><th>country</th><th>Accessed_From</th><th>purchases</th></tr>",
                            "<tr><td>Albania</td><td>Mozilla Firefox</td><td>292</td></tr>",
                            "<tr><td>Albania</td><td>Chrome</td><td>299</td></tr>",
                            "<tr><td>Albania</td><td>Others</td><td>281</td></tr>",
                            "<tr><td>Albania</td><td>Android App</td><td>392</td></tr>",
                            "<tr><td>Albania</td><td>Microsoft Edge</td><td>171</td></tr>",
                            "<tr><td>Albania</td><td>Safari</td><td>180</td></tr>",
                            "<tr><td>Albania</td><td>IOS App</td><td>233</td></tr>",
                            "<tr><td>Antigua and Barbuda</td><td>Safari</td><td>210</td></tr>",
                            "<tr><td>Antigua and Barbuda</td><td>Chrome</td><td>401</td></tr>",
                            "<tr><td>Antigua and Barbuda</td><td>Microsoft Edge</td><td>189</td></tr>",
                            "</table>"
                        ]
                    }
                }
            ],
            "execution_count": 23
        },
        {
            "cell_type": "markdown",
            "source": [
                "These tables have been exported to Tableau to create insightful visualizations."
            ],
            "metadata": {
                "language": "sql",
                "azdata_cell_guid": "b2579bc0-d38a-4b65-89f3-5b32ba792d45"
            },
            "attachments": {}
        }
    ]
}